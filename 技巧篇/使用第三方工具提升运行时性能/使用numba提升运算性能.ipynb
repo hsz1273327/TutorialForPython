{
 "cells": [
  {
   "cell_type": "markdown",
   "metadata": {},
   "source": [
    "# 使用numba提升运算性能\n",
    "\n",
    "[numba](http://numba.pydata.org/)是专门利用llvm的jit技术加速python的技术,底层还是C.它并不具备扩展python功能的作用,但可以非常简单的加速python代码的执行.需要注意numba有代码预热,如果迭代太少反而会减低效率."
   ]
  },
  {
   "cell_type": "code",
   "execution_count": 1,
   "metadata": {},
   "outputs": [],
   "source": [
    "from numba import jit,int64,int32,float32,float64"
   ]
  },
  {
   "cell_type": "markdown",
   "metadata": {},
   "source": [
    "## 基本用法\n",
    "\n",
    "numba的基本用法就是利用python的装饰器装饰函数或类,在执行时就会根据不同的装饰器起到不同的作用.\n",
    "\n",
    "在提升python运算性能方面大致可以分为3种装饰器\n",
    "\n",
    "+ `@jit`(包括`@njit`,`@generated_jit()`等),装饰一个要提速的函数\n",
    "+ `@jitclass`,装饰一个要提速的类\n",
    "\n",
    "同时numba支持`parallel`和`fastmath`选项可以进一步用真多线程并行计算以及针对数学运算的专用库进行提速"
   ]
  },
  {
   "cell_type": "markdown",
   "metadata": {},
   "source": [
    "### 装饰器`@jit`\n",
    "\n",
    "装饰符`@jit`可以针对一个函数进行延迟编译并进行优化.它可以是一个不带参数的装饰器也可以是带参数的装饰器,其支持的参数按顺序包括:\n",
    "\n",
    "+ `signature=None`,指定函数签名,当指定了函数签名后numba可以根据指定的签名更好的静态化,从而提高运行效率\n",
    "+ `nopython=False`,强制使用`nopython`模式执行,当使用`nopython`模式时numba会将被装饰的函数进行编译,这样它就可以完全在没有Python解释器的情况下运行,也就可以有更好的运行性能;但如果设置`nopython=False`时numba也会优先使用`nopython`模式,当无法使用时才会回退到`object`模式.在`object`模式下numba将识别可以编译的循环,并将其编译成在机器代码中运行的函数然后在解释器中运行其余代码.\n",
    "+ `nogil=False`, 使函数不受gil限制,这只会在`nopython`模式下执行时生效\n",
    "+ `cache=False`, 指定是否使用编译缓存,当启用时函数的编译结果会留下缓存.当被调用时有缓存时则会加载缓存而不是重新编译.缓存默认保存在包含源文件的目录的`__pycache__`子目录中,但如果没有对这个目录的写权限则会回退保存到平台的当前用户的缓存目录中(例如Unix平台上的`$HOME/.cache/numbera`).并不是所有的函数都可以缓存,因为有些函数不能始终保存到磁盘上.当函数无法缓存时numba会发出警告.\n",
    "+ `forceobj=False`, 强制使用`object`模式运行.\n",
    "+ `parallel=False`, 指定是否并行计算,这边的并行化主要针对numpy优化\n",
    "+ `error_model='python'`, 指定除0错误的行为模式,可选的有`numpy`和`python`\n",
    "+ `fastmath=False`,指定是否使用`fastmath`针对数值计算做额外优化\n",
    "+ `locals={}`, 指定函数的本地变量的类型,类似指定函数签名,也是起到静态化提高运行效率的作用\n",
    "+ `boundscheck=False`,函数不做边界检查\n",
    "\n",
    "装饰器`@jit`有几个扩展,他们是:\n",
    "\n",
    "+ `@njit`,`@jit(nopython=True)`的缩写,numba官方推荐更多的使用`nopython`模式,因此我们通常也更常用它.它的其他参数和`@jit`一致\n",
    "+ `@generated_jit`,允许动态生成编译结果的`@jit`,用在函数的输入类型不固定时\n",
    "\n",
    "最简单的用法就是直接使用`@jit`装饰你需要加速的函数,比如一个函数:\n",
    "\n",
    "```python\n",
    "def f_org(x, y):\n",
    "    # A somewhat trivial example\n",
    "    return x + y\n",
    "```"
   ]
  },
  {
   "cell_type": "code",
   "execution_count": 1,
   "metadata": {
    "tags": []
   },
   "outputs": [],
   "source": [
    "from numba import njit\n",
    "\n",
    "@njit\n",
    "def f(x, y):\n",
    "    # A somewhat trivial example\n",
    "    return x + y"
   ]
  },
  {
   "cell_type": "code",
   "execution_count": 3,
   "metadata": {
    "tags": []
   },
   "outputs": [
    {
     "data": {
      "text/plain": [
       "3"
      ]
     },
     "execution_count": 3,
     "metadata": {},
     "output_type": "execute_result"
    }
   ],
   "source": [
    "f(1, 2)"
   ]
  },
  {
   "cell_type": "code",
   "execution_count": 4,
   "metadata": {
    "tags": []
   },
   "outputs": [
    {
     "data": {
      "text/plain": [
       "(2+1j)"
      ]
     },
     "execution_count": 4,
     "metadata": {},
     "output_type": "execute_result"
    }
   ],
   "source": [
    "f(1j, 2)"
   ]
  },
  {
   "cell_type": "markdown",
   "metadata": {},
   "source": [
    "#### 体验加速\n",
    "\n",
    "我们来看看加速的效果怎么样"
   ]
  },
  {
   "cell_type": "code",
   "execution_count": 9,
   "metadata": {
    "tags": []
   },
   "outputs": [
    {
     "name": "stdout",
     "output_type": "stream",
     "text": [
      "Result from python is -120.81653580794645 in 1.600027084350586 (msec)\n",
      "Result from compiled is -120.81653580794645 in 0.046253204345703125 (msec)\n",
      "Speed up is 34.59278350515464\n"
     ]
    }
   ],
   "source": [
    "import time\n",
    "from numpy import random\n",
    "from numba import double\n",
    "from numba import njit as jit\n",
    "\n",
    "def sum2d(arr):\n",
    "    M, N = arr.shape\n",
    "    result = 0.0\n",
    "    for i in range(M):\n",
    "        for j in range(N):\n",
    "            result += arr[i,j]\n",
    "    return result\n",
    "\n",
    "jitsum2d = jit(sum2d)\n",
    "csum2d = jitsum2d.compile(double(double[:,::1]))\n",
    "\n",
    "arr = random.randn(100, 100)\n",
    "\n",
    "start = time.time()\n",
    "res = sum2d(arr)\n",
    "duration = time.time() - start\n",
    "print(\"Result from python is %s in %s (msec)\" % (res, duration*1000))\n",
    "\n",
    "csum2d(arr)       # warm up\n",
    "\n",
    "start = time.time()\n",
    "res = csum2d(arr)\n",
    "duration2 = time.time() - start\n",
    "print(\"Result from compiled is %s in %s (msec)\" % (res, duration2*1000))\n",
    "\n",
    "print(\"Speed up is %s\" % (duration / duration2))"
   ]
  },
  {
   "cell_type": "markdown",
   "metadata": {},
   "source": [
    "上面这个例子中,相同的函数,使用numba加速可以快近35倍."
   ]
  },
  {
   "cell_type": "markdown",
   "metadata": {},
   "source": [
    "#### 使用`@jit`标注类型快速编译\n",
    "\n",
    "通过指定函数的签名类型以及本地变量类型可以帮助numba更好的编译,从而提高效率.\n",
    "\n",
    "numba提供了如下变量名用于指定类型,基础类型包括:\n",
    "\n",
    "类型名|简写|说明\n",
    "---|---|---\n",
    "`boolean`|`b1`| 布尔类型\n",
    "`uint8`,`byte`|`u1`|8位长度的无标记字节\n",
    "`uint16`|`u2`|16位长度无标记整型\n",
    "`uint32`|`u4`|32位长度无标记整型\n",
    "`uint64`|`u8`|64位长度无标记整型\n",
    "`int8`,`char`|`i1`|8位长度的有标记字节\n",
    "`int16`|`i2`|16位长度有标记整型\n",
    "`int32`|`i4`|32位长度有标记整型\n",
    "`int64`|`i8`|64位长度有标记整型\n",
    "`intc`|---|C语言中int长度的整型\n",
    "`uintc`|---|C语言中int长度的无标记整型\n",
    "`intp`|---|指针长度整型\n",
    "`uintp`|---|指针长度无标记整型\n",
    "`ssize_t`|---|C语言中的`ssize_t`\n",
    "`size_t`|---|C语言中的`size_t`\n",
    "`float32`|`f4`|单精度浮点数\n",
    "`float64`,`double`|`f8`|双精度浮点数\n",
    "`complex64`|`c8`|单精度复数\n",
    "`complex128`|`c16`|双精度复数\n",
    "\n",
    "numba同样支持数组,其写法就是在基础类型后面加`[:]`,`[]`中的内容可以是如下形式,基本就是通用的连续内存表示形式:\n",
    "\n",
    "+ `int32[:]`表示int32类型的1维数组\n",
    "+ `int32[:,:]`表示int32类型的2维数组\n",
    "\n",
    "可以用`::1`来表示内存连续性,规则也是和其他地方一致的\n",
    "\n",
    "此外还有特殊类型`void`用于标注函数无返回,以及修饰函数`optional(基础类型)`用于标注变量可以为空\n",
    "\n",
    "\n",
    "标注函数签名使用参数`signature`,其形式为`返回值类型(参数1类型,参数2类型,...)`可以是函数形式也可以是字符串形式\n",
    "\n",
    "```python\n",
    "from numba import njit,int32\n",
    "\n",
    "@njit(int32(int32, int32))\n",
    "def fint(x, y):\n",
    "    # A somewhat trivial example\n",
    "    return x + y\n",
    "```\n",
    "\n",
    "等价于\n",
    "\n",
    "```python\n",
    "from numba import njit\n",
    "\n",
    "@njit(signature = \"int32(int32, int32)\")\n",
    "def fint(x, y):\n",
    "    # A somewhat trivial example\n",
    "    return x + y\n",
    "```"
   ]
  },
  {
   "cell_type": "markdown",
   "metadata": {},
   "source": [
    "#### `@jit`装饰函数的调用\n",
    "\n",
    "在`@jit`装饰器外部调用`@jit`装饰的函数和调用普通函数是一样的,上面已有演示.\n",
    "\n",
    "但如果调用行为在`@jit`装饰器装饰的函数内部则需要注意,被调用的函数也必须被`@jit`所装饰,否则会拖慢运算."
   ]
  },
  {
   "cell_type": "code",
   "execution_count": 10,
   "metadata": {
    "tags": []
   },
   "outputs": [],
   "source": [
    "import math\n",
    "@njit\n",
    "def square(x):\n",
    "    return x ** 2\n",
    "\n",
    "@njit\n",
    "def hypot(x, y):\n",
    "    return math.sqrt(square(x) + square(y))"
   ]
  },
  {
   "cell_type": "code",
   "execution_count": 11,
   "metadata": {
    "tags": []
   },
   "outputs": [
    {
     "data": {
      "text/plain": [
       "2.23606797749979"
      ]
     },
     "execution_count": 11,
     "metadata": {},
     "output_type": "execute_result"
    }
   ],
   "source": [
    "hypot(1,2)"
   ]
  },
  {
   "cell_type": "markdown",
   "metadata": {},
   "source": [
    "#### 突破gil限制\n",
    "\n",
    "我们知道python受gil限制,使用`nogil`这个参数可以突破限制,但要注意解决线程冲突,资源争抢等问题,因此一旦开启,其包装的函数就需要谨慎编写了.\n",
    "\n",
    "下面这个例子我们进行一个矩阵计算,将两个同维的矩阵每一位分别乘以一个倍数后相加再平方."
   ]
  },
  {
   "cell_type": "code",
   "execution_count": 23,
   "metadata": {
    "tags": []
   },
   "outputs": [
    {
     "name": "stdout",
     "output_type": "stream",
     "text": [
      "numpy (1 thread)    \n",
      "   66 ms\n",
      "numba (1 thread)    \n",
      "   42 ms\n",
      "numba (4 threads)   \n",
      "   15 ms\n"
     ]
    },
    {
     "data": {
      "text/plain": [
       "array([ 7.62183712, 42.92231867,  1.63570813, ...,  6.25215369,\n",
       "       11.4994343 ,  3.65032141])"
      ]
     },
     "execution_count": 23,
     "metadata": {},
     "output_type": "execute_result"
    }
   ],
   "source": [
    "import math\n",
    "import threading\n",
    "from timeit import repeat\n",
    "\n",
    "import numpy as np\n",
    "from numba import njit\n",
    "\n",
    "nthreads = 4\n",
    "size = int(1e6)\n",
    "\n",
    "def func_np(a, b):\n",
    "    \"\"\"numpy计算的函数.\"\"\"\n",
    "    return np.exp(2.1 * a + 3.2 * b)\n",
    "\n",
    "@njit('void(double[:], double[:], double[:])',nogil=True)\n",
    "def inner_func_nb(result, a, b):\n",
    "    \"\"\"待测试的函数.\"\"\"\n",
    "    for i in range(len(result)):\n",
    "        result[i] = math.exp(2.1 * a[i] + 3.2 * b[i])\n",
    "\n",
    "def timefunc(correct, s, func, *args, **kwargs):\n",
    "    \"\"\"计时程序,用于做Benchmark.\"\"\"\n",
    "    print(s.ljust(20))\n",
    "    # Make sure the function is compiled before we start the benchmark\n",
    "    res = func(*args, **kwargs)\n",
    "    if correct is not None:\n",
    "        assert np.allclose(res, correct), (res, correct)\n",
    "    # time it\n",
    "    print('{:>5.0f} ms'.format(min(repeat(lambda: func(*args, **kwargs),\n",
    "                                          number=5, repeat=2)) * 1000))\n",
    "    return res\n",
    "\n",
    "def make_singlethread(inner_func):\n",
    "    \"\"\"单线程计算.\"\"\"\n",
    "    def func(*args):\n",
    "        length = len(args[0])\n",
    "        result = np.empty(length, dtype=np.float64)\n",
    "        inner_func(result, *args)\n",
    "        return result\n",
    "    return func\n",
    "\n",
    "def make_multithread(inner_func, numthreads):\n",
    "    \"\"\"多线程计算.\"\"\"\n",
    "    def func_mt(*args):\n",
    "        length = len(args[0])\n",
    "        result = np.empty(length, dtype=np.float64)\n",
    "        args = (result,) + args\n",
    "        chunklen = (length + numthreads - 1) // numthreads\n",
    "        # Create argument tuples for each input chunk\n",
    "        chunks = [[arg[i * chunklen:(i + 1) * chunklen] for arg in args]\n",
    "                  for i in range(numthreads)]\n",
    "        # Spawn one thread per chunk\n",
    "        threads = [threading.Thread(target=inner_func, args=chunk)\n",
    "                   for chunk in chunks]\n",
    "        for thread in threads:\n",
    "            thread.start()\n",
    "        for thread in threads:\n",
    "            thread.join()\n",
    "        return result\n",
    "    return func_mt\n",
    "\n",
    "\n",
    "func_nb = make_singlethread(inner_func_nb)\n",
    "func_nb_mt = make_multithread(inner_func_nb, nthreads)\n",
    "\n",
    "a = np.random.rand(size)\n",
    "b = np.random.rand(size)\n",
    "\n",
    "correct = timefunc(None, \"numpy (1 thread)\", func_np, a, b)\n",
    "timefunc(correct, \"numba (1 thread)\", func_nb, a, b)\n",
    "timefunc(correct, \"numba (%d threads)\" % nthreads, func_nb_mt, a, b)"
   ]
  },
  {
   "cell_type": "markdown",
   "metadata": {},
   "source": [
    "可以看到性能的提升相当明显"
   ]
  },
  {
   "cell_type": "markdown",
   "metadata": {
    "tags": []
   },
   "source": [
    "#### 使用`@generated_jit()`编译时控制特殊化选项\n",
    "\n",
    "`@jit`通常已经够用了,但如果你想编写一个实现由输入参数类型决定的函数时`@jit`并不能有效的加速,这时候就可以使用`@generated_jit`了.`@generated_jit`装饰器允许用户在编译时控制特殊化的选择,同时充分保留jit函数的运行时执行速度.\n",
    "\n",
    "其可以填入的参数多数和`@jit`相同,按顺序如下:\n",
    "\n",
    "+ `nopython=False`\n",
    "+ `nogil=False`\n",
    "+ `cache=False`\n",
    "+ `forceobj=False`\n",
    "+ `locals={}`\n",
    "\n",
    "\n",
    "下面这个例子中,我们根据参数的类型来用不同的方式判断输入参数是否是一个\"缺失值\".我们采用以下定义:\n",
    "\n",
    "+ 对于浮点参数,缺失值是`NaN`\n",
    "+ Numpy的`datetime64`和`timedelta64`类型参数,缺失值是`NaT`\n",
    "+ 其他类型没有缺失值的概念。"
   ]
  },
  {
   "cell_type": "code",
   "execution_count": 24,
   "metadata": {
    "tags": []
   },
   "outputs": [
    {
     "name": "stderr",
     "output_type": "stream",
     "text": [
      "/Users/mac/micromamba/envs/py3.10/lib/python3.10/site-packages/numba/core/decorators.py:262: NumbaDeprecationWarning: \u001b[1mnumba.generated_jit is deprecated. Please see the documentation at: https://numba.readthedocs.io/en/stable/reference/deprecation.html#deprecation-of-generated-jit for more information and advice on a suitable replacement.\u001b[0m\n",
      "  warnings.warn(msg, NumbaDeprecationWarning)\n"
     ]
    }
   ],
   "source": [
    "import numpy as np\n",
    "\n",
    "from numba import generated_jit, types\n",
    "\n",
    "@generated_jit(nopython=True)\n",
    "def is_missing(x):\n",
    "    \"\"\"判断x是否为缺失值.\"\"\"\n",
    "    if isinstance(x, types.Float):\n",
    "        return lambda x: np.isnan(x)\n",
    "    elif isinstance(x, (types.NPDatetime, types.NPTimedelta)):\n",
    "        # The corresponding Not-a-Time value\n",
    "        missing = x('NaT')\n",
    "        return lambda x: x == missing\n",
    "    else:\n",
    "        return lambda x: False"
   ]
  },
  {
   "cell_type": "code",
   "execution_count": 25,
   "metadata": {
    "tags": []
   },
   "outputs": [
    {
     "data": {
      "text/plain": [
       "False"
      ]
     },
     "execution_count": 25,
     "metadata": {},
     "output_type": "execute_result"
    }
   ],
   "source": [
    "is_missing(12)"
   ]
  },
  {
   "cell_type": "code",
   "execution_count": 26,
   "metadata": {
    "tags": []
   },
   "outputs": [
    {
     "data": {
      "text/plain": [
       "True"
      ]
     },
     "execution_count": 26,
     "metadata": {},
     "output_type": "execute_result"
    }
   ],
   "source": [
    "is_missing(np.NaN)"
   ]
  },
  {
   "cell_type": "markdown",
   "metadata": {},
   "source": [
    "这里有几点要注意:\n",
    "\n",
    "+ 装饰函数实际上不计算结果,它**返回一个可调用的实现给定类型的函数**的实际定义.\n",
    "+ 返回的函数的形参名称需要与`@generated_jit`装饰的函数的**形参名字相同**,以确保通过名称传递参数按预期工作.\n",
    "+ 装饰函数使用参数的Numba类型调用而不是它们的值.\n",
    "+ 可以在编译时预先计算一些数据(上面缺少的变量),以便在编译的实现中重用它们.\n"
   ]
  },
  {
   "cell_type": "markdown",
   "metadata": {},
   "source": [
    "### 使用`@jitclass`编译python的类\n",
    "\n",
    "Numba支持通过`@jitclass`装饰器装饰一个类,使其中的字段被转存到堆内可以跳过python解释器被`nopython`模式的函数访问,同时使其绑定的方法都被编译成`nopython`模式的函数.\n",
    "\n",
    "\n",
    "`@jitclass`装饰的类属性需要声明类型,我们可以直接使用python的typehints语法声明也可以通过`@jitclass`的参数`spec`申明,当参数`spec`中有对对应字段的申明时numba使用参数`spec`中的声明,否则使用typehints语法声明自动推导的结果.typehints声明并不需要指定numba中的类型,和正常python类型标注一样就可以,numba会自己做推导.需要注意如果有字段是numpy的数组,这个用typehints目前无法准确声明,因此这种类型的字段必须在参数`spec`中声明.\n",
    "\n",
    "`@jitclass`装饰的类必须至少有个自定义的`__init__`方法用于给定义的字段提供默认值"
   ]
  },
  {
   "cell_type": "code",
   "execution_count": 50,
   "metadata": {
    "tags": []
   },
   "outputs": [],
   "source": [
    "import numpy as np\n",
    "from numba.experimental import jitclass          # import the decorator\n",
    "from numba import int32, float32    # import the types\n",
    "\n",
    "spec = [   \n",
    "    ('array', float32[:]),          # an array field\n",
    "]\n",
    "\n",
    "@jitclass(spec)\n",
    "class Bag(object):\n",
    "    value: int\n",
    "    array: list[float]\n",
    "    def __init__(self, value: int):\n",
    "        self.value = value\n",
    "        self.array = np.zeros(value, dtype=np.float32)\n",
    "\n",
    "    @property\n",
    "    def size(self):\n",
    "        return self.array.size\n",
    "\n",
    "    def increment(self, val):\n",
    "        for i in range(self.size):\n",
    "            self.array[i] = val\n",
    "        return self.array"
   ]
  },
  {
   "cell_type": "code",
   "execution_count": 51,
   "metadata": {
    "tags": []
   },
   "outputs": [
    {
     "name": "stdout",
     "output_type": "stream",
     "text": [
      "isinstance(mybag, Bag) True\n",
      "mybag.value 21\n",
      "mybag.array [0. 0. 0. 0. 0. 0. 0. 0. 0. 0. 0. 0. 0. 0. 0. 0. 0. 0. 0. 0. 0.]\n",
      "mybag.size 21\n",
      "mybag.increment(3) [3. 3. 3. 3. 3. 3. 3. 3. 3. 3. 3. 3. 3. 3. 3. 3. 3. 3. 3. 3. 3.]\n",
      "mybag.increment(6) [6. 6. 6. 6. 6. 6. 6. 6. 6. 6. 6. 6. 6. 6. 6. 6. 6. 6. 6. 6. 6.]\n"
     ]
    }
   ],
   "source": [
    "mybag = Bag(21)\n",
    "print('isinstance(mybag, Bag)', isinstance(mybag, Bag))\n",
    "print('mybag.value', mybag.value)\n",
    "print('mybag.array', mybag.array)\n",
    "print('mybag.size', mybag.size)\n",
    "print('mybag.increment(3)', mybag.increment(3))\n",
    "print('mybag.increment(6)', mybag.increment(6))"
   ]
  },
  {
   "cell_type": "markdown",
   "metadata": {},
   "source": [
    "`@jitclass`的使用有如下注意点:\n",
    "\n",
    "+ `@jitclass`装饰的类对象被视为numba编译函数中的函数(构造函数)\n",
    "\n",
    "+ `isinstance()`只在python解释器中起作用\n",
    "\n",
    "+ 在解释器中操作`@jitclass`装饰的类的实例实例时尚未优化\n",
    "\n",
    "+ 对`@jitclass`的支持仅在CPU上可用\n"
   ]
  },
  {
   "cell_type": "markdown",
   "metadata": {},
   "source": [
    "## numba装饰器中函数的使用限制\n",
    "\n",
    "被numba装饰器装饰的函数其中的代码并非支持全部python语法,下面是使用限制\n",
    "\n",
    "### 完全支持的python语法\n",
    "\n",
    "1. 条件语法: `if .. elif .. else`\n",
    "\n",
    "2. 循环语法:`while`,`for .. in`,`break`,`continue`\n",
    "\n",
    "3. 生成器语法: `yield`\n",
    "\n",
    "4. 断言语法: `assert`\n",
    "\n",
    "### 部分支持的语法\n",
    "\n",
    "+ 异常语法: `try .. except ... else ... finally `, `raise`,限制是只能捕获异常基类`Exception`和它的子类,同时会屏蔽`KeyboardInterrupt`,`SystemExit`这两个由系统信号引起的异常.\n",
    "\n",
    "+ 上下文管理器: `with`,仅支持`numba.objmode()`这一种上下文管理器\n",
    "\n",
    "+ 函数动态参数: 支持`*args`,但对应的`args`类型为tuple,不支持`**kwargs`\n",
    "\n",
    "+ 高级函数: 支持函数作为参数,但不支持函数作为返回值\n",
    "\n",
    "+ 内部函数: 仅支持非递归的内部函数\n",
    "\n",
    "+ 递归调用: 支持大多数递归调用模式,唯一的限制是递归被调用者必须有一个返回时不递归的控制流路径\n",
    "\n",
    "+ 标准容器: 都支持,包括`str`类型也支持大多数内置方法,但`tuple`无法使用`tuple(x)`的形式构造;`list`,`set`和`dict`必须严格同构,且类型需要预先已经被编译.且只有符合这些要求的容器可以使用解析语法.\n",
    "\n",
    "### 不支持的语法\n",
    "\n",
    "+ 异步语法: `async with`,`async for`,`async def`,`await`\n",
    "\n",
    "+ 类定义: `class`(我们应该在外部使用`@jitclass`定义用到的类)\n",
    "\n",
    "+ 生成器委托语法: `yield from`\n",
    "\n",
    "+ 其他较新的语法糖如模式匹配等\n",
    "\n",
    "### 与python行为不一致的地方\n",
    "\n",
    "\n",
    "### 支持的内置函数\n",
    "\n",
    "仅支持如下内置函数(不算内置类型的构造函数)\n",
    "\n",
    "内置函数|限制\n",
    "---|---\n",
    "`abs()`|---\n",
    "`chr()`|---\n",
    "`divmod()`|---\n",
    "`enumerate()`|---\n",
    "`filter()`|---\n",
    "`getattr()`|属性必须为字符串且返回值不能为函数\n",
    "`hasattr()`|---\n",
    "`hash()`|---\n",
    "`iter()`|仅支持单参数版本\n",
    "`isinstance()`|---\n",
    "`len()`|---\n",
    "`min()`|---\n",
    "`map()`|---\n",
    "`max()`|---\n",
    "`next()`|仅支持单参数版本\n",
    "`ord()`|---\n",
    "`print()`|仅支持单参数版本\n",
    "`range()`|不能将其作为参数传递\n",
    "`repr()`|---\n",
    "`round()`|---\n",
    "`sorted()`|不支持`key`参数\n",
    "`sum()`|---\n",
    "`type()`|仅支持部分类型,仅支持单参数版本\n",
    "`zip()`|---\n",
    "\n",
    "### 支持的标准库\n",
    "\n",
    "支持的标准库如下:\n",
    "\n",
    "标准库|限制\n",
    "---|---\n",
    "`array`|不支持类型代码`u`\n",
    "`cmath`|支持[部分函数](https://numba.readthedocs.io/en/stable/reference/pysupported.html#cmath)\n",
    "`collections`|不支持`collections.namedtuple()`\n",
    "`ctypes`|支持[以特定类型作为参数和返回值的接口](https://numba.readthedocs.io/en/stable/reference/pysupported.html#ctypes)\n",
    "`enum`|支持`enum.Enum`和`enum.IntEnum`的子类\n",
    "`math`|支持[部分函数](https://numba.readthedocs.io/en/stable/reference/pysupported.html#math)\n",
    "`operator`|支持[部分函数](https://numba.readthedocs.io/en/stable/reference/pysupported.html#operator)\n",
    "`functools`|仅支持`functools.reduce()`且必须填入参数`initializer`\n",
    "`random`|仅支持[部分函数](https://numba.readthedocs.io/en/stable/reference/pysupported.html#random),更多的时候推荐使用numpy的随机功能\n",
    "`heapq`|支持[部分函数](https://numba.readthedocs.io/en/stable/reference/pysupported.html#heapq)\n"
   ]
  },
  {
   "cell_type": "markdown",
   "metadata": {},
   "source": [
    "## 总结\n",
    "\n",
    "可以看出numba是为高性能计算设计的python性能提升工具,主要针对计算密集型任务,数值计算为主.在满足它要求的情况下确实可以大幅提高python程序的执行效率.但使用限制还是比较多的,编码时要是有不少要注意的方面."
   ]
  }
 ],
 "metadata": {
  "kernelspec": {
   "display_name": "Python 3 (ipykernel)",
   "language": "python",
   "name": "python3"
  },
  "language_info": {
   "codemirror_mode": {
    "name": "ipython",
    "version": 3
   },
   "file_extension": ".py",
   "mimetype": "text/x-python",
   "name": "python",
   "nbconvert_exporter": "python",
   "pygments_lexer": "ipython3",
   "version": "3.10.12"
  }
 },
 "nbformat": 4,
 "nbformat_minor": 4
}
