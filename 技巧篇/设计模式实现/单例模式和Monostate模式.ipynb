{
 "cells": [
  {
   "cell_type": "markdown",
   "metadata": {},
   "source": [
    "# 单例模式\n",
    "\n",
    "\n",
    "假设这边有这样一个场景:\n",
    "\n",
    "我们要描述一个现代家庭(丈夫,妻子,孩子),那就就应该是不管怎么样都只有一个丈夫,一个妻子,但是孩子可以数量不定.因此丈夫这个类型在这个系统中就是特指,妻子也是特指,而孩子就是泛指所有的孩子.\n",
    "\n",
    "使用面向对象的思想来看,丈夫妻子都既是类,又各特指一个固定的实例.因此应该是单例模式,而孩子是一个类型,是泛指一类对象.\n",
    "\n",
    "\n",
    "单例模式实际上可以类比全局变量,只是全局变量对应的是变量,而单例模式则是全局类特指固定的实例.\n",
    "\n",
    "\n",
    "说道底什么是单例模式呢?\n",
    "\n",
    "**确保类有且只有一个特定类型的对象,并提供全局的访问点.**\n",
    "\n",
    "可以看出单例模式是一个面向对象编程范式的扩展,它必须完全依托于面向对象编程.\n",
    "\n",
    "最常见的单例模式应用场景像日志记录,数据库操作,打印机后台,全局累加器等.\n",
    "\n",
    "\n",
    "\n",
    "## 实现思路\n",
    "\n",
    "单例模式无非是想让每次调用类的构造函数时返回的是一个统一的实例.因此python来实现的思路就是:\n",
    "\n",
    "1. 找个地方存放类和实例的映射\n",
    "2. 修改类的构造过程,使每次构造过程都返回固定的实例"
   ]
  },
  {
   "cell_type": "markdown",
   "metadata": {},
   "source": [
    "## 使用元类构造单例\n",
    "\n",
    "我们知道元类可以构造类.只要重载其`__call__`方法即可.因此可以使用如下的元类来构建"
   ]
  },
  {
   "cell_type": "code",
   "execution_count": 15,
   "metadata": {},
   "outputs": [],
   "source": [
    "singleton_instances={}\n",
    "\n",
    "class SingletonMeta(type):    \n",
    "    def __call__(cls,*args,**kwargs):\n",
    "        if cls not in singleton_instances:\n",
    "            singleton_instances[cls] = super().__call__(*args,**kwargs)\n",
    "        return singleton_instances[cls]\n",
    "    \n",
    "class SingletonAbc(metaclass = SingletonMeta):\n",
    "    pass\n",
    "\n",
    "class C_Mixin:\n",
    "    def func(self):\n",
    "        print(f\"a:{self.a};b:{self.b}\")\n",
    "        \n",
    "        \n",
    "class B(C_Mixin,SingletonAbc):\n",
    "    def __init__(self,a,b):\n",
    "        self.a = a\n",
    "        self.b = b\n",
    "        \n",
    "class C(B):\n",
    "    pass"
   ]
  },
  {
   "cell_type": "code",
   "execution_count": 16,
   "metadata": {},
   "outputs": [
    {
     "name": "stdout",
     "output_type": "stream",
     "text": [
      "a:1;b:2\n"
     ]
    }
   ],
   "source": [
    "b = B(1,2)\n",
    "b.func()"
   ]
  },
  {
   "cell_type": "code",
   "execution_count": 17,
   "metadata": {},
   "outputs": [
    {
     "name": "stdout",
     "output_type": "stream",
     "text": [
      "a:1;b:2\n"
     ]
    }
   ],
   "source": [
    "bb = B(11,22)\n",
    "bb.func()"
   ]
  },
  {
   "cell_type": "code",
   "execution_count": 19,
   "metadata": {},
   "outputs": [
    {
     "name": "stdout",
     "output_type": "stream",
     "text": [
      "a:2;b:3\n"
     ]
    }
   ],
   "source": [
    "c = C(2,3)\n",
    "c.func()"
   ]
  },
  {
   "cell_type": "code",
   "execution_count": 20,
   "metadata": {},
   "outputs": [
    {
     "name": "stdout",
     "output_type": "stream",
     "text": [
      "a:2;b:3\n"
     ]
    }
   ],
   "source": [
    "c = C(22,33)\n",
    "c.func()"
   ]
  },
  {
   "cell_type": "code",
   "execution_count": 21,
   "metadata": {},
   "outputs": [
    {
     "data": {
      "text/plain": [
       "{__main__.B: <__main__.B at 0x10ccd04a8>,\n",
       " __main__.C: <__main__.C at 0x10ccd03c8>}"
      ]
     },
     "execution_count": 21,
     "metadata": {},
     "output_type": "execute_result"
    }
   ],
   "source": [
    "singleton_instances"
   ]
  },
  {
   "cell_type": "markdown",
   "metadata": {},
   "source": [
    "## 覆写`__new__`方法构建单例\n",
    "\n",
    "我们知道`__neww__`方法可以定义实例化的的行为,因此也可以通过这种方式来构建单例"
   ]
  },
  {
   "cell_type": "code",
   "execution_count": 68,
   "metadata": {},
   "outputs": [],
   "source": [
    "class AA:\n",
    "    def __new__(cls,*args,**kwargs):\n",
    "        print(__name__+\".\"+cls.__name__)\n",
    "        if not singleton_instances.get(cls):\n",
    "            try:\n",
    "                temp = super(AA,cls).__new__(cls,*args,**kwargs)\n",
    "            except TypeError as te:\n",
    "                temp = object.__new__(cls)\n",
    "            except Exception as e:\n",
    "                raise e\n",
    "            finally:\n",
    "                singleton_instances[cls]=temp\n",
    "        return singleton_instances[cls]\n",
    "    \n",
    "    def __init__(self,a,b):\n",
    "        self.a=a\n",
    "        self.b=b\n",
    "        \n",
    "    def func(self):\n",
    "        print(f\"a:{self.a};b:{self.b}\")"
   ]
  },
  {
   "cell_type": "code",
   "execution_count": 69,
   "metadata": {},
   "outputs": [
    {
     "name": "stdout",
     "output_type": "stream",
     "text": [
      "__main__.AA\n"
     ]
    }
   ],
   "source": [
    "aa = AA(1,2)"
   ]
  },
  {
   "cell_type": "code",
   "execution_count": 51,
   "metadata": {},
   "outputs": [
    {
     "name": "stdout",
     "output_type": "stream",
     "text": [
      "a:13;b:22\n"
     ]
    }
   ],
   "source": [
    "aa.func()"
   ]
  },
  {
   "cell_type": "code",
   "execution_count": 46,
   "metadata": {},
   "outputs": [
    {
     "name": "stdout",
     "output_type": "stream",
     "text": [
      "a:11;b:22\n"
     ]
    }
   ],
   "source": [
    "aaaa = AA(11,22)\n",
    "aaaa.func()"
   ]
  },
  {
   "cell_type": "code",
   "execution_count": 52,
   "metadata": {},
   "outputs": [
    {
     "name": "stdout",
     "output_type": "stream",
     "text": [
      "a:13;b:22\n"
     ]
    }
   ],
   "source": [
    "aaaa.func()"
   ]
  },
  {
   "cell_type": "code",
   "execution_count": 49,
   "metadata": {},
   "outputs": [],
   "source": [
    "aa.a = 13"
   ]
  },
  {
   "cell_type": "code",
   "execution_count": 50,
   "metadata": {},
   "outputs": [
    {
     "data": {
      "text/plain": [
       "13"
      ]
     },
     "execution_count": 50,
     "metadata": {},
     "output_type": "execute_result"
    }
   ],
   "source": [
    "aaaa.a"
   ]
  },
  {
   "cell_type": "code",
   "execution_count": 57,
   "metadata": {},
   "outputs": [
    {
     "data": {
      "text/plain": [
       "False"
      ]
     },
     "execution_count": 57,
     "metadata": {},
     "output_type": "execute_result"
    }
   ],
   "source": [
    "list(singleton_instances.keys())[-1] == list(singleton_instances.keys())[-2]"
   ]
  },
  {
   "cell_type": "code",
   "execution_count": 58,
   "metadata": {},
   "outputs": [
    {
     "data": {
      "text/plain": [
       "__main__.AA"
      ]
     },
     "execution_count": 58,
     "metadata": {},
     "output_type": "execute_result"
    }
   ],
   "source": [
    "list(singleton_instances.keys())[-1]"
   ]
  },
  {
   "cell_type": "code",
   "execution_count": 59,
   "metadata": {},
   "outputs": [
    {
     "data": {
      "text/plain": [
       "__main__.AA"
      ]
     },
     "execution_count": 59,
     "metadata": {},
     "output_type": "execute_result"
    }
   ],
   "source": [
    "list(singleton_instances.keys())[-2]"
   ]
  },
  {
   "cell_type": "code",
   "execution_count": null,
   "metadata": {},
   "outputs": [],
   "source": []
  },
  {
   "cell_type": "markdown",
   "metadata": {},
   "source": [
    "## 使用模块代替单例模式\n",
    "\n",
    "python中由于`import`的机制问题,导入模块这个行为本身就只会执行一次,再加上模块在python中也是对象,因此不在意形式上不统一的问题的话,我们完全可以把模块作为单例模式中的类来使用.\n",
    "\n",
    "这种方案总结如下:\n",
    "\n",
    "优点|缺点\n",
    "---|---\n",
    "完全原生,不用额外的代码|无法继承;无法扩展,不能定义`__call__`这样的魔术方法;没有初始化操作\n",
    "\n"
   ]
  },
  {
   "cell_type": "code",
   "execution_count": null,
   "metadata": {},
   "outputs": [],
   "source": []
  }
 ],
 "metadata": {
  "kernelspec": {
   "display_name": "Python 3",
   "language": "python",
   "name": "python3"
  },
  "language_info": {
   "codemirror_mode": {
    "name": "ipython",
    "version": 3
   },
   "file_extension": ".py",
   "mimetype": "text/x-python",
   "name": "python",
   "nbconvert_exporter": "python",
   "pygments_lexer": "ipython3",
   "version": "3.6.4"
  }
 },
 "nbformat": 4,
 "nbformat_minor": 2
}
