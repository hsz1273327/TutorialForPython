{
 "cells": [
  {
   "cell_type": "markdown",
   "metadata": {},
   "source": [
    "# 命令模式\n",
    "\n",
    "“命令”模式的目的是解耦调用操作的对象（调用者）和提供实现的对象（接收者）。在《设计模式：可复用面向对象软件的基础》所举的示例中，调用者是图形应用程序中的菜单项，而接收者是被编辑的文档或应用程序自身.\n",
    "\n",
    "![命令模式](source/command.PNG)\n",
    "\n",
    "这个模式的做法是，在二者之间放一个`Command`对象，让它实现只有一个方法（`execute`）的接口，调用接收者中的方法执行所需的操作。这样，调用者无需了解接收者的接口而且不同的接收者可以适应不同的`Command`子类.调用者有一个具体的命令，通过调用`execute` 方法执行。注意，中的MacroCommand 可能保存一系列命令，它的execute()\n",
    "方法会在各个命令上调用相同的方法。\n",
    "\n",
    "Gamma等人说过：“命令模式是回调机制的面向对象替代品。”问题是，我们需要回调机制的面向对象替代品吗？有时确实需要，但并非始终需要。\n",
    "\n",
    "我们可以不为调用者提供一个`Command`实例，而是给它一个函数.此时，调用者不用调用`command.execute()`，直接调用`command()`即可。`MacroCommand`可以实现成定义了`__call__`方法的类。这样,`MacroCommand`的实例就是可调用对象，各自维护着一个函数列表，供以后调用."
   ]
  },
  {
   "cell_type": "code",
   "execution_count": 1,
   "metadata": {
    "collapsed": true
   },
   "outputs": [],
   "source": [
    "class MacroCommand:\n",
    "    \"\"\"一个执行一组命令的命令\"\"\"\n",
    "    def __init__(self,commands):\n",
    "        self.commands = list(commands)\n",
    "    def __call__(self):\n",
    "        for command in self.commands:\n",
    "            command()"
   ]
  },
  {
   "cell_type": "code",
   "execution_count": 2,
   "metadata": {
    "collapsed": true
   },
   "outputs": [],
   "source": [
    "def command1():\n",
    "    print(\"a\")\n",
    "    \n",
    "def command2():\n",
    "    print(\"b\")\n",
    "    \n",
    "def command3():\n",
    "    print(\"c\")"
   ]
  },
  {
   "cell_type": "code",
   "execution_count": 4,
   "metadata": {
    "collapsed": false
   },
   "outputs": [],
   "source": [
    "mc = MacroCommand([command1,command2,command3])"
   ]
  },
  {
   "cell_type": "code",
   "execution_count": 5,
   "metadata": {
    "collapsed": false
   },
   "outputs": [
    {
     "name": "stdout",
     "output_type": "stream",
     "text": [
      "a\n",
      "b\n",
      "c\n"
     ]
    }
   ],
   "source": [
    "mc()"
   ]
  },
  {
   "cell_type": "markdown",
   "metadata": {},
   "source": [
    "python的一等函数特性为命令模式节省了大量的代码,"
   ]
  }
 ],
 "metadata": {
  "kernelspec": {
   "display_name": "Python 3",
   "language": "python",
   "name": "python3"
  },
  "language_info": {
   "codemirror_mode": {
    "name": "ipython",
    "version": 3
   },
   "file_extension": ".py",
   "mimetype": "text/x-python",
   "name": "python",
   "nbconvert_exporter": "python",
   "pygments_lexer": "ipython3",
   "version": "3.6.0"
  }
 },
 "nbformat": 4,
 "nbformat_minor": 2
}
