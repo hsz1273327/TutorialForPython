{
 "cells": [
  {
   "cell_type": "markdown",
   "metadata": {},
   "source": [
    "# 结构化数据类型选择\n",
    "\n",
    "\n",
    "在执行程序时,如果内存中有大量的活动对象,那么就有可能出现内存问题.尤其在内存有限或者需要处理大规模数据时,我们更加需要对数据对象的内存精打细算.\n",
    "\n",
    "\n",
    "总结下目前截至python 3.7为止python自带的可以用于描述结构化数据的类型,包括:\n",
    "\n",
    "+ `dict`字典类型\n",
    "+ `class`用常规的类定义,标准库`dataclasses`3.7版本加入,可以简化定义\n",
    "+ `class with __slots__`用`__slots__`限定的类定义结构化数据\n",
    "+ `collections.namedtuple` 使用具名元组描述结构化数据,也可以使用`typing.NamedTuple`为其中的字段提供类型申明\n",
    "\n",
    "本文将一个三维点来作为例子,探讨下不同数据类型的内存使用量"
   ]
  },
  {
   "cell_type": "markdown",
   "metadata": {},
   "source": [
    "## 字典类型\n",
    "\n",
    "字典类型一定是最占内存的结构化数据类型,因为它是hashmap,必然会造成大量空间的浪费.\n",
    "\n",
    "在python3.6开始dict使用的是有序键,因此结构更紧凑了,但这并不会改变它是hashmap这个事实."
   ]
  },
  {
   "cell_type": "code",
   "execution_count": 1,
   "metadata": {},
   "outputs": [],
   "source": [
    "import sys"
   ]
  },
  {
   "cell_type": "code",
   "execution_count": 2,
   "metadata": {},
   "outputs": [
    {
     "name": "stdout",
     "output_type": "stream",
     "text": [
      "240\n"
     ]
    }
   ],
   "source": [
    "ob = {\"x\":1,\"y\":2,\"z\":3}\n",
    "print(sys.getsizeof(ob))"
   ]
  },
  {
   "cell_type": "markdown",
   "metadata": {},
   "source": [
    "也就是每1000000个数据会占用240m的内存"
   ]
  },
  {
   "cell_type": "markdown",
   "metadata": {},
   "source": [
    "## 常规定义的类实例\n",
    "\n",
    "类实例会比字典更加紧凑,\n",
    "\n",
    "这个类类实例的结构大致如下:\n",
    "\n",
    "\n",
    "字段|大小(bit)\n",
    "---|---\n",
    "`PyGC_Head`|24\n",
    "`PyObject_Head`|16\n",
    "`__weakref__`|8\n",
    "`__dict__`|8\n",
    "\n",
    "在python3.3开始,所有类实例的字典键`__dict__`都会存储在共享空间,因此内存中的实例大小也就减小了,但注意,这里的`__weakref__`和`__dict__`是信息的引用,他们只是放在了别处并不是不产生内存占用."
   ]
  },
  {
   "cell_type": "code",
   "execution_count": 6,
   "metadata": {},
   "outputs": [
    {
     "name": "stdout",
     "output_type": "stream",
     "text": [
      "56\n",
      "112\n"
     ]
    }
   ],
   "source": [
    "class Point:\n",
    "    def __init__(self,x,y,z):\n",
    "        self.x = x\n",
    "        self.y = y\n",
    "        self.z = z\n",
    "\n",
    "ob = Point(1,2,3)\n",
    "print(sys.getsizeof(ob))\n",
    "print(sys.getsizeof(ob.__dict__))"
   ]
  },
  {
   "cell_type": "markdown",
   "metadata": {},
   "source": [
    "因此实际的内存占用是56+112即168,也就是每1000000个数据会占用168m的内存"
   ]
  },
  {
   "cell_type": "markdown",
   "metadata": {},
   "source": [
    "### dataclass\n",
    "\n",
    "标准库dataclass提供了另一种快速定义类的方法,它本质上和直接定义类一样"
   ]
  },
  {
   "cell_type": "code",
   "execution_count": 12,
   "metadata": {},
   "outputs": [
    {
     "name": "stdout",
     "output_type": "stream",
     "text": [
      "56\n",
      "112\n"
     ]
    }
   ],
   "source": [
    "from dataclasses import dataclass\n",
    "@dataclass\n",
    "class Point:\n",
    "    x: int\n",
    "    y: int\n",
    "    z: int\n",
    "        \n",
    "ob = Point(1,2,3)\n",
    "print(sys.getsizeof(ob))\n",
    "print(sys.getsizeof(ob.__dict__))"
   ]
  },
  {
   "cell_type": "markdown",
   "metadata": {},
   "source": [
    "它还可以定义不可变类型,不过不可变类型性能会差些,但它依然是一般的类实例"
   ]
  },
  {
   "cell_type": "code",
   "execution_count": 13,
   "metadata": {},
   "outputs": [
    {
     "name": "stdout",
     "output_type": "stream",
     "text": [
      "56\n",
      "112\n"
     ]
    }
   ],
   "source": [
    "from dataclasses import dataclass\n",
    "@dataclass(frozen=True)\n",
    "class Point:\n",
    "    x: int\n",
    "    y: int\n",
    "    z: int\n",
    "        \n",
    "ob = Point(1,2,3)\n",
    "print(sys.getsizeof(ob))\n",
    "print(sys.getsizeof(ob.__dict__))"
   ]
  },
  {
   "cell_type": "markdown",
   "metadata": {},
   "source": [
    "## 用`__slots__`限定的类定义结构化数据\n",
    "\n",
    "使用`__slots__`限定的类可以去掉`__weakref__`和`__dict__`字段,因此内存占用可以进一步减小.以上面的例子为例,其结构大致为:\n",
    "\n",
    "\n",
    "字段|大小(bit)\n",
    "---|---\n",
    "`PyGC_Head`|24\n",
    "`PyObject_Head`|16\n",
    "`x`|8\n",
    "`y`|8\n",
    "`z`|8\n",
    "\n"
   ]
  },
  {
   "cell_type": "code",
   "execution_count": 14,
   "metadata": {},
   "outputs": [
    {
     "name": "stdout",
     "output_type": "stream",
     "text": [
      "64\n"
     ]
    }
   ],
   "source": [
    "class Point:\n",
    "    __slots__= \"x\",\"y\",\"z\"\n",
    "    def __init__(self,x,y,z):\n",
    "        self.x = x\n",
    "        self.y = y\n",
    "        self.z = z\n",
    "\n",
    "ob = Point(1,2,3)\n",
    "print(sys.getsizeof(ob))"
   ]
  },
  {
   "cell_type": "markdown",
   "metadata": {},
   "source": [
    "也就是每1000000个数据会占用64m的内存"
   ]
  },
  {
   "cell_type": "markdown",
   "metadata": {},
   "source": [
    "## 具名元组\n",
    "\n",
    "`collections.namedtuple`是python中的具名元组,它的结构更加紧凑,他们是不可变对象.由于内存中元组还包含字段信息,因此还是会比使用`__slots__`的类内存占用多些."
   ]
  },
  {
   "cell_type": "code",
   "execution_count": 15,
   "metadata": {},
   "outputs": [],
   "source": [
    "from collections import namedtuple"
   ]
  },
  {
   "cell_type": "code",
   "execution_count": 17,
   "metadata": {},
   "outputs": [
    {
     "name": "stdout",
     "output_type": "stream",
     "text": [
      "72\n"
     ]
    }
   ],
   "source": [
    "Point = namedtuple(\n",
    "    'Point', \n",
    "    [\n",
    "        'x',\n",
    "        'y',\n",
    "        'z'\n",
    "    ]\n",
    ")\n",
    "ob = Point(1,2,3)\n",
    "print(sys.getsizeof(ob))"
   ]
  },
  {
   "cell_type": "markdown",
   "metadata": {},
   "source": [
    "也就是每1000000个数据会占用72m的内存\n",
    "|"
   ]
  },
  {
   "cell_type": "markdown",
   "metadata": {},
   "source": [
    "## `*`更进一步\n",
    "\n",
    "上面可以看出使用python及标准库我们内存占用最小的结构化数据对象就是用__slots__限定的类,如果我们希望可以进一步压缩空间,可以使用:\n",
    "\n",
    "\n",
    "+ numpy的结构体\n",
    "+ cython的类"
   ]
  },
  {
   "cell_type": "markdown",
   "metadata": {},
   "source": [
    "### numpy的结构体\n",
    "\n",
    "\"准标准库\"numpy提供了定义结构体的能力,可以使用接口`dtype()`来定义结构紧凑的结构体,需要注意的是这个接口必须申明数据类型(c语言对应的,具体可以看[这里]()),numpy的结构体只能用于numpy的数据结构中,因此使用有一定局限性,但如果是处理大规模数据,那就完全不是问题"
   ]
  },
  {
   "cell_type": "code",
   "execution_count": 27,
   "metadata": {},
   "outputs": [
    {
     "name": "stdout",
     "output_type": "stream",
     "text": [
      "12000096\n"
     ]
    }
   ],
   "source": [
    "import numpy as np\n",
    "\n",
    "Point = np.dtype(\n",
    "    {'names':['x','y','z'],'formats':['i','i','i']\n",
    "},align=True)\n",
    "ob = np.zeros(1000000,dtype=Point)\n",
    "print(sys.getsizeof(ob))"
   ]
  },
  {
   "cell_type": "markdown",
   "metadata": {},
   "source": [
    "也就是每1000000个数据会占用12m的内存"
   ]
  },
  {
   "cell_type": "markdown",
   "metadata": {},
   "source": [
    "### cython定义类\n",
    "\n"
   ]
  },
  {
   "cell_type": "code",
   "execution_count": 1,
   "metadata": {
    "tags": []
   },
   "outputs": [],
   "source": [
    "%load_ext Cython"
   ]
  },
  {
   "cell_type": "code",
   "execution_count": 2,
   "metadata": {
    "tags": []
   },
   "outputs": [
    {
     "name": "stdout",
     "output_type": "stream",
     "text": [
      "32\n"
     ]
    }
   ],
   "source": [
    "%%cython\n",
    "import sys\n",
    "import cython\n",
    "\n",
    "@cython.cclass\n",
    "class Point:\n",
    "    x: cython.int\n",
    "    y: cython.int\n",
    "    z: cython.int\n",
    "    def __init__(self, x,y,z):\n",
    "        self.x = x\n",
    "        self.y = y\n",
    "        self.z = z\n",
    "\n",
    "        \n",
    "ob = Point(1,2,3)\n",
    "print(sys.getsizeof(ob))"
   ]
  },
  {
   "cell_type": "markdown",
   "metadata": {},
   "source": [
    "使用cython定义需要注意,每次调用字段都会做一次c语言类型到python类型的转换"
   ]
  }
 ],
 "metadata": {
  "kernelspec": {
   "display_name": "Python 3 (ipykernel)",
   "language": "python",
   "name": "python3"
  },
  "language_info": {
   "codemirror_mode": {
    "name": "ipython",
    "version": 3
   },
   "file_extension": ".py",
   "mimetype": "text/x-python",
   "name": "python",
   "nbconvert_exporter": "python",
   "pygments_lexer": "ipython3",
   "version": "3.10.11"
  }
 },
 "nbformat": 4,
 "nbformat_minor": 4
}
