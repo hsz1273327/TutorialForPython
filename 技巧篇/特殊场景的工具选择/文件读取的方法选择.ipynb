{
 "cells": [
  {
   "cell_type": "markdown",
   "id": "a49fb1d5-6c94-4768-89cf-04c7e8a28c04",
   "metadata": {},
   "source": [
    "# 文件读取的方法选择\n",
    "\n",
    "通常我们读一个文件就是像下面这样写:\n",
    "\n",
    "```python\n",
    "with open(\"filename\",\"r\") as f:\n",
    "    content = f.read()\n",
    "```\n",
    "\n",
    "它的原理是将文件中的所有字节一次读完放入内存中,你就可以直接使用content了.\n",
    "\n",
    "\n",
    "但如果你需要读取一个巨大的文件,它的规模甚至可能超过机器的内存大小,那怎么处理呢?\n",
    "\n",
    "Python的open方法返回的文件对象是一个迭代器,它的每一次`next`会向下读取一行并抛出.利用这一特性我们可以一行一行的加载数据从而节省大量内存.\n",
    "\n",
    "```python\n",
    "def data_gen(file_name):\n",
    "    with open(filename,\"r\") as f:\n",
    "        for line in f:\n",
    "            yield line\n",
    "```\n",
    "这一方法通常会在用tensorflow,pytorch等工具训练模型时使用,训练数据以文件的形式,一行一条的保存在磁盘上.\n"
   ]
  }
 ],
 "metadata": {
  "kernelspec": {
   "display_name": "Python 3 (ipykernel)",
   "language": "python",
   "name": "python3"
  },
  "language_info": {
   "codemirror_mode": {
    "name": "ipython",
    "version": 3
   },
   "file_extension": ".py",
   "mimetype": "text/x-python",
   "name": "python",
   "nbconvert_exporter": "python",
   "pygments_lexer": "ipython3",
   "version": "3.10.11"
  }
 },
 "nbformat": 4,
 "nbformat_minor": 5
}
