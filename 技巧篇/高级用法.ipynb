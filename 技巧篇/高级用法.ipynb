{
 "cells": [
  {
   "cell_type": "markdown",
   "id": "e532c748-ab58-44cf-8037-d1b665e9e7ed",
   "metadata": {},
   "source": [
    "# 高级用法\n",
    "\n",
    "本文给出一系列高级用法,可以更加简单优雅的实现一些特定功能"
   ]
  },
  {
   "cell_type": "markdown",
   "id": "0f597cd3-5dd9-4bd4-970d-eeb3bb3108df",
   "metadata": {},
   "source": [
    "1. 给定元素顺序,排序一个元素的子集. \n",
    "\n",
    "方法是使用`sorted`配合`list`的`index`方法.`list`的`index`方法会根据传入的元素返回它所在的index位置,index本身是一个从0开始的正整数,这样将`list`的`index`方法作为`sorted`参数`key`的值就可以获得所需的顺序.\n",
    "\n",
    "需要注意`list`的`index`方法如果传入的参数在list中不存在会抛出错误,所以必须保证待排序的元素都在元素顺序序列内."
   ]
  },
  {
   "cell_type": "code",
   "execution_count": 15,
   "id": "7494bb22-db7b-46be-b798-5261feb972ef",
   "metadata": {
    "tags": []
   },
   "outputs": [
    {
     "data": {
      "text/plain": [
       "['a', 'c', 'f']"
      ]
     },
     "execution_count": 15,
     "metadata": {},
     "output_type": "execute_result"
    }
   ],
   "source": [
    "elements_order = [\"a\",\"b\",\"c\",\"d\",\"e\",\"f\"] # 元素顺序\n",
    "elements_to_order = [\"c\",\"f\",\"a\",\"g\"] # 待排序的元素,注意g不在元素顺序列表中,需要过滤\n",
    "sorted([i for i in elements_to_order if i in elements_order],key = elements_order.index)"
   ]
  },
  {
   "cell_type": "markdown",
   "id": "52e96ce5-50bb-4643-bc8a-fff537fc19dc",
   "metadata": {},
   "source": [
    "如果希望排序速度快些不在意多花点内存,可以先建立一个倒排索引,然后利用这个倒排索引空间换时间,减少遍历元素顺序列表的次数"
   ]
  },
  {
   "cell_type": "code",
   "execution_count": 11,
   "id": "0292c58f-872a-4964-9be0-768f5d88c848",
   "metadata": {
    "tags": []
   },
   "outputs": [
    {
     "data": {
      "text/plain": [
       "['a', 'c', 'f']"
      ]
     },
     "execution_count": 11,
     "metadata": {},
     "output_type": "execute_result"
    }
   ],
   "source": [
    "elements_order_index = {v:index for index,v in  enumerate(elements_order)}\n",
    "sorted([i for i in elements_to_order if i in elements_order_index],key = elements_order_index.get)"
   ]
  },
  {
   "cell_type": "code",
   "execution_count": 16,
   "id": "b06e59ae-b90b-4b9e-a7ef-6b1b40bd664f",
   "metadata": {
    "tags": []
   },
   "outputs": [
    {
     "name": "stdout",
     "output_type": "stream",
     "text": [
      "953 ns ± 97.9 ns per loop (mean ± std. dev. of 7 runs, 1,000,000 loops each)\n"
     ]
    }
   ],
   "source": [
    "%%timeit\n",
    "sorted([i for i in elements_to_order if i in elements_order],key = elements_order.index)"
   ]
  },
  {
   "cell_type": "code",
   "execution_count": 14,
   "id": "6c0487fa-29dd-495f-99ad-fac1b720c622",
   "metadata": {
    "tags": []
   },
   "outputs": [
    {
     "name": "stdout",
     "output_type": "stream",
     "text": [
      "601 ns ± 9.81 ns per loop (mean ± std. dev. of 7 runs, 1,000,000 loops each)\n"
     ]
    }
   ],
   "source": [
    "%%timeit\n",
    "sorted([i for i in elements_to_order if i in elements_order_index],key = elements_order_index.get)"
   ]
  },
  {
   "cell_type": "markdown",
   "id": "4c4a6534-6498-48f5-b386-5723144a03fe",
   "metadata": {},
   "source": [
    "这种方式大致可以减少1/3的运算时间."
   ]
  },
  {
   "cell_type": "code",
   "execution_count": null,
   "id": "1fc7f4ed-26b7-4252-94a6-cc1238c293a5",
   "metadata": {},
   "outputs": [],
   "source": []
  }
 ],
 "metadata": {
  "kernelspec": {
   "display_name": "Python 3 (ipykernel)",
   "language": "python",
   "name": "python3"
  },
  "language_info": {
   "codemirror_mode": {
    "name": "ipython",
    "version": 3
   },
   "file_extension": ".py",
   "mimetype": "text/x-python",
   "name": "python",
   "nbconvert_exporter": "python",
   "pygments_lexer": "ipython3",
   "version": "3.10.12"
  }
 },
 "nbformat": 4,
 "nbformat_minor": 5
}
