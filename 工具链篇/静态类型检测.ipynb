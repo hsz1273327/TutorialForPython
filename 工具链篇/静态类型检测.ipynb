{
 "cells": [
  {
   "cell_type": "markdown",
   "metadata": {},
   "source": [
    "# `*`类型注释和检验\n",
    "\n",
    "python3.5起python提供了类型标注支持([pep 484](https://peps.python.org/pep-0484/)).之后的每个版本几乎都有对这一特性的改进.到了python3.10类型标注这一特性已经基本稳定.\n",
    "\n",
    "***ps:类型注释只是注释,python解释器并不会处理它,要让它有类型检验的功能还要有其他工具配合.***\n",
    "\n",
    "通常如果需要用一些更高版本的类型注释特性,我们可以使用[typing_extensions](https://pypi.org/project/typing-extensions/)这个包做补充."
   ]
  },
  {
   "cell_type": "markdown",
   "metadata": {},
   "source": [
    "## 声明类型\n",
    "\n",
    "目前的类型标注可以注释:\n",
    "\n",
    "+ 函数签名\n",
    "+ 变量\n",
    "+ 类中的属性"
   ]
  },
  {
   "cell_type": "markdown",
   "metadata": {},
   "source": [
    "### 函数签名\n",
    "\n",
    "函数是最基本的类型声明场景.函数的参数使用`:`指定类型,返回值则使用`->`.需要注意,lambda函数无法声明其签名,我们只能在为期绑定变量时声明这个变量对应的签名\n",
    "\n",
    "一个最基础的函数签名结构如下:"
   ]
  },
  {
   "cell_type": "code",
   "execution_count": 1,
   "metadata": {},
   "outputs": [],
   "source": [
    "def func(arg:int)->int:\n",
    "    return arg"
   ]
  },
  {
   "cell_type": "markdown",
   "metadata": {},
   "source": [
    "### 修饰描述\n",
    "\n",
    "python的函数是很灵活的,可以有默认值,可以为None,也可以有多种可能的类型.typing提供了如下几种修饰描述:\n",
    "\n",
    "+ `Union`,用于描述`或`关系,表示这个被声明的变量可以几种之一.我们可以使用`|`作为简写"
   ]
  },
  {
   "cell_type": "code",
   "execution_count": 2,
   "metadata": {},
   "outputs": [],
   "source": [
    "from typing import Union,Sequence\n",
    "def handle_employees(e: Union[int, Sequence[int]]) -> None:\n",
    "    if isinstance(e, Employee):\n",
    "        e = [e]"
   ]
  },
  {
   "cell_type": "code",
   "execution_count": 3,
   "metadata": {},
   "outputs": [],
   "source": [
    "from typing import Union,Sequence\n",
    "def handle_employees_s(e: int| Sequence[int]) -> None:\n",
    "    if isinstance(e, Employee):\n",
    "        e = [e]"
   ]
  },
  {
   "cell_type": "markdown",
   "metadata": {},
   "source": [
    "+ `Optional`,相当于`Union[类型, None]]`,表示这个变量可以为空."
   ]
  },
  {
   "cell_type": "code",
   "execution_count": 4,
   "metadata": {},
   "outputs": [],
   "source": [
    "from typing import Optional\n",
    "def option_demo(x:int,y: Optional[int]=None) -> int:\n",
    "    if y:\n",
    "        return x+y\n",
    "    else:\n",
    "        return x"
   ]
  },
  {
   "cell_type": "markdown",
   "metadata": {},
   "source": [
    "+ `NoReturn`,只能用于描述返回值,表示这个函数永远不会有返回值,需要注意的是正常函数不写`return`依然会返回`None`,`NoReturn`的确切含义其实是这个函数无论如何都会抛出一个错误."
   ]
  },
  {
   "cell_type": "code",
   "execution_count": 5,
   "metadata": {},
   "outputs": [],
   "source": [
    "from typing import NoReturn\n",
    "\n",
    "def stop() -> NoReturn:\n",
    "    raise RuntimeError('no way')"
   ]
  },
  {
   "cell_type": "markdown",
   "metadata": {},
   "source": [
    "+ `overload`,声明函数或方法会重载已经定义的函数或方法.`overload`是一个装饰器.`@overload`装饰器可以修饰支持多个不同参数类型组合的函数或方法.`@overload`装饰定义的一系列方法或函数必须紧跟在一个非`@overload`装饰定义的同名函数之后.\n",
    "\n",
    "    ```python\n",
    "    from typing import overload\n",
    "    @overload\n",
    "    def process(response: None) -> None:\n",
    "        ...\n",
    "    @overload\n",
    "    def process(response: int) -> tuple[int, str]:\n",
    "        ...\n",
    "    @overload\n",
    "    def process(response: bytes) -> str:\n",
    "        ...\n",
    "    def process(response):\n",
    "    ```"
   ]
  },
  {
   "cell_type": "markdown",
   "metadata": {},
   "source": [
    "+ `final`,声明被装饰的方法不能被覆盖,且被装饰的类不能作为子类的装饰器.这通常用于在定义基类时使用.\n",
    "\n",
    "    ```python\n",
    "    class Base:\n",
    "        @final\n",
    "        def done(self) -> None:\n",
    "            ...\n",
    "    class Sub(Base):\n",
    "        def done(self) -> None:  # Error reported by type checker\n",
    "            ...\n",
    "\n",
    "    @final\n",
    "    class Leaf:\n",
    "        ...\n",
    "    class Other(Leaf):  # Error reported by type checker\n",
    "        ...\n",
    "    ```"
   ]
  },
  {
   "cell_type": "markdown",
   "metadata": {},
   "source": [
    "+ `*Never`[3.11],用于作为函数的参数,描述这个函数不该被调用,一般用在还没实现的函数上\n",
    "\n",
    "```python\n",
    "rom typing import Never\n",
    "\n",
    "def never_call_me(arg: Never) -> None:\n",
    "    pass\n",
    "```"
   ]
  },
  {
   "cell_type": "markdown",
   "metadata": {},
   "source": [
    "### 变量\n",
    "\n",
    "类型标注既可以标注模块中常量全局变量,也可以标注函数方法中的内部变量以及类中的字段.变量声明使用`:`语法,变量后面接`:`然后是声明的类型,我们也可以再在后面加上`= value`来直接为其赋个初值."
   ]
  },
  {
   "cell_type": "code",
   "execution_count": 1,
   "metadata": {
    "tags": []
   },
   "outputs": [],
   "source": [
    "# 全局变量声明\n",
    "CONST_A: int\n",
    "CONST_B: int = 2"
   ]
  },
  {
   "cell_type": "code",
   "execution_count": 2,
   "metadata": {
    "tags": []
   },
   "outputs": [],
   "source": [
    "def fn_a(c:int)-> int:\n",
    "    # 局部变量声明\n",
    "    a: int = 1\n",
    "    b: int = 2\n",
    "    return a+b+c"
   ]
  },
  {
   "cell_type": "markdown",
   "metadata": {},
   "source": [
    "### 类中的属性\n",
    "\n",
    "类中属性分为类属性和实例属性,正常标注的都是实例属性,类属性需要使用`typing.ClassVar`显式的声明出来"
   ]
  },
  {
   "cell_type": "code",
   "execution_count": 8,
   "metadata": {},
   "outputs": [],
   "source": [
    "from typing import ClassVar\n",
    "class CLZ_A:\n",
    "    captain: ClassVar[str] = 'Picard'# 类属性\n",
    "    damage: int # 实例属性\n"
   ]
  },
  {
   "cell_type": "markdown",
   "metadata": {},
   "source": [
    "## 获取类型声明\n",
    "\n",
    "我们可以指定一个对象,通过调用标准库`inspect`中的`get_annotations(obj)`来获取模块,函数,类其中的类型声明,需要注意内部变量的声明无法获取."
   ]
  },
  {
   "cell_type": "code",
   "execution_count": 9,
   "metadata": {},
   "outputs": [],
   "source": [
    "import inspect"
   ]
  },
  {
   "cell_type": "code",
   "execution_count": 10,
   "metadata": {},
   "outputs": [
    {
     "data": {
      "text/plain": [
       "{'c': int, 'return': int}"
      ]
     },
     "execution_count": 10,
     "metadata": {},
     "output_type": "execute_result"
    }
   ],
   "source": [
    "inspect.get_annotations(fn_a)"
   ]
  },
  {
   "cell_type": "code",
   "execution_count": 11,
   "metadata": {},
   "outputs": [
    {
     "data": {
      "text/plain": [
       "{'captain': typing.ClassVar[str], 'damage': int}"
      ]
     },
     "execution_count": 11,
     "metadata": {},
     "output_type": "execute_result"
    }
   ],
   "source": [
    "inspect.get_annotations(CLZ_A)"
   ]
  },
  {
   "cell_type": "markdown",
   "metadata": {},
   "source": [
    "## 特殊类型\n",
    "\n",
    "### Any类型\n",
    "\n",
    "Any类型和ts中一样,代表任意类型都可以."
   ]
  },
  {
   "cell_type": "code",
   "execution_count": 12,
   "metadata": {},
   "outputs": [],
   "source": [
    "from typing import Any\n",
    "a: Any = 1"
   ]
  },
  {
   "cell_type": "markdown",
   "metadata": {},
   "source": [
    "### AnyStr类型\n",
    "\n",
    "AnyStr相当于`TypeVar('AnyStr', str, bytes)`,它可以用于描述字符串类型"
   ]
  },
  {
   "cell_type": "code",
   "execution_count": 13,
   "metadata": {},
   "outputs": [],
   "source": [
    "from typing import AnyStr\n",
    "a: AnyStr = \"测试\""
   ]
  },
  {
   "cell_type": "markdown",
   "metadata": {},
   "source": [
    "### Text类型\n",
    "\n",
    "Text类型是用于和python2中进行兼容的类型,在python3中是`str`的别名,`Python 2`中是`unicode`的别名.现在除了老旧代码维护已经基本用不到了."
   ]
  },
  {
   "cell_type": "markdown",
   "metadata": {},
   "source": [
    "### Literal类型\n",
    "\n",
    "用于指定变量的值等价于给定字面量(或多个字面量之一)的类型.这通常用在特定选项的情况下"
   ]
  },
  {
   "cell_type": "code",
   "execution_count": 14,
   "metadata": {},
   "outputs": [],
   "source": [
    "from typing import Literal\n",
    "\n",
    "b: Literal[\"1\",\"2\",\"3\"]\n",
    "b = 3"
   ]
  },
  {
   "cell_type": "markdown",
   "metadata": {},
   "source": [
    "### IO类型\n",
    "\n",
    "用于申明变量或参数是一个标准库`io`中定义的I/O流的类型.`typing.IO`是一个泛型类,它有两个实例子类:\n",
    "\n",
    "+ `typing.TextIO`对应`io.StringIO`及对应的字符串为内容的其他流\n",
    "+ `typing.BinaryIO`对应`io.BytesIO`及对应的字节串为内容的其他流"
   ]
  },
  {
   "cell_type": "code",
   "execution_count": 15,
   "metadata": {},
   "outputs": [],
   "source": [
    "from typing import TextIO\n",
    "\n",
    "inio: TextIO"
   ]
  },
  {
   "cell_type": "markdown",
   "metadata": {},
   "source": [
    "### re类型\n",
    "\n",
    "正则表达式操作中使用的对应类型,分为:\n",
    "\n",
    "+ `typing.Pattern`对应`re.compile()`返回的类型`re.Pattern`\n",
    "+ `typing.Match`对应`re.match()`返回的类型`re.Match`\n",
    "\n",
    "这个类型的声明可以直接使用`re`模块下的对应类型实现,减少对`typing`的引用"
   ]
  },
  {
   "cell_type": "code",
   "execution_count": 16,
   "metadata": {},
   "outputs": [],
   "source": [
    "import re\n",
    "\n",
    "rem: re.Match"
   ]
  },
  {
   "cell_type": "markdown",
   "metadata": {},
   "source": [
    "### Type类型\n",
    "\n",
    "`Type[C]`或者`type[C]`表示`C`的类型,而`C`指代一个特定类型.举个例子.`type(10)`的字面量是`int`,如果`x = type(10)`那么就可以这样声明`x:type[int]`.\n",
    "\n",
    "`Type[C]`是一个协变量(Covariant),类型参数的关系满足协变性.在协变性中如果一个类型`A`是另一个类型`B`的子类型(或者可以看作`A`拥有`B`的所有行为和能力),那么泛型类型参数在`A`中使用时可以替换为`B`.换句话说协变性保持了类型参数的子类型关系.\n",
    "\n",
    "协变性的关键特性是--可以将子类型的实例赋值给父类型的引用,而不会产生类型错误.这在某些情况下可以提供更灵活的类型使用和更好的代码复用.\n",
    "\n",
    "利用协变性我们可以用它声明如下几种情况:\n",
    "\n",
    "+ 类方法中的类变量\n",
    "    ```python\n",
    "    class SelfTestClz:\n",
    "        @classmethod\n",
    "        def new_one(clz:type[Self])->Self:\n",
    "            return clz()\n",
    "    ```\n",
    "\n",
    "+ 参数必须是特定类子类的的实例的情况\n",
    "\n",
    "```python\n",
    "from flask.views import MethodView\n",
    "\n",
    "\n",
    "class APIView:\n",
    "    ...\n",
    "    def register(self, url: str) -> Callable[[Type[MethodView]], Type[MethodView]]:\n",
    "        def wrap(clz: Type[MethodView]) -> Type[MethodView]:\n",
    "            self.restapi.add_url_rule(url, view_func=clz.as_view(clz.__name__))\n",
    "            return clz\n",
    "        return wrap\n",
    "    ...\n",
    "```\n"
   ]
  },
  {
   "cell_type": "markdown",
   "metadata": {},
   "source": [
    "### `*[3.11]`Self类型\n",
    "\n",
    "声明方法时每个实例方法都有一个`self`变量,在`Python 3.11`之前我们要么不声明类型要么用类名的字面量字符串来声明类型,在`Python 3.11`中新增了占位类型`Self`可以用于表示当前所在的实例的类型,因此我们可以像下面这样声明类中方法了"
   ]
  },
  {
   "cell_type": "code",
   "execution_count": 17,
   "metadata": {},
   "outputs": [],
   "source": [
    "from typing_extensions import Self\n",
    "\n",
    "class SelfTestClz:\n",
    "    @classmethod\n",
    "    def new_one(clz:type[Self])->Self:\n",
    "        return clz()\n",
    "    def __init__(self:Self)->None:\n",
    "        pass"
   ]
  },
  {
   "cell_type": "markdown",
   "metadata": {},
   "source": [
    "注意类方法中的clz声明为了`type[Self]`,其含义是`Self`指代的实例类型的类型"
   ]
  },
  {
   "cell_type": "markdown",
   "metadata": {},
   "source": [
    "## 容器类型的申明\n",
    "\n",
    "\n",
    "容器可以分为具象容器类型和抽象容器类型.\n",
    "具象容器类型会限制死特定的容器,而抽象容器类型则只会限制容器需要满足特定接口.\n",
    "我们可以使用typing中的类型来申明也可以直接使用对应容器的工厂函数来申明,更加推荐使用对应容器的工厂函数来申明,这样可以少import很多东西,代码更整洁.\n",
    "\n",
    "### 具象容器类型\n",
    "\n",
    "typing中的类型|对应容器工厂函数|满足的抽象容器类型\n",
    "---|---|---\n",
    "`Dict`|`dict`|`Mapping`,`MutableMapping`\n",
    "`List`|`list`|`Sequence `,`Iterable`\n",
    "`Tuple`|`tuple`|---\n",
    "`NamedTuple`|`collections.namedtuple`|---\n",
    "`Set`|`set`|`AbstractSet`\n",
    "`FrozenSet`|`frozenset`|`AbstractSet`\n",
    "`DefaultDict`|`collections.defaultdict`|`Mapping`,`MutableMapping`\n",
    "`OrderedDict`|`collections.OrderedDict`|`Mapping`,`MutableMapping`\n",
    "`ChainMap`|`collections.ChainMap`|`Mapping`,`MutableMapping`\n",
    "`Counter`|`collections.Counter`|`Dict`,`Mapping`,`MutableMapping`\n",
    "`Deque`|`collections.deque`|`Sequence`,`MutableSequence`\n",
    "\n",
    "### 抽象容器模型\n",
    "\n",
    "typing中的类型|对应容器工厂函数|特殊说明\n",
    "---|---|---\n",
    "`AbstractSet`|`collections.abc.Set`|---\n",
    "`ByteString`|`collections.abc.ByteString`|`bytes`,`bytearray`,`memoryview`等字节序列类型\n",
    "`Collection`|`collections.abc.Collection`|---\n",
    "`Container`|`collections.abc.Container`|---\n",
    "`ItemsView`|`collections.abc.ItemsView`|---\n",
    "`KeysView`|`collections.abc.KeysView`|---\n",
    "`Mapping`|`collections.abc.Mapping`|---\n",
    "`MappingView`|`collections.abc.MappingView`|---\n",
    "`MutableMapping`|`collections.abc.MutableMapping`|---\n",
    "`MutableSequence`|`collections.abc.MutableSequence`|---\n",
    "`MutableSet`|`collections.abc.MutableSet`|---\n",
    "`Sequence`|`collections.abc.Sequence`|--- \n",
    "`ValuesView`|`collections.abc.ValuesView`|---\n",
    "`Iterable`|`collections.abc.Iterable`|---\n",
    "`Iterator`|`collections.abc.Iterator`|---\n",
    "`Generator`|`collections.abc.Generator`|---\n",
    "`Hashable`|`collections.abc.Hashable`|---\n",
    "`Reversible`|`collections.abc.Reversible`|---\n",
    "`Sized`|`collections.abc.Sized`|---\n"
   ]
  },
  {
   "cell_type": "markdown",
   "metadata": {},
   "source": [
    "### 元组容器的声明\n",
    "\n",
    "元组容器的声明语法是`tuple[type,type,...]`元组的每一位可以是不同类型,因此元组有几位就需要声明出每一位的类型"
   ]
  },
  {
   "cell_type": "code",
   "execution_count": 18,
   "metadata": {},
   "outputs": [],
   "source": [
    "test_tuple: tuple[str,int] = (\"Tom\",10)"
   ]
  },
  {
   "cell_type": "markdown",
   "metadata": {},
   "source": [
    "#### 具名元组的声明\n",
    "\n",
    "`NamedTuple`可以作为基类用于声明具名元组,这样声明的具名元组与用`collections.namedtuple`构造的一样,而且可以包含声明信息.用的时候类似类实例化"
   ]
  },
  {
   "cell_type": "code",
   "execution_count": 19,
   "metadata": {},
   "outputs": [],
   "source": [
    "from typing import NamedTuple\n",
    "class Student(NamedTuple):\n",
    "    name: str\n",
    "    age: int\n",
    "        \n",
    "s1:Student\n",
    "s1 = Student(name=\"Tom\",age=10)"
   ]
  },
  {
   "cell_type": "markdown",
   "metadata": {},
   "source": [
    "另一种简便声明方式是直接使用`NamedTuple`的`__call__`方法,其形式为`变量名 = NamedTuple(具名元组名, [(字段名, 字段类型),...])`"
   ]
  },
  {
   "cell_type": "code",
   "execution_count": 20,
   "metadata": {},
   "outputs": [],
   "source": [
    "Employee = NamedTuple('Employee', [('name', str), ('id', int)])\n",
    "e1:Employee\n",
    "e1 = Employee(name=\"Tom\",id=10)"
   ]
  },
  {
   "cell_type": "markdown",
   "metadata": {},
   "source": [
    "### 映射容器的声明\n",
    "\n",
    "映射型容器的声明形式为`容器类型[键元素类型,值元素类型]`,python中默认只能声明同构映射,即容器为统一类型描述的序列,当然了我们可以用`Union`或者`Optional`修饰元素类型或者直接用`Any`放松校验要求从而达到兼容异构映射的目的.\n",
    "\n",
    "映射容器最常见的是`dict`,但应当注意,在声明一些不太严格接口的的场合,比较好的方式是使用`Mapping`."
   ]
  },
  {
   "cell_type": "code",
   "execution_count": 21,
   "metadata": {},
   "outputs": [],
   "source": [
    "from typing import Mapping\n",
    "\n",
    "mp1:Mapping[str,int] = {\"a\":1,\"b\":2}\n",
    "mq2:dict[str,int] = {\"aa\":1,\"bb\":2}"
   ]
  },
  {
   "cell_type": "markdown",
   "metadata": {},
   "source": [
    "#### 限制字典字段\n",
    "\n",
    "在定义接口时一种情况是倾向于给出宽泛的要求,比如一个接口可以传`dict`,也可以传`collections.defaultdict`,那我们就应该声明参数类型为`Mapping`.但一些接口,尤其是涉及外部传参的接口,比如读取的配置后根据配置执行一些操作,那就会是另一种倾向,我们会希望指明字典中有特定我们关心的字段以及对应的类型.这种需求可以使用`TypedDict`实现.\n"
   ]
  },
  {
   "cell_type": "code",
   "execution_count": 22,
   "metadata": {},
   "outputs": [],
   "source": [
    "from typing import TypedDict\n",
    "\n",
    "class Point2D(TypedDict):\n",
    "    x: int\n",
    "    y: int\n",
    "    label: str\n",
    "\n",
    "p1:Point2D = {\"x\":0,\"y\":0,\"label\":\"p1\"}"
   ]
  },
  {
   "cell_type": "markdown",
   "metadata": {},
   "source": [
    "另一种简便写法如下:\n",
    "\n",
    "```python\n",
    "Point2D = TypedDict('Point2D', {'x': int, 'y': int, 'label': str})\n",
    "```\n",
    "\n",
    "这种方式非常适合定义一些有不符合python类字段命名要求键的字典.\n",
    "\n",
    "像上面这样定义,参数就必须仅包含`x`,`y`,`label`这几个字段,但有的时候我们希望字段是更灵活的形式,也就是\n",
    "\n",
    "1. 可以存在并没有被声明的字段\n",
    "2. 一些被声明的字段可以没有,但如果有就必须是指定类型\n",
    "\n",
    "我们可以用参数`total`来声明是否声明的字段就是全部允许的字段\n",
    "\n",
    "```python\n",
    "class Point2D(TypedDict,total=False):\n",
    "    x: int\n",
    "    y: int\n",
    "    label: str\n",
    "```\n",
    "\n",
    "或\n",
    "```python\n",
    "Point2D = TypedDict('Point2D', {'x': int, 'y': int, 'label': str}, total=False)\n",
    "```"
   ]
  },
  {
   "cell_type": "markdown",
   "metadata": {},
   "source": [
    "#### `*`使用修饰词修饰限制字典的字段[3.11]\n",
    "\n",
    "`total`可以解决存在并没有被声明的字段的字段以及一些被声明的字段可以没有的问题,但它并不能解决特定字段必须有特定字段可以没有的问题.\n",
    "\n",
    "在python 3.11中新增了修饰词`Required`和`NotRequired`用来声明指定字段的限制\n",
    "\n",
    "```python\n",
    "class Point2D(TypedDict,total=False):\n",
    "    x: Required[int]\n",
    "    y: Required[int]\n",
    "    label: NotRequired[str]\n",
    "```\n",
    "\n",
    "或\n",
    "\n",
    "```python\n",
    "Point2D = TypedDict('Point2D', {'x': Required[int], 'y': Required[int], 'label': NotRequired[str]}, total=False)\n",
    "```\n",
    "\n",
    "需要注意的是如果`total`为True,则其中的字段默认为`Required`,反之则默认为`NotRequired`"
   ]
  },
  {
   "cell_type": "markdown",
   "metadata": {},
   "source": [
    "### 序列容器的声明\n",
    "\n",
    "序列容器声明的形式为`容器类型[元素类型]`,python中只能声明同构序列,即容器为统一类型描述的序列,当然了我们可以用`Union`或者`Optional`修饰元素类型或者直接用`Any`放松校验要求从而达到兼容异构序列的目的.\n",
    "\n",
    "序列容器最常用的是`List`,但应当注意,在声明一些不太严格接口的的场合,比如作为一个要和比如numpy对接的接口时,比较好的方式是使用`Sequence`."
   ]
  },
  {
   "cell_type": "code",
   "execution_count": 23,
   "metadata": {},
   "outputs": [],
   "source": [
    "from typing import Sequence\n",
    "\n",
    "sq1:Sequence[int] = [1,2,3,4,5]\n",
    "sq2:list[int] = [6,7,8,9,10]"
   ]
  },
  {
   "cell_type": "markdown",
   "metadata": {},
   "source": [
    "## 生成器的声明\n",
    "\n",
    "对于生成器,它满足`Generator`,`Iterable`,`Iterator`接口,因此可以根据实际情况声明其类型,\n",
    "\n",
    "+ `Generator[YieldType, SendType, ReturnType]`\n",
    "+ `Iterable[YieldType]`\n",
    "+ `Iterator[YieldType]`\n",
    "\n",
    "### 生成器函数的声明\n",
    "\n",
    "生成器函数一般指被调用后返回值是一个生成器的函数,其声明形式如下:"
   ]
  },
  {
   "cell_type": "code",
   "execution_count": 24,
   "metadata": {},
   "outputs": [
    {
     "name": "stdout",
     "output_type": "stream",
     "text": [
      "Hello 0\n",
      "Hello 1\n",
      "Hello 2\n",
      "Hello 3\n",
      "Hello 4\n"
     ]
    }
   ],
   "source": [
    "from typing import Generator\n",
    "\n",
    "def my_generator_func(param1: int, param2: str) -> Generator[int, str, None]:\n",
    "    # 函数体逻辑\n",
    "    for i in range(param1):\n",
    "        yield f'{param2} {i}'\n",
    "\n",
    "# 使用生成器函数\n",
    "gen:Generator[int, str, None] = my_generator_func(5, 'Hello')\n",
    "\n",
    "for item in gen:\n",
    "    print(item)"
   ]
  },
  {
   "cell_type": "markdown",
   "metadata": {},
   "source": [
    "## 上下文管理器声明\n",
    "\n",
    "对于上下文管理器`contextlib.AbstractContextManager`,可以使用`ContextManager`来声明,它是一个泛型类,需要指定类型,且被指定的类型必须是满足上下文管理器的接口要求的上下文管理器类:\n",
    "\n",
    "```python\n",
    "from typing import ContextManager\n",
    "class MyContextManager:\n",
    "    def __enter__(self):\n",
    "        # 获取资源的逻辑\n",
    "        # 返回资源对象\n",
    "        pass\n",
    "\n",
    "    def __exit__(self, exc_type, exc_value, traceback):\n",
    "        pass\n",
    "    \n",
    "my_manager: ContextManager[MyContextManager] = MyContextManager()\n",
    "    \n",
    "```\n",
    "\n",
    "当用于声明由`@contextlib.contextmanager`装饰器构造的上下文管理器函数时`ContextManager`中的参数则是上下文管理器函数中`yied`出来的对象的类型\n",
    "\n",
    "```python\n",
    "from typing import ContextManager\n",
    "from contextlib import contextmanager\n",
    "\n",
    "@contextmanager\n",
    "def my_context_manager():\n",
    "    # 在进入上下文之前的逻辑\n",
    "\n",
    "    try:\n",
    "        # 获取资源的逻辑\n",
    "        resource = ...  # 资源对象\n",
    "        yield resource\n",
    "    finally:\n",
    "        # 释放资源的逻辑\n",
    "\n",
    "# 声明上下文管理器的类型\n",
    "my_manager: ContextManager[<资源类型>] = my_context_manager()\n",
    "```\n",
    "\n",
    "### 上下文管理器函数\n",
    "\n",
    "这是上面上下文管理器函数的声明方法:\n",
    "\n",
    "```python\n",
    "@contextmanager\n",
    "def my_context_manager()->ContextManager[<资源类型>]:\n",
    "    # 在进入上下文之前的逻辑\n",
    "\n",
    "    try:\n",
    "        # 获取资源的逻辑\n",
    "        resource = ...  # 资源对象\n",
    "        yield resource\n",
    "    finally:\n",
    "        # 释放资源的逻辑\n",
    "```"
   ]
  },
  {
   "cell_type": "markdown",
   "metadata": {},
   "source": [
    "## 协程类型的申明\n",
    "\n",
    "协程类型使用`Coroutine`或`collections.abc.Coroutine`进行声明,其形式为`Coroutine[YieldType, SendType, ReturnType]`\n",
    "\n",
    "```python\n",
    "from collections.abc import Coroutine\n",
    "c: Coroutine[list[str], str, int]  # Some coroutine defined elsewhere\n",
    "x = c.send('hi')                   # Inferred type of 'x' is list[str]\n",
    "async def bar() -> None:\n",
    "    y = await c  \n",
    "```"
   ]
  },
  {
   "cell_type": "markdown",
   "metadata": {},
   "source": [
    "### 异步函数\n",
    "\n",
    "一个典型的异步函数如下:"
   ]
  },
  {
   "cell_type": "code",
   "execution_count": 25,
   "metadata": {},
   "outputs": [
    {
     "data": {
      "text/plain": [
       "'T-minus 5 (Millennium Falcon)'"
      ]
     },
     "execution_count": 25,
     "metadata": {},
     "output_type": "execute_result"
    }
   ],
   "source": [
    "from typing import Any\n",
    "from collections.abc import Coroutine\n",
    "async def format_string(tag: str, count: int) -> str:\n",
    "    return f'T-minus {count} ({tag})'\n",
    "\n",
    "my_coroutine:Coroutine[Any, Any, str] = format_string(\"Millennium Falcon\", 5)\n",
    "await my_coroutine"
   ]
  },
  {
   "cell_type": "markdown",
   "metadata": {},
   "source": [
    "常见的异步函数是不管`YieldType`和 `SendType`的"
   ]
  },
  {
   "cell_type": "markdown",
   "metadata": {},
   "source": [
    "## 异步迭代器声明\n",
    "\n",
    "`AsyncIterator`是一个专用于声明一步迭代器的泛型类,使用的时候需要指定它每步抛出的数据类型"
   ]
  },
  {
   "cell_type": "code",
   "execution_count": 26,
   "metadata": {},
   "outputs": [],
   "source": [
    "from typing import Optional, AsyncIterator\n",
    "import asyncio\n",
    "\n",
    "class arange(AsyncIterator[int]):\n",
    "    def __init__(self, start: int, stop: int, step: int) -> None:\n",
    "        self.start = start\n",
    "        self.stop = stop\n",
    "        self.step = step\n",
    "        self.count = start - step\n",
    "\n",
    "    def __aiter__(self) -> AsyncIterator[int]:\n",
    "        return self\n",
    "\n",
    "    async def __anext__(self) -> int:\n",
    "        self.count += self.step\n",
    "        if self.count == self.stop:\n",
    "            raise StopAsyncIteration\n",
    "        else:\n",
    "            return self.count\n",
    "async def countdown(tag: str, n: int) -> str:\n",
    "    async for i in arange(n, 0, -1):\n",
    "        print(f'T-minus {i} ({tag})')\n",
    "        await asyncio.sleep(0.1)\n",
    "    return \"Blastoff!\""
   ]
  },
  {
   "cell_type": "code",
   "execution_count": 27,
   "metadata": {},
   "outputs": [
    {
     "name": "stdout",
     "output_type": "stream",
     "text": [
      "T-minus 5 (tagtest)\n",
      "T-minus 4 (tagtest)\n",
      "T-minus 3 (tagtest)\n",
      "T-minus 2 (tagtest)\n",
      "T-minus 1 (tagtest)\n"
     ]
    },
    {
     "data": {
      "text/plain": [
       "'Blastoff!'"
      ]
     },
     "execution_count": 27,
     "metadata": {},
     "output_type": "execute_result"
    }
   ],
   "source": [
    "await countdown(\"tagtest\",5)"
   ]
  },
  {
   "cell_type": "markdown",
   "metadata": {},
   "source": [
    "## 声明异步生成器\n",
    "\n",
    "异步生成器`AsyncGenerator`或者`collections.abc.AsyncGenerator`使用`AsyncGenerator[YieldType, SendType]`的形式,需要注意异步生成器没有返回值,所以形式和普通生成器不同.\n",
    "\n",
    "```python\n",
    "from collections.abc import AsyncGenerator\n",
    "ag: AsyncGenerator[int, float]\n",
    "```"
   ]
  },
  {
   "cell_type": "markdown",
   "metadata": {},
   "source": [
    "### 异步生成器函数声明\n",
    "\n",
    "调用产生异步生成器的函数就是异步生成器函数,它的返回值是异步生成器"
   ]
  },
  {
   "cell_type": "code",
   "execution_count": 28,
   "metadata": {},
   "outputs": [],
   "source": [
    "from collections.abc import AsyncGenerator\n",
    "\n",
    "async def infinite_stream(start: int) -> AsyncGenerator[int, None]:\n",
    "    while True:\n",
    "        yield start\n",
    "        start = await increment(start)"
   ]
  },
  {
   "cell_type": "markdown",
   "metadata": {},
   "source": [
    "## 异步上下文管理器\n",
    "\n",
    "类似普通上下文管理器,异步上下文管理器`AsyncContextManager`或者`contextlib.AbstractAsyncContextManager`也是一个泛型类,它需要指定资源类型来确定.\n",
    "\n",
    "```python\n",
    "from contextlib import AbstractAsyncContextManager\n",
    "\n",
    "class MyAsyncContextManager:\n",
    "    async def __aenter__(self):\n",
    "        # 获取资源的逻辑\n",
    "        # 返回资源对象\n",
    "        pass\n",
    "\n",
    "    async def __aexit__(self, exc_type, exc_value, traceback):\n",
    "        pass\n",
    "    \n",
    "my_manager: AbstractAsyncContextManager[MyAsyncContextManager] = MyAsyncContextManager()\n",
    "    \n",
    "```\n",
    "\n",
    "当用于声明由`@contextlib.asynccontextmanager`装饰器构造的上下文管理器函数时`AsyncContextManager`中的参数则是上下文管理器函数中`yied`出来的对象的类型\n",
    "\n",
    "```python\n",
    "from contextlib import AbstractAsyncContextManager,asynccontextmanager\n",
    "\n",
    "@asynccontextmanager\n",
    "async def my_async_context_manager():\n",
    "    # 在进入上下文之前的逻辑\n",
    "    try:\n",
    "        # 获取资源的逻辑\n",
    "        resource = ...  # 资源对象\n",
    "        yield resource\n",
    "    finally:\n",
    "        # 释放资源的逻辑\n",
    "\n",
    "# 声明上下文管理器的类型\n",
    "my_manager: AbstractAsyncContextManager[<资源类型>] = my_async_context_manager()\n",
    "```"
   ]
  },
  {
   "cell_type": "markdown",
   "metadata": {},
   "source": [
    "### 异步上下文管理器函数\n",
    "\n",
    "这是上面异步上下文管理器函数的声明方法:\n",
    "\n",
    "```python\n",
    "@contextmanager\n",
    "def my_context_manager()->AbstractAsyncContextManager[<资源类型>]:\n",
    "    # 在进入上下文之前的逻辑\n",
    "\n",
    "    try:\n",
    "        # 获取资源的逻辑\n",
    "        resource = ...  # 资源对象\n",
    "        yield resource\n",
    "    finally:\n",
    "        # 释放资源的逻辑\n",
    "```"
   ]
  },
  {
   "cell_type": "markdown",
   "metadata": {},
   "source": [
    "## 可调用类型的申明\n",
    "\n",
    "可调用类型泛指那些可以被调用的类型,函数,方法,lambda,有`__call__`方法的类实例都可以用可调用类型来描述.\n",
    "\n",
    "其形式为`Callable[[参数1,参数2],返回]`.如果参数为不定参数,可以使用`...`表示,如果参数为空,可以用`[]`表示,如果返回值为空,可以使用`None`表示."
   ]
  },
  {
   "cell_type": "code",
   "execution_count": 29,
   "metadata": {},
   "outputs": [],
   "source": [
    "from typing import Callable\n",
    "\n",
    "def feeder(get_next_item: Callable[[], str]) -> None:\n",
    "    pass\n",
    "\n",
    "def async_query(on_success: Callable[[int], None],\n",
    "                on_error: Callable[[int, Exception], None]) -> None:\n",
    "    pass"
   ]
  },
  {
   "cell_type": "markdown",
   "metadata": {},
   "source": [
    "### Callable中参数`*args,**kwargs`的声明\n",
    "\n",
    "不定参数我们可以使用`...`表示,但这种方式有点抽象,如果参数只为`*args,**kwargs`就可以使用参数规范变量`ParamSpec`声明一个函数的参数,就像下面这样:"
   ]
  },
  {
   "cell_type": "code",
   "execution_count": 30,
   "metadata": {},
   "outputs": [],
   "source": [
    "from collections.abc import Callable\n",
    "from typing import ParamSpec\n",
    "import logging\n",
    "\n",
    "P = ParamSpec('P')\n",
    "\n",
    "def testParamSpec(f: Callable[P, str],*args: P.args, **kwargs: P.kwargs) -> str:\n",
    "    return f(*args,**kwargs)\n"
   ]
  },
  {
   "cell_type": "code",
   "execution_count": 31,
   "metadata": {},
   "outputs": [
    {
     "data": {
      "text/plain": [
       "'echo hello'"
      ]
     },
     "execution_count": 31,
     "metadata": {},
     "output_type": "execute_result"
    }
   ],
   "source": [
    "testParamSpec(lambda x: f\"echo {str(x)}\",\"hello\")"
   ]
  },
  {
   "cell_type": "markdown",
   "metadata": {},
   "source": [
    "需要注意ParamSpec的实例不是Callable参数位置中填写的类型,而是参数位置本身."
   ]
  },
  {
   "cell_type": "markdown",
   "metadata": {},
   "source": [
    "### Callable中含`*args,**kwargs`的参数声明\n",
    "\n",
    "一些情况我们可能需要描述的可调用对象除了有不定参数`*args,**kwargs`,也有一些指定了的函数.这种时候我们就可以使用`Concatenate`将正常参数类型和参数规范变量进行连接"
   ]
  },
  {
   "cell_type": "code",
   "execution_count": 32,
   "metadata": {},
   "outputs": [],
   "source": [
    "from collections.abc import Callable\n",
    "from typing import ParamSpec, Concatenate, Any\n",
    "import logging\n",
    "\n",
    "P = ParamSpec('P')\n",
    "\n",
    "def testConcatenate(f: Callable[Concatenate[int,str,P], str],*args: P.args, **kwargs: P.kwargs) -> str:\n",
    "    return f(1,\"Concatenate\",*args,**kwargs)"
   ]
  },
  {
   "cell_type": "code",
   "execution_count": 33,
   "metadata": {},
   "outputs": [
    {
     "data": {
      "text/plain": [
       "\"echo a: 1 b:Concatenate,args:('hello',)\""
      ]
     },
     "execution_count": 33,
     "metadata": {},
     "output_type": "execute_result"
    }
   ],
   "source": [
    "testConcatenate(lambda a,b,*args,**kwargs: f\"echo a: {a} b:{b},args:{args}\",\"hello\")"
   ]
  },
  {
   "cell_type": "markdown",
   "metadata": {},
   "source": [
    "### 装饰器声明\n",
    "\n",
    "装饰器作为一类使用函数作为参数且返回函数的函数可以大量的使用到`ParamSpec`和`Concatenate`,比如下面:"
   ]
  },
  {
   "cell_type": "code",
   "execution_count": 34,
   "metadata": {},
   "outputs": [
    {
     "data": {
      "text/plain": [
       "6.6"
      ]
     },
     "execution_count": 34,
     "metadata": {},
     "output_type": "execute_result"
    }
   ],
   "source": [
    "from collections.abc import Callable\n",
    "from threading import Lock\n",
    "from typing import Concatenate, ParamSpec, TypeVar\n",
    "\n",
    "P = ParamSpec('P')\n",
    "R = TypeVar('R')\n",
    "\n",
    "# Use this lock to ensure that only one thread is executing a function\n",
    "# at any time.\n",
    "my_lock = Lock()\n",
    "\n",
    "def with_lock(f: Callable[Concatenate[Lock, P], R]) -> Callable[P, R]:\n",
    "    '''A type-safe decorator which provides a lock.'''\n",
    "    def inner(*args: P.args, **kwargs: P.kwargs) -> R:\n",
    "        # Provide the lock as the first argument.\n",
    "        return f(my_lock, *args, **kwargs)\n",
    "    return inner\n",
    "\n",
    "@with_lock\n",
    "def sum_threadsafe(lock: Lock, numbers: list[float]) -> float:\n",
    "    '''Add a list of numbers together in a thread-safe manner.'''\n",
    "    with lock:\n",
    "        return sum(numbers)\n",
    "\n",
    "# We don't need to pass in the lock ourselves thanks to the decorator.\n",
    "sum_threadsafe([1.1, 2.2, 3.3])"
   ]
  },
  {
   "cell_type": "markdown",
   "metadata": {},
   "source": [
    "## 类型别名\n",
    "\n",
    "一些时候我们希望给特定类型一个别名以明确其含义,这时可以直接使用"
   ]
  },
  {
   "cell_type": "code",
   "execution_count": 35,
   "metadata": {},
   "outputs": [],
   "source": [
    "Url = str\n",
    "def retry(url: Url, retry_count: int) -> None:\n",
    "    pass"
   ]
  },
  {
   "cell_type": "markdown",
   "metadata": {},
   "source": [
    "更加推荐的是使用`TypeAlias`显式的声明"
   ]
  },
  {
   "cell_type": "code",
   "execution_count": 36,
   "metadata": {},
   "outputs": [],
   "source": [
    "from typing import TypeAlias\n",
    "factors: TypeAlias = list[int]"
   ]
  },
  {
   "cell_type": "markdown",
   "metadata": {},
   "source": [
    "## 新类型\n",
    "\n",
    "类型别名毕竟只是别名,比如上面的例子,在url参数中直接填一个str类型的数据不会有任何问题,一些时候我们希望更加明确的声明一个新类型以避免函数在调用时被传入旧类型,这种时候就可以使用`NewType`来实现.注意`NewType`仅是一个声明,只会在类型检验时有效,运行时和别名行为一致.\n"
   ]
  },
  {
   "cell_type": "code",
   "execution_count": 37,
   "metadata": {},
   "outputs": [],
   "source": [
    "from typing import NewType\n",
    "\n",
    "UserId = NewType('UserId', int)\n",
    "some_id = UserId(524313)"
   ]
  },
  {
   "cell_type": "code",
   "execution_count": 38,
   "metadata": {},
   "outputs": [],
   "source": [
    "def get_user_name(user_id: UserId) -> str:\n",
    "    return str(user_id)"
   ]
  },
  {
   "cell_type": "markdown",
   "metadata": {},
   "source": [
    "## `*`自定义泛型注解\n",
    "\n",
    "\n",
    "类型注释可以直接使用系统自带的类和自己定义的类,但对于泛型注解就力不从心了,对于这种需求,python内置了typing模块来帮助泛型注释"
   ]
  },
  {
   "cell_type": "markdown",
   "metadata": {},
   "source": [
    "### 泛型\n",
    "\n",
    "用过强类型编程语言的都应该知道泛型,泛型指的是一个描述类型的类型,通常泛型是和多态一起的,泛型是多态的一个实现方式.python天然多态,泛型就似乎有点脱裤子放屁了.但也不是全无用处,它起码可以在同一个上下文中明确类型不变.比如我们想声明一个从序列中找出第一个item的函数,这时候就可以像下面这样声明:"
   ]
  },
  {
   "cell_type": "code",
   "execution_count": 39,
   "metadata": {},
   "outputs": [],
   "source": [
    "from typing import Sequence, TypeVar\n",
    "\n",
    "T = TypeVar('T')      # Declare type variable\n",
    "\n",
    "def first(l: Sequence[T]) -> T:   # Generic function\n",
    "    return l[0]"
   ]
  },
  {
   "cell_type": "markdown",
   "metadata": {},
   "source": [
    "### 受限泛型\n",
    "\n",
    "泛型更常用的方法是受限泛型,我们可以明确这个泛型的类型可以在特定的一个范围内."
   ]
  },
  {
   "cell_type": "code",
   "execution_count": 40,
   "metadata": {},
   "outputs": [],
   "source": [
    "from typing import TypeVar\n",
    "\n",
    "AnyStr = TypeVar('AnyStr', str, bytes)#必须是str或者bytes\n",
    "\n",
    "def concat(x: AnyStr, y: AnyStr) -> AnyStr:\n",
    "    return x + y"
   ]
  },
  {
   "cell_type": "markdown",
   "metadata": {},
   "source": [
    "### 用户自定义泛型类\n",
    "\n",
    "用户定义的类可以定义为泛型类."
   ]
  },
  {
   "cell_type": "code",
   "execution_count": 41,
   "metadata": {},
   "outputs": [],
   "source": [
    "from typing import TypeVar, Generic\n",
    "from typing import Iterable\n",
    "class Logger:\n",
    "    pass\n",
    "\n",
    "T = TypeVar('T')\n",
    "\n",
    "class LoggedVar(Generic[T]):\n",
    "    def __init__(self, value: T, name: str, logger: Logger) -> None:\n",
    "        self.name = name\n",
    "        self.logger = logger\n",
    "        self.value = value\n",
    "\n",
    "    def set(self, new: T) -> None:\n",
    "        self.log('Set ' + repr(self.value))\n",
    "        self.value = new\n",
    "\n",
    "    def get(self) -> T:\n",
    "        self.log('Get ' + repr(self.value))\n",
    "        return self.value\n",
    "\n",
    "    def log(self, message: str) -> None:\n",
    "        self.logger.info('{}: {}'.format(self.name,message))\n",
    "        \n",
    "\n",
    "\n",
    "def zero_all_vars(vars: Iterable[LoggedVar[int]]) -> None:\n",
    "    for var in vars:\n",
    "        var.set(0)"
   ]
  },
  {
   "cell_type": "markdown",
   "metadata": {},
   "source": [
    "其中继承的`Generic[T]`表示这是一个类是泛型类,且`T`可以在这个函数的定义上下文中被统一.使用的时候T可以被替换为定义时圈定范围内的类型.\n",
    "\n",
    "泛型类需要在使用时声明其中的泛型具体是什么类型,比如定义如下函数:"
   ]
  },
  {
   "cell_type": "code",
   "execution_count": 42,
   "metadata": {},
   "outputs": [],
   "source": [
    "from collections.abc import Iterable\n",
    "\n",
    "def zero_all_vars(vars: Iterable[LoggedVar[int]]) -> None:\n",
    "    for var in vars:\n",
    "        var.set(0)"
   ]
  },
  {
   "cell_type": "markdown",
   "metadata": {},
   "source": [
    "`LoggedVar[int]`就明确了这个函数中泛型类中泛型的专指int类型."
   ]
  },
  {
   "cell_type": "markdown",
   "metadata": {},
   "source": [
    "## `*`协议\n",
    "\n",
    "python是鸭子类型,协议是其鸭子类型的底层数据模型,一些时候我们希望静态检测按照协议而非类型运行,这时就可以使用`Protocol`来定义,该特性可以参考[pep-544](https://peps.python.org/pep-0544/).\n",
    "\n",
    "简单来说我们可以继承`Protocol`来规定一个协议类,这个协议类中可以定义字段也可以定义方法,当使用这个协议类作为约束时静态校验器就会检查实例否有对应的字段和方法,从而判断是否满足协议.\n",
    "这种用法有点类似go中的接口`interface`的设定.协议本身不实现功能,仅作为约定存在."
   ]
  },
  {
   "cell_type": "code",
   "execution_count": 45,
   "metadata": {},
   "outputs": [],
   "source": [
    "from typing import Protocol, List, runtime_checkable\n",
    "from abc import abstractmethod\n",
    "from typing_extensions import Self\n",
    "\n",
    "@runtime_checkable\n",
    "class Template(Protocol):\n",
    "    name: str        # This is a protocol member\n",
    "    value: int = 0   # This one too (with default)\n",
    "\n",
    "    def method_with_implement(self:Self) -> str:\n",
    "        return \"deep blue\"\n",
    "    \n",
    "    def method_with_pass_implement(self) -> None:\n",
    "        ...\n",
    "    @abstractmethod\n",
    "    def abstractmethod_without_implement(self) -> int:\n",
    "        return 0\n",
    "    "
   ]
  },
  {
   "cell_type": "markdown",
   "metadata": {},
   "source": [
    "我们可以使用`runtime_checkable`装饰`Protocol`的子类,这样就可以在运行时使用`isinstance()`来检测对象是否符合协议了"
   ]
  },
  {
   "cell_type": "code",
   "execution_count": 46,
   "metadata": {},
   "outputs": [],
   "source": [
    "def test_template(t:Template)->str:\n",
    "    return t.method_with_implement()"
   ]
  },
  {
   "cell_type": "code",
   "execution_count": 47,
   "metadata": {},
   "outputs": [
    {
     "data": {
      "text/plain": [
       "False"
      ]
     },
     "execution_count": 47,
     "metadata": {},
     "output_type": "execute_result"
    }
   ],
   "source": [
    "isinstance(Template,int)"
   ]
  },
  {
   "cell_type": "markdown",
   "metadata": {},
   "source": [
    "## 强制类型转换\n",
    "\n",
    "可以使用`cast`函数强行将一个对象重新声明为特定类型"
   ]
  },
  {
   "cell_type": "code",
   "execution_count": 48,
   "metadata": {},
   "outputs": [
    {
     "data": {
      "text/plain": [
       "15"
      ]
     },
     "execution_count": 48,
     "metadata": {},
     "output_type": "execute_result"
    }
   ],
   "source": [
    "from typing import cast\n",
    "value = 15\n",
    "newvalue = cast(NewType,value)\n",
    "newvalue"
   ]
  },
  {
   "cell_type": "markdown",
   "metadata": {},
   "source": [
    "## 静态类型检验\n",
    "\n",
    "python解释器并不会做静态类型检验,我们可以利用[mypy](http://mypy-lang.org/)来实现"
   ]
  },
  {
   "cell_type": "code",
   "execution_count": 53,
   "metadata": {},
   "outputs": [
    {
     "name": "stdout",
     "output_type": "stream",
     "text": [
      "Overwriting examples/typehints/mypytest.py\n"
     ]
    }
   ],
   "source": [
    "%%writefile examples/typehints/mypytest.py\n",
    "\n",
    "from typing import Callable\n",
    "\n",
    "def twice(i: int, next: Callable[[int], int]) -> int:\n",
    "    return next(next(i))\n",
    "\n",
    "def add(i: int) -> str:#写成返回str,这样就会报错!\n",
    "    return i + 1\n",
    "\n",
    "print(twice(3, add))   # 5"
   ]
  },
  {
   "cell_type": "code",
   "execution_count": 54,
   "metadata": {},
   "outputs": [
    {
     "name": "stdout",
     "output_type": "stream",
     "text": [
      "examples/typehints/mypytest.py:8: \u001b[1m\u001b[31merror:\u001b[m Incompatible return value type (got \u001b[m\u001b[1m\"int\"\u001b[m, expected \u001b[m\u001b[1m\"str\"\u001b[m)  \u001b[m\u001b[33m[return-value]\u001b[m\n",
      "examples/typehints/mypytest.py:10: \u001b[1m\u001b[31merror:\u001b[m Argument 2 to \u001b[m\u001b[1m\"twice\"\u001b[m has incompatible type \u001b[m\u001b[1m\"Callable[[int], str]\"\u001b[m; expected \u001b[m\u001b[1m\"Callable[[int], int]\"\u001b[m  \u001b[m\u001b[33m[arg-type]\u001b[m\n",
      "\u001b[1m\u001b[31mFound 2 errors in 1 file (checked 1 source file)\u001b[m\n"
     ]
    }
   ],
   "source": [
    "!mypy examples/typehints/mypytest.py"
   ]
  },
  {
   "cell_type": "markdown",
   "metadata": {},
   "source": [
    "## `*`静态类型声明文件\n",
    "\n",
    "如果我们要在不改变python脚本源码的情况下为其声明接口类型,可以通过`stub files`的形式来实现.所谓`stub files`指的是纯用于声明接口类型的的一类文件,使用后缀为`.pyi`.\n",
    "\n",
    "`stub files`存放位置有两种:\n",
    "\n",
    "1. 放在对应`.py`文件同目录下\n",
    "\n",
    "2. 按实现模块的文件层次结构将对应文件的`stub files`存放在固定文件夹中,比如项目根目录在`~/work/myproject`.模块在`~/work/myproject/pkg1`,`stub files`可以存放在`~/work/myproject/stubs`,在校验时添加环境变量`export MYPYPATH=~/work/myproject/stubs`即可\n",
    "\n",
    "无论哪种方式存放,`stub files`中的声明都会覆盖`.py`实现文件中的声明,这样如果有个库没有类型声明,你可以自己给他加上`stub files`从而为其提供本地的类型声明\n",
    "\n",
    "`stub files`中的内容只有接口声明不包含实现\n",
    "\n",
    "+ 全局变量声明:\n",
    "\n",
    "    ```python\n",
    "    x: int\n",
    "    ```\n",
    "\n",
    "+ 函数声明:\n",
    "\n",
    "    ```python\n",
    "    def func1(a: int, b: int = ...) -> int: ...\n",
    "    \n",
    "    def func2(a: int, b: int = ...) -> int:\n",
    "        raise NotImplementedError()\n",
    "        \n",
    "    def func3(a: int, b: int = ...) -> int:\n",
    "        \"\"\"Some docstring.\"\"\"\n",
    "        pass\n",
    "    ```\n",
    "    \n",
    "    在`stub files`中函数的实现部分通常使用`...`表示;如果确定这个函数并未实现,我们也可以在申明处直接抛出`NotImplementedError()`;如果要将函数的`docstring`也写在存根文件中则应该在`docstring`下面写上`pass`忽略实现部分.同时有默认值的参数,默认值也使用`...`表示以避免和实现部分冲突.\n",
    "    \n",
    "+ `类声明`\n",
    "\n",
    "    ```python\n",
    "\n",
    "    class Resource:\n",
    "        bar: str\n",
    "        def ok_1(self, foo: list[str] = ...) -> None: ...\n",
    "\n",
    "        def ok_2(self, foo: list[str] = ...) -> None:\n",
    "            raise NotImplementedError()\n",
    "\n",
    "        def ok_3(self, foo: list[str] = ...) -> None:\n",
    "            \"\"\"Some docstring\"\"\"\n",
    "            pass\n",
    "\n",
    "    ```\n",
    "\n",
    "    类中的方法和函数遵循同样的规则.\n"
   ]
  },
  {
   "cell_type": "markdown",
   "metadata": {},
   "source": [
    "## `*`运行时类型检测\n",
    "\n",
    "标准库自带的typing只能用于静态检测,当我们需要运行时检测时可以借助[typeguard](https://github.com/agronholm/typeguard)来实现.`typeguard`使用装饰器语法,\n",
    "它提供了装饰器 `@typechecked` 用于运行时进行类型检测.同时提供了工具`check_type`来对对象的类型和指定声明类型进行比较.\n",
    "还提供了`install_import_hook`用于全局打开运行时类型检测.\n",
    "\n",
    "不过type hints设计的出发点就是静态检验,运行时进行类型检验势必会拉慢python程序的运行速度.python本就慢,python 3.11花了一整个版本的开发时间也就整体提速了30%,我们实在是没有必要在这种地方拖慢运行时间,得不偿失."
   ]
  }
 ],
 "metadata": {
  "kernelspec": {
   "display_name": "Python 3 (ipykernel)",
   "language": "python",
   "name": "python3"
  },
  "language_info": {
   "codemirror_mode": {
    "name": "ipython",
    "version": 3
   },
   "file_extension": ".py",
   "mimetype": "text/x-python",
   "name": "python",
   "nbconvert_exporter": "python",
   "pygments_lexer": "ipython3",
   "version": "3.10.12"
  }
 },
 "nbformat": 4,
 "nbformat_minor": 4
}
