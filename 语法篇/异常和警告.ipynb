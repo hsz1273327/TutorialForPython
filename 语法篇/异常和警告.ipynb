{
 "cells": [
  {
   "cell_type": "markdown",
   "metadata": {},
   "source": [
    "# 异常和警告\n",
    "\n",
    "通常我们会在程序的编程的过程中就可以预期到一些会导致程序错误退出的事件,这种预期中的异常事件被称作`异常(Exception)`.\n",
    "\n",
    "而有些时候我们判断需要通过一些途径向用户发送消息以提醒用户在程序中的某些条件下不能保证引发异常并终止程序但又有一定的威胁.例如,当程序使用过时的模块时,我们就应该使用`警告(warnings)`.在python中警告也是一种异常.\n",
    "\n",
    "异常和警告是python语言中框架/服务开发重要工具.它为框架/服务提供了业务流的提醒和退出机制.\n",
    "\n",
    "本节的预备知识包括:\n",
    "\n",
    "+ [流程控制中的上下文管理器](http://blog.hszofficial.site/TutorialForPython/语法篇/流程控制/单线程同步流程控制.html#上下文管理器和with块)"
   ]
  },
  {
   "cell_type": "markdown",
   "metadata": {},
   "source": [
    "## 异常\n",
    "\n",
    "异常即是一个事件,该事件会在程序执行过程中发生并影响程序的正常执行.一般情况下在Python无法正常处理程序时就会发生一个异常.异常也是Python得对象,表示一个错误.当Python脚本发生异常时我们可以捕获它进行处理(服务),也可以让他终止程序的执行(脚本).\n",
    "\n",
    "python的标准异常可以在[官网文档](https://docs.python.org/3/library/exceptions.html?highlight=exception)中查看,常用的如下:\n",
    "\n",
    "异常名称|描述\n",
    "---|---\n",
    "`SystemExit`|解释器请求退出\n",
    "`KeyboardInterrupt`|用户中断执行(通常是输入^C)\n",
    "`Exception`|常规错误的基类\n",
    "`StopIteration`|迭代器没有更多的值\n",
    "`GeneratorExit`|生成器(generator)发生异常来通知退出\n",
    "`StandardError`|所有的内建标准异常的基类\n",
    "`ArithmeticError`|所有数值计算错误的基类\n",
    "`FloatingPointError`|浮点计算错误\n",
    "`OverflowError`|数值运算超出最大限制\n",
    "`ZeroDivisionError`|除(或取模)零 (所有数据类型)\n",
    "`AssertionError`|断言语句失败\n",
    "`AttributeError`|对象没有这个属性\n",
    "`EOFError`|没有内建输入,到达EOF 标记\n",
    "`EnvironmentError`|操作系统错误的基类\n",
    "`IOError`|输入/输出操作失败\n",
    "`OSError`|操作系统错误\n",
    "`WindowsError`|系统调用失败\n",
    "`ImportError`|导入模块/对象失败\n",
    "`LookupError`|无效数据查询的基类\n",
    "`IndexError`|序列中没有此索引(index)\n",
    "`KeyError`|映射中没有这个键\n",
    "`MemoryError`|内存溢出错误(对于Python 解释器不是致命的)\n",
    "`NameError`|未声明/初始化对象 (没有属性)\n",
    "`UnboundLocalError`|访问未初始化的本地变量\n",
    "`ReferenceError`|弱引用(Weak reference)试图访问已经垃圾回收了的对象\n",
    "`RuntimeError`|一般的运行时错误\n",
    "`NotImplementedError`|尚未实现的方法\n",
    "`SyntaxError`|Python 语法错误\n",
    "`IndentationError`|缩进错误\n",
    "`TabError`|Tab 和空格混用\n",
    "`SystemError`|一般的解释器系统错误\n",
    "`TypeError`|对类型无效的操作\n",
    "`ValueError`|传入无效的参数\n",
    "`UnicodeError`|Unicode 相关的错误\n",
    "`UnicodeDecodeError`|Unicode 解码时的错误\n",
    "`UnicodeEncodeError`|Unicode 编码时错误\n",
    "`UnicodeTranslateError`|Unicode 转换时错误\n",
    "`Warning`|警告的基类\n",
    "`DeprecationWarning`|关于被弃用警告\n",
    "`FutureWarning`|关于构造将来语义会有改变的警告\n",
    "`OverflowWarning`|旧的关于自动提升为长整型(long)的警告\n",
    "`PendingDeprecationWarning`|关于特性将会被废弃的警告\n",
    "`RuntimeWarning`|可疑的运行时行为(runtime behavior)的警告\n",
    "`SyntaxWarning`|可疑的语法的警告\n",
    "`UserWarning`|用户代码生成的警告\n",
    "\n",
    "### 异常捕获处理\n",
    "\n",
    "`try/except`语句用来检测`try`语句块中的错误，从而让`except`语句捕获异常信息并处理. 如果你不想在异常发生时结束你的程序,只需在`try`里捕获它\n",
    "\n",
    "```python\n",
    "try:\n",
    "    <语句>        #运行别的代码\n",
    "except <名字>：\n",
    "    <语句>        #如果在try部份引发了'name'异常\n",
    "except <名字>，<数据>:\n",
    "    <语句>        #如果引发了'name'异常，获得附加的数据\n",
    "else:\n",
    "    <语句>        #如果没有异常发生\n",
    "finally:\n",
    "    <语句>    #退出try时总会执行\n",
    "```\n",
    "\n",
    "try的工作原理是当开始一个try语句后,python就在当前程序的上下文中作标记,这样当异常出现时就可以回到这里,try子句先执行,接下来会发生什么依赖于执行时是否出现异常.\n",
    "\n",
    "+ 如果当try后的语句执行时发生异常,python就跳回到try并执行第一个匹配该异常的except子句,异常处理完毕控制流就通过整个try语句(除非在处理异常时又引发新的异常).\n",
    "\n",
    "+ 如果在try后的语句里发生了异常却没有匹配的except子句,异常将被递交到上层的try或者到程序的最上层(这样将结束程序并打印缺省的出错信息).\n",
    "\n",
    "+ 如果在try子句执行时没有发生异常,python将执行`else`语句后的语句(如果有else的话),然后控制流通过整个try语句.\n",
    "\n",
    "无论是否有异常,`finally`都将被执行,它一般作为存放收尾动作的地方,但是注意`finally`有个陷阱--如果主干上的错误分支中没有对应的捕捉,那么他将被保存在一个临时的位置,而如果同时finally中有错误,则这个临时的错误会被finally中的错误给替代.\n",
    "\n",
    "使用异常捕获处理语句应该尽量精准地包裹可能有错误的代码.\n",
    "\n",
    "Python遵守`尽早失败`原则,认为程序应该尽早报告错误.例如,Python中没有\"未定义\"的值:在初始化之前引用变量会报错;如果`k`不存在,`my_dict[k]`会抛出异常(JavaScript则不然).因为`尽早失败`原则,python代码中try语句会比较多,但即便如此,我们的单个`try`结构应该尽量精准的包裹可能出错的代码.\n",
    "\n",
    "\n",
    "### 抛出异常\n",
    "\n",
    "我们可以使用raise语句自己触发异常 raise语法格式如下\n",
    "\n",
    "```python\n",
    "raise [Exception [, args [, traceback]]]\n",
    "```\n",
    "\n",
    "### 自定义异常\n",
    "\n",
    "如果自己写模块,最好自定义模块的异常,一方面可以更好的分析代码,另一方面也让用模块的用户更容易追踪错误.\n"
   ]
  },
  {
   "cell_type": "code",
   "execution_count": 1,
   "metadata": {},
   "outputs": [],
   "source": [
    "class Networkerror(RuntimeError):\n",
    "    def __init__(self, arg):\n",
    "        self.args = arg"
   ]
  },
  {
   "cell_type": "code",
   "execution_count": 2,
   "metadata": {
    "scrolled": true
   },
   "outputs": [
    {
     "name": "stdout",
     "output_type": "stream",
     "text": [
      "('B', 'a', 'd', ' ', 'h', 'o', 's', 't', 'n', 'a', 'm', 'e')\n"
     ]
    }
   ],
   "source": [
    "try:\n",
    "    raise Networkerror(\"Bad hostname\")\n",
    "except Networkerror as e:\n",
    "    print(e.args)"
   ]
  },
  {
   "cell_type": "markdown",
   "metadata": {},
   "source": [
    "### 异常类的`__note__`字段[3.11]\n",
    "\n",
    "`BaseException`新增了一个可变属性`__note__`.这个属性可以作为异常的注释,会连同错误信息一起打印出来.通常用于在捕获异常后追加信息:\n",
    "\n",
    "```python\n",
    "try:\n",
    "    1 / 0\n",
    "except Exception as e:\n",
    "    e.__note__ = \"Custom message\"\n",
    "    raise e\n",
    "```\n",
    "\n"
   ]
  },
  {
   "cell_type": "markdown",
   "metadata": {},
   "source": [
    "## 异常组[3.11]\n",
    "\n",
    "异常组这个概念的提出是为了让程序在一个时间内同时抛出/处理多个异常.举个例子:\n",
    "\n",
    "```python\n",
    "raise ExceptionGroup('bad param', [ValueError('bad value'), TypeError('bad type')])\n",
    "```\n",
    "\n",
    "这样就抛出了一个包含`ValueError`和`TypeError`两个异常的异常组.\n",
    "\n",
    "而捕获异常组则需要使用`Except*`语法,它和原本的`Except`语法不同之处仅在于`Except`仅捕获一个异常而`Except*`可以捕获多个异常.\n",
    "\n",
    "比如下面的写法\n",
    "\n",
    "```python\n",
    "try:\n",
    "    raise ExceptionGroup('msg', [FooError(1), FooError(2), BazError()])\n",
    "except* SpamError:\n",
    "    ...\n",
    "except* FooError:\n",
    "    ...\n",
    "```\n",
    "则两个`except*`分支都会被触发.而且`except* FooError`分支可以被触发两次且`except*`捕获的异常会当作异常组处理\n",
    "\n",
    "当然由于`ExceptionGroup`本身也继承自`BaseException`,因此`ExceptionGroup`也是个异常,也可以使用`Except`语法直接捕获,而`Except*`并不能直接捕获异常组本身:\n",
    "\n",
    "```python\n",
    "try:\n",
    "    raise ExceptionGroup('msg', [FooError(1), FooError(2), BazError()])\n",
    "except ExceptionGroup as eg:\n",
    "    ...\n",
    "```\n",
    "\n",
    "需要注意`Except*`可以被多次执行而`Except`只会被执行一次,这是一个根本性的变化.在之前只有`Except`时我们可以将每个分支作为程序的终点,而`Except*`使用时需要小心不能这样做."
   ]
  },
  {
   "cell_type": "markdown",
   "metadata": {},
   "source": [
    "## 输出警告\n",
    "\n",
    "警告不应被像异常一样抛出以中断业务流,但应该被输出以提醒用户,在python中有专门做这个事情的标准库`warnings`."
   ]
  },
  {
   "cell_type": "code",
   "execution_count": 3,
   "metadata": {},
   "outputs": [],
   "source": [
    "import warnings"
   ]
  },
  {
   "cell_type": "markdown",
   "metadata": {},
   "source": [
    "### 抛出警告\n",
    "\n",
    "\n",
    "抛出警告使用`warnings.warn(message:str, warning:Warning)`来实现,它不会像用`raise`抛出一样中断业务流"
   ]
  },
  {
   "cell_type": "code",
   "execution_count": 7,
   "metadata": {},
   "outputs": [
    {
     "ename": "DeprecationWarning",
     "evalue": "Deprecation",
     "output_type": "error",
     "traceback": [
      "\u001b[0;31m---------------------------------------------------------------------------\u001b[0m",
      "\u001b[0;31mDeprecationWarning\u001b[0m                        Traceback (most recent call last)",
      "\u001b[0;32m<ipython-input-7-d712af4440d8>\u001b[0m in \u001b[0;36m<module>\u001b[0;34m()\u001b[0m\n\u001b[0;32m----> 1\u001b[0;31m \u001b[0;32mraise\u001b[0m \u001b[0mDeprecationWarning\u001b[0m\u001b[0;34m(\u001b[0m\u001b[0;34m\"Deprecation\"\u001b[0m\u001b[0;34m)\u001b[0m\u001b[0;34m\u001b[0m\u001b[0m\n\u001b[0m\u001b[1;32m      2\u001b[0m \u001b[0mprint\u001b[0m\u001b[0;34m(\u001b[0m\u001b[0;34m\"next\"\u001b[0m\u001b[0;34m)\u001b[0m\u001b[0;34m\u001b[0m\u001b[0m\n",
      "\u001b[0;31mDeprecationWarning\u001b[0m: Deprecation"
     ]
    }
   ],
   "source": [
    "raise DeprecationWarning(\"Deprecation\")\n",
    "print(\"next\")"
   ]
  },
  {
   "cell_type": "code",
   "execution_count": 8,
   "metadata": {},
   "outputs": [
    {
     "name": "stdout",
     "output_type": "stream",
     "text": [
      "next\n"
     ]
    },
    {
     "name": "stderr",
     "output_type": "stream",
     "text": [
      "/Users/huangsizhe/anaconda3/lib/python3.6/site-packages/ipykernel_launcher.py:1: DeprecationWarning: Deprecation\n",
      "  \"\"\"Entry point for launching an IPython kernel.\n"
     ]
    }
   ],
   "source": [
    "warnings.warn(\"Deprecation\", DeprecationWarning)\n",
    "print(\"next\")"
   ]
  },
  {
   "cell_type": "markdown",
   "metadata": {},
   "source": [
    "### 捕获警告\n",
    "\n",
    "警告的捕获也不使用try语句,而是使用上下文管理器`warnings.catch_warnings`结合行为过滤器`warnings.simplefilter`或者`warnings.filterwarnings`进行."
   ]
  },
  {
   "cell_type": "code",
   "execution_count": 9,
   "metadata": {},
   "outputs": [],
   "source": [
    "def fxn():\n",
    "    warnings.warn(\"deprecated\", DeprecationWarning)\n",
    "\n",
    "with warnings.catch_warnings():\n",
    "    warnings.simplefilter(\"ignore\")\n",
    "    fxn()"
   ]
  },
  {
   "cell_type": "markdown",
   "metadata": {},
   "source": [
    "其中`simplefilter`的参数`ignore`是指定捕获后行为用的,可选的有:\n",
    "\n",
    "\n",
    "取值|描述\n",
    "---|---\n",
    "\"error\"|将匹配的警告转化为异常\n",
    "\"ignore\"|从不打印匹配的警告\n",
    "\"always\"|始终打印匹配的警告\n",
    "\"default\"|打印出现警告的每个位置的首次匹配警告\n",
    "\"module\"|打印出现警告的每个模块的首次匹配警告\n",
    "\"once\"|不管位置如何,只打印首次出现的匹配警告"
   ]
  }
 ],
 "metadata": {
  "anaconda-cloud": {},
  "kernelspec": {
   "display_name": "Python 3 (ipykernel)",
   "language": "python",
   "name": "python3"
  },
  "language_info": {
   "codemirror_mode": {
    "name": "ipython",
    "version": 3
   },
   "file_extension": ".py",
   "mimetype": "text/x-python",
   "name": "python",
   "nbconvert_exporter": "python",
   "pygments_lexer": "ipython3",
   "version": "3.10.11"
  }
 },
 "nbformat": 4,
 "nbformat_minor": 4
}
