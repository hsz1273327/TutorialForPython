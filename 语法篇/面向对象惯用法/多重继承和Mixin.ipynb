{
 "cells": [
  {
   "cell_type": "markdown",
   "metadata": {},
   "source": [
    "# 多重继承\n",
    "\n",
    "很多人觉得多重继承得不偿失.不支持多重继承的 Java 显然没有什么损失,C++ 对多重继承的滥用伤害了很多人,这可能还坚定了使用 Java 的决心.然而,Java的巨大成功和广泛影响,也导致很多刚接触Python的程序员没怎么见过真实的代码使用多重继承."
   ]
  },
  {
   "cell_type": "markdown",
   "metadata": {},
   "source": [
    "## 子类化内置类型很麻烦\n",
    "\n",
    "在 Python 2.2 之前,内置类型(如`list`或`dict`)不能子类化.在Python2.2之后,内置类型可以子类化了,但是有个重要的注意事项--内置类型(使用 C 语言编写)不会调用用户定义的类覆盖的特殊方法."
   ]
  },
  {
   "cell_type": "code",
   "execution_count": 1,
   "metadata": {},
   "outputs": [],
   "source": [
    "class DoppelDict(dict):\n",
    "    def __setitem__(self, key, value):\n",
    "        super().__setitem__(key, [value] * 2)"
   ]
  },
  {
   "cell_type": "code",
   "execution_count": 2,
   "metadata": {},
   "outputs": [],
   "source": [
    "dd = DoppelDict(one=1)"
   ]
  },
  {
   "cell_type": "code",
   "execution_count": 3,
   "metadata": {},
   "outputs": [
    {
     "data": {
      "text/plain": [
       "{'one': 1}"
      ]
     },
     "execution_count": 3,
     "metadata": {},
     "output_type": "execute_result"
    }
   ],
   "source": [
    "dd"
   ]
  },
  {
   "cell_type": "code",
   "execution_count": 4,
   "metadata": {},
   "outputs": [],
   "source": [
    "dd['two'] = 2"
   ]
  },
  {
   "cell_type": "code",
   "execution_count": 5,
   "metadata": {},
   "outputs": [
    {
     "data": {
      "text/plain": [
       "{'one': 1, 'two': [2, 2]}"
      ]
     },
     "execution_count": 5,
     "metadata": {},
     "output_type": "execute_result"
    }
   ],
   "source": [
    "dd"
   ]
  },
  {
   "cell_type": "code",
   "execution_count": 6,
   "metadata": {},
   "outputs": [],
   "source": [
    "dd.update(three=3)"
   ]
  },
  {
   "cell_type": "code",
   "execution_count": 7,
   "metadata": {},
   "outputs": [
    {
     "data": {
      "text/plain": [
       "{'one': 1, 'three': 3, 'two': [2, 2]}"
      ]
     },
     "execution_count": 7,
     "metadata": {},
     "output_type": "execute_result"
    }
   ],
   "source": [
    "dd"
   ]
  },
  {
   "cell_type": "markdown",
   "metadata": {},
   "source": [
    "原生类型的这种行为违背了面向对象编程的一个基本原则:始终应该从实例(self)所属的类开始搜索方法,即使在超类实现的类中调用也是如此.在这种糟糕的局面中,`__missing__`方法却能按预期方式工作,不过这只是特例.\n",
    "\n",
    "不只实例内部的调用有这个问题(`self.get()`不调用`self.__getitem__()`),内置类型的方法调用的其他类的方法,如果被覆盖了,也不会被调用.\n",
    "\n",
    "例子:`dict.update`方法会忽略`AnswerDict.__getitem__`方法"
   ]
  },
  {
   "cell_type": "code",
   "execution_count": 8,
   "metadata": {},
   "outputs": [],
   "source": [
    "class AnswerDict(dict):\n",
    "    def __getitem__(self, key):\n",
    "        return 42"
   ]
  },
  {
   "cell_type": "code",
   "execution_count": 9,
   "metadata": {},
   "outputs": [
    {
     "data": {
      "text/plain": [
       "42"
      ]
     },
     "execution_count": 9,
     "metadata": {},
     "output_type": "execute_result"
    }
   ],
   "source": [
    "ad = AnswerDict(a='foo')  \n",
    "ad['a'] "
   ]
  },
  {
   "cell_type": "code",
   "execution_count": 10,
   "metadata": {},
   "outputs": [
    {
     "data": {
      "text/plain": [
       "'foo'"
      ]
     },
     "execution_count": 10,
     "metadata": {},
     "output_type": "execute_result"
    }
   ],
   "source": [
    "d = {}\n",
    "d.update(ad) \n",
    "d['a']"
   ]
  },
  {
   "cell_type": "code",
   "execution_count": 11,
   "metadata": {},
   "outputs": [
    {
     "data": {
      "text/plain": [
       "{'a': 'foo'}"
      ]
     },
     "execution_count": 11,
     "metadata": {},
     "output_type": "execute_result"
    }
   ],
   "source": [
    "d"
   ]
  },
  {
   "cell_type": "markdown",
   "metadata": {},
   "source": [
    "直接子类化内置类型(如`dict`、`list` 或`str`)容易出错,因为内置类型的方法通常会忽略用户覆盖的方法.不要子类化内置类型,用户自己定义的类应该继承`collections`模块中的类,例如 `UserDict`、`UserList` 和 `UserString`,这些类做了特殊设计,因此 易于扩展.\n",
    "\n",
    "如果不子类化 dict,而是子类化`collections.UserDict`,上面例子中暴露的问题便迎刃而解了"
   ]
  },
  {
   "cell_type": "code",
   "execution_count": 12,
   "metadata": {},
   "outputs": [],
   "source": [
    "import collections\n",
    "\n",
    "class DoppelDict2(collections.UserDict):\n",
    "    def __setitem__(self, key, value):\n",
    "        super().__setitem__(key, [value] * 2)"
   ]
  },
  {
   "cell_type": "code",
   "execution_count": 13,
   "metadata": {},
   "outputs": [
    {
     "data": {
      "text/plain": [
       "{'one': [1, 1]}"
      ]
     },
     "execution_count": 13,
     "metadata": {},
     "output_type": "execute_result"
    }
   ],
   "source": [
    "dd = DoppelDict2(one=1)\n",
    "dd"
   ]
  },
  {
   "cell_type": "code",
   "execution_count": 14,
   "metadata": {},
   "outputs": [
    {
     "data": {
      "text/plain": [
       "{'one': [1, 1], 'two': [2, 2]}"
      ]
     },
     "execution_count": 14,
     "metadata": {},
     "output_type": "execute_result"
    }
   ],
   "source": [
    "dd['two'] = 2\n",
    "dd"
   ]
  },
  {
   "cell_type": "code",
   "execution_count": 15,
   "metadata": {},
   "outputs": [
    {
     "data": {
      "text/plain": [
       "{'one': [1, 1], 'two': [2, 2], 'three': [3, 3]}"
      ]
     },
     "execution_count": 15,
     "metadata": {},
     "output_type": "execute_result"
    }
   ],
   "source": [
    "dd.update(three=3)\n",
    "dd"
   ]
  },
  {
   "cell_type": "code",
   "execution_count": 16,
   "metadata": {},
   "outputs": [],
   "source": [
    "class AnswerDict2(collections.UserDict):\n",
    "    def __getitem__(self, key):\n",
    "        return 42"
   ]
  },
  {
   "cell_type": "code",
   "execution_count": 17,
   "metadata": {},
   "outputs": [
    {
     "data": {
      "text/plain": [
       "42"
      ]
     },
     "execution_count": 17,
     "metadata": {},
     "output_type": "execute_result"
    }
   ],
   "source": [
    "ad = AnswerDict2(a='foo')\n",
    "ad['a']"
   ]
  },
  {
   "cell_type": "code",
   "execution_count": 18,
   "metadata": {},
   "outputs": [
    {
     "data": {
      "text/plain": [
       "42"
      ]
     },
     "execution_count": 18,
     "metadata": {},
     "output_type": "execute_result"
    }
   ],
   "source": [
    "d = {}\n",
    "d.update(ad)\n",
    "d['a']"
   ]
  },
  {
   "cell_type": "code",
   "execution_count": 19,
   "metadata": {},
   "outputs": [
    {
     "data": {
      "text/plain": [
       "{'a': 42}"
      ]
     },
     "execution_count": 19,
     "metadata": {},
     "output_type": "execute_result"
    }
   ],
   "source": [
    "d"
   ]
  },
  {
   "cell_type": "markdown",
   "metadata": {},
   "source": [
    "## 多重继承和方法解析顺序\n",
    "\n",
    "任何实现多重继承的语言都要处理潜在的命名冲突,这种冲突由不相关的祖先类实现同名方法引起.这种冲突称为'菱形问题'\n",
    "![菱形问题](source/dimo.PNG)"
   ]
  },
  {
   "cell_type": "code",
   "execution_count": 20,
   "metadata": {},
   "outputs": [],
   "source": [
    "class A:\n",
    "\n",
    "    def ping(self):\n",
    "        print('ping:', self)\n",
    "class B(A):\n",
    "\n",
    "    def pong(self):\n",
    "        print('pong:', self)\n",
    "class C(A):\n",
    "\n",
    "    def pong(self):\n",
    "        print('PONG:', self)\n",
    "class D(B, C):\n",
    "    def sp(self):\n",
    "        return super()\n",
    "    def ping(self):\n",
    "        super().ping()\n",
    "        print('post-ping:', self)\n",
    "    def pingpong(self):\n",
    "        self.ping()\n",
    "        super().ping()\n",
    "        self.pong()\n",
    "        super().pong()\n",
    "        C.pong(self)"
   ]
  },
  {
   "cell_type": "code",
   "execution_count": 21,
   "metadata": {},
   "outputs": [],
   "source": [
    "d = D()"
   ]
  },
  {
   "cell_type": "code",
   "execution_count": 22,
   "metadata": {},
   "outputs": [
    {
     "data": {
      "text/plain": [
       "<super: __main__.D, <__main__.D at 0x10c8f5e48>>"
      ]
     },
     "execution_count": 22,
     "metadata": {},
     "output_type": "execute_result"
    }
   ],
   "source": [
    "d.sp()"
   ]
  },
  {
   "cell_type": "code",
   "execution_count": 23,
   "metadata": {},
   "outputs": [
    {
     "name": "stdout",
     "output_type": "stream",
     "text": [
      "pong: <__main__.D object at 0x10c8f5e48>\n"
     ]
    }
   ],
   "source": [
    "d.pong()# 直接调用 d.pong() 运行的是 B 类中的版本。"
   ]
  },
  {
   "cell_type": "code",
   "execution_count": 24,
   "metadata": {},
   "outputs": [
    {
     "name": "stdout",
     "output_type": "stream",
     "text": [
      "PONG: <__main__.D object at 0x10c8f5e48>\n"
     ]
    }
   ],
   "source": [
    "C.pong(d) #超类中的方法都可以直接调用,此时要把实例作为显式参数传入"
   ]
  },
  {
   "cell_type": "markdown",
   "metadata": {},
   "source": [
    "Python能区分`d.pong()`调用的是哪个方法,是因为`Python`会按照特定的顺序遍历继承图.这个顺序叫方法解析顺序(Method Resolution Order,MRO).类都有一个名为`__mro__`的属性,它的值是一个元组,按照方法解析顺序列出各个超类,从当前类一直向上,直到`object`类.`D` 类的`__mro__`属性如下:"
   ]
  },
  {
   "cell_type": "code",
   "execution_count": 25,
   "metadata": {},
   "outputs": [
    {
     "data": {
      "text/plain": [
       "(__main__.D, __main__.B, __main__.C, __main__.A, object)"
      ]
     },
     "execution_count": 25,
     "metadata": {},
     "output_type": "execute_result"
    }
   ],
   "source": [
    "D.__mro__"
   ]
  },
  {
   "cell_type": "markdown",
   "metadata": {},
   "source": [
    "若想把方法调用委托给超类,推荐的方式是使用内置的`super()`函数.在Python 3中,这种方式变得更容易了.然而有时可能需要绕过方法解析顺序,直接调用某个超类的方法--这样做有时更方便,例如,`D.ping`方法可以这样写:"
   ]
  },
  {
   "cell_type": "code",
   "execution_count": 26,
   "metadata": {},
   "outputs": [],
   "source": [
    "class D(B, C):\n",
    "    def ping(self):\n",
    "        A.ping(self) # 而不是super().ping() \n",
    "        print('post-ping:', self)\n",
    "\n",
    "    def pingpong(self):\n",
    "        self.ping()\n",
    "        super().ping()\n",
    "        self.pong()\n",
    "        super().pong()\n",
    "        C.pong(self)"
   ]
  },
  {
   "cell_type": "code",
   "execution_count": 27,
   "metadata": {},
   "outputs": [],
   "source": [
    "d = D()"
   ]
  },
  {
   "cell_type": "code",
   "execution_count": 28,
   "metadata": {},
   "outputs": [
    {
     "name": "stdout",
     "output_type": "stream",
     "text": [
      "ping: <__main__.D object at 0x10c907be0>\n",
      "post-ping: <__main__.D object at 0x10c907be0>\n"
     ]
    }
   ],
   "source": [
    "d.ping()"
   ]
  },
  {
   "cell_type": "markdown",
   "metadata": {},
   "source": [
    "## 使用`super()`处理父类引用\n",
    "\n",
    "`super()`方法是python用于处理超类引用的推荐方法\n",
    "\n",
    "+ `super(type, obj_or_type)`会按照`MRO`的順序去委託`type`的超类或兄弟类的方法來调用.光`super()`则是会指向定义类时最左边的那个超类.\n",
    "\n",
    "下例中:\n",
    "\n",
    "+ `super().__init__(author)`会找到`<class '__main__.Song'>`并调用其`__init__(author)`\n",
    "+ `super(Song, self).__init__(name)`会找到`<class '__main__.Singer'>`並調用其 `__init__(name)`"
   ]
  },
  {
   "cell_type": "code",
   "execution_count": 29,
   "metadata": {},
   "outputs": [
    {
     "name": "stdout",
     "output_type": "stream",
     "text": [
      "init Song\n",
      "init Singer\n"
     ]
    }
   ],
   "source": [
    "class Song(object):\n",
    "    def __init__(self, author):\n",
    "        self._author = author\n",
    "        print(\"init Song\")\n",
    "\n",
    "class Singer(object):\n",
    "    def __init__(self, name):\n",
    "        self._name = name\n",
    "        print(\"init Singer\")\n",
    "\n",
    "class Mtv(Song, Singer):\n",
    "    def __init__(self, name, author):\n",
    "        super().__init__(author) # init Song\n",
    "        super(Song, self).__init__(name) # init Singer\n",
    "\n",
    "mtv = Mtv('name', 'author')"
   ]
  },
  {
   "cell_type": "code",
   "execution_count": 30,
   "metadata": {},
   "outputs": [
    {
     "data": {
      "text/plain": [
       "(__main__.Mtv, __main__.Song, __main__.Singer, object)"
      ]
     },
     "execution_count": 30,
     "metadata": {},
     "output_type": "execute_result"
    }
   ],
   "source": [
    "Mtv.__mro__"
   ]
  },
  {
   "cell_type": "markdown",
   "metadata": {},
   "source": [
    "## Mixin\n",
    "\n",
    "我们知道多重继承是危险的,很容易造成继承混乱,如何解决这个问题呢,就是使用mixin.原则上,应该只在使用Mixin组件制作工具时进行多重继承.\n",
    "\n",
    "\n",
    "mixin是一个行为的集合,是受限制的多重继承.mixin定义的这个行为可以被加到任意class里,然而在一些情况下,使用mix-in的类,可以要求宿主满足一些协议(contract),这个协议可以是属性也可以是方法.如果有协议要求的话,协议应该是被声明在mixin内的.这样更容易复用.\n",
    "\n",
    "\n",
    "Mixin是一种非常谨慎的多重继承用法,它的特点是:\n",
    "\n",
    "+ Mixin 类是单一职责的\n",
    "+ Mixin 类对宿主类一无所知\n",
    "+ 不存在超类方法调用(super)以避免引入 MRO 查找顺序问题\n",
    "\n",
    "### 例:把内存中的python对象转换为字典形式"
   ]
  },
  {
   "cell_type": "code",
   "execution_count": 31,
   "metadata": {},
   "outputs": [],
   "source": [
    "class ToDictMixin:\n",
    "    def to_dict(self):\n",
    "        return self._traverse_dict(self.__dict__)\n",
    "    def _traverse_dict(self,instance_dict):\n",
    "        output = {}\n",
    "        for key,value in instance_dict.items():\n",
    "            output[key] = self._traverse(key,value)\n",
    "        return output\n",
    "    def _traverse(self,key,value):\n",
    "        \"\"\"递归的将对象转化为字典形式\"\"\"\n",
    "        if isinstance(value,ToDictMixin):\n",
    "            return value.to_dict()\n",
    "        elif isinstance(value,dict):\n",
    "            return self._traverse_dict(value)\n",
    "        elif isinstance(value,list):\n",
    "            return [self._traverse(key,i) for i in value]\n",
    "        elif hasattr(value,'__dict__'):\n",
    "            return self._traverse_dict(value.__dict__)\n",
    "        else:\n",
    "            return value"
   ]
  },
  {
   "cell_type": "code",
   "execution_count": 32,
   "metadata": {},
   "outputs": [],
   "source": [
    "class BinaryTree(ToDictMixin):\n",
    "    def __init__(self,value,left=None,right=None):\n",
    "        self.value = value\n",
    "        self.left = left\n",
    "        self.right = right"
   ]
  },
  {
   "cell_type": "code",
   "execution_count": 33,
   "metadata": {},
   "outputs": [],
   "source": [
    "tree = BinaryTree(10,\n",
    "                  left=BinaryTree(7,\n",
    "                                  right = BinaryTree(9)),\n",
    "                  right = BinaryTree(13,\n",
    "                                  left = BinaryTree(11))\n",
    "                 )"
   ]
  },
  {
   "cell_type": "code",
   "execution_count": 34,
   "metadata": {},
   "outputs": [
    {
     "data": {
      "text/plain": [
       "{'left': {'left': None,\n",
       "  'right': {'left': None, 'right': None, 'value': 9},\n",
       "  'value': 7},\n",
       " 'right': {'left': {'left': None, 'right': None, 'value': 11},\n",
       "  'right': None,\n",
       "  'value': 13},\n",
       " 'value': 10}"
      ]
     },
     "execution_count": 34,
     "metadata": {},
     "output_type": "execute_result"
    }
   ],
   "source": [
    "tree.to_dict()"
   ]
  },
  {
   "cell_type": "markdown",
   "metadata": {},
   "source": [
    "Mixin最大的优势是使用者可以随时安插这些功能,并且可以在必要的时候覆写他们,比如二叉树中节点也要求有指向父节点的引用,那么上面的树就会陷入死循环,解决办法是可以在其中覆写`_traverse`方法以避免这个问题."
   ]
  },
  {
   "cell_type": "code",
   "execution_count": 35,
   "metadata": {},
   "outputs": [],
   "source": [
    "class BinaryTreeWithParent(BinaryTree):\n",
    "    def __init__(self,value,left=None,right=None,parent = None):\n",
    "        super().__init__(value,left=left,right=right)\n",
    "        self.parent = parent\n",
    "    def _traverse(self,key,value):\n",
    "        if isinstance(value,BinaryTreeWithParent) and key == 'parent':\n",
    "            return value.value\n",
    "        else:\n",
    "            return super()._traverse(key,value)"
   ]
  },
  {
   "cell_type": "code",
   "execution_count": 36,
   "metadata": {},
   "outputs": [],
   "source": [
    "root = BinaryTreeWithParent(10)"
   ]
  },
  {
   "cell_type": "code",
   "execution_count": 37,
   "metadata": {},
   "outputs": [],
   "source": [
    "root.left = BinaryTreeWithParent(7,parent = root)"
   ]
  },
  {
   "cell_type": "code",
   "execution_count": 38,
   "metadata": {},
   "outputs": [],
   "source": [
    "root.left.right = BinaryTreeWithParent(9,parent = root.left)"
   ]
  },
  {
   "cell_type": "code",
   "execution_count": 39,
   "metadata": {},
   "outputs": [
    {
     "data": {
      "text/plain": [
       "{'left': {'left': None,\n",
       "  'parent': 10,\n",
       "  'right': {'left': None, 'parent': 7, 'right': None, 'value': 9},\n",
       "  'value': 7},\n",
       " 'parent': None,\n",
       " 'right': None,\n",
       " 'value': 10}"
      ]
     },
     "execution_count": 39,
     "metadata": {},
     "output_type": "execute_result"
    }
   ],
   "source": [
    "root.to_dict()"
   ]
  },
  {
   "cell_type": "markdown",
   "metadata": {},
   "source": [
    "并且如果其他类的某个属性也是`BinaryTreeWithParent`,那么`ToDictMixin`也会自动处理好这些属性"
   ]
  },
  {
   "cell_type": "code",
   "execution_count": 40,
   "metadata": {},
   "outputs": [],
   "source": [
    "class NamedSubTree(ToDictMixin):\n",
    "    def __init__(self,name,tree_with_parent):\n",
    "        self.name = name\n",
    "        self.tree_with_parent = tree_with_parent"
   ]
  },
  {
   "cell_type": "code",
   "execution_count": 41,
   "metadata": {},
   "outputs": [],
   "source": [
    "mytree = NamedSubTree(\"foobar\",root.left.right)"
   ]
  },
  {
   "cell_type": "code",
   "execution_count": 42,
   "metadata": {},
   "outputs": [
    {
     "data": {
      "text/plain": [
       "{'name': 'foobar',\n",
       " 'tree_with_parent': {'left': None, 'parent': 7, 'right': None, 'value': 9}}"
      ]
     },
     "execution_count": 42,
     "metadata": {},
     "output_type": "execute_result"
    }
   ],
   "source": [
    "mytree.to_dict()"
   ]
  },
  {
   "cell_type": "markdown",
   "metadata": {},
   "source": [
    "多个Mixin之间也可以相互转化组合,例如可以编写一个这样的Mixin,可以将任意类提供通用的JSON序列化功能.我们这个Mixin要求宿主类提供`to_dict`接口."
   ]
  },
  {
   "cell_type": "code",
   "execution_count": 43,
   "metadata": {},
   "outputs": [],
   "source": [
    "from typing import Callable,Dict\n",
    "import json\n",
    "class JsonMixin:\n",
    "    to_dict:Callable[...,Dict]\n",
    "    @classmethod\n",
    "    def from_json(cls,data):\n",
    "        kwargs = json.loads(data)\n",
    "        return cls(**kwargs)\n",
    "    def to_json(self):\n",
    "        return json.dumps(self.to_dict())\n",
    "        "
   ]
  },
  {
   "cell_type": "markdown",
   "metadata": {},
   "source": [
    "有了这样的Mixin后,我们只需要极少的代码既可以通过继承体系轻松创建相关工具类."
   ]
  },
  {
   "cell_type": "code",
   "execution_count": 44,
   "metadata": {},
   "outputs": [],
   "source": [
    "class NamedSubTree(ToDictMixin,JsonMixin):\n",
    "    def __init__(self,name,tree_with_parent):\n",
    "        self.name = name\n",
    "        self.tree_with_parent = tree_with_parent"
   ]
  },
  {
   "cell_type": "code",
   "execution_count": 45,
   "metadata": {},
   "outputs": [],
   "source": [
    "mytree = NamedSubTree(\"foobar\",root.left.right)"
   ]
  },
  {
   "cell_type": "code",
   "execution_count": 46,
   "metadata": {},
   "outputs": [
    {
     "data": {
      "text/plain": [
       "'{\"name\": \"foobar\", \"tree_with_parent\": {\"value\": 9, \"left\": null, \"right\": null, \"parent\": 7}}'"
      ]
     },
     "execution_count": 46,
     "metadata": {},
     "output_type": "execute_result"
    }
   ],
   "source": [
    "mytree.to_json()"
   ]
  },
  {
   "cell_type": "markdown",
   "metadata": {},
   "source": [
    "## 处理多重继承的原则\n",
    "\n",
    "继承有很多用途,而多重继承增加了可选方案和复杂度.使用多重继承容易得出令人费解和脆弱的设计.我们还没有完整的理论,根据上面的内容,下面是总结的避免把类图搅乱的一些建议:\n",
    "\n",
    "1. 把接口继承和实现继承区分开 使用多重继承时,一定要明确一开始为什么创建子类.主要原因可能有:\n",
    "\n",
    "    + 继承接口,创建子类型,实现“是什么”关系 \n",
    "    + 继承实现,通过重用避免代码重复\n",
    "    \n",
    "    其实这两条经常同时出现,不过只要可能,一定要明确意图.通过继承重用代码是实现细节,通常可以换用组合和委托模式.而接口继承则是框架的支柱.\n",
    "      \n",
    "2. 使用抽象基类显式表示接口\n",
    "\n",
    "    现代的 Python 中,如果类的作用是定义接口,应该明确把它定义为抽象基类.Python 3.4及以上的版本中,我们要创建`abc.ABC`或其他抽象基类的子类.\n",
    "    \n",
    "3. 通过混入重用代码 \n",
    "\n",
    "    如果一个类的作用是为多个不相关的子类提供方法实现,从而实现重用,但不体现\"是什么\"关系,应该把那个类明确地定义为混入类(mixin class).从概念上讲,混入不定义新类型,只是打包方法,便于重用.混入类绝对不能实例化,而且具体类不能只继承混入类.混入类应该提供某方面的特定行为,只实现少量关系非常紧密的方法.\n",
    "    \n",
    "4. 在名称中明确指明混入\n",
    "\n",
    "    因为在Python中没有把类声明为混入的正规方式,所以强烈推荐在名称中加入`xxxMixin`后缀.\n",
    "    \n",
    "5. 抽象基类可以作为混入,反过来则不成立 \n",
    "\n",
    "    抽象基类可以实现具体方法,因此也可以作为混入使用.不过,抽象基类会定义类型,而混入做不到.此外,抽象基类可以作为其他类的唯一基类,而混入决不能作为唯一的超类,除非继承另一个更具体的混入--真实的代码很少这样做.\n",
    "    \n",
    "    抽象基类有个局限是混入没有的:抽象基类中实现的具体方法只能与抽象基类及其超类中的方法协作.这表明,抽象基类中的具体方法只是一种便利措施,因为这些方法所做的一切,用户调用抽象基类中的其他方法也能做到.\n",
    "    \n",
    "6. 不要子类化多个具体类\n",
    "\n",
    "    具体类可以没有,或最多只有一个具体超类.也就是说,具体类的超类中除了这一个具体超类之外,其余的都是抽象基类或混入.例如,在下述代码中,如果 `Alpha` 是具体类,那么 `Beta` 和 `Gamma` 必须是抽象基类或混入:\n",
    "\n",
    "    ```python\n",
    "    class MyConcreteClass(Alpha, Beta, Gamma): \n",
    "        \"\"\"这是一个具体类,可以实例化。\"\"\"\n",
    "        # ......更多代码......\n",
    "    ```\n",
    "\n",
    "7. 为用户提供聚合类 \n",
    "\n",
    "    如果抽象基类或混入的组合对客户代码非常有用,那就提供一个类,使用易于理解的方式把它们结合起来.Grady Booch把这种类称为聚合类(aggregate class).\n",
    "    例如,下面是 tkinter.Widget 类的完整代码:\n",
    "    ```python\n",
    "    class Widget(BaseWidget, Pack, Place, Grid):\n",
    "        \"\"\"Internal class.\n",
    "        Base class for a widget which can be positioned with the\n",
    "        geometry managers Pack, Place or Grid.\n",
    "        \"\"\"\n",
    "        pass\n",
    "    ```\n",
    "    \n",
    "8. \"优先使用对象组合,而不是类继承\"\n",
    "\n",
    "    这句话引自\"设计模式:可复用面向对象软件的基础\"一书.\n",
    "    \n",
    "    熟悉继承之后,就太容易过度使用它了.出于对秩序的诉求,我们喜欢按整洁的层次结构放置物品,程序员更是乐此不疲.然而,优先使用组合能让设计更灵活.例如,对`tkinter.Widget`类来说,它可以不从全部几何管理器中继承方法,而是在小组件实例中维护一个几何管理器引用,然后通过它调用方法.毕竟小组件\"不是\"几何管理器,但是可以通过委托使用相关的服务.这样,我们可以放心添加新的几何管理器,不必担心会触动小组件类的层次结构,也不必担心名称冲突.即便是单继承,这个原则也能提升灵活性,因为子类化是一种紧耦合,而且较高的继承树容易倒.组合和委托可以代替混入,把行为提供给不同的类,但是不能取代接口继承去定义类型层次结构.\n"
   ]
  }
 ],
 "metadata": {
  "kernelspec": {
   "display_name": "Python 3 (ipykernel)",
   "language": "python",
   "name": "python3"
  },
  "language_info": {
   "codemirror_mode": {
    "name": "ipython",
    "version": 3
   },
   "file_extension": ".py",
   "mimetype": "text/x-python",
   "name": "python",
   "nbconvert_exporter": "python",
   "pygments_lexer": "ipython3",
   "version": "3.10.11"
  }
 },
 "nbformat": 4,
 "nbformat_minor": 4
}
