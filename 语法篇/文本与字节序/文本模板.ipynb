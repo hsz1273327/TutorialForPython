{
 "cells": [
  {
   "cell_type": "markdown",
   "metadata": {},
   "source": [
    "# 文本模板\n",
    "\n",
    "文本模板是一个很常见的需求,像mvc模式的http服务器就需要模板来映射m层和v层,脚手架工具也需要模板用来生成可用代码,像[airflow](http://blog.hszofficial.site/introduce/2017/05/10/%E5%AE%9A%E6%97%B6%E4%BB%BB%E5%8A%A1%E7%AE%A1%E7%90%86/#%E4%BD%BF%E7%94%A8apache-airflow%E9%85%8D%E7%BD%AE%E5%AE%9A%E6%97%B6%E4%BB%BB%E5%8A%A1)也需要模板来传递参数等\n",
    "\n",
    "python自带模板功能,只是功能不完善,更多的时候我们使用jinja2做模板引起\n"
   ]
  },
  {
   "cell_type": "markdown",
   "metadata": {},
   "source": [
    "## 使用str.format作为模板\n",
    "\n",
    "我们当然可以使用使用字符串的format函数来做模板,这是最轻量的模板了"
   ]
  },
  {
   "cell_type": "code",
   "execution_count": 1,
   "metadata": {},
   "outputs": [],
   "source": [
    "temp = \"a:{a},b:{b}\""
   ]
  },
  {
   "cell_type": "code",
   "execution_count": 2,
   "metadata": {},
   "outputs": [
    {
     "data": {
      "text/plain": [
       "'a:1,b:2'"
      ]
     },
     "execution_count": 2,
     "metadata": {},
     "output_type": "execute_result"
    }
   ],
   "source": [
    "temp.format(a=1,b=2)"
   ]
  },
  {
   "cell_type": "markdown",
   "metadata": {},
   "source": [
    "## 使用string.Template作为模板\n",
    "\n",
    "在format之外,python的标准库`string`也提供了基本的模板功能,模板使用美元符号表示占位符"
   ]
  },
  {
   "cell_type": "code",
   "execution_count": 3,
   "metadata": {},
   "outputs": [],
   "source": [
    "import string"
   ]
  },
  {
   "cell_type": "code",
   "execution_count": 4,
   "metadata": {},
   "outputs": [
    {
     "data": {
      "text/plain": [
       "'tim likes kung pao'"
      ]
     },
     "execution_count": 4,
     "metadata": {},
     "output_type": "execute_result"
    }
   ],
   "source": [
    "s = string.Template('$who likes $what')\n",
    "s.substitute(who='tim', what='kung pao')"
   ]
  },
  {
   "cell_type": "markdown",
   "metadata": {},
   "source": [
    "## 使用jinja2做为模板\n",
    "\n",
    "上面两种模板只能定义简单的模板,如果模板中需要引入抽象,比如有循环,根据变量来判断生成什么样的结果,有继承关系组合关系,就不合适了,[jinja2](http://docs.jinkan.org/docs/jinja2/)是一个成熟的模板引擎,广泛使用在许多领域,也是著名python网络框架[flask](http://flask.pocoo.org/)的默认模板引擎.\n",
    "\n",
    "jinja2作为一个主要为mvcweb框架服务的模板引擎自然会有很多设置项和针对web框架场景的优化功能,本文不考虑这类问题,单纯将其作为一个模板引擎来介绍\n",
    "\n",
    "jinja2作为模板引擎,其基本的使用流程是\n",
    "\n",
    "1. 根据模板语法定义模板字符串\n",
    "2. 渲染这个字符串\n",
    "\n",
    "jinja2提供了低级api和高级api:\n",
    "\n",
    "+ 低级api"
   ]
  },
  {
   "cell_type": "code",
   "execution_count": 5,
   "metadata": {},
   "outputs": [
    {
     "data": {
      "text/plain": [
       "'Hello John Doe!'"
      ]
     },
     "execution_count": 5,
     "metadata": {},
     "output_type": "execute_result"
    }
   ],
   "source": [
    "from jinja2 import Template\n",
    "template = Template('Hello {{ name }}!')\n",
    "template.render(name='John Doe')"
   ]
  },
  {
   "cell_type": "markdown",
   "metadata": {},
   "source": [
    "+ 高级api"
   ]
  },
  {
   "cell_type": "code",
   "execution_count": 6,
   "metadata": {},
   "outputs": [
    {
     "data": {
      "text/plain": [
       "'Hello John Doe!'"
      ]
     },
     "execution_count": 6,
     "metadata": {},
     "output_type": "execute_result"
    }
   ],
   "source": [
    "from jinja2 import Environment\n",
    "\n",
    "env = Environment()\n",
    "template = env.from_string('Hello {{ name }}!')\n",
    "template.render(name='John Doe')"
   ]
  },
  {
   "cell_type": "markdown",
   "metadata": {},
   "source": [
    "这两种方式都可以正确的渲染模板,高级api更多的是为了管理模板来源.很多时候模板并不是文本而是存在文件中,`Environment`更多的是一个模板文件管理器的角色.本文将以高级api作为主要介绍对象,因为如果要考虑继承,就必须使用高级接口"
   ]
  },
  {
   "cell_type": "markdown",
   "metadata": {},
   "source": [
    "### 模板语法\n",
    "\n",
    "模板中的注释使用`{# 这是注释 #}`这样的形式;变量使用`{{ x }}`形式来表示;而语句则使用`{% if x>0 %} {% endif%}`这种形式;\n",
    "\n",
    "模板语句大致可以分为3类:\n",
    "\n",
    "+ 流程控制语句\n",
    "\n",
    "+ 模板复用语句\n",
    "\n",
    "+ 宏语句\n",
    "\n",
    "具体的模板语法可以看[文档中的相关描述](http://docs.jinkan.org/docs/jinja2/templates.html#id2),本文只是做基本的介绍"
   ]
  },
  {
   "cell_type": "markdown",
   "metadata": {},
   "source": [
    "#### 流程控制语句\n",
    "\n",
    "流程控制语句就是2种\n",
    "\n",
    "+ 判断分支\n",
    "\n",
    "基础的二分支语法如下:\n",
    "\n",
    "```\n",
    "{% if x>0 %}\n",
    "...\n",
    "{% else %}\n",
    "...\n",
    "{% endif %}\n",
    "```"
   ]
  },
  {
   "cell_type": "code",
   "execution_count": 7,
   "metadata": {},
   "outputs": [
    {
     "data": {
      "text/plain": [
       "'x>0'"
      ]
     },
     "execution_count": 7,
     "metadata": {},
     "output_type": "execute_result"
    }
   ],
   "source": [
    "from jinja2 import Environment\n",
    "\n",
    "env = Environment()\n",
    "template = env.from_string(\n",
    "\"\"\"{% if x>0 %}x>0{% else %}x<0{% endif %}\"\"\"\n",
    ")\n",
    "template.render(x=1)"
   ]
  },
  {
   "cell_type": "code",
   "execution_count": 8,
   "metadata": {},
   "outputs": [
    {
     "data": {
      "text/plain": [
       "'x<0'"
      ]
     },
     "execution_count": 8,
     "metadata": {},
     "output_type": "execute_result"
    }
   ],
   "source": [
    "template.render(x=-1)"
   ]
  },
  {
   "cell_type": "markdown",
   "metadata": {},
   "source": [
    "多分支语法和python类似依然使用if而不是switch\n",
    "\n",
    "```\n",
    "{% if x%3 == 0 %}\n",
    "...\n",
    "{% elif x%3 == 1 %}\n",
    "....\n",
    "{% else %}\n",
    "...\n",
    "{% endif %}\n",
    "```"
   ]
  },
  {
   "cell_type": "code",
   "execution_count": 9,
   "metadata": {},
   "outputs": [
    {
     "data": {
      "text/plain": [
       "'x%3==1'"
      ]
     },
     "execution_count": 9,
     "metadata": {},
     "output_type": "execute_result"
    }
   ],
   "source": [
    "from jinja2 import Environment\n",
    "\n",
    "env = Environment()\n",
    "template = env.from_string(\n",
    "\"\"\"{% if x%3 == 0 %}x%3==0{% elif x%3 == 1 %}x%3==1{% else %}x%3==2{% endif %}\"\"\"\n",
    ")\n",
    "template.render(x=1)"
   ]
  },
  {
   "cell_type": "code",
   "execution_count": 10,
   "metadata": {},
   "outputs": [
    {
     "data": {
      "text/plain": [
       "'x%3==2'"
      ]
     },
     "execution_count": 10,
     "metadata": {},
     "output_type": "execute_result"
    }
   ],
   "source": [
    "template.render(x=2)"
   ]
  },
  {
   "cell_type": "code",
   "execution_count": 11,
   "metadata": {},
   "outputs": [
    {
     "data": {
      "text/plain": [
       "'x%3==0'"
      ]
     },
     "execution_count": 11,
     "metadata": {},
     "output_type": "execute_result"
    }
   ],
   "source": [
    "template.render(x=6)"
   ]
  },
  {
   "cell_type": "markdown",
   "metadata": {},
   "source": [
    "+ 循环\n",
    "\n",
    "基础的循环形式如下:\n",
    "\n",
    "```\n",
    "{% for i in range(10) %}\n",
    "{{ i }}\n",
    "{% endfor %}\n",
    "```"
   ]
  },
  {
   "cell_type": "code",
   "execution_count": 12,
   "metadata": {},
   "outputs": [
    {
     "data": {
      "text/plain": [
       "'01234'"
      ]
     },
     "execution_count": 12,
     "metadata": {},
     "output_type": "execute_result"
    }
   ],
   "source": [
    "from jinja2 import Environment\n",
    "\n",
    "env = Environment()\n",
    "template = env.from_string(\n",
    "\"\"\"{% for i in range(x) %}{{i}}{% endfor %}\"\"\"\n",
    ")\n",
    "template.render(x=5)"
   ]
  },
  {
   "cell_type": "markdown",
   "metadata": {},
   "source": [
    "在此之上也可以使用类似python列表解析的语法:\n",
    "\n",
    "```\n",
    "{% for i in range(10) if i%2 == 0%}\n",
    "{{ i }}\n",
    "{% endfor %}\n",
    "```"
   ]
  },
  {
   "cell_type": "code",
   "execution_count": 13,
   "metadata": {},
   "outputs": [
    {
     "data": {
      "text/plain": [
       "'024'"
      ]
     },
     "execution_count": 13,
     "metadata": {},
     "output_type": "execute_result"
    }
   ],
   "source": [
    "from jinja2 import Environment\n",
    "\n",
    "env = Environment()\n",
    "template = env.from_string(\n",
    "\"\"\"{% for i in range(x) if i%2 == 0%}{{ i }}{% endfor %}\"\"\"\n",
    ")\n",
    "template.render(x=5)"
   ]
  },
  {
   "cell_type": "markdown",
   "metadata": {},
   "source": [
    "然后我们也可以递归的遍历\n"
   ]
  },
  {
   "cell_type": "code",
   "execution_count": 14,
   "metadata": {},
   "outputs": [
    {
     "data": {
      "text/plain": [
       "'12345678'"
      ]
     },
     "execution_count": 14,
     "metadata": {},
     "output_type": "execute_result"
    }
   ],
   "source": [
    "from jinja2 import Environment\n",
    "\n",
    "env = Environment()\n",
    "template = env.from_string(\n",
    "\"\"\"{% for i in x recursive %}{%- if i is iterable -%}{{ loop(i) }}{% else %}{{ i }}{%- endif %}{% endfor %}\n",
    "\"\"\"\n",
    ")\n",
    "template.render(x=[[1,2,3],4,5,[6,7,8]])"
   ]
  },
  {
   "cell_type": "markdown",
   "metadata": {},
   "source": [
    "#### 模板复用语句\n",
    "\n",
    "模板复用依赖于[Loader](http://docs.jinkan.org/docs/jinja2/api.html?highlight=loader#loaders),通常会用到复用自然文本都保存在文件中,这边为了演示清楚我们就用`DictLoader`来代替.\n",
    "\n",
    "用于模块化的语句有3种:\n",
    "\n",
    "+ block语句用于标识出可以被继承替换的段落,如果不被替换其中的内容就会被渲染\n",
    "```\n",
    "{% block head %}\n",
    "    ...\n",
    "{% endblock head%}\n",
    "```\n",
    "\n",
    "+ extends语句用于申明继承关系,基模板不需要申明,但自模板必须申明继承自哪个父模板.jinja2是单继承模型\n",
    "\n",
    "\n",
    "```\n",
    "{% extends \"base.html\" %}\n",
    "...\n",
    "```\n",
    "\n",
    "+ super变量,用于获取父模板中对应块的内容\n",
    "\n",
    "```\n",
    "{% block head %}\n",
    "   {{ super() }}\n",
    "{% endblock head%}\n",
    "```\n",
    "+ include语句用于表示包含关系,类似C语言中的include\n"
   ]
  },
  {
   "cell_type": "code",
   "execution_count": 15,
   "metadata": {},
   "outputs": [
    {
     "name": "stdout",
     "output_type": "stream",
     "text": [
      "<!DOCTYPE HTML PUBLIC \"-//W3C//DTD HTML 4.01//EN\">\n",
      "<html lang=\"en\">\n",
      "<html xmlns=\"http://www.w3.org/1999/xhtml\">\n",
      "<head>\n",
      "    \n",
      "    \n",
      "    <link rel=\"stylesheet\" href=\"style.css\" />\n",
      "    <title>Index - My Webpage</title>\n",
      "    \n",
      "    <style type=\"text/css\">\n",
      "        .important { color: #336699; }\n",
      "    </style>\n",
      "\n",
      "</head>\n",
      "<body>\n",
      "    <div id=\"content\">\n",
      "    <h1>Index</h1>\n",
      "    <p class=\"important\">\n",
      "      Welcome on my awesome homepage.\n",
      "    </p>\n",
      "</div>\n",
      "    <div id=\"footer\">\n",
      "        \n",
      "    \n",
      "        &copy; Copyright 2008 by <a href=\"http://domain.invalid/\">you</a>.\n",
      "        \n",
      "\n",
      "    </div>\n",
      "</body>\n"
     ]
    }
   ],
   "source": [
    "from jinja2 import DictLoader, Environment\n",
    "\n",
    "base = \"\"\"<!DOCTYPE HTML PUBLIC \"-//W3C//DTD HTML 4.01//EN\">\n",
    "<html lang=\"en\">\n",
    "<html xmlns=\"http://www.w3.org/1999/xhtml\">\n",
    "<head>\n",
    "    {% block head %}\n",
    "    <link rel=\"stylesheet\" href=\"style.css\" />\n",
    "    <title>{% block title %}{% endblock title%} - My Webpage</title>\n",
    "    {% endblock head%}\n",
    "</head>\n",
    "<body>\n",
    "    <div id=\"content\">{% block content %}{% endblock content%}</div>\n",
    "    <div id=\"footer\">\n",
    "        {% block footer %}\n",
    "        &copy; Copyright 2008 by <a href=\"http://domain.invalid/\">you</a>.\n",
    "        {% endblock footer%}\n",
    "    </div>\n",
    "</body>\"\"\"\n",
    "child = \"\"\"{% extends \"base.html\" %}\n",
    "{% block title %}Index{% endblock title%}\n",
    "{% block head %}\n",
    "    {{ super() }}\n",
    "    <style type=\"text/css\">\n",
    "        .important { color: #336699; }\n",
    "    </style>\n",
    "{% endblock head%}\n",
    "{% block content %}\n",
    "    <h1>Index</h1>\n",
    "    <p class=\"important\">\n",
    "      Welcome on my awesome homepage.\n",
    "    </p>\n",
    "{% endblock content%}\n",
    "\n",
    "{% block footer %}\n",
    "    {{ super() }}\n",
    "{% endblock footer%}\n",
    "\"\"\"\n",
    "loader = DictLoader({\n",
    "    'base.html': base,\n",
    "    'child.html':child\n",
    "})\n",
    "\n",
    "\n",
    "env = Environment(loader=loader)\n",
    "print(env.get_template(\"child.html\").render())"
   ]
  },
  {
   "cell_type": "code",
   "execution_count": 16,
   "metadata": {},
   "outputs": [
    {
     "name": "stdout",
     "output_type": "stream",
     "text": [
      "<!DOCTYPE HTML PUBLIC \"-//W3C//DTD HTML 4.01//EN\">\n",
      "<html lang=\"en\">\n",
      "<html xmlns=\"http://www.w3.org/1999/xhtml\">\n",
      "<head>\n",
      "    \n",
      "    <link rel=\"stylesheet\" href=\"style.css\" />\n",
      "    <title> - My Webpage</title>\n",
      "    \n",
      "</head>\n",
      "<body>\n",
      "    <div id=\"content\"></div>\n",
      "    <div id=\"footer\">\n",
      "        \n",
      "        &copy; Copyright 2008 by <a href=\"http://domain.invalid/\">you</a>.\n",
      "        \n",
      "    </div>\n",
      "</body>\n"
     ]
    }
   ],
   "source": [
    "print(env.get_template(\"base.html\").render())"
   ]
  },
  {
   "cell_type": "markdown",
   "metadata": {},
   "source": [
    "#### 宏语句\n",
    "\n",
    "jinja2中的宏就类似各种编程语言中的函数,它们用于把常用行为作为可重用的函数,取代手动重复的工作.\n",
    "\n",
    "宏定义使用`macro`关键字\n",
    "```\n",
    "{% macro input(name) %}\n",
    "input_{{ name }}\n",
    "{% endmacro %}\n",
    "```\n",
    "\n",
    "调用则需要import进宏,之后和变量一样使用`{{}}`\n",
    "```\n",
    "{% from 'macro.html' import input %}\n",
    "{{ input('hsz') }}\n",
    "```\n",
    "\n",
    "jinja2的import语法类似python,可以直接import一个文件也可以在文件中导入特定的宏,而且可以使用`as`关键字为其改名"
   ]
  },
  {
   "cell_type": "code",
   "execution_count": 17,
   "metadata": {},
   "outputs": [
    {
     "name": "stdout",
     "output_type": "stream",
     "text": [
      "\n",
      "\n",
      "使用宏input\n",
      "\n",
      "input_hsz\n",
      "\n"
     ]
    }
   ],
   "source": [
    "from jinja2 import DictLoader, Environment\n",
    "\n",
    "macro = \"\"\"\n",
    "{% macro input(name) %}\n",
    "input_{{ name }}\n",
    "{% endmacro %}\n",
    "\"\"\"\n",
    "\n",
    "user = \"\"\"\n",
    "{% from 'macro.html' import input %}\n",
    "使用宏input\n",
    "{{ input(name) }}\n",
    "\"\"\"\n",
    "loader = DictLoader({\n",
    "    'macro.html': macro,\n",
    "    'user.html':user\n",
    "})\n",
    "\n",
    "\n",
    "env = Environment(loader=loader)\n",
    "print(env.get_template(\"user.html\").render(name='hsz'))"
   ]
  }
 ],
 "metadata": {
  "kernelspec": {
   "display_name": "Python 3 (ipykernel)",
   "language": "python",
   "name": "python3"
  },
  "language_info": {
   "codemirror_mode": {
    "name": "ipython",
    "version": 3
   },
   "file_extension": ".py",
   "mimetype": "text/x-python",
   "name": "python",
   "nbconvert_exporter": "python",
   "pygments_lexer": "ipython3",
   "version": "3.10.11"
  }
 },
 "nbformat": 4,
 "nbformat_minor": 4
}
