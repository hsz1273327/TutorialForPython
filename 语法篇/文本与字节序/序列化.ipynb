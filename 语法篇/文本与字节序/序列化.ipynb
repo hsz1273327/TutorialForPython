{
 "cells": [
  {
   "cell_type": "markdown",
   "metadata": {},
   "source": [
    "# 序列化\n",
    "\n",
    "序列化是最常见的字节应用.所谓序列化就是将特定对象转化为一串字节序列,用以存储,作为配置文件或者传输.它的反向操作被称为反序列化.\n",
    "\n",
    "python有丰富的序列化工具如标准库中的base64,json,pickle,又如一些开源的第三方序列化工具如dill,msgpack等.\n",
    "这些工具虽然都是序列化工具,但设计目的并不相同,本文将会对他们中有代表性的进行介绍.\n",
    "\n",
    "\n",
    "按功能分,常用于保存信息到硬盘,内存或网络的文件格式有:\n",
    "\n",
    "+ base64 常用于保存文件\n",
    "+ xml 常用于保存结构化信息\n",
    "\n",
    "而专门针对python的有:\n",
    "\n",
    "+ pickle 用于保存python中的对象\n",
    "\n",
    "\n",
    "通常作为配置文件格式有这么几种:\n",
    "\n",
    "+ `xml` 常见于那些历史比较久的,尤其是java写的软件,像hadoop就是拿xml作为配置\n",
    "\n",
    "+ `json` 恐怕是js社区最喜欢的配置形式,每个js项目的`package.json`都是其配置\n",
    "\n",
    "+ `yaml` 几乎可以和json划等号的配置形式,似乎是ruby常用的配置形式.很多静态网站项目喜欢使用,github page默认的渲染器`jekyll`就是用的yaml来做配置的\n",
    "\n",
    "+ `ini/conf` 也是比较历史悠久的配置形式,常见于C写的项目,python项目中最常见的配置形式\n",
    "    \n",
    "+ `toml`[3.11](Tom’s Obvious, Minimal Language),由GitHub联合创始人`Tom Preston-Werner`创建的配置格式,也是python社区主推的配置格式.其语法类似ini\n",
    "\n",
    "\n",
    "python中`json`有标准库`json`支持,xml可以使用标准库`xml`进行解析.而标准库的`ConfigParser`模块可以解析`.conf`或者`.ini`配置文件.在python 3.11中新增的标准库`tomllib`也可以用于解析`.toml`(不支持写功能).`.yml`则需要使用第三方包`pyyaml`\n",
    "\n",
    "由于标准库`tomllib`明显处于还未完成的状态本文暂时对`toml`不做介绍.\n",
    "\n",
    "而作为传输信息点载体,常见的有:\n",
    "\n",
    "+ xml\n",
    "\n",
    "    Java体系下普遍使用\n",
    "    \n",
    "+ json\n",
    "\n",
    "    当前最常见的交互载体\n",
    "    \n",
    "+ messagepack\n",
    "\n",
    "    一种新兴的交互载体,类似json但更快更小,且支持扩展.\n",
    "    \n",
    "+ base64\n",
    "\n",
    "    通常用于传输字节流\n",
    "    \n",
    "+ protobuffer\n",
    "    \n",
    "    google开发的一种跨语言序列化方式,需要预定义schema,效率极高."
   ]
  },
  {
   "cell_type": "markdown",
   "metadata": {},
   "source": [
    "## base64用于序列化文件\n",
    "\n",
    "\n",
    "Base64是网络上最常见的用于传输8Bit字节代码的编码方式之一,常用于传输小文件,网址等.下面是使用base64序列化网址的例子(注意base64编码的参数只能是bytes)"
   ]
  },
  {
   "cell_type": "code",
   "execution_count": 1,
   "metadata": {},
   "outputs": [],
   "source": [
    "import base64"
   ]
  },
  {
   "cell_type": "code",
   "execution_count": 2,
   "metadata": {},
   "outputs": [],
   "source": [
    "url = b\"http://blog.hszofficial.site\""
   ]
  },
  {
   "cell_type": "code",
   "execution_count": 3,
   "metadata": {},
   "outputs": [],
   "source": [
    "url_b64 = base64.b64encode(url)#编码base64"
   ]
  },
  {
   "cell_type": "code",
   "execution_count": 4,
   "metadata": {},
   "outputs": [
    {
     "data": {
      "text/plain": [
       "b'aHR0cDovL2Jsb2cuaHN6b2ZmaWNpYWwuc2l0ZQ=='"
      ]
     },
     "execution_count": 4,
     "metadata": {},
     "output_type": "execute_result"
    }
   ],
   "source": [
    "url_b64"
   ]
  },
  {
   "cell_type": "code",
   "execution_count": 5,
   "metadata": {},
   "outputs": [
    {
     "data": {
      "text/plain": [
       "b'http://blog.hszofficial.site'"
      ]
     },
     "execution_count": 5,
     "metadata": {},
     "output_type": "execute_result"
    }
   ],
   "source": [
    "base64.b64decode(url_b64)#解码base64"
   ]
  },
  {
   "cell_type": "markdown",
   "metadata": {},
   "source": [
    "很多时候base64被作为加密算法做简单的加密,当然这有点自欺欺人的意思,所谓的加密也只是让人无法直接读出而已"
   ]
  },
  {
   "cell_type": "markdown",
   "metadata": {},
   "source": [
    "Base64更常见的使用场景之一就是在http协议中传输小图片.它的效果是将整个图片的信息都序列化到一串字节序中"
   ]
  },
  {
   "cell_type": "code",
   "execution_count": 6,
   "metadata": {},
   "outputs": [],
   "source": [
    "with open(\"source/mysite.gif\",\"rb\") as f:\n",
    "    pic = f.read()"
   ]
  },
  {
   "cell_type": "code",
   "execution_count": 7,
   "metadata": {},
   "outputs": [],
   "source": [
    "pic_64 = base64.b64encode(pic)"
   ]
  },
  {
   "cell_type": "code",
   "execution_count": 8,
   "metadata": {},
   "outputs": [
    {
     "data": {
      "text/plain": [
       "b'R0lGO'"
      ]
     },
     "execution_count": 8,
     "metadata": {},
     "output_type": "execute_result"
    }
   ],
   "source": [
    "pic_64[:5]"
   ]
  },
  {
   "cell_type": "code",
   "execution_count": 9,
   "metadata": {},
   "outputs": [
    {
     "data": {
      "text/plain": [
       "True"
      ]
     },
     "execution_count": 9,
     "metadata": {},
     "output_type": "execute_result"
    }
   ],
   "source": [
    "isinstance(pic_64,bytes)"
   ]
  },
  {
   "cell_type": "code",
   "execution_count": 10,
   "metadata": {},
   "outputs": [
    {
     "data": {
      "text/plain": [
       "31092"
      ]
     },
     "execution_count": 10,
     "metadata": {},
     "output_type": "execute_result"
    }
   ],
   "source": [
    "len(pic_64)"
   ]
  },
  {
   "cell_type": "code",
   "execution_count": 11,
   "metadata": {},
   "outputs": [
    {
     "data": {
      "text/plain": [
       "'R0lGO'"
      ]
     },
     "execution_count": 11,
     "metadata": {},
     "output_type": "execute_result"
    }
   ],
   "source": [
    "pic_64.decode()[:5]"
   ]
  },
  {
   "cell_type": "markdown",
   "metadata": {},
   "source": [
    "同学们可以扫描下面的二维码来访问我的主站"
   ]
  },
  {
   "cell_type": "code",
   "execution_count": 12,
   "metadata": {},
   "outputs": [
    {
     "data": {
      "text/html": [
       "<img src=\"data:image/gif;base64,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\"/>"
      ],
      "text/plain": [
       "<IPython.core.display.HTML object>"
      ]
     },
     "execution_count": 12,
     "metadata": {},
     "output_type": "execute_result"
    }
   ],
   "source": [
    "from IPython.display import HTML\n",
    "HTML('<img src=\"data:image/gif;base64,{value}\"/>'.format(value=pic_64.decode()))"
   ]
  },
  {
   "cell_type": "markdown",
   "metadata": {},
   "source": [
    "显然这种方式传输大文件很不靠谱,但小图片还是可以的"
   ]
  },
  {
   "cell_type": "markdown",
   "metadata": {},
   "source": [
    "## pickle用于持续化python的内置简单对象\n",
    "\n",
    "有的时候我们想序列化的不光是数据和数据结构,还有对象,这种时候就需要将对象以一定的协议序列化为二进制数据.\n",
    "\n",
    "python的pickle模块是标准库中最常用的序列化模块,它实现了基本的数据序列和反序列化.通过pickle模块的序列化操作我们能够将程序中运行的对象信息保存到文件中去,永久存储;通过pickle模块的反序列化操作,我们能够从文件中创建上一次程序保存的对象.\n",
    "\n",
    "需要注意,pickel的文件并不是默认跨版本支持的,可以对照这张表设定需要的参数\n",
    "\n",
    "pickel到目前为止有5种序列化格式:\n",
    "\n",
    "版本\t|说明|\t支持python版本\n",
    "---|---|---\n",
    "0\t|人类可读的文本,用于最早期\t|全部版本\n",
    "1\t|老的二进制版本文本同样用于早期|\t全部版本\n",
    "2\t|出现于2.3版本,用以支持新类|\t2.3+\n",
    "3\t|出现于3.0版本,用以支持bytes类型|\t3.0+\n",
    "4\t|出现于Python 3.4.用于扩充pickel的支持类型和大对象|\t3.4+\n",
    "\n",
    "python3.5+默认使用的是版本4的pickle格式\n",
    "\n",
    "要指定使用某一种pickle格式,可以在方法中使用`protocol:int=n`来指定"
   ]
  },
  {
   "cell_type": "markdown",
   "metadata": {},
   "source": [
    "### pickle的局限性\n",
    "\n",
    "pickle的兼容性问题一直让人诟病,除了python没有别的语言使用pickle,而如上表所示,pickle在各个版本的python中也不是默认通用的\n",
    "\n",
    "pickle实际上并不能传递函数或者类,而是只能记录下它的状态信息而已,因此不能跨模块传递,除此之外,一些对象类型也是不可pickle的.例如Python不能 pickle文件对象(或者任何带有对文件对象引用的对象),因为 Python 在 unpickle 时不能保证它可以重建该文件的状态."
   ]
  },
  {
   "cell_type": "markdown",
   "metadata": {},
   "source": [
    "### pickle的接口\n",
    "\n",
    "pickle的接口与json类似带s为序列化或反序列化为字符串,不带的则是处理文件对象"
   ]
  },
  {
   "cell_type": "code",
   "execution_count": 13,
   "metadata": {},
   "outputs": [],
   "source": [
    "import pickle"
   ]
  },
  {
   "cell_type": "code",
   "execution_count": 14,
   "metadata": {},
   "outputs": [],
   "source": [
    "exa_l=[1,2,3,4,5]"
   ]
  },
  {
   "cell_type": "code",
   "execution_count": 15,
   "metadata": {},
   "outputs": [],
   "source": [
    "exa_b = pickle.dumps(exa_l)"
   ]
  },
  {
   "cell_type": "code",
   "execution_count": 16,
   "metadata": {},
   "outputs": [
    {
     "data": {
      "text/plain": [
       "b'\\x80\\x03]q\\x00(K\\x01K\\x02K\\x03K\\x04K\\x05e.'"
      ]
     },
     "execution_count": 16,
     "metadata": {},
     "output_type": "execute_result"
    }
   ],
   "source": [
    "exa_b"
   ]
  },
  {
   "cell_type": "code",
   "execution_count": 17,
   "metadata": {},
   "outputs": [
    {
     "data": {
      "text/plain": [
       "[1, 2, 3, 4, 5]"
      ]
     },
     "execution_count": 17,
     "metadata": {},
     "output_type": "execute_result"
    }
   ],
   "source": [
    "pickle.loads(exa_b)"
   ]
  },
  {
   "cell_type": "code",
   "execution_count": 18,
   "metadata": {},
   "outputs": [],
   "source": [
    "with open(\"source/pickle_test.txt\",\"wb\") as f:\n",
    "    pickle.dump(exa_l,f)"
   ]
  },
  {
   "cell_type": "code",
   "execution_count": 19,
   "metadata": {},
   "outputs": [
    {
     "data": {
      "text/plain": [
       "[1, 2, 3, 4, 5]"
      ]
     },
     "execution_count": 19,
     "metadata": {},
     "output_type": "execute_result"
    }
   ],
   "source": [
    "with open(\"source/pickle_test.txt\",\"rb\") as f:\n",
    "    view_exam = pickle.load(f)\n",
    "view_exam"
   ]
  },
  {
   "cell_type": "markdown",
   "metadata": {},
   "source": [
    "### 命令行工具 `pickletools`\n",
    "\n",
    "在python3中提供了一个命令行工具来管理pickle文件"
   ]
  },
  {
   "cell_type": "code",
   "execution_count": 20,
   "metadata": {},
   "outputs": [
    {
     "name": "stdout",
     "output_type": "stream",
     "text": [
      "[1, 2, 3, 4, 5]\n"
     ]
    }
   ],
   "source": [
    "!python -m pickle source/pickle_test.txt"
   ]
  },
  {
   "cell_type": "code",
   "execution_count": 21,
   "metadata": {},
   "outputs": [
    {
     "name": "stdout",
     "output_type": "stream",
     "text": [
      "    0: \\x80 PROTO      3\n",
      "    2: ]    EMPTY_LIST\n",
      "    3: q    BINPUT     0\n",
      "    5: (    MARK\n",
      "    6: K        BININT1    1\n",
      "    8: K        BININT1    2\n",
      "   10: K        BININT1    3\n",
      "   12: K        BININT1    4\n",
      "   14: K        BININT1    5\n",
      "   16: e        APPENDS    (MARK at 5)\n",
      "   17: .    STOP\n",
      "highest protocol among opcodes = 2\n"
     ]
    }
   ],
   "source": [
    "!python -m pickletools source/pickle_test.txt"
   ]
  },
  {
   "cell_type": "markdown",
   "metadata": {},
   "source": [
    "可用的参数:\n",
    "\n",
    "-a, –annotate\n",
    "用简短的操作码描述来标注每一行。\n",
    "\n",
    "-o, –output=\n",
    "写入输出的文件的名称。\n",
    "\n",
    "-l, –indentlevel=\n",
    "用于缩进新的MARK级别的空白数。\n",
    "\n",
    "-m, –memo\n",
    "拆卸多个物体时，请在拆卸之间保留备注。\n",
    "\n",
    "-p, –preamble=\n",
    "当指定多于一个pickle文件时，在每次分解之前打印给定的前导码"
   ]
  },
  {
   "cell_type": "markdown",
   "metadata": {},
   "source": [
    "## *[dill](https://github.com/uqfoundation/dill)用于序列化python对象*\n",
    "\n",
    "dill支持几乎所有的python数据,按github上的说法,它支持:\n",
    "\n",
    "none, type, bool, int, long, float, complex, str, unicode,\n",
    "tuple, list, dict, file, buffer, builtin,\n",
    "both old and new style classes,\n",
    "instances of old and new style classes,\n",
    "set, frozenset, array, functions, exceptions\n",
    "functions with yields, nested functions, lambdas\n",
    "cell, method, unboundmethod, module, code, methodwrapper,\n",
    "dictproxy, methoddescriptor, getsetdescriptor, memberdescriptor,\n",
    "wrapperdescriptor, xrange, slice,\n",
    "notimplemented, ellipsis, quit\n",
    "\n",
    "\n",
    "还不支持的有:\n",
    "\n",
    "frame(帧),generator(生成器对象,因为包含帧状态),traceback(依然是因为无法保存帧状态)\n",
    "\n",
    "\n",
    "与pickle不同,dill的序列化可以跨模块传递,事实上dill也是为了分布式计算传递python对象而设计的.\n",
    "\n",
    "dill对python3.5+支持不错,它支持协程,也支持numpy数组,只是序列化的过程中typehint会被消除.\n",
    "\n",
    "\n",
    "\n",
    "dill的设计目标是为分布式系统传输对象提供支持.因此支持的类型最多,但实际使用它的时候由于它序列化后的字节长度往往过大所以可能反而并不适合用于传输,而它的全面细致让它在用于保存时其实更有优势.\n",
    "\n",
    "dill在windows上似乎并不是完全支持.因此跨平台使用时需要谨慎."
   ]
  },
  {
   "cell_type": "markdown",
   "metadata": {},
   "source": [
    "dill可以直接使用pip安装,使用也相当简单,只要替代pickle就行了,他们接口相同"
   ]
  },
  {
   "cell_type": "code",
   "execution_count": 22,
   "metadata": {},
   "outputs": [],
   "source": [
    "import dill"
   ]
  },
  {
   "cell_type": "code",
   "execution_count": 23,
   "metadata": {},
   "outputs": [],
   "source": [
    "from asyncio import sleep\n",
    "import asyncio\n",
    "async def asyng(n:int):\n",
    "    print(\"n:\"+str(n)+\" wait\")\n",
    "    await sleep(1)\n",
    "    print(\"n:\"+str(n)+\"done\")"
   ]
  },
  {
   "cell_type": "code",
   "execution_count": 24,
   "metadata": {},
   "outputs": [],
   "source": [
    "with open(\"source/dill_cor.txt\",\"wb\") as f:\n",
    "    dill.dump(asyng,f)"
   ]
  },
  {
   "cell_type": "code",
   "execution_count": 25,
   "metadata": {},
   "outputs": [],
   "source": [
    "with open(\"source/dill_cor.txt\",\"rb\") as f:\n",
    "    s1 = dill.load(f)"
   ]
  },
  {
   "cell_type": "code",
   "execution_count": 26,
   "metadata": {},
   "outputs": [],
   "source": [
    "loop = asyncio.new_event_loop()"
   ]
  },
  {
   "cell_type": "code",
   "execution_count": 27,
   "metadata": {},
   "outputs": [
    {
     "name": "stdout",
     "output_type": "stream",
     "text": [
      "n:2 wait\n",
      "n:3 wait\n",
      "n:1 wait\n",
      "n:2done\n",
      "n:3done\n",
      "n:1done\n"
     ]
    },
    {
     "data": {
      "text/plain": [
       "({<Task finished coro=<asyng() done, defined at <ipython-input-23-badfb7211783>:3> result=None>,\n",
       "  <Task finished coro=<asyng() done, defined at <ipython-input-23-badfb7211783>:3> result=None>,\n",
       "  <Task finished coro=<asyng() done, defined at <ipython-input-23-badfb7211783>:3> result=None>},\n",
       " set())"
      ]
     },
     "execution_count": 27,
     "metadata": {},
     "output_type": "execute_result"
    }
   ],
   "source": [
    "loop.run_until_complete(asyncio.wait([s1(1),s1(2),s1(3)]))"
   ]
  },
  {
   "cell_type": "markdown",
   "metadata": {},
   "source": [
    "## *[cloudpickle](https://github.com/cloudpipe/cloudpickle)另一个pickle序列化工具*\n",
    "\n",
    "cloudpickle的开发目的也是一样而且现在已经在pyspark和dask中实用(dask中之前使用的是dill),它相较于dill,cloudpickle更加健壮,从目前来看应该是更加适合用于传输的工具.实际上它只是实现了序列化,而反序列化是交给自带的pickle的,这种设计可以在反序列化一端减少依赖,也让反序列化更加快速.\n",
    "\n",
    "从指标上来说:\n",
    "\n",
    "+ cloudpickle 序列化更加快速,比dill快大约10%\n",
    "+ cloudpickle 反序列化更加快速,比dill块大约85%\n",
    "+ cloudpickle 序列化出的bytes长度大约比dill长20%(带typehints的情况)\n",
    "+ cloudpickle 支持typehits\n"
   ]
  },
  {
   "cell_type": "markdown",
   "metadata": {},
   "source": [
    "### 序列化"
   ]
  },
  {
   "cell_type": "code",
   "execution_count": 28,
   "metadata": {},
   "outputs": [],
   "source": [
    "class A:\n",
    "    test:str\n",
    "    def __init__(self,text:str)->None:\n",
    "        self.text = text"
   ]
  },
  {
   "cell_type": "code",
   "execution_count": 29,
   "metadata": {},
   "outputs": [],
   "source": [
    "import cloudpickle"
   ]
  },
  {
   "cell_type": "code",
   "execution_count": 30,
   "metadata": {},
   "outputs": [],
   "source": [
    "AP = cloudpickle.dumps(A)"
   ]
  },
  {
   "cell_type": "markdown",
   "metadata": {},
   "source": [
    "### 反序列化"
   ]
  },
  {
   "cell_type": "code",
   "execution_count": 31,
   "metadata": {},
   "outputs": [],
   "source": [
    "import pickle"
   ]
  },
  {
   "cell_type": "code",
   "execution_count": 32,
   "metadata": {},
   "outputs": [],
   "source": [
    "AO = pickle.loads(AP)"
   ]
  },
  {
   "cell_type": "code",
   "execution_count": 33,
   "metadata": {},
   "outputs": [
    {
     "data": {
      "text/plain": [
       "{'test': str}"
      ]
     },
     "execution_count": 33,
     "metadata": {},
     "output_type": "execute_result"
    }
   ],
   "source": [
    "AO.__annotations__"
   ]
  },
  {
   "cell_type": "markdown",
   "metadata": {},
   "source": [
    "## `.ini/.conf`文件解析\n",
    "\n",
    "`.ini`文件形如下面\n",
    "\n",
    "```ini\n",
    "[DEFAULT]\n",
    "serveraliveinterval = 45\n",
    "compression = yes\n",
    "compressionlevel = 9\n",
    "forwardx11 = yes\n",
    "\n",
    "[bitbucket.org]\n",
    "user = hg\n",
    "\n",
    "[topsecret.server.com]\n",
    "port = 50022\n",
    "forwardx11 = no\n",
    "```\n",
    "\n",
    "可以分为几个部分:\n",
    "\n",
    "+ Sections 节,每个节代表一项配置系列\n",
    "\n",
    "+ Case insensitivity 参数字段,具体要配置的字段对应的值\n",
    "\n",
    "可以理解成一个两层的字典\n",
    "\n",
    "### 写\n",
    "\n",
    "`ConfigParser()`用于初始化一个解析器,这个解析器可以像字典一样使用"
   ]
  },
  {
   "cell_type": "code",
   "execution_count": 34,
   "metadata": {},
   "outputs": [],
   "source": [
    "import configparser\n",
    "config = configparser.ConfigParser()\n",
    "config['DEFAULT'] = {'ServerAliveInterval': '45',\n",
    "                    'Compression': 'yes',\n",
    "                    'CompressionLevel': '9'}\n",
    "config['bitbucket.org'] = {}\n",
    "config['bitbucket.org']['User'] = 'hg'\n",
    "config['topsecret.server.com'] = {}\n",
    "topsecret = config['topsecret.server.com']\n",
    "topsecret['Port'] = '50022'     # mutates the parser\n",
    "topsecret['ForwardX11'] = 'no'  # same here\n",
    "config['DEFAULT']['ForwardX11'] = 'yes'\n",
    "with open('example.ini', 'w') as configfile:\n",
    "    config.write(configfile)"
   ]
  },
  {
   "cell_type": "markdown",
   "metadata": {},
   "source": [
    "### 读\n",
    "\n",
    "初始化一个空的解析器后可以通过`.read`方法来读入一个已有的配置."
   ]
  },
  {
   "cell_type": "code",
   "execution_count": 35,
   "metadata": {},
   "outputs": [
    {
     "data": {
      "text/plain": [
       "[]"
      ]
     },
     "execution_count": 35,
     "metadata": {},
     "output_type": "execute_result"
    }
   ],
   "source": [
    "config = configparser.ConfigParser()\n",
    "config.sections()"
   ]
  },
  {
   "cell_type": "code",
   "execution_count": 36,
   "metadata": {},
   "outputs": [
    {
     "data": {
      "text/plain": [
       "['example.ini']"
      ]
     },
     "execution_count": 36,
     "metadata": {},
     "output_type": "execute_result"
    }
   ],
   "source": [
    "config.read('example.ini')"
   ]
  },
  {
   "cell_type": "markdown",
   "metadata": {},
   "source": [
    "可以通过`sections`方法获取所有节"
   ]
  },
  {
   "cell_type": "code",
   "execution_count": 37,
   "metadata": {},
   "outputs": [
    {
     "data": {
      "text/plain": [
       "['bitbucket.org', 'topsecret.server.com']"
      ]
     },
     "execution_count": 37,
     "metadata": {},
     "output_type": "execute_result"
    }
   ],
   "source": [
    "config.sections()"
   ]
  },
  {
   "cell_type": "code",
   "execution_count": 38,
   "metadata": {},
   "outputs": [
    {
     "data": {
      "text/plain": [
       "True"
      ]
     },
     "execution_count": 38,
     "metadata": {},
     "output_type": "execute_result"
    }
   ],
   "source": [
    "'bitbucket.org' in config"
   ]
  },
  {
   "cell_type": "code",
   "execution_count": 39,
   "metadata": {},
   "outputs": [
    {
     "data": {
      "text/plain": [
       "False"
      ]
     },
     "execution_count": 39,
     "metadata": {},
     "output_type": "execute_result"
    }
   ],
   "source": [
    "'bytebong.com' in config"
   ]
  },
  {
   "cell_type": "markdown",
   "metadata": {},
   "source": [
    "获取到节后,就可以像操作字典一样操作这个节内的内容了"
   ]
  },
  {
   "cell_type": "code",
   "execution_count": 40,
   "metadata": {},
   "outputs": [
    {
     "name": "stdout",
     "output_type": "stream",
     "text": [
      "user hg\n",
      "serveraliveinterval 45\n",
      "compression yes\n",
      "compressionlevel 9\n",
      "forwardx11 yes\n"
     ]
    }
   ],
   "source": [
    "for k,v in config['bitbucket.org'].items():\n",
    "    print(k,v)"
   ]
  },
  {
   "cell_type": "code",
   "execution_count": 41,
   "metadata": {},
   "outputs": [
    {
     "data": {
      "text/plain": [
       "'hg'"
      ]
     },
     "execution_count": 41,
     "metadata": {},
     "output_type": "execute_result"
    }
   ],
   "source": [
    "config['bitbucket.org']['User']"
   ]
  },
  {
   "cell_type": "code",
   "execution_count": 42,
   "metadata": {},
   "outputs": [
    {
     "data": {
      "text/plain": [
       "'yes'"
      ]
     },
     "execution_count": 42,
     "metadata": {},
     "output_type": "execute_result"
    }
   ],
   "source": [
    "config['DEFAULT']['Compression']"
   ]
  },
  {
   "cell_type": "code",
   "execution_count": 43,
   "metadata": {},
   "outputs": [
    {
     "data": {
      "text/plain": [
       "'no'"
      ]
     },
     "execution_count": 43,
     "metadata": {},
     "output_type": "execute_result"
    }
   ],
   "source": [
    "topsecret = config['topsecret.server.com']\n",
    "topsecret['ForwardX11']"
   ]
  },
  {
   "cell_type": "code",
   "execution_count": 44,
   "metadata": {},
   "outputs": [
    {
     "data": {
      "text/plain": [
       "'50022'"
      ]
     },
     "execution_count": 44,
     "metadata": {},
     "output_type": "execute_result"
    }
   ],
   "source": [
    "topsecret['Port']"
   ]
  },
  {
   "cell_type": "code",
   "execution_count": 45,
   "metadata": {},
   "outputs": [
    {
     "name": "stdout",
     "output_type": "stream",
     "text": [
      "user\n",
      "serveraliveinterval\n",
      "compression\n",
      "compressionlevel\n",
      "forwardx11\n"
     ]
    }
   ],
   "source": [
    "for key in config['bitbucket.org']: print(key)"
   ]
  },
  {
   "cell_type": "markdown",
   "metadata": {},
   "source": [
    "## xml文件解析\n",
    "\n",
    "xml即可扩展标记语言,它可以用来标记数据、定义数据类型,是一种允许用户对自己的标记语言进行定义的源语言,简单说它是html的爹.大约长这个样子:\n",
    "\n",
    "    <?xml version=\"1.0\" encoding=\"utf-8\"?>\n",
    "    <catalog>\n",
    "        <maxid>4</maxid>\n",
    "        <login username=\"pytest\" passwd='123456'>\n",
    "            <caption>Python</caption>\n",
    "            <item id=\"4\">\n",
    "                <caption>测试</caption>\n",
    "            </item>\n",
    "        </login>\n",
    "        <item id=\"2\">\n",
    "            <caption>Zope</caption>\n",
    "        </item>\n",
    "    </catalog>\n",
    "\n",
    "\n",
    "它有如下特征:\n",
    "\n",
    "+ 它是有标签对组成,\n",
    "        \n",
    "        <aa></aa>\n",
    " \n",
    "+ 标签可以有属性:\n",
    "        \n",
    "        <aa id=’123’></aa>\n",
    "\n",
    "+ 标签对可以嵌入数据:\n",
    "        \n",
    "        <aa>abc</aa>\n",
    "\n",
    "+ 标签可以嵌入子标签(具有层级关系):\n",
    "\n",
    "        <aa>\n",
    "\n",
    "             <bb></bb>\n",
    "\n",
    "        </aa>\n",
    "\n",
    "和html特点上是差不多的.\n",
    " \n",
    "\n",
    "\n",
    "对于xml的支持,python提供4种解析方式:DOM,SAX和ElementTree,具体特点归纳如下:\n",
    "\n",
    "\n",
    "方法|对应模块|实现方式|特点\n",
    "---|---|---|---\n",
    "DOM|xml.dom|`W3C DOM API`的实现.将XML数据在内存中解析成一个树,通过对树的操作来操作XML.|高内存占用,但解析成树便于分析\n",
    "SAX|xml.sax|`SAX API`的实现.用事件驱动模型,通过在解析XML的过程中触发一个个的事件并调用用户定义的回调函数来处理XML文件.|低内存占用,局部加载,API不友好\n",
    "ElementTree|xml.etree.ElementTree|一个轻量级的DOM,具有方便友好的API.代码可用性好速度快,消耗内存少|比DOM快,API友好,性能和SAX差不多,也支持文档局部加载"
   ]
  },
  {
   "cell_type": "code",
   "execution_count": 46,
   "metadata": {},
   "outputs": [
    {
     "data": {
      "text/plain": [
       "'<?xml version=\"1.0\" encoding=\"ISO-8859-1\"?>\\r\\n<!-- Edited with XML Spy v2007 (http://www.altova.com) '"
      ]
     },
     "execution_count": 46,
     "metadata": {},
     "output_type": "execute_result"
    }
   ],
   "source": [
    "import requests\n",
    "content = requests.get(\"http://www.w3school.com.cn/example/xmle/plant_catalog.xml\").text\n",
    "content[:100]"
   ]
  },
  {
   "cell_type": "markdown",
   "metadata": {},
   "source": [
    "### DOM方法:\n",
    "\n",
    "在`xml.dom`模块中我们一般用`xml.dom.minidom`子模块来解析xml,其中`parse`用于解析文件,`parseString`用于解析字符串"
   ]
  },
  {
   "cell_type": "code",
   "execution_count": 47,
   "metadata": {},
   "outputs": [
    {
     "data": {
      "text/plain": [
       "'CATALOG'"
      ]
     },
     "execution_count": 47,
     "metadata": {},
     "output_type": "execute_result"
    }
   ],
   "source": [
    "from xml.dom.minidom import parse,parseString\n",
    "dom = parseString(content)#解析xml文件,返回一个dom对象\n",
    "root=dom.documentElement#返回xml生成树的根\n",
    "root.nodeName#节点名"
   ]
  },
  {
   "cell_type": "code",
   "execution_count": 48,
   "metadata": {},
   "outputs": [],
   "source": [
    "root.nodeValue#节点值"
   ]
  },
  {
   "cell_type": "code",
   "execution_count": 49,
   "metadata": {},
   "outputs": [
    {
     "data": {
      "text/plain": [
       "1"
      ]
     },
     "execution_count": 49,
     "metadata": {},
     "output_type": "execute_result"
    }
   ],
   "source": [
    "root.nodeType#节点类型"
   ]
  },
  {
   "cell_type": "markdown",
   "metadata": {},
   "source": [
    "其中节点类型对应的意义\n",
    "\n",
    "NodeType|\tNamed Constant\n",
    "---|---\n",
    "1|\tELEMENT_NODE\n",
    "2|\tATTRIBUTE_NODE\n",
    "3|\tTEXT_NODE\n",
    "4|\tCDATA_SECTION_NODE\n",
    "5|\tENTITY_REFERENCE_NODE\n",
    "6\t|ENTITY_NODE\n",
    "7|\tPROCESSING_INSTRUCTION_NODE\n",
    "8|\tCOMMENT_NODE\n",
    "9|\tDOCUMENT_NODE\n",
    "10|\tDOCUMENT_TYPE_NODE\n",
    "11|\tDOCUMENT_FRAGMENT_NODE\n",
    "12|\tNOTATION_NODE\n"
   ]
  },
  {
   "cell_type": "code",
   "execution_count": 50,
   "metadata": {},
   "outputs": [
    {
     "data": {
      "text/plain": [
       "False"
      ]
     },
     "execution_count": 50,
     "metadata": {},
     "output_type": "execute_result"
    }
   ],
   "source": [
    "root.hasAttributes()   # 判断标签是否有属性"
   ]
  },
  {
   "cell_type": "code",
   "execution_count": 51,
   "metadata": {},
   "outputs": [
    {
     "data": {
      "text/plain": [
       "'Bloodroot'"
      ]
     },
     "execution_count": 51,
     "metadata": {},
     "output_type": "execute_result"
    }
   ],
   "source": [
    "commoneles=root.getElementsByTagName('COMMON')#获取已知标签名的元素(按顺序返回元素)\n",
    "#item = commoneles[0].getAttribute(\"id\") #获得标签属性值\n",
    "commonele0 = commoneles[0]\n",
    "commonele0.firstChild.data#获取到第一个子节点的值"
   ]
  },
  {
   "cell_type": "markdown",
   "metadata": {},
   "source": [
    "再看一个更加简单的例子,我们有一个配置文件`plant_catalog.xml`用于配置所有植物对应的价格:\n",
    "\n",
    "```xml\n",
    "<?xml version=\"1.0\" encoding=\"ISO-8859-1\"?>\n",
    "<!-- Edited with XML Spy v2007 (http://www.altova.com) -->\n",
    "<CATALOG>\n",
    "\t<PLANT>\n",
    "\t\t<COMMON>Bloodroot</COMMON>\n",
    "\t\t<BOTANICAL>Sanguinaria canadensis</BOTANICAL>\n",
    "\t\t<ZONE>4</ZONE>\n",
    "\t\t<LIGHT>Mostly Shady</LIGHT>\n",
    "\t\t<PRICE>$2.44</PRICE>\n",
    "\t\t<AVAILABILITY>031599</AVAILABILITY>\n",
    "\t</PLANT>\n",
    "\t<PLANT>\n",
    "\t\t<COMMON>Columbine</COMMON>\n",
    "\t\t<BOTANICAL>Aquilegia canadensis</BOTANICAL>\n",
    "\t\t<ZONE>3</ZONE>\n",
    "\t\t<LIGHT>Mostly Shady</LIGHT>\n",
    "\t\t<PRICE>$9.37</PRICE>\n",
    "\t\t<AVAILABILITY>030699</AVAILABILITY>\n",
    "\t</PLANT>\n",
    "\t<PLANT>\n",
    "\t\t<COMMON>Marsh Marigold</COMMON>\n",
    "\t\t<BOTANICAL>Caltha palustris</BOTANICAL>\n",
    "\t\t<ZONE>4</ZONE>\n",
    "\t\t<LIGHT>Mostly Sunny</LIGHT>\n",
    "\t\t<PRICE>$6.81</PRICE>\n",
    "\t\t<AVAILABILITY>051799</AVAILABILITY>\n",
    "\t</PLANT>\n",
    "\t<PLANT>\n",
    "\t\t<COMMON>Cowslip</COMMON>\n",
    "\t\t<BOTANICAL>Caltha palustris</BOTANICAL>\n",
    "\t\t<ZONE>4</ZONE>\n",
    "\t\t<LIGHT>Mostly Shady</LIGHT>\n",
    "\t\t<PRICE>$9.90</PRICE>\n",
    "\t\t<AVAILABILITY>030699</AVAILABILITY>\n",
    "\t</PLANT>\n",
    "\t<PLANT>\n",
    "\t\t<COMMON>Dutchman's-Breeches</COMMON>\n",
    "\t\t<BOTANICAL>Dicentra cucullaria</BOTANICAL>\n",
    "\t\t<ZONE>3</ZONE>\n",
    "\t\t<LIGHT>Mostly Shady</LIGHT>\n",
    "\t\t<PRICE>$6.44</PRICE>\n",
    "\t\t<AVAILABILITY>012099</AVAILABILITY>\n",
    "\t</PLANT>\n",
    "\t<PLANT>\n",
    "\t\t<COMMON>Ginger, Wild</COMMON>\n",
    "\t\t<BOTANICAL>Asarum canadense</BOTANICAL>\n",
    "\t\t<ZONE>3</ZONE>\n",
    "\t\t<LIGHT>Mostly Shady</LIGHT>\n",
    "\t\t<PRICE>$9.03</PRICE>\n",
    "\t\t<AVAILABILITY>041899</AVAILABILITY>\n",
    "\t</PLANT>\n",
    "\t<PLANT>\n",
    "\t\t<COMMON>Hepatica</COMMON>\n",
    "\t\t<BOTANICAL>Hepatica americana</BOTANICAL>\n",
    "\t\t<ZONE>4</ZONE>\n",
    "\t\t<LIGHT>Mostly Shady</LIGHT>\n",
    "\t\t<PRICE>$4.45</PRICE>\n",
    "\t\t<AVAILABILITY>012699</AVAILABILITY>\n",
    "\t</PLANT>\n",
    "\t<PLANT>\n",
    "\t\t<COMMON>Liverleaf</COMMON>\n",
    "\t\t<BOTANICAL>Hepatica americana</BOTANICAL>\n",
    "\t\t<ZONE>4</ZONE>\n",
    "\t\t<LIGHT>Mostly Shady</LIGHT>\n",
    "\t\t<PRICE>$3.99</PRICE>\n",
    "\t\t<AVAILABILITY>010299</AVAILABILITY>\n",
    "\t</PLANT>\n",
    "\t<PLANT>\n",
    "\t\t<COMMON>Jack-In-The-Pulpit</COMMON>\n",
    "\t\t<BOTANICAL>Arisaema triphyllum</BOTANICAL>\n",
    "\t\t<ZONE>4</ZONE>\n",
    "\t\t<LIGHT>Mostly Shady</LIGHT>\n",
    "\t\t<PRICE>$3.23</PRICE>\n",
    "\t\t<AVAILABILITY>020199</AVAILABILITY>\n",
    "\t</PLANT>\n",
    "\t<PLANT>\n",
    "\t\t<COMMON>Mayapple</COMMON>\n",
    "\t\t<BOTANICAL>Podophyllum peltatum</BOTANICAL>\n",
    "\t\t<ZONE>3</ZONE>\n",
    "\t\t<LIGHT>Mostly Shady</LIGHT>\n",
    "\t\t<PRICE>$2.98</PRICE>\n",
    "\t\t<AVAILABILITY>060599</AVAILABILITY>\n",
    "\t</PLANT>\n",
    "\t<PLANT>\n",
    "\t\t<COMMON>Phlox, Woodland</COMMON>\n",
    "\t\t<BOTANICAL>Phlox divaricata</BOTANICAL>\n",
    "\t\t<ZONE>3</ZONE>\n",
    "\t\t<LIGHT>Sun or Shade</LIGHT>\n",
    "\t\t<PRICE>$2.80</PRICE>\n",
    "\t\t<AVAILABILITY>012299</AVAILABILITY>\n",
    "\t</PLANT>\n",
    "\t<PLANT>\n",
    "\t\t<COMMON>Phlox, Blue</COMMON>\n",
    "\t\t<BOTANICAL>Phlox divaricata</BOTANICAL>\n",
    "\t\t<ZONE>3</ZONE>\n",
    "\t\t<LIGHT>Sun or Shade</LIGHT>\n",
    "\t\t<PRICE>$5.59</PRICE>\n",
    "\t\t<AVAILABILITY>021699</AVAILABILITY>\n",
    "\t</PLANT>\n",
    "\t<PLANT>\n",
    "\t\t<COMMON>Spring-Beauty</COMMON>\n",
    "\t\t<BOTANICAL>Claytonia Virginica</BOTANICAL>\n",
    "\t\t<ZONE>7</ZONE>\n",
    "\t\t<LIGHT>Mostly Shady</LIGHT>\n",
    "\t\t<PRICE>$6.59</PRICE>\n",
    "\t\t<AVAILABILITY>020199</AVAILABILITY>\n",
    "\t</PLANT>\n",
    "\t<PLANT>\n",
    "\t\t<COMMON>Trillium</COMMON>\n",
    "\t\t<BOTANICAL>Trillium grandiflorum</BOTANICAL>\n",
    "\t\t<ZONE>5</ZONE>\n",
    "\t\t<LIGHT>Sun or Shade</LIGHT>\n",
    "\t\t<PRICE>$3.90</PRICE>\n",
    "\t\t<AVAILABILITY>042999</AVAILABILITY>\n",
    "\t</PLANT>\n",
    "\t<PLANT>\n",
    "\t\t<COMMON>Wake Robin</COMMON>\n",
    "\t\t<BOTANICAL>Trillium grandiflorum</BOTANICAL>\n",
    "\t\t<ZONE>5</ZONE>\n",
    "\t\t<LIGHT>Sun or Shade</LIGHT>\n",
    "\t\t<PRICE>$3.20</PRICE>\n",
    "\t\t<AVAILABILITY>022199</AVAILABILITY>\n",
    "\t</PLANT>\n",
    "\t<PLANT>\n",
    "\t\t<COMMON>Violet, Dog-Tooth</COMMON>\n",
    "\t\t<BOTANICAL>Erythronium americanum</BOTANICAL>\n",
    "\t\t<ZONE>4</ZONE>\n",
    "\t\t<LIGHT>Shade</LIGHT>\n",
    "\t\t<PRICE>$9.04</PRICE>\n",
    "\t\t<AVAILABILITY>020199</AVAILABILITY>\n",
    "\t</PLANT>\n",
    "\t<PLANT>\n",
    "\t\t<COMMON>Trout Lily</COMMON>\n",
    "\t\t<BOTANICAL>Erythronium americanum</BOTANICAL>\n",
    "\t\t<ZONE>4</ZONE>\n",
    "\t\t<LIGHT>Shade</LIGHT>\n",
    "\t\t<PRICE>$6.94</PRICE>\n",
    "\t\t<AVAILABILITY>032499</AVAILABILITY>\n",
    "\t</PLANT>\n",
    "\t<PLANT>\n",
    "\t\t<COMMON>Adder's-Tongue</COMMON>\n",
    "\t\t<BOTANICAL>Erythronium americanum</BOTANICAL>\n",
    "\t\t<ZONE>4</ZONE>\n",
    "\t\t<LIGHT>Shade</LIGHT>\n",
    "\t\t<PRICE>$9.58</PRICE>\n",
    "\t\t<AVAILABILITY>041399</AVAILABILITY>\n",
    "\t</PLANT>\n",
    "\t<PLANT>\n",
    "\t\t<COMMON>Anemone</COMMON>\n",
    "\t\t<BOTANICAL>Anemone blanda</BOTANICAL>\n",
    "\t\t<ZONE>6</ZONE>\n",
    "\t\t<LIGHT>Mostly Shady</LIGHT>\n",
    "\t\t<PRICE>$8.86</PRICE>\n",
    "\t\t<AVAILABILITY>122698</AVAILABILITY>\n",
    "\t</PLANT>\n",
    "\t<PLANT>\n",
    "\t\t<COMMON>Grecian Windflower</COMMON>\n",
    "\t\t<BOTANICAL>Anemone blanda</BOTANICAL>\n",
    "\t\t<ZONE>6</ZONE>\n",
    "\t\t<LIGHT>Mostly Shady</LIGHT>\n",
    "\t\t<PRICE>$9.16</PRICE>\n",
    "\t\t<AVAILABILITY>071099</AVAILABILITY>\n",
    "\t</PLANT>\n",
    "\t<PLANT>\n",
    "\t\t<COMMON>Bee Balm</COMMON>\n",
    "\t\t<BOTANICAL>Monarda didyma</BOTANICAL>\n",
    "\t\t<ZONE>4</ZONE>\n",
    "\t\t<LIGHT>Shade</LIGHT>\n",
    "\t\t<PRICE>$4.59</PRICE>\n",
    "\t\t<AVAILABILITY>050399</AVAILABILITY>\n",
    "\t</PLANT>\n",
    "\t<PLANT>\n",
    "\t\t<COMMON>Bergamot</COMMON>\n",
    "\t\t<BOTANICAL>Monarda didyma</BOTANICAL>\n",
    "\t\t<ZONE>4</ZONE>\n",
    "\t\t<LIGHT>Shade</LIGHT>\n",
    "\t\t<PRICE>$7.16</PRICE>\n",
    "\t\t<AVAILABILITY>042799</AVAILABILITY>\n",
    "\t</PLANT>\n",
    "\t<PLANT>\n",
    "\t\t<COMMON>Black-Eyed Susan</COMMON>\n",
    "\t\t<BOTANICAL>Rudbeckia hirta</BOTANICAL>\n",
    "\t\t<ZONE>Annual</ZONE>\n",
    "\t\t<LIGHT>Sunny</LIGHT>\n",
    "\t\t<PRICE>$9.80</PRICE>\n",
    "\t\t<AVAILABILITY>061899</AVAILABILITY>\n",
    "\t</PLANT>\n",
    "\t<PLANT>\n",
    "\t\t<COMMON>Buttercup</COMMON>\n",
    "\t\t<BOTANICAL>Ranunculus</BOTANICAL>\n",
    "\t\t<ZONE>4</ZONE>\n",
    "\t\t<LIGHT>Shade</LIGHT>\n",
    "\t\t<PRICE>$2.57</PRICE>\n",
    "\t\t<AVAILABILITY>061099</AVAILABILITY>\n",
    "\t</PLANT>\n",
    "\t<PLANT>\n",
    "\t\t<COMMON>Crowfoot</COMMON>\n",
    "\t\t<BOTANICAL>Ranunculus</BOTANICAL>\n",
    "\t\t<ZONE>4</ZONE>\n",
    "\t\t<LIGHT>Shade</LIGHT>\n",
    "\t\t<PRICE>$9.34</PRICE>\n",
    "\t\t<AVAILABILITY>040399</AVAILABILITY>\n",
    "\t</PLANT>\n",
    "\t<PLANT>\n",
    "\t\t<COMMON>Butterfly Weed</COMMON>\n",
    "\t\t<BOTANICAL>Asclepias tuberosa</BOTANICAL>\n",
    "\t\t<ZONE>Annual</ZONE>\n",
    "\t\t<LIGHT>Sunny</LIGHT>\n",
    "\t\t<PRICE>$2.78</PRICE>\n",
    "\t\t<AVAILABILITY>063099</AVAILABILITY>\n",
    "\t</PLANT>\n",
    "\t<PLANT>\n",
    "\t\t<COMMON>Cinquefoil</COMMON>\n",
    "\t\t<BOTANICAL>Potentilla</BOTANICAL>\n",
    "\t\t<ZONE>Annual</ZONE>\n",
    "\t\t<LIGHT>Shade</LIGHT>\n",
    "\t\t<PRICE>$7.06</PRICE>\n",
    "\t\t<AVAILABILITY>052599</AVAILABILITY>\n",
    "\t</PLANT>\n",
    "\t<PLANT>\n",
    "\t\t<COMMON>Primrose</COMMON>\n",
    "\t\t<BOTANICAL>Oenothera</BOTANICAL>\n",
    "\t\t<ZONE>3 - 5</ZONE>\n",
    "\t\t<LIGHT>Sunny</LIGHT>\n",
    "\t\t<PRICE>$6.56</PRICE>\n",
    "\t\t<AVAILABILITY>013099</AVAILABILITY>\n",
    "\t</PLANT>\n",
    "\t<PLANT>\n",
    "\t\t<COMMON>Gentian</COMMON>\n",
    "\t\t<BOTANICAL>Gentiana</BOTANICAL>\n",
    "\t\t<ZONE>4</ZONE>\n",
    "\t\t<LIGHT>Sun or Shade</LIGHT>\n",
    "\t\t<PRICE>$7.81</PRICE>\n",
    "\t\t<AVAILABILITY>051899</AVAILABILITY>\n",
    "\t</PLANT>\n",
    "\t<PLANT>\n",
    "\t\t<COMMON>Blue Gentian</COMMON>\n",
    "\t\t<BOTANICAL>Gentiana</BOTANICAL>\n",
    "\t\t<ZONE>4</ZONE>\n",
    "\t\t<LIGHT>Sun or Shade</LIGHT>\n",
    "\t\t<PRICE>$8.56</PRICE>\n",
    "\t\t<AVAILABILITY>050299</AVAILABILITY>\n",
    "\t</PLANT>\n",
    "\t<PLANT>\n",
    "\t\t<COMMON>Jacob's Ladder</COMMON>\n",
    "\t\t<BOTANICAL>Polemonium caeruleum</BOTANICAL>\n",
    "\t\t<ZONE>Annual</ZONE>\n",
    "\t\t<LIGHT>Shade</LIGHT>\n",
    "\t\t<PRICE>$9.26</PRICE>\n",
    "\t\t<AVAILABILITY>022199</AVAILABILITY>\n",
    "\t</PLANT>\n",
    "\t<PLANT>\n",
    "\t\t<COMMON>Greek Valerian</COMMON>\n",
    "\t\t<BOTANICAL>Polemonium caeruleum</BOTANICAL>\n",
    "\t\t<ZONE>Annual</ZONE>\n",
    "\t\t<LIGHT>Shade</LIGHT>\n",
    "\t\t<PRICE>$4.36</PRICE>\n",
    "\t\t<AVAILABILITY>071499</AVAILABILITY>\n",
    "\t</PLANT>\n",
    "\t<PLANT>\n",
    "\t\t<COMMON>California Poppy</COMMON>\n",
    "\t\t<BOTANICAL>Eschscholzia californica</BOTANICAL>\n",
    "\t\t<ZONE>Annual</ZONE>\n",
    "\t\t<LIGHT>Sun</LIGHT>\n",
    "\t\t<PRICE>$7.89</PRICE>\n",
    "\t\t<AVAILABILITY>032799</AVAILABILITY>\n",
    "\t</PLANT>\n",
    "\t<PLANT>\n",
    "\t\t<COMMON>Shooting Star</COMMON>\n",
    "\t\t<BOTANICAL>Dodecatheon</BOTANICAL>\n",
    "\t\t<ZONE>Annual</ZONE>\n",
    "\t\t<LIGHT>Mostly Shady</LIGHT>\n",
    "\t\t<PRICE>$8.60</PRICE>\n",
    "\t\t<AVAILABILITY>051399</AVAILABILITY>\n",
    "\t</PLANT>\n",
    "\t<PLANT>\n",
    "\t\t<COMMON>Snakeroot</COMMON>\n",
    "\t\t<BOTANICAL>Cimicifuga</BOTANICAL>\n",
    "\t\t<ZONE>Annual</ZONE>\n",
    "\t\t<LIGHT>Shade</LIGHT>\n",
    "\t\t<PRICE>$5.63</PRICE>\n",
    "\t\t<AVAILABILITY>071199</AVAILABILITY>\n",
    "\t</PLANT>\n",
    "\t<PLANT>\n",
    "\t\t<COMMON>Cardinal Flower</COMMON>\n",
    "\t\t<BOTANICAL>Lobelia cardinalis</BOTANICAL>\n",
    "\t\t<ZONE>2</ZONE>\n",
    "\t\t<LIGHT>Shade</LIGHT>\n",
    "\t\t<PRICE>$3.02</PRICE>\n",
    "\t\t<AVAILABILITY>022299</AVAILABILITY>\n",
    "\t</PLANT>\n",
    "</CATALOG>\n",
    "```\n",
    "\n",
    "让我们来解析它"
   ]
  },
  {
   "cell_type": "code",
   "execution_count": 52,
   "metadata": {},
   "outputs": [
    {
     "name": "stdout",
     "output_type": "stream",
     "text": [
      "Bloodroot : $2.44\n",
      "Columbine : $9.37\n",
      "Marsh Marigold : $6.81\n",
      "Cowslip : $9.90\n",
      "Dutchman's-Breeches : $6.44\n",
      "Ginger, Wild : $9.03\n",
      "Hepatica : $4.45\n",
      "Liverleaf : $3.99\n",
      "Jack-In-The-Pulpit : $3.23\n",
      "Mayapple : $2.98\n",
      "Phlox, Woodland : $2.80\n",
      "Phlox, Blue : $5.59\n",
      "Spring-Beauty : $6.59\n",
      "Trillium : $3.90\n",
      "Wake Robin : $3.20\n",
      "Violet, Dog-Tooth : $9.04\n",
      "Trout Lily : $6.94\n",
      "Adder's-Tongue : $9.58\n",
      "Anemone : $8.86\n",
      "Grecian Windflower : $9.16\n",
      "Bee Balm : $4.59\n",
      "Bergamot : $7.16\n",
      "Black-Eyed Susan : $9.80\n",
      "Buttercup : $2.57\n",
      "Crowfoot : $9.34\n",
      "Butterfly Weed : $2.78\n",
      "Cinquefoil : $7.06\n",
      "Primrose : $6.56\n",
      "Gentian : $7.81\n",
      "Blue Gentian : $8.56\n",
      "Jacob's Ladder : $9.26\n",
      "Greek Valerian : $4.36\n",
      "California Poppy : $7.89\n",
      "Shooting Star : $8.60\n",
      "Snakeroot : $5.63\n",
      "Cardinal Flower : $3.02\n"
     ]
    }
   ],
   "source": [
    "dom = parse(\"plant_catalog.xml\")#解析xml文件,返回一个dom对象\n",
    "root=dom.documentElement#返回xml生成树的根\n",
    "plantes = root.getElementsByTagName('PLANT')\n",
    "result = map(lambda x:(x.getElementsByTagName('COMMON')[0].firstChild.data,\n",
    "              x.getElementsByTagName('PRICE')[0].firstChild.data),plantes)\n",
    "for i in result:\n",
    "    print(i[0],\":\",i[1])"
   ]
  },
  {
   "cell_type": "markdown",
   "metadata": {},
   "source": [
    "### SAX方法\n",
    "\n",
    "SAX方法是事件驱动的,所以第一个就是继承回调类并重载回调函数,这和`html.parser`类似\n",
    "\n",
    "ContentHandler类常用方法介绍:\n",
    "\n",
    "+ characters(content)方法\n",
    "\n",
    "    调用时机:\n",
    "    从行开始,遇到标签之前,存在字符,content的值为这些字符串.\n",
    "    从一个标签,遇到下一个标签之前,存在字符,content的值为这些字符串.\n",
    "    从一个标签,遇到行结束符之前,存在字符,content的值为这些字符串.\n",
    "    标签可以是开始标签,也可以是结束标签.\n",
    "  \n",
    "  \n",
    "+ startDocument()方法\n",
    "\n",
    "    文档启动的时候调用.\n",
    "    \n",
    "    \n",
    "+ endDocument()方法\n",
    "\n",
    "    解析器到达文档结尾时调用.\n",
    "    \n",
    "    \n",
    "+ startElement(name, attrs)方法\n",
    "\n",
    "    遇到XML开始标签时调用,name是标签的名字,attrs是标签的属性值字典.\n",
    "    \n",
    "    \n",
    "+ endElement(name)方法\n",
    "\n",
    "    遇到XML结束标签时调用.\n",
    "\n",
    "+ startElementNS(name, qname, attrs)方法\n",
    "\n",
    "    遇到XML命名空间开始时调用\n",
    "    \n",
    "+ endElementNS(name, qname)方法\n",
    "    \n",
    "    遇到XML命名空间结束时调用\n",
    "    \n",
    "    \n",
    "之后只要创建解析器对象就可以像解析html一样解析xml了,我们依然用上面的例子"
   ]
  },
  {
   "cell_type": "code",
   "execution_count": 53,
   "metadata": {},
   "outputs": [],
   "source": [
    "import xml.sax.handler\n",
    "\n",
    "class PlanteHandler(xml.sax.handler.ContentHandler):\n",
    "    def __init__(self):\n",
    "        self.CurrentData = \"\"\n",
    "        self.type = \"\"\n",
    "        self.format = \"\"\n",
    "        self.year = \"\"\n",
    "        self.rating = \"\"\n",
    "        self.stars = \"\"\n",
    "        self.description = \"\"\n",
    "        \n",
    "    # 元素开始事件处理\n",
    "    def startElement(self, tag, attributes):\n",
    "        self.CurrentData = tag\n",
    "        chidren = {\n",
    "            \"PlANTE\":lambda :print(\"*****PlANTE*****\"),\n",
    "            \"COMMON\":lambda :print(\"name:\",end=''),\n",
    "            \"PRICE\":lambda :print(\"price:\",end='')\n",
    "        }\n",
    "        chidren.get(self.CurrentData,lambda : None)()\n",
    "    \n",
    "    # 元素结束事件处理\n",
    "    def endElement(self, tag):\n",
    "        self.CurrentData = \"\"\n",
    "\n",
    "    # 内容事件处理\n",
    "    def characters(self, content):\n",
    "        chidren = {\n",
    "            \"COMMON\":lambda:print(content),\n",
    "            \"PRICE\":lambda:print(content)\n",
    "        }\n",
    "        chidren.get(self.CurrentData,lambda :None)()"
   ]
  },
  {
   "cell_type": "code",
   "execution_count": 54,
   "metadata": {},
   "outputs": [
    {
     "name": "stdout",
     "output_type": "stream",
     "text": [
      "name:Bloodroot\n",
      "price:$2.44\n",
      "name:Columbine\n",
      "price:$9.37\n",
      "name:Marsh Marigold\n",
      "price:$6.81\n",
      "name:Cowslip\n",
      "price:$9.90\n",
      "name:Dutchman's-Breeches\n",
      "price:$6.44\n",
      "name:Ginger, Wild\n",
      "price:$9.03\n",
      "name:Hepatica\n",
      "price:$4.45\n",
      "name:Liverleaf\n",
      "price:$3.99\n",
      "name:Jack-In-The-Pulpit\n",
      "price:$3.23\n",
      "name:Mayapple\n",
      "price:$2.98\n",
      "name:Phlox, Woodland\n",
      "price:$2.80\n",
      "name:Phlox, Blue\n",
      "price:$5.59\n",
      "name:Spring-Beauty\n",
      "price:$6.59\n",
      "name:Trillium\n",
      "price:$3.90\n",
      "name:Wake Robin\n",
      "price:$3.20\n",
      "name:Violet, Dog-Tooth\n",
      "price:$9.04\n",
      "name:Trout Lily\n",
      "price:$6.94\n",
      "name:Adder's-Tongue\n",
      "price:$9.58\n",
      "name:Anemone\n",
      "price:$8.86\n",
      "name:Grecian Windflower\n",
      "price:$9.16\n",
      "name:Bee Balm\n",
      "price:$4.59\n",
      "name:Bergamot\n",
      "price:$7.16\n",
      "name:Black-Eyed Susan\n",
      "price:$9.80\n",
      "name:Buttercup\n",
      "price:$2.57\n",
      "name:Crowfoot\n",
      "price:$9.34\n",
      "name:Butterfly Weed\n",
      "price:$2.78\n",
      "name:Cinquefoil\n",
      "price:$7.06\n",
      "name:Primrose\n",
      "price:$6.56\n",
      "name:Gentian\n",
      "price:$7.81\n",
      "name:Blue Gentian\n",
      "price:$8.56\n",
      "name:Jacob's Ladder\n",
      "price:$9.26\n",
      "name:Greek Valerian\n",
      "price:$4.36\n",
      "name:California Poppy\n",
      "price:$7.89\n",
      "name:Shooting Star\n",
      "price:$8.60\n",
      "name:Snakeroot\n",
      "price:$5.63\n",
      "name:Cardinal Flower\n",
      "price:$3.02\n"
     ]
    }
   ],
   "source": [
    "parser = xml.sax.make_parser()#创建解析器对象\n",
    "Handler = PlanteHandler()#创建回调对象\n",
    "parser.setContentHandler(Handler)#设置回调对象到解析器对象\n",
    "parser.parse(\"plant_catalog.xml\")"
   ]
  },
  {
   "cell_type": "markdown",
   "metadata": {},
   "source": [
    "### ElementTree方法\n",
    "\n",
    "从总结上来看可以说ElementTree方法是最好的方法,Dom处理大文本的时候会相当吃内存,而SAX无法全面解析文档结构.ElementTree怎两者兼而有之,加上友好的api.这也是我最推荐的方法.\n",
    "\n",
    "**将 XML 解析为树的形式:**\n",
    "\n",
    "XML 是一种分级的数据形式,所以最自然的表示方法是将它表示为一棵树.ET有两个对象来实现这个目的\n",
    "\n",
    "+ ElementTree \n",
    "\n",
    "    将整个 XML 解析为一棵树\n",
    "    \n",
    "    \n",
    "+ Element\n",
    "\n",
    "    将单个结点解析为树\n",
    "\n",
    "\n",
    "如果是整个文档级别的操作(比如说读,写,找到一些有趣的元素)通常用ElementTree.单个 XML 元素和它的子元素通常用 Element.\n",
    "\n",
    "`xml.etree.ElementTree`提供接口`parse`对文件进行解析,也可以使用类`xml.etree.ElementTree.ElementTree`通过指定file关键字指定文件进行解析\n",
    "\n",
    "\n",
    "如果想要解析文本,则可以使用接口`fromstring`来进行解析"
   ]
  },
  {
   "cell_type": "code",
   "execution_count": 55,
   "metadata": {},
   "outputs": [],
   "source": [
    "import xml.etree.ElementTree as ET\n",
    "tree = ET.ElementTree(file='plant_catalog.xml')\n",
    "root = tree.getroot()"
   ]
  },
  {
   "cell_type": "code",
   "execution_count": 56,
   "metadata": {},
   "outputs": [
    {
     "data": {
      "text/plain": [
       "('CATALOG', {})"
      ]
     },
     "execution_count": 56,
     "metadata": {},
     "output_type": "execute_result"
    }
   ],
   "source": [
    "root.tag, root.attrib#标签和属性"
   ]
  },
  {
   "cell_type": "code",
   "execution_count": 57,
   "metadata": {},
   "outputs": [
    {
     "name": "stdout",
     "output_type": "stream",
     "text": [
      "PLANT {}\n",
      "PLANT {}\n",
      "PLANT {}\n",
      "PLANT {}\n",
      "PLANT {}\n",
      "PLANT {}\n",
      "PLANT {}\n",
      "PLANT {}\n",
      "PLANT {}\n",
      "PLANT {}\n",
      "PLANT {}\n",
      "PLANT {}\n",
      "PLANT {}\n",
      "PLANT {}\n",
      "PLANT {}\n",
      "PLANT {}\n",
      "PLANT {}\n",
      "PLANT {}\n",
      "PLANT {}\n",
      "PLANT {}\n",
      "PLANT {}\n",
      "PLANT {}\n",
      "PLANT {}\n",
      "PLANT {}\n",
      "PLANT {}\n",
      "PLANT {}\n",
      "PLANT {}\n",
      "PLANT {}\n",
      "PLANT {}\n",
      "PLANT {}\n",
      "PLANT {}\n",
      "PLANT {}\n",
      "PLANT {}\n",
      "PLANT {}\n",
      "PLANT {}\n",
      "PLANT {}\n"
     ]
    }
   ],
   "source": [
    "#查看子节点\n",
    "for child in root:\n",
    "    print(child.tag, child.attrib)"
   ]
  },
  {
   "cell_type": "code",
   "execution_count": 58,
   "metadata": {},
   "outputs": [
    {
     "data": {
      "text/plain": [
       "('PLANT', {})"
      ]
     },
     "execution_count": 58,
     "metadata": {},
     "output_type": "execute_result"
    }
   ],
   "source": [
    "root[0].tag, root[0].attrib#进入一个子节点查看"
   ]
  },
  {
   "cell_type": "code",
   "execution_count": 59,
   "metadata": {},
   "outputs": [
    {
     "name": "stdout",
     "output_type": "stream",
     "text": [
      "CATALOG {} \n",
      "\t\n",
      "PLANT {} \n",
      "\t\t\n",
      "COMMON {} Bloodroot\n",
      "BOTANICAL {} Sanguinaria canadensis\n",
      "ZONE {} 4\n",
      "LIGHT {} Mostly Shady\n",
      "PRICE {} $2.44\n",
      "AVAILABILITY {} 031599\n",
      "PLANT {} \n",
      "\t\t\n",
      "COMMON {} Columbine\n",
      "BOTANICAL {} Aquilegia canadensis\n",
      "ZONE {} 3\n",
      "LIGHT {} Mostly Shady\n",
      "PRICE {} $9.37\n",
      "AVAILABILITY {} 030699\n",
      "PLANT {} \n",
      "\t\t\n",
      "COMMON {} Marsh Marigold\n",
      "BOTANICAL {} Caltha palustris\n",
      "ZONE {} 4\n",
      "LIGHT {} Mostly Sunny\n",
      "PRICE {} $6.81\n",
      "AVAILABILITY {} 051799\n",
      "PLANT {} \n",
      "\t\t\n",
      "COMMON {} Cowslip\n",
      "BOTANICAL {} Caltha palustris\n",
      "ZONE {} 4\n",
      "LIGHT {} Mostly Shady\n",
      "PRICE {} $9.90\n",
      "AVAILABILITY {} 030699\n",
      "PLANT {} \n",
      "\t\t\n",
      "COMMON {} Dutchman's-Breeches\n",
      "BOTANICAL {} Dicentra cucullaria\n",
      "ZONE {} 3\n",
      "LIGHT {} Mostly Shady\n",
      "PRICE {} $6.44\n",
      "AVAILABILITY {} 012099\n",
      "PLANT {} \n",
      "\t\t\n",
      "COMMON {} Ginger, Wild\n",
      "BOTANICAL {} Asarum canadense\n",
      "ZONE {} 3\n",
      "LIGHT {} Mostly Shady\n",
      "PRICE {} $9.03\n",
      "AVAILABILITY {} 041899\n",
      "PLANT {} \n",
      "\t\t\n",
      "COMMON {} Hepatica\n",
      "BOTANICAL {} Hepatica americana\n",
      "ZONE {} 4\n",
      "LIGHT {} Mostly Shady\n",
      "PRICE {} $4.45\n",
      "AVAILABILITY {} 012699\n",
      "PLANT {} \n",
      "\t\t\n",
      "COMMON {} Liverleaf\n",
      "BOTANICAL {} Hepatica americana\n",
      "ZONE {} 4\n",
      "LIGHT {} Mostly Shady\n",
      "PRICE {} $3.99\n",
      "AVAILABILITY {} 010299\n",
      "PLANT {} \n",
      "\t\t\n",
      "COMMON {} Jack-In-The-Pulpit\n",
      "BOTANICAL {} Arisaema triphyllum\n",
      "ZONE {} 4\n",
      "LIGHT {} Mostly Shady\n",
      "PRICE {} $3.23\n",
      "AVAILABILITY {} 020199\n",
      "PLANT {} \n",
      "\t\t\n",
      "COMMON {} Mayapple\n",
      "BOTANICAL {} Podophyllum peltatum\n",
      "ZONE {} 3\n",
      "LIGHT {} Mostly Shady\n",
      "PRICE {} $2.98\n",
      "AVAILABILITY {} 060599\n",
      "PLANT {} \n",
      "\t\t\n",
      "COMMON {} Phlox, Woodland\n",
      "BOTANICAL {} Phlox divaricata\n",
      "ZONE {} 3\n",
      "LIGHT {} Sun or Shade\n",
      "PRICE {} $2.80\n",
      "AVAILABILITY {} 012299\n",
      "PLANT {} \n",
      "\t\t\n",
      "COMMON {} Phlox, Blue\n",
      "BOTANICAL {} Phlox divaricata\n",
      "ZONE {} 3\n",
      "LIGHT {} Sun or Shade\n",
      "PRICE {} $5.59\n",
      "AVAILABILITY {} 021699\n",
      "PLANT {} \n",
      "\t\t\n",
      "COMMON {} Spring-Beauty\n",
      "BOTANICAL {} Claytonia Virginica\n",
      "ZONE {} 7\n",
      "LIGHT {} Mostly Shady\n",
      "PRICE {} $6.59\n",
      "AVAILABILITY {} 020199\n",
      "PLANT {} \n",
      "\t\t\n",
      "COMMON {} Trillium\n",
      "BOTANICAL {} Trillium grandiflorum\n",
      "ZONE {} 5\n",
      "LIGHT {} Sun or Shade\n",
      "PRICE {} $3.90\n",
      "AVAILABILITY {} 042999\n",
      "PLANT {} \n",
      "\t\t\n",
      "COMMON {} Wake Robin\n",
      "BOTANICAL {} Trillium grandiflorum\n",
      "ZONE {} 5\n",
      "LIGHT {} Sun or Shade\n",
      "PRICE {} $3.20\n",
      "AVAILABILITY {} 022199\n",
      "PLANT {} \n",
      "\t\t\n",
      "COMMON {} Violet, Dog-Tooth\n",
      "BOTANICAL {} Erythronium americanum\n",
      "ZONE {} 4\n",
      "LIGHT {} Shade\n",
      "PRICE {} $9.04\n",
      "AVAILABILITY {} 020199\n",
      "PLANT {} \n",
      "\t\t\n",
      "COMMON {} Trout Lily\n",
      "BOTANICAL {} Erythronium americanum\n",
      "ZONE {} 4\n",
      "LIGHT {} Shade\n",
      "PRICE {} $6.94\n",
      "AVAILABILITY {} 032499\n",
      "PLANT {} \n",
      "\t\t\n",
      "COMMON {} Adder's-Tongue\n",
      "BOTANICAL {} Erythronium americanum\n",
      "ZONE {} 4\n",
      "LIGHT {} Shade\n",
      "PRICE {} $9.58\n",
      "AVAILABILITY {} 041399\n",
      "PLANT {} \n",
      "\t\t\n",
      "COMMON {} Anemone\n",
      "BOTANICAL {} Anemone blanda\n",
      "ZONE {} 6\n",
      "LIGHT {} Mostly Shady\n",
      "PRICE {} $8.86\n",
      "AVAILABILITY {} 122698\n",
      "PLANT {} \n",
      "\t\t\n",
      "COMMON {} Grecian Windflower\n",
      "BOTANICAL {} Anemone blanda\n",
      "ZONE {} 6\n",
      "LIGHT {} Mostly Shady\n",
      "PRICE {} $9.16\n",
      "AVAILABILITY {} 071099\n",
      "PLANT {} \n",
      "\t\t\n",
      "COMMON {} Bee Balm\n",
      "BOTANICAL {} Monarda didyma\n",
      "ZONE {} 4\n",
      "LIGHT {} Shade\n",
      "PRICE {} $4.59\n",
      "AVAILABILITY {} 050399\n",
      "PLANT {} \n",
      "\t\t\n",
      "COMMON {} Bergamot\n",
      "BOTANICAL {} Monarda didyma\n",
      "ZONE {} 4\n",
      "LIGHT {} Shade\n",
      "PRICE {} $7.16\n",
      "AVAILABILITY {} 042799\n",
      "PLANT {} \n",
      "\t\t\n",
      "COMMON {} Black-Eyed Susan\n",
      "BOTANICAL {} Rudbeckia hirta\n",
      "ZONE {} Annual\n",
      "LIGHT {} Sunny\n",
      "PRICE {} $9.80\n",
      "AVAILABILITY {} 061899\n",
      "PLANT {} \n",
      "\t\t\n",
      "COMMON {} Buttercup\n",
      "BOTANICAL {} Ranunculus\n",
      "ZONE {} 4\n",
      "LIGHT {} Shade\n",
      "PRICE {} $2.57\n",
      "AVAILABILITY {} 061099\n",
      "PLANT {} \n",
      "\t\t\n",
      "COMMON {} Crowfoot\n",
      "BOTANICAL {} Ranunculus\n",
      "ZONE {} 4\n",
      "LIGHT {} Shade\n",
      "PRICE {} $9.34\n",
      "AVAILABILITY {} 040399\n",
      "PLANT {} \n",
      "\t\t\n",
      "COMMON {} Butterfly Weed\n",
      "BOTANICAL {} Asclepias tuberosa\n",
      "ZONE {} Annual\n",
      "LIGHT {} Sunny\n",
      "PRICE {} $2.78\n",
      "AVAILABILITY {} 063099\n",
      "PLANT {} \n",
      "\t\t\n",
      "COMMON {} Cinquefoil\n",
      "BOTANICAL {} Potentilla\n",
      "ZONE {} Annual\n",
      "LIGHT {} Shade\n",
      "PRICE {} $7.06\n",
      "AVAILABILITY {} 052599\n",
      "PLANT {} \n",
      "\t\t\n",
      "COMMON {} Primrose\n",
      "BOTANICAL {} Oenothera\n",
      "ZONE {} 3 - 5\n",
      "LIGHT {} Sunny\n",
      "PRICE {} $6.56\n",
      "AVAILABILITY {} 013099\n",
      "PLANT {} \n",
      "\t\t\n",
      "COMMON {} Gentian\n",
      "BOTANICAL {} Gentiana\n",
      "ZONE {} 4\n",
      "LIGHT {} Sun or Shade\n",
      "PRICE {} $7.81\n",
      "AVAILABILITY {} 051899\n",
      "PLANT {} \n",
      "\t\t\n",
      "COMMON {} Blue Gentian\n",
      "BOTANICAL {} Gentiana\n",
      "ZONE {} 4\n",
      "LIGHT {} Sun or Shade\n",
      "PRICE {} $8.56\n",
      "AVAILABILITY {} 050299\n",
      "PLANT {} \n",
      "\t\t\n",
      "COMMON {} Jacob's Ladder\n",
      "BOTANICAL {} Polemonium caeruleum\n",
      "ZONE {} Annual\n",
      "LIGHT {} Shade\n",
      "PRICE {} $9.26\n",
      "AVAILABILITY {} 022199\n",
      "PLANT {} \n",
      "\t\t\n",
      "COMMON {} Greek Valerian\n",
      "BOTANICAL {} Polemonium caeruleum\n",
      "ZONE {} Annual\n",
      "LIGHT {} Shade\n",
      "PRICE {} $4.36\n",
      "AVAILABILITY {} 071499\n",
      "PLANT {} \n",
      "\t\t\n",
      "COMMON {} California Poppy\n",
      "BOTANICAL {} Eschscholzia californica\n",
      "ZONE {} Annual\n",
      "LIGHT {} Sun\n",
      "PRICE {} $7.89\n",
      "AVAILABILITY {} 032799\n",
      "PLANT {} \n",
      "\t\t\n",
      "COMMON {} Shooting Star\n",
      "BOTANICAL {} Dodecatheon\n",
      "ZONE {} Annual\n",
      "LIGHT {} Mostly Shady\n",
      "PRICE {} $8.60\n",
      "AVAILABILITY {} 051399\n",
      "PLANT {} \n",
      "\t\t\n",
      "COMMON {} Snakeroot\n",
      "BOTANICAL {} Cimicifuga\n",
      "ZONE {} Annual\n",
      "LIGHT {} Shade\n",
      "PRICE {} $5.63\n",
      "AVAILABILITY {} 071199\n",
      "PLANT {} \n",
      "\t\t\n",
      "COMMON {} Cardinal Flower\n",
      "BOTANICAL {} Lobelia cardinalis\n",
      "ZONE {} 2\n",
      "LIGHT {} Shade\n",
      "PRICE {} $3.02\n",
      "AVAILABILITY {} 022299\n"
     ]
    }
   ],
   "source": [
    "# 找元素\n",
    "#以一个节点为根深度优先遍历\n",
    "for elem in tree.iter():\n",
    "    print(elem.tag, elem.attrib,elem.text)"
   ]
  },
  {
   "cell_type": "code",
   "execution_count": 60,
   "metadata": {},
   "outputs": [
    {
     "name": "stdout",
     "output_type": "stream",
     "text": [
      "COMMON {} Bloodroot\n",
      "COMMON {} Columbine\n",
      "COMMON {} Marsh Marigold\n",
      "COMMON {} Cowslip\n",
      "COMMON {} Dutchman's-Breeches\n",
      "COMMON {} Ginger, Wild\n",
      "COMMON {} Hepatica\n",
      "COMMON {} Liverleaf\n",
      "COMMON {} Jack-In-The-Pulpit\n",
      "COMMON {} Mayapple\n",
      "COMMON {} Phlox, Woodland\n",
      "COMMON {} Phlox, Blue\n",
      "COMMON {} Spring-Beauty\n",
      "COMMON {} Trillium\n",
      "COMMON {} Wake Robin\n",
      "COMMON {} Violet, Dog-Tooth\n",
      "COMMON {} Trout Lily\n",
      "COMMON {} Adder's-Tongue\n",
      "COMMON {} Anemone\n",
      "COMMON {} Grecian Windflower\n",
      "COMMON {} Bee Balm\n",
      "COMMON {} Bergamot\n",
      "COMMON {} Black-Eyed Susan\n",
      "COMMON {} Buttercup\n",
      "COMMON {} Crowfoot\n",
      "COMMON {} Butterfly Weed\n",
      "COMMON {} Cinquefoil\n",
      "COMMON {} Primrose\n",
      "COMMON {} Gentian\n",
      "COMMON {} Blue Gentian\n",
      "COMMON {} Jacob's Ladder\n",
      "COMMON {} Greek Valerian\n",
      "COMMON {} California Poppy\n",
      "COMMON {} Shooting Star\n",
      "COMMON {} Snakeroot\n",
      "COMMON {} Cardinal Flower\n"
     ]
    }
   ],
   "source": [
    "#以一个节点为根深度优先遍历,查找有没有符合要求的元素\n",
    "for elem in tree.iter(tag=\"COMMON\"):\n",
    "    print(elem.tag, elem.attrib,elem.text)"
   ]
  },
  {
   "cell_type": "markdown",
   "metadata": {},
   "source": [
    "**用XPath查找元素**\n",
    "\n",
    "`XPath`是一门在 XML 文档中查找信息的语言.XPath 可用来在 XML 文档中对元素和属性进行遍历.\n",
    "XPath 是 W3C XSLT 标准的主要元素,对XPath 的理解是很多高级 XML 应用的基础.ElementTree支持XPath语法查找元素.\n",
    "\n",
    "什么是 XPath?\n",
    "\n",
    "XPath可以说是使用路径表达式在 XML 文档中进行导航的一个标准\n",
    "\n",
    "支持的路径表达式有:\n",
    "\n",
    "表达式|\t描述\n",
    "---|---\n",
    "`tag`|选取此节点的所有子节点。\n",
    "`/`\t|从根节点选取。(绝对路径)\n",
    "`//`\t|从匹配选择的当前节点选择文档中的节点，而不考虑它们的位置。(相对路径)\n",
    "`.`|选取当前节点。\n",
    "`..`|选取当前节点的父节点。\n",
    "`@`|选取属性。\n",
    "`@ xxx=aaa`|选取属性值为aaa的属性\n",
    "`*`|匹配任意元素节点\n",
    "`@*`|匹配任意元素\n",
    "`node()`|匹配任意类型节点\n",
    "`[]`|筛选\n",
    "竖条|和\n",
    "\n",
    "\n",
    "`iterfind()`方法可以使用XPath来查找需要的元素.\n",
    "\n",
    "\n",
    "我们来试着打印出所有植物和他的对应价格并为大于5美元的计数"
   ]
  },
  {
   "cell_type": "code",
   "execution_count": 61,
   "metadata": {},
   "outputs": [
    {
     "name": "stdout",
     "output_type": "stream",
     "text": [
      "COMMON Bloodroot\n",
      "PRICE $2.44\n",
      "COMMON Columbine\n",
      "PRICE $9.37\n",
      "COMMON Marsh Marigold\n",
      "PRICE $6.81\n",
      "COMMON Cowslip\n",
      "PRICE $9.90\n",
      "COMMON Dutchman's-Breeches\n",
      "PRICE $6.44\n",
      "COMMON Ginger, Wild\n",
      "PRICE $9.03\n",
      "COMMON Hepatica\n",
      "PRICE $4.45\n",
      "COMMON Liverleaf\n",
      "PRICE $3.99\n",
      "COMMON Jack-In-The-Pulpit\n",
      "PRICE $3.23\n",
      "COMMON Mayapple\n",
      "PRICE $2.98\n",
      "COMMON Phlox, Woodland\n",
      "PRICE $2.80\n",
      "COMMON Phlox, Blue\n",
      "PRICE $5.59\n",
      "COMMON Spring-Beauty\n",
      "PRICE $6.59\n",
      "COMMON Trillium\n",
      "PRICE $3.90\n",
      "COMMON Wake Robin\n",
      "PRICE $3.20\n",
      "COMMON Violet, Dog-Tooth\n",
      "PRICE $9.04\n",
      "COMMON Trout Lily\n",
      "PRICE $6.94\n",
      "COMMON Adder's-Tongue\n",
      "PRICE $9.58\n",
      "COMMON Anemone\n",
      "PRICE $8.86\n",
      "COMMON Grecian Windflower\n",
      "PRICE $9.16\n",
      "COMMON Bee Balm\n",
      "PRICE $4.59\n",
      "COMMON Bergamot\n",
      "PRICE $7.16\n",
      "COMMON Black-Eyed Susan\n",
      "PRICE $9.80\n",
      "COMMON Buttercup\n",
      "PRICE $2.57\n",
      "COMMON Crowfoot\n",
      "PRICE $9.34\n",
      "COMMON Butterfly Weed\n",
      "PRICE $2.78\n",
      "COMMON Cinquefoil\n",
      "PRICE $7.06\n",
      "COMMON Primrose\n",
      "PRICE $6.56\n",
      "COMMON Gentian\n",
      "PRICE $7.81\n",
      "COMMON Blue Gentian\n",
      "PRICE $8.56\n",
      "COMMON Jacob's Ladder\n",
      "PRICE $9.26\n",
      "COMMON Greek Valerian\n",
      "PRICE $4.36\n",
      "COMMON California Poppy\n",
      "PRICE $7.89\n",
      "COMMON Shooting Star\n",
      "PRICE $8.60\n",
      "COMMON Snakeroot\n",
      "PRICE $5.63\n",
      "COMMON Cardinal Flower\n",
      "PRICE $3.02\n",
      "23\n"
     ]
    }
   ],
   "source": [
    "countmony = 0 \n",
    "for elem in zip(tree.iterfind(\"*/COMMON\"),tree.iterfind(\"*/PRICE\")):\n",
    "    print(elem[0].tag, elem[0].text)\n",
    "    print(elem[1].tag, elem[1].text)\n",
    "    if float(elem[1].text[1:]) > 5:\n",
    "        countmony += 1\n",
    "print(countmony)"
   ]
  },
  {
   "cell_type": "markdown",
   "metadata": {},
   "source": [
    "**iterparse(source, events=None, parser=None)处理XML流**\n",
    "\n",
    "我们刚讲过如何使用 ET 来将 XML 读入内存并且处理.但它就不会碰到和 DOM 一样的内存问题么？当然会.这也是为什么这个包提供一个特殊的工具,用来处理大型文档,并且解决了内存问题,这个工具叫 iterparse.\n",
    "\n",
    "他有4个关键字:\n",
    "\n",
    "+ start---元素开始\n",
    "+ end---元素结束\n",
    "+ start-ns---命名空间开始\n",
    "+ end-ns---命名空间结束\n",
    "\n",
    "iterparse每次返回一个(event, elem)对,可以用这些返回和关键字做匹配,调用回调函数达到解析的目的,还是上面的例子\n"
   ]
  },
  {
   "cell_type": "code",
   "execution_count": 62,
   "metadata": {},
   "outputs": [
    {
     "name": "stdout",
     "output_type": "stream",
     "text": [
      "23\n"
     ]
    }
   ],
   "source": [
    "countf = 0\n",
    "def counter():\n",
    "    def count():\n",
    "        global countf\n",
    "        if float(elem.text[1:]) >5:\n",
    "            countf += 1\n",
    "        return countf\n",
    "    return count\n",
    "mycounter = counter()\n",
    "\n",
    "for event,elem in ET.iterparse('plant_catalog.xml'):        \n",
    "    keywords={\n",
    "        \"PRICE\":mycounter\n",
    "    }\n",
    "    events={\n",
    "        \"start\":lambda :False,\n",
    "        \"end\":lambda :(keywords.get(elem.tag,lambda :False)()),\n",
    "        \"start-ns\":lambda :False,\n",
    "        \"end-ns\":lambda :False\n",
    "    }\n",
    "    events.get(event,lambda :False)()\n",
    "    \n",
    "print(countf)"
   ]
  },
  {
   "cell_type": "markdown",
   "metadata": {},
   "source": [
    "### 建立XML文档\n",
    "\n",
    "ElementTree 对象提供了 write 方法可以用来建立xml文档,另外俩虽然也可以,但没这个方便.\n",
    "\n",
    "我们要建立一个xml,需要从元素入手"
   ]
  },
  {
   "cell_type": "code",
   "execution_count": 63,
   "metadata": {},
   "outputs": [],
   "source": [
    "a = ET.Element(\"elema\")# 创建一个元素\n",
    "b = ET.Element(\"elemb\")\n",
    "sub1 = ET.Element(\"sub1\")\n",
    "sub2 = ET.Element(\"sub2\")\n",
    "root = ET.Element('root')\n",
    "a.text = \"text\"#为元素创建数据\n",
    "a.attrib = {\"class\":\"a\"}#创建属性\n",
    "sub1sub1 = ET.SubElement(sub1,\"sub1sub1\")#创建一个节点的子节点\n",
    "root.extend((a,b))#扩展节点\n",
    "b.extend((sub1,sub2))\n",
    "tree = ET.ElementTree(root)"
   ]
  },
  {
   "cell_type": "code",
   "execution_count": 64,
   "metadata": {},
   "outputs": [],
   "source": [
    "tree.write(\"output.xml\")"
   ]
  },
  {
   "cell_type": "code",
   "execution_count": 65,
   "metadata": {},
   "outputs": [
    {
     "name": "stdout",
     "output_type": "stream",
     "text": [
      "<root><elema class=\"a\">text</elema><elemb><sub1><sub1sub1 /></sub1><sub2 /></elemb></root>"
     ]
    }
   ],
   "source": [
    "!cat output.xml"
   ]
  },
  {
   "cell_type": "markdown",
   "metadata": {},
   "source": [
    "顺道一提,因为html是xml的子集所以理论上也可以当xml一样解析.\n",
    "\n",
    "xml是一种比较老的格式化文本协议,至今流行于java项目中,常作为配置文件的格式,像hadoop,spark都还是使用的xml来做配置文件的格式.\n",
    "在早期,xml也作为网络通信或者对象描述序列化时常常使用的文本协议,但是因为过重现在已经基本被json取代.因此我将它放在这里顺带一提.个人认为xml即便是作为配置文件也过于重了,很难想象除了java社区因为思维惯性还用它以为其他人还用它."
   ]
  },
  {
   "cell_type": "markdown",
   "metadata": {},
   "source": [
    "## json用于消息传输\n",
    "\n",
    "json是当今网络数据传递的标准格式之一,相比较于xml,它更轻量,因此更加便于传输,而且其本身就可以被javascript识别为js对象,更加便于前端处理.\n",
    "\n",
    "python的标准变量类型与js十分相像因此有天然的Json支持,也就是他的json模块了.\n",
    "\n",
    "python标准库中有json模块专门用于序列化和反序列化json\n",
    "\n",
    "与其他序列化不太一样的地方在于,python中json序列化出来并不是bytes而是字符串.其实json作为一种标准格式其实应该和html,xml这些放在一起类比才对,但这里作为序列化工具主要是因为它可以直接对应python中的list和dict"
   ]
  },
  {
   "cell_type": "code",
   "execution_count": 66,
   "metadata": {},
   "outputs": [],
   "source": [
    "import json"
   ]
  },
  {
   "cell_type": "code",
   "execution_count": 67,
   "metadata": {},
   "outputs": [],
   "source": [
    "d = dict(name='Bob', age=20, score=88)\n",
    "json_str = json.dumps(d)"
   ]
  },
  {
   "cell_type": "code",
   "execution_count": 68,
   "metadata": {},
   "outputs": [
    {
     "data": {
      "text/plain": [
       "'{\"name\": \"Bob\", \"age\": 20, \"score\": 88}'"
      ]
     },
     "execution_count": 68,
     "metadata": {},
     "output_type": "execute_result"
    }
   ],
   "source": [
    "json_str"
   ]
  },
  {
   "cell_type": "code",
   "execution_count": 69,
   "metadata": {},
   "outputs": [
    {
     "data": {
      "text/plain": [
       "{'age': 20, 'name': 'Bob', 'score': 88}"
      ]
     },
     "execution_count": 69,
     "metadata": {},
     "output_type": "execute_result"
    }
   ],
   "source": [
    "json.loads(json_str)"
   ]
  },
  {
   "cell_type": "markdown",
   "metadata": {},
   "source": [
    "json模块可以直接处理json格式的文件,使用的接口与处理json格式字符串类似,只是方法名后面没有`s`"
   ]
  },
  {
   "cell_type": "code",
   "execution_count": 70,
   "metadata": {},
   "outputs": [],
   "source": [
    "with open('source/new.json', 'w') as f:\n",
    "    cont = json.dump(d,f)"
   ]
  },
  {
   "cell_type": "code",
   "execution_count": 71,
   "metadata": {},
   "outputs": [
    {
     "name": "stdout",
     "output_type": "stream",
     "text": [
      "{'name': 'Bob', 'age': 20, 'score': 88}\n"
     ]
    }
   ],
   "source": [
    "with open('source/new.json', 'r') as f:\n",
    "    cont = json.load(f)\n",
    "print(cont)"
   ]
  },
  {
   "cell_type": "markdown",
   "metadata": {},
   "source": [
    "### ujson\n",
    "\n",
    "虽然Python自带这个json序列化工具,但因为它的代码是纯净的python代码,因此比较慢,如果想有更快的序列化和反序列化速度的话,可以使用ujson,这个快很多因为是C写的底层.\n",
    "\n",
    "他们接口完全相同"
   ]
  },
  {
   "cell_type": "code",
   "execution_count": 72,
   "metadata": {},
   "outputs": [],
   "source": [
    "import ujson"
   ]
  },
  {
   "cell_type": "code",
   "execution_count": 73,
   "metadata": {},
   "outputs": [
    {
     "name": "stdout",
     "output_type": "stream",
     "text": [
      "2.59 µs ± 52 ns per loop (mean ± std. dev. of 7 runs, 100000 loops each)\n"
     ]
    }
   ],
   "source": [
    "%timeit json.loads(json_str)"
   ]
  },
  {
   "cell_type": "code",
   "execution_count": 74,
   "metadata": {
    "scrolled": true
   },
   "outputs": [
    {
     "name": "stdout",
     "output_type": "stream",
     "text": [
      "543 ns ± 4.43 ns per loop (mean ± std. dev. of 7 runs, 1000000 loops each)\n"
     ]
    }
   ],
   "source": [
    "%timeit ujson.loads(json_str)"
   ]
  },
  {
   "cell_type": "code",
   "execution_count": 75,
   "metadata": {},
   "outputs": [
    {
     "name": "stdout",
     "output_type": "stream",
     "text": [
      "2.83 µs ± 13.6 ns per loop (mean ± std. dev. of 7 runs, 100000 loops each)\n"
     ]
    }
   ],
   "source": [
    "%timeit json.dumps(d)"
   ]
  },
  {
   "cell_type": "code",
   "execution_count": 76,
   "metadata": {},
   "outputs": [
    {
     "name": "stdout",
     "output_type": "stream",
     "text": [
      "530 ns ± 2.89 ns per loop (mean ± std. dev. of 7 runs, 1000000 loops each)\n"
     ]
    }
   ],
   "source": [
    "%timeit ujson.dumps(d)"
   ]
  },
  {
   "cell_type": "markdown",
   "metadata": {},
   "source": [
    "可以看到ujson无论是序列化还是反序列化都比自带的json模块快上一个数量级"
   ]
  },
  {
   "cell_type": "markdown",
   "metadata": {},
   "source": [
    "## `.yml`文件解析\n",
    "\n",
    "\n",
    "\n",
    "`.yml`文件需要使用第三方包`pyyaml`来解析,据说效率很高.\n",
    "\n",
    "`.yml`文件形如:\n",
    "\n",
    "```yml\n",
    "name: Silenthand Olleander\n",
    "race: Human\n",
    "traits: [ONE_HAND, ONE_EYE]\n",
    "```\n",
    "\n",
    "yml是一种与json等价的格式,很多现代项目的标准配置格式.比如gitpage默认的静态页面生成框架`jekyll`就是使用这种格式配置项目"
   ]
  },
  {
   "cell_type": "markdown",
   "metadata": {},
   "source": [
    "### 写\n",
    "\n",
    "pyyml可以像json一样直接将字典写成配置文件,甚至可以将pyhton对象写成配置文件"
   ]
  },
  {
   "cell_type": "code",
   "execution_count": 77,
   "metadata": {},
   "outputs": [],
   "source": [
    "import yaml"
   ]
  },
  {
   "cell_type": "code",
   "execution_count": 78,
   "metadata": {},
   "outputs": [],
   "source": [
    "so = {'name': 'Silenthand Olleander', \n",
    "      'race': 'Human',\n",
    "      'traits': ['ONE_HAND', 'ONE_EYE']\n",
    "     }"
   ]
  },
  {
   "cell_type": "code",
   "execution_count": 79,
   "metadata": {},
   "outputs": [
    {
     "data": {
      "text/plain": [
       "{'name': 'Silenthand Olleander',\n",
       " 'race': 'Human',\n",
       " 'traits': ['ONE_HAND', 'ONE_EYE']}"
      ]
     },
     "execution_count": 79,
     "metadata": {},
     "output_type": "execute_result"
    }
   ],
   "source": [
    "so"
   ]
  },
  {
   "cell_type": "code",
   "execution_count": 80,
   "metadata": {},
   "outputs": [
    {
     "name": "stdout",
     "output_type": "stream",
     "text": [
      "name: Silenthand Olleander\n",
      "race: Human\n",
      "traits: [ONE_HAND, ONE_EYE]\n",
      "\n"
     ]
    }
   ],
   "source": [
    "print(yaml.dump(so))"
   ]
  },
  {
   "cell_type": "code",
   "execution_count": 81,
   "metadata": {},
   "outputs": [],
   "source": [
    "with open(\"exsample.yml\",'w') as f:\n",
    "    f.write(yaml.dump(so))"
   ]
  },
  {
   "cell_type": "code",
   "execution_count": 82,
   "metadata": {},
   "outputs": [],
   "source": [
    "class Hero:\n",
    "    def __init__(self, name, hp, sp):\n",
    "        self.name = name\n",
    "        self.hp = hp\n",
    "        self.sp = sp\n",
    "    def __repr__(self):\n",
    "        return \"%s(name=%r, hp=%r, sp=%r)\" % (self.__class__.__name__, self.name, self.hp, self.sp)\n"
   ]
  },
  {
   "cell_type": "code",
   "execution_count": 83,
   "metadata": {},
   "outputs": [
    {
     "name": "stdout",
     "output_type": "stream",
     "text": [
      "!!python/object:__main__.Hero {hp: -3, name: Galain Ysseleg, sp: 2}\n",
      "\n"
     ]
    }
   ],
   "source": [
    "h= Hero(\"Galain Ysseleg\", hp=-3, sp=2)\n",
    "print(yaml.dump(h))"
   ]
  },
  {
   "cell_type": "markdown",
   "metadata": {},
   "source": [
    "### 读"
   ]
  },
  {
   "cell_type": "code",
   "execution_count": 84,
   "metadata": {},
   "outputs": [],
   "source": [
    "with open(\"exsample.yml\") as f:\n",
    "    result = yaml.load(f)"
   ]
  },
  {
   "cell_type": "code",
   "execution_count": 85,
   "metadata": {},
   "outputs": [
    {
     "data": {
      "text/plain": [
       "{'name': 'Silenthand Olleander',\n",
       " 'race': 'Human',\n",
       " 'traits': ['ONE_HAND', 'ONE_EYE']}"
      ]
     },
     "execution_count": 85,
     "metadata": {},
     "output_type": "execute_result"
    }
   ],
   "source": [
    "result"
   ]
  },
  {
   "cell_type": "markdown",
   "metadata": {},
   "source": [
    "## *[msgpack](https://github.com/msgpack/msgpack-python)用于更好的传递消息*\n",
    "\n",
    "`msgpack`是现在最快最小的通用序列化协议,官方的说法是`It's like JSON.but fast and small.`有测试确实效率非常高.\n",
    "\n",
    "但其实msgpack和json适用范围并不完全重叠,json作为通用传输协议活跃于web应用,它传递的是字符串,而mspack传递的更多的是bytes,用途也更加底层,常用于分布式服务的消息传递,rpc等"
   ]
  },
  {
   "cell_type": "code",
   "execution_count": 86,
   "metadata": {},
   "outputs": [],
   "source": [
    "import msgpack"
   ]
  },
  {
   "cell_type": "markdown",
   "metadata": {},
   "source": [
    "## 序列化为bytes\n",
    "\n",
    "msgpack可以序列化list和dict"
   ]
  },
  {
   "cell_type": "code",
   "execution_count": 87,
   "metadata": {},
   "outputs": [],
   "source": [
    "pack = msgpack.packb([1, 2, 3])"
   ]
  },
  {
   "cell_type": "code",
   "execution_count": 88,
   "metadata": {},
   "outputs": [
    {
     "data": {
      "text/plain": [
       "b'\\x93\\x01\\x02\\x03'"
      ]
     },
     "execution_count": 88,
     "metadata": {},
     "output_type": "execute_result"
    }
   ],
   "source": [
    "pack"
   ]
  },
  {
   "cell_type": "code",
   "execution_count": 89,
   "metadata": {},
   "outputs": [
    {
     "data": {
      "text/plain": [
       "[1, 2, 3]"
      ]
     },
     "execution_count": 89,
     "metadata": {},
     "output_type": "execute_result"
    }
   ],
   "source": [
    "msgpack.unpackb(pack)"
   ]
  },
  {
   "cell_type": "code",
   "execution_count": 90,
   "metadata": {},
   "outputs": [
    {
     "data": {
      "text/plain": [
       "(1, 2, 3)"
      ]
     },
     "execution_count": 90,
     "metadata": {},
     "output_type": "execute_result"
    }
   ],
   "source": [
    "msgpack.unpackb(pack,use_list=False)# 指定use_list为False则会返回tuple"
   ]
  },
  {
   "cell_type": "code",
   "execution_count": 91,
   "metadata": {},
   "outputs": [],
   "source": [
    "pack = msgpack.packb(dict(a=1,b=2,c=3))"
   ]
  },
  {
   "cell_type": "code",
   "execution_count": 92,
   "metadata": {
    "scrolled": true
   },
   "outputs": [
    {
     "data": {
      "text/plain": [
       "b'\\x83\\xa1a\\x01\\xa1b\\x02\\xa1c\\x03'"
      ]
     },
     "execution_count": 92,
     "metadata": {},
     "output_type": "execute_result"
    }
   ],
   "source": [
    "pack"
   ]
  },
  {
   "cell_type": "code",
   "execution_count": 93,
   "metadata": {},
   "outputs": [
    {
     "data": {
      "text/plain": [
       "{b'a': 1, b'b': 2, b'c': 3}"
      ]
     },
     "execution_count": 93,
     "metadata": {},
     "output_type": "execute_result"
    }
   ],
   "source": [
    "msgpack.unpackb(pack)"
   ]
  },
  {
   "cell_type": "markdown",
   "metadata": {},
   "source": [
    "### 反序列化为字符串"
   ]
  },
  {
   "cell_type": "code",
   "execution_count": 94,
   "metadata": {},
   "outputs": [],
   "source": [
    "pack = msgpack.packb([\"你\", \"我\", \"他\"])"
   ]
  },
  {
   "cell_type": "code",
   "execution_count": 95,
   "metadata": {},
   "outputs": [
    {
     "data": {
      "text/plain": [
       "b'\\x93\\xa3\\xe4\\xbd\\xa0\\xa3\\xe6\\x88\\x91\\xa3\\xe4\\xbb\\x96'"
      ]
     },
     "execution_count": 95,
     "metadata": {},
     "output_type": "execute_result"
    }
   ],
   "source": [
    "pack"
   ]
  },
  {
   "cell_type": "code",
   "execution_count": 96,
   "metadata": {},
   "outputs": [
    {
     "data": {
      "text/plain": [
       "[b'\\xe4\\xbd\\xa0', b'\\xe6\\x88\\x91', b'\\xe4\\xbb\\x96']"
      ]
     },
     "execution_count": 96,
     "metadata": {},
     "output_type": "execute_result"
    }
   ],
   "source": [
    "msgpack.unpackb(pack)"
   ]
  },
  {
   "cell_type": "code",
   "execution_count": 97,
   "metadata": {},
   "outputs": [
    {
     "data": {
      "text/plain": [
       "['你', '我', '他']"
      ]
     },
     "execution_count": 97,
     "metadata": {},
     "output_type": "execute_result"
    }
   ],
   "source": [
    "msgpack.unpackb(pack,encoding='utf-8')"
   ]
  },
  {
   "cell_type": "markdown",
   "metadata": {},
   "source": [
    "### 序列化流\n",
    "\n",
    "unpacker可以反序列化流,它可以从一个流(或从通过其feed方法提供的字节)中分离多个对象."
   ]
  },
  {
   "cell_type": "code",
   "execution_count": 98,
   "metadata": {
    "scrolled": true
   },
   "outputs": [
    {
     "name": "stdout",
     "output_type": "stream",
     "text": [
      "[]\n",
      "[0]\n",
      "[0, 1]\n",
      "[0, 1, 2]\n",
      "[0, 1, 2, 3]\n",
      "[0, 1, 2, 3, 4]\n",
      "[0, 1, 2, 3, 4, 5]\n",
      "[0, 1, 2, 3, 4, 5, 6]\n",
      "[0, 1, 2, 3, 4, 5, 6, 7]\n",
      "[0, 1, 2, 3, 4, 5, 6, 7, 8]\n"
     ]
    }
   ],
   "source": [
    "import msgpack\n",
    "from io import BytesIO\n",
    "\n",
    "buf = BytesIO()\n",
    "for i in range(10):\n",
    "    buf.write(msgpack.packb(list(range(i))))\n",
    "\n",
    "buf.seek(0)\n",
    "\n",
    "unpacker = msgpack.Unpacker(buf)\n",
    "for unpacked in unpacker:\n",
    "    print(unpacked)"
   ]
  },
  {
   "cell_type": "markdown",
   "metadata": {},
   "source": [
    "### 自定义对象序列化\n",
    "\n",
    "也可以序列化自定义数据类型.以下是datetime.datetime的示例.\n",
    "\n",
    "我们可以用`default`来指定自定义序列化和反序列化的方法.\n",
    "\n",
    "需要注意的是序列化后的对象字段和值都会被变成bytes,因此需要适当的decode"
   ]
  },
  {
   "cell_type": "code",
   "execution_count": 99,
   "metadata": {},
   "outputs": [],
   "source": [
    "import datetime\n",
    "import msgpack\n",
    "\n",
    "useful_dict = {\n",
    "    \"id\": 1,\n",
    "    \"created\": datetime.datetime.now(),\n",
    "}"
   ]
  },
  {
   "cell_type": "code",
   "execution_count": 100,
   "metadata": {},
   "outputs": [],
   "source": [
    "def decode_datetime(obj):\n",
    "    if b'__datetime__' in obj:\n",
    "        obj = datetime.datetime.strptime(obj[b\"as_str\"].decode(), \"%Y%m%dT%H:%M:%S.%f\")\n",
    "    return obj\n",
    "\n",
    "def encode_datetime(obj):\n",
    "    if isinstance(obj, datetime.datetime):\n",
    "        return {b'__datetime__': True, b'as_str': obj.strftime(\"%Y%m%dT%H:%M:%S.%f\")}\n",
    "    return obj"
   ]
  },
  {
   "cell_type": "code",
   "execution_count": 101,
   "metadata": {},
   "outputs": [],
   "source": [
    "packed_dict = msgpack.packb(useful_dict, default=encode_datetime)"
   ]
  },
  {
   "cell_type": "code",
   "execution_count": 102,
   "metadata": {},
   "outputs": [
    {
     "data": {
      "text/plain": [
       "b'\\x82\\xa2id\\x01\\xa7created\\x82\\xac__datetime__\\xc3\\xa6as_str\\xb820180607T18:13:21.312504'"
      ]
     },
     "execution_count": 102,
     "metadata": {},
     "output_type": "execute_result"
    }
   ],
   "source": [
    "packed_dict"
   ]
  },
  {
   "cell_type": "code",
   "execution_count": 103,
   "metadata": {},
   "outputs": [],
   "source": [
    "this_dict_again = msgpack.unpackb(packed_dict, object_hook=decode_datetime)"
   ]
  },
  {
   "cell_type": "code",
   "execution_count": 104,
   "metadata": {
    "scrolled": true
   },
   "outputs": [
    {
     "data": {
      "text/plain": [
       "{b'created': datetime.datetime(2018, 6, 7, 18, 13, 21, 312504), b'id': 1}"
      ]
     },
     "execution_count": 104,
     "metadata": {},
     "output_type": "execute_result"
    }
   ],
   "source": [
    "this_dict_again"
   ]
  },
  {
   "cell_type": "markdown",
   "metadata": {},
   "source": [
    "如上面的自定义方法,序列化是将容器中的对象找出来,一个一个执行自定义的序列化方法,因此需要用`isinstance`方法来判别出类型来再做特殊处理.\n",
    "而反序列化则是需要通过指定的字段找出序列化的内容,再执行反序列化"
   ]
  },
  {
   "cell_type": "markdown",
   "metadata": {},
   "source": [
    "### 结合dill传递对象"
   ]
  },
  {
   "cell_type": "code",
   "execution_count": 105,
   "metadata": {},
   "outputs": [],
   "source": [
    "import dill\n",
    "class Vector2D:\n",
    "    def __repr__(self):\n",
    "        return \"Vector2D<{self.a},{self.b}>\".format(self=self)\n",
    "    def __dill__(self): \n",
    "        return dill.dumps(self)\n",
    "    def __init__(self,a:int,b:int):\n",
    "        self.a = a\n",
    "        self.b = b\n",
    "    def __add__(self,c):\n",
    "        a = self.a+c.a\n",
    "        b = self.b+c.b\n",
    "        return Vector2D(a,b)"
   ]
  },
  {
   "cell_type": "code",
   "execution_count": 106,
   "metadata": {},
   "outputs": [],
   "source": [
    "def encode_v2d(obj):\n",
    "    if isinstance(obj, Vector2D):\n",
    "        return {b'__Vector2D__': True, b'as_bytes': obj.__dill__()}\n",
    "    return obj\n",
    "\n",
    "def decode_v2d(obj):\n",
    "    if b'__Vector2D__' in obj:\n",
    "        obj = dill.loads(obj[b\"as_bytes\"])\n",
    "    return obj"
   ]
  },
  {
   "cell_type": "code",
   "execution_count": 107,
   "metadata": {},
   "outputs": [],
   "source": [
    "useful_dict = {\n",
    "    \"id\": 1,\n",
    "    \"created\": Vector2D(1,2),\n",
    "}"
   ]
  },
  {
   "cell_type": "code",
   "execution_count": 108,
   "metadata": {},
   "outputs": [],
   "source": [
    "packed_dict = msgpack.packb(useful_dict, default=encode_v2d)"
   ]
  },
  {
   "cell_type": "code",
   "execution_count": 109,
   "metadata": {},
   "outputs": [
    {
     "data": {
      "text/plain": [
       "b'\\x82\\xa2id\\x01\\xa7created\\x82\\xac__Vector2D__\\xc3\\xa8as_bytes\\xda\\x03\\x87\\x80\\x03cdill.dill\\n_create_type\\nq\\x00(cdill.dill\\n_load_type\\nq\\x01X\\x04\\x00\\x00\\x00typeq\\x02\\x85q\\x03Rq\\x04X\\x08\\x00\\x00\\x00Vector2Dq\\x05h\\x01X\\x06\\x00\\x00\\x00objectq\\x06\\x85q\\x07Rq\\x08\\x85q\\t}q\\n(X\\n\\x00\\x00\\x00__module__q\\x0bX\\x08\\x00\\x00\\x00__main__q\\x0cX\\x08\\x00\\x00\\x00__repr__q\\rcdill.dill\\n_create_function\\nq\\x0e(h\\x01X\\x08\\x00\\x00\\x00CodeTypeq\\x0f\\x85q\\x10Rq\\x11(K\\x01K\\x00K\\x01K\\x03KCC\\x0cd\\x01j\\x00|\\x00d\\x02\\x8d\\x01S\\x00q\\x12NX\\x1b\\x00\\x00\\x00Vector2D<{self.a},{self.b}>q\\x13X\\x04\\x00\\x00\\x00selfq\\x14\\x85q\\x15\\x87q\\x16X\\x06\\x00\\x00\\x00formatq\\x17\\x85q\\x18h\\x14\\x85q\\x19X \\x00\\x00\\x00<ipython-input-105-a84ef107df8c>q\\x1ah\\rK\\x03C\\x02\\x00\\x01q\\x1b))tq\\x1cRq\\x1dc__builtin__\\n__main__\\nh\\rNN}q\\x1etq\\x1fRq X\\x08\\x00\\x00\\x00__dill__q!h\\x0e(h\\x11(K\\x01K\\x00K\\x01K\\x02KCC\\nt\\x00j\\x01|\\x00\\x83\\x01S\\x00q\"N\\x85q#X\\x04\\x00\\x00\\x00dillq$X\\x05\\x00\\x00\\x00dumpsq%\\x86q&h\\x14\\x85q\\'h\\x1ah!K\\x05C\\x02\\x00\\x01q())tq)Rq*c__builtin__\\n__main__\\nh!NN}q+tq,Rq-X\\x08\\x00\\x00\\x00__init__q.h\\x0e(h\\x11(K\\x03K\\x00K\\x03K\\x02KCC\\x10|\\x01|\\x00_\\x00|\\x02|\\x00_\\x01d\\x00S\\x00q/N\\x85q0X\\x01\\x00\\x00\\x00aq1X\\x01\\x00\\x00\\x00bq2\\x86q3h\\x14h1h2\\x87q4h\\x1ah.K\\x07C\\x04\\x00\\x01\\x06\\x01q5))tq6Rq7c__builtin__\\n__main__\\nh.NN}q8tq9Rq:X\\x07\\x00\\x00\\x00__add__q;h\\x0e(h\\x11(K\\x02K\\x00K\\x04K\\x03KCC\"|\\x00j\\x00|\\x01j\\x00\\x17\\x00}\\x02|\\x00j\\x01|\\x01j\\x01\\x17\\x00}\\x03t\\x02|\\x02|\\x03\\x83\\x02S\\x00q<N\\x85q=h1h2h\\x05\\x87q>(h\\x14X\\x01\\x00\\x00\\x00cq?h1h2tq@h\\x1ah;K\\nC\\x06\\x00\\x01\\x0c\\x01\\x0c\\x01qA))tqBRqCc__builtin__\\n__main__\\nh;NN}qDtqERqFX\\x07\\x00\\x00\\x00__doc__qGNX\\r\\x00\\x00\\x00__slotnames__qH]qIutqJRqK)\\x81qL}qM(h1K\\x01h2K\\x02ub.'"
      ]
     },
     "execution_count": 109,
     "metadata": {},
     "output_type": "execute_result"
    }
   ],
   "source": [
    "packed_dict"
   ]
  },
  {
   "cell_type": "code",
   "execution_count": 110,
   "metadata": {},
   "outputs": [],
   "source": [
    "this_dict_again = msgpack.unpackb(packed_dict, object_hook=decode_v2d)"
   ]
  },
  {
   "cell_type": "code",
   "execution_count": 111,
   "metadata": {},
   "outputs": [
    {
     "data": {
      "text/plain": [
       "{b'created': Vector2D<1,2>, b'id': 1}"
      ]
     },
     "execution_count": 111,
     "metadata": {},
     "output_type": "execute_result"
    }
   ],
   "source": [
    "this_dict_again"
   ]
  },
  {
   "cell_type": "code",
   "execution_count": 112,
   "metadata": {},
   "outputs": [],
   "source": [
    "v1 = this_dict_again[b\"created\"]"
   ]
  },
  {
   "cell_type": "code",
   "execution_count": 113,
   "metadata": {},
   "outputs": [],
   "source": [
    "v2 = Vector2D(2,2)"
   ]
  },
  {
   "cell_type": "code",
   "execution_count": 114,
   "metadata": {},
   "outputs": [
    {
     "data": {
      "text/plain": [
       "Vector2D<3,4>"
      ]
     },
     "execution_count": 114,
     "metadata": {},
     "output_type": "execute_result"
    }
   ],
   "source": [
    "v1+v2"
   ]
  },
  {
   "cell_type": "markdown",
   "metadata": {},
   "source": [
    "## *[protobuf](https://github.com/protocolbuffers/protobuf)*\n",
    "\n",
    "`protobuf`是目前最快最小的序列化协议,由google开发推动,已经广泛应用于游戏开发,深度学习甚至嵌入式领域.\n",
    "\n",
    "和上面几乎所有的序列化方式的不同,`protobuf`需要先定义数据的格式(schema),然后针对定义好格式的数据实例进行序列化和反序列化.这点上可以看做和`pickel`有一些类似(pickel的数据格式其实可以看做是右.py文件定义的).\n",
    "\n",
    "在使用`protobuf`之前你需要几个工具:\n",
    "\n",
    "1. `proto`语言的编译器[`protoc`](https://developers.google.com/protocol-buffers/docs/downloads)\n",
    "\n",
    "    去下载页下载最新的然后在环境变量`Path`中添加`protoc`所在的文件夹即可,注意只需要不同操作系统下的`protoc`的预编译版本,不需要某种语言指定的版本.如果是树莓派,可能我们还需要使用源码(下载页的`Source Code(tar.gz)`或`protobuf-cpp`)编译下,以`3.6.1`版本为例:\n",
    "    ```shell\n",
    "    wget https://github.com/protocolbuffers/protobuf/releases/download/v3.6.1/protobuf-cpp-3.6.1.tar.gz\n",
    "    tar zxvf protobuf-cpp-3.6.1.tar.gz\n",
    "    cd protobuf-3.6.1/\n",
    "    ./configure\n",
    "    make\n",
    "    make install\n",
    "    ```\n",
    "    \n",
    "    可能下载不下来,这时候可以翻墙下载或者在本地翻墙下载好了scp传过去.使用这种方式后`protoc`就在`/usr/local/`目录下了,如果要修改安装目录,可以使用`./configure --prefix=<path>`指定.\n",
    "2. `protobuf`protobuf序列化反序列化的python接口,编译出来的python模块会依赖这个库,使用`pip`安装\n",
    "\n",
    "3. 熟悉`proto`语法,目前推荐使用[proto3](https://developers.google.com/protocol-buffers/docs/proto3)\n",
    "\n",
    "4. `grpcio`\\* 如果你用protobuf是为了做[`grpc`](https://grpc.io/),那还需要装这个,grpc我们在后面的篇章中讲\n",
    "\n",
    "5. 各种语言的编译插件\\* 为了多语言支持."
   ]
  },
  {
   "cell_type": "markdown",
   "metadata": {},
   "source": [
    "### 使用步骤\n",
    "\n",
    "以一个例子来说明.\n",
    "\n",
    "1. 需要预先用标记语言`proto`定义需要序列化的数据的格式并放在`.proto`文件中.下面是一个例子:"
   ]
  },
  {
   "cell_type": "code",
   "execution_count": 1,
   "metadata": {},
   "outputs": [
    {
     "name": "stdout",
     "output_type": "stream",
     "text": [
      "Writing tutorial.proto\n"
     ]
    }
   ],
   "source": [
    "%%writefile tutorial.proto\n",
    "\n",
    "syntax = \"proto3\";\n",
    "\n",
    "package tutorial;\n",
    "\n",
    "message Person {\n",
    "   string name = 1;\n",
    "   int32 id = 2;\n",
    "   string email = 3;\n",
    "\n",
    "   enum PhoneType {\n",
    "       HOME = 0;\n",
    "       MOBILE = 1;\n",
    "       WORK = 2;\n",
    "   }\n",
    "\n",
    "   message PhoneNumber {\n",
    "       string number = 1;\n",
    "       PhoneType type = 2;\n",
    "  }\n",
    "\n",
    "   repeated PhoneNumber phones = 4;\n",
    "}\n",
    "\n",
    "message AddressBook {\n",
    "  repeated Person people = 1;\n",
    "}"
   ]
  },
  {
   "cell_type": "markdown",
   "metadata": {},
   "source": [
    "2. 编译我们的proto文件"
   ]
  },
  {
   "cell_type": "code",
   "execution_count": 3,
   "metadata": {},
   "outputs": [],
   "source": [
    "!protoc --python_out=. tutorial.proto"
   ]
  },
  {
   "cell_type": "code",
   "execution_count": 4,
   "metadata": {},
   "outputs": [
    {
     "name": "stdout",
     "output_type": "stream",
     "text": [
      "README.md                         tutorial_pb2.py\n",
      "example.ini                       结语.md\n",
      "exsample.yml                      序列化.ipynb\n",
      "output.xml                        文件与IO流.ipynb\n",
      "plant_catalog.xml                 文本和编码.ipynb\n",
      "\u001b[1m\u001b[36msource\u001b[m\u001b[m                            正则表达式.ipynb\n",
      "\u001b[1m\u001b[36msrc\u001b[m\u001b[m                               字节序列与内存视图.ipynb\n",
      "tutorial.proto\n"
     ]
    }
   ],
   "source": [
    "!ls"
   ]
  },
  {
   "cell_type": "markdown",
   "metadata": {},
   "source": [
    "这样我们就可以得到`xxxx_pb2.py`这样的模块了,我们需要使用这个模块做序列化反序列化.导入`tutorial_pb2`,其中有我们用关键字`message`定义的类`AddressBook`,`Person`,\n",
    "\n",
    "我们用`AddressBook`作为例子.要序列化首先要有被序列化的对象,这个对象就是前面由`tutorial_pb2`提供的这些类.\n",
    "我们需要使用关键字实例化这些类."
   ]
  },
  {
   "cell_type": "code",
   "execution_count": 5,
   "metadata": {},
   "outputs": [],
   "source": [
    "import tutorial_pb2"
   ]
  },
  {
   "cell_type": "code",
   "execution_count": 27,
   "metadata": {},
   "outputs": [],
   "source": [
    "pn_a1 = tutorial_pb2.Person.PhoneNumber(number=\"1231234\",type=\"HOME\")\n",
    "pn_a2 = tutorial_pb2.Person.PhoneNumber(number=\"1231235\",type=\"WORK\")\n",
    "pa = tutorial_pb2.Person(name=\"a\",id=1,email=\"a@gmail.com\", phones=[pn_a1,pn_a2])\n",
    "\n",
    "pn_b1 = tutorial_pb2.Person.PhoneNumber(number=\"2231234\",type=\"HOME\")\n",
    "pn_b2 = tutorial_pb2.Person.PhoneNumber(number=\"2231235\",type=\"WORK\")\n",
    "pb = tutorial_pb2.Person(name=\"a\",id=1,email=\"a@gmail.com\")\n",
    "pb.phones.extend([pn_b1,pn_b2])\n",
    "\n",
    "addressbook = tutorial_pb2.AddressBook(people = [pa,pb])"
   ]
  },
  {
   "cell_type": "code",
   "execution_count": 28,
   "metadata": {},
   "outputs": [
    {
     "data": {
      "text/plain": [
       "people {\n",
       "  name: \"a\"\n",
       "  id: 1\n",
       "  email: \"a@gmail.com\"\n",
       "  phones {\n",
       "    number: \"1231234\"\n",
       "  }\n",
       "  phones {\n",
       "    number: \"1231235\"\n",
       "    type: WORK\n",
       "  }\n",
       "}\n",
       "people {\n",
       "  name: \"a\"\n",
       "  id: 1\n",
       "  email: \"a@gmail.com\"\n",
       "  phones {\n",
       "    number: \"2231234\"\n",
       "  }\n",
       "  phones {\n",
       "    number: \"2231235\"\n",
       "    type: WORK\n",
       "  }\n",
       "}"
      ]
     },
     "execution_count": 28,
     "metadata": {},
     "output_type": "execute_result"
    }
   ],
   "source": [
    "addressbook"
   ]
  },
  {
   "cell_type": "markdown",
   "metadata": {},
   "source": [
    "3.序列化\n",
    "\n",
    "使用接口`.SerializeToString()`可以将对象序列化为`bytes`"
   ]
  },
  {
   "cell_type": "code",
   "execution_count": 29,
   "metadata": {},
   "outputs": [
    {
     "name": "stdout",
     "output_type": "stream",
     "text": [
      "b'\\n*\\n\\x01a\\x10\\x01\\x1a\\x0ba@gmail.com\"\\t\\n\\x071231234\"\\x0b\\n\\x071231235\\x10\\x02\\n*\\n\\x01a\\x10\\x01\\x1a\\x0ba@gmail.com\"\\t\\n\\x072231234\"\\x0b\\n\\x072231235\\x10\\x02'\n"
     ]
    }
   ],
   "source": [
    "result = addressbook.SerializeToString()\n",
    "print(result)"
   ]
  },
  {
   "cell_type": "markdown",
   "metadata": {},
   "source": [
    "4. 反序列化\n",
    "\n",
    "使用接口`.ParseFromString()`可以将bytes反序列化为对象"
   ]
  },
  {
   "cell_type": "code",
   "execution_count": 31,
   "metadata": {},
   "outputs": [
    {
     "data": {
      "text/plain": [
       "people {\n",
       "  name: \"a\"\n",
       "  id: 1\n",
       "  email: \"a@gmail.com\"\n",
       "  phones {\n",
       "    number: \"1231234\"\n",
       "  }\n",
       "  phones {\n",
       "    number: \"1231235\"\n",
       "    type: WORK\n",
       "  }\n",
       "}\n",
       "people {\n",
       "  name: \"a\"\n",
       "  id: 1\n",
       "  email: \"a@gmail.com\"\n",
       "  phones {\n",
       "    number: \"2231234\"\n",
       "  }\n",
       "  phones {\n",
       "    number: \"2231235\"\n",
       "    type: WORK\n",
       "  }\n",
       "}"
      ]
     },
     "execution_count": 31,
     "metadata": {},
     "output_type": "execute_result"
    }
   ],
   "source": [
    "new_address = tutorial_pb2.AddressBook()\n",
    "\n",
    "new_address.ParseFromString(result)\n",
    "new_address"
   ]
  },
  {
   "cell_type": "markdown",
   "metadata": {},
   "source": [
    "总体来看protobuf在小范围内使用的话使用起来是比较麻烦的.又要先定义又要编译.但在比较大规模的使用场景下其实它更加高效\n",
    "\n",
    "1. 本身编译快,结果小\n",
    "2. schema即接口,强制梳理业务流程,预先定义好数据使用范围,接口形式等,相当于优化了开发流程\n",
    "3. 所有数据信息都在`.proto`文件中,免去了数据文档和相关的维护,如果是使用grpc那连接口文档都可以省了\n",
    "\n",
    "它带来的问题就是需要有一个比较好的方式可以妥善管理`.proto`文件."
   ]
  }
 ],
 "metadata": {
  "kernelspec": {
   "display_name": "Python 3 (ipykernel)",
   "language": "python",
   "name": "python3"
  },
  "language_info": {
   "codemirror_mode": {
    "name": "ipython",
    "version": 3
   },
   "file_extension": ".py",
   "mimetype": "text/x-python",
   "name": "python",
   "nbconvert_exporter": "python",
   "pygments_lexer": "ipython3",
   "version": "3.10.11"
  }
 },
 "nbformat": 4,
 "nbformat_minor": 4
}
