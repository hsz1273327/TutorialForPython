{
 "cells": [
  {
   "cell_type": "markdown",
   "metadata": {},
   "source": [
    "# 变量作用域\n",
    "\n",
    "python的变量是有其作用域的,也就是说变量必须保存在上下文中,离开了这个上下文环境就找不到了.\n",
    "\n",
    "\n",
    "## LEGB原则\n",
    "\n",
    "python的变量作用域遵循LEGB原则,即:\n",
    "\n",
    "+ `L-Local(function)`:函数内的命名空间\n",
    "+ `E-Enclosing function locals`:外部嵌套函数的命名空间(例如closure)\n",
    "+ `G-Global(module)`:函数定义所在模块(文件)的命名空间\n",
    "+ `B-Builtin(Python)`:Python内置模块的命名空间\n",
    "\n",
    "\n",
    "python遵循从上到下的查找方式,我们来看个例子,从闭包中观察LEGB规则.\n",
    "\n"
   ]
  },
  {
   "cell_type": "markdown",
   "metadata": {},
   "source": [
    "## global语句\n",
    "\n",
    "global语句用来在函数内声明一个变量是全局变量"
   ]
  },
  {
   "cell_type": "code",
   "execution_count": 1,
   "metadata": {},
   "outputs": [
    {
     "name": "stdout",
     "output_type": "stream",
     "text": [
      "12\n",
      "12.4\n",
      "12.56\n",
      "12.4\n",
      "12.56\n"
     ]
    }
   ],
   "source": [
    "Pi = 3\n",
    "def acreage(r):\n",
    "    global Pi\n",
    "    Pi = 3.14\n",
    "    return Pi*r**2\n",
    "def perimeters(r):\n",
    "    return Pi*r*2\n",
    "def acreage1(r):\n",
    "    Pi = 3.1\n",
    "    return Pi*r**2\n",
    "\n",
    "print(perimeters(2))\n",
    "print(acreage1(2))\n",
    "print(acreage(2))\n",
    "print(acreage1(2))\n",
    "print(perimeters(2))"
   ]
  },
  {
   "cell_type": "markdown",
   "metadata": {},
   "source": [
    "可以看出 acreage中用global声明改变了全局的Pi值,而acreage1中的pi是本地的所以只在本地有效而已.\n",
    "\n",
    "如果要查看有哪些全局变量的话,也只需要使用内置函数`globals()`即可"
   ]
  },
  {
   "cell_type": "markdown",
   "metadata": {},
   "source": [
    "## nolocal语句\n",
    "\n",
    "`nolocal`语句是用来声明一个变量不是本地的,它常在闭包中使用.\n",
    "\n",
    "我们知道`global`声明是明确指定一个变量作用域为模块全局,而`nolocal`是声明变量在外部嵌套函数的名字空间,这样就可以在`local`中修改外部嵌套函数中的变量了."
   ]
  },
  {
   "cell_type": "code",
   "execution_count": 2,
   "metadata": {},
   "outputs": [
    {
     "name": "stdout",
     "output_type": "stream",
     "text": [
      "3\n"
     ]
    }
   ],
   "source": [
    "X = 1\n",
    "def a():\n",
    "    X = 2\n",
    "    def b():\n",
    "        X = 3\n",
    "        print(X)\n",
    "    return b\n",
    "a()()"
   ]
  },
  {
   "cell_type": "code",
   "execution_count": 3,
   "metadata": {},
   "outputs": [
    {
     "name": "stdout",
     "output_type": "stream",
     "text": [
      "11\n",
      "11\n"
     ]
    }
   ],
   "source": [
    "X = 1\n",
    "def a():\n",
    "    X = 2\n",
    "    def b():\n",
    "        global X\n",
    "        X = 11\n",
    "        print(X)\n",
    "    return b\n",
    "a()()\n",
    "print(X)"
   ]
  },
  {
   "cell_type": "code",
   "execution_count": 4,
   "metadata": {},
   "outputs": [
    {
     "name": "stdout",
     "output_type": "stream",
     "text": [
      "2\n",
      "22\n",
      "22\n",
      "22\n"
     ]
    },
    {
     "data": {
      "text/plain": [
       "22"
      ]
     },
     "execution_count": 4,
     "metadata": {},
     "output_type": "execute_result"
    }
   ],
   "source": [
    "X = 1\n",
    "def a():\n",
    "    X = 2\n",
    "    print(X)\n",
    "    def b():\n",
    "        nonlocal X\n",
    "        X = 22\n",
    "        print(X)\n",
    "        return X\n",
    "    b()\n",
    "    print(X)\n",
    "    return b\n",
    "\n",
    "a()()"
   ]
  },
  {
   "cell_type": "markdown",
   "metadata": {},
   "source": [
    "## 突破界限–用字典打破LEGB规则\n",
    "\n",
    "python中字典是一个神奇的存在,它可以跨界,这主要是得益于字典是可变容器"
   ]
  },
  {
   "cell_type": "code",
   "execution_count": 5,
   "metadata": {},
   "outputs": [
    {
     "name": "stdout",
     "output_type": "stream",
     "text": [
      "1\n",
      "2\n"
     ]
    }
   ],
   "source": [
    "d = {\"x\":1}\n",
    "def a():\n",
    "    d[\"x\"]+=1\n",
    "print(d[\"x\"])\n",
    "a()\n",
    "print(d[\"x\"])"
   ]
  },
  {
   "cell_type": "code",
   "execution_count": 6,
   "metadata": {},
   "outputs": [
    {
     "name": "stdout",
     "output_type": "stream",
     "text": [
      "1\n",
      "2\n"
     ]
    },
    {
     "data": {
      "text/plain": [
       "3"
      ]
     },
     "execution_count": 6,
     "metadata": {},
     "output_type": "execute_result"
    }
   ],
   "source": [
    "def a():\n",
    "    d={\"x\":1}\n",
    "    print(d[\"x\"])\n",
    "    def b():\n",
    "        d[\"x\"]+=1\n",
    "        return d[\"x\"]\n",
    "    b()\n",
    "    print(d[\"x\"])\n",
    "    return b\n",
    "a()()\n"
   ]
  },
  {
   "cell_type": "markdown",
   "metadata": {},
   "source": [
    "不论是`global`还是`nonlocal`都是`LEGB`原则下高级别作用域中修改低级别作用域变量的方法.\n",
    "\n",
    "而在python中也可以用字典来作为迂回跳开LEGB的规则限制."
   ]
  },
  {
   "cell_type": "markdown",
   "metadata": {},
   "source": [
    "## 闭包\n",
    "\n",
    "所谓闭包是指一种组织代码的结构.函数的对象也是有作用域的,我们希望一个函数可以不依赖于外界的函数或者变量,自己就可以实现它的既定功能(也就是没有副作用),那么,有的时候我们就需要在函数的内部定义函数,这就是闭包了.\n",
    "\n",
    "在博客圈,人们有时会把闭包和匿名函数弄混.这是有历史原因的:\n",
    "\n",
    "在函数内部定义函数不常见,直到开始使用匿名函数才会这样做.而且,只有涉及嵌套函数时才有闭包问题.因此,很多人是同时知道这两个概念的.\n",
    "其实,闭包指延伸了作用域的函数,其中包含函数定义体中引用、但是不在定义体中定义的非全局变量.函数是不是匿名的没有关系,关键是它能访问定义体之外定义的非全局变量.\n",
    "这个概念难以掌握,最好通过示例理解\n",
    "\n",
    ">假如有个名为`avg`的函数,它的作用是计算不断增加的系列值的均值;例如,整个历史中某个商品的平均收盘价.每天都会增加新价格,因此平均值要考虑至目前为止所有的价格.起初`avg`是这样使用的:"
   ]
  },
  {
   "cell_type": "code",
   "execution_count": 7,
   "metadata": {},
   "outputs": [],
   "source": [
    "class Averager():\n",
    "    def __init__(self):\n",
    "        self.series = []\n",
    "    def __call__(self, new_value):\n",
    "        self.series.append(new_value)\n",
    "        total = sum(self.series)\n",
    "        return total/len(self.series)"
   ]
  },
  {
   "cell_type": "code",
   "execution_count": 8,
   "metadata": {},
   "outputs": [],
   "source": [
    "avg = Averager()"
   ]
  },
  {
   "cell_type": "code",
   "execution_count": 9,
   "metadata": {},
   "outputs": [
    {
     "data": {
      "text/plain": [
       "10.0"
      ]
     },
     "execution_count": 9,
     "metadata": {},
     "output_type": "execute_result"
    }
   ],
   "source": [
    "avg(10)"
   ]
  },
  {
   "cell_type": "code",
   "execution_count": 10,
   "metadata": {},
   "outputs": [
    {
     "data": {
      "text/plain": [
       "10.5"
      ]
     },
     "execution_count": 10,
     "metadata": {},
     "output_type": "execute_result"
    }
   ],
   "source": [
    "avg(11)"
   ]
  },
  {
   "cell_type": "code",
   "execution_count": 11,
   "metadata": {},
   "outputs": [
    {
     "data": {
      "text/plain": [
       "11.0"
      ]
     },
     "execution_count": 11,
     "metadata": {},
     "output_type": "execute_result"
    }
   ],
   "source": [
    "avg(12)"
   ]
  },
  {
   "cell_type": "markdown",
   "metadata": {},
   "source": [
    "如果使用闭包可以这样实现"
   ]
  },
  {
   "cell_type": "code",
   "execution_count": 12,
   "metadata": {},
   "outputs": [],
   "source": [
    "def make_averager():\n",
    "    series = []\n",
    "    def averager(new_value):\n",
    "        series.append(new_value)\n",
    "        total = sum(series)\n",
    "        return total/len(series)\n",
    "    return averager"
   ]
  },
  {
   "cell_type": "code",
   "execution_count": 13,
   "metadata": {},
   "outputs": [],
   "source": [
    "avg = make_averager()"
   ]
  },
  {
   "cell_type": "code",
   "execution_count": 14,
   "metadata": {},
   "outputs": [
    {
     "data": {
      "text/plain": [
       "10.0"
      ]
     },
     "execution_count": 14,
     "metadata": {},
     "output_type": "execute_result"
    }
   ],
   "source": [
    "avg(10)"
   ]
  },
  {
   "cell_type": "code",
   "execution_count": 15,
   "metadata": {},
   "outputs": [
    {
     "data": {
      "text/plain": [
       "10.5"
      ]
     },
     "execution_count": 15,
     "metadata": {},
     "output_type": "execute_result"
    }
   ],
   "source": [
    "avg(11)"
   ]
  },
  {
   "cell_type": "markdown",
   "metadata": {},
   "source": [
    "注意,这两个示例有共通之处:调用`Averager()`或`make_averager()`得到一个可调用对象`avg`,它会更新历史值,然后计算当前均值.不管怎样,我们都只需调用`avg(n)`,把`n`放入系列值中,然后重新计算均值.\n",
    "\n",
    "`Averager`类的实例`avg`在哪里存储历史值很明显:`self.series`实例属性.\n",
    "但是第二个示例中的`avg`函数在哪里寻找`series`呢?\n",
    "\n",
    "注意,`series`是`make_averager`函数的局部变量,因为那个函数的定义体中初始化了`series:series = []`.可是,调用`avg(10)`时`make_averager`函数已经返回了,而它的本地作用域也一去不复返了\n",
    "\n",
    "在`averager`函数中,`series`是自由变量(free variable).这是一个技术术语,指未在本地作用域中绑定的变量:\n",
    "\n",
    "![自由变量](source/free_variable.PNG)\n",
    "\n",
    "审查返回的`averager`对象,我们发现Python在 `__code__` 属性(表示编译后的函数定义体)中保存局部变量和自由变量的名称"
   ]
  },
  {
   "cell_type": "code",
   "execution_count": 16,
   "metadata": {},
   "outputs": [
    {
     "data": {
      "text/plain": [
       "('new_value', 'total')"
      ]
     },
     "execution_count": 16,
     "metadata": {},
     "output_type": "execute_result"
    }
   ],
   "source": [
    "avg.__code__.co_varnames"
   ]
  },
  {
   "cell_type": "code",
   "execution_count": 17,
   "metadata": {},
   "outputs": [
    {
     "data": {
      "text/plain": [
       "('series',)"
      ]
     },
     "execution_count": 17,
     "metadata": {},
     "output_type": "execute_result"
    }
   ],
   "source": [
    "avg.__code__.co_freevars"
   ]
  },
  {
   "cell_type": "markdown",
   "metadata": {},
   "source": [
    "series的绑定在返回的`avg`函数的`__closure__` 属性中.`avg.__closure__` 中的各个元素对应于`avg.__code__.co_freevars` 中的一个名称.这些元素是cell对象,有个`cell_ contents `属性保存着真正的值."
   ]
  },
  {
   "cell_type": "code",
   "execution_count": 18,
   "metadata": {},
   "outputs": [
    {
     "data": {
      "text/plain": [
       "('series',)"
      ]
     },
     "execution_count": 18,
     "metadata": {},
     "output_type": "execute_result"
    }
   ],
   "source": [
    "avg.__code__.co_freevars"
   ]
  },
  {
   "cell_type": "code",
   "execution_count": 19,
   "metadata": {},
   "outputs": [
    {
     "data": {
      "text/plain": [
       "(<cell at 0x10a9d2228: list object at 0x10a9a1e48>,)"
      ]
     },
     "execution_count": 19,
     "metadata": {},
     "output_type": "execute_result"
    }
   ],
   "source": [
    "avg.__closure__"
   ]
  },
  {
   "cell_type": "code",
   "execution_count": 20,
   "metadata": {},
   "outputs": [
    {
     "data": {
      "text/plain": [
       "[10, 11]"
      ]
     },
     "execution_count": 20,
     "metadata": {},
     "output_type": "execute_result"
    }
   ],
   "source": [
    "avg.__closure__[0].cell_contents"
   ]
  },
  {
   "cell_type": "markdown",
   "metadata": {},
   "source": [
    "综上,闭包是一种函数,它会保留定义函数时存在的自由变量的绑定,这样调用函数时,虽然定义作用域不可用了,但是仍能使用那些绑定.\n",
    "\n",
    "注意,只有嵌套在其他函数中的函数才可能需要处理不在全局作用域中的外部变量"
   ]
  },
  {
   "cell_type": "markdown",
   "metadata": {},
   "source": [
    "## 闭包生成器\n",
    "\n",
    "我们想输出一个包含不同参数方法的列表"
   ]
  },
  {
   "cell_type": "code",
   "execution_count": 21,
   "metadata": {},
   "outputs": [],
   "source": [
    "def closure1():\n",
    "    return [lambda : i*i for i in range(1, 4)]\n",
    "\n",
    "def main1():\n",
    "    for j in closure1():\n",
    "        print(j())"
   ]
  },
  {
   "cell_type": "code",
   "execution_count": 22,
   "metadata": {},
   "outputs": [
    {
     "name": "stdout",
     "output_type": "stream",
     "text": [
      "9\n",
      "9\n",
      "9\n"
     ]
    }
   ],
   "source": [
    "main1()"
   ]
  },
  {
   "cell_type": "markdown",
   "metadata": {},
   "source": [
    "看到结果都是9是不是觉得很诡异,其实这就是因为函数f要寻找变量i,在函数内部找不到i,那就会在外部嵌套函数中寻找,外部嵌套中i已经从1走到3了,也就是i=3了,那就都是为啥结果都是9了"
   ]
  },
  {
   "cell_type": "code",
   "execution_count": 23,
   "metadata": {},
   "outputs": [],
   "source": [
    "def closure2():\n",
    "    return (lambda :i*i for i in range(1, 4))\n",
    "\n",
    "def main2():\n",
    "    for j in closure2():\n",
    "        print(j())"
   ]
  },
  {
   "cell_type": "code",
   "execution_count": 24,
   "metadata": {},
   "outputs": [
    {
     "name": "stdout",
     "output_type": "stream",
     "text": [
      "1\n",
      "4\n",
      "9\n"
     ]
    }
   ],
   "source": [
    "main2()"
   ]
  },
  {
   "cell_type": "markdown",
   "metadata": {},
   "source": [
    "这是为啥呢?其实是因为生成器是一步一步执行的,不进行next程序就没跑完,所以当我们跑main2的时候实际上i在每一步都不一样"
   ]
  },
  {
   "cell_type": "code",
   "execution_count": null,
   "metadata": {},
   "outputs": [],
   "source": []
  }
 ],
 "metadata": {
  "kernelspec": {
   "display_name": "Python 3 (ipykernel)",
   "language": "python",
   "name": "python3"
  },
  "language_info": {
   "codemirror_mode": {
    "name": "ipython",
    "version": 3
   },
   "file_extension": ".py",
   "mimetype": "text/x-python",
   "name": "python",
   "nbconvert_exporter": "python",
   "pygments_lexer": "ipython3",
   "version": "3.10.11"
  }
 },
 "nbformat": 4,
 "nbformat_minor": 4
}
