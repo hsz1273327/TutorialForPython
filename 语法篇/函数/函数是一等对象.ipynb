{
 "cells": [
  {
   "cell_type": "markdown",
   "metadata": {},
   "source": [
    "# 函数是一等对象\n",
    "\n",
    "python从来不是一门函数式编程语言,但函数确实是一等对象,准确的说函数和其他对象一样,都是平等的.\n",
    "\n",
    "编程语言理论家把'一等对象'定义为满足下述条件的程序实体:\n",
    "\n",
    "+ 在运行时创建\n",
    "+ 能赋值给变量或数据结构中的元素 \n",
    "+ 能作为参数传给函数\n",
    "+ 能作为函数的返回结果\n",
    "\n",
    "Python函数是对象.这里我们创建了一个函数,然后调用它,读取它的`__doc__`属性,并且确定函数对象本身是`function`类的实例"
   ]
  },
  {
   "cell_type": "code",
   "execution_count": 1,
   "metadata": {},
   "outputs": [],
   "source": [
    "def factorial(n):\n",
    "    \"\"\"return n!\"\"\"\n",
    "    return 1 if n<2 else n*factorial(n-1)"
   ]
  },
  {
   "cell_type": "code",
   "execution_count": 2,
   "metadata": {},
   "outputs": [
    {
     "data": {
      "text/plain": [
       "1405006117752879898543142606244511569936384000000000"
      ]
     },
     "execution_count": 2,
     "metadata": {},
     "output_type": "execute_result"
    }
   ],
   "source": [
    "factorial(42)"
   ]
  },
  {
   "cell_type": "code",
   "execution_count": 3,
   "metadata": {},
   "outputs": [
    {
     "data": {
      "text/plain": [
       "'return n!'"
      ]
     },
     "execution_count": 3,
     "metadata": {},
     "output_type": "execute_result"
    }
   ],
   "source": [
    "factorial.__doc__"
   ]
  },
  {
   "cell_type": "code",
   "execution_count": 4,
   "metadata": {},
   "outputs": [
    {
     "data": {
      "text/plain": [
       "function"
      ]
     },
     "execution_count": 4,
     "metadata": {},
     "output_type": "execute_result"
    }
   ],
   "source": [
    "type(factorial)"
   ]
  },
  {
   "cell_type": "markdown",
   "metadata": {},
   "source": [
    "可以看到它和其他对象形式上是保持一致的.\n",
    "\n",
    "有了一等函数,就可以使用函数式风格编程.函数式编程的特点之一是使用高阶函数"
   ]
  },
  {
   "cell_type": "markdown",
   "metadata": {},
   "source": [
    "## 高阶函数\n",
    "\n",
    "接受函数为参数,或者把函数作为结果返回的函数是高阶函数(higher-order function).内置的map,reduce,filter,sorted等都是高阶函数的代表,这边不再复述.\n",
    "\n",
    "最为人熟知的高阶函数有`map`,`filter`,`reduce`和`apply`.\n",
    "\n",
    "`apply`函数在`Python 3`中已经移除了,因为不再需要它了.如果想使用不定量的参数调用函数,可以编写`fn(*args, **keywords)`,不用再编写`apply(fn, args, kwargs)`\n",
    "\n",
    "`map`,`filter` 和`reduce`这三个高阶函数还能见到,不过多数使用场景下都有更好的替代品."
   ]
  },
  {
   "cell_type": "markdown",
   "metadata": {},
   "source": [
    "### map、filter和reduce的现代替代品\n",
    "\n",
    "函数式语言通常会提供`map`,`filter`和`reduce`三个高阶函数(有时使用不同的名称).在`Python 3`中,`map`和 `filter`还是内置函数,但是由于引入了列表推导和生成器表达式,它们变得没那么重要了.列表,字典,集合推导或生成器表达式具有`map`和`filter`两个函数的功能,而且更易于阅读,具体的可以看[可迭代对象与生成器](https://blog.hszofficial.site/TutorialForPython/#/%E8%AF%AD%E6%B3%95%E7%AF%87/%E5%86%85%E7%BD%AE%E5%AE%B9%E5%99%A8/%E5%8F%AF%E8%BF%AD%E4%BB%A3%E5%AF%B9%E8%B1%A1%E4%B8%8E%E7%94%9F%E6%88%90%E5%99%A8?id=%e5%8f%af%e8%bf%ad%e4%bb%a3%e5%af%b9%e8%b1%a1%e4%b8%8e%e7%94%9f%e6%88%90%e5%99%a8)中相关的内容.\n",
    "\n",
    "内置的高阶函数与可迭代对象有着很强的关联.这是python3的一项优化,通过延迟计算可以节省内存."
   ]
  },
  {
   "cell_type": "markdown",
   "metadata": {},
   "source": [
    "## 匿名函数\n",
    "\n",
    "`lambda`关键字在Python表达式内创建匿名函数.\n",
    "\n",
    "然而,Python 简单的句法限制了`lambda`函数的定义体只能使用纯表达式.换句话说,`lambda`函数的定义体中不能赋值,也不能使用`while`和`try`等 Python 语句.\n",
    "\n",
    "在参数列表中最适合使用匿名函数.比如`sorted`中就可以用`lambda`表达式"
   ]
  },
  {
   "cell_type": "code",
   "execution_count": 5,
   "metadata": {},
   "outputs": [
    {
     "data": {
      "text/plain": [
       "['banana', 'apple', 'fig', 'raspberry', 'strawberry', 'cherry']"
      ]
     },
     "execution_count": 5,
     "metadata": {},
     "output_type": "execute_result"
    }
   ],
   "source": [
    "fruits = ['strawberry', 'fig', 'apple', 'cherry', 'raspberry', 'banana']\n",
    "sorted(fruits, key=lambda word: word[::-1])"
   ]
  },
  {
   "cell_type": "markdown",
   "metadata": {},
   "source": [
    "除了作为参数传给高阶函数之外,Python 很少使用匿名函数.由于句法上的限制,非平凡的`lambda`表达式要么难以阅读,要么无法写出\n",
    "\n",
    "\n",
    "如果使用`lambda`表达式导致一段代码难以理解,PIL的作者\"Fredrik Lundh\"建议像下面这样重构\n",
    "\n",
    "+ 编写注释,说明`lambda`表达式的作用。\n",
    "+ 研究一会儿注释,并找出一个名称来概括注释.\n",
    "+ 把`lambda`表达式转换成`def`语句,使用那个名称来定义函数.\n",
    "+ 删除注释.\n",
    "\n",
    "\n",
    "`lambda`句法只是语法糖--与`def`语句一样,`lambda`表达式会创建函数对象.这是Python中几种可调用对象的一种.下一节会说明所有可调用对象"
   ]
  },
  {
   "cell_type": "markdown",
   "metadata": {},
   "source": [
    "## 可调用对象\n",
    "\n",
    "除了用户定义的函数,调用运算符(即 `()`)还可以应用到其他对象上.如果想判断对象能否调用,可以使用内置的`callable()`函数.Python数据模型文档列出了`8`种可调用对象.\n",
    "\n",
    "+ 用户定义的函数\n",
    "\n",
    "    使用`def`语句或`lambda`表达式创建\n",
    "    \n",
    "+ 内置函数\n",
    "\n",
    "    使用C语言(CPython)实现的函数,如`len`或`time.strftime` 内置方法使用 C 语言实现的方法,如`dict.get`\n",
    "\n",
    "+ 方法\n",
    "    \n",
    "    在类的定义体中定义的函数\n",
    "    \n",
    "+ 类\n",
    "\n",
    "    调用类既是创建实例\n",
    "    \n",
    "+ 类的实例\n",
    "\n",
    "    如果类定义了`__call__`方法,那么它的实例可以作为函数调用\n",
    "    \n",
    "+ 生成器函数\n",
    "\n",
    "    使用`yield`关键字的函数或方法.调用生成器函数返回的是生成器对象\n",
    "    \n",
    "+ 协程\n",
    "\n",
    "    使用`async def`创建\n",
    "    \n",
    "`callable(...)`函数可以用于判定对象是否是可调用的对象"
   ]
  },
  {
   "cell_type": "markdown",
   "metadata": {},
   "source": [
    "### 用户定义的可调用类型\n",
    "\n",
    "不仅Python函数是真正的对象,任何Python对象都可以表现得像函数.为此只需实现实例方法`__call__`.\n",
    "\n",
    "例:BingoCage类.这个类的实例使用任何可迭代对象构建,而且会在内部存储一个随机顺序排列的列表.调用实例会取出一个元素"
   ]
  },
  {
   "cell_type": "code",
   "execution_count": 6,
   "metadata": {},
   "outputs": [],
   "source": [
    "import random\n",
    "class BingoCage:\n",
    "    def __init__(self, items):\n",
    "        self._items = list(items) \n",
    "        random.shuffle(self._items)\n",
    "    def pick(self): \n",
    "        try:\n",
    "            return self._items.pop()\n",
    "        except IndexError:\n",
    "            raise LookupError('pick from empty BingoCage') \n",
    "            \n",
    "    def __call__(self):\n",
    "        return self.pick()\n"
   ]
  },
  {
   "cell_type": "code",
   "execution_count": 7,
   "metadata": {},
   "outputs": [
    {
     "data": {
      "text/plain": [
       "2"
      ]
     },
     "execution_count": 7,
     "metadata": {},
     "output_type": "execute_result"
    }
   ],
   "source": [
    "bingo = BingoCage(range(3))\n",
    "bingo.pick()"
   ]
  },
  {
   "cell_type": "code",
   "execution_count": 8,
   "metadata": {},
   "outputs": [
    {
     "data": {
      "text/plain": [
       "1"
      ]
     },
     "execution_count": 8,
     "metadata": {},
     "output_type": "execute_result"
    }
   ],
   "source": [
    "bingo()"
   ]
  },
  {
   "cell_type": "code",
   "execution_count": 9,
   "metadata": {},
   "outputs": [
    {
     "data": {
      "text/plain": [
       "True"
      ]
     },
     "execution_count": 9,
     "metadata": {},
     "output_type": "execute_result"
    }
   ],
   "source": [
    "callable(bingo)"
   ]
  },
  {
   "cell_type": "markdown",
   "metadata": {},
   "source": [
    "## 函数内省\n",
    "\n",
    "函数对象还有很多属性.使用`dir`函数可以探知函数具有的属性.这其中大多数属性是Python对象共有的.与函数对象相关的几个属性有:\n",
    "\n",
    "+ `__annotations__`参数和返回值的注解\n",
    "+ `__call__`实现 `()` 运算符;即可调用对象协议\n",
    "+ `__closure__`函数闭包,即自由变量的绑定(通常是 None)\n",
    "+ `__code__`编译成字节码的函数元数据和函数定义体\n",
    "+ `__defaults__`形式参数的默认值\n",
    "+ `__get__`实现只读描述符协议\n",
    "+ `__globals__`函数所在模块中的全局变量\n",
    "+ `__kwdefaults__`仅限关键字形式参数的默认值\n",
    "+ `__name__` 函数名称\n",
    "+ `__qualname__`函数的限定名称,如`Random.choice`\n",
    "\n",
    "\n"
   ]
  },
  {
   "cell_type": "markdown",
   "metadata": {},
   "source": [
    "## 定位参数,仅限关键字参数和仅限位置参数\n",
    "\n",
    "Python最好的特性之一是提供了极为灵活的参数处理机制,而且Python 3进一步提供了仅限关键字参数(`keyword-only argument`)和仅限位置参数(`Positional-only parameters`).与之密切相关的是,调用函数时使用`*`和`**`\"展开\"可迭代对象,映射到单个参数.\n",
    "\n",
    "\n",
    "仅限关键字参数用于指定参数只能通过关键字参数指定,而一定不会捕获未命名的定位参数,定义函数时若想指定仅限关键字参数,要把它们放到前面有`*`的参数后面.如果不想支持数量不定的定位参数,但是想支持仅限关键字参数,在签名中放一个`*`;\n",
    "仅限位置参数则与其相反,必须通过位置传入,传入关键字参数不会捕获.定义函数时若想指定仅限位置参数,要把它们放到`/`的前面.\n"
   ]
  },
  {
   "cell_type": "code",
   "execution_count": 2,
   "metadata": {
    "tags": []
   },
   "outputs": [],
   "source": [
    "def f(a,/,b, *, c):\n",
    "    return a, b, c"
   ]
  },
  {
   "cell_type": "code",
   "execution_count": 3,
   "metadata": {
    "tags": []
   },
   "outputs": [
    {
     "data": {
      "text/plain": [
       "(1, 2, 3)"
      ]
     },
     "execution_count": 3,
     "metadata": {},
     "output_type": "execute_result"
    }
   ],
   "source": [
    "f(1, b=2,c=3)"
   ]
  },
  {
   "cell_type": "code",
   "execution_count": 4,
   "metadata": {
    "tags": []
   },
   "outputs": [
    {
     "data": {
      "text/plain": [
       "(1, 2, 3)"
      ]
     },
     "execution_count": 4,
     "metadata": {},
     "output_type": "execute_result"
    }
   ],
   "source": [
    "f(1,2,c=3)"
   ]
  },
  {
   "cell_type": "code",
   "execution_count": 5,
   "metadata": {
    "tags": []
   },
   "outputs": [
    {
     "ename": "TypeError",
     "evalue": "f() got some positional-only arguments passed as keyword arguments: 'a'",
     "output_type": "error",
     "traceback": [
      "\u001b[0;31m---------------------------------------------------------------------------\u001b[0m",
      "\u001b[0;31mTypeError\u001b[0m                                 Traceback (most recent call last)",
      "Cell \u001b[0;32mIn[5], line 1\u001b[0m\n\u001b[0;32m----> 1\u001b[0m \u001b[43mf\u001b[49m\u001b[43m(\u001b[49m\u001b[43ma\u001b[49m\u001b[38;5;241;43m=\u001b[39;49m\u001b[38;5;241;43m1\u001b[39;49m\u001b[43m,\u001b[49m\u001b[43mb\u001b[49m\u001b[38;5;241;43m=\u001b[39;49m\u001b[38;5;241;43m2\u001b[39;49m\u001b[43m,\u001b[49m\u001b[43mc\u001b[49m\u001b[38;5;241;43m=\u001b[39;49m\u001b[38;5;241;43m3\u001b[39;49m\u001b[43m)\u001b[49m\n",
      "\u001b[0;31mTypeError\u001b[0m: f() got some positional-only arguments passed as keyword arguments: 'a'"
     ]
    }
   ],
   "source": [
    "f(a=1,b=2,c=3)"
   ]
  },
  {
   "cell_type": "code",
   "execution_count": 6,
   "metadata": {
    "tags": []
   },
   "outputs": [
    {
     "ename": "TypeError",
     "evalue": "f() takes 2 positional arguments but 3 were given",
     "output_type": "error",
     "traceback": [
      "\u001b[0;31m---------------------------------------------------------------------------\u001b[0m",
      "\u001b[0;31mTypeError\u001b[0m                                 Traceback (most recent call last)",
      "Cell \u001b[0;32mIn[6], line 1\u001b[0m\n\u001b[0;32m----> 1\u001b[0m \u001b[43mf\u001b[49m\u001b[43m(\u001b[49m\u001b[38;5;241;43m1\u001b[39;49m\u001b[43m,\u001b[49m\u001b[38;5;241;43m2\u001b[39;49m\u001b[43m,\u001b[49m\u001b[38;5;241;43m3\u001b[39;49m\u001b[43m)\u001b[49m\n",
      "\u001b[0;31mTypeError\u001b[0m: f() takes 2 positional arguments but 3 were given"
     ]
    }
   ],
   "source": [
    "f(1,2,3)"
   ]
  },
  {
   "cell_type": "markdown",
   "metadata": {},
   "source": [
    "仅限关键字参数不一定要有默认值,可以像上例中 b 那样,强制必须传入实参.\n",
    "\n",
    "要获取一个函数的参数签名,可以使用`inspect`模块\n",
    "\n",
    "`inspect.signature`函数返回一个`inspect.Signature`对象,它有一个`parameters`属性,这是一个有序映射,把参数名和`inspect.Parameter`对象对应起来.各个`Parameter`属性也有自己的属性,例如`name`、`default` 和 `kind`.特殊的`inspect._empty`值表示没有默认值.考虑到`None`是有效的默认值(也经常这么做),而且这么做是合理的.`kind`属性的值是`_ParameterKind`类中的5个值之一,列举如下:\n",
    "\n",
    "+ POSITIONAL_OR_KEYWORD\n",
    "\n",
    "    可以通过定位参数和关键字参数传入的形参(多数 Python 函数的参数属于此类)\n",
    "    \n",
    "+ VAR_POSITIONAL\n",
    "\n",
    "    定位参数元组\n",
    "    \n",
    "+ VAR_KEYWORD\n",
    "\n",
    "    关键字参数字典\n",
    "    \n",
    "+ KEYWORD_ONLY\n",
    "\n",
    "    仅限关键字参数 \n",
    "    \n",
    "+ POSITIONAL_ONLY\n",
    "\n",
    "            仅限定位参数;目前,Python 声明函数的句法不支持,但是有些使用 C 语言实现且不接受关键字参数的函数(如divmod)支持\n",
    "\n",
    "\n",
    "除了`name`、`default` 和 `kind`,`inspect.Parameter` 对象还有一个`annotation`属性,它的值通常是`inspect._empty`,这部分与[类型注释和检验](http://blog.hszofficial.site/TutorialForPython/%E5%B7%A5%E5%85%B7%E9%93%BE/%E4%BB%A3%E7%A0%81%E9%A3%8E%E6%A0%BC.html#类型注释和检验)有关"
   ]
  },
  {
   "cell_type": "code",
   "execution_count": 13,
   "metadata": {},
   "outputs": [],
   "source": [
    "from inspect import signature"
   ]
  },
  {
   "cell_type": "code",
   "execution_count": 14,
   "metadata": {},
   "outputs": [],
   "source": [
    "sig = signature(f)"
   ]
  },
  {
   "cell_type": "code",
   "execution_count": 15,
   "metadata": {},
   "outputs": [
    {
     "name": "stdout",
     "output_type": "stream",
     "text": [
      "POSITIONAL_OR_KEYWORD : a = <class 'inspect._empty'>\n",
      "KEYWORD_ONLY : b = <class 'inspect._empty'>\n"
     ]
    }
   ],
   "source": [
    "for name, param in sig.parameters.items():\n",
    "    print(param.kind, ':', name, '=', param.default)"
   ]
  },
  {
   "cell_type": "markdown",
   "metadata": {},
   "source": [
    "`inspect.Signature`对象有个`bind`方法,它可以把任意个参数绑定到签名中的形参上,所用的规则与实参到形参的匹配方式一样.框架可以使用这个方法在真正调用函数前验证参数"
   ]
  },
  {
   "cell_type": "code",
   "execution_count": 16,
   "metadata": {},
   "outputs": [],
   "source": [
    "my_tag = {\"a\":22,\"b\":12}"
   ]
  },
  {
   "cell_type": "code",
   "execution_count": 17,
   "metadata": {},
   "outputs": [],
   "source": [
    "bound_args = sig.bind(**my_tag)"
   ]
  },
  {
   "cell_type": "code",
   "execution_count": 18,
   "metadata": {},
   "outputs": [
    {
     "data": {
      "text/plain": [
       "<BoundArguments (a=22, b=12)>"
      ]
     },
     "execution_count": 18,
     "metadata": {},
     "output_type": "execute_result"
    }
   ],
   "source": [
    "bound_args"
   ]
  },
  {
   "cell_type": "code",
   "execution_count": 19,
   "metadata": {},
   "outputs": [
    {
     "name": "stdout",
     "output_type": "stream",
     "text": [
      "a = 22\n",
      "b = 12\n"
     ]
    }
   ],
   "source": [
    "for name, param in bound_args.arguments.items():\n",
    "    print(name, '=', param)"
   ]
  },
  {
   "cell_type": "markdown",
   "metadata": {},
   "source": [
    "## 支持函数式编程的包\n",
    "\n",
    "虽然python之父 \"Guido\" 明确表明,Python的目标不是变成函数式编程语言,但是得益于`operator`和`functools`等包的支持,函数式编程风格也可以信手拈来.\n",
    "\n",
    "### operator模块\n",
    "\n",
    "在函数式编程中,经常需要把算术运算符当作函数使用.例如,不使用递归计算阶乘.求和可以使用`sum`函数,但是求积则没有这样的函数.我们可以使用`reduce`函数,但是需要一个函数计算序列中两个元素之积.\n",
    "\n",
    "`operator`模块为多个算术运算符提供了对应的函数,从而避免编写`lambda a, b: a*b`这种平凡的匿名函数."
   ]
  },
  {
   "cell_type": "code",
   "execution_count": 20,
   "metadata": {},
   "outputs": [],
   "source": [
    "from functools import reduce\n",
    "from operator import mul\n",
    "def fact(n):\n",
    "    return reduce(mul, range(1, n+1))"
   ]
  },
  {
   "cell_type": "markdown",
   "metadata": {},
   "source": [
    "`operator`模块中还有一类函数,能替代从序列中取出元素或读取对象属性的`lambda`表达式,因此`itemgetter` 和 `attrgetter` 其实会自行构建函数"
   ]
  },
  {
   "cell_type": "code",
   "execution_count": 21,
   "metadata": {},
   "outputs": [
    {
     "name": "stdout",
     "output_type": "stream",
     "text": [
      "('Sao Paulo', 'BR', 19.649, (-23.547778, -46.635833))\n",
      "('Delhi NCR', 'IN', 21.935, (28.613889, 77.208889))\n",
      "('Tokyo', 'JP', 36.933, (35.689722, 139.691667))\n",
      "('Mexico City', 'MX', 20.142, (19.433333, -99.133333))\n",
      "('New York-Newark', 'US', 20.104, (40.808611, -74.020386))\n"
     ]
    }
   ],
   "source": [
    "metro_data = [\n",
    "    ('Tokyo', 'JP', 36.933, (35.689722, 139.691667)),\n",
    "    ('Delhi NCR', 'IN', 21.935, (28.613889, 77.208889)),\n",
    "    ('Mexico City', 'MX', 20.142, (19.433333, -99.133333)),\n",
    "    ('New York-Newark', 'US', 20.104, (40.808611, -74.020386)),\n",
    "    ('Sao Paulo', 'BR', 19.649, (-23.547778, -46.635833)),\n",
    "]\n",
    "from operator import itemgetter\n",
    "for city in sorted(metro_data, key=itemgetter(1)):\n",
    "    print(city)\n"
   ]
  },
  {
   "cell_type": "markdown",
   "metadata": {},
   "source": [
    "如果把多个参数传给 itemgetter,它构建的函数会返回提取的值构成的元组:"
   ]
  },
  {
   "cell_type": "code",
   "execution_count": 22,
   "metadata": {},
   "outputs": [
    {
     "name": "stdout",
     "output_type": "stream",
     "text": [
      "('JP', 'Tokyo')\n",
      "('IN', 'Delhi NCR')\n",
      "('MX', 'Mexico City')\n",
      "('US', 'New York-Newark')\n",
      "('BR', 'Sao Paulo')\n"
     ]
    }
   ],
   "source": [
    "cc_name = itemgetter(1, 0)\n",
    "for city in metro_data:\n",
    "    print(cc_name(city))\n"
   ]
  },
  {
   "cell_type": "markdown",
   "metadata": {},
   "source": [
    "`itemgetter` 使用`[]`运算符,因此它不仅支持序列,还支持映射和任何实现` __getitem__` 方 法的类`attrgetter`与 `itemgetter` 作用类似,它创建的函数根据名称提取对象的属性。如果把多个属性名传给`attrgetter`,它也会返回提取的值构成的元组。此外,如果参数名中包含`.`(点号),`attrgetter` 会深入嵌套对象,获取指定的属性。\n",
    "\n",
    "我们构建一个嵌套结构,这样才能展示`attrgetter`如何处理包含点号的属性名.\n",
    "\n",
    "定义一个`namedtuple`,名为`metro_data`,演示使用`attrgetter`处理它"
   ]
  },
  {
   "cell_type": "code",
   "execution_count": 23,
   "metadata": {},
   "outputs": [
    {
     "data": {
      "text/plain": [
       "Metropolis(name='Tokyo', cc='JP', pop=36.933, coord=LatLong(lat=35.689722, long=139.691667))"
      ]
     },
     "execution_count": 23,
     "metadata": {},
     "output_type": "execute_result"
    }
   ],
   "source": [
    "from collections import namedtuple\n",
    "LatLong = namedtuple('LatLong', 'lat long')\n",
    "Metropolis = namedtuple('Metropolis', 'name cc pop coord')\n",
    "metro_areas = [Metropolis(name, cc, pop, LatLong(lat, long)) for name, cc, pop, (lat, long) in metro_data]\n",
    "metro_areas[0]"
   ]
  },
  {
   "cell_type": "code",
   "execution_count": 24,
   "metadata": {},
   "outputs": [
    {
     "data": {
      "text/plain": [
       "35.689722"
      ]
     },
     "execution_count": 24,
     "metadata": {},
     "output_type": "execute_result"
    }
   ],
   "source": [
    "metro_areas[0].coord.lat"
   ]
  },
  {
   "cell_type": "code",
   "execution_count": 25,
   "metadata": {},
   "outputs": [],
   "source": [
    "from operator import attrgetter"
   ]
  },
  {
   "cell_type": "code",
   "execution_count": 26,
   "metadata": {},
   "outputs": [],
   "source": [
    "name_lat = attrgetter('name', 'coord.lat')"
   ]
  },
  {
   "cell_type": "code",
   "execution_count": 27,
   "metadata": {},
   "outputs": [
    {
     "name": "stdout",
     "output_type": "stream",
     "text": [
      "('Sao Paulo', -23.547778)\n",
      "('Mexico City', 19.433333)\n",
      "('Delhi NCR', 28.613889)\n",
      "('Tokyo', 35.689722)\n",
      "('New York-Newark', 40.808611)\n"
     ]
    }
   ],
   "source": [
    "for city in sorted(metro_areas, key=attrgetter('coord.lat')):\n",
    "    print(name_lat(city))"
   ]
  },
  {
   "cell_type": "markdown",
   "metadata": {},
   "source": [
    "具体符号如下:\n",
    "\n",
    "Operation\t|Syntax\t|Function\n",
    "---|---|---\n",
    "Addition\t|a + b\t|add(a, b)\n",
    "Concatenation\t|seq1 + seq2\t|concat(seq1, seq2)\n",
    "Containment Test\t|obj in seq\t|contains(seq, obj)\n",
    "Division\t|a / b|\ttruediv(a, b)\n",
    "Division\t|a // b\t|floordiv(a, b)\n",
    "Bitwise And\t|a & b|\t`and_(a, b)`\n",
    "Bitwise Exclusive Or\t|a ^ b|\txor(a, b)\n",
    "Bitwise Inversion|\t~ a\t|invert(a)\n",
    "Bitwise Or\t|`a l b`\t|`or_(a, b)`\n",
    "Exponentiation\t|`a ** b`\t|`pow(a, b)`\n",
    "Identity\t|a is b\t|`is_(a, b)`\n",
    "Identity\t|a is not b\t|`is_not(a, b)`\n",
    "Indexed Assignment\t|obj[k] = v\t|setitem(obj, k, v)\n",
    "Indexed Deletion\t|del obj[k]\t|delitem(obj, k)\n",
    "Indexing\t|obj[k]\t|getitem(obj, k)\n",
    "Left Shift\t|a << b|\tlshift(a, b)\n",
    "Modulo|\ta % b\t|mod(a, b)\n",
    "Multiplication\t|a * b|\tmul(a, b)\n",
    "Matrix Multiplication|\ta @ b|\tmatmul(a, b)\n",
    "Right Shift|\ta >> b\t|rshift(a, b)\n",
    "Slice Assignment\t|seq[i:j] = values|\tsetitem(seq, slice(i, j), values)\n",
    "Slice Deletion\t|del seq[i:j]|\tdelitem(seq, slice(i, j))\n",
    "Slicing\t|seq[i:j]\t|getitem(seq, slice(i, j))\n",
    "String Formatting\t|s % obj\t|mod(s, obj)\n",
    "Subtraction\t|a - b\t|sub(a, b)\n",
    "Truth Test\t|obj\t|truth(obj)\n",
    "Ordering\t|a < b\t|lt(a, b)\n",
    "Ordering\t|a <= b\t|le(a, b)\n",
    "Equality\t|a == b\t|eq(a, b)\n",
    "Difference\t|a != b\t|ne(a, b)\n",
    "Ordering\t|a >= b\t|ge(a, b)\n",
    "Ordering\t|a > b\t|gt(a, b)\n",
    "Matrix Multiplication|\ta @ b|\tmatmul(a, b)\n",
    "Negation (Arithmetic)\t|a|neg(a)\n",
    "Negation (Logical)\t|not a\t|`not_(a)`\n",
    "Positive\t|a|pos(a)"
   ]
  },
  {
   "cell_type": "markdown",
   "metadata": {},
   "source": [
    "## 使用`functools.partial`冻结参数\n",
    "\n",
    "`functools.partial`这个高阶函数用于部分应用一个函数.部分应用是指,基于一个函数创建一个新的可调用对象,把原函数的某些参数固定.使用这个函数可以把接受一个或多个参数的函数改编成需要回调的`API`,这样参数更少.\n",
    "`functools.partialmethod`函数的作用与`partial`一样,不过是用于处理方法的.我们以`partial`来作为例子"
   ]
  },
  {
   "cell_type": "code",
   "execution_count": 28,
   "metadata": {},
   "outputs": [
    {
     "data": {
      "text/plain": [
       "21"
      ]
     },
     "execution_count": 28,
     "metadata": {},
     "output_type": "execute_result"
    }
   ],
   "source": [
    "from operator import mul\n",
    "from functools import partial \n",
    "triple = partial(mul, 3) \n",
    "triple(7)"
   ]
  },
  {
   "cell_type": "code",
   "execution_count": 29,
   "metadata": {},
   "outputs": [
    {
     "data": {
      "text/plain": [
       "[3, 6, 9, 12, 15, 18, 21, 24, 27]"
      ]
     },
     "execution_count": 29,
     "metadata": {},
     "output_type": "execute_result"
    }
   ],
   "source": [
    "list(map(triple, range(1, 10)))"
   ]
  },
  {
   "cell_type": "markdown",
   "metadata": {},
   "source": [
    "使用`unicode.normalize`函数再举个例子,这个示例更有实际意义.如果处理多国语言编写的文本,在比较或排序之前可能会想使用`unicode.normalize('NFC', s)`处理所有字符串`s`如果经常这么做,可以定义一个`nfc`函数."
   ]
  },
  {
   "cell_type": "code",
   "execution_count": 30,
   "metadata": {},
   "outputs": [
    {
     "data": {
      "text/plain": [
       "('café', 'café')"
      ]
     },
     "execution_count": 30,
     "metadata": {},
     "output_type": "execute_result"
    }
   ],
   "source": [
    "import unicodedata\n",
    "import functools\n",
    "nfc = functools.partial(unicodedata.normalize, 'NFC')\n",
    "s1 = 'café'\n",
    "s2 = 'cafe\\u0301'\n",
    "s1, s2"
   ]
  },
  {
   "cell_type": "code",
   "execution_count": 31,
   "metadata": {},
   "outputs": [
    {
     "data": {
      "text/plain": [
       "True"
      ]
     },
     "execution_count": 31,
     "metadata": {},
     "output_type": "execute_result"
    }
   ],
   "source": [
    "s1 == s2"
   ]
  },
  {
   "cell_type": "code",
   "execution_count": 32,
   "metadata": {},
   "outputs": [
    {
     "data": {
      "text/plain": [
       "True"
      ]
     },
     "execution_count": 32,
     "metadata": {},
     "output_type": "execute_result"
    }
   ],
   "source": [
    "nfc(s1) == nfc(s2)"
   ]
  }
 ],
 "metadata": {
  "kernelspec": {
   "display_name": "Python 3 (ipykernel)",
   "language": "python",
   "name": "python3"
  },
  "language_info": {
   "codemirror_mode": {
    "name": "ipython",
    "version": 3
   },
   "file_extension": ".py",
   "mimetype": "text/x-python",
   "name": "python",
   "nbconvert_exporter": "python",
   "pygments_lexer": "ipython3",
   "version": "3.10.11"
  }
 },
 "nbformat": 4,
 "nbformat_minor": 4
}
