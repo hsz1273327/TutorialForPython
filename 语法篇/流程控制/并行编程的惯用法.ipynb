{
 "cells": [
  {
   "cell_type": "markdown",
   "metadata": {},
   "source": [
    "# 并行编程的惯用法\n",
    "\n",
    "\n",
    "人们通常认为并行等同于多核,但现代计算机在不同层次上都使用了并行技术.比如说,单核的运行速度现今仍能每年不断提升的原因是--单核包含的晶体管数量,如同摩尔定律预测的那样变得越来越多,而单核在位级和指令级两个层次上都能够并行地使用这些晶体管资源.\n",
    "\n",
    "+ 位级(bit-level)并行\n",
    "\n",
    "    为什么32位计算机的运行速度比8位计算机更快？因为并行.对于两个32位数的加法,8位计算机必须进行多次8位计算,而32位计算机可以一步完成,即并行地处理32位数的4字节.\n",
    "\n",
    "    计算机的发展经历了8位、16位、32位,现在正处于64位时代.然而由位升级带来的性能改善是存在瓶颈的,这也正是短期内我们无法步入128位时代的原因.\n",
    "\n",
    "+ 指令级(instruction-level)并行\n",
    "\n",
    "    现代CPU的并行度很高,其中使用的技术包括流水线、乱序执行和猜测执行等.\n",
    "\n",
    "    程序员通常可以不关心处理器内部并行的细节,因为尽管处理器内部的并行度很高,但是经过精心设计,从外部看上去所有处理都像是串行的.\n",
    "\n",
    "    而这种\"看上去像串行\"的设计逐渐变得不适用.处理器的设计者们为单核提升速度变得越来越困难.进入多核时代,我们必须面对的情况是--无论是表面上还是实质上,指令都不再串行执行了.\n",
    "\n",
    "+ 数据级(data)并行\n",
    "\n",
    "    数据级并行(也称为\"单指令多数据\",SIMD)架构,可以并行地在大量数据上施加同一操作.这并不适合解决所有问题,但在适合的场景却可以大展身手.\n",
    "\n",
    "    图像处理就是一种适合进行数据级并行的场景.比如为了增加图片亮度就需要增加每一个像素的亮度.现代GPU(图形处理器)也因图像处理的特点而演化成了极其强大的数据并行处理器.\n",
    "\n",
    "+ 任务级(task-level)并行\n",
    "\n",
    "    终于来到了大家所认为的并行形式——多处理器.从程序员的角度来看,多处理器架构最明显的分类特征是其内存模型(共享内存模型或分布式内存模型).\n",
    "\n",
    "    + 对于共享内存的多处理器系统,每个处理器都能访问整个内存,处理器之间的通信主要通过内存进行.\n",
    "\n",
    "    + 对于分布式内存的多处理器系统,每个处理器都有自己的内存,处理器之间的通信主要通过网络进行.\n",
    "\n",
    "    通过内存通信比通过网络通信更简单更快速,所以用共享内存编程往往更容易.然而当处理器个数逐渐增多,共享内存就会遭遇性能瓶颈——此时不得不转向分布式内存.如果要开发一个容错系统,就要使用多台计算机以规避硬件故障对系统的影响,此时也必须借助于分布式内存."
   ]
  },
  {
   "cell_type": "markdown",
   "metadata": {},
   "source": [
    "## 并行方式如何选择\n",
    "\n",
    "首先python的多线程和协程都是共享内存式的,而多进程虽然是在同一机器上,但各个进程间并不共享内存,因此是分布式的.\n",
    "\n",
    "看起来多进程,多线程,协程都是以并行的方式运行的,那么我们该如何选择使用什么技术呢?\n",
    "\n",
    "+ 首先我们可以简单的通过分析目标功能来选择,如果我们的项目主要是计算密集型的,比如是并行计算多个数据是否是质数这类,那么没得选,只有多进程才可以做到最大化利用cpu资源,另外两个都只能跑满一个cpu核心.\n",
    "\n",
    "+ 接着就是主要是io操作的任务了,io密集型任务首选当然是协程,也只有协程可以搞定[10k](http://www.kegel.com/c10k.html)问题,但python的默认I/O多是同步I/O,因此在所需依赖无法满足的情况下只能使用多线程方式替代.\n",
    "\n",
    "协程和多线程都最多跑满一个核心,但其机制是完全不一样的,协程是用户组织代码,因此是写成顺序执行的异步执行,说白了还是在顺序执行,只是线程运行哪段代码会在协程间跳转执行,打个比方有点像拉链,只要有一个齿坏了,整个过程就会卡住.\n",
    "\n",
    "但多线程则完全不同,一个线程卡死了并不会影响其他线程."
   ]
  },
  {
   "cell_type": "markdown",
   "metadata": {},
   "source": [
    "## 并行编程的常用同步机制(原语)\n",
    "\n",
    "并行程序由于并行会带来对资源的争抢从而影响执行的正确性,因此需要在用到共享资源时进行同步,从而在局部位置降低并行程度,避免争抢资源以确保执行正确.同步意味着降低并行度,自然就会影响执行效率,因此同步机制可以理解为用效率换正确执行.\n",
    "\n",
    "同步机制的具体实现被称为同步原语,python的每一种并行机制都包含多种同步原语,这些原语使用思路上是一致的,接口也基本一致,只是使用的模块会有些许不同."
   ]
  },
  {
   "cell_type": "markdown",
   "metadata": {},
   "source": [
    "### 信号量Semaphore\n",
    "\n",
    "信号量同步基于内部计数器,每调用一次acquire(),计数器减1;每调用一次release(),计数器加1.计数器的值永远不会小于0.当计数器为0时.acquire()调用被阻塞,直到其他线程来调用release().Semaphore支持上下文管理协议\n",
    "\n",
    "Semaphore的接口有两个:\n",
    "\n",
    "+ `acquire()` 获取一个信号量,协程中这个方法是一个协程\n",
    "+ `release()` 释放一个信号量\n",
    "+ **`locked()` 协程中独有,用来判断是否被锁定**\n",
    "\n",
    "\n",
    "信号量有两种:\n",
    "\n",
    "+ Semaphore \n",
    "\n",
    "    标准信号量\n",
    "    \n",
    "+ BoundedSemaphore\n",
    "\n",
    "    有界信号量,它会检查内部计数器的值,并保证它不会大于初始值,如果超了,就引发一个`ValueError`\n",
    "    \n",
    "多数情况下,semaphore用于控制并行量,如果`semaphore`被`release()`过多次,这意味着存在bug.\n",
    "\n",
    "\n",
    "信号量在线程,进程,协程中的使用的模块并不一样:\n",
    "\n",
    "+ 协程--`asynico.Semaphore(value=1)`\n",
    "\n",
    "+ 线程--`threading.Semaphore(value=1)`\n",
    "\n",
    "+ 进程--`multiprocessing.Semaphore([value])`"
   ]
  },
  {
   "cell_type": "markdown",
   "metadata": {},
   "source": [
    "> 协程版本"
   ]
  },
  {
   "cell_type": "code",
   "execution_count": 53,
   "metadata": {
    "tags": []
   },
   "outputs": [
    {
     "name": "stdout",
     "output_type": "stream",
     "text": [
      "2 acquire sema\n",
      "2 release sema\n",
      "3 acquire sema\n",
      "3 release sema\n",
      "4 acquire sema\n",
      "4 release sema\n",
      "0 acquire sema\n",
      "0 release sema\n",
      "1 acquire sema\n",
      "1 release sema\n"
     ]
    }
   ],
   "source": [
    "import time\n",
    "import asyncio\n",
    "from random import random\n",
    "\n",
    "sema = asyncio.Semaphore(3)\n",
    "\n",
    "async def foo(cid):\n",
    "    async with sema:\n",
    "        print(f'{cid} acquire sema')\n",
    "        wt = random() * 2\n",
    "        time.sleep(wt)\n",
    "    print(f'{cid} release sema')\n",
    "\n",
    "async def main():\n",
    "    for task in asyncio.as_completed([foo(num) for num in range(5)]):\n",
    "        await task\n",
    "\n",
    "await main()"
   ]
  },
  {
   "cell_type": "markdown",
   "metadata": {},
   "source": [
    "> 多线程版本"
   ]
  },
  {
   "cell_type": "code",
   "execution_count": 55,
   "metadata": {
    "tags": []
   },
   "outputs": [
    {
     "name": "stdout",
     "output_type": "stream",
     "text": [
      "0 acquire sema1 acquire sema\n",
      "2 acquire sema\n",
      "\n",
      "0 release sema3 acquire sema\n",
      "\n",
      "2 release sema\n",
      "4 acquire sema\n",
      "1 release sema\n",
      "3 release sema\n",
      "4 release sema\n"
     ]
    }
   ],
   "source": [
    "import time\n",
    "from random import random\n",
    "from threading import Thread, Semaphore\n",
    "sema = Semaphore(3)\n",
    "def foo(tid):\n",
    "    with sema:\n",
    "        print(f'{tid} acquire sema')\n",
    "        wt = random() * 2\n",
    "        time.sleep(wt)\n",
    "    print(f'{tid} release sema')\n",
    "\n",
    "def main():\n",
    "    threads = []\n",
    "    for i in range(5):\n",
    "        t = Thread(target=foo, args=(i,))\n",
    "        threads.append(t)\n",
    "        t.start()\n",
    "    for t in threads:\n",
    "        t.join()\n",
    "\n",
    "main()"
   ]
  },
  {
   "cell_type": "markdown",
   "metadata": {},
   "source": [
    "> 多进程版本"
   ]
  },
  {
   "cell_type": "code",
   "execution_count": 56,
   "metadata": {
    "tags": []
   },
   "outputs": [
    {
     "name": "stdout",
     "output_type": "stream",
     "text": [
      "Overwriting src/semaphore.py\n"
     ]
    }
   ],
   "source": [
    "%%writefile src/semaphore.py\n",
    "from multiprocessing import Process, Semaphore\n",
    "\n",
    "def foo(tid,sema):\n",
    "    import time\n",
    "    from random import random\n",
    "    with sema:\n",
    "        print(f'{tid} acquire sema')\n",
    "        wt = random() * 2\n",
    "        time.sleep(wt)\n",
    "    print(f'{tid} release sema')\n",
    "    \n",
    "if __name__ == \"__main__\":\n",
    "    sema = Semaphore(3)\n",
    "    processes = []\n",
    "    for i in range(5):\n",
    "        t = Process(target=foo, args=(i,sema))\n",
    "        processes.append(t)\n",
    "\n",
    "    for t in processes:     \n",
    "        t.start()\n",
    "    for t in processes:\n",
    "        t.join()\n"
   ]
  },
  {
   "cell_type": "code",
   "execution_count": 57,
   "metadata": {
    "tags": []
   },
   "outputs": [
    {
     "name": "stdout",
     "output_type": "stream",
     "text": [
      "0 acquire sema\n",
      "1 acquire sema\n",
      "3 acquire sema\n",
      "0 release sema\n",
      "2 acquire sema\n",
      "2 release sema\n",
      "4 acquire sema\n",
      "3 release sema\n",
      "4 release sema\n",
      "1 release sema\n"
     ]
    }
   ],
   "source": [
    "!python src/semaphore.py"
   ]
  },
  {
   "cell_type": "markdown",
   "metadata": {},
   "source": [
    "### 锁Lock\n",
    "\n",
    "Lock也可以叫做互斥锁,其实相当于信号量为1.\n",
    "\n",
    "在多线程中锁的作用是用于锁定读写,以确认同一个资源同一时间只能被一个操作访问.\n",
    "\n",
    "python中锁有两种\n",
    "\n",
    "+ Lock\n",
    "\n",
    "    标准锁\n",
    "\n",
    "+ RLock\n",
    "\n",
    "    可重入锁,可以由同一个过程多次获取.在内部,除了原始锁使用的锁定/解锁状态之外,它还使用\"拥有过程\"和\"递归级别\"的概念.在锁定状态下,某些过程拥有锁;在解锁状态下,没有线程拥有它.\n",
    "    \n",
    "锁在线程,进程,协程中的使用的模块并不一样:\n",
    "\n",
    "+ 协程--`asyncio.Lock()`\n",
    "\n",
    "+ 线程--`threading.Lock()`/`threading.RLock()`\n",
    "\n",
    "+ 进程--`multiprocessing.Lock()`/`multiprocessing.RLock()`\n",
    "    \n",
    "通常锁并不会单独使用会绑定全局变量或其他公共资源.在并行编程中为了防止不同的过程(线程/进程/协程)同时对一个公用的资源进行修改,我们就会为这个资源设置对应的锁.\n",
    "\n",
    "我们先看一个不加锁的例子:"
   ]
  },
  {
   "cell_type": "code",
   "execution_count": 6,
   "metadata": {
    "tags": []
   },
   "outputs": [
    {
     "name": "stdout",
     "output_type": "stream",
     "text": [
      "9\n"
     ]
    }
   ],
   "source": [
    "import time\n",
    "from threading import Thread\n",
    "\n",
    "value = 0\n",
    "\n",
    "def getlock():\n",
    "    global value\n",
    "    new = value + 1\n",
    "    time.sleep(0.001)  # 使用sleep让线程有机会切换\n",
    "    value = new\n",
    "    \n",
    "threads = []\n",
    "for i in range(100):\n",
    "    t = Thread(target=getlock)\n",
    "    t.start()\n",
    "    threads.append(t)\n",
    "for t in threads:\n",
    "    t.join()\n",
    "print(value)\n"
   ]
  },
  {
   "cell_type": "code",
   "execution_count": 7,
   "metadata": {
    "scrolled": true,
    "tags": []
   },
   "outputs": [
    {
     "name": "stdout",
     "output_type": "stream",
     "text": [
      "100\n"
     ]
    }
   ],
   "source": [
    "import time\n",
    "from threading import Thread, Lock\n",
    "\n",
    "value = 0\n",
    "lock = Lock()\n",
    "\n",
    "def getlock():\n",
    "    global value\n",
    "    with lock:\n",
    "        new = value + 1\n",
    "        time.sleep(0.001)\n",
    "        value = new\n",
    "\n",
    "threads = []\n",
    "for i in range(100):\n",
    "    t = Thread(target=getlock)\n",
    "    t.start()\n",
    "    threads.append(t)\n",
    "for t in threads:\n",
    "    t.join()\n",
    "print(value)"
   ]
  },
  {
   "cell_type": "markdown",
   "metadata": {},
   "source": [
    "不加锁的情况下,结果会远远的小于100.那我们加上互斥锁看看"
   ]
  },
  {
   "cell_type": "markdown",
   "metadata": {},
   "source": [
    "锁通常都用于限制共享资源的访问,比如多个流程处理同一个文件,就需要加锁来限制\n",
    "\n",
    "> 协程版本"
   ]
  },
  {
   "cell_type": "code",
   "execution_count": 17,
   "metadata": {
    "tags": []
   },
   "outputs": [
    {
     "name": "stdout",
     "output_type": "stream",
     "text": [
      "Lock acquired via with 4\n",
      "Lock acquired via with 0\n",
      "Lock acquired via with 2\n",
      "Lock acquired via with 1\n",
      "Lock acquired via with 3\n"
     ]
    }
   ],
   "source": [
    "import asyncio\n",
    "import aiofiles\n",
    "\n",
    "lock = asyncio.Lock()\n",
    "\n",
    "async def worker_with(lock, f, cid):  \n",
    "    async with lock:  \n",
    "        async with aiofiles.open(f,\"a+\") as fs:\n",
    "            await fs.write(f'Lock acquired via with {cid}\\n')\n",
    "        print(f\"Lock acquired via with {cid}\")\n",
    "\n",
    "async def main():\n",
    "    f = \"source/file.txt\"\n",
    "    async with aiofiles.open(f,\"w\") as fs:\n",
    "        await fs.write(\"\")\n",
    "        \n",
    "    for task in asyncio.as_completed([worker_with(lock, f,i) for i in range(5)]):\n",
    "        await task\n",
    "        \n",
    "await main()"
   ]
  },
  {
   "cell_type": "markdown",
   "metadata": {},
   "source": [
    "> 多线程版本"
   ]
  },
  {
   "cell_type": "code",
   "execution_count": 14,
   "metadata": {
    "tags": []
   },
   "outputs": [
    {
     "name": "stdout",
     "output_type": "stream",
     "text": [
      "Lock acquired via with 0\n",
      "Lock acquired via with 1\n",
      "Lock acquired via with 2\n",
      "Lock acquired via with 3\n",
      "Lock acquired via with 4\n"
     ]
    }
   ],
   "source": [
    "import sys\n",
    "import threading\n",
    "  \n",
    "def worker_with(lock, f, tid):  \n",
    "    with lock:  \n",
    "        with open(f,\"a+\") as fs:\n",
    "            fs.write(f'Lock acquired via with {tid}\\n')\n",
    "        print(f\"Lock acquired via with {tid}\")\n",
    "\n",
    "def main():\n",
    "    f = \"source/file.txt\"\n",
    "    with open(f,\"w\") as fs:\n",
    "        fs.write(\"\")\n",
    "    lock = threading.Lock()  \n",
    "    threads = []\n",
    "    for i in range(5):\n",
    "        t = threading.Thread(target=worker_with, args=(lock, f,i))\n",
    "        threads.append(t)\n",
    "    for t in threads:     \n",
    "        t.start()\n",
    "    for t in threads:\n",
    "        t.join()\n",
    "\n",
    "main()"
   ]
  },
  {
   "cell_type": "markdown",
   "metadata": {},
   "source": [
    "> 多进程版本\n",
    "\n",
    "而针对于多进程,锁同样起到一个全局信号的作用,比如多个进程处理同一个文件,就需要加锁来限制"
   ]
  },
  {
   "cell_type": "code",
   "execution_count": 11,
   "metadata": {
    "tags": []
   },
   "outputs": [
    {
     "name": "stdout",
     "output_type": "stream",
     "text": [
      "Overwriting src/lock.py\n"
     ]
    }
   ],
   "source": [
    "%%writefile src/lock.py\n",
    "import multiprocessing  \n",
    "import sys  \n",
    "  \n",
    "def worker_with(lock, f, pid):  \n",
    "    with lock:  \n",
    "        with open(f,\"a+\") as fs:\n",
    "            fs.write(f'Lock acquired via with {pid}\\n')\n",
    "        print(f\"Lock acquired via with {pid}\")\n",
    "\n",
    "if __name__ == '__main__':\n",
    "    f = \"source/file.txt\"\n",
    "    with open(f,\"w\") as fs:\n",
    "        fs.write(\"\")\n",
    "    lock = multiprocessing.Lock()  \n",
    "    processes = []\n",
    "    for i in range(5):\n",
    "        t = multiprocessing.Process(target=worker_with, args=(lock, f,i))\n",
    "        processes.append(t)\n",
    "    for t in processes:     \n",
    "        t.start()\n",
    "    for t in processes:\n",
    "        t.join()"
   ]
  },
  {
   "cell_type": "code",
   "execution_count": 12,
   "metadata": {
    "tags": []
   },
   "outputs": [
    {
     "name": "stdout",
     "output_type": "stream",
     "text": [
      "Lock acquired via with 0\n",
      "Lock acquired via with 2\n",
      "Lock acquired via with 1\n",
      "Lock acquired via with 4\n",
      "Lock acquired via with 3\n"
     ]
    }
   ],
   "source": [
    "!python src/lock.py"
   ]
  },
  {
   "cell_type": "markdown",
   "metadata": {},
   "source": [
    "### 事件\n",
    "\n",
    "一个过程发送/传递事件,所谓事件是指的一个保存标记状态的对象,如果内部标记为True则表示事件发生了,反之就是没发生\n",
    "\n",
    "事件的接口包括:\n",
    "\n",
    "+ `clear()` 事件内部标记为`False`\n",
    "\n",
    "+ `is_set()` 返回事件的内部标记\n",
    "\n",
    "+ `set()` 调用则设置内部标记为`True`\n",
    "\n",
    "+ `wait()` 等待事件被标记为`True`,协程中该接口为协程.\n",
    "\n",
    "事件在线程,进程,协程中的使用的模块并不一样:\n",
    "\n",
    "+ 协程--`asyncio.Event()`\n",
    "\n",
    "+ 线程--`threading.Event()`\n",
    "\n",
    "+ 进程--`multiprocessing.Event()`\n",
    "\n",
    "\n",
    "信号量通常用于传递信号触发特定操作.由于一个事件的变化所有的`wait`都可以感知,因此也是程序内部广播的最简单实现方式.一般是拉一个旁路的控制协程/线程/进程阻塞在那边等待特定事件被设置.一旦被设置则会进入到后续逻辑执行特定操作,比如控制主流程启动,暂停等.我们用<生产者/消费者>模型的例子.\n"
   ]
  },
  {
   "cell_type": "markdown",
   "metadata": {},
   "source": [
    "> 协程版本"
   ]
  },
  {
   "cell_type": "code",
   "execution_count": 60,
   "metadata": {
    "tags": []
   },
   "outputs": [
    {
     "name": "stdout",
     "output_type": "stream",
     "text": [
      "p: wait 2s\n",
      "p: Making resource available\n",
      "c0: Resource is available to consumer\n",
      "c1: Resource is available to consumer\n",
      "c2: Resource is available to consumer\n",
      "c3: Resource is available to consumer\n"
     ]
    }
   ],
   "source": [
    "import random\n",
    "import asyncio\n",
    "\n",
    "CONSUMER_COUNT = 4\n",
    "\n",
    "async def consumer(evt):\n",
    "    t = asyncio.current_task()\n",
    "    await evt.wait()  # wait()方法创建了一个名为waiter的锁，\n",
    "    print(f'{t.get_name()}: Resource is available to consumer')\n",
    "        \n",
    "async def producer(evt):\n",
    "    t = asyncio.current_task()\n",
    "    print(f'{t.get_name()}: wait 2s')\n",
    "    await asyncio.sleep(2)\n",
    "    print(f'{t.get_name()}: Making resource available')\n",
    "    evt.set()  # 设置事件唤醒消费者\n",
    "        \n",
    "async def main():\n",
    "    evt = asyncio.Event()\n",
    "    cors = []\n",
    "    for i in range(CONSUMER_COUNT):\n",
    "        c = asyncio.create_task(consumer(evt), name=f'c{i}')\n",
    "        cors.append(c)\n",
    "    \n",
    "    p = asyncio.create_task(producer(evt), name='p')\n",
    "    cors.append(p)\n",
    "    for task in asyncio.as_completed(cors):\n",
    "        await task\n",
    "\n",
    "await main()"
   ]
  },
  {
   "cell_type": "markdown",
   "metadata": {},
   "source": [
    "> 多线程版本"
   ]
  },
  {
   "cell_type": "code",
   "execution_count": 66,
   "metadata": {
    "tags": []
   },
   "outputs": [
    {
     "name": "stdout",
     "output_type": "stream",
     "text": [
      "p: wait 2s\n",
      "p: Making resource available\n",
      "c1: Resource is available to consumer\n",
      "c3: Resource is available to consumer\n",
      "c2: Resource is available to consumer\n",
      "c0: Resource is available to consumer\n"
     ]
    }
   ],
   "source": [
    "import time\n",
    "import threading\n",
    "from random import randint\n",
    "\n",
    "TIMEOUT = 3\n",
    "CONSUMER_COUNT = 4\n",
    "\n",
    "def consumer(evt):\n",
    "    t = threading.current_thread()\n",
    "    evt.wait(TIMEOUT)\n",
    "    print(f'{t.name}: Resource is available to consumer')\n",
    "    \n",
    "def producer(evt):\n",
    "    t = threading.current_thread()\n",
    "    print(f'{t.name}: wait 2s')\n",
    "    time.sleep(2)\n",
    "    print(f'{t.name}: Making resource available')\n",
    "    evt.set()  # 设置事件唤醒消费者\n",
    "    \n",
    "def main():\n",
    "    evt = threading.Event()\n",
    "    threads = []\n",
    "    for i in range(CONSUMER_COUNT):\n",
    "        t = threading.Thread(name=f\"c{i}\", target=consumer, args=(evt,))\n",
    "        t.start()\n",
    "        threads.append(t)\n",
    "    p = threading.Thread(name='p', target=producer, args=(evt,))\n",
    "    p.start()\n",
    "    threads.append(p)\n",
    "    for t in threads:\n",
    "        t.join()\n",
    "        \n",
    "main()"
   ]
  },
  {
   "cell_type": "markdown",
   "metadata": {},
   "source": [
    "> 多进程版本"
   ]
  },
  {
   "cell_type": "code",
   "execution_count": 73,
   "metadata": {
    "tags": []
   },
   "outputs": [
    {
     "name": "stdout",
     "output_type": "stream",
     "text": [
      "Overwriting src/event.py\n"
     ]
    }
   ],
   "source": [
    "%%writefile src/event.py\n",
    "import time\n",
    "import multiprocessing \n",
    "from random import randint\n",
    "\n",
    "CONSUMER_COUNT = 4\n",
    "\n",
    "def consumer(evt):\n",
    "    TIMEOUT = 3\n",
    "    t = multiprocessing.current_process()\n",
    "    evt.wait(TIMEOUT)\n",
    "    print(f'{t.name}: Resource is available to consumer')\n",
    "        \n",
    "def producer(evt):\n",
    "    t = multiprocessing.current_process()\n",
    "    print(f'{t.name}: wait 2s')\n",
    "    time.sleep(2)\n",
    "    print(f'{t.name}: Making resource available')\n",
    "    evt.set()  # 设置事件唤醒消费者\n",
    "\n",
    "\n",
    "if __name__ == '__main__':\n",
    "    evt = multiprocessing.Event() \n",
    "    processes = []\n",
    "    for i in range(CONSUMER_COUNT):\n",
    "        t = multiprocessing.Process(name=f\"c{i}\", target=consumer, args=(evt,))\n",
    "        t.start()\n",
    "        processes.append(t)\n",
    "    p = multiprocessing.Process(name='p', target=producer, args=(evt,))\n",
    "    p.start()\n",
    "    processes.append(p)\n",
    "    for t in processes:\n",
    "        t.join()"
   ]
  },
  {
   "cell_type": "code",
   "execution_count": 74,
   "metadata": {
    "tags": []
   },
   "outputs": [
    {
     "name": "stdout",
     "output_type": "stream",
     "text": [
      "p: wait 2s\n",
      "p: Making resource available\n",
      "c3: Resource is available to consumer\n",
      "c1: Resource is available to consumer\n",
      "c2: Resource is available to consumer\n",
      "c0: Resource is available to consumer\n"
     ]
    }
   ],
   "source": [
    "!python src/event.py"
   ]
  },
  {
   "cell_type": "markdown",
   "metadata": {},
   "source": [
    "### 条件Condition\n",
    "\n",
    "条件用于信号通信,它在本质上合并了`Event`和`Lock`的功能.初始化时也可以传入一个锁对象,因此多个Condition可以共用同一个锁.除了拥有锁的所有接口外,还有接口:\n",
    "\n",
    "\n",
    "+ `notify(n=1)` 释放出通知,让使用相同Condition对象的几个过程知道这个条件已被激活\n",
    "\n",
    "+ `notify_all()` 释放出通知,让使用相同Condition对象的所有过程知道这个条件已被激活\n",
    "\n",
    "+ `wait()` 等待使用相同Condition对象的过程的通知.\n",
    "\n",
    "+ `wait_for(predicate)`相当于\n",
    "    ```python\n",
    "    while not predicate():\n",
    "        cv.wait()\n",
    "    ```\n",
    "\n",
    "条件在线程,进程,协程中的使用的模块并不一样:\n",
    "\n",
    "+ 协程--`asyncio.Condition(lock=None)`\n",
    "\n",
    "+ 线程--`threading.Condition(lock=None)`\n",
    "\n",
    "+ 进程--`multiprocessing.Condition([lock])`\n",
    "\n",
    "\n",
    "通常用法是一个过程等待特定条件,而另一个过程发出特定条件满足的信号,和事件不同的点在于条件可以控制让多少监听者获得信号.\n",
    "\n",
    "最好说明的例子就是<生产者/多消费者>模型:"
   ]
  },
  {
   "cell_type": "markdown",
   "metadata": {},
   "source": [
    "> 协程版本"
   ]
  },
  {
   "cell_type": "code",
   "execution_count": 43,
   "metadata": {
    "tags": []
   },
   "outputs": [
    {
     "name": "stdout",
     "output_type": "stream",
     "text": [
      "p: wait 2s\n",
      "p: Making resource available\n",
      "p: wait 2s\n",
      "c0: Resource is available to consumer\n",
      "p: Making resource available\n",
      "p: wait 2s\n",
      "c1: Resource is available to consumer\n",
      "p: Making resource available\n",
      "p: wait 2s\n",
      "c2: Resource is available to consumer\n",
      "p: Making resource available\n",
      "c3: Resource is available to consumer\n"
     ]
    }
   ],
   "source": [
    "import random\n",
    "import asyncio\n",
    "\n",
    "\n",
    "CONSUMER_COUNT = 4\n",
    "\n",
    "async def consumer(cond):\n",
    "    t = asyncio.current_task()\n",
    "    async with cond:\n",
    "        await cond.wait()  # wait()方法创建了一个名为waiter的锁，\n",
    "        #并且设置锁的状态为locked。这个waiter锁用于线程间的通讯\n",
    "        print(f'{t.get_name()}: Resource is available to consumer')\n",
    "        \n",
    "async def producer(cond):\n",
    "    t = asyncio.current_task()\n",
    "    for i in range(CONSUMER_COUNT):\n",
    "        # 一次唤醒一个消费者\n",
    "        print(f'{t.get_name()}: wait 2s')\n",
    "        await asyncio.sleep(2)\n",
    "        async with cond:\n",
    "            print(f'{t.get_name()}: Making resource available')\n",
    "            cond.notify(1)  # 释放waiter锁，唤醒消费者\n",
    "        \n",
    "        \n",
    "async def main():\n",
    "    condition = asyncio.Condition()\n",
    "    cors = []\n",
    "    for i in range(CONSUMER_COUNT):\n",
    "        c = asyncio.create_task(consumer(condition), name=f'c{i}')\n",
    "        cors.append(c)\n",
    "    \n",
    "    p = asyncio.create_task(producer(condition), name='p')\n",
    "    cors.append(p)\n",
    "    for task in asyncio.as_completed(cors):\n",
    "        await task\n",
    "\n",
    "await main()"
   ]
  },
  {
   "cell_type": "markdown",
   "metadata": {},
   "source": [
    "> 线程版本"
   ]
  },
  {
   "cell_type": "code",
   "execution_count": 46,
   "metadata": {
    "tags": []
   },
   "outputs": [
    {
     "name": "stdout",
     "output_type": "stream",
     "text": [
      "p: wait 2s\n",
      "p: Making resource available\n",
      "p: wait 2s\n",
      "c0: Resource is available to consumer\n",
      "p: Making resource available\n",
      "p: wait 2s\n",
      "c1: Resource is available to consumer\n",
      "p: Making resource available\n",
      "p: wait 2s\n",
      "c2: Resource is available to consumer\n",
      "p: Making resource available\n",
      "c3: Resource is available to consumer\n"
     ]
    }
   ],
   "source": [
    "import time\n",
    "import threading\n",
    "\n",
    "CONSUMER_COUNT = 4\n",
    "\n",
    "def consumer(cond):\n",
    "    t = threading.current_thread()\n",
    "    with cond:\n",
    "        cond.wait()  # wait()方法创建了一个名为waiter的锁，\n",
    "        #并且设置锁的状态为locked。这个waiter锁用于线程间的通讯\n",
    "        print(f'{t.name}: Resource is available to consumer')\n",
    "\n",
    "def producer(cond):\n",
    "    t = threading.current_thread()\n",
    "    for i in range(CONSUMER_COUNT):\n",
    "        # 一次唤醒一个消费者\n",
    "        print(f'{t.name}: wait 2s')\n",
    "        time.sleep(2)\n",
    "        with cond:\n",
    "            print(f'{t.name}: Making resource available')\n",
    "            cond.notify(1)  # 释放waiter锁，唤醒消费者\n",
    "def main():\n",
    "    condition = threading.Condition()\n",
    "    threads = []\n",
    "    for i in range(CONSUMER_COUNT):\n",
    "        c = threading.Thread(name=f'c{i}', target=consumer, args=(condition,))\n",
    "        c.start()\n",
    "        threads.append(c)\n",
    "        \n",
    "    p = threading.Thread(name='p', target=producer, args=(condition,))\n",
    "    p.start()\n",
    "    threads.append(p)\n",
    "    for t in threads:\n",
    "        t.join()\n",
    "\n",
    "main()"
   ]
  },
  {
   "cell_type": "markdown",
   "metadata": {},
   "source": [
    "> 进程版本"
   ]
  },
  {
   "cell_type": "code",
   "execution_count": 51,
   "metadata": {
    "tags": []
   },
   "outputs": [
    {
     "name": "stdout",
     "output_type": "stream",
     "text": [
      "Overwriting src/cond.py\n"
     ]
    }
   ],
   "source": [
    "%%writefile src/cond.py\n",
    "import time\n",
    "import multiprocessing\n",
    "\n",
    "CONSUMER_COUNT = 4\n",
    "\n",
    "def consumer(cond):\n",
    "    t = multiprocessing.current_process()\n",
    "    with cond:\n",
    "        cond.wait()  # wait()方法创建了一个名为waiter的锁，\n",
    "        #并且设置锁的状态为locked。这个waiter锁用于线程间的通讯\n",
    "        print(f'{t.name}: Resource is available to consumer')\n",
    "def producer(cond):\n",
    "    t = multiprocessing.current_process()\n",
    "    for i in range(CONSUMER_COUNT):\n",
    "        # 一次唤醒一个消费者\n",
    "        print(f'{t.name}: wait 2s')\n",
    "        time.sleep(2)\n",
    "        with cond:\n",
    "            print(f'{t.name}: Making resource available')\n",
    "            cond.notify()  # 释放waiter锁，唤醒消费者\n",
    "        \n",
    "if __name__=='__main__':\n",
    "    condition = multiprocessing.Condition()\n",
    "    processes = []\n",
    "    for i in range(CONSUMER_COUNT):\n",
    "        c = multiprocessing.Process(name=f'c{i}', target=consumer, args=(condition,))\n",
    "        c.start()\n",
    "        processes.append(c)\n",
    "\n",
    "    p = multiprocessing.Process(name='p', target=producer, args=(condition,))\n",
    "    p.start()\n",
    "    processes.append(p)\n",
    "    for t in processes:\n",
    "        t.join()"
   ]
  },
  {
   "cell_type": "code",
   "execution_count": 52,
   "metadata": {
    "tags": []
   },
   "outputs": [
    {
     "name": "stdout",
     "output_type": "stream",
     "text": [
      "p: wait 2s\n",
      "p: Making resource available\n",
      "p: wait 2s\n",
      "c1: Resource is available to consumer\n",
      "p: Making resource available\n",
      "p: wait 2s\n",
      "c0: Resource is available to consumer\n",
      "p: Making resource available\n",
      "p: wait 2s\n",
      "c2: Resource is available to consumer\n",
      "p: Making resource available\n",
      "c3: Resource is available to consumer\n"
     ]
    }
   ],
   "source": [
    "!python src/cond.py"
   ]
  },
  {
   "cell_type": "markdown",
   "metadata": {},
   "source": [
    "## 并行通信\n",
    "\n",
    "并行程序间需要护传消息,一些同步原语在一定程度上可以达到相当于传递信号消息的作用,但如果是复杂消息就无能为了,多数编程语言都使用队列进行真正意义上的并行通信,python也不例外.\n",
    "\n",
    "同时队列也是生产者消费者模式最常见使用的工具\n",
    "\n",
    "队列的接口有:\n",
    "\n",
    "+ `qsize()`返回队列的大致大小\n",
    "\n",
    "+ `empty()`如果队列为空返回True\n",
    "\n",
    "+ `full()`如果队列满了,则返回空\n",
    "\n",
    "+ `put(item, block=True, timeout=None)`将元素放入队列,协程中是协程\n",
    "\n",
    "+ `put_nowait(item)`立即将元素放入队列\n",
    "\n",
    "+ `get(block=True, timeout=None)`获取元素,并且在队列中删除该元素,协程中是协程\n",
    "\n",
    "+ `get_nowait()`立即获取元素,并且在队列中删除该元素\n",
    "\n",
    "+ `task_done()`表明以前入队的任务是否已经完成。\n",
    "\n",
    "+ `join()`阻塞直到队列中的所有项目都被获取和处理.协程中是协程\n",
    "\n",
    "\n",
    "常见的队列有两种:\n",
    "\n",
    "+ `Queue`先进先出队列\n",
    "\n",
    "+ `LifoQueue`先进后出队列\n",
    "\n",
    "+ `PriorityQueue`优先权队列,放入的元素必须是Tuple[int,Any],第一位就是权重\n",
    "\n",
    "对不同方式使用的队列为:\n",
    "\n",
    "+ 协程--`asyncio.Queue(maxsize=0)`/`asyncio.PriorityQueue(maxsize=0)`/`asyncio.LifoQueue(maxsize=0)`\n",
    "\n",
    "+ 线程--`queue.Queue(maxsize=0)`/`queue.LifoQueue(maxsize=0)`/`queue.PriorityQueue(maxsize=0)`\n",
    "\n",
    "+ 进程--`multiprocessing.Queue(maxsize)`/`queue.LifoQueue(maxsize=0)`/`queue.PriorityQueue(maxsize=0)`\n",
    "\n",
    "\n",
    "依然用生产消费模式做例子"
   ]
  },
  {
   "cell_type": "markdown",
   "metadata": {},
   "source": [
    "> 协程版本"
   ]
  },
  {
   "cell_type": "code",
   "execution_count": 101,
   "metadata": {
    "tags": []
   },
   "outputs": [
    {
     "name": "stdout",
     "output_type": "stream",
     "text": [
      "put :38\n",
      "put :9\n",
      "put :8\n",
      "put :29\n",
      "put :73\n",
      "put :83\n",
      "[PRI:8] 8 * 2 = 16\n",
      "[PRI:9] 9 * 2 = 18\n",
      "[PRI:29] 29 * 2 = 58\n",
      "[PRI:38] 38 * 2 = 76\n",
      "[PRI:73] 73 * 2 = 146\n",
      "[PRI:83] 83 * 2 = 166\n"
     ]
    }
   ],
   "source": [
    "import asyncio\n",
    "import random\n",
    "\n",
    "q = asyncio.PriorityQueue(10)\n",
    "\n",
    "def double(n):\n",
    "    return n * 2\n",
    "\n",
    "async def producer(queue, n):\n",
    "    count = 0\n",
    "    while True:\n",
    "        if count > 5:\n",
    "            break\n",
    "        pri = randint(0, 100)\n",
    "        print(f'put :{pri}')\n",
    "        await queue.put((pri, double, pri))  # (priority, func, args)\n",
    "        count += 1\n",
    "\n",
    "\n",
    "\n",
    "async def consumer(queue):\n",
    "    while True:\n",
    "        pri, task, arg = await queue.get()\n",
    "        print(f'[PRI:{pri}] {arg} * 2 = {task(arg)}')\n",
    "        await asyncio.sleep(random.random())\n",
    "        queue.task_done()\n",
    "\n",
    "\n",
    "async def main(n=10):\n",
    "    # schedule the consumer\n",
    "    consume = asyncio.ensure_future(consumer(q))\n",
    "    # run the producer and wait for completion\n",
    "    await producer(q, n)\n",
    "    # wait until the consumer has processed all items\n",
    "    await q.join()\n",
    "    # the consumer is still awaiting for an item, cancel it\n",
    "    consume.cancel()\n",
    "\n",
    "await main()"
   ]
  },
  {
   "cell_type": "markdown",
   "metadata": {},
   "source": [
    "> 线程版本"
   ]
  },
  {
   "cell_type": "code",
   "execution_count": 100,
   "metadata": {
    "tags": []
   },
   "outputs": [
    {
     "name": "stdout",
     "output_type": "stream",
     "text": [
      "put :69\n",
      "put :17\n",
      "put :19\n",
      "put :80\n",
      "put :43\n",
      "put :94\n",
      "[PRI:17] 17 * 2 = 34\n",
      "[PRI:19] 19 * 2 = 38\n",
      "[PRI:43] 43 * 2 = 86\n",
      "[PRI:69] 69 * 2 = 138\n",
      "[PRI:80] 80 * 2 = 160\n",
      "[PRI:94] 94 * 2 = 188\n"
     ]
    }
   ],
   "source": [
    "import time\n",
    "import threading\n",
    "from random import randint\n",
    "from queue import PriorityQueue\n",
    "\n",
    "q = PriorityQueue(10)\n",
    "\n",
    "def double(n):\n",
    "    return n * 2\n",
    "\n",
    "def producer(q):\n",
    "    count = 0\n",
    "    while True:\n",
    "        if count > 5:\n",
    "            break\n",
    "        pri = randint(0, 100)\n",
    "        print(f'put :{pri}')\n",
    "        q.put((pri, double, pri))  # (priority, func, args)\n",
    "        count += 1\n",
    "\n",
    "def consumer(q):\n",
    "    while True:\n",
    "        if q.empty():\n",
    "            break\n",
    "        pri, task, arg = q.get()\n",
    "        print(f'[PRI:{pri}] {arg} * 2 = {task(arg)}')\n",
    "        q.task_done()\n",
    "        time.sleep(0.1)\n",
    "\n",
    "def main():\n",
    "    threads = []\n",
    "    p= threading.Thread(target=producer,args=(q,))\n",
    "    p.start()\n",
    "    threads.append(p)\n",
    "    time.sleep(1)\n",
    "    c = threading.Thread(target=consumer,args=(q,))\n",
    "    c.start()\n",
    "    threads.append(c)\n",
    "    for t in threads:\n",
    "        t.join()\n",
    "\n",
    "main()"
   ]
  },
  {
   "cell_type": "markdown",
   "metadata": {},
   "source": [
    "> 进程版本"
   ]
  },
  {
   "cell_type": "code",
   "execution_count": 98,
   "metadata": {
    "tags": []
   },
   "outputs": [
    {
     "name": "stdout",
     "output_type": "stream",
     "text": [
      "Overwriting src/queue_test.py\n"
     ]
    }
   ],
   "source": [
    "%%writefile src/queue_test.py\n",
    "import time\n",
    "from multiprocessing import Process, JoinableQueue\n",
    "from random import randint\n",
    "\n",
    "q = JoinableQueue(10)\n",
    "\n",
    "def double(n):\n",
    "    return n * 2\n",
    "\n",
    "def producer(q):\n",
    "    print(\"producer started\")\n",
    "    count = 0\n",
    "    while True:\n",
    "        if count > 5:\n",
    "            break\n",
    "        pri = randint(0, 100)\n",
    "        print(f'put :{pri}')\n",
    "        q.put((pri, double, pri))  # (priority, func, args)\n",
    "        count += 1\n",
    "        \n",
    "def consumer(q):\n",
    "    print(\"consumer started\")\n",
    "    while True:\n",
    "        if q.empty():\n",
    "\n",
    "            break\n",
    "        pri, task, arg = q.get()\n",
    "        print(f'[PRI:{pri}] {arg} * 2 = {task(arg)}')\n",
    "        q.task_done()\n",
    "        time.sleep(0.1)\n",
    "        \n",
    "if __name__=='__main__':\n",
    "    processes = []\n",
    "    p = Process(target=producer,args=(q,))\n",
    "    p.start()\n",
    "    processes.append(p)\n",
    "    time.sleep(1)\n",
    "    c = Process(target=consumer,args=(q,))\n",
    "    c.start()\n",
    "    processes.append(c)\n",
    "    for t in processes:\n",
    "        t.join()"
   ]
  },
  {
   "cell_type": "code",
   "execution_count": 99,
   "metadata": {
    "tags": []
   },
   "outputs": [
    {
     "name": "stdout",
     "output_type": "stream",
     "text": [
      "producer started\n",
      "put :31\n",
      "put :87\n",
      "put :40\n",
      "put :78\n",
      "put :82\n",
      "put :63\n",
      "consumer started\n",
      "[PRI:31] 31 * 2 = 62\n",
      "[PRI:87] 87 * 2 = 174\n",
      "[PRI:40] 40 * 2 = 80\n",
      "[PRI:78] 78 * 2 = 156\n",
      "[PRI:82] 82 * 2 = 164\n",
      "[PRI:63] 63 * 2 = 126\n"
     ]
    }
   ],
   "source": [
    "!python src/queue_test.py"
   ]
  },
  {
   "cell_type": "markdown",
   "metadata": {},
   "source": [
    "## 共享数据\n",
    "\n",
    "不同的协程/线程/进程间除了传递数据,往往也需要共享数据来实现一些功能,如果是在同一个进程中,通常我们直接使用`全局变量`+`锁`的方式,如果是多进程间则需要借助[multiprocessing.Manager](https://blog.hszofficial.site/TutorialForPython/#/%E8%AF%AD%E6%B3%95%E7%AF%87/%E6%B5%81%E7%A8%8B%E6%8E%A7%E5%88%B6/%E5%A4%9A%E8%BF%9B%E7%A8%8B?id=%e9%ab%98%e7%ba%a7%e5%85%b1%e4%ba%abmultiprocessingmanager)+`锁`的方式来实现"
   ]
  },
  {
   "cell_type": "markdown",
   "metadata": {},
   "source": [
    "## 有状态上下文\n",
    "\n",
    "并行程序的有状态上下文指的是一个有进入有退出的范围在这个范围内数据是独立的.举个例子,如果我们写一个http服务,每个请求进来,请求都不同,响应也都不同,我们可以使用有状态上下文管理请求和响应数据.著名的http框架[flask](https://github.com/pallets/flask)就使用了这样的设计.\n",
    "\n",
    "python中有标准库[contextvars](https://docs.python.org/zh-cn/3.10/library/contextvars.html)用来管理和操作有状态上下文.需要注意它的使用是有限制的\n",
    "\n",
    "+ 只有协程和线程可以使用\n",
    "+ 协程自带,可以隐式的使用;线程必须显式使用\n",
    "+ 必须定义在顶层模块中"
   ]
  },
  {
   "cell_type": "markdown",
   "metadata": {
    "tags": []
   },
   "source": [
    "### 协程中的有状态上下文\n",
    "\n",
    "在使用协程时只需要使用类`contextvars.ContextVar`即可,通过它在顶层模块中定义一个上下文变量实例.然后在协程任务的外层开始位置调用实例的`.set(value)`方法设置当前协程的状态上下文初始值;在末尾位置调用实例的`.reset(token)`方法进行重置.之后只要在这个协程中你就可以保持这个上下文变量对象独立了."
   ]
  },
  {
   "cell_type": "code",
   "execution_count": 131,
   "metadata": {
    "tags": []
   },
   "outputs": [
    {
     "name": "stdout",
     "output_type": "stream",
     "text": [
      "[c0]outer set var 0\n",
      "[c1]outer set var 1\n",
      "[c2]outer set var 2\n",
      "[c3]outer set var 3\n",
      "[c4]outer set var 4\n",
      "[c0]inner get var 0\n",
      "[c0]inner set var 0\n",
      "[c0]outer get var 0\n",
      "[c1]inner get var 1\n",
      "[c1]inner set var 1\n",
      "[c1]outer get var 1\n",
      "[c2]inner get var 2\n",
      "[c2]inner set var 4\n",
      "[c2]outer get var 4\n",
      "[c3]inner get var 3\n",
      "[c3]inner set var 9\n",
      "[c3]outer get var 9\n",
      "[c4]inner get var 4\n",
      "[c4]inner set var 16\n",
      "[c4]outer get var 16\n"
     ]
    }
   ],
   "source": [
    "import asyncio\n",
    "from contextvars import ContextVar\n",
    "\n",
    "var: ContextVar[int] = ContextVar('var', default=42)\n",
    "CONSUMER_COUNT = 5\n",
    "\n",
    "async def inner(n):\n",
    "    t = asyncio.current_task()\n",
    "    print(f\"[{t.get_name()}]inner get var {var.get()}\")\n",
    "    await asyncio.sleep(1)\n",
    "    var.set(n**2)\n",
    "    print(f\"[{t.get_name()}]inner set var {var.get()}\")\n",
    "\n",
    "async def consumer(n):\n",
    "    t = asyncio.current_task()\n",
    "    token = var.set(n)\n",
    "    print(f\"[{t.get_name()}]outer set var {var.get()}\")\n",
    "    await inner(n)\n",
    "    print(f\"[{t.get_name()}]outer get var {var.get()}\")\n",
    "    var.reset(token)\n",
    "    \n",
    "async def main():\n",
    "    cors = []\n",
    "    for i in range(CONSUMER_COUNT):\n",
    "        c = asyncio.create_task(consumer(i), name=f'c{i}')\n",
    "        cors.append(c)\n",
    "    for task in asyncio.as_completed(cors):\n",
    "        await task\n",
    "    \n",
    "await main()"
   ]
  },
  {
   "cell_type": "markdown",
   "metadata": {},
   "source": [
    "### 多线程中使用有状态上下文\n",
    "\n",
    "在多线程中使用有状态上下文相对麻烦些,我们需要通过接口`contextvars.copy_context`为每个线程复制一份当前的有状态上下文对象`contextvars.Context`,然后使用在启动线程时使用有状态上下文对象的`.run(func,*args,**kwargs)`接口将这个上下文带进需要执行的线程中."
   ]
  },
  {
   "cell_type": "code",
   "execution_count": 132,
   "metadata": {
    "tags": []
   },
   "outputs": [
    {
     "name": "stdout",
     "output_type": "stream",
     "text": [
      "[c0]outer set var 0[c1]outer set var 1\n",
      "[c1]inner get var 1\n",
      "\n",
      "[c0]inner get var 0\n",
      "[c2]outer set var 2\n",
      "[c2]inner get var 2\n",
      "[c3]outer set var 3\n",
      "[c3]inner get var 3\n",
      "[c4]outer set var 4\n",
      "[c4]inner get var 4\n",
      "[c1]inner set var 1[c2]inner set var 4\n",
      "[c2]outer get var 4\n",
      "[c4]inner set var 16\n",
      "[c4]outer get var 16\n",
      "\n",
      "[c1]outer get var 1\n",
      "[c3]inner set var 9\n",
      "[c3]outer get var 9\n",
      "[c0]inner set var 0\n",
      "[c0]outer get var 0\n"
     ]
    }
   ],
   "source": [
    "import threading\n",
    "import time\n",
    "from contextvars import ContextVar,copy_context\n",
    "\n",
    "var: ContextVar[int] = ContextVar('var', default=42)\n",
    "CONSUMER_COUNT = 5\n",
    "\n",
    "def inner(n):\n",
    "    t = threading.current_thread()\n",
    "    print(f\"[{t.name}]inner get var {var.get()}\")\n",
    "    time.sleep(1)\n",
    "    var.set(n**2)\n",
    "    print(f\"[{t.name}]inner set var {var.get()}\")\n",
    "\n",
    "def consumer(n):\n",
    "    t = threading.current_thread()\n",
    "    token = var.set(n)\n",
    "    print(f\"[{t.name}]outer set var {var.get()}\")\n",
    "    inner(n)\n",
    "    print(f\"[{t.name}]outer get var {var.get()}\")\n",
    "    var.reset(token)\n",
    "    \n",
    "def main():\n",
    "    threads = []\n",
    "    for i in range(CONSUMER_COUNT):\n",
    "        ctx = copy_context()\n",
    "        c = threading.Thread(target=partial(ctx.run,consumer,i),name=f'c{i}')\n",
    "        c.start()\n",
    "        threads.append(c)\n",
    "    for t in threads:\n",
    "        t.join()\n",
    "    \n",
    "main()"
   ]
  }
 ],
 "metadata": {
  "kernelspec": {
   "display_name": "Python 3 (ipykernel)",
   "language": "python",
   "name": "python3"
  },
  "language_info": {
   "codemirror_mode": {
    "name": "ipython",
    "version": 3
   },
   "file_extension": ".py",
   "mimetype": "text/x-python",
   "name": "python",
   "nbconvert_exporter": "python",
   "pygments_lexer": "ipython3",
   "version": "3.10.11"
  }
 },
 "nbformat": 4,
 "nbformat_minor": 4
}
