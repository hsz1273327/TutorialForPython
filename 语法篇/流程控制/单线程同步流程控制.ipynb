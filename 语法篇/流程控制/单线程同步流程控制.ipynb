{
 "cells": [
  {
   "cell_type": "markdown",
   "metadata": {},
   "source": [
    "# 单线程同步流程控制\n",
    "\n",
    "python与多数其他语言一样默认是单线程同步的顺序执行语句.这也是所有语言的基础.\n",
    "\n",
    "python中语句会一行一行地被解释执行,而流控制语句则是用于控制当前解释执行哪条语句的工具"
   ]
  },
  {
   "cell_type": "markdown",
   "metadata": {},
   "source": [
    "## 流程分支\n",
    "\n",
    "python的流程分支现在有两种:\n",
    "\n",
    "+ `if`语句\n",
    "+ `match`语句\n",
    "\n",
    "在python 3.10之前python只有`if`语句,虽然这种方式看似减少了关键字数量,但这也带来了一定程度上语义上的歧义,我们不得不用`if`语句写出非常不优雅的代码,个人认为是python设计的一大败笔.好在现在有了`match`语句.\n",
    "\n",
    "### if语句\n",
    "\n",
    "在没有`match`语句时if是流程分支的唯一选择,它有两种语义可以满足全部对分支语句的需求,只是写起来可能会不优雅:\n",
    "\n",
    "+ `if/else`代表判断逻辑,一般用于根据一条语句的结果正误来确定下一步的执行内容\n",
    "\n",
    "+ `if/elif/else`代表多分支,一般用于根据一个变量的取值不同来确定下一步执行的内容.\n",
    "\n"
   ]
  },
  {
   "cell_type": "markdown",
   "metadata": {},
   "source": [
    "#### 使用字典结合匿名函数更加优雅的实现简单流程分支\n",
    "\n",
    "`if/elif`来实现多分支并不优雅,需要为一个变量写多次判断语句,因此如果分支逻辑简单,完全可以使用字典+lambda函数"
   ]
  },
  {
   "cell_type": "code",
   "execution_count": 1,
   "metadata": {
    "tags": []
   },
   "outputs": [],
   "source": [
    "def which_type(x):\n",
    "    return {\n",
    "        int:lambda x:print(x,\"is int\"),\n",
    "        float:lambda x:print(x,\"is float\"),\n",
    "        list:lambda x:print(x,\"is list\")\n",
    "    }.get(type(x),lambda x:print(\"i dont know\"))(x)"
   ]
  },
  {
   "cell_type": "code",
   "execution_count": 2,
   "metadata": {
    "tags": []
   },
   "outputs": [
    {
     "name": "stdout",
     "output_type": "stream",
     "text": [
      "2 is int\n"
     ]
    }
   ],
   "source": [
    "which_type(2)"
   ]
  },
  {
   "cell_type": "markdown",
   "metadata": {},
   "source": [
    "### match语句\n",
    "\n",
    "match语句正式名为`模式匹配`.它是用来优雅实现多分支的工具.其通用语法如下:\n",
    "\n",
    "```python\n",
    "match subject:\n",
    "    case <pattern_1>:\n",
    "        <action_1>\n",
    "    case <pattern_2>:\n",
    "        <action_2>\n",
    "    case <pattern_3>:\n",
    "        <action_3>\n",
    "    case _:\n",
    "        <action_wildcard>\n",
    "```\n",
    "\n",
    "其中`subject`可以为一个表达式(值),这个值会与以一个或多个`case`语句块形式给出的一系列模式进行比较从而执行对应的操作. 具体来说模式匹配的操作如下:\n",
    "\n",
    "\n",
    "+ 针对`subject`在match语句中求值\n",
    "\n",
    "+ 从上到下对`subject`与`case`语句中的每个模式进行比较直到确认匹配到一个模式.\n",
    "\n",
    "+ 执行与被确认匹配的模式相关联的动作.\n",
    "\n",
    "+ 如果没有确认到一个完全的匹配,则如果提供了使用通配符`_`的最后一个`case`语句,则它将被用作已匹配模式. 如果没有确认到一个完全的匹配并且不存在使用通配符`_`的`case`语句,则整个match代码块不执行任何操作.\n",
    "\n",
    "match语句之所以在3.10版本才放出来和它的命名有关,它之所以叫`模式匹配`而不是`分支`是因为它除了可以判断值后进行分支外,更重要的是可以`匹配模式`,远比`java`,`c++`,`js`中的`switch`语句强大."
   ]
  },
  {
   "cell_type": "markdown",
   "metadata": {},
   "source": [
    "#### 匹配值\n",
    "\n",
    "最基础的匹配,也就是其他语言中的`swtich`语句的用法. 更进一步的`case`支持使用`|`分隔条件进行或匹配,也支持使用`as`来捕获对应匹配的值."
   ]
  },
  {
   "cell_type": "code",
   "execution_count": 3,
   "metadata": {
    "tags": []
   },
   "outputs": [
    {
     "data": {
      "text/plain": [
       "'Not allowed x'"
      ]
     },
     "execution_count": 3,
     "metadata": {},
     "output_type": "execute_result"
    }
   ],
   "source": [
    "def http_error(status:int|str)->str:\n",
    "    match int(status):\n",
    "        case 400:\n",
    "            return \"Bad request\"\n",
    "        case 401 | 402 | 403 as x:\n",
    "            return f\"Not allowed x\"\n",
    "        case 404:\n",
    "            return \"Not found\"\n",
    "        case 418:\n",
    "            return \"I'm a teapot\"\n",
    "        \n",
    "        case _:\n",
    "            return \"Something's wrong with the internet\"\n",
    "        \n",
    "http_error(403)"
   ]
  },
  {
   "cell_type": "markdown",
   "metadata": {},
   "source": [
    "#### 匹配序列\n",
    "\n",
    "match可以解包序列类型的`subject`,其原理类似`x,y,z = X`,而解包后的结果会作为一个tuple与case语句中的`pattern`进行比对.\n",
    "\n",
    "`pattern`中允许有变量,解析到的对应为止的值会被赋值到变量中.我们可以在`case`的处理语句中使用这些变量.\n",
    "`pattern`中类似解包,可以使用`*`代表多个值,也可以使用`_`抛弃匹配对象不进行匹配,也可以使用`*_`抛弃多个对象不进行匹配\n",
    "\n",
    "我们同样可以使用`as`捕获符合特定匹配的值,同时还可以使用`if`增加匹配条件."
   ]
  },
  {
   "cell_type": "code",
   "execution_count": 4,
   "metadata": {
    "tags": []
   },
   "outputs": [],
   "source": [
    "def check_point(point:tuple[int,int,int])->str:\n",
    "    match point:\n",
    "        case (0, 0, 0): \n",
    "            return \"Origin\"\n",
    "        case (x, 0, 0):\n",
    "            return f\"X={x}\"\n",
    "        case (x, 0|1|2 as y, 0):\n",
    "            return f\"X={x} Y={y}\"\n",
    "        case (0, y, 0):\n",
    "            return f\"Y={y}\"\n",
    "        case (0, 0, z):\n",
    "            return f\"Z={z}\"\n",
    "        case (_,_, 0):\n",
    "            return f\"XY\"\n",
    "        case (_,0, _):\n",
    "            return f\"XZ\"\n",
    "        case (0,_, _):\n",
    "            return f\"YZ\"\n",
    "        case (x, y, z) if x==y:\n",
    "            return f\"X,Y={x}, Z={z}\"\n",
    "        case (x, y, z):\n",
    "            return f\"X={x}, Y={y}, Z={z}\"\n",
    "        case (0,*_):\n",
    "            return f\"X=0\"\n",
    "        case _:\n",
    "            raise ValueError(\"Not a 3D point\")\n"
   ]
  },
  {
   "cell_type": "code",
   "execution_count": 5,
   "metadata": {
    "tags": []
   },
   "outputs": [
    {
     "data": {
      "text/plain": [
       "'X=0'"
      ]
     },
     "execution_count": 5,
     "metadata": {},
     "output_type": "execute_result"
    }
   ],
   "source": [
    "check_point((0,2))"
   ]
  },
  {
   "cell_type": "code",
   "execution_count": 6,
   "metadata": {
    "tags": []
   },
   "outputs": [
    {
     "data": {
      "text/plain": [
       "'X=0 Y=2'"
      ]
     },
     "execution_count": 6,
     "metadata": {},
     "output_type": "execute_result"
    }
   ],
   "source": [
    "check_point((0,2,0))"
   ]
  },
  {
   "cell_type": "code",
   "execution_count": 7,
   "metadata": {
    "tags": []
   },
   "outputs": [
    {
     "data": {
      "text/plain": [
       "'YZ'"
      ]
     },
     "execution_count": 7,
     "metadata": {},
     "output_type": "execute_result"
    }
   ],
   "source": [
    "check_point((0,2,3))"
   ]
  },
  {
   "cell_type": "code",
   "execution_count": 8,
   "metadata": {
    "tags": []
   },
   "outputs": [
    {
     "data": {
      "text/plain": [
       "'X=1, Y=2, Z=3'"
      ]
     },
     "execution_count": 8,
     "metadata": {},
     "output_type": "execute_result"
    }
   ],
   "source": [
    "check_point((1,2,3))"
   ]
  },
  {
   "cell_type": "code",
   "execution_count": 9,
   "metadata": {
    "tags": []
   },
   "outputs": [
    {
     "data": {
      "text/plain": [
       "'X,Y=2, Z=3'"
      ]
     },
     "execution_count": 9,
     "metadata": {},
     "output_type": "execute_result"
    }
   ],
   "source": [
    "check_point((2,2,3))"
   ]
  },
  {
   "cell_type": "markdown",
   "metadata": {},
   "source": [
    "### 匹配字典\n",
    "\n",
    "match可以用于匹配字典,`pattern`部分也是一个字典,其中的字段会用于在`subject`搜索捕获.需要注意与匹配序列不同,**`pattern`部分的字典中没有声明的键会被忽略**.我们也可以使用`**rest`来匹配那些没有明确声明的键."
   ]
  },
  {
   "cell_type": "code",
   "execution_count": 10,
   "metadata": {
    "tags": []
   },
   "outputs": [],
   "source": [
    "def check_map(x:dict[str,int])->str:\n",
    "    match x:\n",
    "        case {\"x\": 0, \"y\": l,**rest}:\n",
    "            return f\"has fix x 0 y {l} rest {rest}\"\n",
    "        case {\"x\": b, \"y\": l}:\n",
    "            return f\"has x {b} y {l}\"\n",
    "        case {\"x\": b}: \n",
    "            return f\"has x {b}\"\n",
    "        case _:\n",
    "            raise ValueError(\"nothing match\")"
   ]
  },
  {
   "cell_type": "code",
   "execution_count": 11,
   "metadata": {
    "tags": []
   },
   "outputs": [
    {
     "data": {
      "text/plain": [
       "'has x 0'"
      ]
     },
     "execution_count": 11,
     "metadata": {},
     "output_type": "execute_result"
    }
   ],
   "source": [
    "check_map({\"x\":0})"
   ]
  },
  {
   "cell_type": "code",
   "execution_count": 12,
   "metadata": {
    "tags": []
   },
   "outputs": [
    {
     "data": {
      "text/plain": [
       "\"has fix x 0 y 1 rest {'z': 2}\""
      ]
     },
     "execution_count": 12,
     "metadata": {},
     "output_type": "execute_result"
    }
   ],
   "source": [
    "check_map({\"x\":0,\"y\":1,\"z\":2})"
   ]
  },
  {
   "cell_type": "code",
   "execution_count": 13,
   "metadata": {
    "tags": []
   },
   "outputs": [
    {
     "data": {
      "text/plain": [
       "'has x 1 y 2'"
      ]
     },
     "execution_count": 13,
     "metadata": {},
     "output_type": "execute_result"
    }
   ],
   "source": [
    "check_map({\"x\":1,\"y\":2,\"z\":3})"
   ]
  },
  {
   "cell_type": "markdown",
   "metadata": {},
   "source": [
    "#### 匹配类\n",
    "\n",
    "match可以用于匹配类,pattern部分是希望匹配的类的实例化表达式,其中的参数则是类中的字段,实例化参数会用于在subject对应的对象中搜索捕获.参数的值可以是变量,这样case语句部分就可以使用这个变量了."
   ]
  },
  {
   "cell_type": "code",
   "execution_count": 14,
   "metadata": {
    "tags": []
   },
   "outputs": [],
   "source": [
    "class Point:\n",
    "    x: int\n",
    "    y: int\n",
    "    def __repr__(self)->str:\n",
    "        return f\"({self.x},{self.y})\"\n",
    "    def __init__(self,x:int,y:int)->None:\n",
    "        self.x = x\n",
    "        self.y = y\n",
    "\n",
    "def location(point:Point)->str:\n",
    "    match point:\n",
    "        case Point(x=0, y=0):\n",
    "            return \"Origin is the point's location.\"\n",
    "        case Point(x=0, y=y):\n",
    "            return f\"Y={y} and the point is on the y-axis.\"\n",
    "        case Point(x=x, y=0):\n",
    "            return f\"X={x} and the point is on the x-axis.\"\n",
    "        case Point():\n",
    "            return \"The point is located somewhere else on the plane.\"\n",
    "        case _:\n",
    "            return \"Not a point\""
   ]
  },
  {
   "cell_type": "code",
   "execution_count": 15,
   "metadata": {
    "tags": []
   },
   "outputs": [
    {
     "data": {
      "text/plain": [
       "'Y=1 and the point is on the y-axis.'"
      ]
     },
     "execution_count": 15,
     "metadata": {},
     "output_type": "execute_result"
    }
   ],
   "source": [
    "location(Point(x=0,y=1))"
   ]
  },
  {
   "cell_type": "markdown",
   "metadata": {},
   "source": [
    "#### 匹配嵌套模式\n",
    "\n",
    "我们也可以组合以上各种来匹配复杂的模式.比如下面是用于匹配多个位置坐标的例子:"
   ]
  },
  {
   "cell_type": "code",
   "execution_count": 16,
   "metadata": {
    "tags": []
   },
   "outputs": [],
   "source": [
    "def locations(point:list[Point])->str:\n",
    "    match point:\n",
    "        case []:\n",
    "            return \"No points in the list.\"\n",
    "        case [Point(x=0, y=0)]:\n",
    "            return \"The origin is the only point in the list.\"\n",
    "        case [Point(x=x, y=y)]:\n",
    "            return f\"A single point {x}, {y} is in the list.\"\n",
    "        case [Point(x=0, y=y1), Point(x=0, y=y2) as p2]:\n",
    "            return f\"Two points on the Y axis at {y1}, {y2} are in the list. p2 is {p2}\"\n",
    "        case [Point(x=x1, y=y1), Point(x=x2, y=y2),*points] if all([isinstance(point,Point) for point in points]):\n",
    "            return f\"points ({x1},{y1}), ({x2},{y2}) and points {points}.\"\n",
    "        case _:\n",
    "            return \"Something else is found in the list.\""
   ]
  },
  {
   "cell_type": "code",
   "execution_count": 17,
   "metadata": {
    "tags": []
   },
   "outputs": [
    {
     "data": {
      "text/plain": [
       "'No points in the list.'"
      ]
     },
     "execution_count": 17,
     "metadata": {},
     "output_type": "execute_result"
    }
   ],
   "source": [
    "locations([])"
   ]
  },
  {
   "cell_type": "code",
   "execution_count": 18,
   "metadata": {
    "tags": []
   },
   "outputs": [
    {
     "data": {
      "text/plain": [
       "'The origin is the only point in the list.'"
      ]
     },
     "execution_count": 18,
     "metadata": {},
     "output_type": "execute_result"
    }
   ],
   "source": [
    "locations([Point(x=0,y=0)])"
   ]
  },
  {
   "cell_type": "code",
   "execution_count": 19,
   "metadata": {
    "tags": []
   },
   "outputs": [
    {
     "data": {
      "text/plain": [
       "'Two points on the Y axis at 0, 4 are in the list. p2 is (0,4)'"
      ]
     },
     "execution_count": 19,
     "metadata": {},
     "output_type": "execute_result"
    }
   ],
   "source": [
    "locations([Point(x=0,y=0),Point(x=0,y=4)])"
   ]
  },
  {
   "cell_type": "code",
   "execution_count": 20,
   "metadata": {
    "tags": []
   },
   "outputs": [
    {
     "data": {
      "text/plain": [
       "'points (1,1), (2,1) and points [(3,1)].'"
      ]
     },
     "execution_count": 20,
     "metadata": {},
     "output_type": "execute_result"
    }
   ],
   "source": [
    "locations([Point(x=1,y=1),Point(x=2,y=1),Point(x=3,y=1)])"
   ]
  },
  {
   "cell_type": "code",
   "execution_count": 21,
   "metadata": {
    "tags": []
   },
   "outputs": [
    {
     "data": {
      "text/plain": [
       "'Something else is found in the list.'"
      ]
     },
     "execution_count": 21,
     "metadata": {},
     "output_type": "execute_result"
    }
   ],
   "source": [
    "locations([Point(x=1,y=1),Point(x=2,y=1),(3,1)])"
   ]
  },
  {
   "cell_type": "markdown",
   "metadata": {},
   "source": [
    "## 循环语句\n",
    "\n",
    "循环语句主要目的就是让一段代码反复顺序执行,python有两种循环语句:\n",
    "\n",
    "+ for循环\n",
    "\n",
    "    主要用于根据先验循环次数执行循环内代码的情况.他会遍历一个迭代器,先验的次数就是这个迭代器的长度,每取出一个对象都会执行for块中的语句\n",
    "    \n",
    "+ while循环\n",
    "\n",
    "    主要用于没有先验循环次数,而是根据判断条件执行循环内代码的情况\n",
    "    "
   ]
  },
  {
   "cell_type": "code",
   "execution_count": 22,
   "metadata": {
    "tags": []
   },
   "outputs": [
    {
     "name": "stdout",
     "output_type": "stream",
     "text": [
      "0\n",
      "1\n",
      "2\n",
      "3\n",
      "4\n",
      "5\n",
      "6\n",
      "7\n",
      "8\n",
      "9\n"
     ]
    }
   ],
   "source": [
    "for i in range(10):\n",
    "    print(i)"
   ]
  },
  {
   "cell_type": "code",
   "execution_count": 23,
   "metadata": {
    "tags": []
   },
   "outputs": [
    {
     "name": "stdout",
     "output_type": "stream",
     "text": [
      "0\n",
      "1\n",
      "2\n",
      "3\n",
      "4\n",
      "5\n",
      "6\n",
      "7\n",
      "8\n",
      "9\n"
     ]
    }
   ],
   "source": [
    "i = 0\n",
    "while i<10:\n",
    "    print(i)\n",
    "    i+=1"
   ]
  },
  {
   "cell_type": "markdown",
   "metadata": {},
   "source": [
    "### 打断语句break和continue\n",
    "\n",
    "循环中可以使用break跳出循环或者使用continue跳出当次循环"
   ]
  },
  {
   "cell_type": "code",
   "execution_count": 24,
   "metadata": {
    "tags": []
   },
   "outputs": [
    {
     "name": "stdout",
     "output_type": "stream",
     "text": [
      "1\n",
      "3\n",
      "5\n",
      "7\n",
      "9\n"
     ]
    }
   ],
   "source": [
    "i = 0\n",
    "while True:\n",
    "    i += 1\n",
    "    if i > 10 :\n",
    "        break\n",
    "    if i % 2 == 0 :\n",
    "        continue\n",
    "    print(i)"
   ]
  },
  {
   "cell_type": "markdown",
   "metadata": {},
   "source": [
    "## try/except 不仅用于处理错误，还常用于控制流程\n",
    "\n",
    "在Python中,`try/except`不仅用于处理错误,还常用于控制流程.为此，[Python 官方词汇表](https://docs.python.org/3/glossary.html#term-eafp)还定义了一个缩略词(口号):\n",
    "\n",
    "+ EAFP\n",
    "\n",
    "取得原谅比获得许可容易(easier to ask for forgiveness than permission).这是一种常见的Python编程风格,先假定存在有效的键或属性,如果假定不成立,那么捕获异常.这种风格简单明快,特点是代码中有很多try和except语句.与其他很多语言一样(如C 语言),这种风格的对立面是LBYL风格.\n",
    "\n",
    "+ LBYL\n",
    "\n",
    "三思而后行(look before you leap).这种编程风格在调用函数或查找属性或键之前显式测试前提条件.与`EAFP`风格相反,这种风格的特点是代码中有很多if\n",
    "语句.在多线程环境中,`LBYL` 风格可能会在\"检查\"和\"行事\"的空当引入条件竞争.例如对`if key in mapping: return mapping[key]`这段代码来说,如果在测试之后,但在查找之前,另一个线程从映射中删除了那个键,那么这段代码就会失败.这个问题可以使用锁或者`EAFP`风格解决.\n",
    "\n",
    "如果选择使用`EAFP`风格,那就要更深入地了解`else`子句,并在`try/except`语句中合理使用"
   ]
  },
  {
   "cell_type": "markdown",
   "metadata": {},
   "source": [
    "## 特殊的else语句\n",
    "\n",
    "`else`子句不仅能在`if`语句中使用,还能在`for`、`while`和`try`语句中使用.`for/else`、`while/else`和`try/else`的语义关系紧密,不过与`if/else`差别很大.\n",
    "\n",
    "此处的else语句理解为`then`可能更加合适,它代表的是\"没有遇到特殊情况就执行以下代码\"这样的语义.具体到不同的语句,语义如下:\n",
    "\n",
    "\n",
    "+ for\n",
    "\n",
    "    仅当`for`循环运行完毕时)即`for`循环没有被`break`语句终止)才运行`else`块\n",
    "\n",
    "+ while\n",
    "\n",
    "    仅当`while`循环因为条件为假值而退出时(即`while`循环没有被`break`语句中止)才运行`else`块\n",
    "    \n",
    "循环语句中使用else语句可以省去大量的状态变量,最典型的就是为避免网络异常而多次访问某个地址的场景"
   ]
  },
  {
   "cell_type": "code",
   "execution_count": 25,
   "metadata": {
    "tags": []
   },
   "outputs": [],
   "source": [
    "import requests"
   ]
  },
  {
   "cell_type": "code",
   "execution_count": 26,
   "metadata": {
    "tags": []
   },
   "outputs": [],
   "source": [
    "conn = requests.get(\"http://www.baidu.com\")"
   ]
  },
  {
   "cell_type": "code",
   "execution_count": 27,
   "metadata": {
    "tags": []
   },
   "outputs": [],
   "source": [
    "def get_html(url):\n",
    "    for i in range(3):\n",
    "        try:\n",
    "            conn = requests.get(url)\n",
    "        except:\n",
    "            print(f\"第{i+1}次连不上服务器\")\n",
    "        else:\n",
    "            return conn.text\n",
    "    else:\n",
    "        raise ConnectionError(\"连不上服务器\")\n",
    "\n"
   ]
  },
  {
   "cell_type": "code",
   "execution_count": 28,
   "metadata": {
    "tags": []
   },
   "outputs": [
    {
     "data": {
      "text/plain": [
       "'<!DOCTYPE html>\\r\\n<!--STATUS OK--><html> <head><meta http-equiv=content-type content=text/html;charset=utf-8><meta http-equiv=X-UA-Compatible content=IE=Edge><meta content=always name=referrer><link rel=stylesheet type=text/css href=http://s1.bdstatic.com/r/www/cache/bdorz/baidu.min.css><title>ç\\x99¾åº¦ä¸\\x80ä¸\\x8bï¼\\x8cä½\\xa0å°±ç\\x9f¥é\\x81\\x93</title></head> <body link=#0000cc> <div id=wrapper> <div id=head> <div class=head_wrapper> <div class=s_form> <div class=s_form_wrapper> <div id=lg> <img hidefocus=true src=//www.baidu.com/img/bd_logo1.png width=270 height=129> </div> <form id=form name=f action=//www.baidu.com/s class=fm> <input type=hidden name=bdorz_come value=1> <input type=hidden name=ie value=utf-8> <input type=hidden name=f value=8> <input type=hidden name=rsv_bp value=1> <input type=hidden name=rsv_idx value=1> <input type=hidden name=tn value=baidu><span class=\"bg s_ipt_wr\"><input id=kw name=wd class=s_ipt value maxlength=255 autocomplete=off autofocus></span><span class=\"bg s_btn_wr\"><input type=submit id=su value=ç\\x99¾åº¦ä¸\\x80ä¸\\x8b class=\"bg s_btn\"></span> </form> </div> </div> <div id=u1> <a href=http://news.baidu.com name=tj_trnews class=mnav>æ\\x96°é\\x97»</a> <a href=http://www.hao123.com name=tj_trhao123 class=mnav>hao123</a> <a href=http://map.baidu.com name=tj_trmap class=mnav>å\\x9c°å\\x9b¾</a> <a href=http://v.baidu.com name=tj_trvideo class=mnav>è§\\x86é¢\\x91</a> <a href=http://tieba.baidu.com name=tj_trtieba class=mnav>è´´å\\x90§</a> <noscript> <a href=http://www.baidu.com/bdorz/login.gif?login&amp;tpl=mn&amp;u=http%3A%2F%2Fwww.baidu.com%2f%3fbdorz_come%3d1 name=tj_login class=lb>ç\\x99»å½\\x95</a> </noscript> <script>document.write(\\'<a href=\"http://www.baidu.com/bdorz/login.gif?login&tpl=mn&u=\\'+ encodeURIComponent(window.location.href+ (window.location.search === \"\" ? \"?\" : \"&\")+ \"bdorz_come=1\")+ \\'\" name=\"tj_login\" class=\"lb\">ç\\x99»å½\\x95</a>\\');</script> <a href=//www.baidu.com/more/ name=tj_briicon class=bri style=\"display: block;\">æ\\x9b´å¤\\x9aäº§å\\x93\\x81</a> </div> </div> </div> <div id=ftCon> <div id=ftConw> <p id=lh> <a href=http://home.baidu.com>å\\x85³äº\\x8eç\\x99¾åº¦</a> <a href=http://ir.baidu.com>About Baidu</a> </p> <p id=cp>&copy;2017&nbsp;Baidu&nbsp;<a href=http://www.baidu.com/duty/>ä½¿ç\\x94¨ç\\x99¾åº¦å\\x89\\x8då¿\\x85è¯»</a>&nbsp; <a href=http://jianyi.baidu.com/ class=cp-feedback>æ\\x84\\x8fè§\\x81å\\x8f\\x8dé¦\\x88</a>&nbsp;äº¬ICPè¯\\x81030173å\\x8f·&nbsp; <img src=//www.baidu.com/img/gs.gif> </p> </div> </div> </div> </body> </html>\\r\\n'"
      ]
     },
     "execution_count": 28,
     "metadata": {},
     "output_type": "execute_result"
    }
   ],
   "source": [
    "get_html(\"http://www.baidu.com\")"
   ]
  },
  {
   "cell_type": "code",
   "execution_count": 29,
   "metadata": {
    "scrolled": true,
    "tags": []
   },
   "outputs": [
    {
     "name": "stdout",
     "output_type": "stream",
     "text": [
      "第1次连不上服务器\n",
      "第2次连不上服务器\n",
      "第3次连不上服务器\n"
     ]
    },
    {
     "ename": "ConnectionError",
     "evalue": "连不上服务器",
     "output_type": "error",
     "traceback": [
      "\u001b[0;31m---------------------------------------------------------------------------\u001b[0m",
      "\u001b[0;31mConnectionError\u001b[0m                           Traceback (most recent call last)",
      "Cell \u001b[0;32mIn[29], line 1\u001b[0m\n\u001b[0;32m----> 1\u001b[0m \u001b[43mget_html\u001b[49m\u001b[43m(\u001b[49m\u001b[38;5;124;43m\"\u001b[39;49m\u001b[38;5;124;43mhttp://www.bidss.ecom\u001b[39;49m\u001b[38;5;124;43m\"\u001b[39;49m\u001b[43m)\u001b[49m\n",
      "Cell \u001b[0;32mIn[27], line 10\u001b[0m, in \u001b[0;36mget_html\u001b[0;34m(url)\u001b[0m\n\u001b[1;32m      8\u001b[0m         \u001b[38;5;28;01mreturn\u001b[39;00m conn\u001b[38;5;241m.\u001b[39mtext\n\u001b[1;32m      9\u001b[0m \u001b[38;5;28;01melse\u001b[39;00m:\n\u001b[0;32m---> 10\u001b[0m     \u001b[38;5;28;01mraise\u001b[39;00m \u001b[38;5;167;01mConnectionError\u001b[39;00m(\u001b[38;5;124m\"\u001b[39m\u001b[38;5;124m连不上服务器\u001b[39m\u001b[38;5;124m\"\u001b[39m)\n",
      "\u001b[0;31mConnectionError\u001b[0m: 连不上服务器"
     ]
    }
   ],
   "source": [
    "get_html(\"http://www.bidss.ecom\")"
   ]
  },
  {
   "cell_type": "markdown",
   "metadata": {},
   "source": [
    "+ try\n",
    "\n",
    "仅当`try`块中没有异常抛出时才运行`else`块。官方文档还指出--`else`子句抛出的异常不会由前面的`except`子句处理.\n",
    "\n",
    "在所有情况下，如果异常或者`return`,`break`或`continue`语句导致控制权跳到了复合语句的主块之外,`else`子句也会被跳过"
   ]
  },
  {
   "cell_type": "markdown",
   "metadata": {},
   "source": [
    "### EAFP风格的python代码\n",
    "\n",
    "上面说道EAFP风格,需要注意的是这种风格下`try/else`语句应当被大量有针对性地使用,它应当细粒度的防守单条语句而不是像多数人那样防守一段代码.这会让代码看起来很啰嗦,但相对来说更加安全"
   ]
  },
  {
   "cell_type": "markdown",
   "metadata": {},
   "source": [
    "## 上下文管理器和with块\n",
    "\n",
    "上下文管理器对象存在的目的是管理`with`语句,就像迭代器的存在是为了管理for语句一样.\n",
    "\n",
    "`with`语句的目的是简化`try/finally`模式.这种模式用于保证一段代码运行完毕后执行某项操作,即便那段代码由于异常、`return`语句或`sys.exit()`调用而中止,也会执行指定的操作.`finally`子句中的代码通常用于释放重要的资源,或者还原临时变更的状态.\n",
    "\n",
    "上下文管理器协议包含`__enter__`和`__exit__`两个方法.`with`语句开始运行时,会在上下文管理器对象上调用`__enter__`方法.`with`语句运行结束后,会在上下文管理器对象上调用`__exit__` 方法,以此扮演`finally`子句的角色.\n",
    "\n",
    "最常见的例子是确保关闭文件对象.这在[前文](http://blog.hszofficial.site/TutorialForPython/%E6%96%87%E6%9C%AC_%E6%96%87%E4%BB%B6%E4%B8%8E%E5%AD%97%E8%8A%82%E5%BA%8F/%E6%96%87%E4%BB%B6%E4%B8%8EIO%E6%B5%81.html)已经有所描述.注意,与函数和模块不同，`with`块没有定义新的作用域.\n"
   ]
  },
  {
   "cell_type": "markdown",
   "metadata": {},
   "source": [
    "+ `__enter__()` 方法\n",
    "\n",
    "    `__enter__()`方法要求最好返回一个对象(如果不返回一个对象,as语句会捕获一个None),一般是`self`,但不一定.除了返回上下文管理器之外,还可能返回其他对象.\n",
    "\n",
    "\n",
    "+ `__exit__(exc_type, exc_value, traceback)`方法\n",
    "\n",
    "    + exc_type\n",
    "        异常类(例如ZeroDivisionError)\n",
    "    + exc_value\n",
    "        异常实例.有时会有参数传给异常构造方法,例如错误消息,这些参数可以使用`exc_value.args`获取\n",
    "    + traceback\n",
    "        traceback对象\n",
    "\n",
    "    不管控制流程以哪种方式退出with块,都会在上下文管理器对象上调用`__exit__`方法,而不是在`__enter__`方法返回的对象上调用.`with`语句的`as`子句是可选的.对`open`函数来说,必须加上`as`子句,以便获取文件的引用.不过,有些上下文管理器会返回`None`,因为没什么有用的对象能提供给用户.\n",
    "    \n",
    "下面看一个上下文管理器修改上下文环境中`print`函数行为的例子:"
   ]
  },
  {
   "cell_type": "code",
   "execution_count": 30,
   "metadata": {
    "tags": []
   },
   "outputs": [],
   "source": [
    "import sys\n",
    "class LookingGlass:\n",
    "    def __enter__(self): \n",
    "        self.original_write = sys.stdout.write \n",
    "        sys.stdout.write = self.reverse_write \n",
    "        return 'JABBERWOCKY' \n",
    "    def reverse_write(self, text): \n",
    "        self.original_write(text[::-1])\n",
    "    def __exit__(self, exc_type, exc_value, traceback):  \n",
    "        sys.stdout.write = self.original_write \n",
    "        if exc_type is ZeroDivisionError: \n",
    "            print('Please DO NOT divide by zero!')\n",
    "            return True \n"
   ]
  },
  {
   "cell_type": "code",
   "execution_count": 31,
   "metadata": {
    "tags": []
   },
   "outputs": [
    {
     "name": "stdout",
     "output_type": "stream",
     "text": [
      "pordwonS dna yttiK ,ecilA\n",
      "YKCOWREBBAJ\n"
     ]
    }
   ],
   "source": [
    "with LookingGlass() as what: \n",
    "    print('Alice, Kitty and Snowdrop') \n",
    "    print(what)"
   ]
  },
  {
   "cell_type": "code",
   "execution_count": 32,
   "metadata": {
    "tags": []
   },
   "outputs": [
    {
     "data": {
      "text/plain": [
       "'JABBERWOCKY'"
      ]
     },
     "execution_count": 32,
     "metadata": {},
     "output_type": "execute_result"
    }
   ],
   "source": [
    "what"
   ]
  },
  {
   "cell_type": "code",
   "execution_count": 33,
   "metadata": {
    "tags": []
   },
   "outputs": [
    {
     "name": "stdout",
     "output_type": "stream",
     "text": [
      "Back to normal.\n"
     ]
    }
   ],
   "source": [
    "print('Back to normal.')"
   ]
  },
  {
   "cell_type": "markdown",
   "metadata": {},
   "source": [
    "抛开了with语句,上下文管理器也可以这样使用"
   ]
  },
  {
   "cell_type": "code",
   "execution_count": 34,
   "metadata": {
    "tags": []
   },
   "outputs": [
    {
     "name": "stdout",
     "output_type": "stream",
     "text": [
      "eurT\n",
      "YKCOWREBBAJ\n",
      "JABBERWOCKY\n"
     ]
    }
   ],
   "source": [
    "manager = LookingGlass()\n",
    "monster = manager.__enter__()\n",
    "print(monster == 'JABBERWOCKY')\n",
    "print(monster)\n",
    "manager.__exit__(None, None, None)\n",
    "print(monster)"
   ]
  },
  {
   "cell_type": "markdown",
   "metadata": {},
   "source": [
    "使用`try/finally`可以这样写"
   ]
  },
  {
   "cell_type": "code",
   "execution_count": 35,
   "metadata": {
    "tags": []
   },
   "outputs": [
    {
     "name": "stdout",
     "output_type": "stream",
     "text": [
      "eurT\n",
      "YKCOWREBBAJ\n",
      "JABBERWOCKY\n"
     ]
    }
   ],
   "source": [
    "manager = LookingGlass()\n",
    "try:\n",
    "    monster = manager.__enter__()\n",
    "    print(monster == 'JABBERWOCKY')\n",
    "    print(monster)\n",
    "except:\n",
    "    pass\n",
    "finally:\n",
    "    manager.__exit__(None, None, None)\n",
    "print(monster)"
   ]
  },
  {
   "cell_type": "markdown",
   "metadata": {},
   "source": [
    "### 多上下文\n",
    "\n",
    "我们可以在同一个`with`段中启动多个上下文管理器,这样他们会在退出时一起回收资源.设想这样一个场景,我们需要将文件`a.txt`中的数据转换提取后存入`b.csv`,这种情况下我们就需要一个读文件的上下文和一个写文件的上下文,我们当然可以先读后写写两个with段实现,但这样会显得很啰嗦.不妨这样写:\n",
    "\n",
    "```python\n",
    "with (open(\"a.txt\") as fr,\n",
    "     open(\"b.csv\",\"w\") as fw):\n",
    "    content = fr.read()\n",
    "    fw.write(transform(content))\n",
    "```"
   ]
  },
  {
   "cell_type": "markdown",
   "metadata": {},
   "source": [
    "### contextlib模块\n",
    "\n",
    "`contextlib`模块中提供了一些类和其他函数,用于快速的构建上下文管理器\n",
    "\n",
    "+ closing\n",
    "\n",
    "如果对象提供了`close()`方法,但没有实现`__enter__/__exit__`协议,那么可以使用这个函数构建上下文管理器\n",
    "\n",
    "+ suppress\n",
    "\n",
    "构建临时忽略指定异常的上下文管理器\n",
    "\n",
    "+ @contextmanager\n",
    "\n",
    "这个装饰器把简单的生成器函数变成上下文管理器,这样就不用创建类去实现管理器协议了\n",
    "\n",
    "+ ContextDecorator\n",
    "\n",
    "这是个基类,用于定义基于类的上下文管理器.这种上下文管理器也能用于装饰函数,在受管理的上下文中运行整个函数.\n",
    "\n",
    "+ ExitStack\n",
    "\n",
    "这个上下文管理器能进入多个上下文管理器.`with`块结束时,`ExitStack`按照后进先出的顺序调用栈中各个上下文管理器的`__exit__`方法.如果事先不知道`with`块要进入多少个上下文管理器,可以使用这个类.例如同时打开任意一个文件列表中的所有文件."
   ]
  },
  {
   "cell_type": "markdown",
   "metadata": {},
   "source": [
    "### 使用@contextmanager\n",
    "\n",
    "`@contextmanager`装饰器能减少创建上下文管理器的样板代码量,因为不用编写一个完整的类,定义`__enter__`和`__exit__`方法,而只需实现有一个`yield`语句的生成器,生成想让`__enter__`方法返回的值.\n",
    "在使用`@contextmanager`装饰的生成器中,`yield`语句的作用是把函数的定义体分成三部分:\n",
    "\n",
    "+ yield 语句前面的所有代码在with块开始时(即解释器调用`__enter__`方法时)执行\n",
    "+ yield 语句,用于抛出`__enter__`要返回的对象,并可以接收异常\n",
    "+ yield 语句后面的代码在with块结束时(即调用`__exit__`方法时)执行"
   ]
  },
  {
   "cell_type": "code",
   "execution_count": 36,
   "metadata": {
    "tags": []
   },
   "outputs": [],
   "source": [
    "import contextlib\n",
    "\n",
    "@contextlib.contextmanager\n",
    "def looking_glass():\n",
    "    import sys\n",
    "    original_write = sys.stdout.write\n",
    "    def reverse_write(text):\n",
    "        original_write(text[::-1])\n",
    "    sys.stdout.write = reverse_write\n",
    "    yield 'JABBERWOCKY'\n",
    "    sys.stdout.write = original_write"
   ]
  },
  {
   "cell_type": "code",
   "execution_count": 37,
   "metadata": {
    "scrolled": true,
    "tags": []
   },
   "outputs": [
    {
     "name": "stdout",
     "output_type": "stream",
     "text": [
      "YKCOWREBBAJ\n",
      "54321\n",
      "JABBERWOCKY\n",
      "12345\n"
     ]
    }
   ],
   "source": [
    "with looking_glass() as what:\n",
    "    print(what)\n",
    "    print(\"12345\")\n",
    "    \n",
    "print(what)\n",
    "print(\"12345\")"
   ]
  },
  {
   "cell_type": "markdown",
   "metadata": {},
   "source": [
    "其实,`contextlib.contextmanager`装饰器会把函数包装成实现`__enter__`和`__exit__`方法的类.\n",
    "\n",
    "这个类的`__enter__`方法有如下作用:\n",
    "\n",
    "1. 调用生成器函数,保存生成器对象(这里把它称为gen)\n",
    "2. 调用`next(gen)`,执行到`yield`关键字所在的位置.\n",
    "3. 返回`next(gen)`产出的值,以便把产出的值绑定到`with/as`语句中的目标变量上\n",
    "\n",
    "`with`块终止时,`__exit__`方法会做以下几件事\n",
    "\n",
    "1. 检查有没有把异常传给`exc_type`;如果有,调用`gen.throw(exception)`,在生成器函数定义体中包含`yield`关键字的那一行抛出异常.\n",
    "2. 否则调用`next(gen)`,继续执行生成器函数定义体中yield语句之后的代码\n",
    "\n",
    "如果在`with`块中抛出了异常,Python解释器会将其捕获,然后在`looking_glass`函数的`yield`表达式里再次抛出.但是那里没有处理错误的代码,因此`looking_glass`函数会中止,永远无法恢复成原来的`sys.stdout.write`方法,导致系统处于无效状态.因此上面的例子并不完整,下面给出完整的例子"
   ]
  },
  {
   "cell_type": "code",
   "execution_count": 38,
   "metadata": {
    "tags": []
   },
   "outputs": [],
   "source": [
    "@contextlib.contextmanager\n",
    "def looking_glass():\n",
    "    import sys\n",
    "    original_write = sys.stdout.write\n",
    "    def reverse_write(text):\n",
    "        original_write(text[::-1])\n",
    "    sys.stdout.write = reverse_write\n",
    "    try:\n",
    "        yield 'JABBERWOCKY'\n",
    "    except Exception as e:\n",
    "        msg = 'a error!'\n",
    "    finally:\n",
    "        sys.stdout.write = original_write \n",
    "        if msg:\n",
    "            print(msg)"
   ]
  },
  {
   "cell_type": "code",
   "execution_count": 39,
   "metadata": {
    "tags": []
   },
   "outputs": [
    {
     "name": "stdout",
     "output_type": "stream",
     "text": [
      "YKCOWREBBAJ\n",
      "54321\n",
      "a error!\n",
      "JABBERWOCKY\n",
      "12345\n"
     ]
    }
   ],
   "source": [
    "with looking_glass() as what:\n",
    "    print(what)\n",
    "    print(\"12345\")\n",
    "    raise AssertionError(\"123\")\n",
    "    \n",
    "print(what)\n",
    "print(\"12345\")"
   ]
  }
 ],
 "metadata": {
  "kernelspec": {
   "display_name": "Python 3 (ipykernel)",
   "language": "python",
   "name": "python3"
  },
  "language_info": {
   "codemirror_mode": {
    "name": "ipython",
    "version": 3
   },
   "file_extension": ".py",
   "mimetype": "text/x-python",
   "name": "python",
   "nbconvert_exporter": "python",
   "pygments_lexer": "ipython3",
   "version": "3.10.11"
  }
 },
 "nbformat": 4,
 "nbformat_minor": 4
}
