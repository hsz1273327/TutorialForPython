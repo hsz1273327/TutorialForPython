{
 "cells": [
  {
   "cell_type": "markdown",
   "metadata": {},
   "source": [
    "# 并发模型\n",
    "\n",
    "python提供的并发工具相对比较底层,达不到模型的层次,所谓的并发模型是对\n",
    "\n",
    "## 并发不是并行\n",
    "\n",
    "并发和并行常常被混淆,他们虽然有交集但其实指的是完全不同的两个事儿.\n",
    "\n",
    "+ 并发程序含有多个逻辑上的独立执行块,它们可以独立地并行执行,也可以串行执行\n",
    "\n",
    "+ 并行程序解决问题的速度往往比串行程序快得多,因为其可以同时执行整个任务的多个部分.并行程序可能有多个独立执行块,也可能仅有一个\n",
    "\n",
    "我们还可以从另一种角度来看待并发和并行之间的差异:\n",
    "\n",
    "+ 并发是问题域中的概念——程序需要被设计成能够处理多个同时(或者几乎同时)发生的事件\n",
    "+ 而并行则是方法域中的概念——通过将问题中的多个部分并行执行,从而加速解决问题.\n",
    "\n",
    "引用Rob Pike的经典描述:\n",
    "\n",
    "并发是同一时间应对(dealing with)多件事情的能力;并行是同一时间动手做(doing)多件事情的能力.\n",
    "\n",
    "\n",
    "本文基于协程讲解并发模型."
   ]
  },
  {
   "cell_type": "markdown",
   "metadata": {},
   "source": [
    "## Actor模型"
   ]
  },
  {
   "cell_type": "code",
   "execution_count": 13,
   "metadata": {
    "tags": []
   },
   "outputs": [
    {
     "name": "stdout",
     "output_type": "stream",
     "text": [
      "start\n",
      "ping\n",
      "pong\n",
      "ping\n",
      "pong\n",
      "ping\n",
      "pong\n",
      "ping\n",
      "pong\n",
      "ping\n",
      "pong\n",
      "ping\n",
      "pong\n",
      "actor closed\n",
      "actor closed\n"
     ]
    }
   ],
   "source": [
    "import asyncio\n",
    "from asyncio import Queue\n",
    "\n",
    "class ActorExit(Exception):\n",
    "    pass\n",
    "\n",
    "class Actor:\n",
    "\n",
    "    def __init__(self):# ,loop=None):\n",
    "        self.inbox = Queue()\n",
    "        self.running = False\n",
    "        \n",
    "    def send_nowait(self, msg):\n",
    "        '''\n",
    "        Send a message to the actor\n",
    "        '''\n",
    "        self.inbox.put_nowait(msg)\n",
    "        \n",
    "    async def send(self, msg):\n",
    "        '''\n",
    "        Send a message to the actor\n",
    "        '''\n",
    "        await self.inbox.put(msg)\n",
    "        \n",
    "    async def close(self):\n",
    "        await self.send(ActorExit)\n",
    "        \n",
    "    def close_nowait(self):\n",
    "        self.send_nowait(ActorExit)\n",
    "    async def handle_timeout(self):\n",
    "        pass\n",
    "\n",
    "    async def receive(self, message):\n",
    "        \"\"\"\n",
    "        Define in your subclass.\n",
    "        \"\"\"\n",
    "        raise NotImplemented()\n",
    "\n",
    "    async def run(self):\n",
    "        self.running = True\n",
    "        while self.running:\n",
    "            try:\n",
    "                message = await self.inbox.get()\n",
    "            except asyncio.TimeoutError:\n",
    "                await self.handle_timeout()\n",
    "            else:\n",
    "                if message is ActorExit:\n",
    "                    print(\"actor closed\")\n",
    "                    return\n",
    "                else:\n",
    "                    await self.receive(message)\n",
    "\n",
    "class Pinger(Actor):\n",
    "    async def receive(self, message):\n",
    "        print(message)\n",
    "        await pong.send('ping')\n",
    "        await asyncio.sleep(0.5)\n",
    "\n",
    "class Ponger(Actor):\n",
    "    async def receive(self, message):\n",
    "        print(message)\n",
    "        await ping.send('pong')\n",
    "        await asyncio.sleep(0.5)\n",
    "async def sleep10():\n",
    "    await asyncio.sleep(3)\n",
    "    await ping.close()\n",
    "    await pong.close()\n",
    "    \n",
    "ping = Pinger()#(loop=loop)\n",
    "pong = Ponger()#(loop=loop)\n",
    "ping.send_nowait('start')\n",
    "\n",
    "for coro in asyncio.as_completed((ping.run(), pong.run(),sleep10())):\n",
    "    earliest_result = await coro"
   ]
  },
  {
   "cell_type": "markdown",
   "metadata": {},
   "source": [
    "## 实现消息的发布订阅\n",
    "\n",
    "\n",
    "要实现`发布/订阅`的消息通信模式,你通常要引入一个单独的\"交换机\"或\"网关\"对象作为所有消息的中介.也就是说不直接将消息从一个任务发送到另一个,而是将其发送给一个频道,然后由频道将它发送给一个或多个被关联任务.下面是一个非常简单的频道实现例子:"
   ]
  },
  {
   "cell_type": "code",
   "execution_count": 2,
   "metadata": {
    "tags": []
   },
   "outputs": [],
   "source": [
    "from collections import defaultdict\n",
    "from contextlib import contextmanager\n",
    "class Exchange:\n",
    "    \n",
    "    def __init__(self):\n",
    "        self._subscribers = set()\n",
    "\n",
    "    def attach(self, task):\n",
    "        self._subscribers.add(task)\n",
    "\n",
    "    def detach(self, task):\n",
    "        self._subscribers.remove(task)\n",
    "\n",
    "    @contextmanager\n",
    "    def subscribe(self, *tasks):\n",
    "        for task in tasks:\n",
    "            self.attach(task)\n",
    "        try:\n",
    "            yield self\n",
    "        finally:\n",
    "            for task in tasks:\n",
    "                self.detach(task)\n",
    "\n",
    "    async def send(self, msg):\n",
    "        for subscriber in self._subscribers:\n",
    "            await subscriber.send(msg)\n",
    "\n",
    "_exchanges = defaultdict(Exchange)\n",
    "\n",
    "def get_exchange(name):\n",
    "    return _exchanges[name]"
   ]
  },
  {
   "cell_type": "markdown",
   "metadata": {},
   "source": [
    "一个频道就是一个普通对象,负责维护一个活跃的订阅者集合并为绑定,解绑和发送消息提供相应的方法. 每个交换机通过一个名称定位,`get_exchange()`通过给定一个名称返回相应的`Exchange`实例."
   ]
  },
  {
   "cell_type": "code",
   "execution_count": 4,
   "metadata": {},
   "outputs": [
    {
     "name": "stdout",
     "output_type": "stream",
     "text": [
      "msg[1]: 'msg1'\n",
      "msg[1]: 'msg1'\n",
      "msg[2]: 'msg2'\n",
      "msg[2]: 'msg2'\n"
     ]
    }
   ],
   "source": [
    "class DisplayMessages:\n",
    "    def __init__(self):\n",
    "        self.count = 0\n",
    "    async def send(self, msg):\n",
    "        self.count += 1\n",
    "        print('msg[{}]: {!r}'.format(self.count, msg))\n",
    "        \n",
    "\n",
    "# Return the Exchange instance associated with a given name\n",
    "def get_exchange(name):\n",
    "    return _exchanges[name]\n",
    "\n",
    "# Example of using the subscribe() method\n",
    "async def main():\n",
    "    exc = get_exchange('name')\n",
    "    task_a, task_b = DisplayMessages(),DisplayMessages()\n",
    "    with exc.subscribe(task_a, task_b) as ex:\n",
    "        await ex.send('msg1')\n",
    "        await ex.send('msg2')\n",
    "        \n",
    "loop = asyncio.new_event_loop()\n",
    "asyncio.set_event_loop(loop)\n",
    "loop.run_until_complete(main())\n",
    "loop.close()\n"
   ]
  },
  {
   "cell_type": "code",
   "execution_count": 5,
   "metadata": {
    "tags": []
   },
   "outputs": [],
   "source": [
    "from itertools import count"
   ]
  },
  {
   "cell_type": "code",
   "execution_count": 6,
   "metadata": {
    "tags": []
   },
   "outputs": [],
   "source": [
    "c = count()"
   ]
  },
  {
   "cell_type": "code",
   "execution_count": 7,
   "metadata": {},
   "outputs": [
    {
     "data": {
      "text/plain": [
       "0"
      ]
     },
     "execution_count": 7,
     "metadata": {},
     "output_type": "execute_result"
    }
   ],
   "source": [
    "next(c)"
   ]
  },
  {
   "cell_type": "code",
   "execution_count": 8,
   "metadata": {},
   "outputs": [
    {
     "data": {
      "text/plain": [
       "1"
      ]
     },
     "execution_count": 8,
     "metadata": {},
     "output_type": "execute_result"
    }
   ],
   "source": [
    "next(c)"
   ]
  }
 ],
 "metadata": {
  "kernelspec": {
   "display_name": "Python 3 (ipykernel)",
   "language": "python",
   "name": "python3"
  },
  "language_info": {
   "codemirror_mode": {
    "name": "ipython",
    "version": 3
   },
   "file_extension": ".py",
   "mimetype": "text/x-python",
   "name": "python",
   "nbconvert_exporter": "python",
   "pygments_lexer": "ipython3",
   "version": "3.10.11"
  }
 },
 "nbformat": 4,
 "nbformat_minor": 4
}
