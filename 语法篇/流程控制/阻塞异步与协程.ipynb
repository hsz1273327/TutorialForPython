{
 "cells": [
  {
   "cell_type": "markdown",
   "metadata": {},
   "source": [
    "# 从顺序执行到并行执行\n",
    "\n",
    "\n",
    "前几天去外地参加朋友婚礼,作为一个外地人我是不认路的,但我被安排了去接其他客人,于是我不得不依赖导航.我需要打开导航,听着它的指挥开车.\n",
    "\n",
    "这就是一个典型的并行执行的过程,我要同时开车,并且同时监听着手机上的导航的指挥.\n",
    "\n",
    "人们往往是同时做几件,比如边看电视边吃饭,边听音乐边工作,边打电话边开车(千万不要这么做).并且很多时候我们不得不同时做几件事,而一件事是另一件事的依赖.\n",
    "\n",
    "人可以并行的执行任务(事实上人脑就是并行处理事件的)但电脑'不行',单核电脑比较耿直只会按固定好的顺序执行任务.前文也已经介绍过了如何组织单线程过程.\n",
    "\n",
    "但好在电脑的运转速度远比人的反应速度快,因此我们可以耍点小花招让多个任务看起来是一起执行的.\n",
    "\n",
    "拿之前看导航开车的例子来说,实际上我开车这个事件可以看作一个循环,每个循环中我有两个动作\n",
    "\n",
    "+ 我的耳朵在监听着手机(使用声音的音色语调等特征识别),当它有指示的时候我会按照指示执行\n",
    "+ 没有指示就根据路况开一段\n",
    "\n",
    "当然了这个事件看起来作为并发的例子更加合适,但道理是一样的.\n",
    "\n",
    "\n",
    "**注意**:本文使用jupyter notebook在ipykernel 5.0+下编写.由于ipykernel有autoawait机制可以直接await协程,在`.py`文件中`await`关键字只能在协程函数中使用,并且启动项目需要使用标准库中的方法`asyncio.run(cor)`启动入口协程.\n",
    "\n",
    "一个典型的基于协程的函数可以这样写:\n",
    "\n",
    "```python\n",
    "import asyncio\n",
    "\n",
    "async def main():\n",
    "    print('Hello ...')\n",
    "    await asyncio.sleep(1)\n",
    "    print('... World!')\n",
    "\n",
    "asyncio.run(main())\n",
    "```"
   ]
  },
  {
   "cell_type": "markdown",
   "metadata": {},
   "source": [
    "## 阻塞与非阻塞\n",
    "\n",
    "阻塞和非阻塞关注的是程序在等待调用结果(消息,返回值)时的状态.\n",
    "\n",
    "+ 阻塞调用是指调用结果返回之前，当前线程会被挂起.调用线程只有在得到结果之后才会返回.\n",
    "\n",
    "+ 非阻塞调用指在不能立刻得到结果之前,该调用不会阻塞当前线程.\n",
    "\n",
    "如果开车的时候我监听导航是阻塞的,那就意味着我的关注点转移到了导航上,必须要有它的指导我才会有动作,这么开车早就出事故了.\n",
    "\n",
    "推广到我们的程序,也就是说我们的流程需要可以被保存状态,将线程的控制权转移到其他流程中.同时也要可以下次再被转移回来接着上次的继续运行."
   ]
  },
  {
   "cell_type": "markdown",
   "metadata": {},
   "source": [
    "## 同步与异步\n",
    "\n",
    "同步与异步同步和异步关注的是消息通信机制(synchronous communication/ asynchronous communication).\n",
    "\n",
    "+ 所谓同步就是在发出一个`*调用*`时,在没有得到结果之前,该`*调用*`就不返回.但是一旦调用返回就得到返回值了.换句话说,就是由`*调用者*`主动等待这个`*调用*`的结果.\n",
    "\n",
    "+ 而异步则是相反,`*调用*`在发出之后这个调用就直接返回了,所以没有返回结果.换句话说当一个异步过程调用发出后,调用者不会立刻得到结果.而是在`*调用*`发出后,`*被调用者*`通过状态,通知来通知调用者,或通过回调函数处理这个调用.\n",
    "\n",
    "开车的时候导航就是异步的,当打开导航后就会有个反馈--地图上我们的位置会被标记出来.而实际的导航信息都是由导航自己语音通知我们的.\n",
    "\n",
    "\n",
    "有了上面的概念,我们就可以来看看python中官方的单线程并行解决方案了"
   ]
  },
  {
   "cell_type": "markdown",
   "metadata": {},
   "source": [
    "## 协程及其语法\n",
    "\n",
    "协程是一种单线程通过调度器或者事件循环从而实现的并行的解决方案.它是由用户控制的\"并行\",因此只要代码一样(没有使用random)协程的运行顺序就是一样的.实际上完全可以等价的用回调函数实现.\n",
    "\n",
    "协程是实现高并发的方案中开销最小的方案.在io密集型任务中往往是最高效的方案.python3.5以后协程语法已经基本定型.在随后的3.6,3.7中接口逐步完善,协程语法变得更加优雅好用.\n",
    "\n",
    "python的协程模型可以分为如下几个部分:\n",
    "\n",
    "+ `coroutine function`:协程函数,创建协程的工厂.用async关键字定义的函数,调用它就会创建一个协程对象\n",
    "\n",
    "+ `coroutine` 协程对象:协程对象无法自己执行,需要将其注册到事件循环中转变为一个Task对象才会被执行.协程对象一定满足`Awaitable`协议\n",
    "\n",
    "+ `Future` 期程对象:一个低级别对象用来链接底层回调式代码和高层异步/等待式代码,其概念类似JS中的Promise.通常在应用时不会用到,但在写模块时会用到,期程一定满足`Awaitable`协议\n",
    "\n",
    "+ `Task` 任务对象:被注册到事件循环的协程对象就是一个任务对象.任务对象一定满足`Awaitable`协议,`Task`是`Future`的子类,因此任务对象也是一个期程对象\n",
    "\n",
    "+ `event_loop` 调度器/事件循环(:用于调度协程运行的顺序,调度器用于调度协程而事件循环则是一种特殊的调度器--程序开启一个无限的循环,程序员会把一些函数注册到事件循环上.当满足事件发生的时候,调用相应的协程函数.我们应该尽量的使用`asyncio`的高级api,隐式的执行协程.\n",
    "\n",
    "\n",
    "\n",
    "协程语法可以说是函数的一个超集,它的特征是使用`async def`来定义,并且可以在其内部使用`await`关键字等待另一个协程完成.协程对象的抽象基类为`collections.abc.Coroutine`,实现`send(value)`,`throw(type, exc, tb)`,`close()`和`__await__()`接口.\n",
    "\n",
    "可以看出协程与生成器接口相似,就是多了个`__await__()`少了迭代器相关的`__next__()和__iter__()`事实上,在3.7版本之前,协程都是使用生成器来实现的.\n",
    "\n",
    "\n",
    "协程对象内部需要实现`Awaitable`协议,也就是要实现`__await__`接口,这个接口必须返回一个迭代器,带有这一接口的对象我们称之为`Future-like`对象,有它的就可以被程序用`await`关键字挂起等待,`Future-like`类的抽象基类为`collections.abc.Awaitable`\n",
    "\n",
    "### await语法\n",
    "\n",
    "await就是用来挂起等待任务结束的关键字它只能在协程中使用.它的后面必须是一个`Awaitable`的对象\n",
    "\n",
    "有效用法:\n",
    "\n",
    "表达式|\t被解析为\n",
    "---|---\n",
    "`if await fut: pass`\t|`if (await fut): pass`\n",
    "`if await fut + 1: pass`\t|`if (await fut) + 1: pass`\n",
    "`pair = await fut, 'spam'`\t|`pair = (await fut), 'spam'`\n",
    "`with await fut, open(): pass`\t|`with (await fut), open(): pass`\n",
    "`await foo()['spam'].baz()()`|\t`await ( foo()['spam'].baz()() )`\n",
    "`return await coro()`\t|`return ( await coro() )`\n",
    "`res = await coro() ** 2`|\t`res = (await coro()) ** 2`\n",
    "`func(a1=await coro(), a2=0)`\t|`func(a1=(await coro()), a2=0)`\n",
    "`await foo() + await bar()`|`(await foo()) + (await bar())`\n",
    "`-await foo()`|\t`-(await foo())`\n",
    "\n",
    "无效用法：\n",
    "\n",
    "表达式|\t应该写为\n",
    "---|---\n",
    "`await await coro()`|\t`await (await coro())`\n",
    "`await -coro()`|\t`await (-coro())`\n",
    "\n",
    "\n",
    "一般来说await会挂起直到它下面的一串`Future-like`对象都运行结束才会继续向下."
   ]
  },
  {
   "cell_type": "markdown",
   "metadata": {},
   "source": [
    "### 异步迭代器和async for\n",
    "\n",
    "\n",
    "异步迭代器可以在它的iter实现里挂起,调用异步代码,也可以在它的`__next__`方法里挂起,调用异步代码.要支持异步迭代,需要:\n",
    "\n",
    "+ 对象必须实现一个`__aiter__`接口,返回一个异步迭代器对象,这个异步迭代器对象在每次迭代时会返回一个`Future-like`对象\n",
    "+ 一个异步迭代器必须实现一个`__anext__`方法,在每次迭代时返回一个`Future-like`对象\n",
    "+ 要停止迭代,`__anext__`必须抛出一个`StopAsyncIteration`异常\n",
    "\n",
    "python的buildin方法中有`aiter()`和`anext()`可以直接调用异步迭代器的对应接口实现.\n",
    "\n",
    "例子:"
   ]
  },
  {
   "cell_type": "code",
   "execution_count": 8,
   "metadata": {
    "tags": []
   },
   "outputs": [],
   "source": [
    "import asyncio\n",
    "class Ticker:\n",
    "    \"\"\"Yield numbers from 0 to `to` every `delay` seconds.\"\"\"\n",
    "\n",
    "    def __init__(self, delay, to):\n",
    "        self.delay = delay\n",
    "        self.i = 0\n",
    "        self.to = to\n",
    "\n",
    "    def __aiter__(self):\n",
    "        return self\n",
    "\n",
    "    async def __anext__(self):\n",
    "        i = self.i\n",
    "        if i >= self.to:\n",
    "            raise StopAsyncIteration\n",
    "        self.i += 1\n",
    "        if i:\n",
    "            await asyncio.sleep(self.delay)\n",
    "        return i\n",
    "\n",
    "async def main():\n",
    "    async for i in Ticker(1,5):\n",
    "        print(i)"
   ]
  },
  {
   "cell_type": "code",
   "execution_count": 9,
   "metadata": {
    "tags": []
   },
   "outputs": [
    {
     "name": "stdout",
     "output_type": "stream",
     "text": [
      "0\n",
      "1\n",
      "2\n",
      "3\n",
      "4\n"
     ]
    }
   ],
   "source": [
    "await main()"
   ]
  },
  {
   "cell_type": "markdown",
   "metadata": {},
   "source": [
    "### 异步列表解析\n",
    "\n",
    "列表解析中可以使用`await`来等待`Future-like`对象的结果,如:\n",
    "\n",
    "`result = [await fun() for fun in funcs if await condition()]`\n",
    "\n",
    "\n",
    "在列表中允许使用`async for`来做迭代,它的形式如下:\n",
    "\n",
    "`[i async for i in Ticker(1,5) if i % 2]`"
   ]
  },
  {
   "cell_type": "code",
   "execution_count": 5,
   "metadata": {},
   "outputs": [
    {
     "name": "stdout",
     "output_type": "stream",
     "text": [
      "[1, 3]\n"
     ]
    }
   ],
   "source": [
    "import asyncio\n",
    "class Ticker:\n",
    "    \"\"\"Yield numbers from 0 to `to` every `delay` seconds.\"\"\"\n",
    "\n",
    "    def __init__(self, delay, to):\n",
    "        self.delay = delay\n",
    "        self.i = 0\n",
    "        self.to = to\n",
    "\n",
    "    def __aiter__(self):\n",
    "        return self\n",
    "\n",
    "    async def __anext__(self):\n",
    "        i = self.i\n",
    "        if i >= self.to:\n",
    "            raise StopAsyncIteration\n",
    "        self.i += 1\n",
    "        if i:\n",
    "            await asyncio.sleep(self.delay)\n",
    "        return i\n",
    "\n",
    "async def main():\n",
    "    result = [i async for i in Ticker(1,5) if i % 2]\n",
    "    print(result)\n",
    "    \n",
    "await main()"
   ]
  },
  {
   "cell_type": "markdown",
   "metadata": {},
   "source": [
    "### 异步迭代器工具\n",
    "\n",
    "github上有一个异步迭代器工具[aitertools](https://github.com/asyncdef/aitertools),它的主要作用就是转换同步迭代器和对一步迭代器进行组合,主要的接口有:\n",
    "\n",
    "\n",
    "+ `aiter(iter)` 将一个同步的可迭代对象转化为异步可迭代对象\n",
    "+ `alist(aiter)` 将一个异步可迭代对象转化为list\n",
    "+ `atuple(aiter)` 将一个异步可迭代对象转化为tuple\n",
    "+ `count(start=0, step=1)` 生成一个从start开始每次步进step的异步计数器\n",
    "+ `cycle(aiter)` 将一个异步可迭代对象转化为一个以他为基础的循环\n",
    "+ `(obj, times=None)` 将一个对象转化为一个以他为基础的重复异步可迭代对象\n",
    "+ `accumulate(iterable, func=operator.add)` 对一个异步可迭代对象进行卷积\n",
    "+ `chain(*iterables)` 将几个可迭代对象串联\n",
    "+ `compress(data, selectors)`并行处理两个可迭代的对象;如果selectors中的元素是真值,产出data中对应的元素\n",
    "+ `dropwhile(predicate, iterable)`处理iterable,跳过predicate的计算结果为真值的元素,然后产出剩下的各个元素(不再进一步检查)\n",
    "+ `filterfalse(predicate, iterable)`与filter函数的作用类似,不过predicate的逻辑是相反的--predicate返回假值时产出对应的元素\n",
    "+ `groupby(iterable, key=None)`产出由两个元素组成的元素,形式为(key,group)其中key是分组标准,group是生成器,用于产出分组里的元素\n",
    "+ `islice(iterable, *args)`产出it的切片,作用类似于s[:stop]或s[start:stop:step],不过it可以是任何可迭代的对象,而且这个函数实现的是惰性操作\n",
    "+ `starmap(func, iterable)`把it中的各个元素传给func,产出结果;输入的可迭代对象应该产出可迭代的元素iit,然后以`func(*iit)`这种形式调用func\n",
    "+ `takewhile(predicate, iterable)`predicate返回真值时产出对应的元素,然后立即停止,不再继续检查\n",
    "+ `tee(iterable, n=2)`产出一个由n个生成器组成的元组,每个生成器用于单独产出输入的可迭代对象中的元素\n",
    "+ `zip_longest(*iterables, fillvalue=None)`并行从输入的各个可迭代对象中获取元素,产出由N个元素组成的元组,等到最长的可迭代对象到头后才停止,空缺的值使用fillvalue填充\n",
    "+ `product(*iterables, repeat=1)`把前两个元素传给func,然后把计算结果和第三个元素传给func,以此类推,返回最后的结果;如果提供了initial,把它当作第一个元素传入\n",
    "\n"
   ]
  },
  {
   "cell_type": "markdown",
   "metadata": {},
   "source": [
    "### 异步上下文管理器和`async with`\n",
    "\n",
    "异步上下文管理器类似普通的上下文管理器,可以让程序在进入上下文和离开上下文之间挂起状态,调用异步代码.\n",
    "\n",
    "异步上下文管理器需要实现两个接口\n",
    "\n",
    "+ `__aenter__`处理进入上下文时的操作,如果有返回值,则可以使用`as`标定上下文中的变量名\n",
    "+ `__aexit__`处理离开上下文时的操作,和`__exit__`的参数一样,它的参数必须是`self`,`exc_type`, `exc`, `tb`,分别代表对象自身对象,exception_type , exception_value , 和 traceback,如果正常退出,`exc_type`, `exc`, `tb`将会是 None.\n",
    "\n",
    "`__aenter__`和`__aexit__`,它们必须返回一个`Future-like`对象\n",
    "\n",
    "和普通的with语句一样,可以在单个async with语句里指定多个上下文管理器.\n",
    "\n",
    "异步上下文管理器的一个示例:"
   ]
  },
  {
   "cell_type": "code",
   "execution_count": 7,
   "metadata": {},
   "outputs": [
    {
     "name": "stdout",
     "output_type": "stream",
     "text": [
      "entering context\n",
      "0\n",
      "1\n",
      "2\n",
      "3\n",
      "4\n",
      "exit context\n"
     ]
    }
   ],
   "source": [
    "import asyncio\n",
    "class Ticker:\n",
    "    \"\"\"Yield numbers from 0 to `to` every `delay` seconds.\"\"\"\n",
    "\n",
    "    def __init__(self, delay, to):\n",
    "        self.delay = delay\n",
    "        self.i = 0\n",
    "        self.to = to\n",
    "\n",
    "    def __aiter__(self):\n",
    "        return self\n",
    "\n",
    "    async def __anext__(self):\n",
    "        i = self.i\n",
    "        if i >= self.to:\n",
    "            raise StopAsyncIteration\n",
    "        self.i += 1\n",
    "        if i:\n",
    "            await asyncio.sleep(self.delay)\n",
    "        return i\n",
    "class AsyncContextTicker:\n",
    "    def __init__(self,delay, to):\n",
    "        self.data = Ticker(delay, to)\n",
    "        \n",
    "    async def __aenter__(self):\n",
    "        print('entering context')\n",
    "        await asyncio.sleep(1)\n",
    "        return self.data\n",
    "        \n",
    "    async def __aexit__(self, exc_type, exc, tb):\n",
    "        await asyncio.sleep(1)\n",
    "        print('exit context')\n",
    "        \n",
    "\n",
    "async def main():\n",
    "    async with AsyncContextTicker(1,5) as ticker:\n",
    "        async for i in ticker:\n",
    "            print(i)\n",
    "        \n",
    "await main()"
   ]
  },
  {
   "cell_type": "markdown",
   "metadata": {},
   "source": [
    "### contextlib快速创建异步上下文管理器\n",
    "\n",
    "就像同步接口中的上下文管理器with一样,在python3.7中`contextlib.asynccontextmanager`装饰器现在可以快速创建异步上下文管理器了.\n",
    "\n",
    "其使用方式也一致,使用`yield`区分上下文的创建和回收两段.上面的例子可以修改为:"
   ]
  },
  {
   "cell_type": "code",
   "execution_count": 9,
   "metadata": {},
   "outputs": [
    {
     "name": "stdout",
     "output_type": "stream",
     "text": [
      "entering context\n",
      "0\n",
      "1\n",
      "2\n",
      "3\n",
      "4\n",
      "exit context\n"
     ]
    }
   ],
   "source": [
    "import contextlib\n",
    "\n",
    "@contextlib.asynccontextmanager\n",
    "async def AsyncContextTicker2(delay, to):\n",
    "    data = Ticker(delay, to)\n",
    "    print('entering context')\n",
    "    await asyncio.sleep(1)\n",
    "    try:\n",
    "        yield data\n",
    "    finally:\n",
    "        await asyncio.sleep(1)\n",
    "        print('exit context')\n",
    "        \n",
    "\n",
    "async def main():\n",
    "    async with AsyncContextTicker2(1,5) as ticker:\n",
    "        async for i in ticker:\n",
    "            print(i)\n",
    "        \n",
    "await main()"
   ]
  },
  {
   "cell_type": "markdown",
   "metadata": {},
   "source": [
    "### 异步生成器\n",
    "\n",
    "带`yield`关键字的函数是生成器,带`yield`关键字的协程就是异步生成器,从效果上看异步生成器效果和异步迭代器效果差不多,它需要实现协议:\n",
    "\n",
    "+ PyAsyncGenASend : `__anext__`和`asend()`接口 ,对应一般生成器中的`__next__`和`send()`,用于在异步生成器间交互信息\n",
    "+ PyAsyncGenAThrow :  `athrow()` and `aclose()`接口,对应一般生成器的`throw()`和`close()`,用于关闭异步生成器或者抛出错误\n",
    "+ `StopAsyncIteration`用于标注结束\n"
   ]
  },
  {
   "cell_type": "code",
   "execution_count": 10,
   "metadata": {},
   "outputs": [
    {
     "name": "stdout",
     "output_type": "stream",
     "text": [
      "0\n",
      "1\n",
      "2\n",
      "3\n",
      "4\n"
     ]
    }
   ],
   "source": [
    "import asyncio\n",
    "async def ticker(delay, to):\n",
    "    \"\"\"Yield numbers from 0 to *to* every *delay* seconds.\"\"\"\n",
    "    for i in range(0,to):\n",
    "        yield i\n",
    "        await asyncio.sleep(delay)\n",
    "        \n",
    "async def main():\n",
    "    async for i in ticker(1,5):\n",
    "        print(i)\n",
    "        \n",
    "await main()"
   ]
  },
  {
   "cell_type": "markdown",
   "metadata": {},
   "source": [
    "### 关于`yield from`\n",
    "\n",
    "因为异步步生成器本质上是异步迭代器的子类,我们可以利用这一点使用`async for`语句代替`yield from`的语义."
   ]
  },
  {
   "cell_type": "code",
   "execution_count": 11,
   "metadata": {},
   "outputs": [
    {
     "name": "stdout",
     "output_type": "stream",
     "text": [
      "0\n",
      "1\n",
      "2\n",
      "3\n",
      "4\n"
     ]
    }
   ],
   "source": [
    "import asyncio\n",
    "async def g1(x):\n",
    "    for i in range(x):\n",
    "        yield i\n",
    "\n",
    "async def g2():\n",
    "    async for v in g1(5):\n",
    "        yield v\n",
    "        \n",
    "async def main():\n",
    "    async for i in g2():\n",
    "        print(i)\n",
    "        \n",
    "\n",
    "await main()"
   ]
  },
  {
   "cell_type": "markdown",
   "metadata": {},
   "source": [
    "### 协程的状态\n",
    "\n",
    "协程可以有4种状态,可以是用python的反射模块`inspect.getcoroutinestate(coroutine)`来查看\n",
    "\n",
    "\n",
    "+ CORO_CREATED: 等待被使用\n",
    "+ CORO_RUNNING: 目前执行中\n",
    "+ CORO_SUSPENDED: 目前在`await`处暂停等待信号中\n",
    "+ CORO_CLOSED: 执行结束\n"
   ]
  },
  {
   "cell_type": "markdown",
   "metadata": {},
   "source": [
    "### 实用例子\n",
    "\n",
    "协程有三种不同的代码编写风格:\n",
    "\n",
    "+ 拉取式\n",
    "\n",
    "    典型的异步生成器和异步迭代器使用场景\n",
    "\n",
    "+ 推送式\n",
    "\n",
    "    通过将数据推送给协程让协程一步一步的计算返回数据\n",
    "\n",
    "+ 任务式\n",
    "\n",
    "    根据状态来排定运行顺序\n",
    "    \n",
    "#### 推送式\n",
    "\n",
    "我们用一个计算移动平均值的异步生成器来看看协程是如何工作的."
   ]
  },
  {
   "cell_type": "code",
   "execution_count": 12,
   "metadata": {},
   "outputs": [
    {
     "name": "stdout",
     "output_type": "stream",
     "text": [
      "0.0\n",
      "0.5\n",
      "1.0\n",
      "1.5\n",
      "2.0\n",
      "2.5\n",
      "3.0\n",
      "3.5\n",
      "4.0\n",
      "4.5\n",
      "5.0\n"
     ]
    }
   ],
   "source": [
    "async def averager():\n",
    "    total = 0.0\n",
    "    count = 0\n",
    "    average = None\n",
    "    while True: \n",
    "        term = yield average\n",
    "        total += term\n",
    "        count += 1\n",
    "        average = total/count\n",
    "        \n",
    "async def grouper():\n",
    "    aver = averager()\n",
    "    await aver.__anext__()\n",
    "    for i in range(11):\n",
    "        j = await aver.asend(i)\n",
    "        print(j)\n",
    "await grouper()"
   ]
  },
  {
   "cell_type": "markdown",
   "metadata": {},
   "source": [
    "#### 任务式\n",
    "\n",
    "一个简单的离散事件仿真类--出租车队运营仿真"
   ]
  },
  {
   "cell_type": "code",
   "execution_count": 1,
   "metadata": {},
   "outputs": [],
   "source": [
    "import random\n",
    "from collections import namedtuple\n",
    "import asyncio\n",
    "import argparse\n",
    "import time"
   ]
  },
  {
   "cell_type": "code",
   "execution_count": 2,
   "metadata": {},
   "outputs": [],
   "source": [
    "Event = namedtuple('Event',[ 'time', 'proc', 'action'])#定义事件"
   ]
  },
  {
   "cell_type": "code",
   "execution_count": 3,
   "metadata": {},
   "outputs": [],
   "source": [
    "DEFAULT_NUMBER_OF_TAXIS = 3#出租车数量\n",
    "DEFAULT_END_TIME = 180#运行时间默认180\n",
    "SEARCH_DURATION = 5 #找乘客时间默认为5\n",
    "TRIP_DURATION = 20 #载客时间默认为20\n",
    "DEPARTURE_INTERVAL = 5#出库间隔默认5"
   ]
  },
  {
   "cell_type": "code",
   "execution_count": 4,
   "metadata": {},
   "outputs": [],
   "source": [
    "async def taxi_process(ident, trips, start_time=0):\n",
    "    \"\"\"每次改变状态时创建事件，把控制权让给仿真器\"\"\"\n",
    "    # 定义一个异步生成器,用于描述process\n",
    "    time = yield Event(start_time, ident, 'leave garage') \n",
    "    for i in range(trips):\n",
    "        time = yield Event(time, ident, 'pick up passenger')\n",
    "        time = yield Event(time, ident, 'drop off passenger') \n",
    "    yield Event(time, ident, 'going home')"
   ]
  },
  {
   "cell_type": "code",
   "execution_count": 5,
   "metadata": {},
   "outputs": [],
   "source": [
    "def compute_duration(previous_action):\n",
    "    \"\"\"Compute action duration using exponential distribution\"\"\"\n",
    "    if previous_action in ['leave garage', 'drop off passenger']:\n",
    "        # new state is prowling\n",
    "        interval = SEARCH_DURATION\n",
    "    elif previous_action == 'pick up passenger':\n",
    "        # new state is trip\n",
    "        interval = TRIP_DURATION\n",
    "    elif previous_action == 'going home':\n",
    "        interval = 1\n",
    "    else:\n",
    "        raise ValueError('Unknown previous_action: %s' % previous_action)\n",
    "    return int(random.expovariate(1/interval)) + 1"
   ]
  },
  {
   "cell_type": "code",
   "execution_count": 9,
   "metadata": {},
   "outputs": [],
   "source": [
    "class Simulator:\n",
    "    def __init__(self, procs_map):\n",
    "        self.events = asyncio.PriorityQueue()\n",
    "        self.procs = dict(procs_map)\n",
    "\n",
    "    async def run(self, end_time): \n",
    "        \"\"\"排定并显示事件，直到时间结束\"\"\"\n",
    "        for _, proc in sorted(self.procs.items()):\n",
    "            first_event = await proc.__anext__()\n",
    "            await self.events.put(first_event)\n",
    "        sim_time = 0\n",
    "        while sim_time < end_time:\n",
    "            if self.events.empty():\n",
    "                print('*** end of events ***')\n",
    "                break\n",
    "            \n",
    "            current_event = await self.events.get()\n",
    "            sim_time, proc_id, previous_action = current_event\n",
    "            print('taxi:', proc_id, proc_id * ' ', current_event)\n",
    "            active_proc = self.procs[proc_id]\n",
    "            next_time = sim_time + compute_duration(previous_action)\n",
    "            try:\n",
    "                next_event = await active_proc.asend(next_time)\n",
    "            except StopAsyncIteration:\n",
    "                del self.procs[proc_id]\n",
    "            else:\n",
    "                await self.events.put(next_event)\n",
    "        else:\n",
    "            msg = f'*** end of simulation time: {self.events.qsize()} events pending ***'\n",
    "            print(msg)"
   ]
  },
  {
   "cell_type": "code",
   "execution_count": 10,
   "metadata": {
    "scrolled": true
   },
   "outputs": [],
   "source": [
    "taxis = {i: taxi_process(i, (i + 1) * 2, i * DEPARTURE_INTERVAL) for i in range(DEFAULT_NUMBER_OF_TAXIS)}"
   ]
  },
  {
   "cell_type": "code",
   "execution_count": 11,
   "metadata": {},
   "outputs": [],
   "source": [
    "sim = Simulator(taxis)"
   ]
  },
  {
   "cell_type": "code",
   "execution_count": 12,
   "metadata": {},
   "outputs": [
    {
     "name": "stdout",
     "output_type": "stream",
     "text": [
      "taxi: 0  Event(time=0, proc=0, action='leave garage')\n",
      "taxi: 0  Event(time=1, proc=0, action='pick up passenger')\n",
      "taxi: 1   Event(time=5, proc=1, action='leave garage')\n",
      "taxi: 1   Event(time=9, proc=1, action='pick up passenger')\n",
      "taxi: 2    Event(time=10, proc=2, action='leave garage')\n",
      "taxi: 2    Event(time=13, proc=2, action='pick up passenger')\n",
      "taxi: 2    Event(time=25, proc=2, action='drop off passenger')\n",
      "taxi: 2    Event(time=30, proc=2, action='pick up passenger')\n",
      "taxi: 2    Event(time=32, proc=2, action='drop off passenger')\n",
      "taxi: 0  Event(time=34, proc=0, action='drop off passenger')\n",
      "taxi: 2    Event(time=35, proc=2, action='pick up passenger')\n",
      "taxi: 0  Event(time=45, proc=0, action='pick up passenger')\n",
      "taxi: 0  Event(time=47, proc=0, action='drop off passenger')\n",
      "taxi: 0  Event(time=48, proc=0, action='going home')\n",
      "taxi: 2    Event(time=48, proc=2, action='drop off passenger')\n",
      "taxi: 2    Event(time=54, proc=2, action='pick up passenger')\n",
      "taxi: 1   Event(time=81, proc=1, action='drop off passenger')\n",
      "taxi: 2    Event(time=83, proc=2, action='drop off passenger')\n",
      "taxi: 2    Event(time=85, proc=2, action='pick up passenger')\n",
      "taxi: 2    Event(time=96, proc=2, action='drop off passenger')\n",
      "taxi: 1   Event(time=107, proc=1, action='pick up passenger')\n",
      "taxi: 2    Event(time=107, proc=2, action='pick up passenger')\n",
      "taxi: 2    Event(time=114, proc=2, action='drop off passenger')\n",
      "taxi: 2    Event(time=130, proc=2, action='going home')\n",
      "taxi: 1   Event(time=154, proc=1, action='drop off passenger')\n",
      "taxi: 1   Event(time=155, proc=1, action='pick up passenger')\n",
      "taxi: 1   Event(time=164, proc=1, action='drop off passenger')\n",
      "taxi: 1   Event(time=174, proc=1, action='pick up passenger')\n",
      "taxi: 1   Event(time=185, proc=1, action='drop off passenger')\n",
      "*** end of simulation time: 1 events pending ***\n"
     ]
    }
   ],
   "source": [
    "await sim.run(DEFAULT_END_TIME)"
   ]
  },
  {
   "cell_type": "markdown",
   "metadata": {},
   "source": [
    "## 期程\n",
    "\n",
    "Task是Future的子类所以也可以说Task也是期程.\n",
    "\n",
    "asyncio模块的将协程注册到时间需要先将其包装为期程,也就是Future或者Task.\n",
    "\n",
    "Task类用来管理协同程序运行的状态,是Future的子类,Future的接口如下:\n",
    "\n",
    "+ `cancel()`\n",
    "\n",
    "取消期程对象并安排回调.如果期程对象已经完成或取消,返回False.否则,将期程对象的状态更改为取消,调度回调并返回True.\n",
    "\n",
    "+ `cancelled()`\n",
    "\n",
    "如果期程对象被取消,返回True\n",
    "\n",
    "+ `done()`\n",
    "\n",
    "如果期程对象完成,返回True.完成意味着结果/异常可用,或者期程对象被取消\n",
    "\n",
    "+ `result()`\n",
    "\n",
    "返回期程对象代表的结果.如果期程对象取消,则会引发`CancelledError`.如果期程对象的结果尚不可用,则会引发`InvalidStateError`.如果期程对象已经完成并且设置了异常,则会引发异常.\n",
    "\n",
    "+ `exception()`\n",
    "\n",
    "返回在期程对象设置的异常.异常(如果没有设置异常,则为`None`)仅在期程对象完成时才会返回.如果期程对象取消,则会引发`CancelledError`.如果期程对象尚未完成,则会引发`InvalidStateError`.\n",
    "\n",
    "+ `add_done_callback(fn)`\n",
    "\n",
    "添加一个回调,以便在期程对象完成时运行.使用单个参数(未来对象)调用回调.如果在调用此函数时已经完成了未来,则使用`call_soon()`调度回调.\n",
    "\n",
    "通常需要结合`functools.partial`使用\n",
    "\n",
    "`fut.add_done_callback(functools.partial(print, \"Future:\", flush=True))`\n",
    "\n",
    "会在回调时执行\n",
    "\n",
    "`print(\"Future:\", fut, flush=True)`\n",
    "\n",
    "+ `remove_done_callback(fn)`\n",
    "\n",
    "从'完成调用'列表中删除回调的所有实例.返回删除的回调数.\n",
    "\n",
    "\n",
    "+ `set_result(result)`\n",
    "\n",
    "标记期程对象的状态为`done`并设定其结果.如果在调用此方法时期程对象已经完成,则引发`InvalidStateError`\n",
    "\n",
    "\n",
    "+ `set_exception(exception)`\n",
    "\n",
    "标记期程对象的状态为`done`并设定一个异常.如果在调用此方法时期程对象已经完成,则引发`InvalidStateError`\n",
    "\n",
    "Task作为Future的子类,额外的方法有:\n",
    "\n",
    "+ `classmethod all_tasks(loop=None)`\n",
    "\n",
    "返回一组事件循环的所有任务对象.默认情况下,返回当前事件循环的所有任务.\n",
    "\n",
    "\n",
    "+ `classmethod current_task(loop=None)`\n",
    "\n",
    "返回事件循环正在执行的任务对象,默认为当前的事件循环.在任务的上下文中调用时返回`None`.\n",
    "\n",
    "\n",
    "+ `cancel()`\n",
    "\n",
    "请求此任务自行取消.这将安排一个`CancelledError`通过事件循环在下一个循环中被引入到包装的协同程序中,然后,协调程序有机会使用`try / except / finally`清理甚至拒绝该请求.与`Future.cancel()`不同,这不保证任务将被取消.\n",
    "\n",
    "异常可能会被捕获并被执行,延迟取消任务或者完全阻止取消.该任务也可能返回值或引发不同的异常.在调用此方法之后,`cancelled()`将不会返回`True`(除非该任务已被取消).当包装的协同程序以`CancelledError`异常终止(即使未调用`cancel()`时,任务将被标记为已取消.\n",
    "\n",
    "+ `get_stack(*, limit=None)`\n",
    "\n",
    "返回此任务的协程的堆栈帧列表\n",
    "\n",
    "\n",
    "+ `print_stack(*, limit=None, file=None)`\n",
    "打印此任务的协程的堆栈或追溯.对于由`get_stack()`检索到的帧,它会产生与追溯模块类似的输出.`limit`参数传递给`get_stack()`.文件参数是写入输出的I/O流;默认情况下,输出将写入sys.stderr."
   ]
  },
  {
   "cell_type": "markdown",
   "metadata": {},
   "source": [
    "### 创建期程\n",
    "\n",
    "创建Task可以使用asyncio的高级api:\n",
    "\n",
    "+ `task = asyncio.create_task(coro,*,name=None)`\n",
    "+ `task = asyncio.ensure_future(coro)`\n",
    "\n",
    "也可以使用事件循环的低级api:\n",
    "\n",
    "+ `task = loop.create_task(coro)`\n",
    "+ `loop.set_task_factory(factory)`设置一个由`AbstractEventLoop.create_task()`使用的工厂函数.\n",
    "    + 如果工厂函数为None,则将设置默认任务工厂\n",
    "    + 如果工厂函数是可调用的,它应该有一个函数签名匹配(loop,coro),其中循环将是对活动事件循环的引用,coro将是一个协程对象.工厂函数必须返回一个`asyncio.Future`兼容的对象。\n",
    "    \n",
    "+ `loop.get_task_factory()`\n",
    "\n",
    "    获取任务工厂函数,如果默认工厂函数正在使用,则为None\n",
    "\n",
    "\n",
    "创建期程则必须使用事件循环`loop`,接口为:\n",
    "\n",
    "+ `loop.create_future()`\n"
   ]
  },
  {
   "cell_type": "markdown",
   "metadata": {},
   "source": [
    "### 管理任务\n",
    "\n",
    "asyncio提供了高级接口可以直接获取当前运行的事件循环中所有的任务`asyncio.all_tasks()`和当前在执行的任务`asyncio.current_task()`"
   ]
  },
  {
   "cell_type": "code",
   "execution_count": 1,
   "metadata": {},
   "outputs": [],
   "source": [
    "import asyncio\n",
    "async def sleep_task():\n",
    "    for i in range(5):\n",
    "        print(i)\n",
    "        await asyncio.sleep(1)\n",
    "    print(\"done\")\n",
    "    return True"
   ]
  },
  {
   "cell_type": "code",
   "execution_count": 2,
   "metadata": {},
   "outputs": [
    {
     "name": "stdout",
     "output_type": "stream",
     "text": [
      "0\n",
      "0\n",
      "0\n",
      "1\n",
      "1\n",
      "1\n"
     ]
    }
   ],
   "source": [
    "for i in range(3):\n",
    "    asyncio.ensure_future(sleep_task())"
   ]
  },
  {
   "cell_type": "code",
   "execution_count": 3,
   "metadata": {},
   "outputs": [
    {
     "name": "stdout",
     "output_type": "stream",
     "text": [
      "2\n",
      "2\n",
      "2\n"
     ]
    }
   ],
   "source": [
    "tasks = asyncio.all_tasks()"
   ]
  },
  {
   "cell_type": "code",
   "execution_count": 4,
   "metadata": {},
   "outputs": [
    {
     "data": {
      "text/plain": [
       "{<Task pending coro=<sleep_task() running at <ipython-input-1-d8abb918cdb8>:5> wait_for=<Future pending cb=[<TaskWakeupMethWrapper object at 0x108b50a08>()]>>,\n",
       " <Task pending coro=<sleep_task() running at <ipython-input-1-d8abb918cdb8>:5> wait_for=<Future pending cb=[<TaskWakeupMethWrapper object at 0x108b50a98>()]>>,\n",
       " <Task pending coro=<sleep_task() running at <ipython-input-1-d8abb918cdb8>:5> wait_for=<Future pending cb=[<TaskWakeupMethWrapper object at 0x108b50d68>()]>>}"
      ]
     },
     "execution_count": 4,
     "metadata": {},
     "output_type": "execute_result"
    },
    {
     "name": "stdout",
     "output_type": "stream",
     "text": [
      "3\n",
      "3\n",
      "3\n",
      "4\n",
      "4\n",
      "4\n",
      "done\n",
      "done\n",
      "done\n"
     ]
    }
   ],
   "source": [
    "tasks"
   ]
  },
  {
   "cell_type": "code",
   "execution_count": 5,
   "metadata": {},
   "outputs": [],
   "source": [
    "curtask = asyncio.current_task()"
   ]
  },
  {
   "cell_type": "markdown",
   "metadata": {},
   "source": [
    "### 多任务并行\n",
    "\n",
    "我们可以使用`asyncio.gather(*aws, loop=None, return_exceptions=False)`来并行的执行多个协程,如果`aws`中的某个可等待对象为协程,它将自动作为一个任务加入日程.\n",
    "\n",
    "如果所有可等待对象都成功完成,结果将是一个由所有返回值聚合而成的列表.结果值的顺序与`aws`中可等待对象的顺序一致.\n",
    "\n",
    "如果`return_exceptions`为`False`(默认),所引发的首个异常会立即传播给等待`gather()`的任务.`aws`序列中的其他可等待对象不会被取消,并将继续运行.\n",
    "\n",
    "如果`return_exceptions`为 True,异常会和成功的结果一样处理，并聚合至结果列表.\n",
    "\n",
    "如果`gather()`被取消,所有被提交(尚未完成)的可等待对象也会被取消.\n",
    "\n",
    "如果`aws`序列中的任一Task或Future对象被取消,它将被当作引发了`CancelledError`一样处理--在此情况下`gather()`调用不会被取消.这是为了防止一个已提交的`Task/Future`被取消导致其他`Tasks/Future`也被取消."
   ]
  },
  {
   "cell_type": "code",
   "execution_count": 3,
   "metadata": {},
   "outputs": [
    {
     "name": "stdout",
     "output_type": "stream",
     "text": [
      "Task A: Compute factorial(2)...\n",
      "Task B: Compute factorial(2)...\n",
      "Task C: Compute factorial(2)...\n",
      "Task A: factorial(2) = 2\n",
      "Task B: Compute factorial(3)...\n",
      "Task C: Compute factorial(3)...\n",
      "Task B: factorial(3) = 6\n",
      "Task C: Compute factorial(4)...\n",
      "Task C: factorial(4) = 24\n"
     ]
    },
    {
     "data": {
      "text/plain": [
       "[None, None, None]"
      ]
     },
     "execution_count": 3,
     "metadata": {},
     "output_type": "execute_result"
    }
   ],
   "source": [
    "import asyncio\n",
    "\n",
    "async def factorial(name, number):\n",
    "    f = 1\n",
    "    for i in range(2, number+1):\n",
    "        print(\"Task %s: Compute factorial(%s)...\" % (name, i))\n",
    "        await asyncio.sleep(1)\n",
    "        f *= i\n",
    "    print(\"Task %s: factorial(%s) = %s\" % (name, number, f))\n",
    "\n",
    "await asyncio.gather(\n",
    "    factorial(\"A\", 2),\n",
    "    factorial(\"B\", 3),\n",
    "    factorial(\"C\", 4)\n",
    ")"
   ]
  },
  {
   "cell_type": "markdown",
   "metadata": {},
   "source": [
    "### 等待任务和过期\n",
    "\n",
    "asyncio提供了等待任务完成和超时过期的接口`asyncio.as_completed(List[aws], *, loop=None, timeout=None)->Iterator[Future]`,这也是异步并行最常用的接口.返回的每个`Future`对象代表来自剩余可等待对象集合的最早结果.如果在所有`Future`对象完成前发生超时则将引发`asyncio.TimeoutError`\n"
   ]
  },
  {
   "cell_type": "code",
   "execution_count": 7,
   "metadata": {},
   "outputs": [
    {
     "name": "stdout",
     "output_type": "stream",
     "text": [
      "Task A: Compute factorial(2)...\n",
      "Task B: Compute factorial(2)...\n",
      "Task C: Compute factorial(2)...\n",
      "Task A: factorial(2) = 2\n",
      "Task B: Compute factorial(3)...\n",
      "Task C: Compute factorial(3)...\n",
      "Task B: factorial(3) = 6\n",
      "Task C: Compute factorial(4)...\n"
     ]
    },
    {
     "ename": "TimeoutError",
     "evalue": "",
     "output_type": "error",
     "traceback": [
      "\u001b[0;31m---------------------------------------------------------------------------\u001b[0m",
      "\u001b[0;31mTimeoutError\u001b[0m                              Traceback (most recent call last)",
      "\u001b[0;32m<ipython-input-7-d7fc4a2b23b0>\u001b[0m in \u001b[0;36masync-def-wrapper\u001b[0;34m()\u001b[0m\n",
      "\u001b[0;32m<ipython-input-7-d7fc4a2b23b0>\u001b[0m in \u001b[0;36mmain\u001b[0;34m()\u001b[0m\n\u001b[1;32m     15\u001b[0m \u001b[0;34m\u001b[0m\u001b[0m\n\u001b[1;32m     16\u001b[0m \u001b[0;34m\u001b[0m\u001b[0m\n\u001b[0;32m---> 17\u001b[0;31m \u001b[0;32mawait\u001b[0m \u001b[0mmain\u001b[0m\u001b[0;34m(\u001b[0m\u001b[0;34m)\u001b[0m\u001b[0;34m\u001b[0m\u001b[0;34m\u001b[0m\u001b[0m\n\u001b[0m",
      "\u001b[0;32m~/Lib/conda/anaconda3/lib/python3.7/asyncio/tasks.py\u001b[0m in \u001b[0;36m_wait_for_one\u001b[0;34m()\u001b[0m\n\u001b[1;32m    530\u001b[0m         \u001b[0;32mif\u001b[0m \u001b[0mf\u001b[0m \u001b[0;32mis\u001b[0m \u001b[0;32mNone\u001b[0m\u001b[0;34m:\u001b[0m\u001b[0;34m\u001b[0m\u001b[0;34m\u001b[0m\u001b[0m\n\u001b[1;32m    531\u001b[0m             \u001b[0;31m# Dummy value from _on_timeout().\u001b[0m\u001b[0;34m\u001b[0m\u001b[0;34m\u001b[0m\u001b[0;34m\u001b[0m\u001b[0m\n\u001b[0;32m--> 532\u001b[0;31m             \u001b[0;32mraise\u001b[0m \u001b[0mfutures\u001b[0m\u001b[0;34m.\u001b[0m\u001b[0mTimeoutError\u001b[0m\u001b[0;34m\u001b[0m\u001b[0;34m\u001b[0m\u001b[0m\n\u001b[0m\u001b[1;32m    533\u001b[0m         \u001b[0;32mreturn\u001b[0m \u001b[0mf\u001b[0m\u001b[0;34m.\u001b[0m\u001b[0mresult\u001b[0m\u001b[0;34m(\u001b[0m\u001b[0;34m)\u001b[0m  \u001b[0;31m# May raise f.exception().\u001b[0m\u001b[0;34m\u001b[0m\u001b[0;34m\u001b[0m\u001b[0m\n\u001b[1;32m    534\u001b[0m \u001b[0;34m\u001b[0m\u001b[0m\n",
      "\u001b[0;31mTimeoutError\u001b[0m: "
     ]
    },
    {
     "name": "stdout",
     "output_type": "stream",
     "text": [
      "Task C: factorial(4) = 24\n"
     ]
    }
   ],
   "source": [
    "import asyncio\n",
    "import datetime\n",
    "\n",
    "async def factorial(name, number):\n",
    "    f = 1\n",
    "    for i in range(2, number+1):\n",
    "        print(\"Task %s: Compute factorial(%s)...\" % (name, i))\n",
    "        await asyncio.sleep(1)\n",
    "        f *= i\n",
    "    print(\"Task %s: factorial(%s) = %s\" % (name, number, f))\n",
    "    return f\n",
    "async def main():\n",
    "    for f in asyncio.as_completed([factorial(\"A\", 2),factorial(\"B\", 3),factorial(\"C\", 4)],timeout=3):\n",
    "        result = await f\n",
    "\n",
    "\n",
    "await main()\n"
   ]
  },
  {
   "cell_type": "markdown",
   "metadata": {},
   "source": [
    "\n",
    "如果只是希望等待一个任务完成或过期,可以使用`asyncio.wait_for(awaitable, timeout)`.它会等待一段时间让协程执行,如果时间到了但还没有完成就会对任务执行取消操作,之后抛出`asyncio.TimeoutError`"
   ]
  },
  {
   "cell_type": "code",
   "execution_count": 10,
   "metadata": {},
   "outputs": [
    {
     "name": "stdout",
     "output_type": "stream",
     "text": [
      "Task A: Compute factorial(2)...\n",
      "Task B: Compute factorial(2)...\n",
      "Task C: Compute factorial(2)...\n",
      "Task A: factorial(2) = 2\n",
      "Task B: Compute factorial(3)...\n",
      "Task C: Compute factorial(3)...\n",
      "Task B: factorial(3) = 6\n",
      "Task C: Compute factorial(4)...\n"
     ]
    },
    {
     "ename": "TimeoutError",
     "evalue": "",
     "output_type": "error",
     "traceback": [
      "\u001b[0;31m---------------------------------------------------------------------------\u001b[0m",
      "\u001b[0;31mTimeoutError\u001b[0m                              Traceback (most recent call last)",
      "\u001b[0;32m<ipython-input-10-e4416cd3fda0>\u001b[0m in \u001b[0;36masync-def-wrapper\u001b[0;34m()\u001b[0m\n\u001b[1;32m     15\u001b[0m )\n",
      "\u001b[0;32m~/Lib/conda/anaconda3/lib/python3.7/asyncio/tasks.py\u001b[0m in \u001b[0;36mwait_for\u001b[0;34m(fut, timeout, loop)\u001b[0m\n\u001b[1;32m    421\u001b[0m             \u001b[0;31m# See https://bugs.python.org/issue32751\u001b[0m\u001b[0;34m\u001b[0m\u001b[0;34m\u001b[0m\u001b[0;34m\u001b[0m\u001b[0m\n\u001b[1;32m    422\u001b[0m             \u001b[0;32mawait\u001b[0m \u001b[0m_cancel_and_wait\u001b[0m\u001b[0;34m(\u001b[0m\u001b[0mfut\u001b[0m\u001b[0;34m,\u001b[0m \u001b[0mloop\u001b[0m\u001b[0;34m=\u001b[0m\u001b[0mloop\u001b[0m\u001b[0;34m)\u001b[0m\u001b[0;34m\u001b[0m\u001b[0;34m\u001b[0m\u001b[0m\n\u001b[0;32m--> 423\u001b[0;31m             \u001b[0;32mraise\u001b[0m \u001b[0mfutures\u001b[0m\u001b[0;34m.\u001b[0m\u001b[0mTimeoutError\u001b[0m\u001b[0;34m(\u001b[0m\u001b[0;34m)\u001b[0m\u001b[0;34m\u001b[0m\u001b[0;34m\u001b[0m\u001b[0m\n\u001b[0m\u001b[1;32m    424\u001b[0m     \u001b[0;32mfinally\u001b[0m\u001b[0;34m:\u001b[0m\u001b[0;34m\u001b[0m\u001b[0;34m\u001b[0m\u001b[0m\n\u001b[1;32m    425\u001b[0m         \u001b[0mtimeout_handle\u001b[0m\u001b[0;34m.\u001b[0m\u001b[0mcancel\u001b[0m\u001b[0;34m(\u001b[0m\u001b[0;34m)\u001b[0m\u001b[0;34m\u001b[0m\u001b[0;34m\u001b[0m\u001b[0m\n",
      "\u001b[0;31mTimeoutError\u001b[0m: "
     ]
    }
   ],
   "source": [
    "import asyncio\n",
    "\n",
    "async def factorial(name, number):\n",
    "    f = 1\n",
    "    for i in range(2, number+1):\n",
    "        print(\"Task %s: Compute factorial(%s)...\" % (name, i))\n",
    "        await asyncio.sleep(1)\n",
    "        f *= i\n",
    "    print(\"Task %s: factorial(%s) = %s\" % (name, number, f))\n",
    "\n",
    "await asyncio.wait_for(asyncio.gather(*[\n",
    "    factorial(\"A\", 2),\n",
    "    factorial(\"B\", 3),\n",
    "    factorial(\"C\", 4)]),timeout=3\n",
    ")"
   ]
  },
  {
   "cell_type": "markdown",
   "metadata": {},
   "source": [
    "### 取消任务和防止任务被取消\n",
    "\n",
    "一个正常的任务取消如下例:"
   ]
  },
  {
   "cell_type": "code",
   "execution_count": 1,
   "metadata": {},
   "outputs": [],
   "source": [
    "import asyncio\n",
    "async def cancel_me():\n",
    "    print('cancel_me(): before sleep')\n",
    "\n",
    "    try:\n",
    "        # Wait for 1 hour\n",
    "        await asyncio.sleep(10)\n",
    "    except asyncio.CancelledError:\n",
    "        print('cancel_me(): cancel sleep')\n",
    "        raise\n",
    "    finally:\n",
    "        print('cancel_me(): after sleep')\n",
    "\n",
    "async def main():\n",
    "    # Create a \"cancel_me\" Task\n",
    "    task = asyncio.create_task(cancel_me())\n",
    "\n",
    "    # Wait for 1 second\n",
    "    await asyncio.sleep(1)\n",
    "\n",
    "    task.cancel()\n",
    "    try:\n",
    "        await task\n",
    "    except asyncio.CancelledError:\n",
    "        print(\"main(): cancel_me is cancelled now\")"
   ]
  },
  {
   "cell_type": "code",
   "execution_count": 2,
   "metadata": {},
   "outputs": [
    {
     "name": "stdout",
     "output_type": "stream",
     "text": [
      "cancel_me(): before sleep\n",
      "cancel_me(): cancel sleep\n",
      "cancel_me(): after sleep\n",
      "main(): cancel_me is cancelled now\n"
     ]
    }
   ],
   "source": [
    "await main()"
   ]
  },
  {
   "cell_type": "markdown",
   "metadata": {},
   "source": [
    "在外部使用`task.cancel()`取消任务会在协程内部触发一个`asyncio.CancelledError`.我们也会有时候希望任务无法被取消,这时候可以使用`asyncio.shield(aws)`,它只是将内部的任务包装了一下,取消这个包装不会取消内部的任务本身"
   ]
  },
  {
   "cell_type": "code",
   "execution_count": 3,
   "metadata": {},
   "outputs": [],
   "source": [
    "async def main():\n",
    "    # Create a \"cancel_me\" Task\n",
    "    task = asyncio.create_task(cancel_me())\n",
    "    task_shield = asyncio.shield(task)\n",
    "    #task = asyncio.create_task(task1)\n",
    "    \n",
    "    # Wait for 1 second\n",
    "    await asyncio.sleep(1)\n",
    "\n",
    "    task_shield.cancel()\n",
    "    try:\n",
    "        await task_shield\n",
    "    except asyncio.CancelledError:\n",
    "        print(\"main(): cancel_me_shield is cancelled now\")\n",
    "    try:\n",
    "        await task\n",
    "    except asyncio.CancelledError:\n",
    "        print(\"main(): cancel_me is cancelled now\")"
   ]
  },
  {
   "cell_type": "code",
   "execution_count": 4,
   "metadata": {},
   "outputs": [
    {
     "name": "stdout",
     "output_type": "stream",
     "text": [
      "cancel_me(): before sleep\n",
      "main(): cancel_me_shield is cancelled now\n",
      "cancel_me(): after sleep\n"
     ]
    }
   ],
   "source": [
    "await main()"
   ]
  },
  {
   "cell_type": "markdown",
   "metadata": {},
   "source": [
    "### 监控常驻协程\n",
    "\n",
    "我们的协程往往是一些不会结束的常驻协程,这时候我们就需要监控他们防止异常退出.\n",
    "\n",
    "通常我们使用`task.add_done_callback(callback)`接口来监控和自动处理.注意`callback`会有一个参数,这个参数就是这个task自身."
   ]
  },
  {
   "cell_type": "code",
   "execution_count": 1,
   "metadata": {
    "tags": []
   },
   "outputs": [
    {
     "name": "stdout",
     "output_type": "stream",
     "text": [
      "Overwriting src/asyncio_done_callback.py\n"
     ]
    }
   ],
   "source": [
    "%%writefile src/asyncio_done_callback.py\n",
    "import asyncio\n",
    "import random\n",
    "\n",
    "\n",
    "async def never_end():\n",
    "    while True:\n",
    "        await asyncio.sleep(1)\n",
    "        if random.random() >0.8:\n",
    "            raise AssertionError(\"意外退出\")\n",
    "async def main():\n",
    "    task = asyncio.create_task(never_end())\n",
    "    task.add_done_callback(lambda x: print(f\"task done with exception {x.exception()}\"))\n",
    "    while True:\n",
    "        await asyncio.sleep(1)\n",
    "\n",
    "asyncio.run(main())"
   ]
  },
  {
   "cell_type": "markdown",
   "metadata": {},
   "source": [
    "## 事件循环与低级api\n",
    "\n",
    "事件循环是一个无限的的循环,用来监控触发事件.一般我们用`loop = asyncio.new_event_loop()`来创建一个事件循环的实例,然后将其使用`asyncio.set_event_loop(loop)`来将循环实例定义为当前的事件循环.如果程序并不需要考虑使用多个循环的话我们也可以直接使用`asyncio.get_event_loop()`或者`asyncio.get_running_loop()`来获取当前事件循环的实例\n",
    "\n",
    "事实上python原生的事件循环并不高效,[uvloop](https://github.com/MagicStack/uvloop)是一个高效的事件循环,它使用cython编写,并使用libuv,就是node.js用的那个高性能事件驱动的程序库.我们在生产环境可以使用它来运行协程.(windows下无法使用)\n",
    "\n",
    "python的协程运转需要显式的指定循环.asyncio则提供了如'中央处理设备'一般的功能，它支持如下操作：\n",
    "\n",
    "+ 产生,设置和管理事件循环\n",
    "+ 异步时间管理\n",
    "+ 将回调函数注册到事件循环\n",
    "+ 管理协程的执行,包括取消,延迟,调用等\n",
    "+ 将耗时函数调用委托给一个线程池\n",
    "+ 协程错误处理\n",
    "+ 创建可用于多种类型的通信的服务端和客户端的Transports\n",
    "+ 启动进程以及相关的和外部通信程序的Transports\n",
    "\n",
    "后两个操作在网络部分再讨论,本篇只讨论前面的功能\n"
   ]
  },
  {
   "cell_type": "markdown",
   "metadata": {},
   "source": [
    "### 产生,设置和管理事件循环\n",
    "\n",
    "上面已经介绍了如何产生事件循环,以下是关于设置管理事件循环的接口,这些接口的实例为`loop`:\n",
    "\n",
    "+ `loop.run_forever()`\n",
    "\n",
    "    运行直到`stop()`被调用.如果在调用`run_forever()`之前调用`stop()`,则以超时为0轮询I/O选择器一次,运行所有响应I/O事件(以及已经安排的回调)的回调,然后退出\n",
    "\n",
    "    如果在运行`run_forever()`时调用`stop()`,则会运行当前批次的回调,然后退出.请注意,在这种情况下,回调计划的回调将不会运行;他们会在下一次`run_forever()`被调用时运行.\n",
    "\n",
    "\n",
    "+ `loop.run_until_complete(future)`\n",
    "\n",
    "    跑到期程完成.如果参数是一个`coroutine`对象,那么它被`wrap_future()`包装起来成为一个期程.返回期程的结果或者抛出异常.\n",
    "\n",
    "+ `loop.is_running()`\n",
    "\n",
    "    返回时间循环的状态\n",
    "\n",
    "+ `loop.stop()`\n",
    "\n",
    "    停止事件循环\n",
    "\n",
    "+ `is_closed()`\n",
    "\n",
    "    如果事件循环被关闭,则返回True.\n",
    "\n",
    "+ `close()`\n",
    "\n",
    "    关闭事件循环.循环不能再次运行,待处理的回调将丢失.这将清除队列并关闭执行程序且不等待执行程序完成.这一过程不可逆转,要再次使用必须重新创建一个时间循环并设置为当前事件循环\n",
    "\n",
    "\n",
    "+ `coroutine shutdown_asyncgens()`[3.6]\n",
    "\n",
    "    安排所有当前打开的异步生成器对象,以`aclose()`调用.调用此方法后,事件循环将在每次迭代新的异步生成器时发出警告.应该用于可靠地完成所有调度的异步生成器."
   ]
  },
  {
   "cell_type": "markdown",
   "metadata": {},
   "source": [
    "### 异步时间管理\n",
    "\n",
    "+ `asyncio.sleep(nbr)`\n",
    "\n",
    "    这是一个异步的延迟工具,必须在协程中使用`await`调用\n",
    "    \n",
    "+ `loop.time()`\n",
    "\n",
    "    根据事件循环的内部时钟，将当前时间作为浮点值返回,返回的是时间戳\n",
    "    "
   ]
  },
  {
   "cell_type": "code",
   "execution_count": 5,
   "metadata": {},
   "outputs": [],
   "source": [
    "from datetime import datetime\n",
    "import time\n",
    "from asyncio import sleep\n",
    "async def now():\n",
    "    print(datetime.now())\n",
    "    await sleep(1)\n",
    "    print(datetime.now())\n",
    "    await sleep(1)\n",
    "    print(asyncio.get_event_loop().time())"
   ]
  },
  {
   "cell_type": "code",
   "execution_count": 6,
   "metadata": {},
   "outputs": [
    {
     "name": "stdout",
     "output_type": "stream",
     "text": [
      "2019-04-29 19:26:56.070580\n",
      "2019-04-29 19:26:57.076129\n",
      "334.906957015\n"
     ]
    }
   ],
   "source": [
    "await now()"
   ]
  },
  {
   "cell_type": "markdown",
   "metadata": {},
   "source": [
    "### 将回调函数注册到事件循环\n",
    "\n",
    "它的工作机制类似于先进先出队列,所以如果一些回调需要一段时间来处理任务,其它的回调就会相应的延迟,直到先前的回调结束\n",
    "\n",
    "回调函数处理的接口同样是`loop`,他们有:\n",
    "\n",
    "+ `loop.call_soon(callback, *args,context=None)` 基本的回调注册,行为如前面介绍类似先进先出队列\n",
    "\n",
    "\n",
    "+ `loop.call_later(delay, callback, *args,context=None)` 在一定延迟后执行回调\n",
    "\n",
    "+ `loop.call_at(when, callback, *args,context=None)` 使用int或者float代表时间戳,在该时间执行回调函数\n",
    "\n",
    "这三个接口都可以通过参数`context`设置执行时的上下文变量,这个我们在惯用法部分详细介绍"
   ]
  },
  {
   "cell_type": "code",
   "execution_count": 1,
   "metadata": {},
   "outputs": [
    {
     "data": {
      "text/plain": [
       "<Handle hello_world() at <ipython-input-1-8d9ff2a5ba59>:3>"
      ]
     },
     "execution_count": 1,
     "metadata": {},
     "output_type": "execute_result"
    },
    {
     "name": "stdout",
     "output_type": "stream",
     "text": [
      "Hello World\n",
      "Hello World\n",
      "Hello World\n",
      "Hello World\n"
     ]
    }
   ],
   "source": [
    "import asyncio\n",
    "\n",
    "def hello_world():\n",
    "    print('Hello World')\n",
    "    \n",
    "loop = asyncio.get_event_loop()\n",
    "# Schedule a call to hello_world()\n",
    "loop.call_soon(hello_world)\n",
    "loop.call_soon(hello_world)\n",
    "loop.call_soon(hello_world)\n",
    "loop.call_soon(hello_world)\n",
    "# Blocking call interrupted by loop.stop()\n"
   ]
  },
  {
   "cell_type": "markdown",
   "metadata": {},
   "source": [
    "+ `call_soon_threadsafe(callback, *args)`\n",
    "\n",
    "`call_soon(callback, *args)`的线程安全版本\n",
    "\n",
    "很多时候,我们的事件循环用于注册协程,而有的协程需要动态的添加到事件循环中.一个简单的方式就是使用多线程.当前线程创建一个事件循环,然后在新建一个线程,在新线程中启动事件循环.当前线程不会被block."
   ]
  },
  {
   "cell_type": "code",
   "execution_count": 2,
   "metadata": {},
   "outputs": [
    {
     "name": "stdout",
     "output_type": "stream",
     "text": [
      "TIME: 0.0015170574188232422\n",
      "More work 6\n"
     ]
    },
    {
     "data": {
      "text/plain": [
       "<Handle more_work(3) at <ipython-input-2-c5cef5a5e15a>:8>"
      ]
     },
     "execution_count": 2,
     "metadata": {},
     "output_type": "execute_result"
    },
    {
     "name": "stdout",
     "output_type": "stream",
     "text": [
      "Finished more work 6\n",
      "More work 3\n",
      "Finished more work 3\n"
     ]
    }
   ],
   "source": [
    "from threading import Thread\n",
    "import time\n",
    "now = lambda: time.time()\n",
    "def start_loop(loop):\n",
    "    asyncio.set_event_loop(loop)\n",
    "    loop.run_forever()\n",
    "\n",
    "def more_work(x):\n",
    "    print('More work {}'.format(x))\n",
    "    time.sleep(x)\n",
    "    print('Finished more work {}'.format(x))\n",
    "\n",
    "start = now()\n",
    "new_loop = asyncio.new_event_loop()\n",
    "t = Thread(target=start_loop, args=(new_loop,))\n",
    "t.start()\n",
    "print('TIME: {}'.format(time.time() - start))\n",
    "\n",
    "new_loop.call_soon_threadsafe(more_work, 6)\n",
    "new_loop.call_soon_threadsafe(more_work, 3)\n"
   ]
  },
  {
   "cell_type": "markdown",
   "metadata": {},
   "source": [
    "启动上述代码之后,当前线程不会被block,新线程中会按照顺序执行`call_soon_threadsafe`方法注册的`more_work`方法,后者因为`time.sleep`操作是同步阻塞的,因此运行完毕more_work需要大致6 + 3\n"
   ]
  },
  {
   "cell_type": "markdown",
   "metadata": {},
   "source": [
    "### 管理协程的执行,包括取消,延迟,调用等\n",
    "\n",
    "事件循环实际上上面只能注册期程,而asyncio的很多接口可以直接使用协程,其原因是这些接口会自动将协程包装为Task.\n",
    "\n",
    "+ `loop.run_until_complete()`是最简单的将协程注册进事件循环中并运行的方法."
   ]
  },
  {
   "cell_type": "code",
   "execution_count": 11,
   "metadata": {},
   "outputs": [
    {
     "name": "stdout",
     "output_type": "stream",
     "text": [
      "2019-04-29 19:45:35.128550\n",
      "2019-04-29 19:45:36.129906\n",
      "2019-04-29 19:45:37.133177\n",
      "2019-04-29 19:45:38.135350\n",
      "2019-04-29 19:45:39.135987\n"
     ]
    }
   ],
   "source": [
    "import asyncio\n",
    "import datetime\n",
    "\n",
    "async def display_date(loop):\n",
    "    end_time = loop.time() + 5.0\n",
    "    while True:\n",
    "        print(datetime.datetime.now())\n",
    "        if (loop.time() + 1.0) >= end_time:\n",
    "            break\n",
    "        await asyncio.sleep(1)\n",
    "\n",
    "\n",
    "# Blocking call which returns when the display_date() coroutine is done\n",
    "await display_date(loop)"
   ]
  },
  {
   "cell_type": "markdown",
   "metadata": {},
   "source": [
    "+ `asyncio.run_coroutine_threadsafe(coro, loop)` 线程安全的执行协程,可以看做是`loop.run_until_complete()`的线程安全版本."
   ]
  },
  {
   "cell_type": "code",
   "execution_count": 3,
   "metadata": {},
   "outputs": [
    {
     "name": "stdout",
     "output_type": "stream",
     "text": [
      "TIME: 0.0022988319396972656\n"
     ]
    },
    {
     "data": {
      "text/plain": [
       "<Future at 0x11007e748 state=pending>"
      ]
     },
     "execution_count": 3,
     "metadata": {},
     "output_type": "execute_result"
    },
    {
     "name": "stdout",
     "output_type": "stream",
     "text": [
      "Waiting 6\n",
      "Waiting 4\n",
      "Done after 4s\n",
      "Done after 6s\n"
     ]
    }
   ],
   "source": [
    "import asyncio\n",
    "import time\n",
    "from threading import Thread\n",
    "now = lambda: time.time()\n",
    "def start_loop(loop):\n",
    "    asyncio.set_event_loop(loop)\n",
    "    loop.run_forever()\n",
    "\n",
    "async def do_some_work(x):\n",
    "    print('Waiting {}'.format(x))\n",
    "    await asyncio.sleep(x)\n",
    "    print('Done after {}s'.format(x))\n",
    "\n",
    "def more_work(x):\n",
    "    print('More work {}'.format(x))\n",
    "    time.sleep(x)\n",
    "    print('Finished more work {}'.format(x))\n",
    "\n",
    "start = now()\n",
    "new_loop = asyncio.new_event_loop()\n",
    "t = Thread(target=start_loop, args=(new_loop,))\n",
    "t.start()\n",
    "print('TIME: {}'.format(time.time() - start))\n",
    "\n",
    "asyncio.run_coroutine_threadsafe(do_some_work(6), new_loop)\n",
    "asyncio.run_coroutine_threadsafe(do_some_work(4), new_loop)"
   ]
  },
  {
   "cell_type": "markdown",
   "metadata": {},
   "source": [
    "上述的例子,主线程中创建一个new_loop,然后在另外的子线程中开启一个无限事件循环.主线程通过`run_coroutine_threadsafe`新注册协程对象.这样就能在子线程中进行事件循环的并发操作,同时主线程又不会被block.一共执行的时间大概在6s左右."
   ]
  },
  {
   "cell_type": "markdown",
   "metadata": {},
   "source": [
    "+ `ensure_future`是`asyncio`封装好的创建`Task`的函数,它还支持一些参数,甚至指定loop."
   ]
  },
  {
   "cell_type": "markdown",
   "metadata": {},
   "source": [
    "### 将耗时函数调用委托给线程进程执行\n",
    "\n",
    "协程毕竟是假并发,当遇到会阻塞loop的需求时我们还是需要将任务交给线程或进程处理.每个loop都会有一个`concurrent.futures.ThreadPoolExecutor`对象作为默认执行器,我们可以通过`loop.set_default_executor(executor)`对其进行修改.\n",
    "\n",
    "所谓执行器`executor`是指`concurrent.futures`模块下的`ThreadPoolExecutor`或者`ProcessPoolExecutor`的实例,在目前python标准api几乎只支持同步方法的情况下,`ThreadPoolExecutor`可以作为临时方案使用解io密集型问题,而对于计算密集型任务,更加适合使用`ProcessPoolExecutor`.但亲测`ProcessPoolExecutor`受操作系统平台限制很多时候必须在入口中预先设置使用起来不方便,且对于不太重的计算密集型任务来说性能损失过大,因此建议如果有绕开GIL的C实现可以考虑依然使用`ThreadPoolExecutor`,现在python正在对GIL进行移除工作,相信再过个2年即便是计算密集型任务也将可以使用`ThreadPoolExecutor`来处理.\n",
    "\n",
    "如果我们希望将任务丢给线程处理可以调用`asyncio.to_thread(func, /, *args, **kwargs)->Awaitable`接口.它会将任务以及当前的上下文变量环境发送到默认执行器执行,并返回一个可等待对象,当任务顺利完成时起返回值可以在可等待对象中得到.\n",
    "\n",
    "如果我们希望使用默认执行器之外的执行器,比如需要使用进程池执行器,那么就需要使用更底层的api`loop.run_in_executor(executor, func, *args)`来实现了\n",
    "\n",
    "安排在指定的执行器中调用func.通常我们用`functools.partial`来处理要执行的函数将其通过闭包封装以做到无副作用.\n"
   ]
  },
  {
   "cell_type": "code",
   "execution_count": 2,
   "metadata": {
    "tags": []
   },
   "outputs": [
    {
     "name": "stdout",
     "output_type": "stream",
     "text": [
      "Task A: Compute factorial(2)...\n",
      "Task B: Compute factorial(2)...\n",
      "Task C: Compute factorial(2)...\n",
      "Task A: factorial(2) = 2\n",
      "Task B: Compute factorial(3)...\n",
      "Task C: Compute factorial(3)...\n",
      "Task B: factorial(3) = 6\n",
      "Task C: Compute factorial(4)...\n",
      "Task C: factorial(4) = 24\n"
     ]
    },
    {
     "data": {
      "text/plain": [
       "[None, None, None]"
      ]
     },
     "execution_count": 2,
     "metadata": {},
     "output_type": "execute_result"
    }
   ],
   "source": [
    "import asyncio\n",
    "import time\n",
    "async def factorial(name, number):\n",
    "    f = 1\n",
    "    for i in range(2, number+1):\n",
    "        print(\"Task %s: Compute factorial(%s)...\" % (name, i))\n",
    "        await asyncio.to_thread(time.sleep,1)\n",
    "        f *= i\n",
    "    print(\"Task %s: factorial(%s) = %s\" % (name, number, f))\n",
    "\n",
    "await asyncio.gather(*[\n",
    "    factorial(\"A\", 2),\n",
    "    factorial(\"B\", 3),\n",
    "    factorial(\"C\", 4)]\n",
    ")\n"
   ]
  },
  {
   "cell_type": "code",
   "execution_count": 6,
   "metadata": {
    "tags": []
   },
   "outputs": [],
   "source": [
    "import asyncio\n",
    "import requests\n",
    "import concurrent.futures\n",
    "\n",
    "\n",
    "def blocking_io():\n",
    "    # File operations (such as logging) can block the\n",
    "    # event loop: run them in a thread pool.\n",
    "    \n",
    "    return requests.get(\"http://www.baidu.com\").text\n",
    "\n",
    "def cpu_bound():\n",
    "    # CPU-bound operations will block the event loop:\n",
    "    # in general it is preferable to run them in a\n",
    "    # process pool.\n",
    "    return sum(i * i for i in range(10 ** 7))\n",
    "\n",
    "async def main():\n",
    "    # loop = asyncio.get_running_loop()\n",
    "\n",
    "    ## Options:\n",
    "\n",
    "    # 1. Run in the default loop's executor:\n",
    "    # result = await loop.run_in_executor(\n",
    "    # None, blocking_io)\n",
    "    result = await asyncio.to_thread(blocking_io)\n",
    "    print('default thread pool', result)\n",
    "\n",
    "    # 2. Run in a custom thread pool:\n",
    "    loop = asyncio.get_running_loop()\n",
    "    with concurrent.futures.ThreadPoolExecutor() as pool:\n",
    "        result = await loop.run_in_executor(\n",
    "            pool, blocking_io)\n",
    "        print('custom thread pool', result)"
   ]
  },
  {
   "cell_type": "code",
   "execution_count": 7,
   "metadata": {
    "tags": []
   },
   "outputs": [
    {
     "name": "stdout",
     "output_type": "stream",
     "text": [
      "default thread pool <!DOCTYPE html>\n",
      "<!--STATUS OK--><html> <head><meta http-equiv=content-type content=text/html;charset=utf-8><meta http-equiv=X-UA-Compatible content=IE=Edge><meta content=always name=referrer><link rel=stylesheet type=text/css href=http://s1.bdstatic.com/r/www/cache/bdorz/baidu.min.css><title>ç¾åº¦ä¸ä¸ï¼ä½ å°±ç¥é</title></head> <body link=#0000cc> <div id=wrapper> <div id=head> <div class=head_wrapper> <div class=s_form> <div class=s_form_wrapper> <div id=lg> <img hidefocus=true src=//www.baidu.com/img/bd_logo1.png width=270 height=129> </div> <form id=form name=f action=//www.baidu.com/s class=fm> <input type=hidden name=bdorz_come value=1> <input type=hidden name=ie value=utf-8> <input type=hidden name=f value=8> <input type=hidden name=rsv_bp value=1> <input type=hidden name=rsv_idx value=1> <input type=hidden name=tn value=baidu><span class=\"bg s_ipt_wr\"><input id=kw name=wd class=s_ipt value maxlength=255 autocomplete=off autofocus></span><span class=\"bg s_btn_wr\"><input type=submit id=su value=ç¾åº¦ä¸ä¸ class=\"bg s_btn\"></span> </form> </div> </div> <div id=u1> <a href=http://news.baidu.com name=tj_trnews class=mnav>æ°é»</a> <a href=http://www.hao123.com name=tj_trhao123 class=mnav>hao123</a> <a href=http://map.baidu.com name=tj_trmap class=mnav>å°å¾</a> <a href=http://v.baidu.com name=tj_trvideo class=mnav>è§é¢</a> <a href=http://tieba.baidu.com name=tj_trtieba class=mnav>è´´å§</a> <noscript> <a href=http://www.baidu.com/bdorz/login.gif?login&amp;tpl=mn&amp;u=http%3A%2F%2Fwww.baidu.com%2f%3fbdorz_come%3d1 name=tj_login class=lb>ç»å½</a> </noscript> <script>document.write('<a href=\"http://www.baidu.com/bdorz/login.gif?login&tpl=mn&u='+ encodeURIComponent(window.location.href+ (window.location.search === \"\" ? \"?\" : \"&\")+ \"bdorz_come=1\")+ '\" name=\"tj_login\" class=\"lb\">ç»å½</a>');</script> <a href=//www.baidu.com/more/ name=tj_briicon class=bri style=\"display: block;\">æ´å¤äº§å</a> </div> </div> </div> <div id=ftCon> <div id=ftConw> <p id=lh> <a href=http://home.baidu.com>å",
      "³äºç¾åº¦</a> <a href=http://ir.baidu.com>About Baidu</a> </p> <p id=cp>&copy;2017&nbsp;Baidu&nbsp;<a href=http://www.baidu.com/duty/>ä½¿ç¨ç¾åº¦åå¿",
      "è¯»</a>&nbsp; <a href=http://jianyi.baidu.com/ class=cp-feedback>æè§åé¦</a>&nbsp;äº¬ICPè¯030173å·&nbsp; <img src=//www.baidu.com/img/gs.gif> </p> </div> </div> </div> </body> </html>\n",
      "\n",
      "custom thread pool <!DOCTYPE html>\n",
      "<!--STATUS OK--><html> <head><meta http-equiv=content-type content=text/html;charset=utf-8><meta http-equiv=X-UA-Compatible content=IE=Edge><meta content=always name=referrer><link rel=stylesheet type=text/css href=http://s1.bdstatic.com/r/www/cache/bdorz/baidu.min.css><title>ç¾åº¦ä¸ä¸ï¼ä½ å°±ç¥é</title></head> <body link=#0000cc> <div id=wrapper> <div id=head> <div class=head_wrapper> <div class=s_form> <div class=s_form_wrapper> <div id=lg> <img hidefocus=true src=//www.baidu.com/img/bd_logo1.png width=270 height=129> </div> <form id=form name=f action=//www.baidu.com/s class=fm> <input type=hidden name=bdorz_come value=1> <input type=hidden name=ie value=utf-8> <input type=hidden name=f value=8> <input type=hidden name=rsv_bp value=1> <input type=hidden name=rsv_idx value=1> <input type=hidden name=tn value=baidu><span class=\"bg s_ipt_wr\"><input id=kw name=wd class=s_ipt value maxlength=255 autocomplete=off autofocus></span><span class=\"bg s_btn_wr\"><input type=submit id=su value=ç¾åº¦ä¸ä¸ class=\"bg s_btn\"></span> </form> </div> </div> <div id=u1> <a href=http://news.baidu.com name=tj_trnews class=mnav>æ°é»</a> <a href=http://www.hao123.com name=tj_trhao123 class=mnav>hao123</a> <a href=http://map.baidu.com name=tj_trmap class=mnav>å°å¾</a> <a href=http://v.baidu.com name=tj_trvideo class=mnav>è§é¢</a> <a href=http://tieba.baidu.com name=tj_trtieba class=mnav>è´´å§</a> <noscript> <a href=http://www.baidu.com/bdorz/login.gif?login&amp;tpl=mn&amp;u=http%3A%2F%2Fwww.baidu.com%2f%3fbdorz_come%3d1 name=tj_login class=lb>ç»å½</a> </noscript> <script>document.write('<a href=\"http://www.baidu.com/bdorz/login.gif?login&tpl=mn&u='+ encodeURIComponent(window.location.href+ (window.location.search === \"\" ? \"?\" : \"&\")+ \"bdorz_come=1\")+ '\" name=\"tj_login\" class=\"lb\">ç»å½</a>');</script> <a href=//www.baidu.com/more/ name=tj_briicon class=bri style=\"display: block;\">æ´å¤äº§å</a> </div> </div> </div> <div id=ftCon> <div id=ftConw> <p id=lh> <a href=http://home.baidu.com>å",
      "³äºç¾åº¦</a> <a href=http://ir.baidu.com>About Baidu</a> </p> <p id=cp>&copy;2017&nbsp;Baidu&nbsp;<a href=http://www.baidu.com/duty/>ä½¿ç¨ç¾åº¦åå¿",
      "è¯»</a>&nbsp; <a href=http://jianyi.baidu.com/ class=cp-feedback>æè§åé¦</a>&nbsp;äº¬ICPè¯030173å·&nbsp; <img src=//www.baidu.com/img/gs.gif> </p> </div> </div> </div> </body> </html>\n",
      "\n"
     ]
    }
   ],
   "source": [
    "await main()"
   ]
  },
  {
   "cell_type": "markdown",
   "metadata": {},
   "source": [
    "### 事件循环中的错误处理\n",
    "\n",
    "我们可以设置事件循环中的错误处理回调函数,这样一旦事件循环出错就会执行这个回调函数.我们也可以手动使用`call_exception_handler()`接口执行设置的异常处理\n",
    "\n",
    "+ `set_exception_handler(handler)`\n",
    "\n",
    "将处理程序设置为新的事件循环异常处理程序.如果处理程序为None,则将设置默认的异常处理程序.如果处理程序是可调用对象,它应该具有匹配的签名(循环,上下文),其中循环将是对活动事件循环的引用,上下文将是一个`dict`对象(有关上下文的详细信息,请参阅`call_exception_handler()`文档)\n",
    "\n",
    "\n",
    "+ `get_exception_handler()`\n",
    "\n",
    "    返回异常处理程序,如果使用默认处理程序,则返回`None`.\n",
    "\n",
    "\n",
    "+ `default_exception_handler(context)`\n",
    "\n",
    "    默认异常处理程序.当异常发生时调用,并且没有设置异常处理程序,并且可以由想要推迟到默认行为的自定义异常处理程序调用.`context`参数与`call_exception_handler()`中的含义相同.\n",
    "\n",
    "\n",
    "+ `call_exception_handler(context)`\n",
    "\n",
    "    调用当前的事件循环异常处理程序.上下文是一个包含以下键的`dict`对象(新键可以稍后介绍):\n",
    "\n",
    "    + ‘message’: Error message;\n",
    "    + ‘exception’ (optional): Exception object;\n",
    "    + ‘future’ (optional): asyncio.Future instance;\n",
    "    + ‘handle’ (optional): asyncio.Handle instance;\n",
    "    + ‘protocol’ (optional): Protocol instance;\n",
    "    + ‘transport’ (optional): Transport instance;\n",
    "    + ‘socket’ (optional): socket.socket instance.\n"
   ]
  },
  {
   "cell_type": "code",
   "execution_count": 7,
   "metadata": {},
   "outputs": [
    {
     "name": "stdout",
     "output_type": "stream",
     "text": [
      "Overwriting src/loop_exception.py\n"
     ]
    }
   ],
   "source": [
    "%%writefile src/loop_exception.py\n",
    "import asyncio\n",
    "\n",
    "\n",
    "async def main():\n",
    "    count = 0\n",
    "    loop = asyncio.get_event_loop()\n",
    "    while True:\n",
    "        count += 1\n",
    "        print(\"ok\")\n",
    "        await asyncio.sleep(1)\n",
    "        if count == 3:\n",
    "            context = {\n",
    "                'message': '错误消息',\n",
    "                'exception': AttributeError('错误消息')\n",
    "            }\n",
    "            loop.call_exception_handler(context)\n",
    "\n",
    "\n",
    "def AttributeErrorHaddler(loop, context):\n",
    "    loop.call_exception_handler(context)\n",
    "\n",
    "\n",
    "loop = asyncio.get_event_loop()\n",
    "loop.set_exception_handler(lambda loop, context: print(context))\n",
    "loop.run_until_complete(main())"
   ]
  },
  {
   "cell_type": "markdown",
   "metadata": {},
   "source": [
    "## 使用Unix信号管理事件循环\n",
    "`loop.add_signal_handler(signum, callback, *args)`可以为标准库`signal`中定义的unix信号设置回调函数,一旦捕捉到对应的信号,就会执行注册了的回调函数,当然了也可以使用`loop.remove_signal_handler(sig)`移除对信号的监控.`signal`模块定义的unix信号可以在本章结语部分找到.下面的例子我们监听由`signal.alarm()`发起的定时闹钟信号`signal.SIGALRM`,并在收到信号后执行回调函数.\n"
   ]
  },
  {
   "cell_type": "code",
   "execution_count": 8,
   "metadata": {},
   "outputs": [
    {
     "name": "stdout",
     "output_type": "stream",
     "text": [
      "Overwriting src/asyncio_signal_test.py\n"
     ]
    }
   ],
   "source": [
    "%%writefile src/asyncio_signal_test.py\n",
    "\n",
    "import signal\n",
    "import asyncio\n",
    "signal.alarm(4)\n",
    "loop = asyncio.get_event_loop()\n",
    "\n",
    "loop.add_signal_handler(signal.SIGALRM,lambda : print(\"闹铃响了\"))\n",
    "async def main():\n",
    "    while True:\n",
    "        await asyncio.sleep(1)\n",
    "\n",
    "loop.run_until_complete(main())\n"
   ]
  },
  {
   "cell_type": "markdown",
   "metadata": {},
   "source": [
    "### 例子: 生产者消费者模型\n",
    "\n",
    "以下是一个生产者消费者模式的例子"
   ]
  },
  {
   "cell_type": "code",
   "execution_count": 1,
   "metadata": {},
   "outputs": [
    {
     "name": "stdout",
     "output_type": "stream",
     "text": [
      "producing 1/10\n",
      "producing 2/10\n",
      "consuming item 1...\n",
      "producing 3/10\n",
      "consuming item 2...\n",
      "producing 4/10\n",
      "consuming item 3...\n",
      "producing 5/10\n",
      "consuming item 4...\n",
      "producing 6/10\n",
      "producing 7/10\n",
      "producing 8/10\n",
      "producing 9/10\n",
      "consuming item 5...\n",
      "consuming item 6...\n",
      "producing 10/10\n",
      "consuming item 7...\n",
      "consuming item 8...\n",
      "consuming item 9...\n",
      "consuming item 10...\n"
     ]
    },
    {
     "data": {
      "text/plain": [
       "[None, None]"
      ]
     },
     "execution_count": 1,
     "metadata": {},
     "output_type": "execute_result"
    }
   ],
   "source": [
    "import asyncio\n",
    "import random\n",
    "\n",
    "\n",
    "async def produce(queue, n):\n",
    "    for x in range(1, n + 1):\n",
    "        # produce an item\n",
    "        print('producing {}/{}'.format(x, n))\n",
    "        # simulate i/o operation using sleep\n",
    "        await asyncio.sleep(random.random())\n",
    "        item = str(x)\n",
    "        # put the item in the queue\n",
    "        await queue.put(item)\n",
    "\n",
    "    # indicate the producer is done\n",
    "    await queue.put(None)\n",
    "\n",
    "\n",
    "async def consume(queue):\n",
    "    while True:\n",
    "        # wait for an item from the producer\n",
    "        item = await queue.get()\n",
    "        if item is None:\n",
    "            # the producer emits None to indicate that it is done\n",
    "            break\n",
    "\n",
    "        # process the item\n",
    "        print('consuming item {}...'.format(item))\n",
    "        # simulate i/o operation using sleep\n",
    "        await asyncio.sleep(random.random())\n",
    "\n",
    "\n",
    "queue = asyncio.Queue()\n",
    "producer_coro = produce(queue, 10)\n",
    "consumer_coro = consume(queue)\n",
    "await asyncio.gather(producer_coro, consumer_coro)"
   ]
  }
 ],
 "metadata": {
  "anaconda-cloud": {},
  "kernelspec": {
   "display_name": "Python 3 (ipykernel)",
   "language": "python",
   "name": "python3"
  },
  "language_info": {
   "codemirror_mode": {
    "name": "ipython",
    "version": 3
   },
   "file_extension": ".py",
   "mimetype": "text/x-python",
   "name": "python",
   "nbconvert_exporter": "python",
   "pygments_lexer": "ipython3",
   "version": "3.10.11"
  }
 },
 "nbformat": 4,
 "nbformat_minor": 4
}
