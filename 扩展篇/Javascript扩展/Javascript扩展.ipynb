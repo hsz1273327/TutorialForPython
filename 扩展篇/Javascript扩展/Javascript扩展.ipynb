{
 "cells": [
  {
   "cell_type": "markdown",
   "id": "375f7503-0d45-483a-9da8-ed367998cc65",
   "metadata": {},
   "source": [
    "# Javascript扩展\n",
    "\n",
    "在python中要调用js可以使用第三方库[PyMiniRacer](https://github.com/sqreen/PyMiniRacer),使用`pip install py-mini-racer`安装.\n",
    "\n",
    "由于js本身也是个解释型脚本语言,py-mini-racer干的事其实就是把v8引擎嵌入了python中,我们可以直接使用`MiniRacer`类的实例方法`eval`,`call`以及`execute`来执行js代码文本.无论哪种方式运行过程都保存在实例中."
   ]
  },
  {
   "cell_type": "code",
   "execution_count": 1,
   "id": "6c911313-9916-418a-bd6a-ab093f6753e1",
   "metadata": {
    "tags": []
   },
   "outputs": [],
   "source": [
    "from py_mini_racer import py_mini_racer\n",
    "ctx = py_mini_racer.MiniRacer()"
   ]
  },
  {
   "cell_type": "markdown",
   "id": "984c4717-aa97-4faf-84e9-7d1e65599e3b",
   "metadata": {},
   "source": [
    "> 执行代码\n",
    "\n",
    "使用`eval`接口就可以执行代码,代码在`MiniRacer`对象中执行,其中定义变量包括函数我们并不能在python中获得,通常两个用途:\n",
    "\n",
    "+ 执行表达式,表达式的值会被python获取\n",
    "+ 执行函数,类,模块,变量等的申明,然后使用`call`接口调用函数获取结果"
   ]
  },
  {
   "cell_type": "code",
   "execution_count": 4,
   "id": "3d3aa7ce-391d-4174-8a1c-c59798d3ed7c",
   "metadata": {
    "tags": []
   },
   "outputs": [
    {
     "data": {
      "text/plain": [
       "2"
      ]
     },
     "execution_count": 4,
     "metadata": {},
     "output_type": "execute_result"
    }
   ],
   "source": [
    "ctx.eval(\"1+1\")"
   ]
  },
  {
   "cell_type": "markdown",
   "id": "03936c38-63f5-489a-a2cf-607151d6746d",
   "metadata": {
    "tags": []
   },
   "source": [
    "> 调用函数"
   ]
  },
  {
   "cell_type": "code",
   "execution_count": 5,
   "id": "90fc4e9e-4cb6-45c2-8826-21a193612717",
   "metadata": {
    "tags": []
   },
   "outputs": [],
   "source": [
    "ctx.eval(\"const fun = () => ({ foo: 1 })\")"
   ]
  },
  {
   "cell_type": "code",
   "execution_count": 6,
   "id": "fb35754d-e419-4dc4-8d60-9bed75198d3a",
   "metadata": {
    "tags": []
   },
   "outputs": [
    {
     "data": {
      "text/plain": [
       "{'foo': 1}"
      ]
     },
     "execution_count": 6,
     "metadata": {},
     "output_type": "execute_result"
    }
   ],
   "source": [
    "ctx.call(\"fun\")"
   ]
  },
  {
   "cell_type": "markdown",
   "id": "360d9daf-71a8-4697-b2f7-ebe459c7e957",
   "metadata": {},
   "source": [
    "## PyMiniRacer的安装\n",
    "\n",
    "这个项目已经很久没人维护了,目前官方只支持x86_64平台上windows,macos和linux环境,如果你希望在arm64平台使用可以参考下面的方法:\n",
    "\n",
    "+ linux:可以直接下载[网友编译好的wheel包](https://blog.csdn.net/KongDong/article/details/130182040),这个包本项目下也有备份\n",
    "+ macos:直接安装`py-mini-racer`,然后将[libmini_racer.dylib](https://jfds-1252952517.cos.ap-chengdu.myqcloud.com/akshare/software/pyminiracer/libmini_racer.dylib)方到安装好的`py-mini-racer`项目根目录下.这个动态链接库本项目也有备份"
   ]
  }
 ],
 "metadata": {
  "kernelspec": {
   "display_name": "Python 3 (ipykernel)",
   "language": "python",
   "name": "python3"
  },
  "language_info": {
   "codemirror_mode": {
    "name": "ipython",
    "version": 3
   },
   "file_extension": ".py",
   "mimetype": "text/x-python",
   "name": "python",
   "nbconvert_exporter": "python",
   "pygments_lexer": "ipython3",
   "version": "3.10.11"
  }
 },
 "nbformat": 4,
 "nbformat_minor": 5
}
