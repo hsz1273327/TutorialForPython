{
 "cells": [
  {
   "cell_type": "markdown",
   "metadata": {},
   "source": [
    "# 通过WebSocket接口读写数据\n",
    "\n",
    "我们实现收到10条信息后发送一个close事件让服务端关闭这个连接."
   ]
  },
  {
   "cell_type": "markdown",
   "metadata": {},
   "source": [
    "## 异步客户端\n",
    "\n",
    "websockets包同样提供了异步的客户端,:\n",
    "\n",
    "+ `client_async.py`:\n",
    "\n",
    "```python\n",
    "import asyncio\n",
    "import json\n",
    "import websockets\n",
    "\n",
    "async def hello():\n",
    "    uri = \"ws://localhost:5000/nowtime\"\n",
    "    async with websockets.connect(uri) as websocket:\n",
    "        count = 0\n",
    "        async for message in websocket:\n",
    "            if websocket.closed:\n",
    "                break\n",
    "            if count == 10:\n",
    "                await websocket.send(json.dumps({\"event\":\"close\"}))\n",
    "                print(\"send close\")\n",
    "            else:\n",
    "                count += 1\n",
    "            print(message)\n",
    "\n",
    "\n",
    "asyncio.get_event_loop().run_until_complete(hello())\n",
    "```\n",
    "    \n",
    "websockets包客户端的`websocket`对象和服务端一致.\n"
   ]
  },
  {
   "cell_type": "markdown",
   "metadata": {
    "tags": []
   },
   "source": [
    "## 同步客户端\n",
    "\n",
    "[websocket-client](https://github.com/websocket-client/websocket-client)提供了同步客户端.\n",
    "\n",
    "+ `client_sync.py`\n",
    "\n",
    "```python\n",
    "import json\n",
    "import websocket\n",
    "\n",
    "ws = websocket.create_connection(\"ws://localhost:5000/nowtime\")\n",
    "try:\n",
    "    count = 0\n",
    "    for message in ws:\n",
    "        if not ws.connected:\n",
    "            break\n",
    "        if count == 10:\n",
    "            ws.send(json.dumps({\"event\":\"close\"}))\n",
    "            print(\"send close\")\n",
    "        else:\n",
    "            count += 1\n",
    "        print(message)\n",
    "except Exception:\n",
    "    ws.close()\n",
    "```\n"
   ]
  }
 ],
 "metadata": {
  "kernelspec": {
   "display_name": "Python 3 (ipykernel)",
   "language": "python",
   "name": "python3"
  },
  "language_info": {
   "codemirror_mode": {
    "name": "ipython",
    "version": 3
   },
   "file_extension": ".py",
   "mimetype": "text/x-python",
   "name": "python",
   "nbconvert_exporter": "python",
   "pygments_lexer": "ipython3",
   "version": "3.10.11"
  }
 },
 "nbformat": 4,
 "nbformat_minor": 4
}
