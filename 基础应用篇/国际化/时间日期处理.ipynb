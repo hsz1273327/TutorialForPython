{
 "cells": [
  {
   "cell_type": "markdown",
   "metadata": {},
   "source": [
    "# 时间日期处理\n",
    "\n",
    "\n",
    "python和时间有关的标准库模块常用的主要有4个\n",
    "\n",
    "+ 基本时间模块`time`\n",
    "+ 日历模块`calendar`\n",
    "+ 时间日历模块`datetime`\n",
    "+ 时区信息模块`zoneinfo`"
   ]
  },
  {
   "cell_type": "markdown",
   "metadata": {},
   "source": [
    "## 一图流时间日期处理的方法介绍\n",
    "\n",
    "![](time格式转换关系.jpg)"
   ]
  },
  {
   "cell_type": "markdown",
   "metadata": {},
   "source": [
    "## 基本时间模块time\n",
    "\n",
    "time 模块中一般有三种表示时间的方式:\n",
    "\n",
    "+ 第一种是时间戳(timestamp)的方式(相对于1970.1.1 00:00:00以秒计算的偏移量),时间戳是惟一的,也是各种语言通用的.有的语言如java,js时间以ms记,所以处理的时候注意下,适当的时候`/1000`\n",
    "\n",
    "+ 第二种以数组的形式表示即(struct_time,结构化时间),共有九个元素，分别表示，同一个时间戳的struct_time会因为时区不同而不同\n",
    "    \n",
    "    \n",
    "    \n",
    "元素属性|范围及说明\n",
    "---|---\n",
    "year| (four digits, e.g. 1998)\n",
    "month| (1-12)\n",
    "day |(1-31)\n",
    "hours| (0-23)\n",
    "minutes| (0-59)\n",
    "seconds| (0-59)\n",
    "weekday| (0-6, Monday is 0)\n",
    "Julian day |(一年中的第几天, 1-366)\n",
    "DST |(-1, 0 or 1) 是否是夏令时,</br>0说明是不是,1说明是,-1说明不确定\n",
    "    \n",
    "+ 第三种是字符串表述,也就我们可以直接看懂的形式\n",
    "\n",
    "可以用如下的符号格式化字符串输出:\n",
    "\n",
    "符号|意思及取值范围\n",
    "---|---\n",
    "%y |两位数的年份表示（00-99）\n",
    "%Y |四位数的年份表示（000-9999）\n",
    "%m |月份（01-12）\n",
    "%d |月内中的一天（0-31）\n",
    "%H |24小时制小时数（0-23）\n",
    "%I |12小时制小时数（01-12） \n",
    "%M |分钟数（00=59）\n",
    "%S |秒（00-59）\n",
    "%a |本地简化星期名称\n",
    "%A |本地完整星期名称\n",
    "%b |本地简化的月份名称\n",
    "%B |本地完整的月份名称\n",
    "%c |本地相应的日期表示和时间表示\n",
    "%j |年内的一天（001-366）\n",
    "%p |本地A.M.或P.M.的等价符\n",
    "%U |一年中的星期数（00-53）星期天为星期的开始\n",
    "%w |星期（0-6），星期天为星期的开始\n",
    "%W |一年中的星期数（00-53）星期一为星期的开始\n",
    "%x |本地相应的日期表示\n",
    "%X |本地相应的时间表示\n",
    "%Z |当前时区的名称\n",
    "%% |%号本身 \n",
    "    \n"
   ]
  },
  {
   "cell_type": "code",
   "execution_count": 1,
   "metadata": {
    "collapsed": true,
    "jupyter": {
     "outputs_hidden": true
    }
   },
   "outputs": [],
   "source": [
    "import time"
   ]
  },
  {
   "cell_type": "markdown",
   "metadata": {},
   "source": [
    "### 时间获取\n",
    "\n",
    ">获取当前时间戳`time()`(单位s)`time_ns()`(单位ns)"
   ]
  },
  {
   "cell_type": "code",
   "execution_count": 2,
   "metadata": {},
   "outputs": [
    {
     "data": {
      "text/plain": [
       "1498831412.6540039"
      ]
     },
     "execution_count": 2,
     "metadata": {},
     "output_type": "execute_result"
    }
   ],
   "source": [
    "now_timestamp = time.time()\n",
    "now_timestamp"
   ]
  },
  {
   "cell_type": "markdown",
   "metadata": {},
   "source": [
    "> 获取当前结构化时间 localtime()"
   ]
  },
  {
   "cell_type": "code",
   "execution_count": 3,
   "metadata": {},
   "outputs": [
    {
     "data": {
      "text/plain": [
       "time.struct_time(tm_year=2017, tm_mon=6, tm_mday=30, tm_hour=22, tm_min=3, tm_sec=33, tm_wday=4, tm_yday=181, tm_isdst=0)"
      ]
     },
     "execution_count": 3,
     "metadata": {},
     "output_type": "execute_result"
    }
   ],
   "source": [
    "now_struct = time.localtime()\n",
    "now_struct"
   ]
  },
  {
   "cell_type": "markdown",
   "metadata": {},
   "source": [
    "> 直接获取当前时间字符串 asctime() "
   ]
  },
  {
   "cell_type": "code",
   "execution_count": 4,
   "metadata": {},
   "outputs": [
    {
     "data": {
      "text/plain": [
       "'Fri Jun 30 22:03:33 2017'"
      ]
     },
     "execution_count": 4,
     "metadata": {},
     "output_type": "execute_result"
    }
   ],
   "source": [
    "time.asctime()"
   ]
  },
  {
   "cell_type": "markdown",
   "metadata": {},
   "source": [
    "### 时间表现形式转化\n",
    "\n",
    "> 时间戳=>结构化时间 localtime()  gmtime()"
   ]
  },
  {
   "cell_type": "code",
   "execution_count": 5,
   "metadata": {},
   "outputs": [
    {
     "data": {
      "text/plain": [
       "time.struct_time(tm_year=2017, tm_mon=6, tm_mday=30, tm_hour=22, tm_min=3, tm_sec=32, tm_wday=4, tm_yday=181, tm_isdst=0)"
      ]
     },
     "execution_count": 5,
     "metadata": {},
     "output_type": "execute_result"
    }
   ],
   "source": [
    "# 当前时区\n",
    "time.localtime(now_timestamp)"
   ]
  },
  {
   "cell_type": "code",
   "execution_count": 6,
   "metadata": {},
   "outputs": [
    {
     "data": {
      "text/plain": [
       "time.struct_time(tm_year=2017, tm_mon=6, tm_mday=30, tm_hour=14, tm_min=3, tm_sec=32, tm_wday=4, tm_yday=181, tm_isdst=0)"
      ]
     },
     "execution_count": 6,
     "metadata": {},
     "output_type": "execute_result"
    }
   ],
   "source": [
    "# UTC时区(0时区)\n",
    "time.gmtime(now_timestamp)"
   ]
  },
  {
   "cell_type": "markdown",
   "metadata": {},
   "source": [
    "> 结构化时间=>时间戳 mktime()"
   ]
  },
  {
   "cell_type": "code",
   "execution_count": 7,
   "metadata": {},
   "outputs": [
    {
     "data": {
      "text/plain": [
       "1498831413.0"
      ]
     },
     "execution_count": 7,
     "metadata": {},
     "output_type": "execute_result"
    }
   ],
   "source": [
    "time.mktime(now_struct)"
   ]
  },
  {
   "cell_type": "markdown",
   "metadata": {},
   "source": [
    ">结构化时间=>字符串 asctime() strftime()"
   ]
  },
  {
   "cell_type": "code",
   "execution_count": 8,
   "metadata": {},
   "outputs": [
    {
     "data": {
      "text/plain": [
       "'Fri Jun 30 22:03:33 2017'"
      ]
     },
     "execution_count": 8,
     "metadata": {},
     "output_type": "execute_result"
    }
   ],
   "source": [
    "time.asctime(now_struct)"
   ]
  },
  {
   "cell_type": "code",
   "execution_count": 9,
   "metadata": {},
   "outputs": [
    {
     "data": {
      "text/plain": [
       "'2017-06-30 22:03:33'"
      ]
     },
     "execution_count": 9,
     "metadata": {},
     "output_type": "execute_result"
    }
   ],
   "source": [
    "time.strftime(\"%Y-%m-%d %H:%M:%S\", now_struct) "
   ]
  },
  {
   "cell_type": "markdown",
   "metadata": {},
   "source": [
    ">时间戳=>字符串 ctime()"
   ]
  },
  {
   "cell_type": "code",
   "execution_count": 10,
   "metadata": {},
   "outputs": [
    {
     "data": {
      "text/plain": [
       "'Fri Jun 30 22:03:32 2017'"
      ]
     },
     "execution_count": 10,
     "metadata": {},
     "output_type": "execute_result"
    }
   ],
   "source": [
    "time.ctime(now_timestamp)"
   ]
  },
  {
   "cell_type": "markdown",
   "metadata": {},
   "source": [
    "> 将格式化字符串转化为时间戳"
   ]
  },
  {
   "cell_type": "code",
   "execution_count": 11,
   "metadata": {},
   "outputs": [
    {
     "data": {
      "text/plain": [
       "1443104542.0"
      ]
     },
     "execution_count": 11,
     "metadata": {},
     "output_type": "execute_result"
    }
   ],
   "source": [
    "a = \"Sat Sep 24 22:22:22 2015\"\n",
    "b = time.mktime(time.strptime(a,\"%a %b %d %H:%M:%S %Y\"))\n",
    "b"
   ]
  },
  {
   "cell_type": "markdown",
   "metadata": {},
   "source": [
    "> 将格式化字符串转化为结构化时间"
   ]
  },
  {
   "cell_type": "code",
   "execution_count": 12,
   "metadata": {},
   "outputs": [
    {
     "data": {
      "text/plain": [
       "time.struct_time(tm_year=2015, tm_mon=9, tm_mday=24, tm_hour=22, tm_min=22, tm_sec=22, tm_wday=5, tm_yday=267, tm_isdst=-1)"
      ]
     },
     "execution_count": 12,
     "metadata": {},
     "output_type": "execute_result"
    }
   ],
   "source": [
    "c = time.strptime(a,\"%a %b %d %H:%M:%S %Y\")\n",
    "c"
   ]
  },
  {
   "cell_type": "markdown",
   "metadata": {},
   "source": [
    "### 特殊函数"
   ]
  },
  {
   "cell_type": "markdown",
   "metadata": {},
   "source": [
    "> 线程推迟指点时间 sleep(sec)"
   ]
  },
  {
   "cell_type": "code",
   "execution_count": 13,
   "metadata": {
    "collapsed": true,
    "jupyter": {
     "outputs_hidden": true
    }
   },
   "outputs": [],
   "source": [
    "time.sleep(1)"
   ]
  },
  {
   "cell_type": "markdown",
   "metadata": {},
   "source": [
    "## 基本的日历模块calendar\n",
    "\n",
    "calendar模块，即日历模块，提供了对日期的一些操作方法，和生成日历的方法。\n",
    "\n",
    "主要提供的常量(用list查看):\n",
    "\n",
    "常量|说明\n",
    "---|---\n",
    "calendar.day_name|一周的星期几名字\n",
    "calendar.day_abbr|一周的星期几名字的简写\n",
    "calendar.month_name|月份名字\n",
    "calendar.month_abbr|月份名字的简写\n",
    "\n",
    "主要的方法有:\n",
    "\n",
    "方法|说明\n",
    "---|---\n",
    "calendar.setfirstweekday(weekday)|设置日历中星期的的第一天是周几\n",
    "calendar.firstweekday()|查看日历中一星期的第一天是周几(在列表中的位置)\n",
    "calendar.isleap(year)  |判断是否是闰年\n",
    "calendar.leapdays(y1, y2)   |获取两个年份之间闰年数 \n",
    "calendar.weekday(year, month, day)|查看某一天是星期几(在列表中的位置)\n",
    "calendar.weekheader(n)|返回星期几的英文缩写,n表示用几位字母\n",
    "calendar.monthrange(year, month)|返回第一天是周几(列表中位置和月的长度)\n",
    "calendar.monthcalendar(year, month)|返回一个表示日历的二维数组\n",
    "calendar.prmonth(theyear, themonth, w=0, l=0)|直接打印日历\n",
    "calendar.month(theyear, themonth, w=0, l=0)|返回某月的日历文本\n",
    "calendar.prcal(year, w=0, l=0, c=6, m=3)|打印一年的日历\n",
    "calendar.calendar(year, w=2, l=1, c=6, m=3)|返回一年日历的字符串\n",
    "calendar.timegm(tuple)|把一个 UTC 的 struct_time 转化为 POSIX 时间戳\n",
    "\n",
    "其中有三个主要的类型可以实例化:\n",
    "\n",
    "+ calendar.Calendar(firstweekday=0) \n",
    "    \n",
    "    该类提供了许多生成器，如星期的生成器，某月日历生成器.\n",
    "    主要有:\n",
    "    + iterweekdays()\n",
    "        返回一周几天的生成器\n",
    "\n",
    "    + itermonthdates(year, month)\n",
    "        返回某月的每一天的datetime构成的生成器\n",
    "\n",
    "    + itermonthdays2(year, month)\n",
    "        返回某月的每一天的(日期,星期)构成的生成器\n",
    "\n",
    "    + itermonthdays(year, month)\n",
    "        返回某月的每一天的日期构成的生成器\n",
    "\n",
    "    + monthdatescalendar(year, month)\n",
    "        返回某月的每一天的datetime构成的list(每周是一个list)\n",
    "\n",
    "    + monthdays2calendar(year, month)\n",
    "        返回某月的每一天的(日期,星期)构成的list(每周是一个list)\n",
    "\n",
    "    + monthdayscalendar(year, month)\n",
    "        返回某月的每一天的日期构成的list(每周是一个list)\n",
    "\n",
    "    + yeardatescalendar(year, width=3)\n",
    "        返回某年的每一天的datetime构成的list(每月一个list,每周是一个list)\n",
    "\n",
    "    + yeardays2calendar(year, width=3)\n",
    "        返回某年的每一天的(日期,星期)构成的list(每月一个list,每周是一个list)\n",
    "\n",
    "    + yeardayscalendar(year, width=3)\n",
    "        返回某年的每一天的日期构成的list(每月一个list,每周是一个list)\n",
    "\n",
    "+ calendar.TextCalendar(firstweekday=0) \n",
    "\n",
    "    该类提供了按月、按年生成日历字符串的方法。\n",
    "主要有:\n",
    "\n",
    "方法|说明\n",
    "---|---\n",
    "formatmonth(theyear, themonth, w=0, l=0)|返回某月的日历字符串\n",
    "prmonth(theyear, themonth, w=0, l=0)|打印某月的日历字符串\n",
    "formatyear(theyear, w=2, l=1, c=6, m=3)|返回某年的日历字符串\n",
    "pryear(theyear, w=2, l=1, c=6, m=3)|打印某年的日历字符串\n",
    "\n",
    "子类有:\n",
    "\n",
    "`calendar.LocaleTextCalendar(firstweekday=0, locale=None)`\n",
    "\n",
    "用来生成本地日历,主要就是月份和星期的本地语言化,locale默认是计算机的locale\n",
    "\n",
    "+ calendar.HTMLCalendar(firstweekday=0) \n",
    "\n",
    "    类似TextCalendar，不过生成的是HTML格式日历\n",
    "    主要有:\n",
    "    + formatmonth(theyear, themonth, withyear=True)\n",
    "        返回某月的日历的html字符串\n",
    "        \n",
    "    + formatyear(theyear, width=3)\n",
    "        返回某年的日历的html字符串\n",
    "        \n",
    "    + formatyearpage(theyear, width=3, css='calendar.css', encoding=None)\n",
    "        返回完整的页面代码的字符串\n",
    "\n",
    "子类有:\n",
    "\n",
    "`calendar.LocaleHTMLCalendar(firstweekday=0, locale=None)`\n",
    "\n",
    "用来生成本地日历,主要就是月份和星期的本地语言化,locale默认是计算机的locale"
   ]
  },
  {
   "cell_type": "code",
   "execution_count": 14,
   "metadata": {
    "collapsed": true,
    "jupyter": {
     "outputs_hidden": true
    }
   },
   "outputs": [],
   "source": [
    "import calendar"
   ]
  },
  {
   "cell_type": "code",
   "execution_count": 15,
   "metadata": {
    "collapsed": true,
    "jupyter": {
     "outputs_hidden": true
    }
   },
   "outputs": [],
   "source": [
    "cal = calendar.HTMLCalendar(calendar.MONDAY)"
   ]
  },
  {
   "cell_type": "code",
   "execution_count": 16,
   "metadata": {
    "collapsed": true,
    "jupyter": {
     "outputs_hidden": true
    }
   },
   "outputs": [],
   "source": [
    "with open('calendar.html',\"wb\") as f:\n",
    "    f.write(cal.formatyearpage(2016))"
   ]
  },
  {
   "cell_type": "markdown",
   "metadata": {},
   "source": [
    "## 最常用的时间日历模块 datetime\n",
    "\n",
    "datetime同样是python标准库,不过它看起来就很OO很现代了~它用一个叫datetime的类型来表示时间,一般来说,做时间的计算会用它而不是time模块.\n",
    "\n",
    "通常datetime采用的默认时区是系统时区,我们可以使用如下代码查看到当前系统的UTC时区"
   ]
  },
  {
   "cell_type": "code",
   "execution_count": 8,
   "metadata": {
    "tags": []
   },
   "outputs": [
    {
     "data": {
      "text/plain": [
       "8.0"
      ]
     },
     "execution_count": 8,
     "metadata": {},
     "output_type": "execute_result"
    }
   ],
   "source": [
    "import time\n",
    "\n",
    "time.timezone / -(60*60) "
   ]
  },
  {
   "cell_type": "markdown",
   "metadata": {},
   "source": [
    "### 获取datetime时间\n",
    "\n",
    "> 获取当前日期和时间datetime.now()"
   ]
  },
  {
   "cell_type": "code",
   "execution_count": 9,
   "metadata": {
    "tags": []
   },
   "outputs": [
    {
     "data": {
      "text/plain": [
       "datetime.datetime(2023, 8, 4, 15, 37, 54, 602683)"
      ]
     },
     "execution_count": 9,
     "metadata": {},
     "output_type": "execute_result"
    }
   ],
   "source": [
    "now = datetime.now()\n",
    "now"
   ]
  },
  {
   "cell_type": "markdown",
   "metadata": {},
   "source": [
    ">获取某一时间datetime()"
   ]
  },
  {
   "cell_type": "code",
   "execution_count": 12,
   "metadata": {
    "tags": []
   },
   "outputs": [
    {
     "data": {
      "text/plain": [
       "datetime.datetime(2015, 9, 23, 17, 2, 4, 220475)"
      ]
     },
     "execution_count": 12,
     "metadata": {},
     "output_type": "execute_result"
    }
   ],
   "source": [
    "yesterday = datetime(2015,9,23,17,2,4,220475)\n",
    "yesterday"
   ]
  },
  {
   "cell_type": "markdown",
   "metadata": {},
   "source": [
    "### datetime => 时间戳 .timestamp()"
   ]
  },
  {
   "cell_type": "code",
   "execution_count": 21,
   "metadata": {},
   "outputs": [
    {
     "data": {
      "text/plain": [
       "1498831419.53575"
      ]
     },
     "execution_count": 21,
     "metadata": {},
     "output_type": "execute_result"
    }
   ],
   "source": [
    "now.timestamp()"
   ]
  },
  {
   "cell_type": "markdown",
   "metadata": {},
   "source": [
    "### 时间戳 => datetime\n",
    "\n",
    "> 本地时间"
   ]
  },
  {
   "cell_type": "code",
   "execution_count": 22,
   "metadata": {},
   "outputs": [
    {
     "data": {
      "text/plain": [
       "'2017-06-30 22:03:32.654004'"
      ]
     },
     "execution_count": 22,
     "metadata": {},
     "output_type": "execute_result"
    }
   ],
   "source": [
    "before_now = datetime.fromtimestamp(now_timestamp)\n",
    "before_now.__str__()"
   ]
  },
  {
   "cell_type": "markdown",
   "metadata": {},
   "source": [
    "> UTC标准时间"
   ]
  },
  {
   "cell_type": "code",
   "execution_count": 23,
   "metadata": {},
   "outputs": [
    {
     "data": {
      "text/plain": [
       "'2017-06-30 14:03:32.654004'"
      ]
     },
     "execution_count": 23,
     "metadata": {},
     "output_type": "execute_result"
    }
   ],
   "source": [
    "before_now_UTC = datetime.utcfromtimestamp(now_timestamp)\n",
    "before_now_UTC.__str__()"
   ]
  },
  {
   "cell_type": "markdown",
   "metadata": {},
   "source": [
    "### 格式化字符串 => datetime"
   ]
  },
  {
   "cell_type": "code",
   "execution_count": 24,
   "metadata": {},
   "outputs": [
    {
     "data": {
      "text/plain": [
       "datetime.datetime(2015, 6, 1, 18, 19, 59)"
      ]
     },
     "execution_count": 24,
     "metadata": {},
     "output_type": "execute_result"
    }
   ],
   "source": [
    "cday = datetime.strptime('2015-6-1 18:19:59', '%Y-%m-%d %H:%M:%S')\n",
    "cday"
   ]
  },
  {
   "cell_type": "markdown",
   "metadata": {},
   "source": [
    "### datetime => 格式化字符串"
   ]
  },
  {
   "cell_type": "code",
   "execution_count": 25,
   "metadata": {},
   "outputs": [
    {
     "data": {
      "text/plain": [
       "'Fri, Jun 30 22:03'"
      ]
     },
     "execution_count": 25,
     "metadata": {},
     "output_type": "execute_result"
    }
   ],
   "source": [
    "now.strftime('%a, %b %d %H:%M')"
   ]
  },
  {
   "cell_type": "markdown",
   "metadata": {},
   "source": [
    "### 时间计算\n",
    "\n",
    "datetime和datetime间可以执行加减和比较操作,时间差会以`datetime.timedelta`的形式保存"
   ]
  },
  {
   "cell_type": "code",
   "execution_count": 26,
   "metadata": {},
   "outputs": [
    {
     "name": "stdout",
     "output_type": "stream",
     "text": [
      "2017-06-30 22:03:46.561364\n",
      "2017-07-01 08:03:46.561364\n",
      "2017-06-29 22:03:46.561364\n",
      "2017-07-03 10:03:46.561364\n"
     ]
    }
   ],
   "source": [
    "from datetime import datetime, timedelta\n",
    "now = datetime.now()\n",
    "print(now)\n",
    "\n",
    "print(now + timedelta(hours=10))\n",
    "\n",
    "print(now - timedelta(days=1))\n",
    "\n",
    "print(now + timedelta(days=2, hours=12))\n"
   ]
  },
  {
   "cell_type": "code",
   "execution_count": 27,
   "metadata": {
    "tags": []
   },
   "outputs": [],
   "source": [
    "tenten = datetime(2015, 10, 1, 0, 0, 0, 0)"
   ]
  },
  {
   "cell_type": "code",
   "execution_count": 28,
   "metadata": {},
   "outputs": [
    {
     "data": {
      "text/plain": [
       "'-639 days, 1:56:13.438636'"
      ]
     },
     "execution_count": 28,
     "metadata": {},
     "output_type": "execute_result"
    }
   ],
   "source": [
    "(tenten - now).__str__()"
   ]
  },
  {
   "cell_type": "code",
   "execution_count": 29,
   "metadata": {
    "collapsed": true,
    "jupyter": {
     "outputs_hidden": true
    }
   },
   "outputs": [],
   "source": [
    "from datetime import datetime, timedelta"
   ]
  },
  {
   "cell_type": "code",
   "execution_count": 30,
   "metadata": {
    "collapsed": true,
    "jupyter": {
     "outputs_hidden": true
    }
   },
   "outputs": [],
   "source": [
    "now = datetime.now()"
   ]
  },
  {
   "cell_type": "code",
   "execution_count": 31,
   "metadata": {},
   "outputs": [
    {
     "data": {
      "text/plain": [
       "datetime.datetime(2017, 6, 30, 22, 3, 47, 327346)"
      ]
     },
     "execution_count": 31,
     "metadata": {},
     "output_type": "execute_result"
    }
   ],
   "source": [
    "now"
   ]
  },
  {
   "cell_type": "code",
   "execution_count": 32,
   "metadata": {},
   "outputs": [
    {
     "data": {
      "text/plain": [
       "datetime.datetime(2017, 6, 30, 22, 3, 57, 327346)"
      ]
     },
     "execution_count": 32,
     "metadata": {},
     "output_type": "execute_result"
    }
   ],
   "source": [
    "now + timedelta(seconds=10)"
   ]
  },
  {
   "cell_type": "code",
   "execution_count": 33,
   "metadata": {
    "tags": []
   },
   "outputs": [],
   "source": [
    "nowonow = datetime.now()\n",
    "nowonow"
   ]
  },
  {
   "cell_type": "code",
   "execution_count": 35,
   "metadata": {},
   "outputs": [
    {
     "data": {
      "text/plain": [
       "False"
      ]
     },
     "execution_count": 35,
     "metadata": {},
     "output_type": "execute_result"
    }
   ],
   "source": [
    "nowonow < now"
   ]
  },
  {
   "cell_type": "markdown",
   "metadata": {},
   "source": [
    "## 支持链式表达式和时区转换的时间处理模块\n",
    "\n",
    "[moment](https://github.com/zachwill/moment)是一个开源,接口仿照js库moment的时间处理模块,支持链式表达式\n",
    "\n",
    "他的好处是用链式表达式可以写起来很顺畅\n",
    "\n",
    "可以使用pip安装,以下是官方的例子,要用的话可以对着例子找接口"
   ]
  },
  {
   "cell_type": "code",
   "execution_count": 36,
   "metadata": {
    "collapsed": true,
    "jupyter": {
     "outputs_hidden": true
    }
   },
   "outputs": [],
   "source": [
    "import moment\n",
    "from datetime import datetime\n",
    "\n",
    "# Create a moment from a string\n",
    "moment.date(\"12-18-2012\", \"M-D-YYYY\")\n",
    "\n",
    "# Create a moment with strftime format\n",
    "moment.date(\"12-18-2012\", \"%m-%d-%Y\")\n",
    "\n",
    "# By default, the \"%Y-%m-%d\" strftime format is used\n",
    "moment.date(\"2012-12-18\")\n",
    "\n",
    "# Create a moment from the current datetime\n",
    "moment.now()\n",
    "\n",
    "# The moment can also be UTC-based\n",
    "moment.utcnow()\n",
    "\n",
    "# Create a moment with the UTC time zone\n",
    "moment.utc(\"2012-12-18\", \"YYYY-M-D\")\n",
    "\n",
    "# Create a moment from a Unix timestamp\n",
    "moment.unix(13558751536)\n",
    "\n",
    "# Create a moment from a Unix UTC timestamp\n",
    "moment.unix(13558751536, utc=True)\n",
    "\n",
    "# Return a datetime instance\n",
    "moment.date(2012, 12, 18).date\n",
    "\n",
    "# We can do the same thing with the UTC method\n",
    "moment.utc(2012, 12, 18).date\n",
    "\n",
    "# Create and format a moment using Moment.js semantics\n",
    "moment.now().format(\"YYYY-M-D\")\n",
    "\n",
    "# Create and format a moment with strftime semantics\n",
    "moment.date(2012, 12, 18).strftime(\"%Y-%m-%d\")\n",
    "\n",
    "# Update your moment's time zone\n",
    "moment.date(datetime(2012, 12, 18)).locale(\"US/Central\").date\n",
    "\n",
    "# Alter the moment's UTC time zone to a different time zone\n",
    "moment.utcnow().timezone(\"US/Eastern\").date\n",
    "\n",
    "# Set and update your moment's time zone. For instance, I'm on the\n",
    "# west coast, but want NYC's current time.\n",
    "moment.now().locale(\"US/Pacific\").timezone(\"US/Eastern\")\n",
    "\n",
    "# In order to manipulate time zones, a locale must always be set or\n",
    "# you must be using UTC.\n",
    "moment.utcnow().timezone(\"US/Eastern\").date\n",
    "\n",
    "# You can also clone a moment, so the original stays unaltered\n",
    "now = moment.utcnow().timezone(\"US/Pacific\")\n",
    "future = now.clone().add(weeks=2)"
   ]
  },
  {
   "cell_type": "code",
   "execution_count": 37,
   "metadata": {},
   "outputs": [
    {
     "data": {
      "text/plain": [
       "<Moment(2017-06-30)>"
      ]
     },
     "execution_count": 37,
     "metadata": {},
     "output_type": "execute_result"
    }
   ],
   "source": [
    "# Customize your moment by chaining commands\n",
    "moment.date(2012, 12, 18).add(days=2).subtract(weeks=3).date\n",
    "\n",
    "# Imagine trying to do this with datetime, right?\n",
    "moment.utcnow().add(years=3, months=2).format(\"YYYY-M-D h:m A\")\n",
    "\n",
    "# You can use multiple keyword arguments\n",
    "moment.date(2012, 12, 19).add(hours=1, minutes=2, seconds=3)\n",
    "\n",
    "# And, a similar subtract example...\n",
    "moment.date(2012, 12, 19, 1, 2, 3).subtract(hours=1, minutes=2, seconds=3)\n",
    "\n",
    "# In addition to adding/subtracting, we can also replace values\n",
    "moment.now().replace(hours=5, minutes=15, seconds=0).epoch()\n",
    "\n",
    "# And, if you'd prefer to keep the microseconds on your epoch value\n",
    "moment.now().replace(hours=5, minutes=15, seconds=0).epoch(rounding=False)\n",
    "\n",
    "# Years, months, and days can also be set\n",
    "moment.now().replace(years=1984, months=1, days=1, hours=0, minutes=0, seconds=0)\n",
    "\n",
    "# Also, datetime properties are available\n",
    "moment.utc(2012, 12, 19).year == 2012\n",
    "\n",
    "# Including plural ones (since I'm bad at remembering)\n",
    "moment.now().seconds\n",
    "\n",
    "# We can also manipulate to preferred weekdays, such as Monday\n",
    "moment.date(2012, 12, 19).replace(weekday=1).strftime(\"%Y-%m-%d\")\n",
    "\n",
    "# Or, this upcoming Sunday\n",
    "moment.date(\"2012-12-19\").replace(weekday=7).date\n",
    "\n",
    "# We can even go back to two Sundays ago\n",
    "moment.date(2012, 12, 19).replace(weekday=-7).format(\"YYYY-MM-DD\")\n",
    "\n",
    "# It's also available as a property\n",
    "moment.utcnow().weekday\n",
    "\n",
    "# And, there's an easy way to zero out the hours, minutes, and seconds\n",
    "moment.utcnow().zero"
   ]
  }
 ],
 "metadata": {
  "kernelspec": {
   "display_name": "Python 3 (ipykernel)",
   "language": "python",
   "name": "python3"
  },
  "language_info": {
   "codemirror_mode": {
    "name": "ipython",
    "version": 3
   },
   "file_extension": ".py",
   "mimetype": "text/x-python",
   "name": "python",
   "nbconvert_exporter": "python",
   "pygments_lexer": "ipython3",
   "version": "3.10.11"
  }
 },
 "nbformat": 4,
 "nbformat_minor": 4
}
