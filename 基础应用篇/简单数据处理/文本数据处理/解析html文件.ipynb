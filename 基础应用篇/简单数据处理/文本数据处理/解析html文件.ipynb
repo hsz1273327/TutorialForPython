{
 "cells": [
  {
   "cell_type": "markdown",
   "metadata": {},
   "source": [
    "# html的jQuery式解析(pyquery)\n",
    "\n",
    "python上也有类似jQuery的html解析包,就是题目的名字了[官网在这边](https://github.com/gawel/pyquery)\n",
    "\n",
    "安装:\n",
    "\n",
    "    pip install pyquery\n",
    "    \n",
    "注意:pypy上安装需要下载下来然后修改依赖,把lxml改成lxml-cffi,然后再用\n",
    "\n",
    "    pypy setup.py install \n",
    "    \n",
    "    \n",
    "安装.并且html内容必须把unicode转码成str才可以"
   ]
  },
  {
   "cell_type": "code",
   "execution_count": 1,
   "metadata": {
    "collapsed": true,
    "jupyter": {
     "outputs_hidden": true
    }
   },
   "outputs": [],
   "source": [
    "from pyquery import PyQuery as pq"
   ]
  },
  {
   "cell_type": "code",
   "execution_count": 2,
   "metadata": {
    "collapsed": true,
    "jupyter": {
     "outputs_hidden": true
    }
   },
   "outputs": [],
   "source": [
    "from requests import get"
   ]
  },
  {
   "cell_type": "code",
   "execution_count": 3,
   "metadata": {
    "collapsed": true,
    "jupyter": {
     "outputs_hidden": true
    }
   },
   "outputs": [],
   "source": [
    "d = pq(\"<html><div id='1'><p>hello</p></div></html>\")"
   ]
  },
  {
   "cell_type": "code",
   "execution_count": 4,
   "metadata": {},
   "outputs": [
    {
     "name": "stdout",
     "output_type": "stream",
     "text": [
      "hello\n"
     ]
    }
   ],
   "source": [
    "print(d(\"#1\").text())"
   ]
  },
  {
   "cell_type": "code",
   "execution_count": 5,
   "metadata": {
    "collapsed": true,
    "jupyter": {
     "outputs_hidden": true
    }
   },
   "outputs": [],
   "source": [
    "s = get(\"http://pyquery.readthedocs.org/en/latest/\").text"
   ]
  },
  {
   "cell_type": "code",
   "execution_count": 6,
   "metadata": {
    "collapsed": true,
    "jupyter": {
     "outputs_hidden": true
    }
   },
   "outputs": [],
   "source": [
    "html=pq(s.encode(\"utf-8\"))"
   ]
  },
  {
   "cell_type": "markdown",
   "metadata": {},
   "source": [
    "## 获取html内容\n",
    "除了上面的方式通过requests获取html内容外,pyquery也内置了直接获取html文本的方法\n",
    "\n",
    "+ 构造函数添加关键字参数url就可以从web上获取html文本\n",
    "+ 构造函数添加关键字参数filename就可以从本地文件系统上获取html文本"
   ]
  },
  {
   "cell_type": "code",
   "execution_count": 7,
   "metadata": {
    "collapsed": true,
    "jupyter": {
     "outputs_hidden": true
    }
   },
   "outputs": [],
   "source": [
    "html = pq(url=\"http://pyquery.readthedocs.org/en/latest/\")"
   ]
  },
  {
   "cell_type": "code",
   "execution_count": 8,
   "metadata": {
    "scrolled": true
   },
   "outputs": [
    {
     "data": {
      "text/plain": [
       "'\\n  <head>\\n    <meta http-equiv=\"Content-Type\" content=\"text/html; charset=utf-8\" />\\n    \\n    <title>'"
      ]
     },
     "execution_count": 8,
     "metadata": {},
     "output_type": "execute_result"
    }
   ],
   "source": [
    "html.html()[:100]"
   ]
  },
  {
   "cell_type": "markdown",
   "metadata": {},
   "source": [
    "## 选择器\n",
    "\n",
    "pyQuery与jquery的选择器规则相同,假设我们的pyquery实例名与jquery一致为`$`,这样给他一个参数他就可以进行查找工作\n",
    "\n",
    "所有的查找返回的都是一个pyQuery对象,pyQuery对象类似数组，它的每个元素都是一个引用了DOM节点的对象,如果一个都没找到,那就返回一个空的jQuery对象\n",
    "\n",
    "表达式|说明\n",
    "---|---\n",
    "`$('#a')`|找到id是a的节点,并返回一个jQuery对象\n",
    "`$('.a')`|找到class是a的节点\n",
    "`$('a')`|找到<a>节点\n",
    "`$('[name=a]')`|找到有属性name是a的节点,当属性中包含特殊字符时则用双引号引起来\n",
    "`$('[name^=a]')`|找到有属性name是以a开头的节点\n",
    "`$('[name$=a]')`|找到有属性name是以a结尾的节点"
   ]
  },
  {
   "cell_type": "markdown",
   "metadata": {},
   "source": [
    "### 选择器可以组合,\n",
    "\n",
    "比如:\n",
    "\n",
    "    $('p[name=a]')\n",
    "    \n",
    "是说要找name属性是a的`<p>`标签.各种组合可以随意搭配"
   ]
  },
  {
   "cell_type": "markdown",
   "metadata": {},
   "source": [
    "### 选择器可以用`,`表示或的关系,从而把符合多种选择条件的都放进去,\n",
    "\n",
    "比如\n",
    "\n",
    "    $('p[name^=a],p[name$=a]')\n",
    "    \n",
    "表示name属性是以a开头或以a结尾的`<p>`标签"
   ]
  },
  {
   "cell_type": "markdown",
   "metadata": {},
   "source": [
    "### 选择器可以固定层级\n",
    "\n",
    "如果两个DOM元素具有层级关系，就可以用`$('ancestor descendant')`来选择，层级之间用空格隔开。\n",
    "\n",
    "比如:\n",
    "\n",
    "    $('div[name=a1] p[name$=a]')\n",
    "    \n",
    "表示在name属性是a1的div标签中的所有name属性是以a结尾的p标签\n",
    "\n",
    "\n",
    "也可以用自选择器`$('parent>child')`来做选择\n",
    "\n",
    "自选择器固定了层级关系是父子关系,也就是一个节点必须是拎一个的直属子节点\n",
    "\n",
    "    $('div[name=a1]>p[name$=a]')"
   ]
  },
  {
   "cell_type": "markdown",
   "metadata": {},
   "source": [
    "## 过滤器\n",
    "\n",
    "过滤器用来过滤由选择器选出来的节点,用`:`表示过滤器\n",
    "\n",
    "\n",
    "常用的普通标签的过滤器:\n",
    "\n",
    "\n",
    "过滤器|说明\n",
    "---|---\n",
    "`$('ul.lang li:first-child')`|仅选出第一个\n",
    "`$('ul.lang li:last-child')`| 仅选出最后一个\n",
    "`$('ul.lang li:nth-child(2)')`| 选出第N个元素，N从1开始\n",
    "`$('ul.lang li:nth-child(even)')`| 选出序号为偶数的元素\n",
    "`$('ul.lang li:nth-child(odd)')`| 选出序号为奇数的元素\n",
    "`$('div:visible')`| 所有可见的div\n",
    "`$('div:hidden')`| 所有隐藏的div\n",
    "\n",
    "\n",
    "常用的表单的过滤器:\n",
    "\n",
    "过滤器|说明\n",
    "---|---\n",
    "input|可以选择`<input>，<textarea>，<select>和<button>`\n",
    "file|可以选择`<input type=\"file\">`，和`input[type=file]`一样\n",
    "checkbox|可以选择复选框，和`input[type=checkbox]`一样\n",
    "radio|可以选择单选框，和`input[type=radio]`一样\n",
    "focus|可以选择当前输入焦点的元素，例如把光标放到一个`<input>`上，用`$('input:focus')`就可以选出\n",
    "checked|选择当前勾上的单选框和复选框，用这个选择器可以立刻获得用户选择的项目\n",
    "enabled|可以选择可以正常输入的`<input>、<select>`等，也就是没有灰掉的输入\n",
    "disabled|和:enabled正好相反，选择那些不能输入的"
   ]
  },
  {
   "cell_type": "code",
   "execution_count": 9,
   "metadata": {},
   "outputs": [
    {
     "name": "stdout",
     "output_type": "stream",
     "text": [
      "index:genindex.html\n",
      "modules:py-modindex.html\n",
      "next:attributes.html\n",
      "pyquery 1.2.10.dev0 documentation:#\n",
      "Â¶:#pyquery-a-jquery-like-library-for-python\n",
      "project:https://github.com/gawel/pyquery/\n",
      "github:https://github.com/gawel/pyquery/issues\n",
      "Â¶:#quickstart\n",
      "Â¶:#full-documentation\n",
      "Attributes:attributes.html\n",
      "CSS:css.html\n",
      "Using pseudo classes:pseudo_classes.html\n",
      "Manipulating:manipulating.html\n",
      "Traversing:traversing.html\n",
      ":api.html\n",
      "Scraping:scrap.html\n",
      ":ajax.html\n",
      "Tips:tips.html\n",
      "Testing:testing.html\n",
      "Future:future.html\n",
      "News:changes.html\n",
      "Â¶:#more-documentation\n",
      "here:http://pyquery.rtfd.org/\n",
      "jquery website:http://docs.jquery.com/\n",
      "color cheat sheet:http://colorcharge.com/wp-content/uploads/2007/12/jquery12_colorcharge.png\n",
      "code:https://github.com/gawel/pyquery\n",
      "Â¶:#indices-and-tables\n",
      ":genindex.html\n",
      ":py-modindex.html\n",
      ":search.html\n",
      "Table Of Contents:#\n",
      "pyquery: a jquery-like library for python:#\n",
      "Quickstart:#quickstart\n",
      "Full documentation:#full-documentation\n",
      "More documentation:#more-documentation\n",
      "Indices and tables:#indices-and-tables\n",
      "Attributes:attributes.html\n",
      "Show Source:_sources/index.txt\n",
      "index:genindex.html\n",
      "modules:py-modindex.html\n",
      "next:attributes.html\n",
      "pyquery 1.2.10.dev0 documentation:#\n",
      "Sphinx:http://sphinx-doc.org/\n"
     ]
    }
   ],
   "source": [
    "for i in html(\"a\"):\n",
    "    print((i.text if i.text else \"\") + \":\" +i.get(\"href\"))"
   ]
  },
  {
   "cell_type": "code",
   "execution_count": 10,
   "metadata": {},
   "outputs": [
    {
     "name": "stdout",
     "output_type": "stream",
     "text": [
      "Attributes\n",
      "CSS\n",
      "Using pseudo classes\n",
      "Manipulating\n",
      "Traversing\n",
      "pyquery – PyQuery complete API\n",
      "Scraping\n",
      "pyquery.ajax – PyQuery AJAX extension\n",
      "Tips\n",
      "Testing\n",
      "Future\n",
      "News\n",
      "Index\n",
      "Module Index\n",
      "Search Page\n",
      "pyquery: a jquery-like library for python\n",
      "Quickstart\n",
      "Full documentation\n",
      "More documentation\n",
      "Indices and tables\n"
     ]
    },
    {
     "data": {
      "text/plain": [
       "[]"
      ]
     },
     "execution_count": 10,
     "metadata": {},
     "output_type": "execute_result"
    }
   ],
   "source": [
    "html(\"a.internal\").map(lambda i,e : print(pq(e).text()))"
   ]
  }
 ],
 "metadata": {
  "kernelspec": {
   "display_name": "Python 3 (ipykernel)",
   "language": "python",
   "name": "python3"
  },
  "language_info": {
   "codemirror_mode": {
    "name": "ipython",
    "version": 3
   },
   "file_extension": ".py",
   "mimetype": "text/x-python",
   "name": "python",
   "nbconvert_exporter": "python",
   "pygments_lexer": "ipython3",
   "version": "3.10.11"
  }
 },
 "nbformat": 4,
 "nbformat_minor": 4
}
