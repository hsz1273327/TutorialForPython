{
 "cells": [
  {
   "cell_type": "markdown",
   "id": "430fa273-0f2b-430b-8920-e36c2dd848dc",
   "metadata": {},
   "source": [
    "# numba与numpy结合使用\n",
    "\n",
    "在本篇中我们已经简单介绍过numba用于给计算密集型任务加速.作为python数值计算领域的事实标准,numba自然也对numpy有原生支持可以无缝集成.\n",
    "\n",
    "numpy提供了一种高效的向量化数据结构和对应的高性能计算框架,而numba则可以在底层层面借助numpy的数据结构更高效的加速运算过程\n",
    "\n",
    "numba对numpy的支持有多种形式:\n",
    "\n",
    "+ numba理解对numpy的`ufunc`的调用,可以在编译后获得更加高效的等效本地代码以提高性能。\n",
    "+ numba直接支持numpy数组,并可以有更高的数组访问效率;同时支持多数numpy提供的计算接口,在编译后也可以获得更高效的本地代码\n",
    "+ numba提供了更加方便高效的用python构造`ufunc`的装饰器,同时提供了对`generalized universal functions`(广义泛函数)的支持,让numpy有了更好的扩展性\n",
    "\n",
    "本文将介绍这两者如何结合使用."
   ]
  },
  {
   "cell_type": "markdown",
   "id": "e833e448-ab15-4882-a183-0fba30e62643",
   "metadata": {
    "jp-MarkdownHeadingCollapsed": true,
    "tags": []
   },
   "source": [
    "## numba支持的numpy中的ufunc\n",
    "\n",
    "numba有两个编译模式--`object mode`和`nopython mode`,官方推荐都使用`nopython mode`编译.这两个模式对numpy中ufunc的支持并不完全一致,下面是对应表\n",
    "\n",
    "> 计算符号\n",
    "\n",
    "UFUNC|object mode|nopython mode\n",
    "---|---|---\n",
    "`add`|Yes|Yes\n",
    "`subtract`|Yes|Yes\n",
    "`multiply`|Yes|Yes\n",
    "`divide`|Yes|Yes\n",
    "`logaddexp`|Yes|Yes\n",
    "`logaddexp2`|Yes|Yes\n",
    "`true_divide`|Yes|Yes\n",
    "`floor_divide`|Yes|Yes\n",
    "`negative`|Yes|Yes\n",
    "`power`|Yes|Yes\n",
    "`float_power`|Yes|Yes\n",
    "`remainder`|Yes|Yes\n",
    "`mod`|Yes|Yes\n",
    "`fmod`|Yes|Yes\n",
    "`divmod (timedelta上不支持)`|Yes|Yes\n",
    "`abs`|Yes|Yes\n",
    "`absolute`|Yes|Yes\n",
    "`fabs`|Yes|Yes\n",
    "`rint`|Yes|Yes\n",
    "`sign`|Yes|Yes\n",
    "`conj`|Yes|Yes\n",
    "`exp`|Yes|Yes\n",
    "`exp2`|Yes|Yes\n",
    "`log`|Yes|Yes\n",
    "`log2`|Yes|Yes\n",
    "`log10`|Yes|Yes\n",
    "`expm1`|Yes|Yes\n",
    "`log1p`|Yes|Yes\n",
    "`sqrt`|Yes|Yes\n",
    "`square`|Yes|Yes\n",
    "`cbrt`|Yes|Yes\n",
    "`reciprocal`|Yes|Yes\n",
    "`conjugate`|Yes|Yes\n",
    "`gcd`|Yes|Yes\n",
    "`lcm`|Yes|Yes\n",
    "\n",
    "> 三角函数\n",
    "\n",
    "UFUNC|object mode|nopython mode\n",
    "---|---|---\n",
    "`sin`|Yes|Yes\n",
    "`cos`|Yes|Yes\n",
    "`tan`|Yes|Yes\n",
    "`arcsin`|Yes|Yes\n",
    "`arccos`|Yes|Yes\n",
    "`arctan`|Yes|Yes\n",
    "`arctan2`|Yes|Yes\n",
    "`hypot`|Yes|Yes\n",
    "`sinh`|Yes|Yes\n",
    "`cosh`|Yes|Yes\n",
    "`tanh`|Yes|Yes\n",
    "`arcsinh`|Yes|Yes\n",
    "`arccosh`|Yes|Yes\n",
    "`arctanh`|Yes|Yes\n",
    "`deg2rad`|Yes|Yes\n",
    "`rad2deg`|Yes|Yes\n",
    "`degrees`|Yes|Yes\n",
    "`radians`|Yes|Yes\n",
    "\n",
    "\n",
    "> bit位计算\n",
    "\n",
    "UFUNC|object mode|nopython mode\n",
    "---|---|---\n",
    "`bitwise_and`|Yes|Yes\n",
    "`bitwise_or`|Yes|Yes\n",
    "`bitwise_xor`|Yes|Yes\n",
    "`bitwise_not`|Yes|Yes\n",
    "`invert`|Yes|Yes\n",
    "`left_shift`|Yes|Yes\n",
    "`right_shift`|Yes|Yes\n",
    "\n",
    "\n",
    "> 比较计算\n",
    "\n",
    "UFUNC|object mode|nopython mode\n",
    "---|---|---\n",
    "`greater`|Yes|Yes\n",
    "`greater_equal`|Yes|Yes\n",
    "`less`|Yes|Yes\n",
    "`less_equal`|Yes|Yes\n",
    "`not_equal`|Yes|Yes\n",
    "`equal`|Yes|Yes\n",
    "`logical_and`|Yes|Yes\n",
    "`logical_or`|Yes|Yes\n",
    "`logical_xor`|Yes|Yes\n",
    "`logical_not`|Yes|Yes\n",
    "`maximum`|Yes|Yes\n",
    "`minimum`|Yes|Yes\n",
    "`fmax`|Yes|Yes\n",
    "`fmin`|Yes|Yes\n",
    "\n",
    "\n",
    "> 浮点数计算\n",
    "\n",
    "UFUNC|object mode|nopython mode\n",
    "---|---|---\n",
    "`isfinite`|Yes|Yes\n",
    "`isinf`|Yes|Yes\n",
    "`isnan`|Yes|Yes\n",
    "`signbit`|Yes|Yes\n",
    "`copysign`|Yes|Yes\n",
    "`nextafter`|Yes|Yes\n",
    "`modf`|Yes|No\n",
    "`ldexp`|Yes|Yes\n",
    "`frexp`|Yes|No\n",
    "`floor`|Yes|Yes\n",
    "`ceil`|Yes|Yes\n",
    "`trunc`|Yes|Yes\n",
    "`spacing`|Yes|Yes\n",
    "\n",
    "\n",
    "> 时间计算\n",
    "\n",
    "UFUNC|object mode|nopython mode\n",
    "---|---|---\n",
    "`isnat`|Yes|Yes"
   ]
  },
  {
   "cell_type": "markdown",
   "id": "0b575e6a-b291-4929-990b-c0ca20aca835",
   "metadata": {},
   "source": [
    "## numba编译numpy的限制\n",
    "\n",
    "numba对numpy原生支持,但也不是完全支持,在`@jit`装饰的函数中也仅是支持numpy的一部分特性.\n",
    "\n",
    "numba支持大部分numpy原生的数据类型,仅不支持的常量类型包括\n",
    "\n",
    "1. python对象(`object`)\n",
    "2. 半精度和扩展精度的浮点数和复数类型(`float16`,`float128`,`complex256`)\n",
    "3. 嵌套结构体\n",
    "\n",
    "\n",
    "numba支持[大多数numpy运算符](https://numba.readthedocs.io/en/stable/reference/numpysupported.html#calculation)和[大多数numpy的dnarray的方法](https://numba.readthedocs.io/en/stable/reference/numpysupported.html#other-methods)\n",
    "\n",
    "在算法方面numba也支持[大多数numpy中内置的算法](https://numba.readthedocs.io/en/stable/reference/numpysupported.html#functions).同时支持numpy中的如下几个模块\n",
    "\n",
    "+ [random](https://numba.readthedocs.io/en/stable/reference/numpysupported.html#random),用于随机和分布\n",
    "+ [stride-tricks](https://numba.readthedocs.io/en/stable/reference/numpysupported.html#stride-tricks),用于切分数组构造窗口"
   ]
  },
  {
   "cell_type": "markdown",
   "id": "e68183ce-86a1-42a3-801a-7e8503193b9d",
   "metadata": {},
   "source": [
    "## 使用numba快速定义numpy的univeral function\n",
    "\n",
    "numba提供了两个装饰器用于构造ufunc\n",
    "\n",
    "+ 装饰器`@vectorize`用于将一个python函数包装为`univeral function`(泛函).它装饰的函数用于处理标量,即在广播中每个标量都会被计算的部分.调用泛函的数组总是返回和参数一样维度的数组.\n",
    "+ 装饰器`@guvectorize`,用于将一个python函数包装为`generalized universal functions`(广义泛函数).它装饰的函数用于处理高维数组和标量,调用广义泛函的数组通常输入和输出的维度是不同的\n"
   ]
  },
  {
   "cell_type": "markdown",
   "id": "03f44249-224e-43bc-bdd8-2867b852c491",
   "metadata": {},
   "source": [
    "### 装饰器`@vectorize`\n",
    "\n",
    "`@vectorize`支持的参数按顺序包括:\n",
    "\n",
    "+ `signatures=[]`:指定泛函的函数签名\n",
    "+ `identity=None`:指定用于某些操作的中性元素,可选的有`0`,`1`,`None`,`\"reorderable\"`(可重新排序),默认为`None`,中性元素是在对数组元素执行一些操作时用于初始化结果的特殊值.例如对于加法操作中性元素是`0`,因为任何数加`0`都等于它本身;对于乘法操作中性元素是`1`,因为任何数乘以`1`都等于它本身.如果不额外指定,numba会根据调用情况自行分配\n",
    "+ `nopython=True`,强制使用`nopython`模式执行,当使用`nopython`模式时numba会将被装饰的函数进行编译,这样它就可以完全在没有Python解释器的情况下运行,也就可以有更好的运行性能;但如果设置`nopython=False`时numba也会优先使用`nopython`模式,当无法使用时才会回退到`object`模式.在`object`模式下numba将识别可以编译的循环,并将其编译成在机器代码中运行的函数然后在解释器中运行其余代码.\n",
    "+ `target='cpu'`,指定编译后被哪个平台使用,支持`cpu`--单线程CPU计算;`parallel`--多线程CPU计算;`cuda`--有cuda的GPU计算\n",
    "+ `forceobj=False`,强制使用`object`模式运行.\n",
    "+ `cache=False`,是否缓存编译,注意`target='cuda'`无法缓存\n",
    "+ `locals={}`,指定函数的本地变量的类型,类似指定函数签名,也是起到静态化提高运行效率的作用"
   ]
  },
  {
   "cell_type": "code",
   "execution_count": 5,
   "id": "59886a8b-d092-4e53-9f5e-4c2f2c5a04a6",
   "metadata": {
    "tags": []
   },
   "outputs": [
    {
     "data": {
      "text/plain": [
       "array([ 6.4,  8.6, 10.8, 13. ])"
      ]
     },
     "execution_count": 5,
     "metadata": {},
     "output_type": "execute_result"
    }
   ],
   "source": [
    "import numpy as np\n",
    "from numba import vectorize,float32, float64, int32,int64\n",
    "\n",
    "@vectorize([float64(float64, float64)], identity=0)\n",
    "def ucustom_sum(x, y):\n",
    "    return x + y\n",
    "\n",
    "result = ucustom_sum(np.array([1.0, 2.1, 3.2, 4.3]), np.array([5.4, 6.5, 7.6, 8.7]))\n",
    "result"
   ]
  },
  {
   "cell_type": "markdown",
   "id": "ae27a9e4-8709-4a24-b52d-668634d135ce",
   "metadata": {},
   "source": [
    "#### 多签名泛函\n",
    "\n",
    "python函数本身提供动态类型支持,比如上面的例子如果我们希望参数和返回值也可以是int类型这样就可以使用`@vectorize`的多签名声明.\n",
    "\n",
    "写法很简单,之前的签名参数位置放的就是一个签名的列表,多签名声明就是扩展这个列表,把你觉得需要的签名都加上\n"
   ]
  },
  {
   "cell_type": "code",
   "execution_count": 6,
   "id": "59665dfa-3aa5-4f41-96ed-b4a737659593",
   "metadata": {
    "tags": []
   },
   "outputs": [
    {
     "data": {
      "text/plain": [
       "array([ 6,  8, 10, 12])"
      ]
     },
     "execution_count": 6,
     "metadata": {},
     "output_type": "execute_result"
    }
   ],
   "source": [
    "@vectorize([int32(int32, int32),\n",
    "            int64(int64, int64),\n",
    "            float32(float32, float32),\n",
    "            float64(float64, float64)],\n",
    "           identity=0)\n",
    "def ucustom_sum(x, y):\n",
    "    return x + y\n",
    "\n",
    "result = ucustom_sum(np.array([1, 2, 3, 4]), np.array([5, 6, 7, 8]))\n",
    "result"
   ]
  },
  {
   "cell_type": "markdown",
   "id": "e441f7b6-157a-4df6-a42d-b3694803891c",
   "metadata": {},
   "source": [
    "#### 动态签名泛函\n",
    "\n",
    "如果不输入签名,那么`@vectorize`也可以生效,它会在每次调用的时候现编译自动分析输入的类型和输出的代码推断签名.那自然的代价也是这种动态的编译带来的性能损失了."
   ]
  },
  {
   "cell_type": "code",
   "execution_count": 7,
   "id": "4c810887-147a-43f9-8327-c34cf22fa0cd",
   "metadata": {
    "tags": []
   },
   "outputs": [
    {
     "data": {
      "text/plain": [
       "array([ 6,  8, 10, 12])"
      ]
     },
     "execution_count": 7,
     "metadata": {},
     "output_type": "execute_result"
    }
   ],
   "source": [
    "@vectorize\n",
    "def ucustom_sum(x, y):\n",
    "    return x + y\n",
    "\n",
    "result = ucustom_sum(np.array([1, 2, 3, 4]), np.array([5, 6, 7, 8]))\n",
    "result"
   ]
  },
  {
   "cell_type": "markdown",
   "id": "17662adb-7763-4786-b692-54ac4c2e2e33",
   "metadata": {},
   "source": [
    "### 装饰器`@guvectorize`\n",
    "\n",
    "装饰器`@guvectorize`用于定义`generalized universal functions`(广义泛函数).\n",
    "\n",
    "很多时候操作不仅需要在标量上的函数上循环,还需要在向量(或数组)上的函数中循环.这个概念是在`universal function`即泛函上的推广,因此称为`generalized universal functions`(广义泛函数)简称`gufunc`.\n",
    "\n",
    "在常规`ufunc`中初等函数仅限于逐元素运算,而`gufunc`则支持逐\"子数组\"运算的\"子阵列\".典型的例子是中值计算或卷积滤波器.与`vectorize()`函数相反,`guvectorize()`函数不返回它们的结果值,它们将它作为数组参数，它必须由函数填充。这是因为数组实际上是由NumPy的dispa分配的\n",
    "\n",
    "`@guvectorize`的参数按顺序为:\n",
    "\n",
    "+ `signatures`,广义泛函的签名,需要注意`@guvectorize`装饰的函数返回值一定为`void`,调用时返回的结果则放在签名参数的最后一位\n",
    "+ `layout`,广义泛函的核心布局,`layout`这个参数的类型是str,形式如`(m,n),(n,p)->(m,p)`用于描述调用时输入参数shape和输出参数shape间的关系,`->`前面的是调用时参数描述,后面则是返回值描述.常量的核心形状描述为`()`,1维向量描述为`(n)`,2维维`(m,n)`依次类推.\n",
    "+ `identity=None`\n",
    "+ `nopython=True`\n",
    "+ `target='cpu'`\n",
    "+ `forceobj=False`\n",
    "+ `cache=False`\n",
    "+ `locals={}`\n"
   ]
  },
  {
   "cell_type": "markdown",
   "id": "46a6c1f7-9f8c-453c-8833-198dbc48fc73",
   "metadata": {},
   "source": [
    "#### 返回向量\n",
    "\n",
    "下面这个例子我们定义一个将一个输入向量每个元素加个常量值获得一个新输出向量的例子"
   ]
  },
  {
   "cell_type": "code",
   "execution_count": 12,
   "id": "5738758e-34c1-4075-9b9b-f52ab8fa3707",
   "metadata": {
    "tags": []
   },
   "outputs": [],
   "source": [
    "from numba import guvectorize,int64\n",
    "\n",
    "@guvectorize([(int64[:], int64, int64[:])], '(n),()->(n)')\n",
    "def g(x, y, res):\n",
    "    for i in range(x.shape[0]):\n",
    "        res[i] = x[i] + y"
   ]
  },
  {
   "cell_type": "code",
   "execution_count": 9,
   "id": "b4ea5bc4-f245-4b6e-a26f-59a49fdee5eb",
   "metadata": {
    "tags": []
   },
   "outputs": [
    {
     "data": {
      "text/plain": [
       "array([2, 3, 4, 5, 6])"
      ]
     },
     "execution_count": 9,
     "metadata": {},
     "output_type": "execute_result"
    }
   ],
   "source": [
    "g(np.arange(5), 2)"
   ]
  },
  {
   "cell_type": "markdown",
   "id": "6ddf4e7d-bb24-4cab-b0b9-4c165f492db0",
   "metadata": {},
   "source": [
    "#### 返回常量\n",
    "\n",
    "我们的返回值声明必须是一个向量,但如果将核心中返回值部分声明为一个常量,我们可以在函数实现的最后将结果未知的第一位设置成返回值"
   ]
  },
  {
   "cell_type": "code",
   "execution_count": 14,
   "id": "faef9ab5-fca4-4be5-927c-c0c4a34f43b7",
   "metadata": {
    "tags": []
   },
   "outputs": [],
   "source": [
    "@guvectorize([(int64[:], int64, int64[:])], '(n),()->()')\n",
    "def g(x, y, res):\n",
    "    acc = 0\n",
    "    for i in range(x.shape[0]):\n",
    "        acc += x[i] + y\n",
    "    res[0] = acc"
   ]
  },
  {
   "cell_type": "code",
   "execution_count": 15,
   "id": "a6c233b3-2fca-4428-bcda-1965f8145825",
   "metadata": {
    "tags": []
   },
   "outputs": [
    {
     "data": {
      "text/plain": [
       "20"
      ]
     },
     "execution_count": 15,
     "metadata": {},
     "output_type": "execute_result"
    }
   ],
   "source": [
    "g(np.arange(5), 2)"
   ]
  }
 ],
 "metadata": {
  "kernelspec": {
   "display_name": "Python 3 (ipykernel)",
   "language": "python",
   "name": "python3"
  },
  "language_info": {
   "codemirror_mode": {
    "name": "ipython",
    "version": 3
   },
   "file_extension": ".py",
   "mimetype": "text/x-python",
   "name": "python",
   "nbconvert_exporter": "python",
   "pygments_lexer": "ipython3",
   "version": "3.10.12"
  }
 },
 "nbformat": 4,
 "nbformat_minor": 5
}
