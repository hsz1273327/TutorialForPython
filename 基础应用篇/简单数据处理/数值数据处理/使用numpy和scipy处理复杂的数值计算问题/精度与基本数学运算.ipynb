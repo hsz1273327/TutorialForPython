{
 "cells": [
  {
   "cell_type": "markdown",
   "metadata": {},
   "source": [
    "# 精度与基本数学运算\n",
    "\n",
    "\n",
    "## 精度\n",
    "\n",
    "科学计算的一个核心点在于精度,numpy的默认精度是64位的浮点数.最高的精度可以用`numpy.longdouble`(f16)表示，复数用`numpy.clongdouble`(c32)，但是这个具体能精确到多少是和你的电脑硬件相关的.\n",
    "\n",
    "通常我们并不需要最高精度,这时可以使用`numpy.around(a, decimals=0, out=None)`来控制精度,其中a为要固定精度的数组,decimals则是精确到小数点后多少位(四舍五入)."
   ]
  },
  {
   "cell_type": "code",
   "execution_count": 1,
   "metadata": {},
   "outputs": [],
   "source": [
    "import numpy as np"
   ]
  },
  {
   "cell_type": "code",
   "execution_count": 2,
   "metadata": {},
   "outputs": [
    {
     "name": "stdout",
     "output_type": "stream",
     "text": [
      "[-3.14159265 -1.88495559 -0.62831853  0.62831853  1.88495559  3.14159265]\n"
     ]
    }
   ],
   "source": [
    "x = np.linspace(-np.pi, np.pi, 6,endpoint=True)\n",
    "print(x)"
   ]
  },
  {
   "cell_type": "code",
   "execution_count": 3,
   "metadata": {},
   "outputs": [
    {
     "data": {
      "text/plain": [
       "array([-3., -2., -1.,  1.,  2.,  3.])"
      ]
     },
     "execution_count": 3,
     "metadata": {},
     "output_type": "execute_result"
    }
   ],
   "source": [
    "np.round(x)"
   ]
  },
  {
   "cell_type": "code",
   "execution_count": 4,
   "metadata": {},
   "outputs": [
    {
     "data": {
      "text/plain": [
       "array([-3.1, -1.9, -0.6,  0.6,  1.9,  3.1])"
      ]
     },
     "execution_count": 4,
     "metadata": {},
     "output_type": "execute_result"
    }
   ],
   "source": [
    "np.round(x,1)"
   ]
  },
  {
   "cell_type": "code",
   "execution_count": 5,
   "metadata": {},
   "outputs": [
    {
     "data": {
      "text/plain": [
       "array([-3.14, -1.88, -0.63,  0.63,  1.88,  3.14])"
      ]
     },
     "execution_count": 5,
     "metadata": {},
     "output_type": "execute_result"
    }
   ],
   "source": [
    "np.round(x,2)"
   ]
  },
  {
   "cell_type": "markdown",
   "metadata": {},
   "source": [
    "## 基本数学运算\n",
    "\n",
    "numpy中也有常用数学运算的实现,由于做了足够的优化性能比python标准库高很多\n",
    "\n",
    "\n",
    "### 一元运算\n",
    "\n",
    "函数|说明\n",
    "---|---\n",
    "abs/fabs|绝对值\n",
    "sqrt|平方根\n",
    "square|平方\n",
    "exp|指数\n",
    "log/log10/log2/log1p|分别为自然对数(e为底数)/底数为10的log/底数为2的log/log(1+x)\n",
    "sign|求符号\n",
    "ceil|大于等于该值的最小整数\n",
    "floor|小于等于该值的最大整数\n",
    "rint|四舍五入到最近的整数,dtype不变\n",
    "modf|小数整数部分分离\n",
    "isnan|---\n",
    "isfinite/isinf|---\n",
    "sin/sinh/cos/cosh/tan/tanh|三角函数,双曲三角函数\n",
    "arcsin/arcsinh/arccos/arccosh/arctan/arctanh|反三角函数,反双曲三角函数\n",
    "logical_not|计算各元素not x的真值\n",
    "\n",
    "\n",
    "### 二元运算\n",
    "\n",
    "函数|说明\n",
    "---|---\n",
    "add|加\n",
    "subtract|减\n",
    "multiply|乘\n",
    "divide/floor_divide|除\n",
    "power|乘方\n",
    "maximun/fmax|最大值\n",
    "minimum/fmin|最小值\n",
    "mod|求模\n",
    "copysign|将后面的符号付给前面"
   ]
  }
 ],
 "metadata": {
  "kernelspec": {
   "display_name": "Python 3 (ipykernel)",
   "language": "python",
   "name": "python3"
  },
  "language_info": {
   "codemirror_mode": {
    "name": "ipython",
    "version": 3
   },
   "file_extension": ".py",
   "mimetype": "text/x-python",
   "name": "python",
   "nbconvert_exporter": "python",
   "pygments_lexer": "ipython3",
   "version": "3.10.12"
  }
 },
 "nbformat": 4,
 "nbformat_minor": 4
}
