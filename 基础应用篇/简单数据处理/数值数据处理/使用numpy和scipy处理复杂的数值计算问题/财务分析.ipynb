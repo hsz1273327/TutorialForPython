{
 "cells": [
  {
   "cell_type": "markdown",
   "metadata": {},
   "source": [
    "# 财务分析\n",
    "\n",
    "numpy提供了简单的财务分析函数"
   ]
  },
  {
   "cell_type": "code",
   "execution_count": 3,
   "metadata": {},
   "outputs": [],
   "source": [
    "import numpy as np"
   ]
  },
  {
   "cell_type": "markdown",
   "metadata": {},
   "source": [
    "## `fv(rate, nper, pmt, pv[, when])`求按比率计算n步后的值\n",
    "\n",
    "> 例如:现在存100美元,且每月存100美元,假设利率是5%,6%,7%（每月）复利,求10年后的未来价值是多少"
   ]
  },
  {
   "cell_type": "code",
   "execution_count": 4,
   "metadata": {},
   "outputs": [
    {
     "data": {
      "text/plain": [
       "array([15692.92889434, 16569.87435405, 17509.44688102])"
      ]
     },
     "execution_count": 4,
     "metadata": {},
     "output_type": "execute_result"
    }
   ],
   "source": [
    "a = np.array((0.05, 0.06, 0.07))/12\n",
    "np.fv(a, 10*12, -100, -100)"
   ]
  },
  {
   "cell_type": "markdown",
   "metadata": {},
   "source": [
    "## `npv(rate, values)`净现值\n",
    "\n",
    "values为现金流量时间序列的价值,\n",
    "\n",
    "现金流\"事件\"之间的(固定)时间间隔必须与给出费率的时间间隔相同(即如果费率是每年,则恰好一年被理解为在每个现金流事件之间流逝).\n",
    "\n",
    "按惯例,投资或\"存款\"是负数,收入或\"提款\"是正数;\n",
    "值必须以初始投资开始,因此值通常为负值.\n",
    "\n",
    "净现值是一项投资所产生的未来现金流的折现值与项目投资成本之间的差值.\n",
    "净现值指标是反映项目投资获利能力的指标.\n",
    "\n",
    "+ 决策标准:\n",
    "    + 净现值≥0方案可行;\n",
    "    + 净现值＜0 方案不可行;\n",
    "    + 净现值均＞0 净现值最大的方案为最优方案.\n",
    "+ 优点:\n",
    "    + 考虑了资金时间价值,增强了投资经济性的评价;\n",
    "    + 考虑了全过程的净现金流量,体现了流动性与收益性的统一;\n",
    "    + 考虑了投资风险,风险大则采用高折现率,风险小则采用低折现率.\n",
    "+ 缺点：\n",
    "    + 净现值的计算较麻烦,难掌握;\n",
    "    + 净现金流量的测量和折现率较难确定;\n",
    "    + 不能从动态角度直接反映投资项目的实际收益水平;\n",
    "    + 项目投资额不等时,无法准确判断方案的优劣.\n",
    "\n",
    "numpy中的净现值使用这个公式\n",
    "\n",
    "$$ \\sum_{t=0}^{M-1}{\\frac{values_t}{(1+rate)^{t}}}$$"
   ]
  },
  {
   "cell_type": "code",
   "execution_count": 5,
   "metadata": {},
   "outputs": [
    {
     "data": {
      "text/plain": [
       "-0.00847859163845488"
      ]
     },
     "execution_count": 5,
     "metadata": {},
     "output_type": "execute_result"
    }
   ],
   "source": [
    "np.npv(0.281,[-100, 39, 59, 55, 20])"
   ]
  },
  {
   "cell_type": "markdown",
   "metadata": {},
   "source": [
    "## `pmt(rate, nper, pv, fv=0, when='end')`计算贷款本金加利息的付款\n",
    "\n",
    "\n",
    "+ nper是计算次数\n",
    "+ pv是本金"
   ]
  },
  {
   "cell_type": "code",
   "execution_count": 6,
   "metadata": {},
   "outputs": [
    {
     "data": {
      "text/plain": [
       "-1854.0247200054619"
      ]
     },
     "execution_count": 6,
     "metadata": {},
     "output_type": "execute_result"
    }
   ],
   "source": [
    "np.pmt(0.075/12, 12*15, 200000)"
   ]
  },
  {
   "cell_type": "markdown",
   "metadata": {},
   "source": [
    "+ `ppmt(rate, per, nper, pv, fv=0.0, when='end')`\n",
    "    \n",
    "    计算贷款本金的付款\n",
    "    \n",
    "+ `ipmt(rate, per, nper, pv, fv=0.0, when='end')`\n",
    "\n",
    "    计算付款的利息部分"
   ]
  },
  {
   "cell_type": "markdown",
   "metadata": {},
   "source": [
    "## `irr(values)`返回内部收益率(IRR)\n",
    "\n",
    "numpy使用公式\n",
    "\n",
    "$$ \\sum_{t=0}^M{\\frac{v_t}{(1+irr)^{t}}} = 0 $$"
   ]
  },
  {
   "cell_type": "code",
   "execution_count": 8,
   "metadata": {},
   "outputs": [
    {
     "name": "stdout",
     "output_type": "stream",
     "text": [
      "0.28095\n",
      "-0.0955\n",
      "-0.0833\n",
      "0.06206\n",
      "0.0886\n"
     ]
    }
   ],
   "source": [
    "print(round(np.irr([-100, 39, 59, 55, 20]), 5))\n",
    "\n",
    "print(round(np.irr([-100, 0, 0, 74]), 5))\n",
    "\n",
    "print(round(np.irr([-100, 100, 0, -7]), 5))\n",
    "\n",
    "print(round(np.irr([-100, 100, 0, 7]), 5))\n",
    "\n",
    "print(round(np.irr([-5, 10.5, 1, -8, 1]), 5))"
   ]
  },
  {
   "cell_type": "markdown",
   "metadata": {},
   "source": [
    "## `mirr(values, finance_rate, reinvest_rate)`修改后的内部收益率"
   ]
  },
  {
   "cell_type": "markdown",
   "metadata": {},
   "source": [
    "## `nper(rate, pmt, pv, fv=0, when='end')`计算定期付款的数量\n",
    "\n",
    "计算公式为:\n",
    "\n",
    "$$ fv + pv*(1+rate)**nper + pmt*(1+rate*when)/rate*((1+rate)**nper-1) = 0 $$\n",
    "\n",
    "如果`rate = 0`,那么:\n",
    "\n",
    "$$ fv + pv + pmt*nper = 0 $$"
   ]
  },
  {
   "cell_type": "code",
   "execution_count": null,
   "metadata": {},
   "outputs": [],
   "source": [
    "print(np.nper(0.07/12, -150, 8000))"
   ]
  },
  {
   "cell_type": "markdown",
   "metadata": {},
   "source": [
    "## rate(nper, pmt, pv, fv, when='end', guess=0.1, tol=1e-06, maxiter=100)计算每个周期的利率\n",
    "\n",
    "通过迭代求解(非线性)方程来计算利息率:\n",
    "\n",
    "\n",
    "$$ fv + pv*(1+rate)**nper + pmt*(1+rate*when)/rate * ((1+rate)**nper - 1) = 0 $$"
   ]
  },
  {
   "cell_type": "code",
   "execution_count": null,
   "metadata": {},
   "outputs": [],
   "source": []
  }
 ],
 "metadata": {
  "kernelspec": {
   "display_name": "Python 3 (ipykernel)",
   "language": "python",
   "name": "python3"
  },
  "language_info": {
   "codemirror_mode": {
    "name": "ipython",
    "version": 3
   },
   "file_extension": ".py",
   "mimetype": "text/x-python",
   "name": "python",
   "nbconvert_exporter": "python",
   "pygments_lexer": "ipython3",
   "version": "3.10.12"
  }
 },
 "nbformat": 4,
 "nbformat_minor": 4
}
