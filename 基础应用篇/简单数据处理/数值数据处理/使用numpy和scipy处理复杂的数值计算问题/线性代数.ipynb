{
 "cells": [
  {
   "cell_type": "markdown",
   "metadata": {},
   "source": [
    "# 线性代数\n",
    "\n",
    "numpy中的多维数组最常见的用法就是解决线性代数问题,尤其是矩阵运算."
   ]
  },
  {
   "cell_type": "markdown",
   "metadata": {},
   "source": [
    "## 向量间计算\n",
    "\n",
    "向量间计算多数都是对应项操作,这个ufunc可以直接支持.比较特殊的操作是点乘和求夹角"
   ]
  },
  {
   "cell_type": "code",
   "execution_count": 1,
   "metadata": {},
   "outputs": [],
   "source": [
    "import numpy as np"
   ]
  },
  {
   "cell_type": "markdown",
   "metadata": {},
   "source": [
    "### 求模\n",
    "\n",
    "向量中模的定义为各个项的平方和开方\n",
    "\n",
    "$$ |v| = \\sqrt {\\sum_{i=0}^{N} {v_i^2}} $$\n",
    "\n",
    "numpy中使用`np.linalg.norm(v)`来计算"
   ]
  },
  {
   "cell_type": "code",
   "execution_count": 2,
   "metadata": {},
   "outputs": [
    {
     "name": "stdout",
     "output_type": "stream",
     "text": [
      "5.830951894845301\n"
     ]
    }
   ],
   "source": [
    "v_1 = np.array([3,5])\n",
    "l_v1 = np.linalg.norm(v_1)\n",
    "print(l_v1)"
   ]
  },
  {
   "cell_type": "markdown",
   "metadata": {},
   "source": [
    "### 点积(内积)\n",
    "\n",
    "向量的点积为各项相乘的和,为一个标量.numpy中使用`np.linalg.dot`来计算其值,或者使用python3.6定义的矩阵乘法符号`@`来计算\n",
    "\n",
    "$$ a \\cdot b = \\sum_{i=0}^{n} a_i\\cdot b_i $$"
   ]
  },
  {
   "cell_type": "code",
   "execution_count": 3,
   "metadata": {},
   "outputs": [
    {
     "data": {
      "text/plain": [
       "22"
      ]
     },
     "execution_count": 3,
     "metadata": {},
     "output_type": "execute_result"
    }
   ],
   "source": [
    "v_1 = np.array([3,5])\n",
    "v_2 = np.array([4,2])\n",
    "v_1@v_2"
   ]
  },
  {
   "cell_type": "markdown",
   "metadata": {},
   "source": [
    "### 叉乘(外积)\n",
    "\n",
    "\n",
    "$$ |C| = | v_1 \\times v_2 |= |v_1| |v_2|sin<a,b> $$\n",
    "\n",
    "或者在二维情况下可以看做:\n",
    "\n",
    "$$ (x_1,y_1) \\times (x_2,y_2)= x_1*y_2 -x_2*y_1 $$\n",
    "\n",
    "\n",
    "C的方向用右手定则,右手4指从v_1不超过180度转向v_2时大拇指的方向即为C的方向.其值为新向量的模\n",
    "\n",
    "numpy中没有直接计算的方法,这边需要迂回下,通过计算余弦,再转换为角度计算正弦再求出"
   ]
  },
  {
   "cell_type": "code",
   "execution_count": 4,
   "metadata": {},
   "outputs": [
    {
     "data": {
      "text/plain": [
       "14.000000000000002"
      ]
     },
     "execution_count": 4,
     "metadata": {},
     "output_type": "execute_result"
    }
   ],
   "source": [
    "v_1 = np.array([3,5])\n",
    "v_2 = np.array([4,2])\n",
    "\n",
    "v_1_norm = np.linalg.norm(v_1)\n",
    "v_2_norm = np.linalg.norm(v_2)\n",
    "cos_theta = (v_1@v_2)/(v_1_norm * v_2_norm) # 计算余弦\n",
    "theta = np.arccos(cos_theta)\n",
    "cross_product = np.sin(theta)* (v_1_norm * v_2_norm)\n",
    "cross_product"
   ]
  },
  {
   "cell_type": "markdown",
   "metadata": {},
   "source": [
    "## 矩阵计算\n",
    "\n",
    "通常我们认为向量是一维的矩阵,numpy中通常使用二维数组代表矩阵,概括下矩阵计算的工具包括\n",
    "\n",
    "\n",
    "> 向量,矩阵运算:\n",
    "\n",
    "函数|说明\n",
    "---|---\n",
    "dot|向量乘法\n",
    "vdot|向量点乘\n",
    "inner|向量内积\n",
    "outer|向量外积\n",
    "matmul|矩阵乘法\n",
    "trnsordot|张量乘法\n",
    "einsum|评估操作数上的爱因斯坦求和约定\n",
    "linalg.matrix_power|矩阵幂\n",
    "kron|克罗内克积\n",
    "\n",
    "\n",
    "> 矩阵分解\n",
    "\n",
    "函数|说明\n",
    "---|---\n",
    "linalg.cholesky(a)|Cholesky 分解\n",
    "linalg.qr(a[, mode])|QR分解\n",
    "linalg.svd(a[, full_matrices, compute_uv])|奇异值分解\n",
    "\n",
    "> 矩阵征值操作\n",
    "\n",
    "函数|说明\n",
    "---|---\n",
    "linalg.norm(x[, ord, axis, keepdims])|矩阵或向量范数\n",
    "linalg.cond(x[, p])|计算矩阵的条件数\n",
    "linalg.det(a)|\t计算矩阵行列式\n",
    "linalg.matrix_rank(M[, tol])|使用SVD方法返回阵列的矩阵秩\n",
    "linalg.slogdet(a)|\t计算数组行列式的符号和（自然）对数\n",
    "trace(a[, offset, axis1, axis2, dtype, out])|\t计算对角线元素的和\n",
    "diag|以一维数组的形式返回方阵的对角线(或非对角线)元素,或将一维数组转换为方阵(非对角线元素为0)\n",
    "eig|计算方阵的本征值和本征向量\n",
    "\n",
    "\n",
    "> 求解方程和求逆矩阵\n",
    "\n",
    "函数|说明\n",
    "---|---\n",
    "linalg.solve(a, b)|解线性方程组Ax=b\n",
    "linalg.tensorsolve(a, b[, axes])|解张量表达式Ax = b\n",
    "linalg.lstsq(a, b[, rcond])|计算Ax=b的最小二乘解\n",
    "linalg.inv(a)|计算方阵的逆\n",
    "linalg.pinv(a[, rcond])|计算矩阵的Moore-Penrose伪逆\n",
    "linalg.tensorinv(a[, ind])|计算N维数组的“逆”。\n"
   ]
  },
  {
   "cell_type": "code",
   "execution_count": 5,
   "metadata": {},
   "outputs": [
    {
     "name": "stdout",
     "output_type": "stream",
     "text": [
      "[[0 1 2]\n",
      " [3 4 5]\n",
      " [6 7 8]]\n"
     ]
    }
   ],
   "source": [
    "A = np.arange(9).reshape(3,3)\n",
    "print(A)"
   ]
  },
  {
   "cell_type": "code",
   "execution_count": 6,
   "metadata": {},
   "outputs": [
    {
     "name": "stdout",
     "output_type": "stream",
     "text": [
      "[[13 14 15]\n",
      " [16 17 18]\n",
      " [19 20 21]]\n"
     ]
    }
   ],
   "source": [
    "B = np.arange(13,22).reshape(3,3)\n",
    "print(B)"
   ]
  },
  {
   "cell_type": "markdown",
   "metadata": {},
   "source": [
    "### 矩阵的秩\n",
    "\n",
    "\n",
    "线性代数中\n",
    "$$ \\mathbf {A} ={\\begin{bmatrix}1&2\\\\3&4\\end{bmatrix}}\n",
    "$$\n",
    "\n",
    "一个矩阵A的列秩是A的线性独立的纵列的极大数目.类似地,行秩是A的线性独立的横行的极大数目.\n",
    "\n",
    "矩阵的列秩和行秩总是相等的,因此它们可以简单地称作矩阵A的秩.通常表示为r(A)，rk(A)或rank A.\n",
    "\n",
    "矩阵的行秩与列秩相等,是线性代数基本定理的重要组成部分.其基本证明思路是,矩阵可以看作线性映射的变换矩阵,列秩为像空间的维度,行秩为非零原像空间的维度,因此列秩与行秩相等,即像空间的维度与非零原像空间的维度相等(这里的非零原像空间是指约去了零空间后的商空间:原像空间).这从矩阵的奇异值分解就可以看出来.\n",
    "\n",
    "给出这一结果的两种证明.第一个证明是简短的,仅用到向量的线性组合的基本性质.第二个证明利用了正交性.第一个证明利用了列空间的基,第二个证明利用了行向量空间的基.第一个证明适用于定义在标量域上的矩阵,第二个证明适用于内积空间.二者都适用于实或复的欧氏空间,也都易于修改去证明当A是线性变换的情形."
   ]
  },
  {
   "cell_type": "code",
   "execution_count": 7,
   "metadata": {},
   "outputs": [
    {
     "data": {
      "text/plain": [
       "matrix([[1, 2],\n",
       "        [3, 4]])"
      ]
     },
     "execution_count": 7,
     "metadata": {},
     "output_type": "execute_result"
    }
   ],
   "source": [
    "M_1 = np.matrix(np.arange(1,5).reshape(2,2))\n",
    "M_1"
   ]
  },
  {
   "cell_type": "code",
   "execution_count": 8,
   "metadata": {},
   "outputs": [
    {
     "data": {
      "text/plain": [
       "2"
      ]
     },
     "execution_count": 8,
     "metadata": {},
     "output_type": "execute_result"
    }
   ],
   "source": [
    "np.linalg.matrix_rank(M_1)"
   ]
  },
  {
   "cell_type": "markdown",
   "metadata": {},
   "source": [
    "### 方阵的迹\n",
    "\n",
    "迹就是方阵主对角线元素之和"
   ]
  },
  {
   "cell_type": "code",
   "execution_count": 9,
   "metadata": {},
   "outputs": [
    {
     "data": {
      "text/plain": [
       "5"
      ]
     },
     "execution_count": 9,
     "metadata": {},
     "output_type": "execute_result"
    }
   ],
   "source": [
    "np.trace(M_1)"
   ]
  },
  {
   "cell_type": "markdown",
   "metadata": {},
   "source": [
    "### 转置矩阵(transpose)\n",
    "\n",
    "将矩阵延对角线翻转"
   ]
  },
  {
   "cell_type": "code",
   "execution_count": 11,
   "metadata": {},
   "outputs": [
    {
     "data": {
      "text/plain": [
       "matrix([[1, 3],\n",
       "        [2, 4]])"
      ]
     },
     "execution_count": 11,
     "metadata": {},
     "output_type": "execute_result"
    }
   ],
   "source": [
    "M_1.T"
   ]
  },
  {
   "cell_type": "markdown",
   "metadata": {},
   "source": [
    "### 共轭矩阵(hermitian)(复数为元素)"
   ]
  },
  {
   "cell_type": "code",
   "execution_count": 12,
   "metadata": {},
   "outputs": [
    {
     "data": {
      "text/plain": [
       "matrix([[1.+1.j, 2.-4.j],\n",
       "        [3.-1.j, 2.+3.j]])"
      ]
     },
     "execution_count": 12,
     "metadata": {},
     "output_type": "execute_result"
    }
   ],
   "source": [
    "M_2 = np.matrix([[1+1j,2-4j],[3-1j,2+3j]])\n",
    "M_2"
   ]
  },
  {
   "cell_type": "code",
   "execution_count": 13,
   "metadata": {},
   "outputs": [
    {
     "data": {
      "text/plain": [
       "matrix([[1.-1.j, 3.+1.j],\n",
       "        [2.+4.j, 2.-3.j]])"
      ]
     },
     "execution_count": 13,
     "metadata": {},
     "output_type": "execute_result"
    }
   ],
   "source": [
    "M_2.H"
   ]
  },
  {
   "cell_type": "markdown",
   "metadata": {},
   "source": [
    "### 逆矩阵(inverse)\n",
    "\n",
    "\n",
    "在线性代数中,给定一个n阶方阵$\\mathbf{A}$，若存在一n阶方阵$ \\mathbf {B}$,使得 $ \\mathbf{AB}=\\mathbf{BA}=\\mathbf{I}_n$,其中 $ \\mathbf{I}_n $为n阶单位矩阵,则称 $\\mathbf{A} $是可逆的,且 $\\mathbf {B} $是$\\mathbf{A}$的逆矩阵,记作$\\mathbf {A} ^{-1}$\n",
    "\n",
    "只有正方形（n×n）的矩阵,即方阵,才可能但非必然有逆矩阵.若方阵 $\\mathbf{A}$的逆矩阵存在,则称 $\\mathbf{A}$为非奇异方阵或可逆方阵.\n",
    "\n",
    "\n",
    "性质有:\n",
    "\n",
    "+ $ \\left (A^{-1}  \\right )^{-1}=A $\n",
    "+ $ (\\lambda A)^{-1}=\\frac{1}{\\lambda}\\times A^{-1} $\n",
    "+ $ (AB)^{-1}=B^{-1}A^{-1} $\n",
    "+ $ \\left (A^\\mathrm{T} \\right )^{-1}=\\left (A^{-1} \\right )^{\\mathrm{T}}$ ($ A^{\\mathrm{T}}$ 为A的转置)\n",
    "+ $ \\det(A^{-1})=\\frac{1}{\\det(A)} $（det为行列式）"
   ]
  },
  {
   "cell_type": "code",
   "execution_count": 14,
   "metadata": {},
   "outputs": [
    {
     "data": {
      "text/plain": [
       "matrix([[-2. ,  1. ],\n",
       "        [ 1.5, -0.5]])"
      ]
     },
     "execution_count": 14,
     "metadata": {},
     "output_type": "execute_result"
    }
   ],
   "source": [
    "M_1.I"
   ]
  },
  {
   "cell_type": "markdown",
   "metadata": {},
   "source": [
    "### 伴随矩阵(adjoint) \n",
    "\n",
    "在线性代数中,一个方形矩阵的伴随矩阵是一个类似于逆矩阵的概念.如果矩阵可逆,那么它的逆矩阵和它的伴随矩阵之间只差一个系数.然而伴随矩阵对不可逆的矩阵也有定义,并且不需要用到除法.\n",
    "\n",
    "对n×n的矩阵A和B,有:\n",
    "\n",
    "+ $\\mathrm{adj}(\\mathbf{I}) = \\mathbf{I}$\n",
    "\n",
    "+ $(\\mathbf{AB}) = \\mathrm{adj}(\\mathbf{B})\\,\\mathrm{adj}(\\mathbf{A})$\n",
    "\n",
    "+ $\\mathrm{adj}(\\mathbf{A}^T) = \\mathrm{adj}(\\mathbf{A})^T $\n",
    "\n",
    "+ $ \\det\\big(\\mathrm{adj}(\\mathbf{A})\\big) = \\det(\\mathbf{A})^{n-1}$\n",
    "\n",
    "+ $ \\mathrm{adj}(k \\mathbf{A}) = k^{n-1} \\ \\mathrm{adj}(\\mathbf{A}) $\n",
    "\n",
    "+ 当n>2时,$\\mathrm{adj}(\\mathrm{adj}(\\mathbf{A})) =(\\det \\mathbf{A})^{n-2} \\mathbf{A} $\n",
    "\n",
    "+ 如果A可逆,那么 $ \\mathrm{adj}(\\mathbf{A}^{-1}) = \\mathrm{adj}(\\mathbf{A})^{-1} = \\frac{A}{\\det A} $\n",
    "\n",
    "+ 如果A是对称矩阵,那么其伴随矩阵也是对称矩阵;如果A是反对称矩阵,那么当n为偶数时,A的伴随矩阵也是反对称矩阵,n为奇数时则是对称矩阵.\n",
    "\n",
    "+ 如果A是(半)正定矩阵,那么其伴随矩阵也是(半)正定矩阵.\n",
    "\n",
    "+ 如果矩阵A和B相似,那么$\\mathrm{adj}(\\mathbf{A})$和 $\\mathrm{adj}(\\mathbf{B})$也相似.\n",
    "\n",
    "+ 如果n>2,那么非零矩阵A是正交矩阵当且仅当 $ \\mathrm{adj}(\\mathbf{A}) = \\pm A^T $\n",
    "\n",
    "\n",
    "+ 伴随矩阵的秩\n",
    "\n",
    "    当矩阵A可逆时,它的伴随矩阵也可逆,因此两者的秩一样,都是n.当矩阵A不可逆时,A的伴随矩阵的秩通常并不与A相同.当A的秩为n-1时,其伴随矩阵的秩为1,当A的秩小于n-1时,其伴随矩阵为零矩阵.\n",
    "\n",
    "+ 伴随矩阵的特征值\n",
    "\n",
    "    设矩阵A在复域中的特征值为 $\\lambda_1, \\lambda_2 \\cdots \\lambda_n$ (即为特征多项式的n个根),则A的伴随矩阵的特征值为$\\lambda_2 \\lambda_3 \\cdots \\lambda_{n}, \\ \\lambda_1 \\lambda_3 \\cdots \\lambda_{n}, \\cdots , \\lambda_1 \\lambda_2 \\cdots \\lambda_{n-1} $"
   ]
  },
  {
   "cell_type": "code",
   "execution_count": 15,
   "metadata": {},
   "outputs": [
    {
     "data": {
      "text/plain": [
       "matrix([[ 4., -2.],\n",
       "        [-3.,  1.]])"
      ]
     },
     "execution_count": 15,
     "metadata": {},
     "output_type": "execute_result"
    }
   ],
   "source": [
    "np.dot(np.linalg.det(M_1),M_1.I)"
   ]
  },
  {
   "cell_type": "markdown",
   "metadata": {},
   "source": [
    "### 矩阵的范数(matrix norms)\n",
    "\n",
    "\n",
    "范数(norm),是具有\"长度\"概念的函数.在线性代数中其为向量空间内的所有向量赋予非零的正长度或大小.半范数反而可以为非零的向量赋予零长度.\n",
    "\n",
    "举一个简单的例子,一个二维度的欧氏几何空间 $\\mathbb {R} ^{2}$就有欧氏范数.在这个向量空间的元素(譬如：(3,7))常常在笛卡儿坐标系统被画成一个从原点出发的箭号.每一个向量的欧氏范数就是箭号的长度.\n",
    "\n",
    "拥有范数的向量空间就是赋范向量空间.同样,拥有半范数的向量空间就是赋半范向量空间."
   ]
  },
  {
   "cell_type": "code",
   "execution_count": 16,
   "metadata": {},
   "outputs": [
    {
     "data": {
      "text/plain": [
       "5.477225575051661"
      ]
     },
     "execution_count": 16,
     "metadata": {},
     "output_type": "execute_result"
    }
   ],
   "source": [
    "np.linalg.norm(M_1)"
   ]
  },
  {
   "cell_type": "markdown",
   "metadata": {},
   "source": [
    "### 和和差\n",
    "\n",
    "矩阵计算和和差要求两个矩阵形状一致,就是对应下标的各项计算的结果,numpy的ufunc刚好可以满足"
   ]
  },
  {
   "cell_type": "code",
   "execution_count": 17,
   "metadata": {},
   "outputs": [
    {
     "data": {
      "text/plain": [
       "array([[13, 15, 17],\n",
       "       [19, 21, 23],\n",
       "       [25, 27, 29]])"
      ]
     },
     "execution_count": 17,
     "metadata": {},
     "output_type": "execute_result"
    }
   ],
   "source": [
    "A+B"
   ]
  },
  {
   "cell_type": "code",
   "execution_count": 18,
   "metadata": {},
   "outputs": [
    {
     "data": {
      "text/plain": [
       "array([[-13, -13, -13],\n",
       "       [-13, -13, -13],\n",
       "       [-13, -13, -13]])"
      ]
     },
     "execution_count": 18,
     "metadata": {},
     "output_type": "execute_result"
    }
   ],
   "source": [
    "A-B"
   ]
  },
  {
   "cell_type": "markdown",
   "metadata": {},
   "source": [
    "### 矩阵与标量的积\n",
    "\n",
    "矩阵与标量的积就是标量在各项上的积.这也刚好ufunc就可以直接支持."
   ]
  },
  {
   "cell_type": "code",
   "execution_count": 19,
   "metadata": {},
   "outputs": [
    {
     "data": {
      "text/plain": [
       "array([[ 0,  3,  6],\n",
       "       [ 9, 12, 15],\n",
       "       [18, 21, 24]])"
      ]
     },
     "execution_count": 19,
     "metadata": {},
     "output_type": "execute_result"
    }
   ],
   "source": [
    "A*3"
   ]
  },
  {
   "cell_type": "code",
   "execution_count": 20,
   "metadata": {},
   "outputs": [
    {
     "data": {
      "text/plain": [
       "array([[ 0,  3,  6],\n",
       "       [ 9, 12, 15],\n",
       "       [18, 21, 24]])"
      ]
     },
     "execution_count": 20,
     "metadata": {},
     "output_type": "execute_result"
    }
   ],
   "source": [
    "3*A"
   ]
  },
  {
   "cell_type": "markdown",
   "metadata": {},
   "source": [
    "### 矩阵的内积(点积)\n",
    "\n",
    "矩阵的乘法必须前一个矩阵的行数与后一个举证的列数相同.返回的是一个以前一个矩阵的行数为行数,后一个矩阵的列数为列数的新矩阵.\n",
    "\n",
    "即形状上 $ (x,n)@ (n,y) -> (x,y) $,n是一致的"
   ]
  },
  {
   "cell_type": "code",
   "execution_count": 21,
   "metadata": {},
   "outputs": [
    {
     "data": {
      "text/plain": [
       "array([[ 0,  1,  2],\n",
       "       [ 3,  4,  5],\n",
       "       [ 6,  7,  8],\n",
       "       [ 9, 10, 11]])"
      ]
     },
     "execution_count": 21,
     "metadata": {},
     "output_type": "execute_result"
    }
   ],
   "source": [
    "C = np.arange(12).reshape(4,3)\n",
    "C"
   ]
  },
  {
   "cell_type": "code",
   "execution_count": 22,
   "metadata": {},
   "outputs": [
    {
     "data": {
      "text/plain": [
       "array([[1, 2],\n",
       "       [3, 4],\n",
       "       [5, 6]])"
      ]
     },
     "execution_count": 22,
     "metadata": {},
     "output_type": "execute_result"
    }
   ],
   "source": [
    "D = np.arange(1,7).reshape(3,2)\n",
    "D"
   ]
  },
  {
   "cell_type": "code",
   "execution_count": 23,
   "metadata": {},
   "outputs": [
    {
     "data": {
      "text/plain": [
       "array([[ 13,  16],\n",
       "       [ 40,  52],\n",
       "       [ 67,  88],\n",
       "       [ 94, 124]])"
      ]
     },
     "execution_count": 23,
     "metadata": {},
     "output_type": "execute_result"
    }
   ],
   "source": [
    "C@D"
   ]
  },
  {
   "cell_type": "markdown",
   "metadata": {},
   "source": [
    "###  求特征值特征向量"
   ]
  },
  {
   "cell_type": "code",
   "execution_count": 24,
   "metadata": {},
   "outputs": [
    {
     "data": {
      "text/plain": [
       "(array([4., 4., 2.]), matrix([[ 0.        ,  0.70710678,  0.40824829],\n",
       "         [ 1.        ,  0.        , -0.81649658],\n",
       "         [ 0.        , -0.70710678,  0.40824829]]))"
      ]
     },
     "execution_count": 24,
     "metadata": {},
     "output_type": "execute_result"
    }
   ],
   "source": [
    "M_lamida=np.matrix([[3,0,-1],[2,4,2],[-1,0,3]])\n",
    "\n",
    "np.linalg.eig(M_lamida)"
   ]
  },
  {
   "cell_type": "markdown",
   "metadata": {},
   "source": [
    "第一项是特征值,第二项是特征向量"
   ]
  },
  {
   "cell_type": "markdown",
   "metadata": {},
   "source": [
    "### 判断正定矩阵\n",
    "\n",
    "正定矩阵的定义是:设M是n阶方阵,如果对任何非零向量z,都有$ z^TMz > 0$,其中$z^T$ 表示z的转置,就称M正定矩阵."
   ]
  },
  {
   "cell_type": "code",
   "execution_count": 25,
   "metadata": {},
   "outputs": [
    {
     "data": {
      "text/plain": [
       "array([[ 0,  1,  2,  3],\n",
       "       [ 4,  5,  6,  7],\n",
       "       [ 8,  9, 10, 11],\n",
       "       [12, 13, 14, 15]])"
      ]
     },
     "execution_count": 25,
     "metadata": {},
     "output_type": "execute_result"
    }
   ],
   "source": [
    "M_4=np.arange(16).reshape(4,4)\n",
    "M_4"
   ]
  },
  {
   "cell_type": "code",
   "execution_count": 26,
   "metadata": {},
   "outputs": [
    {
     "data": {
      "text/plain": [
       "array([[ 0,  5, 10, 15],\n",
       "       [ 5, 10, 15, 20],\n",
       "       [10, 15, 20, 25],\n",
       "       [15, 20, 25, 30]])"
      ]
     },
     "execution_count": 26,
     "metadata": {},
     "output_type": "execute_result"
    }
   ],
   "source": [
    "M_4 = M_4+M_4.T#将方阵转换成对称阵\n",
    "M_4"
   ]
  },
  {
   "cell_type": "code",
   "execution_count": 27,
   "metadata": {},
   "outputs": [],
   "source": [
    "lambdas,_ = np.linalg.eig(M_4)"
   ]
  },
  {
   "cell_type": "code",
   "execution_count": 28,
   "metadata": {},
   "outputs": [
    {
     "data": {
      "text/plain": [
       "array([ 6.74165739e+01, -7.41657387e+00,  1.82694656e-15, -1.72637110e-15])"
      ]
     },
     "execution_count": 28,
     "metadata": {},
     "output_type": "execute_result"
    }
   ],
   "source": [
    "lambdas"
   ]
  },
  {
   "cell_type": "code",
   "execution_count": 29,
   "metadata": {},
   "outputs": [
    {
     "data": {
      "text/plain": [
       "False"
      ]
     },
     "execution_count": 29,
     "metadata": {},
     "output_type": "execute_result"
    }
   ],
   "source": [
    "#判断是否所有特征值都大于0\n",
    "True if np.all(lambdas > 0) else False"
   ]
  },
  {
   "cell_type": "markdown",
   "metadata": {},
   "source": [
    "因此矩阵不是正定矩阵\n",
    "\n",
    "还有一种方式是使用cholesky分解的方法:\n",
    "\n",
    "Cholesky 分解是把一个对称正定的矩阵表示成一个下三角矩阵L和其转置的乘积的分解.它要求矩阵的所有特征值必须大于零,故分解的下三角的对角元也是大于零的."
   ]
  },
  {
   "cell_type": "code",
   "execution_count": 30,
   "metadata": {},
   "outputs": [
    {
     "ename": "LinAlgError",
     "evalue": "Matrix is not positive definite",
     "output_type": "error",
     "traceback": [
      "\u001b[0;31m---------------------------------------------------------------------------\u001b[0m",
      "\u001b[0;31mLinAlgError\u001b[0m                               Traceback (most recent call last)",
      "\u001b[0;32m<ipython-input-30-9d406430339a>\u001b[0m in \u001b[0;36m<module>\u001b[0;34m\u001b[0m\n\u001b[0;32m----> 1\u001b[0;31m \u001b[0mnp\u001b[0m\u001b[0;34m.\u001b[0m\u001b[0mlinalg\u001b[0m\u001b[0;34m.\u001b[0m\u001b[0mcholesky\u001b[0m\u001b[0;34m(\u001b[0m\u001b[0mnp\u001b[0m\u001b[0;34m.\u001b[0m\u001b[0marange\u001b[0m\u001b[0;34m(\u001b[0m\u001b[0;36m16\u001b[0m\u001b[0;34m)\u001b[0m\u001b[0;34m.\u001b[0m\u001b[0mreshape\u001b[0m\u001b[0;34m(\u001b[0m\u001b[0;36m4\u001b[0m\u001b[0;34m,\u001b[0m\u001b[0;36m4\u001b[0m\u001b[0;34m)\u001b[0m\u001b[0;34m)\u001b[0m\u001b[0;34m\u001b[0m\u001b[0;34m\u001b[0m\u001b[0m\n\u001b[0m",
      "\u001b[0;32m~/Lib/conda/anaconda3/lib/python3.7/site-packages/numpy/linalg/linalg.py\u001b[0m in \u001b[0;36mcholesky\u001b[0;34m(a)\u001b[0m\n\u001b[1;32m    757\u001b[0m     \u001b[0mt\u001b[0m\u001b[0;34m,\u001b[0m \u001b[0mresult_t\u001b[0m \u001b[0;34m=\u001b[0m \u001b[0m_commonType\u001b[0m\u001b[0;34m(\u001b[0m\u001b[0ma\u001b[0m\u001b[0;34m)\u001b[0m\u001b[0;34m\u001b[0m\u001b[0;34m\u001b[0m\u001b[0m\n\u001b[1;32m    758\u001b[0m     \u001b[0msignature\u001b[0m \u001b[0;34m=\u001b[0m \u001b[0;34m'D->D'\u001b[0m \u001b[0;32mif\u001b[0m \u001b[0misComplexType\u001b[0m\u001b[0;34m(\u001b[0m\u001b[0mt\u001b[0m\u001b[0;34m)\u001b[0m \u001b[0;32melse\u001b[0m \u001b[0;34m'd->d'\u001b[0m\u001b[0;34m\u001b[0m\u001b[0;34m\u001b[0m\u001b[0m\n\u001b[0;32m--> 759\u001b[0;31m     \u001b[0mr\u001b[0m \u001b[0;34m=\u001b[0m \u001b[0mgufunc\u001b[0m\u001b[0;34m(\u001b[0m\u001b[0ma\u001b[0m\u001b[0;34m,\u001b[0m \u001b[0msignature\u001b[0m\u001b[0;34m=\u001b[0m\u001b[0msignature\u001b[0m\u001b[0;34m,\u001b[0m \u001b[0mextobj\u001b[0m\u001b[0;34m=\u001b[0m\u001b[0mextobj\u001b[0m\u001b[0;34m)\u001b[0m\u001b[0;34m\u001b[0m\u001b[0;34m\u001b[0m\u001b[0m\n\u001b[0m\u001b[1;32m    760\u001b[0m     \u001b[0;32mreturn\u001b[0m \u001b[0mwrap\u001b[0m\u001b[0;34m(\u001b[0m\u001b[0mr\u001b[0m\u001b[0;34m.\u001b[0m\u001b[0mastype\u001b[0m\u001b[0;34m(\u001b[0m\u001b[0mresult_t\u001b[0m\u001b[0;34m,\u001b[0m \u001b[0mcopy\u001b[0m\u001b[0;34m=\u001b[0m\u001b[0;32mFalse\u001b[0m\u001b[0;34m)\u001b[0m\u001b[0;34m)\u001b[0m\u001b[0;34m\u001b[0m\u001b[0;34m\u001b[0m\u001b[0m\n\u001b[1;32m    761\u001b[0m \u001b[0;34m\u001b[0m\u001b[0m\n",
      "\u001b[0;32m~/Lib/conda/anaconda3/lib/python3.7/site-packages/numpy/linalg/linalg.py\u001b[0m in \u001b[0;36m_raise_linalgerror_nonposdef\u001b[0;34m(err, flag)\u001b[0m\n\u001b[1;32m     98\u001b[0m \u001b[0;34m\u001b[0m\u001b[0m\n\u001b[1;32m     99\u001b[0m \u001b[0;32mdef\u001b[0m \u001b[0m_raise_linalgerror_nonposdef\u001b[0m\u001b[0;34m(\u001b[0m\u001b[0merr\u001b[0m\u001b[0;34m,\u001b[0m \u001b[0mflag\u001b[0m\u001b[0;34m)\u001b[0m\u001b[0;34m:\u001b[0m\u001b[0;34m\u001b[0m\u001b[0;34m\u001b[0m\u001b[0m\n\u001b[0;32m--> 100\u001b[0;31m     \u001b[0;32mraise\u001b[0m \u001b[0mLinAlgError\u001b[0m\u001b[0;34m(\u001b[0m\u001b[0;34m\"Matrix is not positive definite\"\u001b[0m\u001b[0;34m)\u001b[0m\u001b[0;34m\u001b[0m\u001b[0;34m\u001b[0m\u001b[0m\n\u001b[0m\u001b[1;32m    101\u001b[0m \u001b[0;34m\u001b[0m\u001b[0m\n\u001b[1;32m    102\u001b[0m \u001b[0;32mdef\u001b[0m \u001b[0m_raise_linalgerror_eigenvalues_nonconvergence\u001b[0m\u001b[0;34m(\u001b[0m\u001b[0merr\u001b[0m\u001b[0;34m,\u001b[0m \u001b[0mflag\u001b[0m\u001b[0;34m)\u001b[0m\u001b[0;34m:\u001b[0m\u001b[0;34m\u001b[0m\u001b[0;34m\u001b[0m\u001b[0m\n",
      "\u001b[0;31mLinAlgError\u001b[0m: Matrix is not positive definite"
     ]
    }
   ],
   "source": [
    "np.linalg.cholesky(np.arange(16).reshape(4,4))"
   ]
  },
  {
   "cell_type": "code",
   "execution_count": 31,
   "metadata": {},
   "outputs": [
    {
     "ename": "LinAlgError",
     "evalue": "Matrix is not positive definite",
     "output_type": "error",
     "traceback": [
      "\u001b[0;31m---------------------------------------------------------------------------\u001b[0m",
      "\u001b[0;31mLinAlgError\u001b[0m                               Traceback (most recent call last)",
      "\u001b[0;32m<ipython-input-31-d7b2b7d13630>\u001b[0m in \u001b[0;36m<module>\u001b[0;34m\u001b[0m\n\u001b[0;32m----> 1\u001b[0;31m \u001b[0mnp\u001b[0m\u001b[0;34m.\u001b[0m\u001b[0mlinalg\u001b[0m\u001b[0;34m.\u001b[0m\u001b[0mcholesky\u001b[0m\u001b[0;34m(\u001b[0m\u001b[0mM_4\u001b[0m\u001b[0;34m)\u001b[0m\u001b[0;34m\u001b[0m\u001b[0;34m\u001b[0m\u001b[0m\n\u001b[0m",
      "\u001b[0;32m~/Lib/conda/anaconda3/lib/python3.7/site-packages/numpy/linalg/linalg.py\u001b[0m in \u001b[0;36mcholesky\u001b[0;34m(a)\u001b[0m\n\u001b[1;32m    757\u001b[0m     \u001b[0mt\u001b[0m\u001b[0;34m,\u001b[0m \u001b[0mresult_t\u001b[0m \u001b[0;34m=\u001b[0m \u001b[0m_commonType\u001b[0m\u001b[0;34m(\u001b[0m\u001b[0ma\u001b[0m\u001b[0;34m)\u001b[0m\u001b[0;34m\u001b[0m\u001b[0;34m\u001b[0m\u001b[0m\n\u001b[1;32m    758\u001b[0m     \u001b[0msignature\u001b[0m \u001b[0;34m=\u001b[0m \u001b[0;34m'D->D'\u001b[0m \u001b[0;32mif\u001b[0m \u001b[0misComplexType\u001b[0m\u001b[0;34m(\u001b[0m\u001b[0mt\u001b[0m\u001b[0;34m)\u001b[0m \u001b[0;32melse\u001b[0m \u001b[0;34m'd->d'\u001b[0m\u001b[0;34m\u001b[0m\u001b[0;34m\u001b[0m\u001b[0m\n\u001b[0;32m--> 759\u001b[0;31m     \u001b[0mr\u001b[0m \u001b[0;34m=\u001b[0m \u001b[0mgufunc\u001b[0m\u001b[0;34m(\u001b[0m\u001b[0ma\u001b[0m\u001b[0;34m,\u001b[0m \u001b[0msignature\u001b[0m\u001b[0;34m=\u001b[0m\u001b[0msignature\u001b[0m\u001b[0;34m,\u001b[0m \u001b[0mextobj\u001b[0m\u001b[0;34m=\u001b[0m\u001b[0mextobj\u001b[0m\u001b[0;34m)\u001b[0m\u001b[0;34m\u001b[0m\u001b[0;34m\u001b[0m\u001b[0m\n\u001b[0m\u001b[1;32m    760\u001b[0m     \u001b[0;32mreturn\u001b[0m \u001b[0mwrap\u001b[0m\u001b[0;34m(\u001b[0m\u001b[0mr\u001b[0m\u001b[0;34m.\u001b[0m\u001b[0mastype\u001b[0m\u001b[0;34m(\u001b[0m\u001b[0mresult_t\u001b[0m\u001b[0;34m,\u001b[0m \u001b[0mcopy\u001b[0m\u001b[0;34m=\u001b[0m\u001b[0;32mFalse\u001b[0m\u001b[0;34m)\u001b[0m\u001b[0;34m)\u001b[0m\u001b[0;34m\u001b[0m\u001b[0;34m\u001b[0m\u001b[0m\n\u001b[1;32m    761\u001b[0m \u001b[0;34m\u001b[0m\u001b[0m\n",
      "\u001b[0;32m~/Lib/conda/anaconda3/lib/python3.7/site-packages/numpy/linalg/linalg.py\u001b[0m in \u001b[0;36m_raise_linalgerror_nonposdef\u001b[0;34m(err, flag)\u001b[0m\n\u001b[1;32m     98\u001b[0m \u001b[0;34m\u001b[0m\u001b[0m\n\u001b[1;32m     99\u001b[0m \u001b[0;32mdef\u001b[0m \u001b[0m_raise_linalgerror_nonposdef\u001b[0m\u001b[0;34m(\u001b[0m\u001b[0merr\u001b[0m\u001b[0;34m,\u001b[0m \u001b[0mflag\u001b[0m\u001b[0;34m)\u001b[0m\u001b[0;34m:\u001b[0m\u001b[0;34m\u001b[0m\u001b[0;34m\u001b[0m\u001b[0m\n\u001b[0;32m--> 100\u001b[0;31m     \u001b[0;32mraise\u001b[0m \u001b[0mLinAlgError\u001b[0m\u001b[0;34m(\u001b[0m\u001b[0;34m\"Matrix is not positive definite\"\u001b[0m\u001b[0;34m)\u001b[0m\u001b[0;34m\u001b[0m\u001b[0;34m\u001b[0m\u001b[0m\n\u001b[0m\u001b[1;32m    101\u001b[0m \u001b[0;34m\u001b[0m\u001b[0m\n\u001b[1;32m    102\u001b[0m \u001b[0;32mdef\u001b[0m \u001b[0m_raise_linalgerror_eigenvalues_nonconvergence\u001b[0m\u001b[0;34m(\u001b[0m\u001b[0merr\u001b[0m\u001b[0;34m,\u001b[0m \u001b[0mflag\u001b[0m\u001b[0;34m)\u001b[0m\u001b[0;34m:\u001b[0m\u001b[0;34m\u001b[0m\u001b[0;34m\u001b[0m\u001b[0m\n",
      "\u001b[0;31mLinAlgError\u001b[0m: Matrix is not positive definite"
     ]
    }
   ],
   "source": [
    "np.linalg.cholesky(M_4)"
   ]
  },
  {
   "cell_type": "markdown",
   "metadata": {},
   "source": [
    "报错了,因此可以看出不是正定的\n",
    "\n",
    "我们试试测试一个单位矩阵"
   ]
  },
  {
   "cell_type": "code",
   "execution_count": 32,
   "metadata": {},
   "outputs": [
    {
     "data": {
      "text/plain": [
       "array([[1., 0., 0., 0.],\n",
       "       [0., 1., 0., 0.],\n",
       "       [0., 0., 1., 0.],\n",
       "       [0., 0., 0., 1.]])"
      ]
     },
     "execution_count": 32,
     "metadata": {},
     "output_type": "execute_result"
    }
   ],
   "source": [
    "i=np.eye(4)\n",
    "np.linalg.cholesky(i)"
   ]
  },
  {
   "cell_type": "markdown",
   "metadata": {},
   "source": [
    "### 奇异值分解"
   ]
  },
  {
   "cell_type": "code",
   "execution_count": 33,
   "metadata": {},
   "outputs": [
    {
     "data": {
      "text/plain": [
       "array([[1, 1, 2],\n",
       "       [3, 4, 5],\n",
       "       [6, 7, 9]])"
      ]
     },
     "execution_count": 33,
     "metadata": {},
     "output_type": "execute_result"
    }
   ],
   "source": [
    "arr = np.arange(9).reshape((3, 3)) + np.diag([1, 0, 1])\n",
    "arr"
   ]
  },
  {
   "cell_type": "code",
   "execution_count": 34,
   "metadata": {},
   "outputs": [],
   "source": [
    "uarr, spec, vharr = np.linalg.svd(arr)"
   ]
  },
  {
   "cell_type": "code",
   "execution_count": 35,
   "metadata": {},
   "outputs": [
    {
     "data": {
      "text/plain": [
       "array([[-0.1617463 , -0.98659196,  0.02178164],\n",
       "       [-0.47456365,  0.09711667,  0.87484724],\n",
       "       [-0.86523261,  0.13116653, -0.48390895]])"
      ]
     },
     "execution_count": 35,
     "metadata": {},
     "output_type": "execute_result"
    }
   ],
   "source": [
    "uarr"
   ]
  },
  {
   "cell_type": "code",
   "execution_count": 36,
   "metadata": {},
   "outputs": [
    {
     "data": {
      "text/plain": [
       "array([14.88982544,  0.45294236,  0.29654967])"
      ]
     },
     "execution_count": 36,
     "metadata": {},
     "output_type": "execute_result"
    }
   ],
   "source": [
    "spec"
   ]
  },
  {
   "cell_type": "code",
   "execution_count": 37,
   "metadata": {},
   "outputs": [
    {
     "data": {
      "text/plain": [
       "array([[-0.45513179, -0.54511245, -0.70406496],\n",
       "       [ 0.20258033,  0.70658087, -0.67801525],\n",
       "       [-0.86707339,  0.45121601,  0.21115836]])"
      ]
     },
     "execution_count": 37,
     "metadata": {},
     "output_type": "execute_result"
    }
   ],
   "source": [
    "vharr"
   ]
  },
  {
   "cell_type": "markdown",
   "metadata": {},
   "source": [
    "### 矩阵QR分解"
   ]
  },
  {
   "cell_type": "code",
   "execution_count": 38,
   "metadata": {},
   "outputs": [
    {
     "data": {
      "text/plain": [
       "array([[-0.18551814, -0.20917874, -0.40211628, -1.19894807, -1.46630053],\n",
       "       [ 1.29711693,  0.20234821,  0.32854939, -1.8502084 , -1.30213228],\n",
       "       [-0.89666881, -1.69630947, -0.0259825 , -1.45345265,  0.06733376],\n",
       "       [-0.43573678, -1.83826832,  1.7405289 ,  0.49307392,  1.21645164],\n",
       "       [-0.34511311, -0.48444181, -1.52753147,  0.20559079, -1.36148696]])"
      ]
     },
     "execution_count": 38,
     "metadata": {},
     "output_type": "execute_result"
    }
   ],
   "source": [
    "X = np.random.randn(5,5)\n",
    "X"
   ]
  },
  {
   "cell_type": "code",
   "execution_count": 39,
   "metadata": {},
   "outputs": [
    {
     "data": {
      "text/plain": [
       "array([[ 2.82991386,  2.79049186,  0.29282322, -1.16004689, -1.53755427],\n",
       "       [ 2.79049186,  6.57608063, -2.26488911,  1.33591464, -1.64758744],\n",
       "       [ 0.29282322, -2.26488911,  5.63311054,  0.45615902,  4.35704246],\n",
       "       [-1.16004689,  1.33591464,  0.45615902,  7.25866167,  4.38925923],\n",
       "       [-1.53755427, -1.64758744,  4.35704246,  4.38925923,  7.18352088]])"
      ]
     },
     "execution_count": 39,
     "metadata": {},
     "output_type": "execute_result"
    }
   ],
   "source": [
    "mat = X.T.dot(X)\n",
    "mat"
   ]
  },
  {
   "cell_type": "code",
   "execution_count": 40,
   "metadata": {},
   "outputs": [],
   "source": [
    "q,r=np.linalg.qr(mat)"
   ]
  },
  {
   "cell_type": "code",
   "execution_count": 41,
   "metadata": {},
   "outputs": [
    {
     "data": {
      "text/plain": [
       "array([[-0.63936271,  0.21100986, -0.18461235, -0.49914373,  0.51328742],\n",
       "       [-0.63045609, -0.56252424, -0.23227077,  0.4278655 , -0.22152427],\n",
       "       [-0.06615758,  0.53636822, -0.63382613, -0.02263921, -0.55288716],\n",
       "       [ 0.2620895 , -0.58615552, -0.32811236, -0.66437978, -0.19665346],\n",
       "       [ 0.34737978, -0.08815989, -0.63448821,  0.35478672,  0.5857527 ]])"
      ]
     },
     "execution_count": 41,
     "metadata": {},
     "output_type": "execute_result"
    }
   ],
   "source": [
    "q"
   ]
  },
  {
   "cell_type": "code",
   "execution_count": 42,
   "metadata": {},
   "outputs": [
    {
     "data": {
      "text/plain": [
       "array([[-4.42614784, -6.0024363 ,  2.50112288,  3.29643578,  5.37932372],\n",
       "       [ 0.        , -4.96300058,  3.70576854, -5.3932577 , -0.26673908],\n",
       "       [ 0.        ,  0.        , -6.01256737, -5.55185025, -8.09309891],\n",
       "       [ 0.        ,  0.        ,  0.        , -2.12496231, -0.40364251],\n",
       "       [ 0.        ,  0.        ,  0.        ,  0.        ,  0.51142418]])"
      ]
     },
     "execution_count": 42,
     "metadata": {},
     "output_type": "execute_result"
    }
   ],
   "source": [
    "r"
   ]
  },
  {
   "cell_type": "markdown",
   "metadata": {},
   "source": [
    "## 张量计算\n",
    "\n",
    "将数据继续扩展,那么矩阵,向量,常数就都是张量的特殊形式了.\n",
    "\n",
    "张量(tensor)是一个可用来表示在一些矢量,标量和其他张量之间的线性关系的多线性函数,这些线性关系的基本例子有内积,外积,线性映射以及笛卡儿积.其坐标在 n 维空间内,有$ n^r $ 个分量的一种量,其中每个分量都是坐标的函数,而在坐标变换时,这些分量也依照某些规则作线性变换.r称为该张量的秩或阶(与矩阵的秩和阶均无关系)\n",
    "\n",
    "在同构的意义下,第零阶张量(r=0)即为标量,第一阶张量(r=1)即为矢量或者说向量,第二阶张量(r=2)则成为矩阵.由于变换方式的不同,张量分成\"协变张量\"(指标在下者),\"逆变张量\"(指标在上者),\"混合张量\"(指标在上和指标在下两者都有)三类.\n",
    "\n",
    "一个张量的大小是一个向量,向量的第 n 个元素描述了张量在第 n 维上的大小,在numpy中,张量的大小即为shape\n"
   ]
  },
  {
   "cell_type": "markdown",
   "metadata": {},
   "source": [
    "### 张量加减\n",
    "\n",
    "张量加减依然是ufunc,这边不做复述."
   ]
  },
  {
   "cell_type": "markdown",
   "metadata": {},
   "source": [
    "### Hadamard Product\n",
    "\n",
    "Hadamard Product 要求形状一致,本质上也还是ufunc"
   ]
  },
  {
   "cell_type": "code",
   "execution_count": 43,
   "metadata": {},
   "outputs": [
    {
     "data": {
      "text/plain": [
       "array([[[  1,   4,   9],\n",
       "        [ 16,  25,  36],\n",
       "        [ 49,  64,  81]],\n",
       "\n",
       "       [[121, 144, 169],\n",
       "        [196, 225, 256],\n",
       "        [289, 324, 361]],\n",
       "\n",
       "       [[441, 484, 529],\n",
       "        [576, 625, 676],\n",
       "        [729, 784, 841]]])"
      ]
     },
     "execution_count": 43,
     "metadata": {},
     "output_type": "execute_result"
    }
   ],
   "source": [
    "A = np.array([\n",
    "  [[1,2,3],    [4,5,6],    [7,8,9]],\n",
    "  [[11,12,13], [14,15,16], [17,18,19]],\n",
    "  [[21,22,23], [24,25,26], [27,28,29]],\n",
    "  ])\n",
    "B = np.array([\n",
    "  [[1,2,3],    [4,5,6],    [7,8,9]],\n",
    "  [[11,12,13], [14,15,16], [17,18,19]],\n",
    "  [[21,22,23], [24,25,26], [27,28,29]],\n",
    "  ])\n",
    "C = A * B\n",
    "C"
   ]
  },
  {
   "cell_type": "markdown",
   "metadata": {},
   "source": [
    "### 张量的积算子\n",
    "\n",
    "\n",
    "张量积算子通常表示为中间带有小x的圆$\\otimes $.给定具有q维度的张量A和具有r维度的张量B，这些张量的乘积将是具有q + r的量级的新张量,或者换句话说q + r维度.\n",
    "\n",
    "需要注意张量的积算子在r为1,2时是区别于向量点乘,矩阵点乘的.它要求形状一致\n",
    "\n",
    "张量积算子不限于张量,也可以在矩阵和向量上执行，这可以是练习的好地方，以便发展更高维度的直觉.\n",
    "\n",
    "\n",
    "在向量上:\n",
    "\n",
    "$$ a = (a_1, a_2)$$\n",
    "\n",
    "$$b = (b_1, b_2)$$\n",
    "\n",
    "$$c = a \\otimes b $$\n",
    "\n",
    "$$c = {\\begin{bmatrix}\n",
    "a_1 * b\\\\\n",
    "a_2 * b\n",
    "\\end{bmatrix}\n",
    "}$$\n",
    "\n",
    "在矩阵上:\n",
    "\n",
    "$$\n",
    "A = {\\begin{bmatrix} \n",
    "a_{1,1}&a_{1,2}\\\\\n",
    "a_{2,1}&a_{2,2} \n",
    "\\end{bmatrix}}\n",
    "$$\n",
    "\n",
    "$$   \n",
    "B = {\\begin{bmatrix} b_{1,1}& b_{1,2}\\\\\n",
    "b_{2,1} & b_{2,2}\n",
    "\\end{bmatrix}}\n",
    "$$\n",
    "\n",
    "$$\n",
    "C = A \\otimes B\n",
    "$$\n",
    "\n",
    "$$\n",
    "C ={\\begin{bmatrix}\n",
    "     a_{1,1} * {\\begin{bmatrix}b_{1,1}&b_{1,2}\\\\b_{2,1}&b_{2,2}\\end{bmatrix}}&a_{1,2}*{\\begin{bmatrix}b_{1,1}&b_{1,2}\\\\b_{2,1}&b_{2,2}\\end{bmatrix}}\\\\\n",
    "     a_{2,1} * {\\begin{bmatrix}b_{1,1}&b_{1,2}\\\\b_{2,1}&b_{2,2}\\end{bmatrix}}&a_{2,2}*{\\begin{bmatrix}b_{1,1}&b_{1,2}\\\\b_{2,1}&b_{2,2}\\end{bmatrix}}\n",
    "\\end{bmatrix}} \n",
    "$$\n",
    "\n",
    "$$     \n",
    "C = {\\begin{bmatrix} \n",
    "a_{1,1} * b_{1,1}&a_{1,1} * b_{1,2}& a_{1,2} * b_{1,1}& a_{1,2} * b_{1,2}\\\\\n",
    "a_{1,1} * b_{2,1}&a_{1,1} * b_{2,2}& a_{1,2} * b_{2,1}& a_{1,2} * b_{2,2}\\\\\n",
    "a_{2,1} * b_{1,1}&a_{2,1} * b_{1,2}& a_{2,2} * b_{1,1}& a_{2,2} * b_{1,2}\\\\\n",
    "a_{2,1} * b_{2,1}&a_{2,1} * b_{2,2}& a_{2,2} * b_{2,1}& a_{2,2} * b_{2,2}\n",
    "\\end{bmatrix}} \n",
    "$$\n",
    "\n",
    "注意上式中的值为压扁为矩阵后的形态,在拆解时每次拆解都是一层\n",
    "\n",
    "\n",
    "在numpy中张量的积算子需要指定axes为0"
   ]
  },
  {
   "cell_type": "code",
   "execution_count": 44,
   "metadata": {},
   "outputs": [
    {
     "data": {
      "text/plain": [
       "(2, 2, 2, 2)"
      ]
     },
     "execution_count": 44,
     "metadata": {},
     "output_type": "execute_result"
    }
   ],
   "source": [
    "np.tensordot(np.arange(4).reshape(2,2),np.arange(4).reshape(2,2),axes=0).shape"
   ]
  }
 ],
 "metadata": {
  "kernelspec": {
   "display_name": "Python 3 (ipykernel)",
   "language": "python",
   "name": "python3"
  },
  "language_info": {
   "codemirror_mode": {
    "name": "ipython",
    "version": 3
   },
   "file_extension": ".py",
   "mimetype": "text/x-python",
   "name": "python",
   "nbconvert_exporter": "python",
   "pygments_lexer": "ipython3",
   "version": "3.10.12"
  }
 },
 "nbformat": 4,
 "nbformat_minor": 4
}
