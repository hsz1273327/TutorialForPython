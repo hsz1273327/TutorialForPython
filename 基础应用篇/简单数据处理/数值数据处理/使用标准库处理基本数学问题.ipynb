{
 "cells": [
  {
   "cell_type": "markdown",
   "metadata": {},
   "source": [
    "# 使用标准库处理基本数学问题\n",
    "\n",
    "python内置了多数情况下足够用的数学工具用于做一些简单计算,主要包括几个部分:\n",
    "\n",
    "+ 专用的数据类型\n",
    "    \n",
    "    包括有标准库中的理数,高精度数类型以及默认支持的复数类型\n",
    "    \n",
    "+ 常用计算算法\n",
    "\n",
    "    包括针对自然数和复数的log,三角函数等计算\n",
    "\n",
    "+ 统计学工具\n",
    "\n",
    "    包括常用的统计计算算法和随机数模块"
   ]
  },
  {
   "cell_type": "markdown",
   "metadata": {},
   "source": [
    "## 默认数的形式\n",
    "\n",
    "python中的数分为\n",
    "\n",
    "+ 整数\n",
    "\n",
    "```python\n",
    "0\n",
    "```\n",
    "\n",
    "+ 浮点数\n",
    "\n",
    "```python\n",
    "1.1\n",
    "```\n",
    "\n",
    "+ 复数,而且大数计算是内置的被优化的相当好.\n",
    "\n",
    "```python\n",
    "1+2j\n",
    "```\n",
    "\n",
    "\n",
    "### 数的进制\n",
    "\n",
    "默认的数是10进制的,但python中也支持其他几种进制\n"
   ]
  },
  {
   "cell_type": "markdown",
   "metadata": {},
   "source": [
    "+ 16进制"
   ]
  },
  {
   "cell_type": "code",
   "execution_count": 1,
   "metadata": {},
   "outputs": [
    {
     "data": {
      "text/plain": [
       "16"
      ]
     },
     "execution_count": 1,
     "metadata": {},
     "output_type": "execute_result"
    }
   ],
   "source": [
    "0x10"
   ]
  },
  {
   "cell_type": "markdown",
   "metadata": {},
   "source": [
    "+ 8进制"
   ]
  },
  {
   "cell_type": "code",
   "execution_count": 2,
   "metadata": {},
   "outputs": [
    {
     "data": {
      "text/plain": [
       "8"
      ]
     },
     "execution_count": 2,
     "metadata": {},
     "output_type": "execute_result"
    }
   ],
   "source": [
    "0O10"
   ]
  },
  {
   "cell_type": "markdown",
   "metadata": {},
   "source": [
    "+ 2进制"
   ]
  },
  {
   "cell_type": "code",
   "execution_count": 3,
   "metadata": {},
   "outputs": [
    {
     "data": {
      "text/plain": [
       "2"
      ]
     },
     "execution_count": 3,
     "metadata": {},
     "output_type": "execute_result"
    }
   ],
   "source": [
    "0b10"
   ]
  },
  {
   "cell_type": "markdown",
   "metadata": {},
   "source": [
    "而十进制转换成别的进制就会麻烦一些,需要使用`bin(dec)`,`oct(dec)`,`hex(dec)`这样的内置函数"
   ]
  },
  {
   "cell_type": "code",
   "execution_count": 4,
   "metadata": {},
   "outputs": [
    {
     "data": {
      "text/plain": [
       "'0b10'"
      ]
     },
     "execution_count": 4,
     "metadata": {},
     "output_type": "execute_result"
    }
   ],
   "source": [
    "bin(2)"
   ]
  },
  {
   "cell_type": "code",
   "execution_count": 5,
   "metadata": {},
   "outputs": [
    {
     "data": {
      "text/plain": [
       "'0o10'"
      ]
     },
     "execution_count": 5,
     "metadata": {},
     "output_type": "execute_result"
    }
   ],
   "source": [
    "oct(8)"
   ]
  },
  {
   "cell_type": "code",
   "execution_count": 6,
   "metadata": {},
   "outputs": [
    {
     "data": {
      "text/plain": [
       "'0x10'"
      ]
     },
     "execution_count": 6,
     "metadata": {},
     "output_type": "execute_result"
    }
   ],
   "source": [
    "hex(16)"
   ]
  },
  {
   "cell_type": "markdown",
   "metadata": {},
   "source": [
    "可以看到转换后得到的其实是字符串,这个需要注意."
   ]
  },
  {
   "cell_type": "markdown",
   "metadata": {},
   "source": [
    "### 大数的表示[3.6]\n",
    "\n",
    "从python3.6起,大数可以使用每三位加一格下划线的表述方式输入了"
   ]
  },
  {
   "cell_type": "code",
   "execution_count": 7,
   "metadata": {},
   "outputs": [
    {
     "data": {
      "text/plain": [
       "12234"
      ]
     },
     "execution_count": 7,
     "metadata": {},
     "output_type": "execute_result"
    }
   ],
   "source": [
    "12_234"
   ]
  },
  {
   "cell_type": "markdown",
   "metadata": {},
   "source": [
    "## 内置的计算操作\n",
    "\n",
    "python内置的合法计算符号包括:\n",
    "\n",
    "\n",
    "符号|操作名\n",
    "---|---\n",
    "`+`|加\n",
    "`-`|减\n",
    "`*`|乘\n",
    "`/`|除\n",
    "`//`|整除\n",
    "`**`|求幂\n",
    "`abs`|取绝对值\n",
    "\n",
    "另外还有一个符号`@`表示矩阵乘法,这个官方的数据结构没有实现但numpy和pandas倒是实现了"
   ]
  },
  {
   "cell_type": "markdown",
   "metadata": {},
   "source": [
    "## 高精度数(decimal)\n",
    "\n",
    "高精度数模块(decimal)提供了一种可用于代替float的数据类型,这种数据类型并不适合常用计算,因为高精度意味着更耗时;但在需要高精度浮点运算时比较好用,适合用在财务上.\n",
    "\n",
    "这种数据类型可以由整数,浮点数,数字字符串转化得来\n",
    "\n",
    "### 获得当前精度环境"
   ]
  },
  {
   "cell_type": "code",
   "execution_count": 8,
   "metadata": {},
   "outputs": [],
   "source": [
    "from decimal import getcontext"
   ]
  },
  {
   "cell_type": "code",
   "execution_count": 9,
   "metadata": {},
   "outputs": [
    {
     "data": {
      "text/plain": [
       "Context(prec=28, rounding=ROUND_HALF_EVEN, Emin=-999999, Emax=999999, capitals=1, clamp=0, flags=[], traps=[InvalidOperation, DivisionByZero, Overflow])"
      ]
     },
     "execution_count": 9,
     "metadata": {},
     "output_type": "execute_result"
    }
   ],
   "source": [
    "getcontext()"
   ]
  },
  {
   "cell_type": "markdown",
   "metadata": {},
   "source": [
    "### 设定精度"
   ]
  },
  {
   "cell_type": "code",
   "execution_count": 10,
   "metadata": {},
   "outputs": [],
   "source": [
    "getcontext().prec = 10"
   ]
  },
  {
   "cell_type": "markdown",
   "metadata": {},
   "source": [
    "### 转化为`decimal`数据类型"
   ]
  },
  {
   "cell_type": "code",
   "execution_count": 11,
   "metadata": {},
   "outputs": [
    {
     "data": {
      "text/plain": [
       "Decimal('0.1428571429')"
      ]
     },
     "execution_count": 11,
     "metadata": {},
     "output_type": "execute_result"
    }
   ],
   "source": [
    "from decimal import Decimal\n",
    "Decimal(1) / Decimal(7)"
   ]
  },
  {
   "cell_type": "markdown",
   "metadata": {},
   "source": [
    "## 有理数(fractions)\n",
    "\n",
    "有理数(fractions)模块提供了一种用来表示有理数的数据类型,它可以用整数,浮点数,高精度数或者数字和除号字符串创建"
   ]
  },
  {
   "cell_type": "code",
   "execution_count": 12,
   "metadata": {},
   "outputs": [
    {
     "data": {
      "text/plain": [
       "Fraction(-8, 5)"
      ]
     },
     "execution_count": 12,
     "metadata": {},
     "output_type": "execute_result"
    }
   ],
   "source": [
    "from fractions import Fraction\n",
    "Fraction(16, -10)"
   ]
  },
  {
   "cell_type": "code",
   "execution_count": 13,
   "metadata": {},
   "outputs": [
    {
     "data": {
      "text/plain": [
       "Fraction(123, 1)"
      ]
     },
     "execution_count": 13,
     "metadata": {},
     "output_type": "execute_result"
    }
   ],
   "source": [
    "Fraction(123)"
   ]
  },
  {
   "cell_type": "code",
   "execution_count": 14,
   "metadata": {},
   "outputs": [
    {
     "data": {
      "text/plain": [
       "Fraction(0, 1)"
      ]
     },
     "execution_count": 14,
     "metadata": {},
     "output_type": "execute_result"
    }
   ],
   "source": [
    "Fraction()"
   ]
  },
  {
   "cell_type": "code",
   "execution_count": 15,
   "metadata": {},
   "outputs": [
    {
     "data": {
      "text/plain": [
       "Fraction(3, 7)"
      ]
     },
     "execution_count": 15,
     "metadata": {},
     "output_type": "execute_result"
    }
   ],
   "source": [
    "Fraction('3/7')"
   ]
  },
  {
   "cell_type": "code",
   "execution_count": 16,
   "metadata": {},
   "outputs": [
    {
     "data": {
      "text/plain": [
       "Fraction(1414213, 1000000)"
      ]
     },
     "execution_count": 16,
     "metadata": {},
     "output_type": "execute_result"
    }
   ],
   "source": [
    "Fraction('1.414213 \\t\\n')"
   ]
  },
  {
   "cell_type": "code",
   "execution_count": 17,
   "metadata": {},
   "outputs": [
    {
     "data": {
      "text/plain": [
       "Fraction(-1, 8)"
      ]
     },
     "execution_count": 17,
     "metadata": {},
     "output_type": "execute_result"
    }
   ],
   "source": [
    "Fraction('-.125')"
   ]
  },
  {
   "cell_type": "code",
   "execution_count": 18,
   "metadata": {},
   "outputs": [
    {
     "data": {
      "text/plain": [
       "Fraction(7, 1000000)"
      ]
     },
     "execution_count": 18,
     "metadata": {},
     "output_type": "execute_result"
    }
   ],
   "source": [
    "Fraction('7e-6')"
   ]
  },
  {
   "cell_type": "code",
   "execution_count": 19,
   "metadata": {},
   "outputs": [
    {
     "data": {
      "text/plain": [
       "Fraction(9, 4)"
      ]
     },
     "execution_count": 19,
     "metadata": {},
     "output_type": "execute_result"
    }
   ],
   "source": [
    "Fraction(2.25)"
   ]
  },
  {
   "cell_type": "code",
   "execution_count": 20,
   "metadata": {},
   "outputs": [
    {
     "data": {
      "text/plain": [
       "Fraction(2476979795053773, 2251799813685248)"
      ]
     },
     "execution_count": 20,
     "metadata": {},
     "output_type": "execute_result"
    }
   ],
   "source": [
    "Fraction(1.1)"
   ]
  },
  {
   "cell_type": "code",
   "execution_count": 21,
   "metadata": {},
   "outputs": [
    {
     "data": {
      "text/plain": [
       "Fraction(11, 10)"
      ]
     },
     "execution_count": 21,
     "metadata": {},
     "output_type": "execute_result"
    }
   ],
   "source": [
    "from decimal import Decimal\n",
    "Fraction(Decimal('1.1'))"
   ]
  },
  {
   "cell_type": "markdown",
   "metadata": {},
   "source": [
    "## 数学运算模块math\n",
    "python自带的math模块提供了一些常用的数学运算和常数\n",
    "\n",
    "### 常数\n",
    "\n",
    "常数|说明\n",
    "---|---\n",
    "`math.e`|  自然常数e\n",
    "`math.pi`| 圆周率pi\n",
    "`math.tau`[Python3.6]|数学常数$τ = 6.283185...$,精确到可用精度.Tau 是一个圆周常数,等于 2π,圆的周长与半径之比\n",
    "`math.inf`[Python3.5]|浮点正无穷大,相当于`float('inf')`\n",
    "`math.nan`[Python3.5]|浮点\"非数字\"(NaN)值,相当于`float('nan')`\n",
    "\n",
    "### 数值计算\n",
    "\n",
    "函数|说明|例子\n",
    "---|---|---\n",
    "`math.ceil(x)`|返回大于x的整数上限的浮点数,x为整数则返回自己的浮点形式|`math.ceil(1)->1.0,</br>math.ceil(1.1)->2.0,</br>math.ceil(-1.5)->-1.0`\n",
    "`math.copysign(x, y)|返回绝对值为x,符号为y的符号的数|`math.copysign(1.0, -0.0)->-1.0`\n",
    "`math.fabs(x)`|相当于`abs(x)`,返回绝对值|`math.fabs(-3.4)->3.4`\n",
    "`math.factorial(x)`|数学上的x!,阶乘|`math.factorial(3)->6`\n",
    "`math.floor(x)`|与ceil相反,得到上限|`math.floor(-0.5)->-1.0`\n",
    "`math.fmod(x, y)`|求模运算,适合用在浮点数,注意和`%`的不同|`math.fmod(3.5, -2)->1.5</br>3.5%-2->-0.5`\n",
    "`math.frexp(x)`|将x拆成分`(m,e)`,$ x = m \\cdot 2^e $|`math.frexp(2.43)->(0.6075, 2)`\n",
    "`math.fsum(iterable)`|求序列中所有数的和的精确值|`fsum([.1, .1, .1, .1, .1, .1, .1, .1, .1, .1])->1.0`\n",
    "`math.isinf(x)`|判断x是不是`float(\"inf\")`|---\n",
    "`math.isfinite(x)`|如果 x 既不是无穷大也不是`NaN`,则返回`True`,否则返回`False`\n",
    "`math.isclose(a, b, rel_tol=1e-09, abs_tol=0.0)`[Python3.5]|用于测试近似相等的函数,`rel_tol`为相对容差,`abs_tol`为最小绝对容差|---\n",
    "`math.isnan(x)`|判断x是不是`float(\"NaN\")`|---\n",
    "`math.ldexp(m,e)`|求$m \\cdot 2^e$|`math.ldexp(3, 1)->6.0`\n",
    "`math.modf(x)`|拆分整数小数部分|`math.modf(-3.5)->(-0.5, -3.0)`\n",
    "`math.trunc(x)`|返回整数部分|`math.trunc(3.5)->3`\n",
    "`math.gcd(a, b)`[Python3.5]|返回两个数的最大公约数|`math.gcd(12,15)->3`\n",
    "`math.remainder(x, y)`[Python3.7]|返回`IEEE 754`风格的`x`相对于`y`的余数|---\n",
    "\n",
    "\n",
    "### 平方和对数\n",
    "\n",
    "\n",
    "函数|说明|例子\n",
    "---|---|---\n",
    "`math.exp(x)`|自然数的幂$e^x$|`math.exp(2)->7.38905609893065`\n",
    "`math.expm1(x)`|返回e的x次方减1|`math.expm1(2)->6.38905609893065`\n",
    "`math.log(x[, base])`| 返回x的以base为底的对数,base默认为`e`|`math.log(math.e)->1.0</br>math.log(10,2)->3.3219280948873626`\n",
    "`math.log10(x)`|返回x的以10为底的对数|`math.log10(2)->0.30102999566398114`\n",
    "`math.log1p(x)`|返回1+x的自然对数（以e为底)|`math.log1p(math.e-1)->1.0`\n",
    "`math.pow(x, y)`|返回x的y次方|`math.pow(5,3)->125.0`\n",
    "`math.sqrt(x)`|返回x的平方根|`math.sqrt(3)->1.7320508075688772`\n",
    "\n",
    "\n",
    "\n",
    "### 三角函数\n",
    "\n",
    "+ 弧度\n",
    "\n",
    "函数|说明\n",
    "---|---\n",
    "`math.acos(x)`|`acos(x)`\n",
    "`math.asin(x)`|`asin(x)`\n",
    "`math.atan(x)`|`atan(x)`\n",
    "`math.atan2(y, x)`|`atan(y / x)`\n",
    "`math.cos(x)`|`cos(x)`\n",
    "`math.hypot(x, y)`|`sqrt(x*x + y*y)`\n",
    "`math.sin(x)`|`sin(x)`\n",
    "`math.tan(x)`|`tan(x)`\n",
    "\n",
    "+ 角度,弧度转换\n",
    "\n",
    "函数|说明\n",
    "---|---\n",
    "`math.degrees(x)`|弧度转度\n",
    "`math.radians(x)`|度转弧度\n",
    "\n",
    "\n",
    "### 双曲函数\n",
    "\n",
    "函数|说明\n",
    "---|---\n",
    "`math.sinh(x)`|双曲正弦 $ \\sinh x = {\\frac {e^x  - e^{ - x} } 2} $\n",
    "`math.cosh(x)`|双曲余弦 $ \\cosh x = {\\frac {e^x  + e^{ - x} }  2} $\n",
    "`math.tanh(x)`|双曲正切 $ \\tanh x = {\\frac {\\sinh x} {\\cosh x}} $\n",
    "`math.acosh(x)`|反双曲余弦\n",
    "`math.asinh(x)`|反双曲正弦\n",
    "`math.atanh(x)`|反双曲正切\n",
    "\n",
    "### 特殊函数:\n",
    "\n",
    "\n",
    "函数|说明\n",
    "---|---\n",
    "`math.erf(x)`|误差函数: $\\operatorname{erf}(x) = \\frac{2}{\\sqrt{\\pi}}\\int_0^x e^{-t^2}\\,\\mathrm dt.$\n",
    "`math.erfc(x)`|互补误差函数:$\\operatorname{erfc}(x) = 1-\\operatorname{erf}(x) = \\frac{2}{\\sqrt{\\pi}} \\int_x^{\\infty} e^{-t^2}\\,\\mathrm dt\\,.$\n",
    "`math.gamma(x)`|伽玛函数 $\\Gamma(z) = \\int_{0}^{\\infty} \\frac{t^{z-1}}{\\mathrm{e}^t} \\,{\\rm{d}}t$\n",
    "`math.lgamma(x)`|伽马函数绝对值的自然对数\n"
   ]
  },
  {
   "cell_type": "code",
   "execution_count": 2,
   "metadata": {},
   "outputs": [
    {
     "data": {
      "text/plain": [
       "3"
      ]
     },
     "execution_count": 2,
     "metadata": {},
     "output_type": "execute_result"
    }
   ],
   "source": [
    "import math\n",
    "math.gcd(12,15)"
   ]
  },
  {
   "cell_type": "markdown",
   "metadata": {},
   "source": [
    "## 复数运算(cmath)\n",
    "\n",
    "这个模块和math很像,只是面向的操作对象是复数.它独有的接口有"
   ]
  },
  {
   "cell_type": "code",
   "execution_count": 22,
   "metadata": {},
   "outputs": [],
   "source": [
    "from cmath import phase,polar,rect"
   ]
  },
  {
   "cell_type": "markdown",
   "metadata": {},
   "source": [
    "### 极坐标转换\n",
    "\n",
    "+ `phase()`求相(相当于求`atan2(x.imag, x.real)`)"
   ]
  },
  {
   "cell_type": "code",
   "execution_count": 23,
   "metadata": {},
   "outputs": [
    {
     "data": {
      "text/plain": [
       "3.141592653589793"
      ]
     },
     "execution_count": 23,
     "metadata": {},
     "output_type": "execute_result"
    }
   ],
   "source": [
    "phase(-1.0+0.0j)"
   ]
  },
  {
   "cell_type": "code",
   "execution_count": 24,
   "metadata": {},
   "outputs": [
    {
     "data": {
      "text/plain": [
       "-3.141592653589793"
      ]
     },
     "execution_count": 24,
     "metadata": {},
     "output_type": "execute_result"
    }
   ],
   "source": [
    "phase(complex(-1.0,-0.0))"
   ]
  },
  {
   "cell_type": "markdown",
   "metadata": {},
   "source": [
    "+ `polar(x)`转换为极坐标\n",
    "\n",
    "polar(x) 相当于 (abs(x), phase(x))."
   ]
  },
  {
   "cell_type": "code",
   "execution_count": 25,
   "metadata": {},
   "outputs": [
    {
     "data": {
      "text/plain": [
       "(1.0, -3.141592653589793)"
      ]
     },
     "execution_count": 25,
     "metadata": {},
     "output_type": "execute_result"
    }
   ],
   "source": [
    "polar(complex(-1.0,-0.0))"
   ]
  },
  {
   "cell_type": "markdown",
   "metadata": {},
   "source": [
    "+ `rect(r,phi)`已知半径和度数求以两边长为值的复数\n",
    "\n",
    "$$ r * (math.cos(phi) + math.sin(phi)*1j) $$"
   ]
  },
  {
   "cell_type": "code",
   "execution_count": 26,
   "metadata": {},
   "outputs": [
    {
     "data": {
      "text/plain": [
       "(0.7071067811865476+0.7071067811865475j)"
      ]
     },
     "execution_count": 26,
     "metadata": {},
     "output_type": "execute_result"
    }
   ],
   "source": [
    "from math import pi\n",
    "rect(1,pi/4)"
   ]
  },
  {
   "cell_type": "markdown",
   "metadata": {},
   "source": [
    "## 统计模块(statistics)\n",
    "\n",
    "该模块是3.4后新增的模块,这个模块提供一些统计学方法"
   ]
  },
  {
   "cell_type": "markdown",
   "metadata": {},
   "source": [
    "### 均值中心性\n",
    "\n",
    "函数|说明\n",
    "---|---\n",
    "mean()|\t均值\n",
    "harmonic_mean()|计算调和平均,比如求a,b,c三个数的调和平均就是计算$ \\frac3 {(\\frac 1 a + \\frac 1 b + \\frac 1 c)}$\n",
    "median()|中位数\n",
    "median_low()|\tLow median of data.\n",
    "median_high()|\tHigh median of data.\n",
    "median_grouped()|\tMedian, or 50th percentile, of grouped data.\n",
    "mode()|众数\tMode (most common value) of discrete data."
   ]
  },
  {
   "cell_type": "code",
   "execution_count": 27,
   "metadata": {},
   "outputs": [
    {
     "data": {
      "text/plain": [
       "4999.5"
      ]
     },
     "execution_count": 27,
     "metadata": {},
     "output_type": "execute_result"
    }
   ],
   "source": [
    "L = range(10000)\n",
    "from statistics import mean,median,median_low,median_high,median_grouped,mode\n",
    "mean(L)"
   ]
  },
  {
   "cell_type": "code",
   "execution_count": 28,
   "metadata": {},
   "outputs": [
    {
     "data": {
      "text/plain": [
       "4999.5"
      ]
     },
     "execution_count": 28,
     "metadata": {},
     "output_type": "execute_result"
    }
   ],
   "source": [
    "median(L)"
   ]
  },
  {
   "cell_type": "code",
   "execution_count": 29,
   "metadata": {},
   "outputs": [
    {
     "data": {
      "text/plain": [
       "4999"
      ]
     },
     "execution_count": 29,
     "metadata": {},
     "output_type": "execute_result"
    }
   ],
   "source": [
    "median_low(L)"
   ]
  },
  {
   "cell_type": "code",
   "execution_count": 30,
   "metadata": {},
   "outputs": [
    {
     "data": {
      "text/plain": [
       "4999"
      ]
     },
     "execution_count": 30,
     "metadata": {},
     "output_type": "execute_result"
    }
   ],
   "source": [
    "median_low(L)"
   ]
  },
  {
   "cell_type": "code",
   "execution_count": 31,
   "metadata": {},
   "outputs": [
    {
     "data": {
      "text/plain": [
       "5000"
      ]
     },
     "execution_count": 31,
     "metadata": {},
     "output_type": "execute_result"
    }
   ],
   "source": [
    "median_high(L)"
   ]
  },
  {
   "cell_type": "code",
   "execution_count": 32,
   "metadata": {},
   "outputs": [
    {
     "data": {
      "text/plain": [
       "5000"
      ]
     },
     "execution_count": 32,
     "metadata": {},
     "output_type": "execute_result"
    }
   ],
   "source": [
    "median_high(L)"
   ]
  },
  {
   "cell_type": "code",
   "execution_count": 33,
   "metadata": {},
   "outputs": [
    {
     "data": {
      "text/plain": [
       "4999.5"
      ]
     },
     "execution_count": 33,
     "metadata": {},
     "output_type": "execute_result"
    }
   ],
   "source": [
    "median_grouped(L)"
   ]
  },
  {
   "cell_type": "code",
   "execution_count": 34,
   "metadata": {},
   "outputs": [
    {
     "data": {
      "text/plain": [
       "4999.0"
      ]
     },
     "execution_count": 34,
     "metadata": {},
     "output_type": "execute_result"
    }
   ],
   "source": [
    "median_grouped(L, interval=2)"
   ]
  },
  {
   "cell_type": "code",
   "execution_count": 35,
   "metadata": {},
   "outputs": [
    {
     "data": {
      "text/plain": [
       "3"
      ]
     },
     "execution_count": 35,
     "metadata": {},
     "output_type": "execute_result"
    }
   ],
   "source": [
    "from random import randint\n",
    "XL = [randint(1,10) for i in range(10000)]\n",
    "mode(XL)"
   ]
  },
  {
   "cell_type": "markdown",
   "metadata": {},
   "source": [
    "### 分布统计\n",
    "\n",
    "函数|说明\n",
    "---|---\n",
    "pstdev()| 总体标准差\n",
    "pvariance()|总体方差\n",
    "stdev()|样本标准差\n",
    "variance()|样本方差"
   ]
  },
  {
   "cell_type": "code",
   "execution_count": 36,
   "metadata": {},
   "outputs": [
    {
     "data": {
      "text/plain": [
       "2886.751331514372"
      ]
     },
     "execution_count": 36,
     "metadata": {},
     "output_type": "execute_result"
    }
   ],
   "source": [
    "from statistics import pstdev,pvariance,stdev,variance\n",
    "pstdev(L)"
   ]
  },
  {
   "cell_type": "code",
   "execution_count": 37,
   "metadata": {},
   "outputs": [
    {
     "data": {
      "text/plain": [
       "8333333.25"
      ]
     },
     "execution_count": 37,
     "metadata": {},
     "output_type": "execute_result"
    }
   ],
   "source": [
    "pvariance(L)"
   ]
  },
  {
   "cell_type": "code",
   "execution_count": 38,
   "metadata": {},
   "outputs": [
    {
     "data": {
      "text/plain": [
       "2886.8956799071675"
      ]
     },
     "execution_count": 38,
     "metadata": {},
     "output_type": "execute_result"
    }
   ],
   "source": [
    "stdev(L)"
   ]
  },
  {
   "cell_type": "code",
   "execution_count": 39,
   "metadata": {},
   "outputs": [
    {
     "data": {
      "text/plain": [
       "8334166.666666667"
      ]
     },
     "execution_count": 39,
     "metadata": {},
     "output_type": "execute_result"
    }
   ],
   "source": [
    "variance(L)"
   ]
  },
  {
   "cell_type": "markdown",
   "metadata": {},
   "source": [
    "## 随机模块random\n",
    "\n",
    "### 常规用法\n",
    "\n",
    "无论在做测试中还是在做模拟中,随机都是必须的模块,具体这样用:"
   ]
  },
  {
   "cell_type": "code",
   "execution_count": 4,
   "metadata": {},
   "outputs": [],
   "source": [
    "import random"
   ]
  },
  {
   "cell_type": "code",
   "execution_count": 5,
   "metadata": {},
   "outputs": [
    {
     "data": {
      "text/plain": [
       "0.25415523691401276"
      ]
     },
     "execution_count": 5,
     "metadata": {},
     "output_type": "execute_result"
    }
   ],
   "source": [
    "random.random()        # [0,1)内随机浮点数"
   ]
  },
  {
   "cell_type": "code",
   "execution_count": 6,
   "metadata": {},
   "outputs": [
    {
     "data": {
      "text/plain": [
       "5.470078932858412"
      ]
     },
     "execution_count": 6,
     "metadata": {},
     "output_type": "execute_result"
    }
   ],
   "source": [
    "random.uniform(1, 10)  # [1,10)内随机浮点数"
   ]
  },
  {
   "cell_type": "code",
   "execution_count": 7,
   "metadata": {},
   "outputs": [
    {
     "data": {
      "text/plain": [
       "4"
      ]
     },
     "execution_count": 7,
     "metadata": {},
     "output_type": "execute_result"
    }
   ],
   "source": [
    "random.randint(1, 10)  # [1,10]范围内的随机整数"
   ]
  },
  {
   "cell_type": "code",
   "execution_count": 8,
   "metadata": {},
   "outputs": [
    {
     "data": {
      "text/plain": [
       "54"
      ]
     },
     "execution_count": 8,
     "metadata": {},
     "output_type": "execute_result"
    }
   ],
   "source": [
    "random.randrange(0, 101, 2)  # 从等差数列中随机挑一个数"
   ]
  },
  {
   "cell_type": "code",
   "execution_count": 9,
   "metadata": {},
   "outputs": [
    {
     "data": {
      "text/plain": [
       "'e'"
      ]
     },
     "execution_count": 9,
     "metadata": {},
     "output_type": "execute_result"
    }
   ],
   "source": [
    "random.choice('abcdefghij')  # 随机选一个"
   ]
  },
  {
   "cell_type": "code",
   "execution_count": 10,
   "metadata": {},
   "outputs": [],
   "source": [
    "items = [1, 2, 3, 4, 5, 6, 7]\n",
    "random.shuffle(items)#随机排序"
   ]
  },
  {
   "cell_type": "code",
   "execution_count": 11,
   "metadata": {},
   "outputs": [
    {
     "data": {
      "text/plain": [
       "[5, 2, 1]"
      ]
     },
     "execution_count": 11,
     "metadata": {},
     "output_type": "execute_result"
    }
   ],
   "source": [
    "random.sample([1, 2, 3, 4, 5],  3)  # 随机选3个元素"
   ]
  },
  {
   "cell_type": "markdown",
   "metadata": {},
   "source": [
    "### 随机种子\n",
    "\n",
    "学过C的都知道[伪随机](http://baike.baidu.com/link?url=jnG_iX8HCXPxH-bsD2_HH2Z7XvX-o_6AfQvmNPMq9d2PaFv34aCoS33yJ7n94XOrt2I0EhZGjttpOEYPIR8cHK),python也是伪随机,所以可以通过设定`seed`值来改变随机状态"
   ]
  },
  {
   "cell_type": "code",
   "execution_count": 12,
   "metadata": {},
   "outputs": [],
   "source": [
    "from matplotlib import pyplot as plt"
   ]
  },
  {
   "cell_type": "code",
   "execution_count": 13,
   "metadata": {},
   "outputs": [],
   "source": [
    "%matplotlib inline"
   ]
  },
  {
   "cell_type": "markdown",
   "metadata": {},
   "source": [
    "### 数学上的一些特殊随机\n",
    "\n",
    "+ **三角分布**\n",
    "\n",
    "三角分布式是连续概率分布,可以看做是在一个范围中有一个数(众数)它附近有最高的概率密度即最有可能出现在该众数上\n",
    "```python\n",
    "random.triangular(low, high, mode)#三角形分布,默认众数(mode)是中值\n",
    "```"
   ]
  },
  {
   "cell_type": "code",
   "execution_count": 14,
   "metadata": {},
   "outputs": [
    {
     "data": {
      "text/plain": [
       "1.1251317155398355"
      ]
     },
     "execution_count": 14,
     "metadata": {},
     "output_type": "execute_result"
    }
   ],
   "source": [
    "hight,low,mode = 0,2,0.5\n",
    "random.triangular(hight,low,mode)"
   ]
  },
  {
   "cell_type": "code",
   "execution_count": 15,
   "metadata": {},
   "outputs": [],
   "source": [
    "from collections import Counter"
   ]
  },
  {
   "cell_type": "code",
   "execution_count": 16,
   "metadata": {},
   "outputs": [],
   "source": [
    "c = Counter()\n",
    "for nbr in [round(random.triangular(0,2,0.5),2) for i in range(10000)]:\n",
    "    c[nbr] = c[nbr] + 1"
   ]
  },
  {
   "cell_type": "code",
   "execution_count": 17,
   "metadata": {
    "scrolled": true
   },
   "outputs": [
    {
     "data": {
      "image/png": "[encoded data removed]",
      "text/plain": [
       "<Figure size 432x288 with 1 Axes>"
      ]
     },
     "metadata": {
      "needs_background": "light"
     },
     "output_type": "display_data"
    }
   ],
   "source": [
    "plt.plot([float(i) for i in c.keys()],[float(i) for i in c.values()],\".\")\n",
    "plt.show()"
   ]
  },
  {
   "cell_type": "markdown",
   "metadata": {},
   "source": [
    "+ **β分布**\n",
    "\n",
    "β分布是在0到1上的特殊分布,\n",
    "\n",
    "做硬币试验的假定分布，即做伯努利试验的假定分布在确定伯努利试验的分布之前，我们利用试验的少量数据来估计试验的概率（作为先验概率）beta分布涉及两个参数：1、试验成功的次数2、试验失败的次数.\n",
    "\n",
    "概率密度函数为:\n",
    "\n",
    "$$\n",
    "\\begin{align}\n",
    "f(x)=&\n",
    "x^{\\alpha-1}(1-x)^{\\beta-1}\n",
    "\\over\n",
    "\\int_0^1 u^{\\alpha-1}(1-u)^{\\beta-1}du\\\\\n",
    "=&{\\frac {\\Gamma(\\alpha+\\beta)} {\\Gamma(\\alpha)\\Gamma(\\beta)}}x^{\\alpha-1}(1-x)^{\\beta-1}\\\\\n",
    "=&{\\frac {1} {B(\\alpha-\\beta)}}x^{\\alpha-1}(1-x)^{\\beta-1}\n",
    "\\end{align}\n",
    "$$\n",
    "\n",
    "累积分布函数:\n",
    "\n",
    "$$\n",
    "\\begin{align}\n",
    "F(x;\\alpha,\\beta)=& \\frac {B_x(\\alpha,\\beta)} {B(\\alpha,\\beta)}&=I_x(\\alpha,\\beta)\n",
    "\\end{align}\n",
    "$$\n",
    "\n",
    "其中$${B_x(\\alpha,\\beta)}$$是不完全Β函数,$${I_x(\\alpha,\\beta)}$$ 是正则不完全贝塔函数\n",
    "\n",
    "\n",
    "是不完全Β函数，$$I_x (\\alpha,\\beta)$$ 是正则不完全贝塔函数\n",
    "\n",
    "```python\n",
    "random.betavariate(alpha, beta)#beta分布\n",
    "```"
   ]
  },
  {
   "cell_type": "code",
   "execution_count": 18,
   "metadata": {},
   "outputs": [
    {
     "data": {
      "image/png": "[encoded data removed]",
      "text/plain": [
       "<Figure size 432x288 with 1 Axes>"
      ]
     },
     "metadata": {
      "needs_background": "light"
     },
     "output_type": "display_data"
    }
   ],
   "source": [
    "l0=[random.betavariate(0.5,1) for i in range(100000)]\n",
    "l1=[random.betavariate(2,3) for i in range(100000)]\n",
    "l2=[random.betavariate(3,4) for i in range(100000)]\n",
    "l3=[random.betavariate(2,5) for i in range(100000)]\n",
    "\n",
    "r0=[len([1 for j in l0 if i+0.005>j>i-0.005]) \n",
    "    for i in map(lambda x:round(x*0.01,3),range(0,100,1))]\n",
    "r1=[len([1 for j in l1 if i+0.005>j>i-0.005]) \n",
    "    for i in map(lambda x:round(x*0.01,3),range(0,100,1))]\n",
    "r2=[len([1 for j in l2 if i+0.005>j>i-0.005]) \n",
    "    for i in map(lambda x:round(x*0.01,3),range(0,100,1))]\n",
    "r3=[len([1 for j in l3 if i+0.005>j>i-0.005]) \n",
    "    for i in map(lambda x:round(x*0.01,3),range(0,100,1))]\n",
    "\n",
    "plt.plot(list(map(lambda x:round(x*0.01,3),\n",
    "                  range(0,100,1))),r0,color=\"red\")\n",
    "plt.plot(list(map(lambda x:round(x*0.01,3),\n",
    "                  range(0,100,1))),r1,color=\"blue\")\n",
    "plt.plot(list(map(lambda x:round(x*0.01,3),\n",
    "                  range(0,100,1))),r2,color=\"green\")\n",
    "plt.plot(list(map(lambda x:round(x*0.01,3),\n",
    "                  range(0,100,1))),r3,color=\"yellow\")\n",
    "plt.show()"
   ]
  },
  {
   "cell_type": "markdown",
   "metadata": {},
   "source": [
    "+ **指数分布**\n",
    "\n",
    "概率密度函数:\n",
    "\n",
    "指数分布可以用来表示独立随机事件发生的时间间隔，比如旅客进机场的时间间隔、中文维基百科新条目出现的时间间隔等等。\n",
    "许多电子产品的寿命分布一般服从指数分布。有的系统的寿命分布也可用指数分布来近似。它在可靠性研究中是最常用的一种分布形式。指数分布是伽玛分布和威布尔分布的特殊情况，产品的失效是偶然失效时，其寿命服从指数分布。\n",
    "指数分布可以看作当威布尔分布中的形状系数等于1的特殊分布，指数分布的失效率是与时间t无关的常数，所以分布函数简单。\n",
    "\n",
    "概率密度函数:\n",
    "\n",
    "$$\n",
    "f(x)=\\begin{cases}\n",
    "    \\lambda e^{-\\lambda x}&x>0,\\\\\n",
    "    0&x\\le0.\n",
    "\\end{cases} \n",
    "$$\n",
    "累积分布函数:\n",
    "\n",
    "$$\n",
    "F(x;\\lambda)=\\begin{cases}\n",
    "    1- e^{-\\lambda x}&x\\ge0,\\\\\n",
    "    0&x<0.\n",
    "\\end{cases} \n",
    "$$\n",
    "\n",
    "期望值:\n",
    "\n",
    "$$ EX=\\lambda^{-1} $$\n",
    "\n",
    "方差:\n",
    "$$D(X)=Var(X)=\\lambda ^{-2}$$\n",
    "\n",
    "```python\n",
    "random.expovariate(lambd)\n",
    "```"
   ]
  },
  {
   "cell_type": "code",
   "execution_count": 19,
   "metadata": {},
   "outputs": [
    {
     "data": {
      "text/plain": [
       "0.00044025063564512545"
      ]
     },
     "execution_count": 19,
     "metadata": {},
     "output_type": "execute_result"
    }
   ],
   "source": [
    "random.expovariate(3)"
   ]
  },
  {
   "cell_type": "code",
   "execution_count": 20,
   "metadata": {},
   "outputs": [
    {
     "data": {
      "image/png": "[encoded data removed]",
      "text/plain": [
       "<Figure size 432x288 with 1 Axes>"
      ]
     },
     "metadata": {
      "needs_background": "light"
     },
     "output_type": "display_data"
    }
   ],
   "source": [
    "c_e3 = Counter()\n",
    "for nbr in [round(random.expovariate(3),2 )\n",
    "            for i in range(10000)]:\n",
    "    c_e3[nbr] = c_e3[nbr] + 1\n",
    "plt.plot([float(i) for i in c_e3.keys()],\n",
    "         [float(i) for i in c_e3.values()],\".\")\n",
    "plt.show()"
   ]
  },
  {
   "cell_type": "markdown",
   "metadata": {},
   "source": [
    "+ **伽玛分布**\n",
    "\n",
    "概率密度函数:\n",
    "\n",
    "令  $$X\\sim  \\Gamma(\\alpha,\\beta)$$ ;\n",
    "则有:\n",
    "$$\n",
    "f(x)={\\frac {x^{(\\alpha-1)} e^{(-\\lambda x)}} {\\Gamma(\\alpha)\\beta^\\alpha}} ,x>0\n",
    "$$\n",
    "    \n",
    "```python\n",
    "random.gammavariate(alpha, beta)\n",
    "```"
   ]
  },
  {
   "cell_type": "code",
   "execution_count": 21,
   "metadata": {},
   "outputs": [
    {
     "data": {
      "image/png": "[encoded data removed]",
      "text/plain": [
       "<Figure size 432x288 with 1 Axes>"
      ]
     },
     "metadata": {
      "needs_background": "light"
     },
     "output_type": "display_data"
    }
   ],
   "source": [
    "c_gamma = Counter()\n",
    "for nbr in [round(random.gammavariate(5,0.5),2 )\n",
    "            for i in range(10000)]:\n",
    "    c_gamma [nbr] = c_gamma [nbr] + 1\n",
    "plt.plot([float(i) for i in c_gamma.keys()],\n",
    "         [float(i) for i in c_gamma.values()],\".\")\n",
    "plt.show()"
   ]
  },
  {
   "cell_type": "markdown",
   "metadata": {},
   "source": [
    "+ **高斯分布(正态分布)**\n",
    "\n",
    "概率密度函数:\n",
    "\n",
    "$$\n",
    "f(x)={\\frac 1 {\\sqrt {2\\pi}\\sigma}} e^{-{\\frac {(x-\\mu)^2} {2\\sigma^2}}}\n",
    "$$\n",
    "其中 $$\\mu$$ 与 $$\\sigma$$ 分别是变量对数的平均值与标准差\n",
    "\n",
    "```python\n",
    "random.gauss(mu, sigma)#略快于下面的方法\n",
    "\n",
    "random.normalvariate(mu, sigma)\n",
    "```"
   ]
  },
  {
   "cell_type": "code",
   "execution_count": 22,
   "metadata": {},
   "outputs": [
    {
     "data": {
      "image/png": "[encoded data removed]",
      "text/plain": [
       "<Figure size 432x288 with 1 Axes>"
      ]
     },
     "metadata": {
      "needs_background": "light"
     },
     "output_type": "display_data"
    }
   ],
   "source": [
    "c_gauss = Counter()\n",
    "for nbr in [round(random.gauss(0,1),2 )\n",
    "            for i in range(10000)]:\n",
    "    c_gauss[nbr] = c_gauss[nbr] + 1\n",
    "plt.plot([float(i) for i in c_gauss.keys()],\n",
    "         [float(i) for i in c_gauss.values()],\".\")\n",
    "plt.show()"
   ]
  },
  {
   "cell_type": "markdown",
   "metadata": {},
   "source": [
    "+ **对数正态分布**\n",
    "\n",
    "如果 X 是正态分布的随机变量，则 exp(X) 为对数正态分布；同样，如果 Y 是对数正态分布，则 ln(Y) 为正态分布。 如果一个变量可以看作是许多很小独立因子的乘积，则这个变量可以看作是对数正态分布。\n",
    "\n",
    "概率密度函数:\n",
    "$$\n",
    "f(x;\\mu,\\sigma) = \\frac{1}{ \\sigma \\sqrt{2 \\pi}} e^{-(\\ln x - \\mu)^2/2\\sigma^2}\n",
    "$$\n",
    "\n",
    "其中 $$\\mu$$ 与 $$\\sigma$$ 分别是变量对数的平均值与标准差\n",
    "\n",
    "```python\n",
    "random.lognormvariate(mu, sigma)\n",
    "```"
   ]
  },
  {
   "cell_type": "code",
   "execution_count": 23,
   "metadata": {},
   "outputs": [
    {
     "data": {
      "image/png": "[encoded data removed]",
      "text/plain": [
       "<Figure size 432x288 with 1 Axes>"
      ]
     },
     "metadata": {
      "needs_background": "light"
     },
     "output_type": "display_data"
    }
   ],
   "source": [
    "c_log = Counter()\n",
    "for nbr in [round(random.lognormvariate(0.5,0.5),2 )\n",
    "            for i in range(10000)]:\n",
    "    c_log[nbr] = c_log[nbr] + 1\n",
    "plt.plot([float(i) for i in c_log.keys()],[float(i) \n",
    "                                           for i in c_log.values()],\".\")\n",
    "plt.show()"
   ]
  },
  {
   "cell_type": "markdown",
   "metadata": {},
   "source": [
    "+ **冯·米塞斯分布**\n",
    "\n",
    "冯·米塞斯分布（von Mises distribution）指一种圆上连续概率分布模型，它也被称作循环正态分布\n",
    "\n",
    "概率密度函数:\n",
    "$$\n",
    "f(x|\\mu,\\kappa)=\\frac{e^{\\kappa\\cos(x-\\mu)}}{2\\pi I_0(\\kappa)}\n",
    "$$\n",
    "\n",
    "参数μ和1/κ是μ和σ^2（对应正态分布中的均值和方差）的模拟量\n",
    "+ μ是位置的度量（分布将围绕μ成簇）\n",
    "+ κ是集中度的度量（分散度的倒数，所以1/κ是σ^2的模拟量）\n",
    "+ + 如果κ为0，分布是均匀分布，对于κ很小的情形，分布近似均匀分布\n",
    "+ + 如果κ很大，分布紧紧围绕μ集中分布。实际上，随着κ增加，分布将趋于x以μ为均值1/κ为方差的正态分布\n",
    "\n",
    "\n",
    "```python\n",
    "random.vonmisesvariate(mu, kappa)\n",
    "```"
   ]
  },
  {
   "cell_type": "code",
   "execution_count": 24,
   "metadata": {},
   "outputs": [
    {
     "data": {
      "image/png": "[encoded data removed]",
      "text/plain": [
       "<Figure size 432x288 with 1 Axes>"
      ]
     },
     "metadata": {
      "needs_background": "light"
     },
     "output_type": "display_data"
    }
   ],
   "source": [
    "c_von = Counter()\n",
    "for nbr in [round(random.vonmisesvariate(10,1),2 )\n",
    "            for i in range(10000)]:\n",
    "    c_von[nbr] = c_von[nbr] + 1\n",
    "plt.plot([float(i) for i in c_von.keys()], \n",
    "         [float(i) for i in c_von.values()],\".\")\n",
    "plt.show()"
   ]
  },
  {
   "cell_type": "markdown",
   "metadata": {},
   "source": [
    "+ **帕累托分布**\n",
    "\n",
    "帕累托法则(2,8定律)\n",
    "帕累托分布是以意大利经济学家维弗雷多·帕雷托命名的。 是从大量真实世界的现象中发现的幂定律分布。这个分布在经济学以外，也被称为布拉德福分布。\n",
    "\n",
    "概率密度函数:\n",
    "$$\n",
    "p(x) = \\left \\{ \\begin{matrix} 0, & x < x_{\\min}; \\\\  \\\\ {\\frac{k \\; x_{\\min}^k} {x^{k+1}}}, &x > x_{\\min}. \\end{matrix} \\right.\n",
    "$$\n",
    "\n",
    "k是形状参数(shape parameter)\n",
    "\n",
    "```python\n",
    "random.paretovariate(k)\n",
    "```"
   ]
  },
  {
   "cell_type": "code",
   "execution_count": 25,
   "metadata": {},
   "outputs": [
    {
     "data": {
      "image/png": "[encoded data removed]",
      "text/plain": [
       "<Figure size 432x288 with 1 Axes>"
      ]
     },
     "metadata": {
      "needs_background": "light"
     },
     "output_type": "display_data"
    }
   ],
   "source": [
    "c_par = Counter()\n",
    "for nbr in [round(random.paretovariate(10),2 )\n",
    "            for i in range(10000)]:\n",
    "    c_par[nbr] = c_par[nbr] + 1\n",
    "plt.plot([float(i) for i in c_par.keys()],\n",
    "         [float(i) for i in c_par.values()],\".\")\n",
    "plt.show()"
   ]
  },
  {
   "cell_type": "markdown",
   "metadata": {},
   "source": [
    "+ **韦伯分布**\n",
    "\n",
    "韦伯分布（Weibull distribution），又称韦氏分布或威布尔分布，是可靠性分析和寿命检验的理论基础。\n",
    "\n",
    "概率密度函数:\n",
    "\n",
    "$$\n",
    "f(x;\\lambda,k) =  \\begin{cases}\n",
    "\\frac{k}{\\lambda}\\left(\\frac{x}{\\lambda}\\right)^{k-1}e^{-(x/\\lambda)^{k}} & x\\geq0\\\\\n",
    "0 & x<0\\end{cases}\n",
    "$$\n",
    "\n",
    "λ＞0是比例参数（scale parameter），k＞0是形状参数（shape parameter）\n",
    "```python\n",
    "random.weibullvariate(lambda, k)\n",
    "```"
   ]
  },
  {
   "cell_type": "code",
   "execution_count": 26,
   "metadata": {},
   "outputs": [
    {
     "data": {
      "image/png": "[encoded data removed]",
      "text/plain": [
       "<Figure size 432x288 with 1 Axes>"
      ]
     },
     "metadata": {
      "needs_background": "light"
     },
     "output_type": "display_data"
    }
   ],
   "source": [
    "c_wei = Counter()\n",
    "for nbr in [round(random.weibullvariate(2,1),2 ) \n",
    "            for i in range(10000)]:\n",
    "    c_wei[nbr] = c_wei[nbr] + 1\n",
    "plt.plot([float(i) for i in c_wei.keys()], \n",
    "         [float(i) for i in c_wei.values()],\".\")\n",
    "plt.show()"
   ]
  }
 ],
 "metadata": {
  "kernelspec": {
   "display_name": "Python 3 (ipykernel)",
   "language": "python",
   "name": "python3"
  },
  "language_info": {
   "codemirror_mode": {
    "name": "ipython",
    "version": 3
   },
   "file_extension": ".py",
   "mimetype": "text/x-python",
   "name": "python",
   "nbconvert_exporter": "python",
   "pygments_lexer": "ipython3",
   "version": "3.10.11"
  }
 },
 "nbformat": 4,
 "nbformat_minor": 4
}
