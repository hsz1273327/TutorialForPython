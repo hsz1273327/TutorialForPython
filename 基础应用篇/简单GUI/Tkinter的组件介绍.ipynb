{
 "cells": [
  {
   "cell_type": "markdown",
   "metadata": {
    "collapsed": true
   },
   "source": [
    "# Tkinter的标准组件介绍\n",
    "\n",
    "上文中我们已经罗列过tk支持的所有组件,本文将详细介绍这些组件和常用的组合方式.\n",
    "\n",
    "\n",
    "控件名类型|意义\n",
    "---|---\n",
    "Toplevel|顶层框架\n",
    "Frame|框架\n",
    "LabelFrame|标签框架\n",
    "Menu|菜单栏\n",
    "Menubutton|菜单按钮\n",
    "OptionMenu|弹出菜单\n",
    "Label|标签\n",
    "Button|按钮\n",
    "Entry|输入框\n",
    "Radiobutton|单选框\n",
    "Checkbutton|复选框\n",
    "Scale|滑块\n",
    "Text|文本框\n",
    "Canvas|画板\n",
    "Listbox|列表框\n",
    "Message|信息栏\n",
    "PanedWindow|中分栏窗口\n",
    "Scrollbar|滚动条\n",
    "Spinbox|指定输入范围值的输入框\n",
    "Combobox|组合框,包含文本字段和一个包含可选值的下拉列表\n",
    "Notebook|标签页,形式参见chrome中的标签页\n",
    "Progressbar|进度条\n",
    "Separator|分离器,显示一个水平或垂直分隔条\n",
    "Sizegrip|控制TopLevel的窗口大小\n",
    "Treeview|TreeView控件显示一个项目的树状分层集合\n",
    "\n",
    "本文只是略微介绍标准库的组件,让大家对各个组件有个映像,对应接口还是要去<http://effbot.org/tkinterbook/>查看"
   ]
  },
  {
   "cell_type": "markdown",
   "metadata": {},
   "source": [
    "## 窗口的构建,Toplevel和常用操作\n",
    "\n",
    "\n",
    "使用`tkinter`中窗口是一个隐含的对象,最低一层实际上是toplevel.构建窗口就是实例化一个`Tk`对象,一个`Tk`对象,一个`Tk`对象会实例化一个`Toplevel`控件,也就是一个包含窗口的帧.\n",
    "\n",
    "`Tk`实例可以有如下常用的属性和方法\n",
    "\n",
    "+ title(str) 窗口的标题\n",
    "\n",
    "+ iconbitmap(path_str) 设置窗口的标题图标\n",
    "\n",
    "+ geometry 定义窗口的长宽和出现位置,单位是像素,使用形如`\"600x400+100+400\"`的字符串设定表示长x宽+左上角x像素位+左上角y像素位\n",
    "\n",
    "+ wm_maxsize(width=800, height=600) 设置窗口最大长宽值\n",
    "+ wm_minsize(width=400, height=300) 设置窗口最小长宽值\n",
    "+ mainloop() 主循环,执行则相当于启动窗口\n",
    "    \n",
    "+ attributes()设置window,这个参数的调用方式略奇葩,使用的是形如`attributes('-alpha',0.5)`的键值对式的格式,可选的参数包括\n",
    "\n",
    "字段|平台|意义\n",
    "---|---|---\n",
    "`alpha`|win,mac|透明度,范围是0~1之间,0代表完全透明年\n",
    "`disabled`|win|如果设置,则禁用这个窗口\n",
    "`modified`|mac|标记窗口为已修改\n",
    "`titlepath`|mac|窗口代理图标的路径\n",
    "`toolwindow`|win|设置窗口样式为工具窗口\n",
    "`topmost`|win|设置窗口总是在其他窗口前\n",
    "\n",
    "+ configure() 设置`Toplevel`控件,可以设置的内容主要包括\n",
    "\n",
    "字段|意义\n",
    "---|---\n",
    "`bd/borderwidth`|边框宽,默认是`o`\n",
    "`menu`|设置菜单`Menu`对象\n",
    "`relief`|边框样式,可选的`FLAT,SUNKEN,RAISED,GROOVE,RIDGE`默认为`FLAT`\n",
    "`background/bg`|背景色,可以是[这里](http://www.tcl.tk/man/tcl8.5/TkCmd/colors.htm)定义的字符串,也可以是`#FFFFFF`这样的RGB\n",
    "`colormap`|设置需要是`Colormap`的实例,\n",
    "`container`|设置需要是`Container`的实例\n",
    "`cursor`|鼠标光标在其中的位置\n",
    "`height`|高度\n",
    "`width`|宽度\n",
    "`highlightbackground`|要高亮的背景色\n",
    "`highlightcolor`|要高亮的颜色\n",
    "`highlightthickness`|高亮的宽度\n",
    "`padx`|水平padding\n",
    "`pady`|垂直padding\n",
    "`takefocus`|指示用户可以使用tab键移动到这个部件\n",
    "\n",
    "\n",
    "\n",
    "![](source/first_toplevel.png)"
   ]
  },
  {
   "cell_type": "code",
   "execution_count": 1,
   "metadata": {},
   "outputs": [
    {
     "name": "stdout",
     "output_type": "stream",
     "text": [
      "Overwriting src/first_toplevel.py\n"
     ]
    }
   ],
   "source": [
    "%%writefile src/first_toplevel.py\n",
    "from tkinter import Tk\n",
    "\n",
    "win = Tk()\n",
    "win.title(\"first window\")\n",
    "win.iconbitmap(r\"C:\\Users\\87\\Documents\\GitHub\\my\\TutorialForPython\\ipynbs\\人机交互\\GUI\\src\\myredis.ico\")\n",
    "win.geometry(\"600x400+100+400\")\n",
    "win.configure(background=\"Blue\")\n",
    "win.attributes('-alpha',0.5)\n",
    "win.mainloop()"
   ]
  },
  {
   "cell_type": "code",
   "execution_count": 2,
   "metadata": {
    "collapsed": true
   },
   "outputs": [],
   "source": [
    "%exec_py src/first_toplevel.py"
   ]
  },
  {
   "cell_type": "markdown",
   "metadata": {},
   "source": [
    "通常我们并不会直接实例化`Tk()`来显示地创建窗口,而是通过继承的方式来构建应用."
   ]
  },
  {
   "cell_type": "markdown",
   "metadata": {},
   "source": [
    "### 多窗口\n",
    "\n",
    "像gimp这种工具,一起动就是几个窗口各司其职,这种就需要利用toplevel构造多窗口了.\n",
    "\n",
    "虽然是构造了多个窗口,但主循环还是只执行主窗口的.其他窗口则更多的是作为辅助.\n",
    "\n",
    "![](source/toplevel.png)"
   ]
  },
  {
   "cell_type": "code",
   "execution_count": 3,
   "metadata": {},
   "outputs": [
    {
     "name": "stdout",
     "output_type": "stream",
     "text": [
      "Overwriting src/toplevel.py\n"
     ]
    }
   ],
   "source": [
    "%%writefile src/toplevel.py\n",
    "from tkinter import Frame,Label,Button,Toplevel\n",
    "\n",
    "    \n",
    "class Application(Frame):\n",
    "    def __init__(self, master=None):\n",
    "        Frame.__init__(self, master)\n",
    "        #窗口大小位置\n",
    "        self.pack()\n",
    "        self.createWidgets()\n",
    "\n",
    "    def createWidgets(self):\n",
    "        self.helloLabel = Label(self, text='Hello, world1!')\n",
    "\n",
    "        self.helloLabel.pack()\n",
    "class App2(Toplevel):\n",
    "    def __init__(self, master=None):\n",
    "        Toplevel.__init__(self, master)\n",
    "        self.createWidgets()\n",
    "\n",
    "    def createWidgets(self):\n",
    "        self.helloLabel = Label(self, text='Hello, world2!')\n",
    "        self.helloLabel.pack()\n",
    "\n",
    "if __name__ ==\"__main__\":\n",
    "    app1 = Application()\n",
    "    # 设置窗口标题:\n",
    "    app1.master.title('Hello World1')\n",
    "    app1.master.geometry(\"600x400+100+400\")#长x宽+x+y\n",
    "    # 主消息循环:\n",
    "    app2 = App2()\n",
    "    app2.title(\"helloword2\")\n",
    "    app2.geometry(\"200x200+0+0\")#长x宽+x+y\n",
    "    app1.mainloop()"
   ]
  },
  {
   "cell_type": "code",
   "execution_count": 5,
   "metadata": {
    "collapsed": true
   },
   "outputs": [],
   "source": [
    "%exec_py src/toplevel.py"
   ]
  },
  {
   "cell_type": "markdown",
   "metadata": {},
   "source": [
    "## 框架的构建和常用操作\n",
    "\n",
    "tk中的帧有两种:\n",
    "\n",
    "+ Frame\n",
    "\n",
    "    最基本的框架\n",
    "    \n",
    "+ LabelFrame\n",
    "\n",
    "    基本的框架的变体,它在它的子窗口周围绘制一个边框，并且它也可以显示标题\n",
    "    \n",
    "    \n",
    "    \n",
    "而ttk中也有`Frame`对象.\n",
    "\n",
    "框架可以设置的内容包括\n",
    "\n",
    "字段|意义\n",
    "---|---\n",
    "background/bg|背景色\n",
    "bd/borderwidth|边框宽,默认是o\n",
    "colormap|调色板,设置需要是Colormap的实例,\n",
    "container|设置需要是Container的实例\n",
    "cursor|鼠标光标在其中的位置\n",
    "highlightbackground|要高亮的背景色\n",
    "highlightcolor|要高亮的颜色\n",
    "highlightthickness|高亮的宽度\n",
    "padx|水平padding\n",
    "pady|垂直padding\n",
    "relief|边框样式,可选的FLAT,SUNKEN,RAISED,GROOVE,RIDGE默认为FLAT\n",
    "takefocus|指示用户可以使用tab键移动到这个部件\n",
    "height|高度\n",
    "width|宽度\n",
    "\n",
    "\n",
    "\n",
    "Frame对象实例化需要传入一个`master`参数,这`master`可以是`None`或者一个它的父组件(通常是一个`Toplevel`对象).如果是空它则会自己实例化一个`Toplevel`作为其父组件.访问这个父组件可以使用`frame.master`.\n",
    "\n",
    "通常我们的app主体会继承一个`Frame`并以其为基本容器构建应用."
   ]
  },
  {
   "cell_type": "markdown",
   "metadata": {},
   "source": [
    "### 框架的例子\n",
    "\n",
    "我们来自己写个例子,体会下框架的用法.\n",
    "\n",
    "![](source/firstGUI.png)"
   ]
  },
  {
   "cell_type": "code",
   "execution_count": 6,
   "metadata": {},
   "outputs": [
    {
     "name": "stdout",
     "output_type": "stream",
     "text": [
      "Overwriting src/firstGUI.py\n"
     ]
    }
   ],
   "source": [
    "%%writefile src/firstGUI.py\n",
    "\n",
    "#coding:utf-8\n",
    "from tkinter import Frame,Label,Button\n",
    "\n",
    "\n",
    "class Application(Frame):\n",
    "    def __init__(self, master=None):\n",
    "        super().__init__(master)\n",
    "        #窗口大小位置\n",
    "        self.master.geometry(\"600x400+100+400\")#长x宽+x+y\n",
    "        self.pack()\n",
    "        self.createWidgets()\n",
    "\n",
    "    def createWidgets(self):\n",
    "        self.helloLabel = Label(self, text='Hello, world!')\n",
    "    \n",
    "        self.helloLabel.pack()\n",
    "        self.quitButton = Button(self, text='Quit',fg=\"red\", command=self.quit)\n",
    "        self.quitButton.pack()\n",
    "\n",
    "if __name__ ==\"__main__\":\n",
    "    app = Application()\n",
    "    # 设置窗口标题:\n",
    "    app.master.title('Hello World')\n",
    "\n",
    "    app.master.geometry(\"600x400+100+400\")#长x宽+x+y\n",
    "    # 主消息循环:\n",
    "    app.mainloop()"
   ]
  },
  {
   "cell_type": "code",
   "execution_count": 7,
   "metadata": {
    "collapsed": true
   },
   "outputs": [],
   "source": [
    "%exec_py src/firstGUI.py"
   ]
  },
  {
   "cell_type": "markdown",
   "metadata": {},
   "source": [
    "运行后出现如图小对话框\n",
    "\n",
    "![]()\n",
    "\n",
    "\n",
    "可以看出,应用类继承自Frame基类\n",
    "\n",
    "每个Button、Label、输入框等，都是一个Widget.Frame则是可以容纳其他Widget的Widget,所有的Widget组合起来就是一棵树.\n",
    "\n",
    "`pack()`方法把Widget加入到父容器中,并实现布局.`pack()`是最简单的布局,`grid()`可以实现更复杂的布局.\n",
    "\n",
    "在`createWidgets()`方法中，我们创建一个`Label`和一个`Button`,当`Button`被点击时，触发`self.quit()`使程序退出"
   ]
  },
  {
   "cell_type": "markdown",
   "metadata": {},
   "source": [
    "### ttk中的框架\n",
    "\n",
    "使用ttk中的框架和在tk中差别不大\n",
    "\n",
    "![](source/ttk_frame.png)"
   ]
  },
  {
   "cell_type": "code",
   "execution_count": 17,
   "metadata": {},
   "outputs": [
    {
     "name": "stdout",
     "output_type": "stream",
     "text": [
      "Overwriting src/ttk_frame.py\n"
     ]
    }
   ],
   "source": [
    "%%writefile src/ttk_frame.py\n",
    "\n",
    "#coding:utf-8\n",
    "from tkinter.ttk import Frame,Label,Button,Style\n",
    "\n",
    "style = Style()\n",
    "style.configure(\"RW.TLabel\", foreground=\"red\", background=\"white\")\n",
    "\n",
    "class Application(Frame):\n",
    "    def __init__(self, master=None):\n",
    "        super().__init__(master)\n",
    "        #窗口大小位置\n",
    "        self.master.geometry(\"600x400+100+400\")#长x宽+x+y\n",
    "        self.pack()\n",
    "        self.createWidgets()\n",
    "\n",
    "    def createWidgets(self):\n",
    "        self.helloLabel = Label(self, text='Hello, world!')\n",
    "    \n",
    "        self.helloLabel.pack()\n",
    "        self.quitButton = Button(self,text='Quit',style=\"RW.TLabel\",command=self.quit)\n",
    "        self.quitButton.pack()\n",
    "\n",
    "if __name__ ==\"__main__\":\n",
    "    app = Application()\n",
    "    # 设置窗口标题:\n",
    "    app.master.title('Hello World')\n",
    "\n",
    "    app.master.geometry(\"600x400+100+400\")#长x宽+x+y\n",
    "    # 主消息循环:\n",
    "    app.mainloop()"
   ]
  },
  {
   "cell_type": "code",
   "execution_count": 8,
   "metadata": {
    "collapsed": true
   },
   "outputs": [],
   "source": [
    "%exec_py src/ttk_frame.py"
   ]
  },
  {
   "cell_type": "markdown",
   "metadata": {},
   "source": [
    "### LabelFrame\n",
    "\n",
    "labelFrame是frame的子类,区别在于这个的意思似乎更加接近`框架`它提供的是一个有边界的框,并且这个框可以使用`text`设置付名,其他额外的设置还有:\n",
    "\n",
    "字段|意义\n",
    "---|---\n",
    "background/bg|背景色\n",
    "bd/borderwidth|边框宽,默认是o\n",
    "colormap|调色板,设置需要是Colormap的实例,\n",
    "container|设置需要是Container的实例\n",
    "cursor|鼠标光标在其中的位置\n",
    "highlightbackground|要高亮的背景色\n",
    "highlightcolor|要高亮的颜色\n",
    "highlightthickness|高亮的宽度\n",
    "padx|水平padding\n",
    "pady|垂直padding\n",
    "relief|边框样式,可选的FLAT,SUNKEN,RAISED,GROOVE,RIDGE默认为FLAT\n",
    "takefocus|指示用户可以使用tab键移动到这个部件\n",
    "height|高度\n",
    "width|宽度\n",
    "foreground/fg|前景\n",
    "font|字体\n",
    "labelanchor|标签位置(e:右侧横置,en:右测偏上横置,es:右测偏下横置,n:,ne,nw,s,se,sw,w,wn,ws)\n",
    "labelwidget|标签使用的组件,如果省略,框架使用`Text`文本组件\n",
    "text|标签文本\n",
    "\n",
    "labelanchor可选的参数为:\n",
    "\n",
    "标志|说明\n",
    "---|---\n",
    "e|右侧\n",
    "en|右侧偏上\n",
    "es|右侧偏下\n",
    "n|顶部\n",
    "ne|顶部偏右\n",
    "nw|顶部偏左\n",
    "s|下侧\n",
    "se|下侧偏右\n",
    "sw|下侧偏左\n",
    "w|左侧\n",
    "wn|左侧偏上\n",
    "ws|左侧偏下\n",
    "\n",
    "文本要竖排只能通过插入回车了\n",
    "\n",
    "![](source/tklf.png)"
   ]
  },
  {
   "cell_type": "code",
   "execution_count": 31,
   "metadata": {},
   "outputs": [
    {
     "name": "stdout",
     "output_type": "stream",
     "text": [
      "Overwriting src/tklf.py\n"
     ]
    }
   ],
   "source": [
    "%%writefile src/tklf.py\n",
    "\n",
    "#coding:utf-8\n",
    "from tkinter import LabelFrame,Label,Button\n",
    "\n",
    "\n",
    "class Application(LabelFrame):\n",
    "    def __init__(self, master=None):\n",
    "        super().__init__(master)\n",
    "        #窗口大小位置\n",
    "        self.master.geometry(\"600x400+100+400\")#长x宽+x+y\n",
    "        self.pack()\n",
    "        self.createWidgets()\n",
    "        self.config(text=\"test_text\",labelanchor=\"w\")\n",
    "\n",
    "    def createWidgets(self):\n",
    "        self.helloLabel = Label(self, text='Hello, world!')\n",
    "    \n",
    "        self.helloLabel.pack()\n",
    "        self.quitButton = Button(self, text='Quit',fg=\"red\", command=self.quit)\n",
    "        self.quitButton.pack()\n",
    "\n",
    "if __name__ ==\"__main__\":\n",
    "    app = Application()\n",
    "    # 设置窗口标题:\n",
    "    app.master.title('Hello World')\n",
    "\n",
    "    app.master.geometry(\"600x400+100+400\")#长x宽+x+y\n",
    "    # 主消息循环:\n",
    "    app.mainloop()"
   ]
  },
  {
   "cell_type": "code",
   "execution_count": 68,
   "metadata": {
    "collapsed": true
   },
   "outputs": [],
   "source": [
    "%exec_py src/tklf.py"
   ]
  },
  {
   "cell_type": "markdown",
   "metadata": {},
   "source": [
    "#### **ttk中的labelframe**\n",
    "\n",
    "在ttk中labelframe的设置方式略有改变\n",
    "\n",
    "![](source/ttklf.png)"
   ]
  },
  {
   "cell_type": "code",
   "execution_count": 39,
   "metadata": {},
   "outputs": [
    {
     "name": "stdout",
     "output_type": "stream",
     "text": [
      "Overwriting src/ttklf.py\n"
     ]
    }
   ],
   "source": [
    "%%writefile src/ttklf.py\n",
    "\n",
    "#coding:utf-8\n",
    "from tkinter.ttk import LabelFrame,Label,Button,Style\n",
    "\n",
    "style = Style()\n",
    "style.configure(\"RW.TLabel\", foreground=\"red\", background=\"white\")\n",
    "\n",
    "class Application(LabelFrame):\n",
    "    def __init__(self, master=None):\n",
    "        super().__init__(master)\n",
    "        #窗口大小位置\n",
    "        self.master.geometry(\"600x400+100+400\")#长x宽+x+y\n",
    "        self.pack()\n",
    "        self.createWidgets()\n",
    "        self.config(text=\"test_text\",labelanchor=\"w\")\n",
    "\n",
    "    def createWidgets(self):\n",
    "        self.helloLabel = Label(self, text='Hello, world!')\n",
    "    \n",
    "        self.helloLabel.pack()\n",
    "        self.quitButton = Button(self,text='Quit',style=\"RW.TLabel\",command=self.quit)\n",
    "        self.quitButton.pack()\n",
    "\n",
    "if __name__ ==\"__main__\":\n",
    "    app = Application()\n",
    "    # 设置窗口标题:\n",
    "    app.master.title('Hello World')\n",
    "\n",
    "    app.master.geometry(\"600x400+100+400\")#长x宽+x+y\n",
    "    # 主消息循环:\n",
    "    app.mainloop()"
   ]
  },
  {
   "cell_type": "code",
   "execution_count": 67,
   "metadata": {
    "collapsed": true
   },
   "outputs": [],
   "source": [
    "%exec_py src/ttklf.py"
   ]
  },
  {
   "cell_type": "markdown",
   "metadata": {},
   "source": [
    "## 菜单 Menu\n",
    "\n",
    "Menu 和其他的组件一样,第一个是 parent,这里通常都是TopLevel,同时还需要给`win`对象设置`menu`.\n",
    "\n",
    "然后我们可以用`add(type, **options)`或者`addxxxx`接口为其添加组件.支持的菜单类型有:\n",
    "\n",
    "+ 菜单命令`commmand`\n",
    "+ 子菜单`cascade`\n",
    "+ 分割线`separator`\n",
    "+ 复选菜单`checkbutton`\n",
    "+ 单选菜单`radiobutton`\n",
    "\n",
    "`options`则是对各个项进行的设置,包括\n",
    "\n",
    "字段|意义\n",
    "---|---\n",
    "activebackground|激活状态的背景色\n",
    "activeforeground|激活状态的前景色\n",
    "accelerator|指定快捷键\n",
    "background|背景色\n",
    "bitmap|位图\n",
    "columnbreak|分栏符\n",
    "command|选中后执行的回调\n",
    "font|字体\n",
    "foreground|前景色\n",
    "hidemargin|隐藏边缘\n",
    "image|图片\n",
    "indicatoron|指示器开启\n",
    "label|标签\n",
    "menu|菜单对象\n",
    "offvalue|off状态下的值\n",
    "onvalue|on状态下的值\n",
    "selectcolor|选中后的颜色\n",
    "selectimage|选中后的图片\n",
    "state|状态\n",
    "underline|下划线\n",
    "value|值\n",
    "variable|变量\n",
    "\n",
    "\n",
    "这些设置可以在添加是加上,也可以使用`entryconfig(index, **options)`接口后设置.注意`index`是最开始设置的`label`\n",
    "\n",
    "另一个菜单相关的对象`Menubutton`现在基本已经不再使用了,因为菜单相关的都可以使用menu实现."
   ]
  },
  {
   "cell_type": "markdown",
   "metadata": {},
   "source": [
    "### 菜单命令\n",
    "\n",
    "`add_commmand`方法来为它添加菜单项.\n",
    "\n",
    "如果该菜单是顶层菜单,则添加的菜单项依次向右添加;\n",
    "如果该菜单是顶层菜单的一个子菜单项(配合`add_cascade`),则它添加的是子菜单的菜单项.\n",
    "\n",
    "`add_command`中的参数常用的有:\n",
    "\n",
    "+ label 属性,用来指定的是菜单项的名称\n",
    "+ command 属性用来指定被点击的时候调用的方法\n",
    "+ acceletor 属性指定的是快捷键 \n",
    "+ underline 属性 是是否拥有下划线。\n",
    "\n",
    "最后可以用窗口的`menu`属性指定我们使用哪一个作为它的顶层菜单.\n",
    "\n",
    "![](source/menu_command.png)"
   ]
  },
  {
   "cell_type": "code",
   "execution_count": 7,
   "metadata": {},
   "outputs": [
    {
     "name": "stdout",
     "output_type": "stream",
     "text": [
      "Overwriting src/menu_command.py\n"
     ]
    }
   ],
   "source": [
    "%%writefile src/menu_command.py\n",
    "\n",
    "from tkinter import Frame,Label,Button,Menu\n",
    "\n",
    "    \n",
    "class Application(Frame):\n",
    "    def __init__(self, master=None,):\n",
    "        Frame.__init__(self, master)\n",
    "        #窗口大小位置\n",
    "        self.pack()\n",
    "        self.createWidgets()\n",
    "        menu = self.creatMenu()\n",
    "        self.master.config(menu=menu)\n",
    "        menu.entryconfig(\"新建\",label=234)\n",
    "        help(menu)\n",
    "\n",
    "\n",
    "    def creatMenu(self):\n",
    "        #主菜单\n",
    "        menubar = Menu(self.master)\n",
    "        #子菜单\n",
    "        menufile = Menu(menubar)\n",
    "        for item in [\"新建\",\"打开\",\"保存\",\"另存为\"]:\n",
    "            menubar.add_command(label = item)\n",
    "        for item in [\"1\",\"2\",\"3\",\"4\"]:\n",
    "            menufile.add_command(label = item)\n",
    "            menufile.add_separator()\n",
    "        menubar.add_cascade(label = \"子菜单\",menu=menufile)\n",
    "        return menubar\n",
    "\n",
    "\n",
    "    def createWidgets(self):\n",
    "        self.helloLabel = Label(self, text='Hello, world!')\n",
    "        self.helloLabel[\"background\"] =\"green\"\n",
    "        self.helloLabel.pack()\n",
    "        self.quitButton = Button(self, text='Quit',fg=\"red\", command=self.quit)\n",
    "        self.quitButton.pack()\n",
    "\n",
    "\n",
    "\n",
    "\n",
    "if __name__ ==\"__main__\":\n",
    "    app = Application()\n",
    "    # 设置窗口标题:\n",
    "    app.master.title('Hello World')\n",
    "    app.master.geometry(\"600x400+100+400\")#长x宽+x+y\n",
    "    # 主消息循环:\n",
    "    app.mainloop()"
   ]
  },
  {
   "cell_type": "code",
   "execution_count": 8,
   "metadata": {
    "collapsed": true
   },
   "outputs": [],
   "source": [
    "%exec_py src/menu_command.py"
   ]
  },
  {
   "cell_type": "markdown",
   "metadata": {},
   "source": [
    "### 子菜单\n",
    "\n",
    "如果有子菜单,我们需则需要使用`add_cascade`\n",
    "\n",
    "cascade 可以理解为“级联”,即它 的作用只是为了引出后面的菜单。\n",
    "\n",
    "add_cascade属性:\n",
    "\n",
    "+ menu 属性,它指明了要把那个菜单级联到该菜单项上\n",
    "+ label 属性,用于指定该菜单项的名称。\n"
   ]
  },
  {
   "cell_type": "markdown",
   "metadata": {},
   "source": [
    "### 分割线\n",
    "\n",
    "本身没有什么功能,只是为了美观,使用`add_separator()`"
   ]
  },
  {
   "cell_type": "markdown",
   "metadata": {},
   "source": [
    "### 单选菜单和复选菜单\n",
    "\n",
    "单选菜单类型为`radiobutton`可以使用接口`add_radiobutton`;\n",
    "复选菜单类型为`checkbutton`可以使用接口`add_checkbutton`\n",
    "\n",
    "这两个的添加方式和`command`的添加方式一样,不同之处在于他们通常是作为顶层菜单的一个子菜单存在的.\n",
    "\n",
    "![](source/other_menu.png)"
   ]
  },
  {
   "cell_type": "code",
   "execution_count": 74,
   "metadata": {},
   "outputs": [
    {
     "name": "stdout",
     "output_type": "stream",
     "text": [
      "Overwriting src/menu_othercommand.py\n"
     ]
    }
   ],
   "source": [
    "%%writefile src/menu_othercommand.py\n",
    "\n",
    "from tkinter import Frame,Label,Button,Menu\n",
    "\n",
    "    \n",
    "class Application(Frame):\n",
    "    def __init__(self, master=None,):\n",
    "        Frame.__init__(self, master)\n",
    "        #窗口大小位置\n",
    "        self.pack()\n",
    "        self.createWidgets()\n",
    "        menu = self.creatMenu()\n",
    "        self.master.config(menu=menu)\n",
    "\n",
    "\n",
    "    def creatMenu(self):\n",
    "        #主菜单\n",
    "        menubar = Menu(self.master)\n",
    "        #子菜单\n",
    "        menufile = Menu(menubar)\n",
    "        #多选菜单\n",
    "        menuradio = Menu(menubar)\n",
    "        #单选菜单\n",
    "        menucheck = Menu(menubar)\n",
    "        for item in [\"1\",\"2\",\"3\",\"4\"]:\n",
    "            menufile.add_command(label = item)\n",
    "        menubar.add_cascade(label = \"子菜单\",menu=menufile)\n",
    "        for i in [\"a\",\"b\",\"c\"]:\n",
    "            menuradio.add_radiobutton(label = i)\n",
    "        menubar.add_cascade(label = \"多选菜单\",menu=menuradio)\n",
    "        for i in [\"a1\",\"b2\",\"c3\"]:\n",
    "            menucheck.add_checkbutton(label = i)\n",
    "        menubar.add_cascade(label = \"单选菜单\",menu=menucheck)\n",
    "        return menubar\n",
    "\n",
    "\n",
    "    def createWidgets(self):\n",
    "        self.helloLabel = Label(self, text='Hello, world!')\n",
    "        self.helloLabel[\"background\"] =\"green\"\n",
    "        self.helloLabel.pack()\n",
    "        self.quitButton = Button(self, text='Quit',fg=\"red\", command=self.quit)\n",
    "        self.quitButton.pack()\n",
    "\n",
    "\n",
    "\n",
    "\n",
    "if __name__ ==\"__main__\":\n",
    "    app = Application()\n",
    "    # 设置窗口标题:\n",
    "    app.master.title('Hello World')\n",
    "    app.master.geometry(\"600x400+100+400\")#长x宽+x+y\n",
    "    # 主消息循环:\n",
    "    app.mainloop()"
   ]
  },
  {
   "cell_type": "code",
   "execution_count": 80,
   "metadata": {
    "collapsed": true
   },
   "outputs": [],
   "source": [
    "%exec_py src/menu_othercommand.py"
   ]
  },
  {
   "cell_type": "markdown",
   "metadata": {},
   "source": [
    "### 右键弹出菜单\n",
    "\n",
    "一般弹出菜单是右键点击后出现的菜单,tk中的弹出菜单比较原始的,具体思路是这样:\n",
    "\n",
    "+ 我们先新建一个菜单,\n",
    "+ 然后向菜单项中添加各种功能,\n",
    "+ 最后我们监听鼠标右键消息,如果是鼠标 右键被单击,\n",
    "+ 此时可以根据需要判断下鼠标位置来确定是哪个弹出菜单被弹出,\n",
    "+ 然后使用 Menu 类的 pop 方法来弹出 菜单。\n",
    "\n",
    "Menu 类里面有一个post方法,它接收两个参数,即 x 和 y 坐标,它会在相应的位置弹出菜单\n",
    "\n",
    "例子: 一个菜单栏"
   ]
  },
  {
   "cell_type": "code",
   "execution_count": 83,
   "metadata": {},
   "outputs": [
    {
     "name": "stdout",
     "output_type": "stream",
     "text": [
      "Overwriting src/menu.py\n"
     ]
    }
   ],
   "source": [
    "%%writefile src/menu.py\n",
    "\n",
    "from tkinter import Frame,Label,Button,Menu\n",
    "\n",
    "    \n",
    "class Application(Frame):\n",
    "    def __init__(self, master=None,):\n",
    "        Frame.__init__(self, master)\n",
    "        #窗口大小位置\n",
    "        self.pack()\n",
    "        self.createWidgets()\n",
    "        menu = self.creatMenu()\n",
    "\n",
    "\n",
    "    def creatMenu(self):\n",
    "        #主菜单\n",
    "        menubar = Menu(self.master)\n",
    "        \n",
    "        #子菜单\n",
    "        menufile = Menu(menubar)\n",
    "        for item in [\"新建\",\"打开\",\"保存\",\"另存为\"]:\n",
    "            menufile.add_radiobutton(label = item)\n",
    "        \n",
    "        menuedit = Menu(menubar)\n",
    "        for item in [\"复制\",\"黏贴\",\"剪切\"]:\n",
    "            menuedit.add_checkbutton(label = item)\n",
    "        #子菜单与主菜单关联\n",
    "        for name,submenu in zip([\"文件\",\"编辑\"],[menufile,menuedit]):\n",
    "            menubar.add_cascade(label=name,menu=submenu)\n",
    "        #最关键的一步,主菜单与app关联\n",
    "        self.master.config(menu=menubar)\n",
    "        \n",
    "        \n",
    "        #右键菜单\n",
    "        menu = Menu(self.master)\n",
    "        for i in ('One', 'Two', 'Three'):\n",
    "            menu.add_command(label=i)\n",
    "        #插入分割线\n",
    "        menu.add_separator()\n",
    "\n",
    "        for i in ('1', '2', '3'):\n",
    "            menu.add_command(label=i)\n",
    "        #绑定鼠标右键呼出\n",
    "        if (self.master.tk.call('tk', 'windowingsystem')=='aqua'):\n",
    "            self.master.bind('<2>', lambda e: menu.post(e.x_root, e.y_root))\n",
    "            self.master.bind('<Control-1>', lambda e: menu.post(e.x_root, e.y_root))\n",
    "        else:\n",
    "            self.master.bind('<3>', lambda e: menu.post(e.x_root, e.y_root))\n",
    "\n",
    "\n",
    "\n",
    "    def createWidgets(self):\n",
    "        self.helloLabel = Label(self, text='Hello, world!')\n",
    "        self.helloLabel[\"background\"] =\"green\"\n",
    "        self.helloLabel.pack()\n",
    "        self.quitButton = Button(self, text='Quit',fg=\"red\", command=self.quit)\n",
    "        self.quitButton.pack()\n",
    "\n",
    "\n",
    "\n",
    "\n",
    "if __name__ ==\"__main__\":\n",
    "    app = Application()\n",
    "    # 设置窗口标题:\n",
    "    app.master.title('Hello World')\n",
    "    app.master.geometry(\"600x400+100+400\")#长x宽+x+y\n",
    "    # 主消息循环:\n",
    "    app.mainloop()"
   ]
  },
  {
   "cell_type": "code",
   "execution_count": 84,
   "metadata": {
    "collapsed": true,
    "scrolled": false
   },
   "outputs": [],
   "source": [
    "%exec_py src/menu.py"
   ]
  },
  {
   "cell_type": "markdown",
   "metadata": {},
   "source": [
    "## OptionMenu\n",
    "\n",
    "弹出菜单,通常用于点击某个对象后选择值"
   ]
  },
  {
   "cell_type": "code",
   "execution_count": 87,
   "metadata": {},
   "outputs": [
    {
     "name": "stdout",
     "output_type": "stream",
     "text": [
      "Overwriting src/option_menu.py\n"
     ]
    }
   ],
   "source": [
    "%%writefile src/option_menu.py\n",
    "from tkinter import *\n",
    "\n",
    "master = Tk()\n",
    "\n",
    "variable = StringVar(master)\n",
    "variable.set(\"one\") # default value\n",
    "\n",
    "w = OptionMenu(master, variable, \"one\", \"two\", \"three\")\n",
    "w.pack()\n",
    "\n",
    "mainloop()"
   ]
  },
  {
   "cell_type": "code",
   "execution_count": 88,
   "metadata": {
    "collapsed": true
   },
   "outputs": [],
   "source": [
    "%exec_py src/option_menu.py"
   ]
  },
  {
   "cell_type": "markdown",
   "metadata": {},
   "source": [
    "## 其他组件用法\n",
    "\n",
    "tkinter的控件上文中已有介绍,下面详细介绍各个组件的功能和设置方式."
   ]
  },
  {
   "cell_type": "markdown",
   "metadata": {},
   "source": [
    "### 标签 Label\n",
    "\n",
    "标签可以定义的属性主要有:\n",
    "\n",
    "字段|意义\n",
    "---|---\n",
    "background/bg|背景色\n",
    "bd/borderwidth|边框宽,默认是o\n",
    "colormap|调色板,设置需要是Colormap的实例,\n",
    "container|设置需要是Container的实例\n",
    "cursor|鼠标光标在其中的位置\n",
    "highlightbackground|要高亮的背景色\n",
    "highlightcolor|要高亮的颜色\n",
    "highlightthickness|高亮的宽度\n",
    "padx|水平padding\n",
    "pady|垂直padding\n",
    "relief|边框样式,可选的FLAT,SUNKEN,RAISED,GROOVE,RIDGE默认为FLAT\n",
    "takefocus|指示用户可以使用tab键移动到这个部件\n",
    "height|高度\n",
    "width|宽度\n",
    "foreground/fg|前景\n",
    "font|字体\n",
    "text|标签文本\n",
    "activebackground|激活状态的背景色\n",
    "activeforeground|激活状态的前景色\n",
    "anchor|文本的对齐位置,可选的有`N, NE, E, SE, S, SW, W, NW,CENTER`\n",
    "image|是否使用图标\n",
    "bitmap|按钮的图标\n",
    "compound|图片和文字的围绕方式,可选的有`BOTTOM, LEFT, RIGHT, TOP,CENTER`\n",
    "justify|多行文本如何排版,可选项包括`LEFT, RIGHT, CENTER`\n",
    "state|按钮状态,可选的有`NORMAL, ACTIVE, DISABLED`.默认`NORMAL`.\n",
    "textvariable|使用Tkinter variable设置按钮文本\n",
    "underline|下划线\n",
    "wraplength|确定按钮的文本应何时被包装成多行\n"
   ]
  },
  {
   "cell_type": "markdown",
   "metadata": {},
   "source": [
    "### 按钮 Button\n",
    "\n",
    "按钮算是最常用的控件之一了,它的属性主要有:\n",
    "\n",
    "\n",
    "字段|意义\n",
    "---|---\n",
    "background/bg|背景色\n",
    "bd/borderwidth|边框宽,默认是o\n",
    "colormap|调色板,设置需要是Colormap的实例,\n",
    "container|设置需要是Container的实例\n",
    "cursor|鼠标光标在其中的位置\n",
    "highlightbackground|要高亮的背景色\n",
    "highlightcolor|要高亮的颜色\n",
    "highlightthickness|高亮的宽度\n",
    "padx|水平padding\n",
    "pady|垂直padding\n",
    "relief|边框样式,可选的FLAT,SUNKEN,RAISED,GROOVE,RIDGE默认为FLAT\n",
    "takefocus|指示用户可以使用tab键移动到这个部件\n",
    "height|高度\n",
    "width|宽度\n",
    "foreground/fg|前景\n",
    "font|字体\n",
    "text|标签文本\n",
    "activebackground|激活状态的背景色\n",
    "activeforeground|激活状态的前景色\n",
    "anchor|文本的对齐位置,可选的有`N, NE, E, SE, S, SW, W, NW,CENTER`\n",
    "image|是否使用图标\n",
    "bitmap|按钮的图标\n",
    "command|点击按钮的回调函数\n",
    "compound|图片和文字的围绕方式,可选的有`BOTTOM, LEFT, RIGHT, TOP,CENTER`\n",
    "disabledforeground|无效前景色\n",
    "justify|多行文本如何排版,可选项包括`LEFT, RIGHT, CENTER`\n",
    "overrelief|鼠标移动到上面时显示的内容\n",
    "repeatdelay|重复延迟\n",
    "repeatinterval|重复间隔\n",
    "state|按钮状态,可选的有`NORMAL, ACTIVE, DISABLED`.默认`NORMAL`.\n",
    "textvariable|使用Tkinter variable设置按钮文本\n",
    "underline|下划线\n",
    "wraplength|确定按钮的文本应何时被包装成多行\n",
    "\n",
    "\n",
    "最值得注意的是`command`参数,注意它的回调函数没有参数\n"
   ]
  },
  {
   "cell_type": "markdown",
   "metadata": {},
   "source": [
    "### 输入框 Entry\n",
    "\n",
    "\n",
    "\n",
    "字段|意义\n",
    "---|---\n",
    "background/bg|背景色\n",
    "bd/borderwidth|边框宽,默认是o\n",
    "colormap|调色板,设置需要是Colormap的实例,\n",
    "container|设置需要是Container的实例\n",
    "cursor|鼠标光标在其中的位置\n",
    "highlightbackground|要高亮的背景色\n",
    "highlightcolor|要高亮的颜色\n",
    "highlightthickness|高亮的宽度\n",
    "padx|水平padding\n",
    "pady|垂直padding\n",
    "relief|边框样式,可选的FLAT,SUNKEN,RAISED,GROOVE,RIDGE默认为FLAT\n",
    "takefocus|指示用户可以使用tab键移动到这个部件\n",
    "height|高度\n",
    "width|宽度\n",
    "foreground/fg|前景\n",
    "font|字体\n",
    "text|标签文本\n",
    "justify|多行文本如何排版,可选项包括`LEFT, RIGHT, CENTER`\n",
    "state|按钮状态,可选的有`NORMAL, ACTIVE, DISABLED`.默认`NORMAL`.\n",
    "textvariable|使用Tkinter variable设置按钮文本\n",
    "wraplength|确定按钮的文本应何时被包装成多行\n",
    "disabledbackground|无效背景\n",
    "disabledforeground|无效前景\n",
    "exportselection|选中的文本是否自动保存到剪切板\n",
    "insertbackground|光标颜色\n",
    "insertborderwidth|光标边框宽度\n",
    "insertofftime|光标闪烁间隔\n",
    "insertontime|光标闪烁单次亮起的时间\n",
    "insertwidth|光标宽度\n",
    "readonlybackground|当状态为`readonly`时的背景色\n",
    "selectbackground|选中区域的背景色\n",
    "selectborderwidth|选中区域的宽度\n",
    "selectforeground|选中区域的前景色\n",
    "show|常用在密码这种,覆盖显示文本\n",
    "validate|指定validate\n",
    "vcmd/validatecommand|validate时执行的回调\n",
    "xscrollcommand|水平滚动条\n",
    "\n",
    "\n",
    "属性:\n",
    "\n",
    "+ get() 获取输入(返回一个str)\n",
    "\n",
    "例:一个用户登录界面\n",
    "\n",
    "![](source/entry.png)"
   ]
  },
  {
   "cell_type": "code",
   "execution_count": 10,
   "metadata": {},
   "outputs": [
    {
     "name": "stdout",
     "output_type": "stream",
     "text": [
      "Overwriting src/entry.py\n"
     ]
    }
   ],
   "source": [
    "%%writefile src/entry.py\n",
    "\n",
    "from tkinter import Frame,Label,Button,Entry\n",
    "\n",
    "\n",
    "class Application(Frame):\n",
    "    def __init__(self, master=None):\n",
    "        Frame.__init__(self, master)\n",
    "        self.pack()\n",
    "        self.createWidgets()\n",
    "\n",
    "    def createWidgets(self):\n",
    "        self.userLabel = Label(self, text='用户名:')\n",
    "        self.userLabel.grid(row = 0,column = 0,sticky=\"w\")\n",
    "        self.userEntry = Entry(self)\n",
    "        self.userEntry.grid(row = 0,column = 1,sticky=\"e\")\n",
    "        self.pwLabel = Label(self, text='密码:')\n",
    "        self.pwLabel.grid(row = 1,column = 0,sticky=\"w\")\n",
    "        self.pwEntry = Entry(self)\n",
    "        self.pwEntry.grid(row = 1,column = 1,sticky=\"e\")\n",
    "\n",
    "        self.enterButton = Button(self,text = \"登录\",command = self.reg)\n",
    "        self.enterButton.grid(row = 2,column = 1,sticky = \"e\")\n",
    "\n",
    "        self.logLabel = Label(self, text='')\n",
    "        self.logLabel.grid(row = 3)\n",
    "\n",
    "    def reg(self):\n",
    "        s1 = self.userEntry.get()\n",
    "        s2 = self.pwEntry.get()\n",
    "        if s1 == \"www.google.com\" and s2 == \"www.bing.com\":\n",
    "            self.logLabel[\"text\"]=\"登录成功\"\n",
    "        else:\n",
    "            self.logLabel[\"text\"]=\"用户名或密码错误\"\n",
    "            self.userEntry.delete(0,len(s1))\n",
    "            self.pwEntry.delete(0,len(s1))\n",
    "\n",
    "if __name__ ==\"__main__\":\n",
    "    app = Application()\n",
    "    # 设置窗口标题:\n",
    "    app.master.title('登录界面')\n",
    "    #窗口大小位置\n",
    "    #app.master.geometry(\"600x400+100+400\")#长x宽+x+y\n",
    "    # 主消息循环:\n",
    "    app.mainloop()"
   ]
  },
  {
   "cell_type": "code",
   "execution_count": 11,
   "metadata": {
    "collapsed": true
   },
   "outputs": [],
   "source": [
    "%exec_py src/entry.py"
   ]
  },
  {
   "cell_type": "markdown",
   "metadata": {},
   "source": [
    "### 单选按钮 Radiobutton\n",
    "\n",
    "一般是几个里面选一个用\n",
    "\n",
    "可选的设置有:\n",
    "\n",
    "字段|意义\n",
    "---|---\n",
    "background/bg|背景色\n",
    "bd/borderwidth|边框宽,默认是o\n",
    "colormap|调色板,设置需要是Colormap的实例,\n",
    "container|设置需要是Container的实例\n",
    "cursor|鼠标光标在其中的位置\n",
    "highlightbackground|要高亮的背景色\n",
    "highlightcolor|要高亮的颜色\n",
    "highlightthickness|高亮的宽度\n",
    "padx|水平padding\n",
    "pady|垂直padding\n",
    "relief|边框样式,可选的FLAT,SUNKEN,RAISED,GROOVE,RIDGE默认为FLAT\n",
    "takefocus|指示用户可以使用tab键移动到这个部件\n",
    "height|高度\n",
    "width|宽度\n",
    "foreground/fg|前景\n",
    "font|字体\n",
    "text|标签文本\n",
    "activebackground|激活状态的背景色\n",
    "activeforeground|激活状态的前景色\n",
    "anchor|文本的对齐位置,可选的有`N, NE, E, SE, S, SW, W, NW,CENTER`\n",
    "image|是否使用图标\n",
    "bitmap|按钮的图标\n",
    "command|点击按钮的回调函数\n",
    "compound|图片和文字的围绕方式,可选的有`BOTTOM, LEFT, RIGHT, TOP,CENTER`\n",
    "disabledforeground|无效前景色\n",
    "justify|多行文本如何排版,可选项包括`LEFT, RIGHT, CENTER`\n",
    "overrelief|鼠标移动到上面时显示的内容\n",
    "repeatdelay|重复延迟\n",
    "repeatinterval|重复间隔\n",
    "state|按钮状态,可选的有`NORMAL, ACTIVE, DISABLED`.默认`NORMAL`.\n",
    "textvariable|使用Tkinter variable设置按钮文本\n",
    "underline|下划线\n",
    "wraplength|确定按钮的文本应何时被包装成多行\n",
    "indicatoron|是否使用标准的单选样式,默认为Ture,否则样式为`SUNKEN`\n",
    "offrelief|按钮默认是否被按下\n",
    "value|选项对应的值\n",
    "variable|与此按钮关联的变量\n",
    "\n",
    "直接看代码:\n",
    "\n",
    "![](source/radiobutton.png)\n",
    "\n",
    "单选框和复选框往往会需要用到一个变量用于保存选择的内容,一般的变量无法起到效果,需要使用tk提供的变量类型:\n",
    "\n",
    "`BooleanVar, DoubleVar, IntVar, StringVar`\n",
    "\n",
    "要使用的话`set`方法就是赋值,`get`方法就是取值."
   ]
  },
  {
   "cell_type": "code",
   "execution_count": 20,
   "metadata": {},
   "outputs": [
    {
     "name": "stdout",
     "output_type": "stream",
     "text": [
      "Overwriting src/radiobutton.py\n"
     ]
    }
   ],
   "source": [
    "%%writefile src/radiobutton.py\n",
    "\n",
    "from tkinter import Frame,Label,Button,Radiobutton, IntVar\n",
    "\n",
    "    \n",
    "class Application(Frame):\n",
    "    def __init__(self, master=None):\n",
    "        Frame.__init__(self, master)\n",
    "        #窗口大小位置\n",
    "        self.master.geometry(\"600x400+100+400\")#长x宽+x+y\n",
    "        self.pack()\n",
    "        self.createWidgets()\n",
    "    def createWidgets(self):\n",
    "        self.var = IntVar()\n",
    "        self.helloLabel = Label(self, text='Hello, world!\\n')\n",
    "        self.helloLabel.pack()\n",
    "        self.rbframe=Frame(self)\n",
    "        self.rbframe.pack()\n",
    "        self.c1 = Radiobutton(\n",
    "            self.rbframe,\n",
    "            indicatoron=False,\n",
    "            text = \"1\",\n",
    "            value=1,\n",
    "            variable=self.var,\n",
    "            command = self._callback\n",
    "        )\n",
    "        self.c1.pack()\n",
    "        self.c2 = Radiobutton(\n",
    "            self.rbframe,\n",
    "            indicatoron=False,\n",
    "            text = \"2\",\n",
    "            value=2,\n",
    "            variable=self.var,\n",
    "            command = self._callback\n",
    "        )\n",
    "        self.c2.pack()\n",
    "        self.quitButton = Button(self, text='Quit',fg=\"red\", command=self.quit)\n",
    "        self.quitButton.pack()\n",
    "        \n",
    "    def _callback(self):\n",
    "        self.helloLabel.config(text = \"值为{}\".format(self.var.get()))\n",
    "\n",
    "if __name__ ==\"__main__\":\n",
    "    app = Application()\n",
    "    # 设置窗口标题:\n",
    "    app.master.title('Hello World')\n",
    "\n",
    "    app.master.geometry(\"600x400+100+400\")#长x宽+x+y\n",
    "    # 主消息循环:\n",
    "    app.mainloop()"
   ]
  },
  {
   "cell_type": "code",
   "execution_count": 24,
   "metadata": {
    "collapsed": true
   },
   "outputs": [],
   "source": [
    "%exec_py src/radiobutton.py"
   ]
  },
  {
   "cell_type": "markdown",
   "metadata": {},
   "source": [
    "### 复选框 Checkbutton \n",
    "\n",
    "复选框通常是用来选择信息的时候的一种选择,它前面 有个小正方形的方块,如果选中则有一个对号,也可以再 次点击以取消该对号来取消选中。\n",
    "\n",
    "\n",
    "字段|意义\n",
    "---|---\n",
    "background/bg|背景色\n",
    "bd/borderwidth|边框宽,默认是o\n",
    "colormap|调色板,设置需要是Colormap的实例,\n",
    "container|设置需要是Container的实例\n",
    "cursor|鼠标光标在其中的位置\n",
    "highlightbackground|要高亮的背景色\n",
    "highlightcolor|要高亮的颜色\n",
    "highlightthickness|高亮的宽度\n",
    "padx|水平padding\n",
    "pady|垂直padding\n",
    "relief|边框样式,可选的FLAT,SUNKEN,RAISED,GROOVE,RIDGE默认为FLAT\n",
    "takefocus|指示用户可以使用tab键移动到这个部件\n",
    "height|高度\n",
    "width|宽度\n",
    "foreground/fg|前景\n",
    "font|字体\n",
    "text|标签文本\n",
    "activebackground|激活状态的背景色\n",
    "activeforeground|激活状态的前景色\n",
    "anchor|文本的对齐位置,可选的有`N, NE, E, SE, S, SW, W, NW,CENTER`\n",
    "image|是否使用图标\n",
    "bitmap|按钮的图标\n",
    "command|点击按钮的回调函数\n",
    "compound|图片和文字的围绕方式,可选的有`BOTTOM, LEFT, RIGHT, TOP,CENTER`\n",
    "disabledforeground|无效前景色\n",
    "justify|多行文本如何排版,可选项包括`LEFT, RIGHT, CENTER`\n",
    "overrelief|鼠标移动到上面时显示的内容\n",
    "repeatdelay|重复延迟\n",
    "repeatinterval|重复间隔\n",
    "state|按钮状态,可选的有`NORMAL, ACTIVE, DISABLED`.默认`NORMAL`.\n",
    "textvariable|使用Tkinter variable设置按钮文本\n",
    "underline|下划线\n",
    "wraplength|确定按钮的文本应何时被包装成多行\n",
    "indicatoron|是否使用标准的单选样式,默认为Ture,否则样式为`SUNKEN`\n",
    "offrelief|按钮默认是否被按下\n",
    "value|选项对应的值\n",
    "variable|与此按钮关联的变量\n",
    "indicatoron|是否画上指示器,状态有`SUNKEN`和`RAISED`\n",
    "offvalue|未被选中的值\n",
    "onvalue|选中的值\n",
    "\n",
    "看个例子:\n",
    "\n",
    "![](source/checkbutton.png)"
   ]
  },
  {
   "cell_type": "code",
   "execution_count": 22,
   "metadata": {},
   "outputs": [
    {
     "name": "stdout",
     "output_type": "stream",
     "text": [
      "Overwriting src/checkbutton.py\n"
     ]
    }
   ],
   "source": [
    "%%writefile src/checkbutton.py\n",
    "from tkinter import Frame,Label,Button,Checkbutton\n",
    "    \n",
    "class Application(Frame):\n",
    "    def __init__(self, master=None):\n",
    "        Frame.__init__(self, master)\n",
    "        #窗口大小位置\n",
    "        self.master.geometry(\"600x400+100+400\")#长x宽+x+y\n",
    "        self.pack()\n",
    "        self.createWidgets()\n",
    "    def createWidgets(self):\n",
    "        self.helloLabel = Label(self, text='Hello, world!\\n')\n",
    "        self.helloLabel.pack()\n",
    "\n",
    "        self.c1 = Checkbutton(self,\n",
    "                              text = \"1\",\n",
    "                              command = lambda : self.helloLabel.config(\n",
    "                                  text = self.helloLabel[\"text\"]+\"1被选中了奇数次\\n\"))\n",
    "        self.c1.pack()\n",
    "        self.c2 = Checkbutton(self,\n",
    "                              text = \"2\",\n",
    "                              command = lambda : self.helloLabel.config(\n",
    "                                  text = self.helloLabel[\"text\"]+\"2被选中了奇数次\\n\"))\n",
    "        self.c2.pack()\n",
    "        self.quitButton = Button(self, text='Quit',fg=\"red\", command=self.quit)\n",
    "        self.quitButton.pack()\n",
    "\n",
    "if __name__ ==\"__main__\":\n",
    "    app = Application()\n",
    "    # 设置窗口标题:\n",
    "    app.master.title('Hello World')\n",
    "\n",
    "    app.master.geometry(\"600x400+100+400\")#长x宽+x+y\n",
    "    # 主消息循环:\n",
    "    app.mainloop()"
   ]
  },
  {
   "cell_type": "code",
   "execution_count": 25,
   "metadata": {
    "collapsed": true
   },
   "outputs": [],
   "source": [
    "%exec_py src/checkbutton.py"
   ]
  },
  {
   "cell_type": "markdown",
   "metadata": {},
   "source": [
    "### 文本域 Text\n",
    "\n",
    "也就是用来存放字符串的大空间\n",
    "\n",
    "基本的定义也就是宽度width和高度height了,但由于有类编辑的需求,因此需要引入标签来定位光标.可以用的定位标签包括\n",
    "\n",
    "+ \"<line>,<column>\" 行号,列号组成的坐标字符串\n",
    "+ \"<line>.end\" 行号对应行的末尾\n",
    "+ INSERT  光标的当前位置\n",
    "+ CURRENT 光标最近的字符\n",
    "+ END 文末\n",
    "\n",
    "另外还有一些复杂的用法一般用不到\n",
    "\n",
    "![](source/text.png)"
   ]
  },
  {
   "cell_type": "code",
   "execution_count": 11,
   "metadata": {},
   "outputs": [
    {
     "name": "stdout",
     "output_type": "stream",
     "text": [
      "Overwriting src/text.py\n"
     ]
    }
   ],
   "source": [
    "%%writefile src/text.py\n",
    "\n",
    "from tkinter import *\n",
    "\n",
    "    \n",
    "root = Tk()\n",
    "\n",
    "text = Text(root)\n",
    "text.pack()\n",
    "\n",
    "# INSERT 索引表示插入光标当前的位置\n",
    "text.insert(INSERT, \"I love \")\n",
    "text.insert(END, \"Python!\")\n",
    "\n",
    "mainloop()"
   ]
  },
  {
   "cell_type": "code",
   "execution_count": 27,
   "metadata": {
    "collapsed": true
   },
   "outputs": [],
   "source": [
    "%exec_py src/text.py"
   ]
  },
  {
   "cell_type": "markdown",
   "metadata": {},
   "source": [
    "### 画布 Canvas\n",
    "\n",
    "和html5中的画布一样,tk中的画布也是用来绘图的,直接看代码吧:\n",
    "\n",
    "![](source/canvas.png)"
   ]
  },
  {
   "cell_type": "code",
   "execution_count": 28,
   "metadata": {},
   "outputs": [
    {
     "name": "stdout",
     "output_type": "stream",
     "text": [
      "Overwriting src/canvas.py\n"
     ]
    }
   ],
   "source": [
    "%%writefile src/canvas.py\n",
    "\n",
    "from tkinter import Frame,Canvas\n",
    "\n",
    "    \n",
    "class Application(Frame):\n",
    "    def __init__(self, master=None):\n",
    "        Frame.__init__(self, master)\n",
    "        self.pack()\n",
    "        self.createWidgets()\n",
    "\n",
    "    def createWidgets(self):\n",
    "        self.can = Canvas(self,width = 400,height=300,bg = \"#233333\")\n",
    "        self.can.create_line((0,0),(200,200),width = 8)\n",
    "        self.can.create_text(300,30,text = \"一个画板\")\n",
    "        self.can.pack()\n",
    "if __name__ ==\"__main__\":\n",
    "    app = Application()\n",
    "    # 设置窗口标题:\n",
    "    app.master.title('Hello World')\n",
    "    # 主消息循环:\n",
    "    app.mainloop()"
   ]
  },
  {
   "cell_type": "code",
   "execution_count": 29,
   "metadata": {
    "collapsed": true
   },
   "outputs": [],
   "source": [
    "%exec_py src/canvas.py"
   ]
  },
  {
   "cell_type": "markdown",
   "metadata": {},
   "source": [
    "### Listbox\t列表框\n",
    "\n",
    "\n",
    "文本按列表的形式排列,列表框是用来从一组文本项目选择。根据ListBox的配置，用户可以选择从列表中一个或多个项目,通常,这个任务可以由多选实现\n",
    "\n",
    "![](source/listbox.png)"
   ]
  },
  {
   "cell_type": "code",
   "execution_count": 40,
   "metadata": {},
   "outputs": [
    {
     "name": "stdout",
     "output_type": "stream",
     "text": [
      "Overwriting src/listbox.py\n"
     ]
    }
   ],
   "source": [
    "%%writefile src/listbox.py\n",
    "\n",
    "from tkinter import Frame,Listbox,END\n",
    "\n",
    "    \n",
    "class Application(Frame):\n",
    "    def __init__(self, master=None):\n",
    "        Frame.__init__(self, master)\n",
    "        self.pack()\n",
    "        self.createWidgets()\n",
    "\n",
    "    def createWidgets(self):\n",
    "        self.list = Listbox(self)\n",
    "        self.list.pack()\n",
    "        self.list.insert(END, \"a list entry\")\n",
    "        for item in [\"one\", \"two\", \"three\", \"four\"]:\n",
    "            self.list.insert(END, item)\n",
    "if __name__ ==\"__main__\":\n",
    "    app = Application()\n",
    "    # 设置窗口标题:\n",
    "    app.master.title('Hello World')\n",
    "    # 主消息循环:\n",
    "    app.mainloop()"
   ]
  },
  {
   "cell_type": "code",
   "execution_count": 42,
   "metadata": {
    "collapsed": true
   },
   "outputs": [],
   "source": [
    "%exec_py src/listbox.py"
   ]
  },
  {
   "cell_type": "markdown",
   "metadata": {},
   "source": [
    "### Message\t信息栏\n",
    "\n",
    "使用单字体显示短文本消息.通常可以使用普通标签代替.\n",
    "\n",
    "![](source/message.png)"
   ]
  },
  {
   "cell_type": "code",
   "execution_count": 46,
   "metadata": {},
   "outputs": [
    {
     "name": "stdout",
     "output_type": "stream",
     "text": [
      "Overwriting src/message.py\n"
     ]
    }
   ],
   "source": [
    "%%writefile src/message.py\n",
    "from tkinter import Tk,Message\n",
    "\n",
    "master = Tk()\n",
    "\n",
    "w = Message(master, text=\"this is a message\")\n",
    "w.pack()\n",
    "\n",
    "master.mainloop()"
   ]
  },
  {
   "cell_type": "code",
   "execution_count": 48,
   "metadata": {
    "collapsed": true
   },
   "outputs": [],
   "source": [
    "%exec_py src/message.py"
   ]
  },
  {
   "cell_type": "markdown",
   "metadata": {},
   "source": [
    "### PanedWindow\t中分栏窗口\n",
    "\n",
    "可用于实现2-pane和3-pane的布局\n",
    "\n",
    "![](source/panewindow.png)"
   ]
  },
  {
   "cell_type": "code",
   "execution_count": 51,
   "metadata": {},
   "outputs": [
    {
     "name": "stdout",
     "output_type": "stream",
     "text": [
      "Overwriting src/panewindow.py\n"
     ]
    }
   ],
   "source": [
    "%%writefile src/panewindow.py\n",
    "from tkinter import Tk,Label,PanedWindow,BOTH,VERTICAL\n",
    "\n",
    "master = Tk()\n",
    "m1 = PanedWindow(master)\n",
    "m1.pack(fill=BOTH, expand=1)\n",
    "\n",
    "left = Label(m1, text=\"left pane\")\n",
    "m1.add(left)\n",
    "\n",
    "m2 = PanedWindow(m1, orient=VERTICAL)\n",
    "m1.add(m2)\n",
    "\n",
    "top = Label(m2, text=\"top pane\")\n",
    "m2.add(top)\n",
    "\n",
    "bottom = Label(m2, text=\"bottom pane\")\n",
    "m2.add(bottom)\n",
    "\n",
    "master.mainloop()"
   ]
  },
  {
   "cell_type": "code",
   "execution_count": 52,
   "metadata": {
    "collapsed": true
   },
   "outputs": [],
   "source": [
    "%exec_py src/panewindow.py"
   ]
  },
  {
   "cell_type": "markdown",
   "metadata": {},
   "source": [
    "### Scale 滑块\n",
    "\n",
    "通常如果是有界输入,那么就可以使用滑块\n",
    "\n",
    "![](source/scale.png)"
   ]
  },
  {
   "cell_type": "code",
   "execution_count": 53,
   "metadata": {},
   "outputs": [
    {
     "name": "stdout",
     "output_type": "stream",
     "text": [
      "Writing src/scale.py\n"
     ]
    }
   ],
   "source": [
    "%%writefile src/scale.py\n",
    "from tkinter import Tk,Scale,HORIZONTAL\n",
    "\n",
    "master = Tk()\n",
    "\n",
    "w = Scale(master, from_=0, to=100)\n",
    "w.pack()\n",
    "\n",
    "w = Scale(master, from_=0, to=200, orient=HORIZONTAL)\n",
    "w.pack()\n",
    "\n",
    "master.mainloop()"
   ]
  },
  {
   "cell_type": "code",
   "execution_count": 54,
   "metadata": {
    "collapsed": true
   },
   "outputs": [],
   "source": [
    "%exec_py src/scale.py"
   ]
  },
  {
   "cell_type": "markdown",
   "metadata": {},
   "source": [
    "### Scrollbar\t滚动条\n",
    "\n",
    "滚动条通常不会单独使用,而是配合文本,列表框,画板使用.\n",
    "\n",
    "![](source/scrollbar.png)"
   ]
  },
  {
   "cell_type": "code",
   "execution_count": 65,
   "metadata": {},
   "outputs": [
    {
     "name": "stdout",
     "output_type": "stream",
     "text": [
      "Overwriting src/scrollbar.py\n"
     ]
    }
   ],
   "source": [
    "%%writefile src/scrollbar.py\n",
    "from tkinter import Tk,Scrollbar,Listbox\n",
    "master = Tk()\n",
    "scrollbar = Scrollbar(master)\n",
    "scrollbar.pack(side='right', fill='y')\n",
    "\n",
    "listbox = Listbox(master, yscrollcommand=scrollbar.set)\n",
    "for i in range(1000):\n",
    "    listbox.insert('end', str(i))\n",
    "listbox.pack(side='left', fill='both')\n",
    "\n",
    "scrollbar.config(command=listbox.yview)\n",
    "\n",
    "master.mainloop()"
   ]
  },
  {
   "cell_type": "code",
   "execution_count": 64,
   "metadata": {
    "collapsed": true
   },
   "outputs": [],
   "source": [
    "%exec_py src/scrollbar.py"
   ]
  },
  {
   "cell_type": "markdown",
   "metadata": {},
   "source": [
    "### Spinbox\t指定输入范围值的输入框\n",
    "\n",
    "Spinbox可以用来代替只有有限数量的命令值的输入框.\n",
    "\n",
    "![](source/spinbox.png)"
   ]
  },
  {
   "cell_type": "code",
   "execution_count": 66,
   "metadata": {},
   "outputs": [
    {
     "name": "stdout",
     "output_type": "stream",
     "text": [
      "Writing src/spinbox.py\n"
     ]
    }
   ],
   "source": [
    "%%writefile src/spinbox.py\n",
    "from tkinter import Tk,Spinbox\n",
    "\n",
    "master = Tk()\n",
    "\n",
    "w = Spinbox(master, from_=0, to=10)\n",
    "w.pack()\n",
    "master.mainloop()"
   ]
  },
  {
   "cell_type": "code",
   "execution_count": 67,
   "metadata": {
    "collapsed": true
   },
   "outputs": [],
   "source": [
    "%exec_py src/spinbox.py"
   ]
  },
  {
   "cell_type": "markdown",
   "metadata": {},
   "source": [
    "### Combobox\t组合框\n",
    "\n",
    "ttk提供的控件,包含文本字段和一个包含可选值的下拉列表<https://docs.python.org/3/library/tkinter.ttk.html#tkinter.ttk.Combobox>\n",
    "\n",
    "这个控件和单选框功能类似,一般也会借助tk中的变量类型.\n",
    "\n",
    "![](source/combobox.png)"
   ]
  },
  {
   "cell_type": "code",
   "execution_count": 76,
   "metadata": {},
   "outputs": [
    {
     "name": "stdout",
     "output_type": "stream",
     "text": [
      "Overwriting src/combobox.py\n"
     ]
    }
   ],
   "source": [
    "%%writefile src/combobox.py\n",
    "from tkinter import Tk,StringVar\n",
    "from tkinter.ttk import Combobox\n",
    "master = Tk()\n",
    "number = StringVar()\n",
    "w = Combobox(master,textvariable=number)\n",
    "w['values'] = (1, 2, 4, 42, 100)     # 设置下拉列表的值\n",
    "w.grid(column=1, row=1)      # 设置其在界面中出现的位置  column代表列   row 代表行\n",
    "w.current(0) \n",
    "w.pack()\n",
    "master.mainloop()"
   ]
  },
  {
   "cell_type": "code",
   "execution_count": 78,
   "metadata": {
    "collapsed": true
   },
   "outputs": [],
   "source": [
    "%exec_py src/combobox.py"
   ]
  },
  {
   "cell_type": "markdown",
   "metadata": {},
   "source": [
    "### Notebook标签页\n",
    "\n",
    "标签页是ttk中的控件通常用在同时管理多个资源的情况下,形式参见chrome中的标签页.\n",
    "\n",
    "![](source/notebook.png)"
   ]
  },
  {
   "cell_type": "code",
   "execution_count": 85,
   "metadata": {},
   "outputs": [
    {
     "name": "stdout",
     "output_type": "stream",
     "text": [
      "Overwriting src/notebook.py\n"
     ]
    }
   ],
   "source": [
    "%%writefile src/notebook.py\n",
    "from tkinter import Tk,PhotoImage\n",
    "from tkinter.ttk import Notebook,Frame,Button\n",
    "\n",
    "\n",
    "root = Tk()\n",
    "\n",
    "scheduledimage=PhotoImage(\"source/canvas.png\")\n",
    "note = Notebook(root)\n",
    "\n",
    "tab1 = Frame(note)\n",
    "tab2 = Frame(note)\n",
    "tab3 = Frame(note)\n",
    "Button(tab1, text='Exit', command=root.destroy).pack(padx=100, pady=100)\n",
    "note.add(tab1, text = \"Tab One\",image=scheduledimage, compound=\"top\")\n",
    "note.add(tab2, text = \"Tab Two\")\n",
    "note.add(tab3, text = \"Tab Three\")\n",
    "note.pack()\n",
    "root.mainloop()"
   ]
  },
  {
   "cell_type": "code",
   "execution_count": 87,
   "metadata": {
    "collapsed": true
   },
   "outputs": [],
   "source": [
    "%exec_py src/notebook.py"
   ]
  },
  {
   "cell_type": "markdown",
   "metadata": {},
   "source": [
    "### Progressbar\t进度条\n",
    "\n",
    "ttk的独有控件显示,一个长期运行的操作状态指示.它可以在两种模式下运行:\n",
    "\n",
    "1. 确定模式,显示完成的工作量与完成工作的总量;\n",
    "\n",
    "2. 不确定模式,提供动画显示,让用户知道工作正在进行中\n",
    "\n",
    "![](source/progressbar.png)\n",
    "\n",
    "下面的例子中还用到了ttk中的`Separator`用于做分割,`Sizegrip`用于缩放窗口"
   ]
  },
  {
   "cell_type": "code",
   "execution_count": 113,
   "metadata": {},
   "outputs": [
    {
     "name": "stdout",
     "output_type": "stream",
     "text": [
      "Overwriting src/progressbar.py\n"
     ]
    }
   ],
   "source": [
    "%%writefile src/progressbar.py\n",
    "from tkinter import *  \n",
    "from tkinter import ttk  \n",
    "import time  \n",
    "  \n",
    "def manu_increment(*args):  \n",
    "    for i in range(100):  \n",
    "        p1[\"value\"] = i+1  \n",
    "        root.update()  \n",
    "        time.sleep(0.1)\n",
    "    \n",
    "def auto_increment(*args):  \n",
    "    global flag,value  \n",
    "    flag = not flag  \n",
    "  \n",
    "    if flag:  \n",
    "        btn2[\"text\"] = \"暂停动画\"  \n",
    "        p2.start(10)  \n",
    "    else:  \n",
    "        btn2[\"text\"] = \"开始动画\"  \n",
    "        value = p2[\"value\"]  \n",
    "        p2.stop()  \n",
    "        p2[\"value\"] = value\n",
    "root = Tk()  \n",
    "root.title(\"Progressbar组件\")\n",
    "sg = ttk.Sizegrip(root).grid(row=99,column=99,sticky=\"se\")\n",
    "# 定量进度条 \n",
    "p1 = ttk.Progressbar(root, length=200, mode=\"determinate\", orient=HORIZONTAL)  \n",
    "p1.grid(row=1,column=1)  \n",
    "p1[\"maximum\"] = 100  \n",
    "p1[\"value\"] = 0  \n",
    "  \n",
    "# 通过指定变量，改变进度条位置  \n",
    "# n = IntVar()  \n",
    "# p1[\"variable\"] = n  \n",
    "  \n",
    "# 通过指定步长，改变进度条位置  \n",
    "# p1.step(2)  \n",
    "  \n",
    "btn = ttk.Button(root,text=\"开始动画\",command=manu_increment)  \n",
    "btn.grid(row=1,column=0)  \n",
    "  \n",
    "# 非定量进度条  \n",
    "flag = False   # 标志位  \n",
    "value = 0      # 进度条位置  \n",
    "\n",
    "# 分隔\n",
    "sep = ttk.Separator(root)\n",
    "sep.grid(sticky = \"ew\")  \n",
    "\n",
    "p2 = ttk.Progressbar(root, length=200,orient = HORIZONTAL)  \n",
    "p2.grid(row=3,column=1)  \n",
    "  \n",
    "btn2 = ttk.Button(root,text=\"自动动画\",command=auto_increment)  \n",
    "btn2.grid(row=3,column=0)  \n",
    "  \n",
    "root.mainloop()"
   ]
  },
  {
   "cell_type": "code",
   "execution_count": 114,
   "metadata": {
    "collapsed": true
   },
   "outputs": [],
   "source": [
    "%exec_py src/progressbar.py"
   ]
  },
  {
   "cell_type": "markdown",
   "metadata": {},
   "source": [
    "### Treeview\t\n",
    "\n",
    "TreeView控件显示一个项目的树状分层集合,通常这用来展示数据或者文件系统等结构.\n",
    "\n",
    "![](source/treeview.png)"
   ]
  },
  {
   "cell_type": "code",
   "execution_count": 115,
   "metadata": {},
   "outputs": [
    {
     "name": "stdout",
     "output_type": "stream",
     "text": [
      "Writing src/treeview.py\n"
     ]
    }
   ],
   "source": [
    "%%writefile src/treeview.py\n",
    "from tkinter import *  \n",
    "from tkinter import ttk  \n",
    "\n",
    "root = Tk()\n",
    "\n",
    "tree = ttk.Treeview(root)\n",
    "\n",
    "tree[\"columns\"]=(\"one\",\"two\")\n",
    "tree.column(\"one\", width=100 )\n",
    "tree.column(\"two\", width=100)\n",
    "tree.heading(\"one\", text=\"coulmn A\")\n",
    "tree.heading(\"two\", text=\"column B\")\n",
    "\n",
    "tree.insert(\"\" , 0,    text=\"Line 1\", values=(\"1A\",\"1b\"))\n",
    "\n",
    "id2 = tree.insert(\"\", 1, \"dir2\", text=\"Dir 2\")\n",
    "tree.insert(id2, \"end\", \"dir 2\", text=\"sub dir 2\", values=(\"2A\",\"2B\"))\n",
    "\n",
    "##alternatively:\n",
    "tree.insert(\"\", 3, \"dir3\", text=\"Dir 3\")\n",
    "tree.insert(\"dir3\", 3, text=\" sub dir 3\",values=(\"3A\",\" 3B\"))\n",
    "\n",
    "tree.pack()\n",
    "root.mainloop()"
   ]
  },
  {
   "cell_type": "code",
   "execution_count": 1,
   "metadata": {},
   "outputs": [],
   "source": [
    "%exec_py src/treeview.py"
   ]
  },
  {
   "cell_type": "markdown",
   "metadata": {},
   "source": [
    "### ScrolledText \n",
    "\n",
    "带滚动条的文本框,这个组件在`tkinter.scrolledtext`下\n",
    "\n",
    "![](source/scrolled_text.png)"
   ]
  },
  {
   "cell_type": "code",
   "execution_count": 16,
   "metadata": {},
   "outputs": [
    {
     "name": "stdout",
     "output_type": "stream",
     "text": [
      "Overwriting src/scrolled_text.py\n"
     ]
    }
   ],
   "source": [
    "%%writefile src/scrolled_text.py\n",
    "from tkinter import Tk,END\n",
    "from tkinter.scrolledtext import ScrolledText\n",
    "root = Tk()\n",
    "stext = ScrolledText(root,bg='white', height=10)\n",
    "stext.pack(fill=\"both\", side=\"left\", expand=True)\n",
    "stext.focus_set()\n",
    "root.mainloop()"
   ]
  },
  {
   "cell_type": "code",
   "execution_count": 15,
   "metadata": {
    "collapsed": true
   },
   "outputs": [],
   "source": [
    "%exec_py src/scrolled_text.py"
   ]
  },
  {
   "cell_type": "markdown",
   "metadata": {},
   "source": [
    "## 对话框 Dialog和消息弹窗 messagebox\n",
    "\n",
    "\n",
    "对话框和消息弹窗也是常见的控件,在,但他们独立于其他控件,而是放在`tkinter.filedialog`,`tkinter.simpledialog`和`tkinter.messagebox`下.\n",
    "\n",
    "在`tkinter`下提供了如下几种常见的对话框形式:\n",
    "\n",
    "messagebox下的方法都是继承自`messagebox.dialog.Dialog`\n",
    "\n",
    "只有一个按钮(确定)的消息弹窗\n",
    "+ `tkinter.messagebox.showinfo(title,message)` 信息弹窗\n",
    "+ `tkinter.messagebox.showwarning(title,message)` 警告弹窗\n",
    "+ `tkinter.messagebox.showerror(title,message)` 错误弹窗\n",
    "\n",
    "有两个按钮的消息弹窗\n",
    "+ `tkinter.messagebox.askokcancel(title,message)`(确定,取消)点击确定返回`Ture`取消返回`False`\n",
    "+ `tkinter.messagebox.askquestion(title,message)`(确定,取消)点击确定返回`\"yes\"`取消返回`\"no\"`\n",
    "+ `tkinter.messagebox.askyesno(title,message)`(是,否)点击是返回`Ture`;否返回`False`\n",
    "+ `tkinter.messagebox.askretrycancel(title,message)`(重试,取消)点击重试返回 `Ture`;取消返回`False`\n",
    "\n",
    "有三个按钮的消息弹窗\n",
    "+ `tkinter.messagebox.askyesnocancel(title,message)`是：`True`;否：`False`;取消：`None`\n",
    "\n",
    "![](source/messagebox.png)\n",
    "\n",
    "输入值的消息弹窗\n",
    "+ `tkinter.simpledialog.askinteger(title, prompt)`问询整数的消息弹窗\n",
    "+ `tkinter.simpledialog.askfloat(title, prompt)`问询浮点数的消息弹窗\n",
    "+ `tkinter.simpledialog.askstring(title, prompt)`询问字符创的消息弹窗\n",
    "\n",
    "\n",
    "![](source/simpledialog.png)\n",
    "\n",
    "选择文件弹窗\n",
    "+ `tkinter.filedialog.askopenfilename()`打开一个文件的弹窗,返回文件名列表\n",
    "+ `tkinter.filedialog.asksaveasfilename()`保存一个文件的弹窗\n",
    "+ `tkinter.filedialog.askopenfile()`打开一个文件的弹窗,返回文件对象\n",
    "+ `tkinter.filedialog.askopenfiles()`打开多个文件的弹窗,返回文件对象的列表\n",
    "+ `tkinter.filedialog.asksaveasfile()`保存一个文件的弹窗,返回文件对象\n",
    "+ `tkinter.filedialog.askdirectory()`打开一个文件夹的弹窗,返回文件地址\n",
    "\n",
    "\n",
    "![](source/filedialog.png)"
   ]
  },
  {
   "cell_type": "code",
   "execution_count": 17,
   "metadata": {},
   "outputs": [
    {
     "name": "stdout",
     "output_type": "stream",
     "text": [
      "Overwriting src/messagebox.py\n"
     ]
    }
   ],
   "source": [
    "%%writefile src/messagebox.py\n",
    "from tkinter import Frame,Label,Button,Entry\n",
    "from tkinter.messagebox import showinfo\n",
    "    \n",
    "\n",
    "class Application(Frame):\n",
    "    def __init__(self, master=None):\n",
    "        Frame.__init__(self, master)\n",
    "        self.pack()\n",
    "        self.createWidgets()\n",
    "\n",
    "    def createWidgets(self):\n",
    "        self.userLabel = Label(self, text='用户名:')\n",
    "        self.userLabel.grid(row = 0,column = 0,sticky=\"w\")\n",
    "        self.userEntry = Entry(self)\n",
    "        self.userEntry.grid(row = 0,column = 1,sticky=\"e\")\n",
    "        self.pwLabel = Label(self, text='密码:')\n",
    "        self.pwLabel.grid(row = 1,column = 0,sticky=\"w\")\n",
    "        self.pwEntry = Entry(self)\n",
    "        self.pwEntry.grid(row = 1,column = 1,sticky=\"e\")\n",
    "\n",
    "        self.enterButton = Button(self,text = \"登录\",command = self.reg)\n",
    "        self.enterButton.grid(row = 2,column = 1,sticky = \"e\")\n",
    "\n",
    "        self.logLabel = Label(self, text='')\n",
    "        self.logLabel.grid(row = 3)\n",
    "\n",
    "    def reg(self):\n",
    "        s1 = self.userEntry.get()\n",
    "        s2 = self.pwEntry.get()\n",
    "        if s1 == \"www.google.com\" and s2 == \"www.bing.com\":\n",
    "            self.logLabel[\"text\"]=\"登录成功\"\n",
    "        else:\n",
    "            self.logLabel[\"text\"]=\"用户名或密码错误\"\n",
    "            self.userEntry.delete(0,len(s1))\n",
    "            self.pwEntry.delete(0,len(s1))\n",
    "            showinfo(title = \"错误\",message=\"用户名或密码错误\")\n",
    "\n",
    "if __name__ ==\"__main__\":\n",
    "    app = Application()\n",
    "    # 设置窗口标题:\n",
    "    app.master.title('登录界面')\n",
    "    #窗口大小位置\n",
    "    #app.master.geometry(\"600x400+100+400\")#长x宽+x+y\n",
    "    # 主消息循环:\n",
    "    app.mainloop()"
   ]
  },
  {
   "cell_type": "code",
   "execution_count": 18,
   "metadata": {
    "collapsed": true
   },
   "outputs": [],
   "source": [
    "%exec_py src/messagebox.py"
   ]
  },
  {
   "cell_type": "code",
   "execution_count": 19,
   "metadata": {},
   "outputs": [
    {
     "name": "stdout",
     "output_type": "stream",
     "text": [
      "Writing src/simpledialog.py\n"
     ]
    }
   ],
   "source": [
    "%%writefile src/simpledialog.py\n",
    "\n",
    "import tkinter\n",
    "from tkinter import simpledialog\n",
    "\n",
    "def inputStr():\n",
    "    r = simpledialog.askstring('Python Tkinter', 'Input String', initialvalue = 'Python Tkinter')\n",
    "    print(r)\n",
    "def inputInt():\n",
    "    r = simpledialog.askinteger('Python Tkinter', 'Input Integer')\n",
    "    print(r)\n",
    "def inputFloat():\n",
    "    r = simpledialog.askfloat('Python Tkinter', 'Input Float')\n",
    "    print(r)\n",
    "\n",
    "root = tkinter.Tk()\n",
    "btn1 = tkinter.Button(root, text='Input String', command=inputStr)\n",
    "btn2 = tkinter.Button(root, text='Input Integer', command=inputInt)\n",
    "btn3 = tkinter.Button(root, text='Input Float', command=inputFloat)\n",
    "\n",
    "btn1.pack(side='left')\n",
    "btn2.pack(side='left')\n",
    "btn3.pack(side='left')\n",
    "\n",
    "root.mainloop()"
   ]
  },
  {
   "cell_type": "code",
   "execution_count": 20,
   "metadata": {
    "collapsed": true
   },
   "outputs": [],
   "source": [
    "%exec_py src/simpledialog.py"
   ]
  },
  {
   "cell_type": "code",
   "execution_count": 1,
   "metadata": {},
   "outputs": [
    {
     "name": "stdout",
     "output_type": "stream",
     "text": [
      "Overwriting src/filedialog.py\n"
     ]
    }
   ],
   "source": [
    "%%writefile src/filedialog.py\n",
    "import tkinter\n",
    "from tkinter import filedialog\n",
    "\n",
    "def openfile():\n",
    "    r = filedialog.askopenfilename(title='打开文件', filetypes=[('Python', '*.py *.pyw'), ('All Files', '*')])\n",
    "    print(r)\n",
    "def savefile():\n",
    "    r = filedialog.asksaveasfilename(title='保存文件', initialdir='d:\\mywork', initialfile='hello.py')\n",
    "    print(r)\n",
    "\n",
    "root = tkinter.Tk()\n",
    "btn1 = tkinter.Button(root, text='File Open', command=openfile)\n",
    "btn2 = tkinter.Button(root, text='File Save', command=savefile)\n",
    "\n",
    "btn1.pack(side='left')\n",
    "btn2.pack(side='left')\n",
    "root.mainloop()"
   ]
  },
  {
   "cell_type": "code",
   "execution_count": 22,
   "metadata": {
    "collapsed": true
   },
   "outputs": [],
   "source": [
    "%exec_py src/filedialog.py"
   ]
  }
 ],
 "metadata": {
  "kernelspec": {
   "display_name": "Python 3",
   "language": "python",
   "name": "python3"
  },
  "language_info": {
   "codemirror_mode": {
    "name": "ipython",
    "version": 3
   },
   "file_extension": ".py",
   "mimetype": "text/x-python",
   "name": "python",
   "nbconvert_exporter": "python",
   "pygments_lexer": "ipython3",
   "version": "3.6.4"
  }
 },
 "nbformat": 4,
 "nbformat_minor": 1
}
