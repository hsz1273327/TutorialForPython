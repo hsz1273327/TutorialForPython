{
 "cells": [
  {
   "cell_type": "markdown",
   "metadata": {
    "collapsed": true
   },
   "source": [
    "# 结合pandas和matplotlib制作数据科学GUI工具\n",
    "\n",
    "\n",
    "python的一大作用就是做数据分析,如果使用tkinter构建数据科学工具,那么难免会使用到表格和图表,第三方工具[pandastable](https://github.com/dmnfarrell/pandastable)提供了对表格和数据图片的支持.多数时候这个工具可以满足数据分析的一般需求.\n",
    "\n"
   ]
  },
  {
   "cell_type": "markdown",
   "metadata": {},
   "source": [
    "## pandastable\n",
    "\n",
    "这个包的使用方式和标准库基本一样.\n",
    "\n",
    "`TableModel`类似tkinter中的`XxxxVar`,用于维护表格数据,而`TableCanvas`就是控件类了.\n",
    "\n",
    "### TableModel\n",
    "\n",
    "`TableModel`初始化可以使用`TableModel(dataframe=None, rows=20, columns=5)`如果初始化的时候已经有pandas的dataframe对象,那么后两个参数就没必要写上,同时`TableModel`的实例中`dataframe`也是可以访问的,可以对其直接操作以修改其内容.其他的接口可以看它的[api文档](http://pandastable.readthedocs.io/en/latest/pandastable.html#module-pandastable.data)\n",
    "\n",
    "\n",
    "### Table\n",
    "\n",
    "`Table`和一般的控件使用方法差不多,都需要以个父级控件作为初始化的参数,它的设置中多出了一个`model`参数用于指定`TableModel`的实例.同时`Table`的实例中也有`model`对象可以直接访问到对应的model实例.\n",
    "\n",
    "其他的设置项包括:\n",
    "\n",
    "+ `dataframe=None`指定要显示的dataframe\n",
    "+ `showtoolbar=False`是否显示工具条\n",
    "+ `showstatusbar=False`是否显示状态条\n",
    "\n",
    "`TableCanvas`常用的方法有:\n",
    "\n",
    "+ `table.show()`将图表渲染到gui\n",
    "+ `table.updateModel(model)`更新图表数据\n",
    "+ `table.redraw()`重新画图表\n",
    "+ `table.importCSV(path)`从csv中导入数据\n",
    "+ `table.columncolors['mycol'] = '#dcf1fc'`为指定列设置显示颜色\n",
    "+ `table.setRowColors(rows, color)`为指定行设置颜色\n",
    "+ `table.clearFormatting()` 清空格式设置\n",
    "+ `table.sortTable(columnIndex=None, ascending=1, index=False)`排序表格\n",
    "+ `table.showPlotViewer(parent=None, layout='horizontal')`开启作图页面\n",
    "\n",
    "其他的接口可以查看接口文档<http://pandastable.readthedocs.io/en/latest/pandastable.html#module-pandastable.core>\n",
    "![](source/table_canvas.png)"
   ]
  },
  {
   "cell_type": "code",
   "execution_count": 28,
   "metadata": {},
   "outputs": [
    {
     "name": "stdout",
     "output_type": "stream",
     "text": [
      "Overwriting src/table_canvas.py\n"
     ]
    }
   ],
   "source": [
    "%%writefile src/table_canvas.py\n",
    "from tkinter import Tk,Frame\n",
    "from pandastable import Table, TableModel\n",
    "\n",
    "root = Tk()\n",
    "f = Frame(root)\n",
    "f.pack(fill=\"both\",expand=1)\n",
    "model = TableModel.getSampleData()\n",
    "table = Table(f, dataframe=model,showtoolbar=True, showstatusbar=True)\n",
    "table.show()\n",
    "table.showPlotViewer()\n",
    "#table.showPlot()\n",
    "\n",
    "root.mainloop()"
   ]
  },
  {
   "cell_type": "code",
   "execution_count": 29,
   "metadata": {
    "collapsed": true
   },
   "outputs": [],
   "source": [
    "%exec_py src/table_canvas.py"
   ]
  },
  {
   "cell_type": "markdown",
   "metadata": {},
   "source": [
    "## 直接使用matplotlib作图\n",
    "\n",
    "上面的`pandastable`工具更多的是通用的静态数据可视化工具,但更多的时候可能还是需要使用`matplotlib`直接作图.\n",
    "\n",
    "要让`matplotlib`绘制的图片可以在tk中展示需要使用组件`matplotlib.backends.backend_tkagg.FigureCanvasTkAgg`和`matplotlib.backends.backend_tkagg.NavigationToolbar2TkAgg`\n",
    "\n",
    "+ `FigureCanvasTkAgg(f, master=root)`是绘图的画板(注意不是tk组件),第一位是要绘制的图片对象`matplotlib.figure.Figure`的实例,使用`.show()`方法展示渲染出来的图,`.get_tk_widget()`用于从这个绘图板上获取tk的对应组件.\n",
    "\n",
    "+ `NavigationToolbar2TkAgg(canvas, root)`是画板的工具栏,第一位是`FigureCanvasTkAgg`组件的实例,第二位是父组件,`.update()`方法用于更新组件的状态\n",
    "\n",
    "同时需要在绘图时指定好backend:`matplotlib.use('TkAgg')`\n",
    "\n",
    "我们来绘制一个k线图\n",
    "\n",
    "\n",
    "![](source/matplotlib_draw.png)"
   ]
  },
  {
   "cell_type": "code",
   "execution_count": 30,
   "metadata": {
    "collapsed": true
   },
   "outputs": [],
   "source": [
    "%matplotlib inline"
   ]
  },
  {
   "cell_type": "code",
   "execution_count": 34,
   "metadata": {
    "collapsed": true
   },
   "outputs": [],
   "source": [
    "import datetime\n",
    "import matplotlib as mpl\n",
    "import matplotlib.pyplot as plt\n",
    "import matplotlib.finance as mpf\n",
    "from matplotlib.pylab import date2num\n",
    "import tushare as ts"
   ]
  },
  {
   "cell_type": "code",
   "execution_count": 35,
   "metadata": {},
   "outputs": [
    {
     "name": "stdout",
     "output_type": "stream",
     "text": [
      "<class 'pandas.core.frame.DataFrame'>\n",
      "Int64Index: 120 entries, 0 to 119\n",
      "Data columns (total 7 columns):\n",
      "date      120 non-null object\n",
      "open      120 non-null float64\n",
      "close     120 non-null float64\n",
      "high      120 non-null float64\n",
      "low       120 non-null float64\n",
      "volume    120 non-null float64\n",
      "code      120 non-null object\n",
      "dtypes: float64(5), object(2)\n",
      "memory usage: 7.5+ KB\n"
     ]
    }
   ],
   "source": [
    "wdyx = ts.get_k_data('002739','2017-01-01')\n",
    "wdyx.info()"
   ]
  },
  {
   "cell_type": "code",
   "execution_count": 36,
   "metadata": {},
   "outputs": [
    {
     "data": {
      "text/html": [
       "<div>\n",
       "<table border=\"1\" class=\"dataframe\">\n",
       "  <thead>\n",
       "    <tr style=\"text-align: right;\">\n",
       "      <th></th>\n",
       "      <th>date</th>\n",
       "      <th>open</th>\n",
       "      <th>close</th>\n",
       "      <th>high</th>\n",
       "      <th>low</th>\n",
       "      <th>volume</th>\n",
       "      <th>code</th>\n",
       "    </tr>\n",
       "  </thead>\n",
       "  <tbody>\n",
       "    <tr>\n",
       "      <th>0</th>\n",
       "      <td>2017-01-03</td>\n",
       "      <td>54.010</td>\n",
       "      <td>54.070</td>\n",
       "      <td>54.110</td>\n",
       "      <td>53.711</td>\n",
       "      <td>30518.0</td>\n",
       "      <td>002739</td>\n",
       "    </tr>\n",
       "    <tr>\n",
       "      <th>1</th>\n",
       "      <td>2017-01-04</td>\n",
       "      <td>54.090</td>\n",
       "      <td>56.691</td>\n",
       "      <td>56.771</td>\n",
       "      <td>53.831</td>\n",
       "      <td>103953.0</td>\n",
       "      <td>002739</td>\n",
       "    </tr>\n",
       "    <tr>\n",
       "      <th>2</th>\n",
       "      <td>2017-01-05</td>\n",
       "      <td>56.302</td>\n",
       "      <td>56.591</td>\n",
       "      <td>57.080</td>\n",
       "      <td>55.924</td>\n",
       "      <td>65414.0</td>\n",
       "      <td>002739</td>\n",
       "    </tr>\n",
       "  </tbody>\n",
       "</table>\n",
       "</div>"
      ],
      "text/plain": [
       "         date    open   close    high     low    volume    code\n",
       "0  2017-01-03  54.010  54.070  54.110  53.711   30518.0  002739\n",
       "1  2017-01-04  54.090  56.691  56.771  53.831  103953.0  002739\n",
       "2  2017-01-05  56.302  56.591  57.080  55.924   65414.0  002739"
      ]
     },
     "execution_count": 36,
     "metadata": {},
     "output_type": "execute_result"
    }
   ],
   "source": [
    "wdyx[:3]"
   ]
  },
  {
   "cell_type": "code",
   "execution_count": 37,
   "metadata": {
    "collapsed": true
   },
   "outputs": [],
   "source": [
    "def date_to_num(dates):\n",
    "    num_time = []\n",
    "    for date in dates:\n",
    "        date_time = datetime.datetime.strptime(date,'%Y-%m-%d')\n",
    "        num_date = date2num(date_time)\n",
    "        num_time.append(num_date)\n",
    "    return num_time"
   ]
  },
  {
   "cell_type": "code",
   "execution_count": 38,
   "metadata": {
    "collapsed": true
   },
   "outputs": [],
   "source": [
    "mat_wdyx = wdyx.as_matrix()\n",
    "num_time = date_to_num(mat_wdyx[:,0])\n",
    "mat_wdyx[:,0] = num_time"
   ]
  },
  {
   "cell_type": "code",
   "execution_count": 39,
   "metadata": {},
   "outputs": [
    {
     "data": {
      "text/plain": [
       "array([[736332.0, 54.01, 54.07, 54.11, 53.711, 30518.0, '002739'],\n",
       "       [736333.0, 54.09, 56.691, 56.771, 53.831, 103953.0, '002739'],\n",
       "       [736334.0, 56.302, 56.591, 57.08, 55.924, 65414.0, '002739']], dtype=object)"
      ]
     },
     "execution_count": 39,
     "metadata": {},
     "output_type": "execute_result"
    }
   ],
   "source": [
    "mat_wdyx[:3]"
   ]
  },
  {
   "cell_type": "code",
   "execution_count": 40,
   "metadata": {},
   "outputs": [
    {
     "data": {
      "image/png": "[encoded data removed]",
      "text/plain": [
       "<matplotlib.figure.Figure at 0x755cf28>"
      ]
     },
     "metadata": {},
     "output_type": "display_data"
    }
   ],
   "source": [
    "fig, (ax1, ax2) = plt.subplots(2, sharex=True, figsize=(15,8))\n",
    "mpf.candlestick_ochl(ax1, mat_wdyx, width=1.0, colorup = 'g', colordown = 'r')\n",
    "ax1.set_title('wandayuanxian')\n",
    "ax1.set_ylabel('Price')\n",
    "ax1.grid(True)\n",
    "ax1.xaxis_date()\n",
    "plt.bar(mat_wdyx[:,0]-0.25, mat_wdyx[:,5], width= 0.5)\n",
    "ax2.set_ylabel('Volume')\n",
    "ax2.grid(True)"
   ]
  },
  {
   "cell_type": "markdown",
   "metadata": {},
   "source": [
    "接下来我们把它画在tk上"
   ]
  },
  {
   "cell_type": "code",
   "execution_count": 53,
   "metadata": {},
   "outputs": [
    {
     "name": "stdout",
     "output_type": "stream",
     "text": [
      "Overwriting src/matplotlib_draw.py\n"
     ]
    }
   ],
   "source": [
    "%%writefile src/matplotlib_draw.py\n",
    "import datetime\n",
    "from tkinter import Tk,Button\n",
    "import matplotlib as mpl\n",
    "import matplotlib.pyplot as plt\n",
    "import matplotlib.finance as mpf\n",
    "from matplotlib.pylab import date2num\n",
    "from matplotlib.backend_bases import key_press_handler\n",
    "from matplotlib.backends.backend_tkagg import FigureCanvasTkAgg,NavigationToolbar2TkAgg\n",
    "import tushare as ts\n",
    "\n",
    "mpl.use('TkAgg')\n",
    "\n",
    "def date_to_num(dates):\n",
    "    num_time = []\n",
    "    for date in dates:\n",
    "        date_time = datetime.datetime.strptime(date,'%Y-%m-%d')\n",
    "        num_date = date2num(date_time)\n",
    "        num_time.append(num_date)\n",
    "    return num_time\n",
    "\n",
    "def plot(mat_wdyx):\n",
    "    fig, (ax1, ax2) = plt.subplots(2, sharex=True, figsize=(15,8))\n",
    "    mpf.candlestick_ochl(ax1, mat_wdyx, width=1.0, colorup = 'g', colordown = 'r')\n",
    "    ax1.set_title('wandayuanxian')\n",
    "    ax1.set_ylabel('Price')\n",
    "    ax1.grid(True)\n",
    "    ax1.xaxis_date()\n",
    "    plt.bar(mat_wdyx[:,0]-0.25, mat_wdyx[:,5], width= 0.5)\n",
    "    ax2.set_ylabel('Volume')\n",
    "    ax2.grid(True)\n",
    "    return fig\n",
    "\n",
    "def main():\n",
    "    wdyx = ts.get_k_data('002739','2017-01-01')\n",
    "    mat_wdyx = wdyx.as_matrix()\n",
    "    num_time = date_to_num(mat_wdyx[:,0])\n",
    "    mat_wdyx[:,0] = num_time\n",
    "    f = plot(mat_wdyx)\n",
    "    \n",
    "    root = Tk()\n",
    "    \n",
    "    canvas =FigureCanvasTkAgg(f, master=root)\n",
    "    canvas.show()\n",
    "    canvas.get_tk_widget().pack(side=\"top\", fill=\"both\", expand=1)\n",
    "\n",
    "    toolbar =NavigationToolbar2TkAgg(canvas, root)\n",
    "    toolbar.update()\n",
    "    canvas._tkcanvas.pack(side=\"top\", fill=\"both\", expand=1)\n",
    "    #定义并绑定键盘事件处理函数\n",
    "    def on_key_event(event):\n",
    "        print('you pressed %s'% event.key)\n",
    "        key_press_handler(event, canvas, toolbar)\n",
    "    canvas.mpl_connect('key_press_event', on_key_event)\n",
    "    \n",
    "    def _quit():\n",
    "        #结束事件主循环，并销毁应用程序窗口\n",
    "        root.quit()\n",
    "        root.destroy()\n",
    "    button =Button(master=root, text='Quit', command=_quit)\n",
    "    button.pack(side=\"bottom\")\n",
    "    root.mainloop()\n",
    "\n",
    "if __name__==\"__main__\":\n",
    "    main()"
   ]
  },
  {
   "cell_type": "code",
   "execution_count": 55,
   "metadata": {
    "collapsed": true
   },
   "outputs": [],
   "source": [
    "%exec_py src/matplotlib_draw.py"
   ]
  },
  {
   "cell_type": "markdown",
   "metadata": {},
   "source": [
    "### 创建及时刷新的图片\n",
    "\n",
    "使用`root.after(time,callback)`方法我们来制作一个动画"
   ]
  },
  {
   "cell_type": "code",
   "execution_count": 85,
   "metadata": {},
   "outputs": [
    {
     "name": "stdout",
     "output_type": "stream",
     "text": [
      "Overwriting src/matplotlib_draw_an.py\n"
     ]
    }
   ],
   "source": [
    "%%writefile src/matplotlib_draw_an.py\n",
    "import datetime\n",
    "from tkinter import Tk,Button,IntVar\n",
    "import numpy as np\n",
    "import matplotlib as mpl\n",
    "mpl.use('TkAgg')\n",
    "import matplotlib.pyplot as plt\n",
    "import matplotlib.finance as mpf\n",
    "from matplotlib.pylab import date2num\n",
    "from matplotlib.backend_bases import key_press_handler\n",
    "from matplotlib.backends.backend_tkagg import FigureCanvasTkAgg,NavigationToolbar2TkAgg\n",
    "\n",
    "def plot(i):\n",
    "    fig, ax = plt.subplots()\n",
    "    x = np.arange(0, 2*np.pi, 0.01)\n",
    "    line, = ax.plot(x, np.sin(x+ i/10.0))\n",
    "    return fig,ax\n",
    "\n",
    "\n",
    "def main():\n",
    "    \n",
    "    root = Tk()\n",
    "    I = 0\n",
    "    f,ax = plot(I)\n",
    "    canvas =FigureCanvasTkAgg(f, master=root)\n",
    "    canvas.show()\n",
    "    canvas.get_tk_widget().pack(side=\"top\", fill=\"both\", expand=1)\n",
    "    toolbar =NavigationToolbar2TkAgg(canvas, root)\n",
    "    toolbar.update()\n",
    "    canvas._tkcanvas.pack(side=\"top\", fill=\"both\", expand=1)\n",
    "    def callback():\n",
    "        nonlocal I\n",
    "        ax.clear()\n",
    "        x = np.arange(0, 2*np.pi, 0.01)\n",
    "        line, = ax.plot(x, np.sin(x+ I/10.0))\n",
    "        I+=1\n",
    "        canvas.draw()\n",
    "        root.after(200,callback)\n",
    "        \n",
    "    \n",
    "    #canvas.new_timer(interval=200,callbacks=callback)\n",
    "    #定义并绑定键盘事件处理函数\n",
    "    def on_key_event(event):\n",
    "        print('you pressed %s'% event.key)\n",
    "        key_press_handler(event, canvas, toolbar)\n",
    "    canvas.mpl_connect('key_press_event', on_key_event)\n",
    "    \n",
    "    def _quit():\n",
    "        #结束事件主循环，并销毁应用程序窗口\n",
    "        root.quit()\n",
    "        root.destroy()\n",
    "    button =Button(master=root, text='Quit', command=_quit)\n",
    "    button.pack(side=\"bottom\")\n",
    "    root.after(200,callback)\n",
    "    root.mainloop()\n",
    "\n",
    "if __name__==\"__main__\":\n",
    "    main()"
   ]
  },
  {
   "cell_type": "code",
   "execution_count": 86,
   "metadata": {
    "collapsed": true
   },
   "outputs": [],
   "source": [
    "%exec_py src/matplotlib_draw_an.py"
   ]
  }
 ],
 "metadata": {
  "kernelspec": {
   "display_name": "Python 3",
   "language": "python",
   "name": "python3"
  },
  "language_info": {
   "codemirror_mode": {
    "name": "ipython",
    "version": 3
   },
   "file_extension": ".py",
   "mimetype": "text/x-python",
   "name": "python",
   "nbconvert_exporter": "python",
   "pygments_lexer": "ipython3",
   "version": "3.6.4"
  }
 },
 "nbformat": 4,
 "nbformat_minor": 2
}
