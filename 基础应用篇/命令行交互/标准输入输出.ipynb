{
 "cells": [
  {
   "cell_type": "markdown",
   "metadata": {},
   "source": [
    "# 标准输入输出\n",
    "\n",
    "python提供了标准输入输出的高级接口\n",
    "\n",
    "+ `input(prompt:str='')->str`\n",
    "\n",
    "`prompt`是提示文本\n",
    "\n",
    "\n",
    "+ `print(value, ..., sep=' ', end='\\n', file=sys.stdout, flush=False)`\n",
    "\n",
    "    + `file`:  默认为标准输出,但可以指定一个文件对象用于输出\n",
    "    + `sep`: 字符串插入值之间,默认为空格.\n",
    "    + `end`: 字符串附加在最后一个值之后,默认换行符. \n",
    "    + `flush`: 是否强制冲洗替换流.\n",
    "    \n",
    "这两个接口一般也是我们从helloworld开始就接触到的东西.下面的例子展示了它的用法:"
   ]
  },
  {
   "cell_type": "code",
   "execution_count": 1,
   "metadata": {},
   "outputs": [
    {
     "name": "stdout",
     "output_type": "stream",
     "text": [
      "Overwriting src/stdio/helloworld.py\n"
     ]
    }
   ],
   "source": [
    "%%writefile src/stdio/helloworld.py\n",
    "\n",
    "def main():\n",
    "    who = input(\"你是谁?\")\n",
    "    print(f\"hello world {who}!\")\n",
    "    \n",
    "if __name__ == \"__main__\":\n",
    "    main()"
   ]
  },
  {
   "cell_type": "markdown",
   "metadata": {},
   "source": [
    "## 标准输入的低级接口\n",
    "\n",
    "实际上上面这两个接口都是高级接口,是通过封装`sys`模块下的对应接口实现的.\n",
    "\n",
    "标准输入的低级接口是`sys.stdin`,其有两个方法:\n",
    "\n",
    "+ `sys.stdin.read()`:读取数据`ctrl+d`是结束输入.`enter`是换行.故可以接受多行输入\n",
    "\n",
    "+ `sys.stdin.readline()`:会将标准输入全部获取,包括末尾的'\\n',因此用len计算长度时是把换行符'\\n'算进去了的.遇到`enter`结束,注意它是从第一个回车开始的\n",
    "\n",
    "而`sys.stdin`本身与可读文件对象具有相同的接口."
   ]
  },
  {
   "cell_type": "code",
   "execution_count": 2,
   "metadata": {},
   "outputs": [
    {
     "name": "stdout",
     "output_type": "stream",
     "text": [
      "Overwriting src/stdio/helloworld_stdin.py\n"
     ]
    }
   ],
   "source": [
    "%%writefile src/stdio/helloworld_stdin.py\n",
    "\n",
    "import sys\n",
    "\n",
    "def main():\n",
    "    print(\"你是谁?\")\n",
    "    sys.stdin.readline()\n",
    "    while True:\n",
    "        line = sys.stdin.readline() \n",
    "        if not line: \n",
    "            break \n",
    "        who = line.strip()\n",
    "        print(f\"hello world {who}!\")\n",
    "        \n",
    "    \n",
    "if __name__ == \"__main__\":\n",
    "    main()"
   ]
  },
  {
   "cell_type": "markdown",
   "metadata": {},
   "source": [
    "## 标准输出的低级接口\n",
    "\n",
    "标准输出的低级接口是`sys.stdout`,它是一个可写的文件对象.和它类似的是`sys.stderr`.`print`函数实际上就是调用的他们的`write`方法,并且`print`中也可以通过`file`参数来指定一个有`write`接口的可写文件对象来写入输出."
   ]
  },
  {
   "cell_type": "code",
   "execution_count": 3,
   "metadata": {},
   "outputs": [
    {
     "name": "stdout",
     "output_type": "stream",
     "text": [
      "Overwriting src/stdio/helloworld_stdout.py\n"
     ]
    }
   ],
   "source": [
    "%%writefile src/stdio/helloworld_stdout.py\n",
    "import sys\n",
    "def main():\n",
    "    who = input(\"你是谁?\")\n",
    "    sys.stdout.write(f\"hello world {who}!\")\n",
    "    \n",
    "if __name__ == \"__main__\":\n",
    "    main()"
   ]
  },
  {
   "cell_type": "markdown",
   "metadata": {},
   "source": [
    "## 更加丰富多彩的输出\n",
    "\n",
    "只靠`print`输出显然是无法满足开发者躁动的内心需求的,Python环境下还是有不少工具可以让输出更加丰富多彩的.\n",
    "\n",
    "可以使用第三方库[rich](https://github.com/textualize/rich/blob/master/README.cn.md)对标准输入输出进行综合美化,它包含了对原生python结构的优化,还提供了`表格`,`颜色`,`表情`,`进度条`相关的功能,同时还有`状态动画`,`树状图`,`代码语法高亮`,`markdown`等内容.如果我们仅需要单独内容,则可以单独使用接下来介绍的工具.\n",
    "\n",
    "rich可以在jupyter中使用,使用它提供的`print`即可"
   ]
  },
  {
   "cell_type": "code",
   "execution_count": 8,
   "metadata": {
    "tags": []
   },
   "outputs": [],
   "source": [
    "from rich import print as rprint"
   ]
  },
  {
   "cell_type": "code",
   "execution_count": 10,
   "metadata": {
    "tags": []
   },
   "outputs": [
    {
     "data": {
      "text/html": [
       "<pre style=\"white-space:pre;overflow-x:auto;line-height:normal;font-family:Menlo,'DejaVu Sans Mono',consolas,'Courier New',monospace\">Hello, <span style=\"color: #800080; text-decoration-color: #800080; font-weight: bold\">World</span>!\n",
       "</pre>\n"
      ],
      "text/plain": [
       "Hello, \u001b[1;35mWorld\u001b[0m!\n"
      ]
     },
     "metadata": {},
     "output_type": "display_data"
    }
   ],
   "source": [
    "rprint(\"Hello, [bold magenta]World[/bold magenta]!\")"
   ]
  },
  {
   "cell_type": "markdown",
   "metadata": {},
   "source": [
    "但如果是在命令行中,则需要使用对象`Console`,它可以提供更加精准的输出\n",
    "\n",
    "```python\n",
    "from rich.console import Console\n",
    "\n",
    "console = Console()\n",
    "onsole.print(\"Hello\", \"World!\")\n",
    "```"
   ]
  },
  {
   "cell_type": "markdown",
   "metadata": {},
   "source": [
    "### 美化输出python原生的数据结构\n",
    "\n",
    "标准库就提供了[pprint](https://docs.python.org/zh-cn/3/library/pprint.html?highlight=print#module-pprint)用于对python的自带结构和满足美化输出.主要的作用包括格式化`list`,`dict`,[dataclasses.dataclass](https://docs.python.org/zh-cn/3/library/dataclasses.html#dataclasses.dataclass)和[types.SimpleNamespace](https://docs.python.org/zh-cn/3/library/types.html#types.SimpleNamespace)输出,实现自动换行,控制层级隐藏,自动缩进,每行限长,压缩长序列,防止dict排序,美化长数字展示.\n"
   ]
  },
  {
   "cell_type": "code",
   "execution_count": 6,
   "metadata": {},
   "outputs": [],
   "source": [
    "from pprint import pprint\n",
    "user = [\n",
    "    {\n",
    "        'address': {'city': 'shenzhen', 'geo': {'lat': '102.54', 'lng': '30.05'}},\n",
    "        'email': 'yunduojun@study.com', \n",
    "        'id': 4006118998, \n",
    "        'name': '数据研究院',\n",
    "        'website': 'http://mp.weixin.qq.com/'\n",
    "    }, {\n",
    "        'address': {'city': 'shenzhen', 'geo': {'lat': '102.54', 'lng': '30.05'}},\n",
    "        'email': 'xiaohouzi@study.com',\n",
    "        'id': 1008612342, \n",
    "        'name': '机器学习研究院', \n",
    "        'website': 'http://mp.weixin.qq.com/'\n",
    "    }\n",
    "]"
   ]
  },
  {
   "cell_type": "code",
   "execution_count": 7,
   "metadata": {},
   "outputs": [
    {
     "name": "stdout",
     "output_type": "stream",
     "text": [
      "[{'address': {'city': 'shenzhen', 'geo': {'lat': '102.54', 'lng': '30.05'}}, 'email': 'yunduojun@study.com', 'id': 4006118998, 'name': '数据研究院', 'website': 'http://mp.weixin.qq.com/'}, {'address': {'city': 'shenzhen', 'geo': {'lat': '102.54', 'lng': '30.05'}}, 'email': 'xiaohouzi@study.com', 'id': 1008612342, 'name': '机器学习研究院', 'website': 'http://mp.weixin.qq.com/'}]\n"
     ]
    }
   ],
   "source": [
    "print(user)"
   ]
  },
  {
   "cell_type": "code",
   "execution_count": 8,
   "metadata": {},
   "outputs": [
    {
     "name": "stdout",
     "output_type": "stream",
     "text": [
      "[{'address': {'city': 'shenzhen', 'geo': {'lat': '102.54', 'lng': '30.05'}},\n",
      "  'email': 'yunduojun@study.com',\n",
      "  'id': 4006118998,\n",
      "  'name': '数据研究院',\n",
      "  'website': 'http://mp.weixin.qq.com/'},\n",
      " {'address': {'city': 'shenzhen', 'geo': {'lat': '102.54', 'lng': '30.05'}},\n",
      "  'email': 'xiaohouzi@study.com',\n",
      "  'id': 1008612342,\n",
      "  'name': '机器学习研究院',\n",
      "  'website': 'http://mp.weixin.qq.com/'}]\n"
     ]
    }
   ],
   "source": [
    "pprint(user)"
   ]
  },
  {
   "cell_type": "code",
   "execution_count": 11,
   "metadata": {},
   "outputs": [
    {
     "name": "stdout",
     "output_type": "stream",
     "text": [
      "[{'address': {...},\n",
      "  'email': 'yunduojun@study.com',\n",
      "  'id': 4006118998,\n",
      "  'name': '数据研究院',\n",
      "  'website': 'http://mp.weixin.qq.com/'},\n",
      " {'address': {...},\n",
      "  'email': 'xiaohouzi@study.com',\n",
      "  'id': 1008612342,\n",
      "  'name': '机器学习研究院',\n",
      "  'website': 'http://mp.weixin.qq.com/'}]\n"
     ]
    }
   ],
   "source": [
    "pprint(user, depth=2) # 控制层级隐藏"
   ]
  },
  {
   "cell_type": "code",
   "execution_count": 12,
   "metadata": {},
   "outputs": [
    {
     "name": "stdout",
     "output_type": "stream",
     "text": [
      "[   {   'address': {...},\n",
      "        'email': 'yunduojun@study.com',\n",
      "        'id': 4006118998,\n",
      "        'name': '数据研究院',\n",
      "        'website': 'http://mp.weixin.qq.com/'},\n",
      "    {   'address': {...},\n",
      "        'email': 'xiaohouzi@study.com',\n",
      "        'id': 1008612342,\n",
      "        'name': '机器学习研究院',\n",
      "        'website': 'http://mp.weixin.qq.com/'}]\n"
     ]
    }
   ],
   "source": [
    "pprint(user, depth=2, indent=4) # 控制缩进"
   ]
  },
  {
   "cell_type": "code",
   "execution_count": 16,
   "metadata": {},
   "outputs": [
    {
     "name": "stdout",
     "output_type": "stream",
     "text": [
      "{'address': {'city': 'shenzhen', 'geo': {'lat': '102.54', 'lng': '30.05'}},\n",
      " 'email': 'yunduojun@study.com',\n",
      " 'id': 4006118998,\n",
      " 'name': '数据研究院',\n",
      " 'website': 'http://mp.weixin.qq.com/'}\n"
     ]
    }
   ],
   "source": [
    "pprint(user[0], width=100) # 控制单行最大宽度"
   ]
  },
  {
   "cell_type": "code",
   "execution_count": 18,
   "metadata": {},
   "outputs": [
    {
     "name": "stdout",
     "output_type": "stream",
     "text": [
      "[{'address': {'city': 'shenzhen', 'geo': {'lat': '102.54', 'lng': '30.05'}},\n",
      "  'email': 'yunduojun@study.com',\n",
      "  'id': 4006118998,\n",
      "  'name': '数据研究院',\n",
      "  'website': 'http://mp.weixin.qq.com/'},\n",
      " {'address': {'city': 'shenzhen', 'geo': {'lat': '102.54', 'lng': '30.05'}},\n",
      "  'email': 'xiaohouzi@study.com',\n",
      "  'id': 1008612342,\n",
      "  'name': '机器学习研究院',\n",
      "  'website': 'http://mp.weixin.qq.com/'}]\n"
     ]
    }
   ],
   "source": [
    "pprint(user, sort_dicts=True) # 固定字典字段顺序"
   ]
  },
  {
   "cell_type": "code",
   "execution_count": 19,
   "metadata": {},
   "outputs": [
    {
     "name": "stdout",
     "output_type": "stream",
     "text": [
      "[123_456_789, 10_000_000_000_000]\n"
     ]
    }
   ],
   "source": [
    "number_list = [123456789, 10000000000000]\n",
    "pprint(number_list, underscore_numbers=True) #美化数字输出"
   ]
  },
  {
   "cell_type": "markdown",
   "metadata": {},
   "source": [
    "### 美化python对象信息\n",
    "\n",
    "`rich`提供了`inspect`函数用于展示美化过的python对象信息"
   ]
  },
  {
   "cell_type": "code",
   "execution_count": 2,
   "metadata": {
    "tags": []
   },
   "outputs": [
    {
     "data": {
      "text/html": [
       "<pre style=\"white-space:pre;overflow-x:auto;line-height:normal;font-family:Menlo,'DejaVu Sans Mono',consolas,'Courier New',monospace\"><span style=\"color: #000080; text-decoration-color: #000080\">╭───────────────────────────────────────── </span><span style=\"color: #000080; text-decoration-color: #000080; font-weight: bold\">&lt;</span><span style=\"color: #ff00ff; text-decoration-color: #ff00ff; font-weight: bold\">class</span><span style=\"color: #000000; text-decoration-color: #000000\"> </span><span style=\"color: #008000; text-decoration-color: #008000\">'list'</span><span style=\"color: #000080; text-decoration-color: #000080; font-weight: bold\">&gt;</span><span style=\"color: #000080; text-decoration-color: #000080\"> ──────────────────────────────────────────╮</span>\n",
       "<span style=\"color: #000080; text-decoration-color: #000080\">│</span> <span style=\"color: #008080; text-decoration-color: #008080\">Built-in mutable sequence.</span>                                                                        <span style=\"color: #000080; text-decoration-color: #000080\">│</span>\n",
       "<span style=\"color: #000080; text-decoration-color: #000080\">│</span>                                                                                                   <span style=\"color: #000080; text-decoration-color: #000080\">│</span>\n",
       "<span style=\"color: #000080; text-decoration-color: #000080\">│</span> <span style=\"color: #008000; text-decoration-color: #008000\">╭───────────────────────────────────────────────────────────────────────────────────────────────╮</span> <span style=\"color: #000080; text-decoration-color: #000080\">│</span>\n",
       "<span style=\"color: #000080; text-decoration-color: #000080\">│</span> <span style=\"color: #008000; text-decoration-color: #008000\">│</span> <span style=\"font-weight: bold\">[</span><span style=\"color: #008000; text-decoration-color: #008000\">'foo'</span>, <span style=\"color: #008000; text-decoration-color: #008000\">'bar'</span><span style=\"font-weight: bold\">]</span>                                                                                <span style=\"color: #008000; text-decoration-color: #008000\">│</span> <span style=\"color: #000080; text-decoration-color: #000080\">│</span>\n",
       "<span style=\"color: #000080; text-decoration-color: #000080\">│</span> <span style=\"color: #008000; text-decoration-color: #008000\">╰───────────────────────────────────────────────────────────────────────────────────────────────╯</span> <span style=\"color: #000080; text-decoration-color: #000080\">│</span>\n",
       "<span style=\"color: #000080; text-decoration-color: #000080\">│</span>                                                                                                   <span style=\"color: #000080; text-decoration-color: #000080\">│</span>\n",
       "<span style=\"color: #000080; text-decoration-color: #000080\">│</span>  <span style=\"color: #808000; text-decoration-color: #808000; font-style: italic\">append</span> = <span style=\"color: #00ffff; text-decoration-color: #00ffff; font-style: italic\">def </span><span style=\"color: #800000; text-decoration-color: #800000; font-weight: bold\">append</span><span style=\"font-weight: bold\">(</span>object, <span style=\"color: #800080; text-decoration-color: #800080\">/</span><span style=\"font-weight: bold\">)</span>: <span style=\"color: #7f7f7f; text-decoration-color: #7f7f7f\">Append object to the end of the list.</span>                            <span style=\"color: #000080; text-decoration-color: #000080\">│</span>\n",
       "<span style=\"color: #000080; text-decoration-color: #000080\">│</span>   <span style=\"color: #808000; text-decoration-color: #808000; font-style: italic\">clear</span> = <span style=\"color: #00ffff; text-decoration-color: #00ffff; font-style: italic\">def </span><span style=\"color: #800000; text-decoration-color: #800000; font-weight: bold\">clear</span><span style=\"font-weight: bold\">()</span>: <span style=\"color: #7f7f7f; text-decoration-color: #7f7f7f\">Remove all items from list.</span>                                                <span style=\"color: #000080; text-decoration-color: #000080\">│</span>\n",
       "<span style=\"color: #000080; text-decoration-color: #000080\">│</span>    <span style=\"color: #808000; text-decoration-color: #808000; font-style: italic\">copy</span> = <span style=\"color: #00ffff; text-decoration-color: #00ffff; font-style: italic\">def </span><span style=\"color: #800000; text-decoration-color: #800000; font-weight: bold\">copy</span><span style=\"font-weight: bold\">()</span>: <span style=\"color: #7f7f7f; text-decoration-color: #7f7f7f\">Return a shallow copy of the list.</span>                                          <span style=\"color: #000080; text-decoration-color: #000080\">│</span>\n",
       "<span style=\"color: #000080; text-decoration-color: #000080\">│</span>   <span style=\"color: #808000; text-decoration-color: #808000; font-style: italic\">count</span> = <span style=\"color: #00ffff; text-decoration-color: #00ffff; font-style: italic\">def </span><span style=\"color: #800000; text-decoration-color: #800000; font-weight: bold\">count</span><span style=\"font-weight: bold\">(</span>value, <span style=\"color: #800080; text-decoration-color: #800080\">/</span><span style=\"font-weight: bold\">)</span>: <span style=\"color: #7f7f7f; text-decoration-color: #7f7f7f\">Return number of occurrences of value.</span>                             <span style=\"color: #000080; text-decoration-color: #000080\">│</span>\n",
       "<span style=\"color: #000080; text-decoration-color: #000080\">│</span>  <span style=\"color: #808000; text-decoration-color: #808000; font-style: italic\">extend</span> = <span style=\"color: #00ffff; text-decoration-color: #00ffff; font-style: italic\">def </span><span style=\"color: #800000; text-decoration-color: #800000; font-weight: bold\">extend</span><span style=\"font-weight: bold\">(</span>iterable, <span style=\"color: #800080; text-decoration-color: #800080\">/</span><span style=\"font-weight: bold\">)</span>: <span style=\"color: #7f7f7f; text-decoration-color: #7f7f7f\">Extend list by appending elements from the iterable.</span>           <span style=\"color: #000080; text-decoration-color: #000080\">│</span>\n",
       "<span style=\"color: #000080; text-decoration-color: #000080\">│</span>   <span style=\"color: #808000; text-decoration-color: #808000; font-style: italic\">index</span> = <span style=\"color: #00ffff; text-decoration-color: #00ffff; font-style: italic\">def </span><span style=\"color: #800000; text-decoration-color: #800000; font-weight: bold\">index</span><span style=\"font-weight: bold\">(</span>value, <span style=\"color: #808000; text-decoration-color: #808000\">start</span>=<span style=\"color: #008080; text-decoration-color: #008080; font-weight: bold\">0</span>, <span style=\"color: #808000; text-decoration-color: #808000\">stop</span>=<span style=\"color: #008080; text-decoration-color: #008080; font-weight: bold\">9223372036854775807</span>, <span style=\"color: #800080; text-decoration-color: #800080\">/</span><span style=\"font-weight: bold\">)</span>: <span style=\"color: #7f7f7f; text-decoration-color: #7f7f7f\">Return first index of value.</span>    <span style=\"color: #000080; text-decoration-color: #000080\">│</span>\n",
       "<span style=\"color: #000080; text-decoration-color: #000080\">│</span>  <span style=\"color: #808000; text-decoration-color: #808000; font-style: italic\">insert</span> = <span style=\"color: #00ffff; text-decoration-color: #00ffff; font-style: italic\">def </span><span style=\"color: #800000; text-decoration-color: #800000; font-weight: bold\">insert</span><span style=\"font-weight: bold\">(</span>index, object, <span style=\"color: #800080; text-decoration-color: #800080\">/</span><span style=\"font-weight: bold\">)</span>: <span style=\"color: #7f7f7f; text-decoration-color: #7f7f7f\">Insert object before index.</span>                               <span style=\"color: #000080; text-decoration-color: #000080\">│</span>\n",
       "<span style=\"color: #000080; text-decoration-color: #000080\">│</span>     <span style=\"color: #808000; text-decoration-color: #808000; font-style: italic\">pop</span> = <span style=\"color: #00ffff; text-decoration-color: #00ffff; font-style: italic\">def </span><span style=\"color: #800000; text-decoration-color: #800000; font-weight: bold\">pop</span><span style=\"font-weight: bold\">(</span><span style=\"color: #808000; text-decoration-color: #808000\">index</span>=<span style=\"color: #008080; text-decoration-color: #008080; font-weight: bold\">-1</span>, <span style=\"color: #800080; text-decoration-color: #800080\">/</span><span style=\"font-weight: bold\">)</span>: <span style=\"color: #7f7f7f; text-decoration-color: #7f7f7f\">Remove and return item at index </span><span style=\"color: #7f7f7f; text-decoration-color: #7f7f7f; font-weight: bold\">(</span><span style=\"color: #7f7f7f; text-decoration-color: #7f7f7f\">default last</span><span style=\"color: #7f7f7f; text-decoration-color: #7f7f7f; font-weight: bold\">)</span><span style=\"color: #7f7f7f; text-decoration-color: #7f7f7f\">.</span>                   <span style=\"color: #000080; text-decoration-color: #000080\">│</span>\n",
       "<span style=\"color: #000080; text-decoration-color: #000080\">│</span>  <span style=\"color: #808000; text-decoration-color: #808000; font-style: italic\">remove</span> = <span style=\"color: #00ffff; text-decoration-color: #00ffff; font-style: italic\">def </span><span style=\"color: #800000; text-decoration-color: #800000; font-weight: bold\">remove</span><span style=\"font-weight: bold\">(</span>value, <span style=\"color: #800080; text-decoration-color: #800080\">/</span><span style=\"font-weight: bold\">)</span>: <span style=\"color: #7f7f7f; text-decoration-color: #7f7f7f\">Remove first occurrence of value.</span>                                 <span style=\"color: #000080; text-decoration-color: #000080\">│</span>\n",
       "<span style=\"color: #000080; text-decoration-color: #000080\">│</span> <span style=\"color: #808000; text-decoration-color: #808000; font-style: italic\">reverse</span> = <span style=\"color: #00ffff; text-decoration-color: #00ffff; font-style: italic\">def </span><span style=\"color: #800000; text-decoration-color: #800000; font-weight: bold\">reverse</span><span style=\"font-weight: bold\">()</span>: <span style=\"color: #7f7f7f; text-decoration-color: #7f7f7f\">Reverse *IN PLACE*.</span>                                                      <span style=\"color: #000080; text-decoration-color: #000080\">│</span>\n",
       "<span style=\"color: #000080; text-decoration-color: #000080\">│</span>    <span style=\"color: #808000; text-decoration-color: #808000; font-style: italic\">sort</span> = <span style=\"color: #00ffff; text-decoration-color: #00ffff; font-style: italic\">def </span><span style=\"color: #800000; text-decoration-color: #800000; font-weight: bold\">sort</span><span style=\"font-weight: bold\">(</span>*, <span style=\"color: #808000; text-decoration-color: #808000\">key</span>=<span style=\"color: #800080; text-decoration-color: #800080; font-style: italic\">None</span>, <span style=\"color: #808000; text-decoration-color: #808000\">reverse</span>=<span style=\"color: #ff0000; text-decoration-color: #ff0000; font-style: italic\">False</span><span style=\"font-weight: bold\">)</span>: <span style=\"color: #7f7f7f; text-decoration-color: #7f7f7f\">Sort the list in ascending order and return </span><span style=\"color: #bf7fbf; text-decoration-color: #bf7fbf; font-style: italic\">None</span><span style=\"color: #7f7f7f; text-decoration-color: #7f7f7f\">.</span> <span style=\"color: #000080; text-decoration-color: #000080\">│</span>\n",
       "<span style=\"color: #000080; text-decoration-color: #000080\">╰───────────────────────────────────────────────────────────────────────────────────────────────────╯</span>\n",
       "</pre>\n"
      ],
      "text/plain": [
       "\u001b[34m╭─\u001b[0m\u001b[34m────────────────────────────────────────\u001b[0m\u001b[34m \u001b[0m\u001b[1;34m<\u001b[0m\u001b[1;95mclass\u001b[0m\u001b[39m \u001b[0m\u001b[32m'list'\u001b[0m\u001b[1;34m>\u001b[0m\u001b[34m \u001b[0m\u001b[34m─────────────────────────────────────────\u001b[0m\u001b[34m─╮\u001b[0m\n",
       "\u001b[34m│\u001b[0m \u001b[36mBuilt-in mutable sequence.\u001b[0m                                                                        \u001b[34m│\u001b[0m\n",
       "\u001b[34m│\u001b[0m                                                                                                   \u001b[34m│\u001b[0m\n",
       "\u001b[34m│\u001b[0m \u001b[32m╭───────────────────────────────────────────────────────────────────────────────────────────────╮\u001b[0m \u001b[34m│\u001b[0m\n",
       "\u001b[34m│\u001b[0m \u001b[32m│\u001b[0m \u001b[1m[\u001b[0m\u001b[32m'foo'\u001b[0m, \u001b[32m'bar'\u001b[0m\u001b[1m]\u001b[0m                                                                                \u001b[32m│\u001b[0m \u001b[34m│\u001b[0m\n",
       "\u001b[34m│\u001b[0m \u001b[32m╰───────────────────────────────────────────────────────────────────────────────────────────────╯\u001b[0m \u001b[34m│\u001b[0m\n",
       "\u001b[34m│\u001b[0m                                                                                                   \u001b[34m│\u001b[0m\n",
       "\u001b[34m│\u001b[0m  \u001b[3;33mappend\u001b[0m = \u001b[3;96mdef \u001b[0m\u001b[1;31mappend\u001b[0m\u001b[1m(\u001b[0mobject, \u001b[35m/\u001b[0m\u001b[1m)\u001b[0m: \u001b[2mAppend object to the end of the list.\u001b[0m                            \u001b[34m│\u001b[0m\n",
       "\u001b[34m│\u001b[0m   \u001b[3;33mclear\u001b[0m = \u001b[3;96mdef \u001b[0m\u001b[1;31mclear\u001b[0m\u001b[1m(\u001b[0m\u001b[1m)\u001b[0m: \u001b[2mRemove all items from list.\u001b[0m                                                \u001b[34m│\u001b[0m\n",
       "\u001b[34m│\u001b[0m    \u001b[3;33mcopy\u001b[0m = \u001b[3;96mdef \u001b[0m\u001b[1;31mcopy\u001b[0m\u001b[1m(\u001b[0m\u001b[1m)\u001b[0m: \u001b[2mReturn a shallow copy of the list.\u001b[0m                                          \u001b[34m│\u001b[0m\n",
       "\u001b[34m│\u001b[0m   \u001b[3;33mcount\u001b[0m = \u001b[3;96mdef \u001b[0m\u001b[1;31mcount\u001b[0m\u001b[1m(\u001b[0mvalue, \u001b[35m/\u001b[0m\u001b[1m)\u001b[0m: \u001b[2mReturn number of occurrences of value.\u001b[0m                             \u001b[34m│\u001b[0m\n",
       "\u001b[34m│\u001b[0m  \u001b[3;33mextend\u001b[0m = \u001b[3;96mdef \u001b[0m\u001b[1;31mextend\u001b[0m\u001b[1m(\u001b[0miterable, \u001b[35m/\u001b[0m\u001b[1m)\u001b[0m: \u001b[2mExtend list by appending elements from the iterable.\u001b[0m           \u001b[34m│\u001b[0m\n",
       "\u001b[34m│\u001b[0m   \u001b[3;33mindex\u001b[0m = \u001b[3;96mdef \u001b[0m\u001b[1;31mindex\u001b[0m\u001b[1m(\u001b[0mvalue, \u001b[33mstart\u001b[0m=\u001b[1;36m0\u001b[0m, \u001b[33mstop\u001b[0m=\u001b[1;36m9223372036854775807\u001b[0m, \u001b[35m/\u001b[0m\u001b[1m)\u001b[0m: \u001b[2mReturn first index of value.\u001b[0m    \u001b[34m│\u001b[0m\n",
       "\u001b[34m│\u001b[0m  \u001b[3;33minsert\u001b[0m = \u001b[3;96mdef \u001b[0m\u001b[1;31minsert\u001b[0m\u001b[1m(\u001b[0mindex, object, \u001b[35m/\u001b[0m\u001b[1m)\u001b[0m: \u001b[2mInsert object before index.\u001b[0m                               \u001b[34m│\u001b[0m\n",
       "\u001b[34m│\u001b[0m     \u001b[3;33mpop\u001b[0m = \u001b[3;96mdef \u001b[0m\u001b[1;31mpop\u001b[0m\u001b[1m(\u001b[0m\u001b[33mindex\u001b[0m=\u001b[1;36m-1\u001b[0m, \u001b[35m/\u001b[0m\u001b[1m)\u001b[0m: \u001b[2mRemove and return item at index \u001b[0m\u001b[1;2m(\u001b[0m\u001b[2mdefault last\u001b[0m\u001b[1;2m)\u001b[0m\u001b[2m.\u001b[0m                   \u001b[34m│\u001b[0m\n",
       "\u001b[34m│\u001b[0m  \u001b[3;33mremove\u001b[0m = \u001b[3;96mdef \u001b[0m\u001b[1;31mremove\u001b[0m\u001b[1m(\u001b[0mvalue, \u001b[35m/\u001b[0m\u001b[1m)\u001b[0m: \u001b[2mRemove first occurrence of value.\u001b[0m                                 \u001b[34m│\u001b[0m\n",
       "\u001b[34m│\u001b[0m \u001b[3;33mreverse\u001b[0m = \u001b[3;96mdef \u001b[0m\u001b[1;31mreverse\u001b[0m\u001b[1m(\u001b[0m\u001b[1m)\u001b[0m: \u001b[2mReverse *IN PLACE*.\u001b[0m                                                      \u001b[34m│\u001b[0m\n",
       "\u001b[34m│\u001b[0m    \u001b[3;33msort\u001b[0m = \u001b[3;96mdef \u001b[0m\u001b[1;31msort\u001b[0m\u001b[1m(\u001b[0m*, \u001b[33mkey\u001b[0m=\u001b[3;35mNone\u001b[0m, \u001b[33mreverse\u001b[0m=\u001b[3;91mFalse\u001b[0m\u001b[1m)\u001b[0m: \u001b[2mSort the list in ascending order and return \u001b[0m\u001b[2;3;35mNone\u001b[0m\u001b[2m.\u001b[0m \u001b[34m│\u001b[0m\n",
       "\u001b[34m╰───────────────────────────────────────────────────────────────────────────────────────────────────╯\u001b[0m\n"
      ]
     },
     "metadata": {},
     "output_type": "display_data"
    }
   ],
   "source": [
    "from rich import inspect\n",
    "my_list = [\"foo\", \"bar\"]\n",
    "inspect(my_list, methods=True)"
   ]
  },
  {
   "cell_type": "markdown",
   "metadata": {},
   "source": [
    "### 美化输出表格\n",
    "\n",
    "第三方库[tabulate](https://github.com/astanin/python-tabulate)可以很方便的在命令行中输出优雅的表格,更棒的是它除了支持python原生的数据结构外还支持最常用的数据处理工具pandas和numpy对象."
   ]
  },
  {
   "cell_type": "code",
   "execution_count": 3,
   "metadata": {},
   "outputs": [],
   "source": [
    "from tabulate import tabulate\n",
    "import pandas as pd\n",
    "\n",
    "table_data = [\n",
    "    {\"Planet\":\"Sun\",\"R (km)\":696000,\"mass (x 10^29 kg)\":1989100000},\n",
    "    {\"Planet\":\"Earth\",\"R (km)\":6371,\"mass (x 10^29 kg)\":5973.6},\n",
    "    {\"Planet\":\"Moon\",\"R (km)\":1737,\"mass (x 10^29 kg)\":73.5},\n",
    "    {\"Planet\":\"Mars\",\"R (km)\":3390,\"mass (x 10^29 kg)\":641.85}\n",
    "]\n",
    "table = pd.DataFrame(table_data)"
   ]
  },
  {
   "cell_type": "code",
   "execution_count": 4,
   "metadata": {},
   "outputs": [
    {
     "name": "stdout",
     "output_type": "stream",
     "text": [
      "    Planet      R (km)    mass (x 10^29 kg)\n",
      "--  --------  --------  -------------------\n",
      " 0  Sun         696000           1.9891e+09\n",
      " 1  Earth         6371        5973.6\n",
      " 2  Moon          1737          73.5\n",
      " 3  Mars          3390         641.85\n"
     ]
    }
   ],
   "source": [
    "print(tabulate(table,headers=table.columns))"
   ]
  },
  {
   "cell_type": "markdown",
   "metadata": {},
   "source": [
    "#### rich中的图表"
   ]
  },
  {
   "cell_type": "code",
   "execution_count": 12,
   "metadata": {
    "tags": []
   },
   "outputs": [
    {
     "data": {
      "text/html": [
       "<pre style=\"white-space:pre;overflow-x:auto;line-height:normal;font-family:Menlo,'DejaVu Sans Mono',consolas,'Courier New',monospace\">┏━━━━━━━━━━━━━━┳━━━━━━━━━━━━━━━━━━━━━━━━━━━━━━━━━━━┳━━━━━━━━━━━━━━━━━━━┳━━━━━━━━━━━━━━━━┓\n",
       "┃<span style=\"color: #800080; text-decoration-color: #800080; font-weight: bold\"> Date         </span>┃<span style=\"color: #800080; text-decoration-color: #800080; font-weight: bold\"> Title                             </span>┃<span style=\"color: #800080; text-decoration-color: #800080; font-weight: bold\"> Production Budget </span>┃<span style=\"color: #800080; text-decoration-color: #800080; font-weight: bold\">     Box Office </span>┃\n",
       "┡━━━━━━━━━━━━━━╇━━━━━━━━━━━━━━━━━━━━━━━━━━━━━━━━━━━╇━━━━━━━━━━━━━━━━━━━╇━━━━━━━━━━━━━━━━┩\n",
       "│<span style=\"color: #7f7f7f; text-decoration-color: #7f7f7f\"> Dec 20, 2019 </span>│ Star Wars: The Rise of Skywalker  │      $275,000,000 │   $375,126,118 │\n",
       "│<span style=\"color: #7f7f7f; text-decoration-color: #7f7f7f\"> May 25, 2018 </span>│ <span style=\"color: #800000; text-decoration-color: #800000\">Solo</span>: A Star Wars Story           │      $275,000,000 │   $393,151,347 │\n",
       "│<span style=\"color: #7f7f7f; text-decoration-color: #7f7f7f\"> Dec 15, 2017 </span>│ Star Wars Ep. VIII: The Last Jedi │      $262,000,000 │ <span style=\"font-weight: bold\">$1,332,539,889</span> │\n",
       "└──────────────┴───────────────────────────────────┴───────────────────┴────────────────┘\n",
       "</pre>\n"
      ],
      "text/plain": [
       "┏━━━━━━━━━━━━━━┳━━━━━━━━━━━━━━━━━━━━━━━━━━━━━━━━━━━┳━━━━━━━━━━━━━━━━━━━┳━━━━━━━━━━━━━━━━┓\n",
       "┃\u001b[1;35m \u001b[0m\u001b[1;35mDate        \u001b[0m\u001b[1;35m \u001b[0m┃\u001b[1;35m \u001b[0m\u001b[1;35mTitle                            \u001b[0m\u001b[1;35m \u001b[0m┃\u001b[1;35m \u001b[0m\u001b[1;35mProduction Budget\u001b[0m\u001b[1;35m \u001b[0m┃\u001b[1;35m \u001b[0m\u001b[1;35m    Box Office\u001b[0m\u001b[1;35m \u001b[0m┃\n",
       "┡━━━━━━━━━━━━━━╇━━━━━━━━━━━━━━━━━━━━━━━━━━━━━━━━━━━╇━━━━━━━━━━━━━━━━━━━╇━━━━━━━━━━━━━━━━┩\n",
       "│\u001b[2m \u001b[0m\u001b[2mDec 20, 2019\u001b[0m\u001b[2m \u001b[0m│ Star Wars: The Rise of Skywalker  │      $275,000,000 │   $375,126,118 │\n",
       "│\u001b[2m \u001b[0m\u001b[2mMay 25, 2018\u001b[0m\u001b[2m \u001b[0m│ \u001b[31mSolo\u001b[0m: A Star Wars Story           │      $275,000,000 │   $393,151,347 │\n",
       "│\u001b[2m \u001b[0m\u001b[2mDec 15, 2017\u001b[0m\u001b[2m \u001b[0m│ Star Wars Ep. VIII: The Last Jedi │      $262,000,000 │ \u001b[1m$1,332,539,889\u001b[0m │\n",
       "└──────────────┴───────────────────────────────────┴───────────────────┴────────────────┘\n"
      ]
     },
     "metadata": {},
     "output_type": "display_data"
    }
   ],
   "source": [
    "from rich.table import Column, Table\n",
    "\n",
    "table = Table(show_header=True, header_style=\"bold magenta\")\n",
    "table.add_column(\"Date\", style=\"dim\", width=12)\n",
    "table.add_column(\"Title\")\n",
    "table.add_column(\"Production Budget\", justify=\"right\")\n",
    "table.add_column(\"Box Office\", justify=\"right\")\n",
    "table.add_row(\n",
    "    \"Dec 20, 2019\", \"Star Wars: The Rise of Skywalker\", \"$275,000,000\", \"$375,126,118\"\n",
    ")\n",
    "table.add_row(\n",
    "    \"May 25, 2018\",\n",
    "    \"[red]Solo[/red]: A Star Wars Story\",\n",
    "    \"$275,000,000\",\n",
    "    \"$393,151,347\",\n",
    ")\n",
    "table.add_row(\n",
    "    \"Dec 15, 2017\",\n",
    "    \"Star Wars Ep. VIII: The Last Jedi\",\n",
    "    \"$262,000,000\",\n",
    "    \"[bold]$1,332,539,889[/bold]\",\n",
    ")\n",
    "rprint(table)"
   ]
  },
  {
   "cell_type": "markdown",
   "metadata": {},
   "source": [
    "### 美化输出图表\n",
    "\n",
    "没错,第三方库[bashplotlib](https://github.com/glamp/bashplotlib)可以帮我们在命令行中输出图表!不过目前只支持直方图(`plot_hist`)和点图(`plot_scatter`)."
   ]
  },
  {
   "cell_type": "code",
   "execution_count": 28,
   "metadata": {},
   "outputs": [],
   "source": [
    "import numpy as np\n",
    "from bashplotlib.histogram import plot_hist"
   ]
  },
  {
   "cell_type": "code",
   "execution_count": 29,
   "metadata": {},
   "outputs": [
    {
     "name": "stdout",
     "output_type": "stream",
     "text": [
      "\n",
      " 40| \u001b[39m \u001b[39m\u001b[39m \u001b[39m\u001b[39m \u001b[39m\u001b[39m \u001b[39m\u001b[39m \u001b[39m\u001b[39m \u001b[39m\u001b[39m \u001b[39m\u001b[39m \u001b[39m\u001b[39m \u001b[39m\u001b[39m \u001b[39m\u001b[39m \u001b[39m\u001b[39m \u001b[39m\u001b[39m \u001b[39m\u001b[39m \u001b[39m\u001b[39m \u001b[39m\u001b[39m \u001b[39m\u001b[39m \u001b[39m\u001b[39m \u001b[39m\u001b[39m \u001b[39m\u001b[39m \u001b[39m\u001b[39m \u001b[39m\u001b[39m \u001b[39m\u001b[39m \u001b[39m\u001b[39m \u001b[39m\u001b[39m \u001b[39m\u001b[39m \u001b[39m\u001b[39m \u001b[39m\u001b[39m \u001b[39m\u001b[39m \u001b[39m\u001b[39m \u001b[39m\u001b[39m \u001b[39m\u001b[39m \u001b[39m\u001b[39m \u001b[39m\u001b[39m \u001b[39m\u001b[39m \u001b[39m\u001b[39m \u001b[39m\u001b[39m \u001b[39m\u001b[39m \u001b[39m\u001b[39m \u001b[39m\u001b[39mo\u001b[39m\u001b[39m \u001b[39m\u001b[39m \u001b[39m\u001b[39m \u001b[39m\u001b[39m \u001b[39m\u001b[39m \u001b[39m\u001b[39m \u001b[39m\u001b[39m \u001b[39m\u001b[39m \u001b[39m\u001b[39m \u001b[39m\u001b[39m \u001b[39m\u001b[39m \u001b[39m\u001b[39m \u001b[39m\u001b[39m \u001b[39m\u001b[39m \u001b[39m\u001b[39m \u001b[39m\u001b[39m \u001b[39m\u001b[39m \u001b[39m\u001b[39m \u001b[39m\u001b[39m \u001b[39m\u001b[39m \u001b[39m\u001b[39m \u001b[39m\u001b[39m \u001b[39m\u001b[39m \u001b[39m\u001b[39m \u001b[39m\u001b[39m \u001b[39m\u001b[39m \u001b[39m\u001b[39m \u001b[39m\u001b[39m \u001b[39m\u001b[39m \u001b[39m\u001b[39m \u001b[39m\u001b[39m \u001b[39m\u001b[39m \u001b[39m\u001b[39m \u001b[39m\u001b[39m \u001b[39m\u001b[39m \u001b[39m\u001b[39m \u001b[39m\u001b[39m \u001b[39m\u001b[39m \u001b[39m\u001b[39m \u001b[39m\u001b[39m \u001b[39m\u001b[39m \u001b[39m\u001b[39m \u001b[39m\u001b[39m \u001b[39m\u001b[39m \u001b[39m\u001b[39m \u001b[39m\u001b[39m \u001b[39m\u001b[39m \u001b[39m\u001b[39m \u001b[39m\u001b[39m \u001b[39m\u001b[39m \u001b[39m\u001b[39m \u001b[39m\u001b[39m \u001b[39m\u001b[39m \u001b[39m\u001b[39m \u001b[39m\u001b[39m \u001b[39m\u001b[39m \u001b[39m\u001b[39m \u001b[39m\u001b[39m \u001b[39m\u001b[39m \u001b[39m\u001b[39m \u001b[39m\n",
      " 38| \u001b[39m \u001b[39m\u001b[39m \u001b[39m\u001b[39m \u001b[39m\u001b[39m \u001b[39m\u001b[39m \u001b[39m\u001b[39m \u001b[39m\u001b[39m \u001b[39m\u001b[39m \u001b[39m\u001b[39m \u001b[39m\u001b[39m \u001b[39m\u001b[39m \u001b[39m\u001b[39m \u001b[39m\u001b[39m \u001b[39m\u001b[39m \u001b[39m\u001b[39m \u001b[39m\u001b[39m \u001b[39m\u001b[39m \u001b[39m\u001b[39m \u001b[39m\u001b[39m \u001b[39m\u001b[39m \u001b[39m\u001b[39m \u001b[39m\u001b[39m \u001b[39m\u001b[39m \u001b[39m\u001b[39m \u001b[39m\u001b[39m \u001b[39m\u001b[39m \u001b[39m\u001b[39m \u001b[39m\u001b[39m \u001b[39m\u001b[39m \u001b[39m\u001b[39m \u001b[39m\u001b[39m \u001b[39m\u001b[39m \u001b[39m\u001b[39m \u001b[39m\u001b[39m \u001b[39m\u001b[39m \u001b[39m\u001b[39m \u001b[39m\u001b[39m \u001b[39m\u001b[39m \u001b[39m\u001b[39m \u001b[39m\u001b[39mo\u001b[39m\u001b[39m \u001b[39m\u001b[39m \u001b[39m\u001b[39m \u001b[39m\u001b[39m \u001b[39m\u001b[39m \u001b[39m\u001b[39m \u001b[39m\u001b[39m \u001b[39m\u001b[39m \u001b[39m\u001b[39m \u001b[39m\u001b[39m \u001b[39m\u001b[39m \u001b[39m\u001b[39m \u001b[39m\u001b[39m \u001b[39m\u001b[39m \u001b[39m\u001b[39m \u001b[39m\u001b[39m \u001b[39m\u001b[39m \u001b[39m\u001b[39m \u001b[39m\u001b[39m \u001b[39m\u001b[39m \u001b[39m\u001b[39m \u001b[39m\u001b[39m \u001b[39m\u001b[39m \u001b[39m\u001b[39m \u001b[39m\u001b[39m \u001b[39m\u001b[39m \u001b[39m\u001b[39m \u001b[39m\u001b[39m \u001b[39m\u001b[39m \u001b[39m\u001b[39m \u001b[39m\u001b[39m \u001b[39m\u001b[39m \u001b[39m\u001b[39m \u001b[39m\u001b[39m \u001b[39m\u001b[39m \u001b[39m\u001b[39m \u001b[39m\u001b[39m \u001b[39m\u001b[39m \u001b[39m\u001b[39m \u001b[39m\u001b[39m \u001b[39m\u001b[39m \u001b[39m\u001b[39m \u001b[39m\u001b[39m \u001b[39m\u001b[39m \u001b[39m\u001b[39m \u001b[39m\u001b[39m \u001b[39m\u001b[39m \u001b[39m\u001b[39m \u001b[39m\u001b[39m \u001b[39m\u001b[39m \u001b[39m\u001b[39m \u001b[39m\u001b[39m \u001b[39m\u001b[39m \u001b[39m\u001b[39m \u001b[39m\u001b[39m \u001b[39m\u001b[39m \u001b[39m\u001b[39m \u001b[39m\u001b[39m \u001b[39m\u001b[39m \u001b[39m\u001b[39m \u001b[39m\n",
      " 36| \u001b[39m \u001b[39m\u001b[39m \u001b[39m\u001b[39m \u001b[39m\u001b[39m \u001b[39m\u001b[39m \u001b[39m\u001b[39m \u001b[39m\u001b[39m \u001b[39m\u001b[39m \u001b[39m\u001b[39m \u001b[39m\u001b[39m \u001b[39m\u001b[39m \u001b[39m\u001b[39m \u001b[39m\u001b[39m \u001b[39m\u001b[39m \u001b[39m\u001b[39m \u001b[39m\u001b[39m \u001b[39m\u001b[39m \u001b[39m\u001b[39m \u001b[39m\u001b[39m \u001b[39m\u001b[39m \u001b[39m\u001b[39m \u001b[39m\u001b[39m \u001b[39m\u001b[39m \u001b[39m\u001b[39m \u001b[39m\u001b[39m \u001b[39m\u001b[39m \u001b[39m\u001b[39m \u001b[39m\u001b[39m \u001b[39m\u001b[39m \u001b[39m\u001b[39m \u001b[39m\u001b[39m \u001b[39m\u001b[39m \u001b[39m\u001b[39m \u001b[39m\u001b[39m \u001b[39m\u001b[39m \u001b[39m\u001b[39m \u001b[39m\u001b[39m \u001b[39m\u001b[39m \u001b[39m\u001b[39m \u001b[39m\u001b[39mo\u001b[39m\u001b[39m \u001b[39m\u001b[39m \u001b[39m\u001b[39m \u001b[39m\u001b[39m \u001b[39m\u001b[39m \u001b[39m\u001b[39m \u001b[39m\u001b[39m \u001b[39m\u001b[39m \u001b[39m\u001b[39m \u001b[39m\u001b[39m \u001b[39m\u001b[39m \u001b[39m\u001b[39m \u001b[39m\u001b[39m \u001b[39m\u001b[39m \u001b[39m\u001b[39m \u001b[39m\u001b[39m \u001b[39m\u001b[39m \u001b[39m\u001b[39m \u001b[39m\u001b[39m \u001b[39m\u001b[39m \u001b[39m\u001b[39m \u001b[39m\u001b[39m \u001b[39m\u001b[39m \u001b[39m\u001b[39m \u001b[39m\u001b[39m \u001b[39m\u001b[39m \u001b[39m\u001b[39m \u001b[39m\u001b[39m \u001b[39m\u001b[39m \u001b[39m\u001b[39m \u001b[39m\u001b[39m \u001b[39m\u001b[39m \u001b[39m\u001b[39m \u001b[39m\u001b[39m \u001b[39m\u001b[39m \u001b[39m\u001b[39m \u001b[39m\u001b[39m \u001b[39m\u001b[39m \u001b[39m\u001b[39m \u001b[39m\u001b[39m \u001b[39m\u001b[39m \u001b[39m\u001b[39m \u001b[39m\u001b[39m \u001b[39m\u001b[39m \u001b[39m\u001b[39m \u001b[39m\u001b[39m \u001b[39m\u001b[39m \u001b[39m\u001b[39m \u001b[39m\u001b[39m \u001b[39m\u001b[39m \u001b[39m\u001b[39m \u001b[39m\u001b[39m \u001b[39m\u001b[39m \u001b[39m\u001b[39m \u001b[39m\u001b[39m \u001b[39m\u001b[39m \u001b[39m\u001b[39m \u001b[39m\u001b[39m \u001b[39m\u001b[39m \u001b[39m\u001b[39m \u001b[39m\n",
      " 34| \u001b[39m \u001b[39m\u001b[39m \u001b[39m\u001b[39m \u001b[39m\u001b[39m \u001b[39m\u001b[39m \u001b[39m\u001b[39m \u001b[39m\u001b[39m \u001b[39m\u001b[39m \u001b[39m\u001b[39m \u001b[39m\u001b[39m \u001b[39m\u001b[39m \u001b[39m\u001b[39m \u001b[39m\u001b[39m \u001b[39m\u001b[39m \u001b[39m\u001b[39m \u001b[39m\u001b[39m \u001b[39m\u001b[39m \u001b[39m\u001b[39m \u001b[39m\u001b[39m \u001b[39m\u001b[39m \u001b[39m\u001b[39m \u001b[39m\u001b[39m \u001b[39m\u001b[39m \u001b[39m\u001b[39m \u001b[39m\u001b[39m \u001b[39m\u001b[39m \u001b[39m\u001b[39m \u001b[39m\u001b[39m \u001b[39m\u001b[39m \u001b[39m\u001b[39m \u001b[39m\u001b[39m \u001b[39m\u001b[39m \u001b[39m\u001b[39m \u001b[39m\u001b[39m \u001b[39m\u001b[39m \u001b[39m\u001b[39m \u001b[39m\u001b[39m \u001b[39m\u001b[39m \u001b[39m\u001b[39m \u001b[39m\u001b[39mo\u001b[39m\u001b[39m \u001b[39m\u001b[39m \u001b[39m\u001b[39m \u001b[39m\u001b[39m \u001b[39m\u001b[39mo\u001b[39m\u001b[39m \u001b[39m\u001b[39m \u001b[39m\u001b[39m \u001b[39m\u001b[39m \u001b[39m\u001b[39m \u001b[39m\u001b[39m \u001b[39m\u001b[39m \u001b[39m\u001b[39m \u001b[39m\u001b[39m \u001b[39m\u001b[39m \u001b[39m\u001b[39m \u001b[39m\u001b[39m \u001b[39m\u001b[39m \u001b[39m\u001b[39m \u001b[39m\u001b[39m \u001b[39m\u001b[39m \u001b[39m\u001b[39m \u001b[39m\u001b[39m \u001b[39m\u001b[39m \u001b[39m\u001b[39m \u001b[39m\u001b[39m \u001b[39m\u001b[39m \u001b[39m\u001b[39m \u001b[39m\u001b[39m \u001b[39m\u001b[39m \u001b[39m\u001b[39m \u001b[39m\u001b[39m \u001b[39m\u001b[39m \u001b[39m\u001b[39m \u001b[39m\u001b[39m \u001b[39m\u001b[39m \u001b[39m\u001b[39m \u001b[39m\u001b[39m \u001b[39m\u001b[39m \u001b[39m\u001b[39m \u001b[39m\u001b[39m \u001b[39m\u001b[39m \u001b[39m\u001b[39m \u001b[39m\u001b[39m \u001b[39m\u001b[39m \u001b[39m\u001b[39m \u001b[39m\u001b[39m \u001b[39m\u001b[39m \u001b[39m\u001b[39m \u001b[39m\u001b[39m \u001b[39m\u001b[39m \u001b[39m\u001b[39m \u001b[39m\u001b[39m \u001b[39m\u001b[39m \u001b[39m\u001b[39m \u001b[39m\u001b[39m \u001b[39m\u001b[39m \u001b[39m\u001b[39m \u001b[39m\u001b[39m \u001b[39m\u001b[39m \u001b[39m\n",
      " 32| \u001b[39m \u001b[39m\u001b[39m \u001b[39m\u001b[39m \u001b[39m\u001b[39m \u001b[39m\u001b[39m \u001b[39m\u001b[39m \u001b[39m\u001b[39m \u001b[39m\u001b[39m \u001b[39m\u001b[39m \u001b[39m\u001b[39m \u001b[39m\u001b[39m \u001b[39m\u001b[39m \u001b[39m\u001b[39m \u001b[39m\u001b[39m \u001b[39m\u001b[39m \u001b[39m\u001b[39m \u001b[39m\u001b[39m \u001b[39m\u001b[39m \u001b[39m\u001b[39m \u001b[39m\u001b[39m \u001b[39m\u001b[39m \u001b[39m\u001b[39m \u001b[39m\u001b[39m \u001b[39m\u001b[39m \u001b[39m\u001b[39m \u001b[39m\u001b[39m \u001b[39m\u001b[39m \u001b[39m\u001b[39m \u001b[39m\u001b[39m \u001b[39m\u001b[39m \u001b[39m\u001b[39m \u001b[39m\u001b[39m \u001b[39m\u001b[39m \u001b[39m\u001b[39m \u001b[39m\u001b[39m \u001b[39m\u001b[39m \u001b[39m\u001b[39m \u001b[39m\u001b[39m \u001b[39m\u001b[39m \u001b[39m\u001b[39mo\u001b[39m\u001b[39m \u001b[39m\u001b[39m \u001b[39m\u001b[39m \u001b[39m\u001b[39m \u001b[39m\u001b[39mo\u001b[39m\u001b[39m \u001b[39m\u001b[39m \u001b[39m\u001b[39m \u001b[39m\u001b[39m \u001b[39m\u001b[39m \u001b[39m\u001b[39m \u001b[39m\u001b[39m \u001b[39m\u001b[39m \u001b[39m\u001b[39m \u001b[39m\u001b[39m \u001b[39m\u001b[39m \u001b[39m\u001b[39m \u001b[39m\u001b[39m \u001b[39m\u001b[39m \u001b[39m\u001b[39m \u001b[39m\u001b[39m \u001b[39m\u001b[39m \u001b[39m\u001b[39m \u001b[39m\u001b[39m \u001b[39m\u001b[39m \u001b[39m\u001b[39m \u001b[39m\u001b[39m \u001b[39m\u001b[39m \u001b[39m\u001b[39m \u001b[39m\u001b[39m \u001b[39m\u001b[39m \u001b[39m\u001b[39m \u001b[39m\u001b[39m \u001b[39m\u001b[39m \u001b[39m\u001b[39m \u001b[39m\u001b[39m \u001b[39m\u001b[39m \u001b[39m\u001b[39m \u001b[39m\u001b[39m \u001b[39m\u001b[39m \u001b[39m\u001b[39m \u001b[39m\u001b[39m \u001b[39m\u001b[39m \u001b[39m\u001b[39m \u001b[39m\u001b[39m \u001b[39m\u001b[39m \u001b[39m\u001b[39m \u001b[39m\u001b[39m \u001b[39m\u001b[39m \u001b[39m\u001b[39m \u001b[39m\u001b[39m \u001b[39m\u001b[39m \u001b[39m\u001b[39m \u001b[39m\u001b[39m \u001b[39m\u001b[39m \u001b[39m\u001b[39m \u001b[39m\u001b[39m \u001b[39m\u001b[39m \u001b[39m\u001b[39m \u001b[39m\u001b[39m \u001b[39m\n",
      " 30| \u001b[39m \u001b[39m\u001b[39m \u001b[39m\u001b[39m \u001b[39m\u001b[39m \u001b[39m\u001b[39m \u001b[39m\u001b[39m \u001b[39m\u001b[39m \u001b[39m\u001b[39m \u001b[39m\u001b[39m \u001b[39m\u001b[39m \u001b[39m\u001b[39m \u001b[39m\u001b[39m \u001b[39m\u001b[39m \u001b[39m\u001b[39m \u001b[39m\u001b[39m \u001b[39m\u001b[39m \u001b[39m\u001b[39m \u001b[39m\u001b[39m \u001b[39m\u001b[39m \u001b[39m\u001b[39m \u001b[39m\u001b[39m \u001b[39m\u001b[39m \u001b[39m\u001b[39m \u001b[39m\u001b[39m \u001b[39m\u001b[39m \u001b[39m\u001b[39m \u001b[39m\u001b[39m \u001b[39m\u001b[39m \u001b[39m\u001b[39m \u001b[39m\u001b[39m \u001b[39m\u001b[39m \u001b[39m\u001b[39m \u001b[39m\u001b[39m \u001b[39m\u001b[39m \u001b[39m\u001b[39m \u001b[39m\u001b[39m \u001b[39m\u001b[39m \u001b[39m\u001b[39m \u001b[39m\u001b[39m \u001b[39m\u001b[39mo\u001b[39m\u001b[39mo\u001b[39m\u001b[39m \u001b[39m\u001b[39m \u001b[39m\u001b[39m \u001b[39m\u001b[39mo\u001b[39m\u001b[39m \u001b[39m\u001b[39m \u001b[39m\u001b[39m \u001b[39m\u001b[39m \u001b[39m\u001b[39m \u001b[39m\u001b[39m \u001b[39m\u001b[39m \u001b[39m\u001b[39mo\u001b[39m\u001b[39m \u001b[39m\u001b[39m \u001b[39m\u001b[39m \u001b[39m\u001b[39m \u001b[39m\u001b[39m \u001b[39m\u001b[39m \u001b[39m\u001b[39m \u001b[39m\u001b[39m \u001b[39m\u001b[39m \u001b[39m\u001b[39m \u001b[39m\u001b[39m \u001b[39m\u001b[39m \u001b[39m\u001b[39m \u001b[39m\u001b[39m \u001b[39m\u001b[39m \u001b[39m\u001b[39m \u001b[39m\u001b[39m \u001b[39m\u001b[39m \u001b[39m\u001b[39m \u001b[39m\u001b[39m \u001b[39m\u001b[39m \u001b[39m\u001b[39m \u001b[39m\u001b[39m \u001b[39m\u001b[39m \u001b[39m\u001b[39m \u001b[39m\u001b[39m \u001b[39m\u001b[39m \u001b[39m\u001b[39m \u001b[39m\u001b[39m \u001b[39m\u001b[39m \u001b[39m\u001b[39m \u001b[39m\u001b[39m \u001b[39m\u001b[39m \u001b[39m\u001b[39m \u001b[39m\u001b[39m \u001b[39m\u001b[39m \u001b[39m\u001b[39m \u001b[39m\u001b[39m \u001b[39m\u001b[39m \u001b[39m\u001b[39m \u001b[39m\u001b[39m \u001b[39m\u001b[39m \u001b[39m\u001b[39m \u001b[39m\u001b[39m \u001b[39m\u001b[39m \u001b[39m\u001b[39m \u001b[39m\u001b[39m \u001b[39m\n",
      " 28| \u001b[39m \u001b[39m\u001b[39m \u001b[39m\u001b[39m \u001b[39m\u001b[39m \u001b[39m\u001b[39m \u001b[39m\u001b[39m \u001b[39m\u001b[39m \u001b[39m\u001b[39m \u001b[39m\u001b[39m \u001b[39m\u001b[39m \u001b[39m\u001b[39m \u001b[39m\u001b[39m \u001b[39m\u001b[39m \u001b[39m\u001b[39m \u001b[39m\u001b[39m \u001b[39m\u001b[39m \u001b[39m\u001b[39m \u001b[39m\u001b[39m \u001b[39m\u001b[39m \u001b[39m\u001b[39m \u001b[39m\u001b[39m \u001b[39m\u001b[39m \u001b[39m\u001b[39m \u001b[39m\u001b[39m \u001b[39m\u001b[39m \u001b[39m\u001b[39m \u001b[39m\u001b[39m \u001b[39m\u001b[39m \u001b[39m\u001b[39m \u001b[39m\u001b[39m \u001b[39m\u001b[39m \u001b[39m\u001b[39m \u001b[39m\u001b[39m \u001b[39m\u001b[39m \u001b[39m\u001b[39m \u001b[39m\u001b[39m \u001b[39m\u001b[39m \u001b[39m\u001b[39m \u001b[39m\u001b[39m \u001b[39m\u001b[39mo\u001b[39m\u001b[39mo\u001b[39m\u001b[39m \u001b[39m\u001b[39m \u001b[39m\u001b[39m \u001b[39m\u001b[39mo\u001b[39m\u001b[39m \u001b[39m\u001b[39m \u001b[39m\u001b[39m \u001b[39m\u001b[39m \u001b[39m\u001b[39m \u001b[39m\u001b[39m \u001b[39m\u001b[39m \u001b[39m\u001b[39mo\u001b[39m\u001b[39m \u001b[39m\u001b[39m \u001b[39m\u001b[39m \u001b[39m\u001b[39m \u001b[39m\u001b[39m \u001b[39m\u001b[39m \u001b[39m\u001b[39m \u001b[39m\u001b[39m \u001b[39m\u001b[39m \u001b[39m\u001b[39m \u001b[39m\u001b[39m \u001b[39m\u001b[39m \u001b[39m\u001b[39m \u001b[39m\u001b[39m \u001b[39m\u001b[39m \u001b[39m\u001b[39m \u001b[39m\u001b[39m \u001b[39m\u001b[39m \u001b[39m\u001b[39m \u001b[39m\u001b[39m \u001b[39m\u001b[39m \u001b[39m\u001b[39m \u001b[39m\u001b[39m \u001b[39m\u001b[39m \u001b[39m\u001b[39m \u001b[39m\u001b[39m \u001b[39m\u001b[39m \u001b[39m\u001b[39m \u001b[39m\u001b[39m \u001b[39m\u001b[39m \u001b[39m\u001b[39m \u001b[39m\u001b[39m \u001b[39m\u001b[39m \u001b[39m\u001b[39m \u001b[39m\u001b[39m \u001b[39m\u001b[39m \u001b[39m\u001b[39m \u001b[39m\u001b[39m \u001b[39m\u001b[39m \u001b[39m\u001b[39m \u001b[39m\u001b[39m \u001b[39m\u001b[39m \u001b[39m\u001b[39m \u001b[39m\u001b[39m \u001b[39m\u001b[39m \u001b[39m\u001b[39m \u001b[39m\u001b[39m \u001b[39m\n",
      " 26| \u001b[39m \u001b[39m\u001b[39m \u001b[39m\u001b[39m \u001b[39m\u001b[39m \u001b[39m\u001b[39m \u001b[39m\u001b[39m \u001b[39m\u001b[39m \u001b[39m\u001b[39m \u001b[39m\u001b[39m \u001b[39m\u001b[39m \u001b[39m\u001b[39m \u001b[39m\u001b[39m \u001b[39m\u001b[39m \u001b[39m\u001b[39m \u001b[39m\u001b[39m \u001b[39m\u001b[39m \u001b[39m\u001b[39m \u001b[39m\u001b[39m \u001b[39m\u001b[39m \u001b[39m\u001b[39m \u001b[39m\u001b[39m \u001b[39m\u001b[39m \u001b[39m\u001b[39m \u001b[39m\u001b[39m \u001b[39m\u001b[39m \u001b[39m\u001b[39m \u001b[39m\u001b[39m \u001b[39m\u001b[39m \u001b[39m\u001b[39m \u001b[39m\u001b[39m \u001b[39m\u001b[39m \u001b[39m\u001b[39m \u001b[39m\u001b[39m \u001b[39m\u001b[39mo\u001b[39m\u001b[39m \u001b[39m\u001b[39m \u001b[39m\u001b[39m \u001b[39m\u001b[39m \u001b[39m\u001b[39m \u001b[39m\u001b[39mo\u001b[39m\u001b[39mo\u001b[39m\u001b[39mo\u001b[39m\u001b[39mo\u001b[39m\u001b[39m \u001b[39m\u001b[39mo\u001b[39m\u001b[39mo\u001b[39m\u001b[39m \u001b[39m\u001b[39mo\u001b[39m\u001b[39m \u001b[39m\u001b[39m \u001b[39m\u001b[39m \u001b[39m\u001b[39m \u001b[39m\u001b[39mo\u001b[39m\u001b[39m \u001b[39m\u001b[39m \u001b[39m\u001b[39m \u001b[39m\u001b[39m \u001b[39m\u001b[39m \u001b[39m\u001b[39m \u001b[39m\u001b[39m \u001b[39m\u001b[39m \u001b[39m\u001b[39m \u001b[39m\u001b[39m \u001b[39m\u001b[39m \u001b[39m\u001b[39m \u001b[39m\u001b[39m \u001b[39m\u001b[39m \u001b[39m\u001b[39m \u001b[39m\u001b[39m \u001b[39m\u001b[39m \u001b[39m\u001b[39m \u001b[39m\u001b[39m \u001b[39m\u001b[39m \u001b[39m\u001b[39m \u001b[39m\u001b[39m \u001b[39m\u001b[39m \u001b[39m\u001b[39m \u001b[39m\u001b[39m \u001b[39m\u001b[39m \u001b[39m\u001b[39m \u001b[39m\u001b[39m \u001b[39m\u001b[39m \u001b[39m\u001b[39m \u001b[39m\u001b[39m \u001b[39m\u001b[39m \u001b[39m\u001b[39m \u001b[39m\u001b[39m \u001b[39m\u001b[39m \u001b[39m\u001b[39m \u001b[39m\u001b[39m \u001b[39m\u001b[39m \u001b[39m\u001b[39m \u001b[39m\u001b[39m \u001b[39m\u001b[39m \u001b[39m\u001b[39m \u001b[39m\u001b[39m \u001b[39m\u001b[39m \u001b[39m\u001b[39m \u001b[39m\u001b[39m \u001b[39m\u001b[39m \u001b[39m\n",
      " 24| \u001b[39m \u001b[39m\u001b[39m \u001b[39m\u001b[39m \u001b[39m\u001b[39m \u001b[39m\u001b[39m \u001b[39m\u001b[39m \u001b[39m\u001b[39m \u001b[39m\u001b[39m \u001b[39m\u001b[39m \u001b[39m\u001b[39m \u001b[39m\u001b[39m \u001b[39m\u001b[39m \u001b[39m\u001b[39m \u001b[39m\u001b[39m \u001b[39m\u001b[39m \u001b[39m\u001b[39m \u001b[39m\u001b[39m \u001b[39m\u001b[39m \u001b[39m\u001b[39m \u001b[39m\u001b[39m \u001b[39m\u001b[39m \u001b[39m\u001b[39m \u001b[39m\u001b[39m \u001b[39m\u001b[39m \u001b[39m\u001b[39m \u001b[39m\u001b[39m \u001b[39m\u001b[39m \u001b[39m\u001b[39m \u001b[39m\u001b[39m \u001b[39m\u001b[39m \u001b[39m\u001b[39m \u001b[39m\u001b[39m \u001b[39m\u001b[39m \u001b[39m\u001b[39mo\u001b[39m\u001b[39mo\u001b[39m\u001b[39m \u001b[39m\u001b[39m \u001b[39m\u001b[39m \u001b[39m\u001b[39m \u001b[39m\u001b[39mo\u001b[39m\u001b[39mo\u001b[39m\u001b[39mo\u001b[39m\u001b[39mo\u001b[39m\u001b[39m \u001b[39m\u001b[39mo\u001b[39m\u001b[39mo\u001b[39m\u001b[39m \u001b[39m\u001b[39mo\u001b[39m\u001b[39m \u001b[39m\u001b[39m \u001b[39m\u001b[39m \u001b[39m\u001b[39m \u001b[39m\u001b[39mo\u001b[39m\u001b[39m \u001b[39m\u001b[39mo\u001b[39m\u001b[39m \u001b[39m\u001b[39m \u001b[39m\u001b[39m \u001b[39m\u001b[39m \u001b[39m\u001b[39m \u001b[39m\u001b[39m \u001b[39m\u001b[39m \u001b[39m\u001b[39m \u001b[39m\u001b[39m \u001b[39m\u001b[39m \u001b[39m\u001b[39m \u001b[39m\u001b[39m \u001b[39m\u001b[39m \u001b[39m\u001b[39m \u001b[39m\u001b[39m \u001b[39m\u001b[39m \u001b[39m\u001b[39m \u001b[39m\u001b[39m \u001b[39m\u001b[39m \u001b[39m\u001b[39m \u001b[39m\u001b[39m \u001b[39m\u001b[39m \u001b[39m\u001b[39m \u001b[39m\u001b[39m \u001b[39m\u001b[39m \u001b[39m\u001b[39m \u001b[39m\u001b[39m \u001b[39m\u001b[39m \u001b[39m\u001b[39m \u001b[39m\u001b[39m \u001b[39m\u001b[39m \u001b[39m\u001b[39m \u001b[39m\u001b[39m \u001b[39m\u001b[39m \u001b[39m\u001b[39m \u001b[39m\u001b[39m \u001b[39m\u001b[39m \u001b[39m\u001b[39m \u001b[39m\u001b[39m \u001b[39m\u001b[39m \u001b[39m\u001b[39m \u001b[39m\u001b[39m \u001b[39m\u001b[39m \u001b[39m\u001b[39m \u001b[39m\u001b[39m \u001b[39m\n",
      " 22| \u001b[39m \u001b[39m\u001b[39m \u001b[39m\u001b[39m \u001b[39m\u001b[39m \u001b[39m\u001b[39m \u001b[39m\u001b[39m \u001b[39m\u001b[39m \u001b[39m\u001b[39m \u001b[39m\u001b[39m \u001b[39m\u001b[39m \u001b[39m\u001b[39m \u001b[39m\u001b[39m \u001b[39m\u001b[39m \u001b[39m\u001b[39m \u001b[39m\u001b[39m \u001b[39m\u001b[39m \u001b[39m\u001b[39m \u001b[39m\u001b[39m \u001b[39m\u001b[39m \u001b[39m\u001b[39m \u001b[39m\u001b[39m \u001b[39m\u001b[39m \u001b[39m\u001b[39m \u001b[39m\u001b[39m \u001b[39m\u001b[39m \u001b[39m\u001b[39m \u001b[39m\u001b[39m \u001b[39m\u001b[39m \u001b[39m\u001b[39m \u001b[39m\u001b[39m \u001b[39m\u001b[39m \u001b[39m\u001b[39m \u001b[39m\u001b[39m \u001b[39m\u001b[39mo\u001b[39m\u001b[39mo\u001b[39m\u001b[39m \u001b[39m\u001b[39m \u001b[39m\u001b[39m \u001b[39m\u001b[39m \u001b[39m\u001b[39mo\u001b[39m\u001b[39mo\u001b[39m\u001b[39mo\u001b[39m\u001b[39mo\u001b[39m\u001b[39mo\u001b[39m\u001b[39mo\u001b[39m\u001b[39mo\u001b[39m\u001b[39m \u001b[39m\u001b[39mo\u001b[39m\u001b[39mo\u001b[39m\u001b[39m \u001b[39m\u001b[39m \u001b[39m\u001b[39mo\u001b[39m\u001b[39mo\u001b[39m\u001b[39m \u001b[39m\u001b[39mo\u001b[39m\u001b[39mo\u001b[39m\u001b[39m \u001b[39m\u001b[39m \u001b[39m\u001b[39m \u001b[39m\u001b[39m \u001b[39m\u001b[39m \u001b[39m\u001b[39m \u001b[39m\u001b[39m \u001b[39m\u001b[39mo\u001b[39m\u001b[39m \u001b[39m\u001b[39m \u001b[39m\u001b[39m \u001b[39m\u001b[39m \u001b[39m\u001b[39m \u001b[39m\u001b[39m \u001b[39m\u001b[39m \u001b[39m\u001b[39m \u001b[39m\u001b[39m \u001b[39m\u001b[39m \u001b[39m\u001b[39m \u001b[39m\u001b[39m \u001b[39m\u001b[39m \u001b[39m\u001b[39m \u001b[39m\u001b[39m \u001b[39m\u001b[39m \u001b[39m\u001b[39m \u001b[39m\u001b[39m \u001b[39m\u001b[39m \u001b[39m\u001b[39m \u001b[39m\u001b[39m \u001b[39m\u001b[39m \u001b[39m\u001b[39m \u001b[39m\u001b[39m \u001b[39m\u001b[39m \u001b[39m\u001b[39m \u001b[39m\u001b[39m \u001b[39m\u001b[39m \u001b[39m\u001b[39m \u001b[39m\u001b[39m \u001b[39m\u001b[39m \u001b[39m\u001b[39m \u001b[39m\u001b[39m \u001b[39m\u001b[39m \u001b[39m\u001b[39m \u001b[39m\u001b[39m \u001b[39m\n",
      " 19| \u001b[39m \u001b[39m\u001b[39m \u001b[39m\u001b[39m \u001b[39m\u001b[39m \u001b[39m\u001b[39m \u001b[39m\u001b[39m \u001b[39m\u001b[39m \u001b[39m\u001b[39m \u001b[39m\u001b[39m \u001b[39m\u001b[39m \u001b[39m\u001b[39m \u001b[39m\u001b[39m \u001b[39m\u001b[39m \u001b[39m\u001b[39m \u001b[39m\u001b[39m \u001b[39m\u001b[39m \u001b[39m\u001b[39m \u001b[39m\u001b[39m \u001b[39m\u001b[39m \u001b[39m\u001b[39m \u001b[39m\u001b[39m \u001b[39m\u001b[39m \u001b[39m\u001b[39m \u001b[39m\u001b[39m \u001b[39m\u001b[39m \u001b[39m\u001b[39m \u001b[39m\u001b[39m \u001b[39m\u001b[39m \u001b[39m\u001b[39m \u001b[39m\u001b[39m \u001b[39m\u001b[39m \u001b[39m\u001b[39mo\u001b[39m\u001b[39m \u001b[39m\u001b[39mo\u001b[39m\u001b[39mo\u001b[39m\u001b[39m \u001b[39m\u001b[39m \u001b[39m\u001b[39mo\u001b[39m\u001b[39mo\u001b[39m\u001b[39mo\u001b[39m\u001b[39mo\u001b[39m\u001b[39mo\u001b[39m\u001b[39mo\u001b[39m\u001b[39mo\u001b[39m\u001b[39mo\u001b[39m\u001b[39mo\u001b[39m\u001b[39m \u001b[39m\u001b[39mo\u001b[39m\u001b[39mo\u001b[39m\u001b[39m \u001b[39m\u001b[39m \u001b[39m\u001b[39mo\u001b[39m\u001b[39mo\u001b[39m\u001b[39m \u001b[39m\u001b[39mo\u001b[39m\u001b[39mo\u001b[39m\u001b[39m \u001b[39m\u001b[39mo\u001b[39m\u001b[39m \u001b[39m\u001b[39m \u001b[39m\u001b[39m \u001b[39m\u001b[39m \u001b[39m\u001b[39m \u001b[39m\u001b[39mo\u001b[39m\u001b[39m \u001b[39m\u001b[39m \u001b[39m\u001b[39m \u001b[39m\u001b[39m \u001b[39m\u001b[39m \u001b[39m\u001b[39m \u001b[39m\u001b[39m \u001b[39m\u001b[39m \u001b[39m\u001b[39m \u001b[39m\u001b[39m \u001b[39m\u001b[39m \u001b[39m\u001b[39m \u001b[39m\u001b[39m \u001b[39m\u001b[39m \u001b[39m\u001b[39m \u001b[39m\u001b[39m \u001b[39m\u001b[39m \u001b[39m\u001b[39m \u001b[39m\u001b[39m \u001b[39m\u001b[39m \u001b[39m\u001b[39m \u001b[39m\u001b[39m \u001b[39m\u001b[39m \u001b[39m\u001b[39m \u001b[39m\u001b[39m \u001b[39m\u001b[39m \u001b[39m\u001b[39m \u001b[39m\u001b[39m \u001b[39m\u001b[39m \u001b[39m\u001b[39m \u001b[39m\u001b[39m \u001b[39m\u001b[39m \u001b[39m\u001b[39m \u001b[39m\u001b[39m \u001b[39m\u001b[39m \u001b[39m\u001b[39m \u001b[39m\n",
      " 17| \u001b[39m \u001b[39m\u001b[39m \u001b[39m\u001b[39m \u001b[39m\u001b[39m \u001b[39m\u001b[39m \u001b[39m\u001b[39m \u001b[39m\u001b[39m \u001b[39m\u001b[39m \u001b[39m\u001b[39m \u001b[39m\u001b[39m \u001b[39m\u001b[39m \u001b[39m\u001b[39m \u001b[39m\u001b[39m \u001b[39m\u001b[39m \u001b[39m\u001b[39m \u001b[39m\u001b[39m \u001b[39m\u001b[39m \u001b[39m\u001b[39m \u001b[39m\u001b[39m \u001b[39m\u001b[39m \u001b[39m\u001b[39m \u001b[39m\u001b[39m \u001b[39m\u001b[39m \u001b[39m\u001b[39m \u001b[39m\u001b[39m \u001b[39m\u001b[39m \u001b[39m\u001b[39m \u001b[39m\u001b[39m \u001b[39m\u001b[39mo\u001b[39m\u001b[39m \u001b[39m\u001b[39m \u001b[39m\u001b[39mo\u001b[39m\u001b[39m \u001b[39m\u001b[39mo\u001b[39m\u001b[39mo\u001b[39m\u001b[39mo\u001b[39m\u001b[39m \u001b[39m\u001b[39mo\u001b[39m\u001b[39mo\u001b[39m\u001b[39mo\u001b[39m\u001b[39mo\u001b[39m\u001b[39mo\u001b[39m\u001b[39mo\u001b[39m\u001b[39mo\u001b[39m\u001b[39mo\u001b[39m\u001b[39mo\u001b[39m\u001b[39m \u001b[39m\u001b[39mo\u001b[39m\u001b[39mo\u001b[39m\u001b[39m \u001b[39m\u001b[39mo\u001b[39m\u001b[39mo\u001b[39m\u001b[39mo\u001b[39m\u001b[39mo\u001b[39m\u001b[39mo\u001b[39m\u001b[39mo\u001b[39m\u001b[39mo\u001b[39m\u001b[39mo\u001b[39m\u001b[39mo\u001b[39m\u001b[39m \u001b[39m\u001b[39m \u001b[39m\u001b[39m \u001b[39m\u001b[39m \u001b[39m\u001b[39mo\u001b[39m\u001b[39m \u001b[39m\u001b[39m \u001b[39m\u001b[39m \u001b[39m\u001b[39m \u001b[39m\u001b[39m \u001b[39m\u001b[39m \u001b[39m\u001b[39m \u001b[39m\u001b[39m \u001b[39m\u001b[39m \u001b[39m\u001b[39m \u001b[39m\u001b[39m \u001b[39m\u001b[39m \u001b[39m\u001b[39m \u001b[39m\u001b[39m \u001b[39m\u001b[39m \u001b[39m\u001b[39m \u001b[39m\u001b[39m \u001b[39m\u001b[39m \u001b[39m\u001b[39m \u001b[39m\u001b[39m \u001b[39m\u001b[39m \u001b[39m\u001b[39m \u001b[39m\u001b[39m \u001b[39m\u001b[39m \u001b[39m\u001b[39m \u001b[39m\u001b[39m \u001b[39m\u001b[39m \u001b[39m\u001b[39m \u001b[39m\u001b[39m \u001b[39m\u001b[39m \u001b[39m\u001b[39m \u001b[39m\u001b[39m \u001b[39m\u001b[39m \u001b[39m\u001b[39m \u001b[39m\u001b[39m \u001b[39m\u001b[39m \u001b[39m\n",
      " 15| \u001b[39m \u001b[39m\u001b[39m \u001b[39m\u001b[39m \u001b[39m\u001b[39m \u001b[39m\u001b[39m \u001b[39m\u001b[39m \u001b[39m\u001b[39m \u001b[39m\u001b[39m \u001b[39m\u001b[39m \u001b[39m\u001b[39m \u001b[39m\u001b[39m \u001b[39m\u001b[39m \u001b[39m\u001b[39m \u001b[39m\u001b[39m \u001b[39m\u001b[39m \u001b[39m\u001b[39m \u001b[39m\u001b[39m \u001b[39m\u001b[39m \u001b[39m\u001b[39m \u001b[39m\u001b[39m \u001b[39m\u001b[39m \u001b[39m\u001b[39m \u001b[39m\u001b[39m \u001b[39m\u001b[39mo\u001b[39m\u001b[39m \u001b[39m\u001b[39m \u001b[39m\u001b[39m \u001b[39m\u001b[39mo\u001b[39m\u001b[39mo\u001b[39m\u001b[39m \u001b[39m\u001b[39m \u001b[39m\u001b[39mo\u001b[39m\u001b[39m \u001b[39m\u001b[39mo\u001b[39m\u001b[39mo\u001b[39m\u001b[39mo\u001b[39m\u001b[39mo\u001b[39m\u001b[39mo\u001b[39m\u001b[39mo\u001b[39m\u001b[39mo\u001b[39m\u001b[39mo\u001b[39m\u001b[39mo\u001b[39m\u001b[39mo\u001b[39m\u001b[39mo\u001b[39m\u001b[39mo\u001b[39m\u001b[39mo\u001b[39m\u001b[39mo\u001b[39m\u001b[39mo\u001b[39m\u001b[39mo\u001b[39m\u001b[39m \u001b[39m\u001b[39mo\u001b[39m\u001b[39mo\u001b[39m\u001b[39mo\u001b[39m\u001b[39mo\u001b[39m\u001b[39mo\u001b[39m\u001b[39mo\u001b[39m\u001b[39mo\u001b[39m\u001b[39mo\u001b[39m\u001b[39mo\u001b[39m\u001b[39m \u001b[39m\u001b[39m \u001b[39m\u001b[39m \u001b[39m\u001b[39mo\u001b[39m\u001b[39mo\u001b[39m\u001b[39m \u001b[39m\u001b[39m \u001b[39m\u001b[39m \u001b[39m\u001b[39m \u001b[39m\u001b[39m \u001b[39m\u001b[39m \u001b[39m\u001b[39m \u001b[39m\u001b[39m \u001b[39m\u001b[39m \u001b[39m\u001b[39m \u001b[39m\u001b[39m \u001b[39m\u001b[39m \u001b[39m\u001b[39m \u001b[39m\u001b[39m \u001b[39m\u001b[39m \u001b[39m\u001b[39m \u001b[39m\u001b[39m \u001b[39m\u001b[39m \u001b[39m\u001b[39m \u001b[39m\u001b[39m \u001b[39m\u001b[39m \u001b[39m\u001b[39m \u001b[39m\u001b[39m \u001b[39m\u001b[39m \u001b[39m\u001b[39m \u001b[39m\u001b[39m \u001b[39m\u001b[39m \u001b[39m\u001b[39m \u001b[39m\u001b[39m \u001b[39m\u001b[39m \u001b[39m\u001b[39m \u001b[39m\u001b[39m \u001b[39m\u001b[39m \u001b[39m\u001b[39m \u001b[39m\u001b[39m \u001b[39m\u001b[39m \u001b[39m\n",
      " 13| \u001b[39m \u001b[39m\u001b[39m \u001b[39m\u001b[39m \u001b[39m\u001b[39m \u001b[39m\u001b[39m \u001b[39m\u001b[39m \u001b[39m\u001b[39m \u001b[39m\u001b[39m \u001b[39m\u001b[39m \u001b[39m\u001b[39m \u001b[39m\u001b[39m \u001b[39m\u001b[39m \u001b[39m\u001b[39m \u001b[39m\u001b[39m \u001b[39m\u001b[39m \u001b[39m\u001b[39m \u001b[39m\u001b[39m \u001b[39m\u001b[39m \u001b[39m\u001b[39m \u001b[39m\u001b[39m \u001b[39m\u001b[39m \u001b[39m\u001b[39m \u001b[39m\u001b[39m \u001b[39m\u001b[39mo\u001b[39m\u001b[39m \u001b[39m\u001b[39m \u001b[39m\u001b[39m \u001b[39m\u001b[39mo\u001b[39m\u001b[39mo\u001b[39m\u001b[39mo\u001b[39m\u001b[39m \u001b[39m\u001b[39mo\u001b[39m\u001b[39mo\u001b[39m\u001b[39mo\u001b[39m\u001b[39mo\u001b[39m\u001b[39mo\u001b[39m\u001b[39mo\u001b[39m\u001b[39mo\u001b[39m\u001b[39mo\u001b[39m\u001b[39mo\u001b[39m\u001b[39mo\u001b[39m\u001b[39mo\u001b[39m\u001b[39mo\u001b[39m\u001b[39mo\u001b[39m\u001b[39mo\u001b[39m\u001b[39mo\u001b[39m\u001b[39mo\u001b[39m\u001b[39mo\u001b[39m\u001b[39mo\u001b[39m\u001b[39mo\u001b[39m\u001b[39mo\u001b[39m\u001b[39mo\u001b[39m\u001b[39mo\u001b[39m\u001b[39mo\u001b[39m\u001b[39mo\u001b[39m\u001b[39mo\u001b[39m\u001b[39mo\u001b[39m\u001b[39mo\u001b[39m\u001b[39mo\u001b[39m\u001b[39mo\u001b[39m\u001b[39mo\u001b[39m\u001b[39m \u001b[39m\u001b[39mo\u001b[39m\u001b[39mo\u001b[39m\u001b[39m \u001b[39m\u001b[39m \u001b[39m\u001b[39m \u001b[39m\u001b[39mo\u001b[39m\u001b[39m \u001b[39m\u001b[39m \u001b[39m\u001b[39m \u001b[39m\u001b[39m \u001b[39m\u001b[39m \u001b[39m\u001b[39m \u001b[39m\u001b[39m \u001b[39m\u001b[39m \u001b[39m\u001b[39m \u001b[39m\u001b[39m \u001b[39m\u001b[39m \u001b[39m\u001b[39m \u001b[39m\u001b[39m \u001b[39m\u001b[39m \u001b[39m\u001b[39m \u001b[39m\u001b[39m \u001b[39m\u001b[39m \u001b[39m\u001b[39m \u001b[39m\u001b[39m \u001b[39m\u001b[39m \u001b[39m\u001b[39m \u001b[39m\u001b[39m \u001b[39m\u001b[39m \u001b[39m\u001b[39m \u001b[39m\u001b[39m \u001b[39m\u001b[39m \u001b[39m\u001b[39m \u001b[39m\u001b[39m \u001b[39m\u001b[39m \u001b[39m\u001b[39m \u001b[39m\u001b[39m \u001b[39m\u001b[39m \u001b[39m\n",
      " 11| \u001b[39m \u001b[39m\u001b[39m \u001b[39m\u001b[39m \u001b[39m\u001b[39m \u001b[39m\u001b[39m \u001b[39m\u001b[39m \u001b[39m\u001b[39m \u001b[39m\u001b[39m \u001b[39m\u001b[39m \u001b[39m\u001b[39m \u001b[39m\u001b[39m \u001b[39m\u001b[39m \u001b[39m\u001b[39m \u001b[39m\u001b[39m \u001b[39m\u001b[39m \u001b[39m\u001b[39m \u001b[39m\u001b[39m \u001b[39m\u001b[39m \u001b[39m\u001b[39m \u001b[39m\u001b[39m \u001b[39m\u001b[39m \u001b[39m\u001b[39m \u001b[39m\u001b[39m \u001b[39m\u001b[39mo\u001b[39m\u001b[39mo\u001b[39m\u001b[39m \u001b[39m\u001b[39m \u001b[39m\u001b[39mo\u001b[39m\u001b[39mo\u001b[39m\u001b[39mo\u001b[39m\u001b[39m \u001b[39m\u001b[39mo\u001b[39m\u001b[39mo\u001b[39m\u001b[39mo\u001b[39m\u001b[39mo\u001b[39m\u001b[39mo\u001b[39m\u001b[39mo\u001b[39m\u001b[39mo\u001b[39m\u001b[39mo\u001b[39m\u001b[39mo\u001b[39m\u001b[39mo\u001b[39m\u001b[39mo\u001b[39m\u001b[39mo\u001b[39m\u001b[39mo\u001b[39m\u001b[39mo\u001b[39m\u001b[39mo\u001b[39m\u001b[39mo\u001b[39m\u001b[39mo\u001b[39m\u001b[39mo\u001b[39m\u001b[39mo\u001b[39m\u001b[39mo\u001b[39m\u001b[39mo\u001b[39m\u001b[39mo\u001b[39m\u001b[39mo\u001b[39m\u001b[39mo\u001b[39m\u001b[39mo\u001b[39m\u001b[39mo\u001b[39m\u001b[39mo\u001b[39m\u001b[39mo\u001b[39m\u001b[39mo\u001b[39m\u001b[39mo\u001b[39m\u001b[39mo\u001b[39m\u001b[39mo\u001b[39m\u001b[39mo\u001b[39m\u001b[39mo\u001b[39m\u001b[39m \u001b[39m\u001b[39m \u001b[39m\u001b[39mo\u001b[39m\u001b[39m \u001b[39m\u001b[39m \u001b[39m\u001b[39m \u001b[39m\u001b[39m \u001b[39m\u001b[39m \u001b[39m\u001b[39m \u001b[39m\u001b[39m \u001b[39m\u001b[39m \u001b[39m\u001b[39m \u001b[39m\u001b[39m \u001b[39m\u001b[39m \u001b[39m\u001b[39m \u001b[39m\u001b[39m \u001b[39m\u001b[39m \u001b[39m\u001b[39m \u001b[39m\u001b[39m \u001b[39m\u001b[39m \u001b[39m\u001b[39m \u001b[39m\u001b[39m \u001b[39m\u001b[39m \u001b[39m\u001b[39m \u001b[39m\u001b[39m \u001b[39m\u001b[39m \u001b[39m\u001b[39m \u001b[39m\u001b[39m \u001b[39m\u001b[39m \u001b[39m\u001b[39m \u001b[39m\u001b[39m \u001b[39m\u001b[39m \u001b[39m\u001b[39m \u001b[39m\u001b[39m \u001b[39m\u001b[39m \u001b[39m\n",
      "  9| \u001b[39m \u001b[39m\u001b[39m \u001b[39m\u001b[39m \u001b[39m\u001b[39m \u001b[39m\u001b[39m \u001b[39m\u001b[39m \u001b[39m\u001b[39m \u001b[39m\u001b[39m \u001b[39m\u001b[39m \u001b[39m\u001b[39m \u001b[39m\u001b[39m \u001b[39m\u001b[39m \u001b[39m\u001b[39m \u001b[39m\u001b[39m \u001b[39m\u001b[39m \u001b[39m\u001b[39m \u001b[39m\u001b[39m \u001b[39m\u001b[39m \u001b[39m\u001b[39m \u001b[39m\u001b[39m \u001b[39m\u001b[39m \u001b[39m\u001b[39m \u001b[39m\u001b[39mo\u001b[39m\u001b[39mo\u001b[39m\u001b[39mo\u001b[39m\u001b[39m \u001b[39m\u001b[39m \u001b[39m\u001b[39mo\u001b[39m\u001b[39mo\u001b[39m\u001b[39mo\u001b[39m\u001b[39mo\u001b[39m\u001b[39mo\u001b[39m\u001b[39mo\u001b[39m\u001b[39mo\u001b[39m\u001b[39mo\u001b[39m\u001b[39mo\u001b[39m\u001b[39mo\u001b[39m\u001b[39mo\u001b[39m\u001b[39mo\u001b[39m\u001b[39mo\u001b[39m\u001b[39mo\u001b[39m\u001b[39mo\u001b[39m\u001b[39mo\u001b[39m\u001b[39mo\u001b[39m\u001b[39mo\u001b[39m\u001b[39mo\u001b[39m\u001b[39mo\u001b[39m\u001b[39mo\u001b[39m\u001b[39mo\u001b[39m\u001b[39mo\u001b[39m\u001b[39mo\u001b[39m\u001b[39mo\u001b[39m\u001b[39mo\u001b[39m\u001b[39mo\u001b[39m\u001b[39mo\u001b[39m\u001b[39mo\u001b[39m\u001b[39mo\u001b[39m\u001b[39mo\u001b[39m\u001b[39mo\u001b[39m\u001b[39mo\u001b[39m\u001b[39mo\u001b[39m\u001b[39mo\u001b[39m\u001b[39mo\u001b[39m\u001b[39mo\u001b[39m\u001b[39mo\u001b[39m\u001b[39mo\u001b[39m\u001b[39mo\u001b[39m\u001b[39mo\u001b[39m\u001b[39m \u001b[39m\u001b[39m \u001b[39m\u001b[39m \u001b[39m\u001b[39m \u001b[39m\u001b[39m \u001b[39m\u001b[39m \u001b[39m\u001b[39m \u001b[39m\u001b[39m \u001b[39m\u001b[39m \u001b[39m\u001b[39m \u001b[39m\u001b[39m \u001b[39m\u001b[39m \u001b[39m\u001b[39m \u001b[39m\u001b[39m \u001b[39m\u001b[39m \u001b[39m\u001b[39m \u001b[39m\u001b[39m \u001b[39m\u001b[39m \u001b[39m\u001b[39m \u001b[39m\u001b[39m \u001b[39m\u001b[39m \u001b[39m\u001b[39m \u001b[39m\u001b[39m \u001b[39m\u001b[39m \u001b[39m\u001b[39m \u001b[39m\u001b[39m \u001b[39m\u001b[39m \u001b[39m\u001b[39m \u001b[39m\u001b[39m \u001b[39m\u001b[39m \u001b[39m\u001b[39m \u001b[39m\u001b[39m \u001b[39m\n",
      "  7| \u001b[39m \u001b[39m\u001b[39m \u001b[39m\u001b[39m \u001b[39m\u001b[39m \u001b[39m\u001b[39m \u001b[39m\u001b[39m \u001b[39m\u001b[39m \u001b[39m\u001b[39m \u001b[39m\u001b[39m \u001b[39m\u001b[39m \u001b[39m\u001b[39m \u001b[39m\u001b[39m \u001b[39m\u001b[39m \u001b[39m\u001b[39m \u001b[39m\u001b[39mo\u001b[39m\u001b[39m \u001b[39m\u001b[39m \u001b[39m\u001b[39m \u001b[39m\u001b[39m \u001b[39m\u001b[39m \u001b[39m\u001b[39mo\u001b[39m\u001b[39mo\u001b[39m\u001b[39mo\u001b[39m\u001b[39mo\u001b[39m\u001b[39mo\u001b[39m\u001b[39mo\u001b[39m\u001b[39m \u001b[39m\u001b[39mo\u001b[39m\u001b[39mo\u001b[39m\u001b[39mo\u001b[39m\u001b[39mo\u001b[39m\u001b[39mo\u001b[39m\u001b[39mo\u001b[39m\u001b[39mo\u001b[39m\u001b[39mo\u001b[39m\u001b[39mo\u001b[39m\u001b[39mo\u001b[39m\u001b[39mo\u001b[39m\u001b[39mo\u001b[39m\u001b[39mo\u001b[39m\u001b[39mo\u001b[39m\u001b[39mo\u001b[39m\u001b[39mo\u001b[39m\u001b[39mo\u001b[39m\u001b[39mo\u001b[39m\u001b[39mo\u001b[39m\u001b[39mo\u001b[39m\u001b[39mo\u001b[39m\u001b[39mo\u001b[39m\u001b[39mo\u001b[39m\u001b[39mo\u001b[39m\u001b[39mo\u001b[39m\u001b[39mo\u001b[39m\u001b[39mo\u001b[39m\u001b[39mo\u001b[39m\u001b[39mo\u001b[39m\u001b[39mo\u001b[39m\u001b[39mo\u001b[39m\u001b[39mo\u001b[39m\u001b[39mo\u001b[39m\u001b[39mo\u001b[39m\u001b[39mo\u001b[39m\u001b[39mo\u001b[39m\u001b[39mo\u001b[39m\u001b[39mo\u001b[39m\u001b[39mo\u001b[39m\u001b[39mo\u001b[39m\u001b[39mo\u001b[39m\u001b[39mo\u001b[39m\u001b[39mo\u001b[39m\u001b[39m \u001b[39m\u001b[39mo\u001b[39m\u001b[39m \u001b[39m\u001b[39m \u001b[39m\u001b[39mo\u001b[39m\u001b[39m \u001b[39m\u001b[39mo\u001b[39m\u001b[39m \u001b[39m\u001b[39m \u001b[39m\u001b[39m \u001b[39m\u001b[39m \u001b[39m\u001b[39m \u001b[39m\u001b[39m \u001b[39m\u001b[39m \u001b[39m\u001b[39m \u001b[39m\u001b[39m \u001b[39m\u001b[39m \u001b[39m\u001b[39m \u001b[39m\u001b[39m \u001b[39m\u001b[39m \u001b[39m\u001b[39m \u001b[39m\u001b[39m \u001b[39m\u001b[39m \u001b[39m\u001b[39m \u001b[39m\u001b[39m \u001b[39m\u001b[39m \u001b[39m\u001b[39m \u001b[39m\u001b[39m \u001b[39m\u001b[39m \u001b[39m\u001b[39m \u001b[39m\n",
      "  5| \u001b[39m \u001b[39m\u001b[39m \u001b[39m\u001b[39m \u001b[39m\u001b[39m \u001b[39m\u001b[39m \u001b[39m\u001b[39m \u001b[39m\u001b[39m \u001b[39m\u001b[39m \u001b[39m\u001b[39m \u001b[39m\u001b[39m \u001b[39m\u001b[39m \u001b[39m\u001b[39mo\u001b[39m\u001b[39m \u001b[39m\u001b[39m \u001b[39m\u001b[39mo\u001b[39m\u001b[39mo\u001b[39m\u001b[39m \u001b[39m\u001b[39mo\u001b[39m\u001b[39mo\u001b[39m\u001b[39mo\u001b[39m\u001b[39mo\u001b[39m\u001b[39mo\u001b[39m\u001b[39mo\u001b[39m\u001b[39mo\u001b[39m\u001b[39mo\u001b[39m\u001b[39mo\u001b[39m\u001b[39mo\u001b[39m\u001b[39mo\u001b[39m\u001b[39mo\u001b[39m\u001b[39mo\u001b[39m\u001b[39mo\u001b[39m\u001b[39mo\u001b[39m\u001b[39mo\u001b[39m\u001b[39mo\u001b[39m\u001b[39mo\u001b[39m\u001b[39mo\u001b[39m\u001b[39mo\u001b[39m\u001b[39mo\u001b[39m\u001b[39mo\u001b[39m\u001b[39mo\u001b[39m\u001b[39mo\u001b[39m\u001b[39mo\u001b[39m\u001b[39mo\u001b[39m\u001b[39mo\u001b[39m\u001b[39mo\u001b[39m\u001b[39mo\u001b[39m\u001b[39mo\u001b[39m\u001b[39mo\u001b[39m\u001b[39mo\u001b[39m\u001b[39mo\u001b[39m\u001b[39mo\u001b[39m\u001b[39mo\u001b[39m\u001b[39mo\u001b[39m\u001b[39mo\u001b[39m\u001b[39mo\u001b[39m\u001b[39mo\u001b[39m\u001b[39mo\u001b[39m\u001b[39mo\u001b[39m\u001b[39mo\u001b[39m\u001b[39mo\u001b[39m\u001b[39mo\u001b[39m\u001b[39mo\u001b[39m\u001b[39mo\u001b[39m\u001b[39mo\u001b[39m\u001b[39mo\u001b[39m\u001b[39mo\u001b[39m\u001b[39mo\u001b[39m\u001b[39mo\u001b[39m\u001b[39mo\u001b[39m\u001b[39mo\u001b[39m\u001b[39mo\u001b[39m\u001b[39mo\u001b[39m\u001b[39m \u001b[39m\u001b[39mo\u001b[39m\u001b[39mo\u001b[39m\u001b[39m \u001b[39m\u001b[39mo\u001b[39m\u001b[39m \u001b[39m\u001b[39m \u001b[39m\u001b[39m \u001b[39m\u001b[39m \u001b[39m\u001b[39m \u001b[39m\u001b[39m \u001b[39m\u001b[39m \u001b[39m\u001b[39m \u001b[39m\u001b[39m \u001b[39m\u001b[39m \u001b[39m\u001b[39m \u001b[39m\u001b[39m \u001b[39m\u001b[39m \u001b[39m\u001b[39m \u001b[39m\u001b[39m \u001b[39m\u001b[39m \u001b[39m\u001b[39m \u001b[39m\u001b[39m \u001b[39m\u001b[39m \u001b[39m\u001b[39m \u001b[39m\u001b[39m \u001b[39m\u001b[39m \u001b[39m\u001b[39m \u001b[39m\n",
      "  3| \u001b[39m \u001b[39m\u001b[39m \u001b[39m\u001b[39m \u001b[39m\u001b[39m \u001b[39m\u001b[39m \u001b[39m\u001b[39mo\u001b[39m\u001b[39mo\u001b[39m\u001b[39m \u001b[39m\u001b[39m \u001b[39m\u001b[39mo\u001b[39m\u001b[39m \u001b[39m\u001b[39mo\u001b[39m\u001b[39m \u001b[39m\u001b[39mo\u001b[39m\u001b[39mo\u001b[39m\u001b[39mo\u001b[39m\u001b[39mo\u001b[39m\u001b[39mo\u001b[39m\u001b[39mo\u001b[39m\u001b[39mo\u001b[39m\u001b[39mo\u001b[39m\u001b[39mo\u001b[39m\u001b[39mo\u001b[39m\u001b[39mo\u001b[39m\u001b[39mo\u001b[39m\u001b[39mo\u001b[39m\u001b[39mo\u001b[39m\u001b[39mo\u001b[39m\u001b[39mo\u001b[39m\u001b[39mo\u001b[39m\u001b[39mo\u001b[39m\u001b[39mo\u001b[39m\u001b[39mo\u001b[39m\u001b[39mo\u001b[39m\u001b[39mo\u001b[39m\u001b[39mo\u001b[39m\u001b[39mo\u001b[39m\u001b[39mo\u001b[39m\u001b[39mo\u001b[39m\u001b[39mo\u001b[39m\u001b[39mo\u001b[39m\u001b[39mo\u001b[39m\u001b[39mo\u001b[39m\u001b[39mo\u001b[39m\u001b[39mo\u001b[39m\u001b[39mo\u001b[39m\u001b[39mo\u001b[39m\u001b[39mo\u001b[39m\u001b[39mo\u001b[39m\u001b[39mo\u001b[39m\u001b[39mo\u001b[39m\u001b[39mo\u001b[39m\u001b[39mo\u001b[39m\u001b[39mo\u001b[39m\u001b[39mo\u001b[39m\u001b[39mo\u001b[39m\u001b[39mo\u001b[39m\u001b[39mo\u001b[39m\u001b[39mo\u001b[39m\u001b[39mo\u001b[39m\u001b[39mo\u001b[39m\u001b[39mo\u001b[39m\u001b[39mo\u001b[39m\u001b[39mo\u001b[39m\u001b[39mo\u001b[39m\u001b[39mo\u001b[39m\u001b[39mo\u001b[39m\u001b[39mo\u001b[39m\u001b[39mo\u001b[39m\u001b[39mo\u001b[39m\u001b[39mo\u001b[39m\u001b[39mo\u001b[39m\u001b[39mo\u001b[39m\u001b[39mo\u001b[39m\u001b[39mo\u001b[39m\u001b[39m \u001b[39m\u001b[39mo\u001b[39m\u001b[39mo\u001b[39m\u001b[39mo\u001b[39m\u001b[39m \u001b[39m\u001b[39m \u001b[39m\u001b[39m \u001b[39m\u001b[39mo\u001b[39m\u001b[39m \u001b[39m\u001b[39m \u001b[39m\u001b[39m \u001b[39m\u001b[39m \u001b[39m\u001b[39m \u001b[39m\u001b[39m \u001b[39m\u001b[39m \u001b[39m\u001b[39m \u001b[39m\u001b[39m \u001b[39m\u001b[39m \u001b[39m\u001b[39m \u001b[39m\u001b[39m \u001b[39m\u001b[39m \u001b[39m\u001b[39m \u001b[39m\u001b[39m \u001b[39m\u001b[39m \u001b[39m\u001b[39m \u001b[39m\n",
      "  1| \u001b[39mo\u001b[39m\u001b[39mo\u001b[39m\u001b[39mo\u001b[39m\u001b[39mo\u001b[39m\u001b[39mo\u001b[39m\u001b[39mo\u001b[39m\u001b[39mo\u001b[39m\u001b[39mo\u001b[39m\u001b[39mo\u001b[39m\u001b[39mo\u001b[39m\u001b[39mo\u001b[39m\u001b[39mo\u001b[39m\u001b[39mo\u001b[39m\u001b[39mo\u001b[39m\u001b[39mo\u001b[39m\u001b[39mo\u001b[39m\u001b[39mo\u001b[39m\u001b[39mo\u001b[39m\u001b[39mo\u001b[39m\u001b[39mo\u001b[39m\u001b[39mo\u001b[39m\u001b[39mo\u001b[39m\u001b[39mo\u001b[39m\u001b[39mo\u001b[39m\u001b[39mo\u001b[39m\u001b[39mo\u001b[39m\u001b[39mo\u001b[39m\u001b[39mo\u001b[39m\u001b[39mo\u001b[39m\u001b[39mo\u001b[39m\u001b[39mo\u001b[39m\u001b[39mo\u001b[39m\u001b[39mo\u001b[39m\u001b[39mo\u001b[39m\u001b[39mo\u001b[39m\u001b[39mo\u001b[39m\u001b[39mo\u001b[39m\u001b[39mo\u001b[39m\u001b[39mo\u001b[39m\u001b[39mo\u001b[39m\u001b[39mo\u001b[39m\u001b[39mo\u001b[39m\u001b[39mo\u001b[39m\u001b[39mo\u001b[39m\u001b[39mo\u001b[39m\u001b[39mo\u001b[39m\u001b[39mo\u001b[39m\u001b[39mo\u001b[39m\u001b[39mo\u001b[39m\u001b[39mo\u001b[39m\u001b[39mo\u001b[39m\u001b[39mo\u001b[39m\u001b[39mo\u001b[39m\u001b[39mo\u001b[39m\u001b[39mo\u001b[39m\u001b[39mo\u001b[39m\u001b[39mo\u001b[39m\u001b[39mo\u001b[39m\u001b[39mo\u001b[39m\u001b[39mo\u001b[39m\u001b[39mo\u001b[39m\u001b[39mo\u001b[39m\u001b[39mo\u001b[39m\u001b[39mo\u001b[39m\u001b[39mo\u001b[39m\u001b[39mo\u001b[39m\u001b[39mo\u001b[39m\u001b[39mo\u001b[39m\u001b[39mo\u001b[39m\u001b[39mo\u001b[39m\u001b[39mo\u001b[39m\u001b[39mo\u001b[39m\u001b[39mo\u001b[39m\u001b[39mo\u001b[39m\u001b[39mo\u001b[39m\u001b[39m \u001b[39m\u001b[39mo\u001b[39m\u001b[39mo\u001b[39m\u001b[39mo\u001b[39m\u001b[39mo\u001b[39m\u001b[39m \u001b[39m\u001b[39mo\u001b[39m\u001b[39mo\u001b[39m\u001b[39mo\u001b[39m\u001b[39m \u001b[39m\u001b[39mo\u001b[39m\u001b[39m \u001b[39m\u001b[39m \u001b[39m\u001b[39m \u001b[39m\u001b[39m \u001b[39m\u001b[39m \u001b[39m\u001b[39m \u001b[39m\u001b[39m \u001b[39m\u001b[39m \u001b[39m\u001b[39m \u001b[39m\u001b[39m \u001b[39m\u001b[39m \u001b[39m\u001b[39m \u001b[39m\u001b[39m \u001b[39m\u001b[39mo\u001b[39m\n",
      "    ----------------------------------------------------------------------------------------------------\n"
     ]
    }
   ],
   "source": [
    "rand_nums = np.random.normal(size=1000, loc=0, scale=1)\n",
    "plot_hist(rand_nums, bincount=100)"
   ]
  },
  {
   "cell_type": "markdown",
   "metadata": {},
   "source": [
    "### 树状图\n",
    "\n",
    "树状图最典型的就是文件结构描述,rich可以通过`Tree`类来实现"
   ]
  },
  {
   "cell_type": "code",
   "execution_count": 23,
   "metadata": {
    "tags": []
   },
   "outputs": [
    {
     "data": {
      "text/html": [
       "<pre style=\"white-space:pre;overflow-x:auto;line-height:normal;font-family:Menlo,'DejaVu Sans Mono',consolas,'Courier New',monospace\">📂 [link file://src\n",
       "<span style=\"color: #0000ff; text-decoration-color: #0000ff\">┣━━ </span><span style=\"color: #800080; text-decoration-color: #800080; font-weight: bold\">📂 </span><a href=\"file://src/cmd\" target=\"_blank\"><span style=\"color: #800080; text-decoration-color: #800080; font-weight: bold\">cmd</span></a>\n",
       "<span style=\"color: #0000ff; text-decoration-color: #0000ff\">┃   ┣━━ </span><span style=\"color: #800080; text-decoration-color: #800080; font-weight: bold\">📂 </span><a href=\"file://src/cmd/doc\" target=\"_blank\"><span style=\"color: #800080; text-decoration-color: #800080; font-weight: bold\">doc</span></a>\n",
       "<span style=\"color: #0000ff; text-decoration-color: #0000ff\">┃   ┃   ┗━━ </span>🐍 <a href=\"file://src/cmd/doc/sqrt_doc.py\" target=\"_blank\"><span style=\"color: #008000; text-decoration-color: #008000\">sqrt_doc</span></a><a href=\"file://src/cmd/doc/sqrt_doc.py\" target=\"_blank\"><span style=\"color: #800000; text-decoration-color: #800000; font-weight: bold\">.py</span></a><span style=\"color: #000080; text-decoration-color: #000080\"> (847 bytes)</span>\n",
       "<span style=\"color: #0000ff; text-decoration-color: #0000ff\">┃   ┗━━ </span><span style=\"color: #800080; text-decoration-color: #800080; font-weight: bold\">📂 </span><a href=\"file://src/cmd/std\" target=\"_blank\"><span style=\"color: #800080; text-decoration-color: #800080; font-weight: bold\">std</span></a>\n",
       "<span style=\"color: #0000ff; text-decoration-color: #0000ff\">┃       ┣━━ </span>🐍 <a href=\"file://src/cmd/std/setup.py\" target=\"_blank\"><span style=\"color: #008000; text-decoration-color: #008000\">setup</span></a><a href=\"file://src/cmd/std/setup.py\" target=\"_blank\"><span style=\"color: #800000; text-decoration-color: #800000; font-weight: bold\">.py</span></a><span style=\"color: #000080; text-decoration-color: #000080\"> (279 bytes)</span>\n",
       "<span style=\"color: #0000ff; text-decoration-color: #0000ff\">┃       ┣━━ </span>🐍 <a href=\"file://src/cmd/std/sqrt_std.py\" target=\"_blank\"><span style=\"color: #008000; text-decoration-color: #008000\">sqrt_std</span></a><a href=\"file://src/cmd/std/sqrt_std.py\" target=\"_blank\"><span style=\"color: #800000; text-decoration-color: #800000; font-weight: bold\">.py</span></a><span style=\"color: #000080; text-decoration-color: #000080\"> (592 bytes)</span>\n",
       "<span style=\"color: #0000ff; text-decoration-color: #0000ff\">┃       ┗━━ </span>🐍 <a href=\"file://src/cmd/std/sqrt_std_gui.py\" target=\"_blank\"><span style=\"color: #008000; text-decoration-color: #008000\">sqrt_std_gui</span></a><a href=\"file://src/cmd/std/sqrt_std_gui.py\" target=\"_blank\"><span style=\"color: #800000; text-decoration-color: #800000; font-weight: bold\">.py</span></a><span style=\"color: #000080; text-decoration-color: #000080\"> (631 bytes)</span>\n",
       "<span style=\"color: #0000ff; text-decoration-color: #0000ff\">┣━━ </span><span style=\"color: #800080; text-decoration-color: #800080; font-weight: bold\">📂 </span><a href=\"file://src/repl\" target=\"_blank\"><span style=\"color: #800080; text-decoration-color: #800080; font-weight: bold\">repl</span></a>\n",
       "<span style=\"color: #0000ff; text-decoration-color: #0000ff\">┃   ┣━━ </span>🐍 <a href=\"file://src/repl/sqlshell.py\" target=\"_blank\"><span style=\"color: #008000; text-decoration-color: #008000\">sqlshell</span></a><a href=\"file://src/repl/sqlshell.py\" target=\"_blank\"><span style=\"color: #800000; text-decoration-color: #800000; font-weight: bold\">.py</span></a><span style=\"color: #000080; text-decoration-color: #000080\"> (3.0 kB)</span>\n",
       "<span style=\"color: #0000ff; text-decoration-color: #0000ff\">┃   ┗━━ </span>🐍 <a href=\"file://src/repl/turtleshell.py\" target=\"_blank\"><span style=\"color: #008000; text-decoration-color: #008000\">turtleshell</span></a><a href=\"file://src/repl/turtleshell.py\" target=\"_blank\"><span style=\"color: #800000; text-decoration-color: #800000; font-weight: bold\">.py</span></a><span style=\"color: #000080; text-decoration-color: #000080\"> (2.6 kB)</span>\n",
       "<span style=\"color: #0000ff; text-decoration-color: #0000ff\">┗━━ </span><span style=\"color: #800080; text-decoration-color: #800080; font-weight: bold\">📂 </span><a href=\"file://src/stdio\" target=\"_blank\"><span style=\"color: #800080; text-decoration-color: #800080; font-weight: bold\">stdio</span></a>\n",
       "<span style=\"color: #0000ff; text-decoration-color: #0000ff\">    ┣━━ </span>🐍 <a href=\"file://src/stdio/helloworld.py\" target=\"_blank\"><span style=\"color: #008000; text-decoration-color: #008000\">helloworld</span></a><a href=\"file://src/stdio/helloworld.py\" target=\"_blank\"><span style=\"color: #800000; text-decoration-color: #800000; font-weight: bold\">.py</span></a><span style=\"color: #000080; text-decoration-color: #000080\"> (119 bytes)</span>\n",
       "<span style=\"color: #0000ff; text-decoration-color: #0000ff\">    ┣━━ </span>🐍 <a href=\"file://src/stdio/helloworld_stdin.py\" target=\"_blank\"><span style=\"color: #008000; text-decoration-color: #008000\">helloworld_stdin</span></a><a href=\"file://src/stdio/helloworld_stdin.py\" target=\"_blank\"><span style=\"color: #800000; text-decoration-color: #800000; font-weight: bold\">.py</span></a><span style=\"color: #000080; text-decoration-color: #000080\"> (284 bytes)</span>\n",
       "<span style=\"color: #0000ff; text-decoration-color: #0000ff\">    ┣━━ </span>🐍 <a href=\"file://src/stdio/helloworld_stdout.py\" target=\"_blank\"><span style=\"color: #008000; text-decoration-color: #008000\">helloworld_stdout</span></a><a href=\"file://src/stdio/helloworld_stdout.py\" target=\"_blank\"><span style=\"color: #800000; text-decoration-color: #800000; font-weight: bold\">.py</span></a><span style=\"color: #000080; text-decoration-color: #000080\"> (140 bytes)</span>\n",
       "<span style=\"color: #0000ff; text-decoration-color: #0000ff\">    ┗━━ </span>🐍 <a href=\"file://src/stdio/imginbash.py\" target=\"_blank\"><span style=\"color: #008000; text-decoration-color: #008000\">imginbash</span></a><a href=\"file://src/stdio/imginbash.py\" target=\"_blank\"><span style=\"color: #800000; text-decoration-color: #800000; font-weight: bold\">.py</span></a><span style=\"color: #000080; text-decoration-color: #000080\"> (803 bytes)</span>\n",
       "</pre>\n"
      ],
      "text/plain": [
       "📂 [link file://src\n",
       "\u001b[94m┣━━ \u001b[0m\u001b[1;35m📂 \u001b[0m\u001b]8;id=912252;file://src/cmd\u001b\\\u001b[1;35mcmd\u001b[0m\u001b]8;;\u001b\\\n",
       "\u001b[94m┃   \u001b[0m\u001b[94m┣━━ \u001b[0m\u001b[1;35m📂 \u001b[0m\u001b]8;id=477332;file://src/cmd/doc\u001b\\\u001b[1;35mdoc\u001b[0m\u001b]8;;\u001b\\\n",
       "\u001b[94m┃   \u001b[0m\u001b[94m┃   \u001b[0m\u001b[94m┗━━ \u001b[0m🐍 \u001b]8;id=682356;file://src/cmd/doc/sqrt_doc.py\u001b\\\u001b[32msqrt_doc\u001b[0m\u001b]8;;\u001b\\\u001b]8;id=275211;file://src/cmd/doc/sqrt_doc.py\u001b\\\u001b[1;31m.py\u001b[0m\u001b]8;;\u001b\\\u001b[34m (847 bytes)\u001b[0m\n",
       "\u001b[94m┃   \u001b[0m\u001b[94m┗━━ \u001b[0m\u001b[1;35m📂 \u001b[0m\u001b]8;id=918338;file://src/cmd/std\u001b\\\u001b[1;35mstd\u001b[0m\u001b]8;;\u001b\\\n",
       "\u001b[94m┃   \u001b[0m\u001b[94m    \u001b[0m\u001b[94m┣━━ \u001b[0m🐍 \u001b]8;id=189135;file://src/cmd/std/setup.py\u001b\\\u001b[32msetup\u001b[0m\u001b]8;;\u001b\\\u001b]8;id=762743;file://src/cmd/std/setup.py\u001b\\\u001b[1;31m.py\u001b[0m\u001b]8;;\u001b\\\u001b[34m (279 bytes)\u001b[0m\n",
       "\u001b[94m┃   \u001b[0m\u001b[94m    \u001b[0m\u001b[94m┣━━ \u001b[0m🐍 \u001b]8;id=881599;file://src/cmd/std/sqrt_std.py\u001b\\\u001b[32msqrt_std\u001b[0m\u001b]8;;\u001b\\\u001b]8;id=360168;file://src/cmd/std/sqrt_std.py\u001b\\\u001b[1;31m.py\u001b[0m\u001b]8;;\u001b\\\u001b[34m (592 bytes)\u001b[0m\n",
       "\u001b[94m┃   \u001b[0m\u001b[94m    \u001b[0m\u001b[94m┗━━ \u001b[0m🐍 \u001b]8;id=562071;file://src/cmd/std/sqrt_std_gui.py\u001b\\\u001b[32msqrt_std_gui\u001b[0m\u001b]8;;\u001b\\\u001b]8;id=504749;file://src/cmd/std/sqrt_std_gui.py\u001b\\\u001b[1;31m.py\u001b[0m\u001b]8;;\u001b\\\u001b[34m (631 bytes)\u001b[0m\n",
       "\u001b[94m┣━━ \u001b[0m\u001b[1;35m📂 \u001b[0m\u001b]8;id=94199;file://src/repl\u001b\\\u001b[1;35mrepl\u001b[0m\u001b]8;;\u001b\\\n",
       "\u001b[94m┃   \u001b[0m\u001b[94m┣━━ \u001b[0m🐍 \u001b]8;id=953343;file://src/repl/sqlshell.py\u001b\\\u001b[32msqlshell\u001b[0m\u001b]8;;\u001b\\\u001b]8;id=578106;file://src/repl/sqlshell.py\u001b\\\u001b[1;31m.py\u001b[0m\u001b]8;;\u001b\\\u001b[34m (3.0 kB)\u001b[0m\n",
       "\u001b[94m┃   \u001b[0m\u001b[94m┗━━ \u001b[0m🐍 \u001b]8;id=365523;file://src/repl/turtleshell.py\u001b\\\u001b[32mturtleshell\u001b[0m\u001b]8;;\u001b\\\u001b]8;id=70379;file://src/repl/turtleshell.py\u001b\\\u001b[1;31m.py\u001b[0m\u001b]8;;\u001b\\\u001b[34m (2.6 kB)\u001b[0m\n",
       "\u001b[94m┗━━ \u001b[0m\u001b[1;35m📂 \u001b[0m\u001b]8;id=842602;file://src/stdio\u001b\\\u001b[1;35mstdio\u001b[0m\u001b]8;;\u001b\\\n",
       "\u001b[94m    \u001b[0m\u001b[94m┣━━ \u001b[0m🐍 \u001b]8;id=719237;file://src/stdio/helloworld.py\u001b\\\u001b[32mhelloworld\u001b[0m\u001b]8;;\u001b\\\u001b]8;id=587680;file://src/stdio/helloworld.py\u001b\\\u001b[1;31m.py\u001b[0m\u001b]8;;\u001b\\\u001b[34m (119 bytes)\u001b[0m\n",
       "\u001b[94m    \u001b[0m\u001b[94m┣━━ \u001b[0m🐍 \u001b]8;id=89670;file://src/stdio/helloworld_stdin.py\u001b\\\u001b[32mhelloworld_stdin\u001b[0m\u001b]8;;\u001b\\\u001b]8;id=349224;file://src/stdio/helloworld_stdin.py\u001b\\\u001b[1;31m.py\u001b[0m\u001b]8;;\u001b\\\u001b[34m (284 bytes)\u001b[0m\n",
       "\u001b[94m    \u001b[0m\u001b[94m┣━━ \u001b[0m🐍 \u001b]8;id=620041;file://src/stdio/helloworld_stdout.py\u001b\\\u001b[32mhelloworld_stdout\u001b[0m\u001b]8;;\u001b\\\u001b]8;id=549992;file://src/stdio/helloworld_stdout.py\u001b\\\u001b[1;31m.py\u001b[0m\u001b]8;;\u001b\\\u001b[34m (140 bytes)\u001b[0m\n",
       "\u001b[94m    \u001b[0m\u001b[94m┗━━ \u001b[0m🐍 \u001b]8;id=452983;file://src/stdio/imginbash.py\u001b\\\u001b[32mimginbash\u001b[0m\u001b]8;;\u001b\\\u001b]8;id=98393;file://src/stdio/imginbash.py\u001b\\\u001b[1;31m.py\u001b[0m\u001b]8;;\u001b\\\u001b[34m (803 bytes)\u001b[0m\n"
      ]
     },
     "metadata": {},
     "output_type": "display_data"
    }
   ],
   "source": [
    "from rich.tree import Tree\n",
    "from rich.filesize import decimal\n",
    "from rich.markup import escape\n",
    "from rich.text import Text\n",
    "from pathlib import Path\n",
    "\n",
    "def walk_directory(directory: Path, tree: Tree) -> None:\n",
    "    \"\"\"Recursively build a Tree with directory contents.\"\"\"\n",
    "    # Sort dirs first then by filename\n",
    "    paths = sorted(Path(directory).iterdir(),\n",
    "        key=lambda path: (path.is_file(), path.name.lower()),\n",
    "    )\n",
    "    for path in paths:\n",
    "        # Remove hidden files\n",
    "        if path.name.startswith(\".\"):\n",
    "            continue\n",
    "        if path.is_dir():\n",
    "            style = \"dim\" if path.name.startswith(\"__\") else \"\"\n",
    "            branch = tree.add(\n",
    "                f\"[bold magenta]:open_file_folder: [link file://{path}]{escape(path.name)}\",\n",
    "                style=style,\n",
    "                guide_style=style,\n",
    "            )\n",
    "            walk_directory(path, branch)\n",
    "        else:\n",
    "            text_filename = Text(path.name, \"green\")\n",
    "            text_filename.highlight_regex(r\"\\..*$\", \"bold red\")\n",
    "            text_filename.stylize(f\"link file://{path}\")\n",
    "            file_size = path.stat().st_size\n",
    "            text_filename.append(f\" ({decimal(file_size)})\", \"blue\")\n",
    "            icon = \"🐍 \" if path.suffix == \".py\" else \"📄 \"\n",
    "            tree.add(Text(icon) + text_filename)\n",
    "tree = Tree(\n",
    "    f\":open_file_folder: [link file://src\",\n",
    "    guide_style=\"bold bright_blue\",\n",
    ")\n",
    "walk_directory(Path(\"src\"), tree)\n",
    "rprint(tree)"
   ]
  },
  {
   "cell_type": "markdown",
   "metadata": {},
   "source": [
    "### 进度条\n",
    "\n",
    "[tqdm](https://pypi.python.org/pypi/tqdm)是一个进度条工具,除了可以给命令行工具增加进度条看出进度外,还可以用于`jupyter-notebook`\n",
    "\n",
    "tqdm模块的tqdm类是这个包的核心,所有功能都是在它上面衍生而来\n",
    "\n",
    "tqdm类可以包装可迭代对象,它的实例化参数有:\n",
    "\n",
    "\n",
    "+ `desc`: str, optional, 放在bar前面的描述字符串\n",
    "+ `total` : int, optional, 显示多长\n",
    "+ `leave`: bool, optional, 结束时时保留进度条的所有痕迹\n",
    "+ `file`: io.TextIOWrapper or io.StringIO, optional, 输出到文件\n",
    "+ `ncols`: int, optional, 自定义宽度\n",
    "+ `mininterval`: float, optional, 更新最短时间\n",
    "+ `maxinterval`: float, optional, 更新最大时间\n",
    "+ `miniters`: int, optional, 每次更新最小值\n",
    "+ `ascii`: bool, optional, 使用ascii碼显示\n",
    "+ `disable`: bool, optional, 是否禁用整个progressbar  \n",
    "+ `unit`: str, optional, 显示的更新单位\n",
    "+ `unit_scale`: bool, optional, 根据单位换算进度\n",
    "+ `dynamic_ncols`: bool, optional, 可以不断梗概ncols的环境\n",
    "+ `smoothing`: float, optional, 用于速度估计的指数移动平均平滑因子(在GUI模式中忽略).范围从0(平均速度)到1(当前/瞬时速度),默认值:0.3\n",
    "+ `bar_format`: str, optional, 指定自定义栏字符串格式. 可能会影响性能\n",
    "+ `initial`: int, optional, 初始计数器值.重新启动进度条时有用,默认值:0\n",
    "+ `position`: int, optional, 指定打印此条的线偏移(从0开始)如果未指定则为自动.用于一次管理多个进度条"
   ]
  },
  {
   "cell_type": "markdown",
   "metadata": {},
   "source": [
    "#### 基础的循环"
   ]
  },
  {
   "cell_type": "code",
   "execution_count": 30,
   "metadata": {},
   "outputs": [
    {
     "name": "stderr",
     "output_type": "stream",
     "text": [
      "test:: 100%|█████████████████████████████████████████████████████████████████████████████████| 9000000/9000000 [00:01<00:00, 4909777.51it/s]\n"
     ]
    }
   ],
   "source": [
    "from tqdm import tqdm\n",
    "for i in tqdm(range(int(9e6)),desc=\"test:\"):\n",
    "    pass"
   ]
  },
  {
   "cell_type": "code",
   "execution_count": 31,
   "metadata": {},
   "outputs": [
    {
     "name": "stderr",
     "output_type": "stream",
     "text": [
      "test: 100%|██████████████████████████████████████████████████████████████████████████████████| 9000000/9000000 [00:01<00:00, 4954143.57it/s]\n"
     ]
    }
   ],
   "source": [
    "for i in tqdm(range(int(9e6)),desc=\"test\",dynamic_ncols=True):\n",
    "    pass"
   ]
  },
  {
   "cell_type": "markdown",
   "metadata": {},
   "source": [
    "#### 使用with语句手工更新"
   ]
  },
  {
   "cell_type": "code",
   "execution_count": 32,
   "metadata": {},
   "outputs": [
    {
     "name": "stderr",
     "output_type": "stream",
     "text": [
      "100%|████████████████████████████████████████████████████████████████████████████████████████████████| 100/100 [00:00<00:00, 1100867.19it/s]\n"
     ]
    }
   ],
   "source": [
    "with tqdm(total=100) as bar:\n",
    "    for i in range(10):\n",
    "        bar.update(10)"
   ]
  },
  {
   "cell_type": "markdown",
   "metadata": {},
   "source": [
    "#### rich中的进度条"
   ]
  },
  {
   "cell_type": "code",
   "execution_count": 13,
   "metadata": {
    "tags": []
   },
   "outputs": [
    {
     "data": {
      "application/vnd.jupyter.widget-view+json": {
       "model_id": "11578970937646a19c998282a25499a9",
       "version_major": 2,
       "version_minor": 0
      },
      "text/plain": [
       "Output()"
      ]
     },
     "metadata": {},
     "output_type": "display_data"
    },
    {
     "data": {
      "text/html": [
       "<pre style=\"white-space:pre;overflow-x:auto;line-height:normal;font-family:Menlo,'DejaVu Sans Mono',consolas,'Courier New',monospace\"></pre>\n"
      ],
      "text/plain": []
     },
     "metadata": {},
     "output_type": "display_data"
    },
    {
     "data": {
      "text/html": [
       "<pre style=\"white-space:pre;overflow-x:auto;line-height:normal;font-family:Menlo,'DejaVu Sans Mono',consolas,'Courier New',monospace\">\n",
       "</pre>\n"
      ],
      "text/plain": [
       "\n"
      ]
     },
     "metadata": {},
     "output_type": "display_data"
    }
   ],
   "source": [
    "from rich.progress import track\n",
    "import time\n",
    "\n",
    "def do_step(x):\n",
    "    time.sleep(0.01)\n",
    "\n",
    "\n",
    "for step in track(range(100)):\n",
    "    do_step(step)"
   ]
  },
  {
   "cell_type": "markdown",
   "metadata": {},
   "source": [
    "除了精度条,rich也提供了状态动画,这对那些不关心具体进度,只关心步骤是否完成的展示需求就比较有用了"
   ]
  },
  {
   "cell_type": "code",
   "execution_count": 14,
   "metadata": {
    "tags": []
   },
   "outputs": [
    {
     "data": {
      "application/vnd.jupyter.widget-view+json": {
       "model_id": "",
       "version_major": 2,
       "version_minor": 0
      },
      "text/plain": [
       "Output()"
      ]
     },
     "metadata": {},
     "output_type": "display_data"
    },
    {
     "data": {
      "text/html": [
       "<pre style=\"white-space:pre;overflow-x:auto;line-height:normal;font-family:Menlo,'DejaVu Sans Mono',consolas,'Courier New',monospace\"><span style=\"color: #7fbfbf; text-decoration-color: #7fbfbf\">[10:34:57] </span>task <span style=\"color: #008080; text-decoration-color: #008080; font-weight: bold\">1</span> complete                                                                         <a href=\"file:///var/folders/j_/p0q1k_mj4cs0dqn0sqnshsrr0000gn/T/ipykernel_832/3174793479.py\" target=\"_blank\"><span style=\"color: #7f7f7f; text-decoration-color: #7f7f7f\">3174793479.py</span></a><span style=\"color: #7f7f7f; text-decoration-color: #7f7f7f\">:</span><a href=\"file:///var/folders/j_/p0q1k_mj4cs0dqn0sqnshsrr0000gn/T/ipykernel_832/3174793479.py#11\" target=\"_blank\"><span style=\"color: #7f7f7f; text-decoration-color: #7f7f7f\">11</span></a>\n",
       "</pre>\n"
      ],
      "text/plain": [
       "\u001b[2;36m[10:34:57]\u001b[0m\u001b[2;36m \u001b[0mtask \u001b[1;36m1\u001b[0m complete                                                                         \u001b]8;id=162555;file:///var/folders/j_/p0q1k_mj4cs0dqn0sqnshsrr0000gn/T/ipykernel_832/3174793479.py\u001b\\\u001b[2m3174793479.py\u001b[0m\u001b]8;;\u001b\\\u001b[2m:\u001b[0m\u001b]8;id=337590;file:///var/folders/j_/p0q1k_mj4cs0dqn0sqnshsrr0000gn/T/ipykernel_832/3174793479.py#11\u001b\\\u001b[2m11\u001b[0m\u001b]8;;\u001b\\\n"
      ]
     },
     "metadata": {},
     "output_type": "display_data"
    },
    {
     "data": {
      "text/html": [
       "<pre style=\"white-space:pre;overflow-x:auto;line-height:normal;font-family:Menlo,'DejaVu Sans Mono',consolas,'Courier New',monospace\"><span style=\"color: #7fbfbf; text-decoration-color: #7fbfbf\">[10:34:58] </span>task <span style=\"color: #008080; text-decoration-color: #008080; font-weight: bold\">2</span> complete                                                                         <a href=\"file:///var/folders/j_/p0q1k_mj4cs0dqn0sqnshsrr0000gn/T/ipykernel_832/3174793479.py\" target=\"_blank\"><span style=\"color: #7f7f7f; text-decoration-color: #7f7f7f\">3174793479.py</span></a><span style=\"color: #7f7f7f; text-decoration-color: #7f7f7f\">:</span><a href=\"file:///var/folders/j_/p0q1k_mj4cs0dqn0sqnshsrr0000gn/T/ipykernel_832/3174793479.py#11\" target=\"_blank\"><span style=\"color: #7f7f7f; text-decoration-color: #7f7f7f\">11</span></a>\n",
       "</pre>\n"
      ],
      "text/plain": [
       "\u001b[2;36m[10:34:58]\u001b[0m\u001b[2;36m \u001b[0mtask \u001b[1;36m2\u001b[0m complete                                                                         \u001b]8;id=354925;file:///var/folders/j_/p0q1k_mj4cs0dqn0sqnshsrr0000gn/T/ipykernel_832/3174793479.py\u001b\\\u001b[2m3174793479.py\u001b[0m\u001b]8;;\u001b\\\u001b[2m:\u001b[0m\u001b]8;id=34400;file:///var/folders/j_/p0q1k_mj4cs0dqn0sqnshsrr0000gn/T/ipykernel_832/3174793479.py#11\u001b\\\u001b[2m11\u001b[0m\u001b]8;;\u001b\\\n"
      ]
     },
     "metadata": {},
     "output_type": "display_data"
    },
    {
     "data": {
      "text/html": [
       "<pre style=\"white-space:pre;overflow-x:auto;line-height:normal;font-family:Menlo,'DejaVu Sans Mono',consolas,'Courier New',monospace\"><span style=\"color: #7fbfbf; text-decoration-color: #7fbfbf\">[10:34:59] </span>task <span style=\"color: #008080; text-decoration-color: #008080; font-weight: bold\">3</span> complete                                                                         <a href=\"file:///var/folders/j_/p0q1k_mj4cs0dqn0sqnshsrr0000gn/T/ipykernel_832/3174793479.py\" target=\"_blank\"><span style=\"color: #7f7f7f; text-decoration-color: #7f7f7f\">3174793479.py</span></a><span style=\"color: #7f7f7f; text-decoration-color: #7f7f7f\">:</span><a href=\"file:///var/folders/j_/p0q1k_mj4cs0dqn0sqnshsrr0000gn/T/ipykernel_832/3174793479.py#11\" target=\"_blank\"><span style=\"color: #7f7f7f; text-decoration-color: #7f7f7f\">11</span></a>\n",
       "</pre>\n"
      ],
      "text/plain": [
       "\u001b[2;36m[10:34:59]\u001b[0m\u001b[2;36m \u001b[0mtask \u001b[1;36m3\u001b[0m complete                                                                         \u001b]8;id=133089;file:///var/folders/j_/p0q1k_mj4cs0dqn0sqnshsrr0000gn/T/ipykernel_832/3174793479.py\u001b\\\u001b[2m3174793479.py\u001b[0m\u001b]8;;\u001b\\\u001b[2m:\u001b[0m\u001b]8;id=796445;file:///var/folders/j_/p0q1k_mj4cs0dqn0sqnshsrr0000gn/T/ipykernel_832/3174793479.py#11\u001b\\\u001b[2m11\u001b[0m\u001b]8;;\u001b\\\n"
      ]
     },
     "metadata": {},
     "output_type": "display_data"
    },
    {
     "data": {
      "text/html": [
       "<pre style=\"white-space:pre;overflow-x:auto;line-height:normal;font-family:Menlo,'DejaVu Sans Mono',consolas,'Courier New',monospace\"><span style=\"color: #7fbfbf; text-decoration-color: #7fbfbf\">[10:35:00] </span>task <span style=\"color: #008080; text-decoration-color: #008080; font-weight: bold\">4</span> complete                                                                         <a href=\"file:///var/folders/j_/p0q1k_mj4cs0dqn0sqnshsrr0000gn/T/ipykernel_832/3174793479.py\" target=\"_blank\"><span style=\"color: #7f7f7f; text-decoration-color: #7f7f7f\">3174793479.py</span></a><span style=\"color: #7f7f7f; text-decoration-color: #7f7f7f\">:</span><a href=\"file:///var/folders/j_/p0q1k_mj4cs0dqn0sqnshsrr0000gn/T/ipykernel_832/3174793479.py#11\" target=\"_blank\"><span style=\"color: #7f7f7f; text-decoration-color: #7f7f7f\">11</span></a>\n",
       "</pre>\n"
      ],
      "text/plain": [
       "\u001b[2;36m[10:35:00]\u001b[0m\u001b[2;36m \u001b[0mtask \u001b[1;36m4\u001b[0m complete                                                                         \u001b]8;id=736721;file:///var/folders/j_/p0q1k_mj4cs0dqn0sqnshsrr0000gn/T/ipykernel_832/3174793479.py\u001b\\\u001b[2m3174793479.py\u001b[0m\u001b]8;;\u001b\\\u001b[2m:\u001b[0m\u001b]8;id=32398;file:///var/folders/j_/p0q1k_mj4cs0dqn0sqnshsrr0000gn/T/ipykernel_832/3174793479.py#11\u001b\\\u001b[2m11\u001b[0m\u001b]8;;\u001b\\\n"
      ]
     },
     "metadata": {},
     "output_type": "display_data"
    },
    {
     "data": {
      "text/html": [
       "<pre style=\"white-space:pre;overflow-x:auto;line-height:normal;font-family:Menlo,'DejaVu Sans Mono',consolas,'Courier New',monospace\"><span style=\"color: #7fbfbf; text-decoration-color: #7fbfbf\">[10:35:01] </span>task <span style=\"color: #008080; text-decoration-color: #008080; font-weight: bold\">5</span> complete                                                                         <a href=\"file:///var/folders/j_/p0q1k_mj4cs0dqn0sqnshsrr0000gn/T/ipykernel_832/3174793479.py\" target=\"_blank\"><span style=\"color: #7f7f7f; text-decoration-color: #7f7f7f\">3174793479.py</span></a><span style=\"color: #7f7f7f; text-decoration-color: #7f7f7f\">:</span><a href=\"file:///var/folders/j_/p0q1k_mj4cs0dqn0sqnshsrr0000gn/T/ipykernel_832/3174793479.py#11\" target=\"_blank\"><span style=\"color: #7f7f7f; text-decoration-color: #7f7f7f\">11</span></a>\n",
       "</pre>\n"
      ],
      "text/plain": [
       "\u001b[2;36m[10:35:01]\u001b[0m\u001b[2;36m \u001b[0mtask \u001b[1;36m5\u001b[0m complete                                                                         \u001b]8;id=50457;file:///var/folders/j_/p0q1k_mj4cs0dqn0sqnshsrr0000gn/T/ipykernel_832/3174793479.py\u001b\\\u001b[2m3174793479.py\u001b[0m\u001b]8;;\u001b\\\u001b[2m:\u001b[0m\u001b]8;id=604598;file:///var/folders/j_/p0q1k_mj4cs0dqn0sqnshsrr0000gn/T/ipykernel_832/3174793479.py#11\u001b\\\u001b[2m11\u001b[0m\u001b]8;;\u001b\\\n"
      ]
     },
     "metadata": {},
     "output_type": "display_data"
    },
    {
     "data": {
      "text/html": [
       "<pre style=\"white-space:pre;overflow-x:auto;line-height:normal;font-family:Menlo,'DejaVu Sans Mono',consolas,'Courier New',monospace\"><span style=\"color: #7fbfbf; text-decoration-color: #7fbfbf\">[10:35:02] </span>task <span style=\"color: #008080; text-decoration-color: #008080; font-weight: bold\">6</span> complete                                                                         <a href=\"file:///var/folders/j_/p0q1k_mj4cs0dqn0sqnshsrr0000gn/T/ipykernel_832/3174793479.py\" target=\"_blank\"><span style=\"color: #7f7f7f; text-decoration-color: #7f7f7f\">3174793479.py</span></a><span style=\"color: #7f7f7f; text-decoration-color: #7f7f7f\">:</span><a href=\"file:///var/folders/j_/p0q1k_mj4cs0dqn0sqnshsrr0000gn/T/ipykernel_832/3174793479.py#11\" target=\"_blank\"><span style=\"color: #7f7f7f; text-decoration-color: #7f7f7f\">11</span></a>\n",
       "</pre>\n"
      ],
      "text/plain": [
       "\u001b[2;36m[10:35:02]\u001b[0m\u001b[2;36m \u001b[0mtask \u001b[1;36m6\u001b[0m complete                                                                         \u001b]8;id=412339;file:///var/folders/j_/p0q1k_mj4cs0dqn0sqnshsrr0000gn/T/ipykernel_832/3174793479.py\u001b\\\u001b[2m3174793479.py\u001b[0m\u001b]8;;\u001b\\\u001b[2m:\u001b[0m\u001b]8;id=421213;file:///var/folders/j_/p0q1k_mj4cs0dqn0sqnshsrr0000gn/T/ipykernel_832/3174793479.py#11\u001b\\\u001b[2m11\u001b[0m\u001b]8;;\u001b\\\n"
      ]
     },
     "metadata": {},
     "output_type": "display_data"
    },
    {
     "data": {
      "text/html": [
       "<pre style=\"white-space:pre;overflow-x:auto;line-height:normal;font-family:Menlo,'DejaVu Sans Mono',consolas,'Courier New',monospace\"><span style=\"color: #7fbfbf; text-decoration-color: #7fbfbf\">[10:35:03] </span>task <span style=\"color: #008080; text-decoration-color: #008080; font-weight: bold\">7</span> complete                                                                         <a href=\"file:///var/folders/j_/p0q1k_mj4cs0dqn0sqnshsrr0000gn/T/ipykernel_832/3174793479.py\" target=\"_blank\"><span style=\"color: #7f7f7f; text-decoration-color: #7f7f7f\">3174793479.py</span></a><span style=\"color: #7f7f7f; text-decoration-color: #7f7f7f\">:</span><a href=\"file:///var/folders/j_/p0q1k_mj4cs0dqn0sqnshsrr0000gn/T/ipykernel_832/3174793479.py#11\" target=\"_blank\"><span style=\"color: #7f7f7f; text-decoration-color: #7f7f7f\">11</span></a>\n",
       "</pre>\n"
      ],
      "text/plain": [
       "\u001b[2;36m[10:35:03]\u001b[0m\u001b[2;36m \u001b[0mtask \u001b[1;36m7\u001b[0m complete                                                                         \u001b]8;id=252363;file:///var/folders/j_/p0q1k_mj4cs0dqn0sqnshsrr0000gn/T/ipykernel_832/3174793479.py\u001b\\\u001b[2m3174793479.py\u001b[0m\u001b]8;;\u001b\\\u001b[2m:\u001b[0m\u001b]8;id=988836;file:///var/folders/j_/p0q1k_mj4cs0dqn0sqnshsrr0000gn/T/ipykernel_832/3174793479.py#11\u001b\\\u001b[2m11\u001b[0m\u001b]8;;\u001b\\\n"
      ]
     },
     "metadata": {},
     "output_type": "display_data"
    },
    {
     "data": {
      "text/html": [
       "<pre style=\"white-space:pre;overflow-x:auto;line-height:normal;font-family:Menlo,'DejaVu Sans Mono',consolas,'Courier New',monospace\"><span style=\"color: #7fbfbf; text-decoration-color: #7fbfbf\">[10:35:04] </span>task <span style=\"color: #008080; text-decoration-color: #008080; font-weight: bold\">8</span> complete                                                                         <a href=\"file:///var/folders/j_/p0q1k_mj4cs0dqn0sqnshsrr0000gn/T/ipykernel_832/3174793479.py\" target=\"_blank\"><span style=\"color: #7f7f7f; text-decoration-color: #7f7f7f\">3174793479.py</span></a><span style=\"color: #7f7f7f; text-decoration-color: #7f7f7f\">:</span><a href=\"file:///var/folders/j_/p0q1k_mj4cs0dqn0sqnshsrr0000gn/T/ipykernel_832/3174793479.py#11\" target=\"_blank\"><span style=\"color: #7f7f7f; text-decoration-color: #7f7f7f\">11</span></a>\n",
       "</pre>\n"
      ],
      "text/plain": [
       "\u001b[2;36m[10:35:04]\u001b[0m\u001b[2;36m \u001b[0mtask \u001b[1;36m8\u001b[0m complete                                                                         \u001b]8;id=955622;file:///var/folders/j_/p0q1k_mj4cs0dqn0sqnshsrr0000gn/T/ipykernel_832/3174793479.py\u001b\\\u001b[2m3174793479.py\u001b[0m\u001b]8;;\u001b\\\u001b[2m:\u001b[0m\u001b]8;id=249653;file:///var/folders/j_/p0q1k_mj4cs0dqn0sqnshsrr0000gn/T/ipykernel_832/3174793479.py#11\u001b\\\u001b[2m11\u001b[0m\u001b]8;;\u001b\\\n"
      ]
     },
     "metadata": {},
     "output_type": "display_data"
    },
    {
     "data": {
      "text/html": [
       "<pre style=\"white-space:pre;overflow-x:auto;line-height:normal;font-family:Menlo,'DejaVu Sans Mono',consolas,'Courier New',monospace\"><span style=\"color: #7fbfbf; text-decoration-color: #7fbfbf\">[10:35:05] </span>task <span style=\"color: #008080; text-decoration-color: #008080; font-weight: bold\">9</span> complete                                                                         <a href=\"file:///var/folders/j_/p0q1k_mj4cs0dqn0sqnshsrr0000gn/T/ipykernel_832/3174793479.py\" target=\"_blank\"><span style=\"color: #7f7f7f; text-decoration-color: #7f7f7f\">3174793479.py</span></a><span style=\"color: #7f7f7f; text-decoration-color: #7f7f7f\">:</span><a href=\"file:///var/folders/j_/p0q1k_mj4cs0dqn0sqnshsrr0000gn/T/ipykernel_832/3174793479.py#11\" target=\"_blank\"><span style=\"color: #7f7f7f; text-decoration-color: #7f7f7f\">11</span></a>\n",
       "</pre>\n"
      ],
      "text/plain": [
       "\u001b[2;36m[10:35:05]\u001b[0m\u001b[2;36m \u001b[0mtask \u001b[1;36m9\u001b[0m complete                                                                         \u001b]8;id=763415;file:///var/folders/j_/p0q1k_mj4cs0dqn0sqnshsrr0000gn/T/ipykernel_832/3174793479.py\u001b\\\u001b[2m3174793479.py\u001b[0m\u001b]8;;\u001b\\\u001b[2m:\u001b[0m\u001b]8;id=746543;file:///var/folders/j_/p0q1k_mj4cs0dqn0sqnshsrr0000gn/T/ipykernel_832/3174793479.py#11\u001b\\\u001b[2m11\u001b[0m\u001b]8;;\u001b\\\n"
      ]
     },
     "metadata": {},
     "output_type": "display_data"
    },
    {
     "data": {
      "text/html": [
       "<pre style=\"white-space:pre;overflow-x:auto;line-height:normal;font-family:Menlo,'DejaVu Sans Mono',consolas,'Courier New',monospace\"><span style=\"color: #7fbfbf; text-decoration-color: #7fbfbf\">[10:35:06] </span>task <span style=\"color: #008080; text-decoration-color: #008080; font-weight: bold\">10</span> complete                                                                        <a href=\"file:///var/folders/j_/p0q1k_mj4cs0dqn0sqnshsrr0000gn/T/ipykernel_832/3174793479.py\" target=\"_blank\"><span style=\"color: #7f7f7f; text-decoration-color: #7f7f7f\">3174793479.py</span></a><span style=\"color: #7f7f7f; text-decoration-color: #7f7f7f\">:</span><a href=\"file:///var/folders/j_/p0q1k_mj4cs0dqn0sqnshsrr0000gn/T/ipykernel_832/3174793479.py#11\" target=\"_blank\"><span style=\"color: #7f7f7f; text-decoration-color: #7f7f7f\">11</span></a>\n",
       "</pre>\n"
      ],
      "text/plain": [
       "\u001b[2;36m[10:35:06]\u001b[0m\u001b[2;36m \u001b[0mtask \u001b[1;36m10\u001b[0m complete                                                                        \u001b]8;id=878248;file:///var/folders/j_/p0q1k_mj4cs0dqn0sqnshsrr0000gn/T/ipykernel_832/3174793479.py\u001b\\\u001b[2m3174793479.py\u001b[0m\u001b]8;;\u001b\\\u001b[2m:\u001b[0m\u001b]8;id=760800;file:///var/folders/j_/p0q1k_mj4cs0dqn0sqnshsrr0000gn/T/ipykernel_832/3174793479.py#11\u001b\\\u001b[2m11\u001b[0m\u001b]8;;\u001b\\\n"
      ]
     },
     "metadata": {},
     "output_type": "display_data"
    },
    {
     "data": {
      "text/html": [
       "<pre style=\"white-space:pre;overflow-x:auto;line-height:normal;font-family:Menlo,'DejaVu Sans Mono',consolas,'Courier New',monospace\"></pre>\n"
      ],
      "text/plain": []
     },
     "metadata": {},
     "output_type": "display_data"
    }
   ],
   "source": [
    "from time import sleep\n",
    "from rich.console import Console\n",
    "\n",
    "console = Console()\n",
    "tasks = [f\"task {n}\" for n in range(1, 11)]\n",
    "\n",
    "with console.status(\"[bold green]Working on tasks...\") as status:\n",
    "    while tasks:\n",
    "        task = tasks.pop(0)\n",
    "        sleep(1)\n",
    "        console.log(f\"{task} complete\")"
   ]
  },
  {
   "cell_type": "markdown",
   "metadata": {},
   "source": [
    "### emoji支持\n",
    "\n",
    "[emoji](https://github.com/carpedm20/emoji)让python可以在命令行中输出表情.emoji表情可以在[这个网页查询到](https://www.webfx.com/tools/emoji-cheat-sheet/)"
   ]
  },
  {
   "cell_type": "code",
   "execution_count": 33,
   "metadata": {},
   "outputs": [],
   "source": [
    "import emoji"
   ]
  },
  {
   "cell_type": "code",
   "execution_count": 39,
   "metadata": {},
   "outputs": [
    {
     "name": "stdout",
     "output_type": "stream",
     "text": [
      "Python is 👍\n"
     ]
    }
   ],
   "source": [
    "print(emoji.emojize('Python is 👍'))"
   ]
  },
  {
   "cell_type": "code",
   "execution_count": 40,
   "metadata": {},
   "outputs": [
    {
     "name": "stdout",
     "output_type": "stream",
     "text": [
      "Python is 👍\n"
     ]
    }
   ],
   "source": [
    "print(emoji.emojize('Python is :thumbs_up:'))"
   ]
  },
  {
   "cell_type": "markdown",
   "metadata": {},
   "source": [
    "#### rich中的emoji\n",
    "\n",
    "rich的print函数可以自动将`:xxxx:`翻译为emoji表情"
   ]
  },
  {
   "cell_type": "code",
   "execution_count": 15,
   "metadata": {
    "tags": []
   },
   "outputs": [
    {
     "data": {
      "text/html": [
       "<pre style=\"white-space:pre;overflow-x:auto;line-height:normal;font-family:Menlo,'DejaVu Sans Mono',consolas,'Courier New',monospace\">😃 🧛 💩 👍 🦝\n",
       "</pre>\n"
      ],
      "text/plain": [
       "😃 🧛 💩 👍 🦝\n"
      ]
     },
     "metadata": {},
     "output_type": "display_data"
    }
   ],
   "source": [
    "rprint(\":smiley: :vampire: :pile_of_poo: :thumbs_up: :raccoon:\")"
   ]
  },
  {
   "cell_type": "markdown",
   "metadata": {},
   "source": [
    "### 带颜色的输出\n",
    "\n",
    "[colorama](https://github.com/tartley/colorama)搭配[termcolor](https://github.com/termcolor/termcolor)让python可以在命令行中输出的文本可以带颜色."
   ]
  },
  {
   "cell_type": "code",
   "execution_count": 43,
   "metadata": {},
   "outputs": [],
   "source": [
    "from termcolor import colored\n",
    "from colorama import init\n",
    "init()"
   ]
  },
  {
   "cell_type": "code",
   "execution_count": 44,
   "metadata": {},
   "outputs": [
    {
     "name": "stdout",
     "output_type": "stream",
     "text": [
      "Hello, World!\n"
     ]
    }
   ],
   "source": [
    "print(colored('Hello, World!', 'green', 'on_red'))"
   ]
  },
  {
   "cell_type": "markdown",
   "metadata": {},
   "source": [
    "####  rich中使用颜色和样式\n",
    "\n",
    "在最初的例子中就已经演示了颜色,rich中通过`[颜色]文本[/颜色]`的形式标注文本的颜色情况([BBCode方式](https://en.wikipedia.org/wiki/BBCode)).\n",
    "\n",
    "支持颜色可以在[这张表](https://rich.readthedocs.io/en/latest/appendix/colors.html#appendix-colors)中查找到,颜色名或rgb都可以使用\n",
    "\n",
    "\n",
    "除了颜色外,其他样式可以使用这种方式,比如\n",
    "\n",
    "+ `[b]`加粗\n",
    "+ `[i]`斜体\n",
    "+ `[u]`下划线\n",
    "+ `[s]`中划线\n"
   ]
  },
  {
   "cell_type": "code",
   "execution_count": 16,
   "metadata": {
    "tags": []
   },
   "outputs": [
    {
     "data": {
      "text/html": [
       "<pre style=\"white-space:pre;overflow-x:auto;line-height:normal;font-family:Menlo,'DejaVu Sans Mono',consolas,'Courier New',monospace\">Where there is a <span style=\"color: #008080; text-decoration-color: #008080; font-weight: bold\">Will</span> there <span style=\"text-decoration: underline\">is</span> a <span style=\"font-style: italic\">way</span>.\n",
       "</pre>\n"
      ],
      "text/plain": [
       "Where there is a \u001b[1;36mWill\u001b[0m there \u001b[4mis\u001b[0m a \u001b[3mway\u001b[0m.\n"
      ]
     },
     "metadata": {},
     "output_type": "display_data"
    }
   ],
   "source": [
    "rprint(\"Where there is a [bold cyan]Will[/bold cyan] there [u]is[/u] a [i]way[/i].\")"
   ]
  },
  {
   "cell_type": "markdown",
   "metadata": {},
   "source": [
    "### 渲染markdown\n",
    "\n",
    "rich支持直接渲染markdown到命令行"
   ]
  },
  {
   "cell_type": "code",
   "execution_count": 18,
   "metadata": {
    "tags": []
   },
   "outputs": [
    {
     "data": {
      "text/html": [
       "<pre style=\"white-space:pre;overflow-x:auto;line-height:normal;font-family:Menlo,'DejaVu Sans Mono',consolas,'Courier New',monospace\">┏━━━━━━━━━━━━━━━━━━━━━━━━━━━━━━━━━━━━━━━━━━━━━━━━━━━━━━━━━━━━━━━━━━━━━━━━━━━━━━━━━━━━━━━━━━━━━━━━━━━━━━━━━━━━━━━━━┓\n",
       "┃                                                   <span style=\"font-weight: bold\">命令行交互</span>                                                    ┃\n",
       "┗━━━━━━━━━━━━━━━━━━━━━━━━━━━━━━━━━━━━━━━━━━━━━━━━━━━━━━━━━━━━━━━━━━━━━━━━━━━━━━━━━━━━━━━━━━━━━━━━━━━━━━━━━━━━━━━━━┛\n",
       "\n",
       "我们肯定希望机器的输入和输出都是人类可以轻易理解的东西,但说起来简单做起来难,人和人沟通都时常有无法相互理解的情况更 \n",
       "况人和机器.在gui诞生之前人机交互的平台就是命令行.使用命令行本身就是一件有门槛的事情,熟练各种命令的人可以行云流水,  \n",
       "但不熟练的人则会一脸懵逼,毕竟你只能通过键盘打字和程序沟通,这看起来很极客但其实还是很枯燥的.                        \n",
       "\n",
       "Python作为一个初始设定就是系统脚本的编程语言,在命令行交互方面优缺点都非常明显:                                     \n",
       "\n",
       "优点:                                                                                                              \n",
       "\n",
       "<span style=\"color: #808000; text-decoration-color: #808000; font-weight: bold\"> • </span>语法灵活,第三方工具多,可以快速实现很多东西.                                                                     \n",
       "<span style=\"color: #808000; text-decoration-color: #808000; font-weight: bold\"> • </span>可以根据需要非常轻易的修改脚本以更新实现                                                                        \n",
       "\n",
       "缺点:                                                                                                              \n",
       "\n",
       "<span style=\"color: #808000; text-decoration-color: #808000; font-weight: bold\"> • </span>依赖解释器,再小的功能也要带一整套python环境以及一堆依赖                                                         \n",
       "<span style=\"color: #808000; text-decoration-color: #808000; font-weight: bold\"> • </span>复杂功能由于依赖树过于复杂可能会很难移植                                                                        \n",
       "\n",
       "因此python的命令行交互通常使用上也会扬长避短:                                                                      \n",
       "\n",
       "<span style=\"color: #808000; text-decoration-color: #808000; font-weight: bold\"> • </span>用于python程序的启动                                                                                            \n",
       "<span style=\"color: #808000; text-decoration-color: #808000; font-weight: bold\"> • </span>用于有比较复杂功能的命令行工具中                                                                                \n",
       "<span style=\"color: #808000; text-decoration-color: #808000; font-weight: bold\"> • </span>用于快速构造或者在需求不明确的时候使用                                                                          \n",
       "\n",
       "在这部分我们会介绍如下几个方面:                                                                                    \n",
       "\n",
       "<span style=\"color: #808000; text-decoration-color: #808000; font-weight: bold\"> 1 </span>标准输入输出                                                                                                    \n",
       "<span style=\"color: #808000; text-decoration-color: #808000; font-weight: bold\"> 2 </span>使用python如何构造一个命令行工具                                                                                \n",
       "<span style=\"color: #808000; text-decoration-color: #808000; font-weight: bold\"> 3 </span>使用python如何构造一个repl                                                                                      \n",
       "</pre>\n"
      ],
      "text/plain": [
       "┏━━━━━━━━━━━━━━━━━━━━━━━━━━━━━━━━━━━━━━━━━━━━━━━━━━━━━━━━━━━━━━━━━━━━━━━━━━━━━━━━━━━━━━━━━━━━━━━━━━━━━━━━━━━━━━━━━┓\n",
       "┃                                                   \u001b[1m命令行交互\u001b[0m                                                    ┃\n",
       "┗━━━━━━━━━━━━━━━━━━━━━━━━━━━━━━━━━━━━━━━━━━━━━━━━━━━━━━━━━━━━━━━━━━━━━━━━━━━━━━━━━━━━━━━━━━━━━━━━━━━━━━━━━━━━━━━━━┛\n",
       "\n",
       "我们肯定希望机器的输入和输出都是人类可以轻易理解的东西,但说起来简单做起来难,人和人沟通都时常有无法相互理解的情况更 \n",
       "况人和机器.在gui诞生之前人机交互的平台就是命令行.使用命令行本身就是一件有门槛的事情,熟练各种命令的人可以行云流水,  \n",
       "但不熟练的人则会一脸懵逼,毕竟你只能通过键盘打字和程序沟通,这看起来很极客但其实还是很枯燥的.                        \n",
       "\n",
       "Python作为一个初始设定就是系统脚本的编程语言,在命令行交互方面优缺点都非常明显:                                     \n",
       "\n",
       "优点:                                                                                                              \n",
       "\n",
       "\u001b[1;33m • \u001b[0m语法灵活,第三方工具多,可以快速实现很多东西.                                                                     \n",
       "\u001b[1;33m • \u001b[0m可以根据需要非常轻易的修改脚本以更新实现                                                                        \n",
       "\n",
       "缺点:                                                                                                              \n",
       "\n",
       "\u001b[1;33m • \u001b[0m依赖解释器,再小的功能也要带一整套python环境以及一堆依赖                                                         \n",
       "\u001b[1;33m • \u001b[0m复杂功能由于依赖树过于复杂可能会很难移植                                                                        \n",
       "\n",
       "因此python的命令行交互通常使用上也会扬长避短:                                                                      \n",
       "\n",
       "\u001b[1;33m • \u001b[0m用于python程序的启动                                                                                            \n",
       "\u001b[1;33m • \u001b[0m用于有比较复杂功能的命令行工具中                                                                                \n",
       "\u001b[1;33m • \u001b[0m用于快速构造或者在需求不明确的时候使用                                                                          \n",
       "\n",
       "在这部分我们会介绍如下几个方面:                                                                                    \n",
       "\n",
       "\u001b[1;33m 1 \u001b[0m标准输入输出                                                                                                    \n",
       "\u001b[1;33m 2 \u001b[0m使用python如何构造一个命令行工具                                                                                \n",
       "\u001b[1;33m 3 \u001b[0m使用python如何构造一个repl                                                                                      \n"
      ]
     },
     "metadata": {},
     "output_type": "display_data"
    }
   ],
   "source": [
    "from rich.markdown import Markdown\n",
    "\n",
    "with open(\"README.md\",\"r\") as f:\n",
    "    m = Markdown(f.read())\n",
    "    \n",
    "rprint(m)"
   ]
  },
  {
   "cell_type": "markdown",
   "metadata": {},
   "source": [
    "### 语法高亮\n",
    "\n",
    "rich也支持语法高亮,内部使用的是`pygments`,支持的语言可以在[这里找到](https://pygments.org/languages/)这对要展示代码的情况很有用"
   ]
  },
  {
   "cell_type": "code",
   "execution_count": 19,
   "metadata": {
    "tags": []
   },
   "outputs": [
    {
     "data": {
      "text/html": [
       "<pre style=\"white-space:pre;overflow-x:auto;line-height:normal;font-family:Menlo,'DejaVu Sans Mono',consolas,'Courier New',monospace\"><span style=\"color: #e3e3dd; text-decoration-color: #e3e3dd; background-color: #272822; font-weight: bold\">  </span><span style=\"color: #656660; text-decoration-color: #656660; background-color: #272822\"> 1 </span><span style=\"background-color: #272822\">                                                                                                              </span>\n",
       "<span style=\"color: #e3e3dd; text-decoration-color: #e3e3dd; background-color: #272822; font-weight: bold\">  </span><span style=\"color: #656660; text-decoration-color: #656660; background-color: #272822\"> 2 </span><span style=\"color: #66d9ef; text-decoration-color: #66d9ef; background-color: #272822\">def</span><span style=\"color: #f8f8f2; text-decoration-color: #f8f8f2; background-color: #272822\"> </span><span style=\"color: #a6e22e; text-decoration-color: #a6e22e; background-color: #272822\">iter_first_last</span><span style=\"color: #f8f8f2; text-decoration-color: #f8f8f2; background-color: #272822\">(values: Iterable[T]) </span><span style=\"color: #f92672; text-decoration-color: #f92672; background-color: #272822\">-&gt;</span><span style=\"color: #f8f8f2; text-decoration-color: #f8f8f2; background-color: #272822\"> Iterable[Tuple[bool, bool, T]]:</span><span style=\"background-color: #272822\">                                   </span>\n",
       "<span style=\"color: #e3e3dd; text-decoration-color: #e3e3dd; background-color: #272822; font-weight: bold\">  </span><span style=\"color: #656660; text-decoration-color: #656660; background-color: #272822\"> 3 </span><span style=\"color: #f8f8f2; text-decoration-color: #f8f8f2; background-color: #272822\">    </span><span style=\"color: #e6db74; text-decoration-color: #e6db74; background-color: #272822\">\"\"\"Iterate and generate a tuple with a flag for first and last value.\"\"\"</span><span style=\"background-color: #272822\">                                  </span>\n",
       "<span style=\"color: #e3e3dd; text-decoration-color: #e3e3dd; background-color: #272822; font-weight: bold\">  </span><span style=\"color: #656660; text-decoration-color: #656660; background-color: #272822\"> 4 </span><span style=\"color: #f8f8f2; text-decoration-color: #f8f8f2; background-color: #272822\">    iter_values </span><span style=\"color: #f92672; text-decoration-color: #f92672; background-color: #272822\">=</span><span style=\"color: #f8f8f2; text-decoration-color: #f8f8f2; background-color: #272822\"> iter(values)</span><span style=\"background-color: #272822\">                                                                                </span>\n",
       "<span style=\"color: #e3e3dd; text-decoration-color: #e3e3dd; background-color: #272822; font-weight: bold\">  </span><span style=\"color: #656660; text-decoration-color: #656660; background-color: #272822\"> 5 </span><span style=\"color: #f8f8f2; text-decoration-color: #f8f8f2; background-color: #272822\">    </span><span style=\"color: #66d9ef; text-decoration-color: #66d9ef; background-color: #272822\">try</span><span style=\"color: #f8f8f2; text-decoration-color: #f8f8f2; background-color: #272822\">:</span><span style=\"background-color: #272822\">                                                                                                      </span>\n",
       "<span style=\"color: #e3e3dd; text-decoration-color: #e3e3dd; background-color: #272822; font-weight: bold\">  </span><span style=\"color: #656660; text-decoration-color: #656660; background-color: #272822\"> 6 </span><span style=\"color: #f8f8f2; text-decoration-color: #f8f8f2; background-color: #272822\">        previous_value </span><span style=\"color: #f92672; text-decoration-color: #f92672; background-color: #272822\">=</span><span style=\"color: #f8f8f2; text-decoration-color: #f8f8f2; background-color: #272822\"> next(iter_values)</span><span style=\"background-color: #272822\">                                                                    </span>\n",
       "<span style=\"color: #e3e3dd; text-decoration-color: #e3e3dd; background-color: #272822; font-weight: bold\">  </span><span style=\"color: #656660; text-decoration-color: #656660; background-color: #272822\"> 7 </span><span style=\"color: #f8f8f2; text-decoration-color: #f8f8f2; background-color: #272822\">    </span><span style=\"color: #66d9ef; text-decoration-color: #66d9ef; background-color: #272822\">except</span><span style=\"color: #f8f8f2; text-decoration-color: #f8f8f2; background-color: #272822\"> </span><span style=\"color: #a6e22e; text-decoration-color: #a6e22e; background-color: #272822\">StopIteration</span><span style=\"color: #f8f8f2; text-decoration-color: #f8f8f2; background-color: #272822\">:</span><span style=\"background-color: #272822\">                                                                                     </span>\n",
       "<span style=\"color: #e3e3dd; text-decoration-color: #e3e3dd; background-color: #272822; font-weight: bold\">  </span><span style=\"color: #656660; text-decoration-color: #656660; background-color: #272822\"> 8 </span><span style=\"color: #f8f8f2; text-decoration-color: #f8f8f2; background-color: #272822\">        </span><span style=\"color: #66d9ef; text-decoration-color: #66d9ef; background-color: #272822\">return</span><span style=\"background-color: #272822\">                                                                                                </span>\n",
       "<span style=\"color: #e3e3dd; text-decoration-color: #e3e3dd; background-color: #272822; font-weight: bold\">  </span><span style=\"color: #656660; text-decoration-color: #656660; background-color: #272822\"> 9 </span><span style=\"color: #f8f8f2; text-decoration-color: #f8f8f2; background-color: #272822\">    first </span><span style=\"color: #f92672; text-decoration-color: #f92672; background-color: #272822\">=</span><span style=\"color: #f8f8f2; text-decoration-color: #f8f8f2; background-color: #272822\"> </span><span style=\"color: #66d9ef; text-decoration-color: #66d9ef; background-color: #272822\">True</span><span style=\"background-color: #272822\">                                                                                              </span>\n",
       "<span style=\"color: #e3e3dd; text-decoration-color: #e3e3dd; background-color: #272822; font-weight: bold\">  </span><span style=\"color: #656660; text-decoration-color: #656660; background-color: #272822\">10 </span><span style=\"color: #f8f8f2; text-decoration-color: #f8f8f2; background-color: #272822\">    </span><span style=\"color: #66d9ef; text-decoration-color: #66d9ef; background-color: #272822\">for</span><span style=\"color: #f8f8f2; text-decoration-color: #f8f8f2; background-color: #272822\"> value </span><span style=\"color: #f92672; text-decoration-color: #f92672; background-color: #272822\">in</span><span style=\"color: #f8f8f2; text-decoration-color: #f8f8f2; background-color: #272822\"> iter_values:</span><span style=\"background-color: #272822\">                                                                                 </span>\n",
       "<span style=\"color: #e3e3dd; text-decoration-color: #e3e3dd; background-color: #272822; font-weight: bold\">  </span><span style=\"color: #656660; text-decoration-color: #656660; background-color: #272822\">11 </span><span style=\"color: #f8f8f2; text-decoration-color: #f8f8f2; background-color: #272822\">        </span><span style=\"color: #66d9ef; text-decoration-color: #66d9ef; background-color: #272822\">yield</span><span style=\"color: #f8f8f2; text-decoration-color: #f8f8f2; background-color: #272822\"> first, </span><span style=\"color: #66d9ef; text-decoration-color: #66d9ef; background-color: #272822\">False</span><span style=\"color: #f8f8f2; text-decoration-color: #f8f8f2; background-color: #272822\">, previous_value</span><span style=\"background-color: #272822\">                                                                    </span>\n",
       "<span style=\"color: #e3e3dd; text-decoration-color: #e3e3dd; background-color: #272822; font-weight: bold\">  </span><span style=\"color: #656660; text-decoration-color: #656660; background-color: #272822\">12 </span><span style=\"color: #f8f8f2; text-decoration-color: #f8f8f2; background-color: #272822\">        first </span><span style=\"color: #f92672; text-decoration-color: #f92672; background-color: #272822\">=</span><span style=\"color: #f8f8f2; text-decoration-color: #f8f8f2; background-color: #272822\"> </span><span style=\"color: #66d9ef; text-decoration-color: #66d9ef; background-color: #272822\">False</span><span style=\"background-color: #272822\">                                                                                         </span>\n",
       "<span style=\"color: #e3e3dd; text-decoration-color: #e3e3dd; background-color: #272822; font-weight: bold\">  </span><span style=\"color: #656660; text-decoration-color: #656660; background-color: #272822\">13 </span><span style=\"color: #f8f8f2; text-decoration-color: #f8f8f2; background-color: #272822\">        previous_value </span><span style=\"color: #f92672; text-decoration-color: #f92672; background-color: #272822\">=</span><span style=\"color: #f8f8f2; text-decoration-color: #f8f8f2; background-color: #272822\"> value</span><span style=\"background-color: #272822\">                                                                                </span>\n",
       "<span style=\"color: #e3e3dd; text-decoration-color: #e3e3dd; background-color: #272822; font-weight: bold\">  </span><span style=\"color: #656660; text-decoration-color: #656660; background-color: #272822\">14 </span><span style=\"color: #f8f8f2; text-decoration-color: #f8f8f2; background-color: #272822\">    </span><span style=\"color: #66d9ef; text-decoration-color: #66d9ef; background-color: #272822\">yield</span><span style=\"color: #f8f8f2; text-decoration-color: #f8f8f2; background-color: #272822\"> first, </span><span style=\"color: #66d9ef; text-decoration-color: #66d9ef; background-color: #272822\">True</span><span style=\"color: #f8f8f2; text-decoration-color: #f8f8f2; background-color: #272822\">, previous_value</span><span style=\"background-color: #272822\">                                                                         </span>\n",
       "<span style=\"color: #e3e3dd; text-decoration-color: #e3e3dd; background-color: #272822; font-weight: bold\">  </span><span style=\"color: #656660; text-decoration-color: #656660; background-color: #272822\">15 </span><span style=\"background-color: #272822\">                                                                                                              </span>\n",
       "</pre>\n"
      ],
      "text/plain": [
       "\u001b[1;38;2;227;227;221;48;2;39;40;34m  \u001b[0m\u001b[38;2;101;102;96;48;2;39;40;34m 1 \u001b[0m\u001b[48;2;39;40;34m                                                                                                              \u001b[0m\n",
       "\u001b[1;38;2;227;227;221;48;2;39;40;34m  \u001b[0m\u001b[38;2;101;102;96;48;2;39;40;34m 2 \u001b[0m\u001b[38;2;102;217;239;48;2;39;40;34mdef\u001b[0m\u001b[38;2;248;248;242;48;2;39;40;34m \u001b[0m\u001b[38;2;166;226;46;48;2;39;40;34miter_first_last\u001b[0m\u001b[38;2;248;248;242;48;2;39;40;34m(\u001b[0m\u001b[38;2;248;248;242;48;2;39;40;34mvalues\u001b[0m\u001b[38;2;248;248;242;48;2;39;40;34m:\u001b[0m\u001b[38;2;248;248;242;48;2;39;40;34m \u001b[0m\u001b[38;2;248;248;242;48;2;39;40;34mIterable\u001b[0m\u001b[38;2;248;248;242;48;2;39;40;34m[\u001b[0m\u001b[38;2;248;248;242;48;2;39;40;34mT\u001b[0m\u001b[38;2;248;248;242;48;2;39;40;34m]\u001b[0m\u001b[38;2;248;248;242;48;2;39;40;34m)\u001b[0m\u001b[38;2;248;248;242;48;2;39;40;34m \u001b[0m\u001b[38;2;249;38;114;48;2;39;40;34m-\u001b[0m\u001b[38;2;249;38;114;48;2;39;40;34m>\u001b[0m\u001b[38;2;248;248;242;48;2;39;40;34m \u001b[0m\u001b[38;2;248;248;242;48;2;39;40;34mIterable\u001b[0m\u001b[38;2;248;248;242;48;2;39;40;34m[\u001b[0m\u001b[38;2;248;248;242;48;2;39;40;34mTuple\u001b[0m\u001b[38;2;248;248;242;48;2;39;40;34m[\u001b[0m\u001b[38;2;248;248;242;48;2;39;40;34mbool\u001b[0m\u001b[38;2;248;248;242;48;2;39;40;34m,\u001b[0m\u001b[38;2;248;248;242;48;2;39;40;34m \u001b[0m\u001b[38;2;248;248;242;48;2;39;40;34mbool\u001b[0m\u001b[38;2;248;248;242;48;2;39;40;34m,\u001b[0m\u001b[38;2;248;248;242;48;2;39;40;34m \u001b[0m\u001b[38;2;248;248;242;48;2;39;40;34mT\u001b[0m\u001b[38;2;248;248;242;48;2;39;40;34m]\u001b[0m\u001b[38;2;248;248;242;48;2;39;40;34m]\u001b[0m\u001b[38;2;248;248;242;48;2;39;40;34m:\u001b[0m\u001b[48;2;39;40;34m                                   \u001b[0m\n",
       "\u001b[1;38;2;227;227;221;48;2;39;40;34m  \u001b[0m\u001b[38;2;101;102;96;48;2;39;40;34m 3 \u001b[0m\u001b[38;2;248;248;242;48;2;39;40;34m    \u001b[0m\u001b[38;2;230;219;116;48;2;39;40;34m\"\"\"Iterate and generate a tuple with a flag for first and last value.\"\"\"\u001b[0m\u001b[48;2;39;40;34m                                  \u001b[0m\n",
       "\u001b[1;38;2;227;227;221;48;2;39;40;34m  \u001b[0m\u001b[38;2;101;102;96;48;2;39;40;34m 4 \u001b[0m\u001b[38;2;248;248;242;48;2;39;40;34m    \u001b[0m\u001b[38;2;248;248;242;48;2;39;40;34miter_values\u001b[0m\u001b[38;2;248;248;242;48;2;39;40;34m \u001b[0m\u001b[38;2;249;38;114;48;2;39;40;34m=\u001b[0m\u001b[38;2;248;248;242;48;2;39;40;34m \u001b[0m\u001b[38;2;248;248;242;48;2;39;40;34miter\u001b[0m\u001b[38;2;248;248;242;48;2;39;40;34m(\u001b[0m\u001b[38;2;248;248;242;48;2;39;40;34mvalues\u001b[0m\u001b[38;2;248;248;242;48;2;39;40;34m)\u001b[0m\u001b[48;2;39;40;34m                                                                                \u001b[0m\n",
       "\u001b[1;38;2;227;227;221;48;2;39;40;34m  \u001b[0m\u001b[38;2;101;102;96;48;2;39;40;34m 5 \u001b[0m\u001b[38;2;248;248;242;48;2;39;40;34m    \u001b[0m\u001b[38;2;102;217;239;48;2;39;40;34mtry\u001b[0m\u001b[38;2;248;248;242;48;2;39;40;34m:\u001b[0m\u001b[48;2;39;40;34m                                                                                                      \u001b[0m\n",
       "\u001b[1;38;2;227;227;221;48;2;39;40;34m  \u001b[0m\u001b[38;2;101;102;96;48;2;39;40;34m 6 \u001b[0m\u001b[38;2;248;248;242;48;2;39;40;34m        \u001b[0m\u001b[38;2;248;248;242;48;2;39;40;34mprevious_value\u001b[0m\u001b[38;2;248;248;242;48;2;39;40;34m \u001b[0m\u001b[38;2;249;38;114;48;2;39;40;34m=\u001b[0m\u001b[38;2;248;248;242;48;2;39;40;34m \u001b[0m\u001b[38;2;248;248;242;48;2;39;40;34mnext\u001b[0m\u001b[38;2;248;248;242;48;2;39;40;34m(\u001b[0m\u001b[38;2;248;248;242;48;2;39;40;34miter_values\u001b[0m\u001b[38;2;248;248;242;48;2;39;40;34m)\u001b[0m\u001b[48;2;39;40;34m                                                                    \u001b[0m\n",
       "\u001b[1;38;2;227;227;221;48;2;39;40;34m  \u001b[0m\u001b[38;2;101;102;96;48;2;39;40;34m 7 \u001b[0m\u001b[38;2;248;248;242;48;2;39;40;34m    \u001b[0m\u001b[38;2;102;217;239;48;2;39;40;34mexcept\u001b[0m\u001b[38;2;248;248;242;48;2;39;40;34m \u001b[0m\u001b[38;2;166;226;46;48;2;39;40;34mStopIteration\u001b[0m\u001b[38;2;248;248;242;48;2;39;40;34m:\u001b[0m\u001b[48;2;39;40;34m                                                                                     \u001b[0m\n",
       "\u001b[1;38;2;227;227;221;48;2;39;40;34m  \u001b[0m\u001b[38;2;101;102;96;48;2;39;40;34m 8 \u001b[0m\u001b[38;2;248;248;242;48;2;39;40;34m        \u001b[0m\u001b[38;2;102;217;239;48;2;39;40;34mreturn\u001b[0m\u001b[48;2;39;40;34m                                                                                                \u001b[0m\n",
       "\u001b[1;38;2;227;227;221;48;2;39;40;34m  \u001b[0m\u001b[38;2;101;102;96;48;2;39;40;34m 9 \u001b[0m\u001b[38;2;248;248;242;48;2;39;40;34m    \u001b[0m\u001b[38;2;248;248;242;48;2;39;40;34mfirst\u001b[0m\u001b[38;2;248;248;242;48;2;39;40;34m \u001b[0m\u001b[38;2;249;38;114;48;2;39;40;34m=\u001b[0m\u001b[38;2;248;248;242;48;2;39;40;34m \u001b[0m\u001b[38;2;102;217;239;48;2;39;40;34mTrue\u001b[0m\u001b[48;2;39;40;34m                                                                                              \u001b[0m\n",
       "\u001b[1;38;2;227;227;221;48;2;39;40;34m  \u001b[0m\u001b[38;2;101;102;96;48;2;39;40;34m10 \u001b[0m\u001b[38;2;248;248;242;48;2;39;40;34m    \u001b[0m\u001b[38;2;102;217;239;48;2;39;40;34mfor\u001b[0m\u001b[38;2;248;248;242;48;2;39;40;34m \u001b[0m\u001b[38;2;248;248;242;48;2;39;40;34mvalue\u001b[0m\u001b[38;2;248;248;242;48;2;39;40;34m \u001b[0m\u001b[38;2;249;38;114;48;2;39;40;34min\u001b[0m\u001b[38;2;248;248;242;48;2;39;40;34m \u001b[0m\u001b[38;2;248;248;242;48;2;39;40;34miter_values\u001b[0m\u001b[38;2;248;248;242;48;2;39;40;34m:\u001b[0m\u001b[48;2;39;40;34m                                                                                 \u001b[0m\n",
       "\u001b[1;38;2;227;227;221;48;2;39;40;34m  \u001b[0m\u001b[38;2;101;102;96;48;2;39;40;34m11 \u001b[0m\u001b[38;2;248;248;242;48;2;39;40;34m        \u001b[0m\u001b[38;2;102;217;239;48;2;39;40;34myield\u001b[0m\u001b[38;2;248;248;242;48;2;39;40;34m \u001b[0m\u001b[38;2;248;248;242;48;2;39;40;34mfirst\u001b[0m\u001b[38;2;248;248;242;48;2;39;40;34m,\u001b[0m\u001b[38;2;248;248;242;48;2;39;40;34m \u001b[0m\u001b[38;2;102;217;239;48;2;39;40;34mFalse\u001b[0m\u001b[38;2;248;248;242;48;2;39;40;34m,\u001b[0m\u001b[38;2;248;248;242;48;2;39;40;34m \u001b[0m\u001b[38;2;248;248;242;48;2;39;40;34mprevious_value\u001b[0m\u001b[48;2;39;40;34m                                                                    \u001b[0m\n",
       "\u001b[1;38;2;227;227;221;48;2;39;40;34m  \u001b[0m\u001b[38;2;101;102;96;48;2;39;40;34m12 \u001b[0m\u001b[38;2;248;248;242;48;2;39;40;34m        \u001b[0m\u001b[38;2;248;248;242;48;2;39;40;34mfirst\u001b[0m\u001b[38;2;248;248;242;48;2;39;40;34m \u001b[0m\u001b[38;2;249;38;114;48;2;39;40;34m=\u001b[0m\u001b[38;2;248;248;242;48;2;39;40;34m \u001b[0m\u001b[38;2;102;217;239;48;2;39;40;34mFalse\u001b[0m\u001b[48;2;39;40;34m                                                                                         \u001b[0m\n",
       "\u001b[1;38;2;227;227;221;48;2;39;40;34m  \u001b[0m\u001b[38;2;101;102;96;48;2;39;40;34m13 \u001b[0m\u001b[38;2;248;248;242;48;2;39;40;34m        \u001b[0m\u001b[38;2;248;248;242;48;2;39;40;34mprevious_value\u001b[0m\u001b[38;2;248;248;242;48;2;39;40;34m \u001b[0m\u001b[38;2;249;38;114;48;2;39;40;34m=\u001b[0m\u001b[38;2;248;248;242;48;2;39;40;34m \u001b[0m\u001b[38;2;248;248;242;48;2;39;40;34mvalue\u001b[0m\u001b[48;2;39;40;34m                                                                                \u001b[0m\n",
       "\u001b[1;38;2;227;227;221;48;2;39;40;34m  \u001b[0m\u001b[38;2;101;102;96;48;2;39;40;34m14 \u001b[0m\u001b[38;2;248;248;242;48;2;39;40;34m    \u001b[0m\u001b[38;2;102;217;239;48;2;39;40;34myield\u001b[0m\u001b[38;2;248;248;242;48;2;39;40;34m \u001b[0m\u001b[38;2;248;248;242;48;2;39;40;34mfirst\u001b[0m\u001b[38;2;248;248;242;48;2;39;40;34m,\u001b[0m\u001b[38;2;248;248;242;48;2;39;40;34m \u001b[0m\u001b[38;2;102;217;239;48;2;39;40;34mTrue\u001b[0m\u001b[38;2;248;248;242;48;2;39;40;34m,\u001b[0m\u001b[38;2;248;248;242;48;2;39;40;34m \u001b[0m\u001b[38;2;248;248;242;48;2;39;40;34mprevious_value\u001b[0m\u001b[48;2;39;40;34m                                                                         \u001b[0m\n",
       "\u001b[1;38;2;227;227;221;48;2;39;40;34m  \u001b[0m\u001b[38;2;101;102;96;48;2;39;40;34m15 \u001b[0m\u001b[48;2;39;40;34m                                                                                                              \u001b[0m\n"
      ]
     },
     "metadata": {},
     "output_type": "display_data"
    }
   ],
   "source": [
    "from rich.syntax import Syntax\n",
    "\n",
    "my_code = '''\n",
    "def iter_first_last(values: Iterable[T]) -> Iterable[Tuple[bool, bool, T]]:\n",
    "    \"\"\"Iterate and generate a tuple with a flag for first and last value.\"\"\"\n",
    "    iter_values = iter(values)\n",
    "    try:\n",
    "        previous_value = next(iter_values)\n",
    "    except StopIteration:\n",
    "        return\n",
    "    first = True\n",
    "    for value in iter_values:\n",
    "        yield first, False, previous_value\n",
    "        first = False\n",
    "        previous_value = value\n",
    "    yield first, True, previous_value\n",
    "'''\n",
    "syntax = Syntax(my_code, \"python\", theme=\"monokai\", line_numbers=True)\n",
    "\n",
    "rprint(syntax)"
   ]
  },
  {
   "cell_type": "markdown",
   "metadata": {},
   "source": [
    "### 输出艺术字\n",
    "\n",
    "[art](https://github.com/sepandhaghighi/art)可以让python输出艺术字,颜文字(可以在[这里查看](http://1lineart.kulaone.com/#/))等一些稀奇古怪的东西,也可以增加标准输出结果的趣味性.\n",
    "\n",
    "不过很遗憾这个的艺术字仅限英文."
   ]
  },
  {
   "cell_type": "code",
   "execution_count": 9,
   "metadata": {},
   "outputs": [],
   "source": [
    "from art import text2art,art"
   ]
  },
  {
   "cell_type": "code",
   "execution_count": 7,
   "metadata": {},
   "outputs": [
    {
     "name": "stdout",
     "output_type": "stream",
     "text": [
      " ____          _    _                   \n",
      "|  _ \\  _   _ | |_ | |__    ___   _ __  \n",
      "| |_) || | | || __|| '_ \\  / _ \\ | '_ \\ \n",
      "|  __/ | |_| || |_ | | | || (_) || | | |\n",
      "|_|     \\__, | \\__||_| |_| \\___/ |_| |_|\n",
      "        |___/                           \n",
      "\n"
     ]
    }
   ],
   "source": [
    "# 输出艺术字\n",
    "print(text2art(\"Python\"))"
   ]
  },
  {
   "cell_type": "code",
   "execution_count": 10,
   "metadata": {},
   "outputs": [
    {
     "name": "stdout",
     "output_type": "stream",
     "text": [
      " ۜ\\(סּںסּَ` )/ۜ \n"
     ]
    }
   ],
   "source": [
    "# 输出颜文字\n",
    "print(art(\"happy\"))"
   ]
  },
  {
   "cell_type": "markdown",
   "metadata": {},
   "source": [
    "### 输出图片的命令行形式\n",
    "\n",
    "目前并没有哪个库支持将图片转成命令行图标形式,但使用PIL"
   ]
  },
  {
   "cell_type": "code",
   "execution_count": 12,
   "metadata": {},
   "outputs": [
    {
     "name": "stdout",
     "output_type": "stream",
     "text": [
      "Writing src/stdio/imginbash.py\n"
     ]
    }
   ],
   "source": [
    "%%writefile src/stdio/imginbash.py\n",
    "import PIL.Image\n",
    " \n",
    "img_flag = True\n",
    "path = input(\"Enter the path to the image field : \\n\")\n",
    " \n",
    "try:\n",
    "    img = PIL.Image.open(path)\n",
    "    img_flag = True\n",
    "except:\n",
    "    print(path, \"Unable to find image \");\n",
    "\n",
    "width, height = img.size\n",
    "aspect_ratio = height/width\n",
    "new_width = 120\n",
    "new_height = aspect_ratio * new_width * 0.55\n",
    "img = img.resize((new_width, int(new_height)))\n",
    " \n",
    "img = img.convert('L')\n",
    " \n",
    "chars = [\"@\", \"J\", \"D\", \"%\", \"*\", \"P\", \"+\", \"Y\", \"$\", \",\", \".\"]\n",
    " \n",
    "pixels = img.getdata()\n",
    "new_pixels = [chars[pixel//25] for pixel in pixels]\n",
    "new_pixels = ''.join(new_pixels)\n",
    "new_pixels_count = len(new_pixels)\n",
    "ascii_image = [new_pixels[index:index + new_width] for index in range(0, new_pixels_count, new_width)]\n",
    "ascii_image = \"\\n\".join(ascii_image)\n",
    " \n",
    "with open(\"ascii_image.txt\", \"w\") as f:\n",
    "    f.write(ascii_image)"
   ]
  },
  {
   "cell_type": "markdown",
   "metadata": {},
   "source": []
  }
 ],
 "metadata": {
  "kernelspec": {
   "display_name": "Python 3 (ipykernel)",
   "language": "python",
   "name": "python3"
  },
  "language_info": {
   "codemirror_mode": {
    "name": "ipython",
    "version": 3
   },
   "file_extension": ".py",
   "mimetype": "text/x-python",
   "name": "python",
   "nbconvert_exporter": "python",
   "pygments_lexer": "ipython3",
   "version": "3.10.12"
  }
 },
 "nbformat": 4,
 "nbformat_minor": 4
}
